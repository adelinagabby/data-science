{
 "cells": [
  {
   "cell_type": "markdown",
   "id": "f56498e8",
   "metadata": {},
   "source": [
    "# Промышленность — задача проекта"
   ]
  },
  {
   "cell_type": "markdown",
   "id": "7105219f",
   "metadata": {},
   "source": [
    "### Описание проекта\n",
    "На металлургическом комбинате ООО «Так закаляем сталь» сталь обрабатывают в металлическом ковше вместимостью около 100 тонн. Чтобы ковш выдерживал высокие температуры, изнутри его облицовывают огнеупорным кирпичом. Расплавленную сталь заливают в ковш и подогревают до нужной температуры графитовыми электродами. Они установлены в крышке ковша. \n",
    "\n",
    "Из сплава выводится сера (десульфурация), добавлением примесей корректируется химический состав и отбираются пробы. Сталь легируют — изменяют её состав — подавая куски сплава из бункера для сыпучих материалов или проволоку через специальный трайб-аппарат (англ. tribe, «масса»).\n",
    "\n",
    "Перед тем как первый раз ввести легирующие добавки, измеряют температуру стали и производят её химический анализ. Потом температуру на несколько минут повышают, добавляют легирующие материалы и продувают сплав инертным газом. Затем его перемешивают и снова проводят измерения. Такой цикл повторяется до достижения целевого химического состава и оптимальной температуры плавки.\n",
    "\n",
    "Тогда расплавленная сталь отправляется на доводку металла или поступает в машину непрерывной разливки. Оттуда готовый продукт выходит в виде заготовок-слябов (англ. *slab*, «плита»).\n",
    "\n",
    "### Цель проекта\n",
    "Чтобы оптимизировать производственные расходы, металлургический комбинат ООО «Так закаляем сталь» решил уменьшить потребление электроэнергии на этапе обработки стали. Требуется построить модель, которая предскажет температуру стали.\n",
    "\n",
    "### План проекта\n",
    "1. Подготовка данных:\n",
    "   * Импорт необходимых библиотек;\n",
    "   * Чтение файлов и сохранение полученных данных в переменные;\n",
    "   * Получение общей информации о таблицах (head, info, describe);\n",
    "   * Корректировка наименований столбцов (при необходимости);\n",
    "   * Выводы.\n",
    "\n",
    "\n",
    "2. Анализ данных:\n",
    "    * Графическое представление данных из таблиц;\n",
    "    * Проверка данных на аномалии;\n",
    "    * Выводы.\n",
    "\n",
    "\n",
    "3. Предобработка данных:\n",
    "    * Корректировка типов данных (при необходимости);\n",
    "    * Заполнение пропусков / удаление дубликатов (при наличии);\n",
    "    * Выделение признаков и таргета;\n",
    "    * Соединение таблиц;\n",
    "    * Выводы.\n",
    "\n",
    "\n",
    "4. Исследование итоговой таблицы с данными:\n",
    "    * Аналитический анализ;\n",
    "    * Графический анализ;\n",
    "    * Корреляционный анализ;\n",
    "    * Выводы.\n",
    "\n",
    "\n",
    "5. Обучение модели:\n",
    "    * Разделение данных на обучающую и тестовую выборки;\n",
    "    * Масштабирование данных;\n",
    "    * Обучение модели случайного леса с перебором гиперпараметров;\n",
    "    * Обучение модели линейной регрессии;\n",
    "    * Обучение модели градиентного бустинга с перебором гиперпараметров;\n",
    "    * Построение константной модели;\n",
    "    * Выбор лучшей модели;\n",
    "    * Выводы.\n",
    "\n",
    "\n",
    "6. Проверка моделей\n",
    "    * Тестирование лучшей модели на тестовой выборке;\n",
    "    * Если MAE на тестовых данных > 6.8 - доработка модели;\n",
    "    * Анализ важности факторов;\n",
    "    * Выводы.\n",
    "\n",
    "\n",
    "7. Общий вывод\n",
    "\n",
    "\n",
    "### Описание данных\n",
    "Данные состоят из файлов, полученных из разных источников:\n",
    "\n",
    "- `data_arc_new.csv` — данные об электродах;\n",
    "- `data_bulk_new.csv` — данные о подаче сыпучих материалов (объём);\n",
    "- `data_bulk_time_new.csv` *—* данные о подаче сыпучих материалов (время);\n",
    "- `data_gas_new.csv` — данные о продувке сплава газом;\n",
    "- `data_temp_new.csv` — результаты измерения температуры;\n",
    "- `data_wire_new.csv` — данные о проволочных материалах (объём);\n",
    "- `data_wire_time_new.csv` — данные о проволочных материалах (время).\n",
    "\n",
    "Во всех файлах столбец `key` содержит номер партии. В файлах может быть несколько строк с одинаковым значением `key`: они соответствуют разным итерациям обработки.\n"
   ]
  },
  {
   "cell_type": "markdown",
   "id": "d3a25519",
   "metadata": {},
   "source": [
    "## 1. Подготовка данных"
   ]
  },
  {
   "cell_type": "markdown",
   "id": "13c052f0",
   "metadata": {},
   "source": [
    "Загрузим данные."
   ]
  },
  {
   "cell_type": "code",
   "execution_count": 1,
   "id": "6674c9d4",
   "metadata": {},
   "outputs": [],
   "source": [
    "import matplotlib.pyplot as plt\n",
    "import numpy as np\n",
    "import pandas as pd\n",
    "import seaborn as sns\n",
    "\n",
    "from lightgbm import LGBMRegressor\n",
    "from sklearn.dummy import DummyRegressor\n",
    "from sklearn.ensemble import RandomForestRegressor\n",
    "from sklearn.linear_model import LinearRegression\n",
    "from sklearn.metrics import mean_absolute_error\n",
    "from sklearn.model_selection import cross_val_score, train_test_split, GridSearchCV, RandomizedSearchCV, cross_val_score\n",
    "from sklearn.pipeline import Pipeline, make_pipeline\n",
    "from sklearn.preprocessing import StandardScaler\n"
   ]
  },
  {
   "cell_type": "code",
   "execution_count": 2,
   "id": "df076416",
   "metadata": {},
   "outputs": [],
   "source": [
    "try:\n",
    "    data_arc_new = pd.read_csv('/datasets/data_arc_new.csv')\n",
    "    data_bulk_new = pd.read_csv('/datasets/data_bulk_new.csv')\n",
    "    data_bulk_time_new = pd.read_csv('/datasets/data_bulk_time_new.csv')\n",
    "    data_gas_new = pd.read_csv('/datasets/data_gas_new.csv')\n",
    "    data_temp_new = pd.read_csv('/datasets/data_temp_new.csv')\n",
    "    data_wire_new = pd.read_csv('/datasets/data_wire_new.csv')\n",
    "    data_wire_time_new = pd.read_csv('/datasets/data_wire_time_new.csv')\n",
    "except:\n",
    "    data_arc_new = pd.read_csv('https://code.s3.yandex.net/datasets/data_arc_new.csv')\n",
    "    data_bulk_new = pd.read_csv('https://code.s3.yandex.net/datasets/data_bulk_new.csv')\n",
    "    data_bulk_time_new = pd.read_csv('https://code.s3.yandex.net/datasets/data_bulk_time_new.csv')\n",
    "    data_gas_new = pd.read_csv('https://code.s3.yandex.net/datasets/data_gas_new.csv')\n",
    "    data_temp_new = pd.read_csv('https://code.s3.yandex.net/datasets/data_temp_new.csv')\n",
    "    data_wire_new = pd.read_csv('https://code.s3.yandex.net/datasets/data_wire_new.csv')\n",
    "    data_wire_time_new = pd.read_csv('https://code.s3.yandex.net/datasets/data_wire_time_new.csv')"
   ]
  },
  {
   "cell_type": "markdown",
   "id": "80ba48a3",
   "metadata": {},
   "source": [
    "Напишем функцию для вывода информации таблиц."
   ]
  },
  {
   "cell_type": "code",
   "execution_count": 3,
   "id": "2d73f044",
   "metadata": {},
   "outputs": [],
   "source": [
    "def information_output(data):\n",
    "    print(data.head(15))\n",
    "    print()\n",
    "    print('__________________________________________________')\n",
    "    print()\n",
    "    print(data.describe())\n",
    "    print()\n",
    "    print('__________________________________________________')\n",
    "    print()\n",
    "    print(data.info())"
   ]
  },
  {
   "cell_type": "markdown",
   "id": "34634230",
   "metadata": {},
   "source": [
    "Данные об электродах."
   ]
  },
  {
   "cell_type": "code",
   "execution_count": 4,
   "id": "6d19af11",
   "metadata": {},
   "outputs": [
    {
     "name": "stdout",
     "output_type": "stream",
     "text": [
      "    key Начало нагрева дугой  Конец нагрева дугой  Активная мощность  \\\n",
      "0     1  2019-05-03 11:02:14  2019-05-03 11:06:02           0.305130   \n",
      "1     1  2019-05-03 11:07:28  2019-05-03 11:10:33           0.765658   \n",
      "2     1  2019-05-03 11:11:44  2019-05-03 11:14:36           0.580313   \n",
      "3     1  2019-05-03 11:18:14  2019-05-03 11:24:19           0.518496   \n",
      "4     1  2019-05-03 11:26:09  2019-05-03 11:28:37           0.867133   \n",
      "5     2  2019-05-03 11:34:14  2019-05-03 11:36:31           0.381124   \n",
      "6     2  2019-05-03 11:38:50  2019-05-03 11:44:28           0.261665   \n",
      "7     2  2019-05-03 11:46:19  2019-05-03 11:48:25           0.710297   \n",
      "8     2  2019-05-03 11:49:48  2019-05-03 11:53:18           0.786322   \n",
      "9     3  2019-05-03 12:06:54  2019-05-03 12:11:34           1.101678   \n",
      "10    3  2019-05-03 12:13:52  2019-05-03 12:15:56           0.542675   \n",
      "11    3  2019-05-03 12:18:56  2019-05-03 12:20:45           0.774632   \n",
      "12    3  2019-05-03 12:25:43  2019-05-03 12:27:00           1.222963   \n",
      "13    3  2019-05-03 12:31:14  2019-05-03 12:32:19           0.421693   \n",
      "14    4  2019-05-03 12:39:37  2019-05-03 12:43:04           0.642946   \n",
      "\n",
      "    Реактивная мощность  \n",
      "0              0.211253  \n",
      "1              0.477438  \n",
      "2              0.430460  \n",
      "3              0.379979  \n",
      "4              0.643691  \n",
      "5              0.220351  \n",
      "6              0.205527  \n",
      "7              0.484962  \n",
      "8              0.542517  \n",
      "9              0.820856  \n",
      "10             0.474673  \n",
      "11             0.505690  \n",
      "12             0.863676  \n",
      "13             0.272562  \n",
      "14             0.516071  \n",
      "\n",
      "__________________________________________________\n",
      "\n",
      "                key  Активная мощность  Реактивная мощность\n",
      "count  14876.000000       14876.000000         14876.000000\n",
      "mean    1615.220422           0.662752             0.438986\n",
      "std      934.571502           0.258885             5.873485\n",
      "min        1.000000           0.223120          -715.479924\n",
      "25%      806.000000           0.467115             0.337175\n",
      "50%     1617.000000           0.599587             0.441639\n",
      "75%     2429.000000           0.830070             0.608201\n",
      "max     3241.000000           1.463773             1.270284\n",
      "\n",
      "__________________________________________________\n",
      "\n",
      "<class 'pandas.core.frame.DataFrame'>\n",
      "RangeIndex: 14876 entries, 0 to 14875\n",
      "Data columns (total 5 columns):\n",
      " #   Column                Non-Null Count  Dtype  \n",
      "---  ------                --------------  -----  \n",
      " 0   key                   14876 non-null  int64  \n",
      " 1   Начало нагрева дугой  14876 non-null  object \n",
      " 2   Конец нагрева дугой   14876 non-null  object \n",
      " 3   Активная мощность     14876 non-null  float64\n",
      " 4   Реактивная мощность   14876 non-null  float64\n",
      "dtypes: float64(2), int64(1), object(2)\n",
      "memory usage: 581.2+ KB\n",
      "None\n"
     ]
    }
   ],
   "source": [
    "information_output(data_arc_new)"
   ]
  },
  {
   "cell_type": "markdown",
   "id": "92939ac3",
   "metadata": {},
   "source": [
    "Переименуем столбцы в таблице data_arc_new."
   ]
  },
  {
   "cell_type": "code",
   "execution_count": 5,
   "id": "cdace58f",
   "metadata": {},
   "outputs": [],
   "source": [
    "data_arc_new = data_arc_new.rename(columns = {\"Начало нагрева дугой\":\"start_of_arc_heating\",\n",
    "                                              \"Конец нагрева дугой\":\"end_of_arc_heating\",\n",
    "                                              \"Активная мощность\":\"active_power\",\n",
    "                                              \"Реактивная мощность\":\"reactive_power\" })"
   ]
  },
  {
   "cell_type": "markdown",
   "id": "a9464147",
   "metadata": {},
   "source": [
    "Данные о подаче сыпучих материалов (объём)."
   ]
  },
  {
   "cell_type": "code",
   "execution_count": 6,
   "id": "872bec82",
   "metadata": {},
   "outputs": [
    {
     "name": "stdout",
     "output_type": "stream",
     "text": [
      "    key  Bulk 1  Bulk 2  Bulk 3  Bulk 4  Bulk 5  Bulk 6  Bulk 7  Bulk 8  \\\n",
      "0     1     NaN     NaN     NaN    43.0     NaN     NaN     NaN     NaN   \n",
      "1     2     NaN     NaN     NaN    73.0     NaN     NaN     NaN     NaN   \n",
      "2     3     NaN     NaN     NaN    34.0     NaN     NaN     NaN     NaN   \n",
      "3     4     NaN     NaN     NaN    81.0     NaN     NaN     NaN     NaN   \n",
      "4     5     NaN     NaN     NaN    78.0     NaN     NaN     NaN     NaN   \n",
      "5     6     NaN     NaN     NaN   117.0     NaN     NaN     NaN     NaN   \n",
      "6     7     NaN     NaN     NaN   117.0     NaN     NaN     NaN     NaN   \n",
      "7     8     NaN     NaN     NaN    99.0     NaN     NaN     NaN     NaN   \n",
      "8     9     NaN     NaN     NaN   117.0     NaN     NaN     NaN     NaN   \n",
      "9    10     NaN     NaN     NaN     NaN     NaN     NaN     NaN     NaN   \n",
      "10   11     NaN     NaN     NaN    69.0     NaN     NaN     NaN     NaN   \n",
      "11   12    46.0     NaN     NaN    34.0     NaN     NaN     NaN     NaN   \n",
      "12   13     NaN     NaN     NaN     NaN     NaN    72.0     NaN     NaN   \n",
      "13   14     NaN     NaN    71.0     NaN     NaN     NaN     NaN     NaN   \n",
      "14   15     NaN     NaN     NaN     NaN     NaN    77.0     NaN     NaN   \n",
      "\n",
      "    Bulk 9  Bulk 10  Bulk 11  Bulk 12  Bulk 13  Bulk 14  Bulk 15  \n",
      "0      NaN      NaN      NaN    206.0      NaN    150.0    154.0  \n",
      "1      NaN      NaN      NaN    206.0      NaN    149.0    154.0  \n",
      "2      NaN      NaN      NaN    205.0      NaN    152.0    153.0  \n",
      "3      NaN      NaN      NaN    207.0      NaN    153.0    154.0  \n",
      "4      NaN      NaN      NaN    203.0      NaN    151.0    152.0  \n",
      "5      NaN      NaN      NaN    204.0      NaN    201.0    154.0  \n",
      "6      NaN      NaN      NaN    204.0      NaN    152.0    154.0  \n",
      "7      NaN      NaN      NaN    410.0      NaN    252.0    153.0  \n",
      "8      NaN      NaN      NaN    107.0      NaN     99.0    203.0  \n",
      "9      NaN      NaN      NaN    203.0      NaN    102.0    204.0  \n",
      "10     NaN      NaN      NaN    207.0      NaN    101.0    202.0  \n",
      "11     NaN      NaN      NaN    618.0      NaN    406.0    203.0  \n",
      "12     NaN      NaN      NaN    410.0      NaN    151.0    204.0  \n",
      "13     NaN      NaN      NaN    204.0      NaN    152.0    203.0  \n",
      "14     NaN      NaN      NaN      NaN      NaN    251.0    203.0  \n",
      "\n",
      "__________________________________________________\n",
      "\n",
      "               key      Bulk 1      Bulk 2       Bulk 3       Bulk 4  \\\n",
      "count  3129.000000  252.000000   22.000000  1298.000000  1014.000000   \n",
      "mean   1624.383509   39.242063  253.045455   113.879045   104.394477   \n",
      "std     933.337642   18.277654   21.180578    75.483494    48.184126   \n",
      "min       1.000000   10.000000  228.000000     6.000000    12.000000   \n",
      "25%     816.000000   27.000000  242.000000    58.000000    72.000000   \n",
      "50%    1622.000000   31.000000  251.500000    97.500000   102.000000   \n",
      "75%    2431.000000   46.000000  257.750000   152.000000   133.000000   \n",
      "max    3241.000000  185.000000  325.000000   454.000000   281.000000   \n",
      "\n",
      "           Bulk 5      Bulk 6      Bulk 7  Bulk 8      Bulk 9     Bulk 10  \\\n",
      "count   77.000000  576.000000   25.000000     1.0   19.000000  176.000000   \n",
      "mean   107.025974  118.925347  305.600000    49.0   76.315789   83.284091   \n",
      "std     81.790646   72.057776  191.022904     NaN   21.720581   26.060347   \n",
      "min     11.000000   17.000000   47.000000    49.0   63.000000   24.000000   \n",
      "25%     70.000000   69.750000  155.000000    49.0   66.000000   64.000000   \n",
      "50%     86.000000  100.000000  298.000000    49.0   68.000000   86.500000   \n",
      "75%    132.000000  157.000000  406.000000    49.0   70.500000  102.000000   \n",
      "max    603.000000  503.000000  772.000000    49.0  147.000000  159.000000   \n",
      "\n",
      "          Bulk 11      Bulk 12     Bulk 13      Bulk 14      Bulk 15  \n",
      "count  177.000000  2450.000000   18.000000  2806.000000  2248.000000  \n",
      "mean    76.819209   260.471020  181.111111   170.284747   160.513345  \n",
      "std     59.655365   120.649269   46.088009    65.868652    51.765319  \n",
      "min      8.000000    53.000000  151.000000    16.000000     1.000000  \n",
      "25%     25.000000   204.000000  153.250000   119.000000   105.000000  \n",
      "50%     64.000000   208.000000  155.500000   151.000000   160.000000  \n",
      "75%    106.000000   316.000000  203.500000   205.750000   205.000000  \n",
      "max    313.000000  1849.000000  305.000000   636.000000   405.000000  \n",
      "\n",
      "__________________________________________________\n",
      "\n",
      "<class 'pandas.core.frame.DataFrame'>\n",
      "RangeIndex: 3129 entries, 0 to 3128\n",
      "Data columns (total 16 columns):\n",
      " #   Column   Non-Null Count  Dtype  \n",
      "---  ------   --------------  -----  \n",
      " 0   key      3129 non-null   int64  \n",
      " 1   Bulk 1   252 non-null    float64\n",
      " 2   Bulk 2   22 non-null     float64\n",
      " 3   Bulk 3   1298 non-null   float64\n",
      " 4   Bulk 4   1014 non-null   float64\n",
      " 5   Bulk 5   77 non-null     float64\n",
      " 6   Bulk 6   576 non-null    float64\n",
      " 7   Bulk 7   25 non-null     float64\n",
      " 8   Bulk 8   1 non-null      float64\n",
      " 9   Bulk 9   19 non-null     float64\n",
      " 10  Bulk 10  176 non-null    float64\n",
      " 11  Bulk 11  177 non-null    float64\n",
      " 12  Bulk 12  2450 non-null   float64\n",
      " 13  Bulk 13  18 non-null     float64\n",
      " 14  Bulk 14  2806 non-null   float64\n",
      " 15  Bulk 15  2248 non-null   float64\n",
      "dtypes: float64(15), int64(1)\n",
      "memory usage: 391.2 KB\n",
      "None\n"
     ]
    }
   ],
   "source": [
    "information_output(data_bulk_new)"
   ]
  },
  {
   "cell_type": "markdown",
   "id": "23910c63",
   "metadata": {},
   "source": [
    "Переименуем столбцы в таблице data_bulk_new."
   ]
  },
  {
   "cell_type": "code",
   "execution_count": 7,
   "id": "8daaa06b",
   "metadata": {},
   "outputs": [],
   "source": [
    "data_bulk_new = data_bulk_new.rename(columns={ \"Bulk 1\":\"bulk_1\",\n",
    "                           \"Bulk 2\":\"bulk_2\",\n",
    "                           \"Bulk 3\":\"bulk_3\",\n",
    "                           \"Bulk 4\":\"bulk_4\",\n",
    "                           \"Bulk 5\":\"bulk_5\",\n",
    "                           \"Bulk 6\":\"bulk_6\",\n",
    "                           \"Bulk 7\":\"bulk_7\",\n",
    "                           \"Bulk 8\":\"bulk_8\",\n",
    "                           \"Bulk 9\":\"bulk_9\",\n",
    "                           \"Bulk 10\":\"bulk_10\",\n",
    "                           \"Bulk 11\":\"bulk_11\",\n",
    "                           \"Bulk 12\":\"bulk_12\",\n",
    "                           \"Bulk 13\":\"bulk_13\",\n",
    "                           \"Bulk 14\":\"bulk_14\",\n",
    "                           \"Bulk 15\":\"bulk_15\",\n",
    "})"
   ]
  },
  {
   "cell_type": "markdown",
   "id": "46c00b10",
   "metadata": {},
   "source": [
    "Данные о подаче сыпучих материалов (время)."
   ]
  },
  {
   "cell_type": "code",
   "execution_count": 8,
   "id": "e80c447e",
   "metadata": {},
   "outputs": [
    {
     "name": "stdout",
     "output_type": "stream",
     "text": [
      "    key               Bulk 1 Bulk 2               Bulk 3               Bulk 4  \\\n",
      "0     1                  NaN    NaN                  NaN  2019-05-03 11:28:48   \n",
      "1     2                  NaN    NaN                  NaN  2019-05-03 11:36:50   \n",
      "2     3                  NaN    NaN                  NaN  2019-05-03 12:32:39   \n",
      "3     4                  NaN    NaN                  NaN  2019-05-03 12:43:22   \n",
      "4     5                  NaN    NaN                  NaN  2019-05-03 13:30:47   \n",
      "5     6                  NaN    NaN                  NaN  2019-05-03 13:57:27   \n",
      "6     7                  NaN    NaN                  NaN  2019-05-03 14:18:58   \n",
      "7     8                  NaN    NaN                  NaN  2019-05-03 15:17:58   \n",
      "8     9                  NaN    NaN                  NaN  2019-05-03 16:03:08   \n",
      "9    10                  NaN    NaN                  NaN                  NaN   \n",
      "10   11                  NaN    NaN                  NaN  2019-05-03 17:32:23   \n",
      "11   12  2019-05-03 17:42:46    NaN                  NaN  2019-05-03 17:52:57   \n",
      "12   13                  NaN    NaN                  NaN                  NaN   \n",
      "13   14                  NaN    NaN  2019-05-03 20:40:25                  NaN   \n",
      "14   15                  NaN    NaN                  NaN                  NaN   \n",
      "\n",
      "   Bulk 5               Bulk 6 Bulk 7 Bulk 8 Bulk 9 Bulk 10 Bulk 11  \\\n",
      "0     NaN                  NaN    NaN    NaN    NaN     NaN     NaN   \n",
      "1     NaN                  NaN    NaN    NaN    NaN     NaN     NaN   \n",
      "2     NaN                  NaN    NaN    NaN    NaN     NaN     NaN   \n",
      "3     NaN                  NaN    NaN    NaN    NaN     NaN     NaN   \n",
      "4     NaN                  NaN    NaN    NaN    NaN     NaN     NaN   \n",
      "5     NaN                  NaN    NaN    NaN    NaN     NaN     NaN   \n",
      "6     NaN                  NaN    NaN    NaN    NaN     NaN     NaN   \n",
      "7     NaN                  NaN    NaN    NaN    NaN     NaN     NaN   \n",
      "8     NaN                  NaN    NaN    NaN    NaN     NaN     NaN   \n",
      "9     NaN                  NaN    NaN    NaN    NaN     NaN     NaN   \n",
      "10    NaN                  NaN    NaN    NaN    NaN     NaN     NaN   \n",
      "11    NaN                  NaN    NaN    NaN    NaN     NaN     NaN   \n",
      "12    NaN  2019-05-03 19:09:15    NaN    NaN    NaN     NaN     NaN   \n",
      "13    NaN                  NaN    NaN    NaN    NaN     NaN     NaN   \n",
      "14    NaN  2019-05-03 21:36:10    NaN    NaN    NaN     NaN     NaN   \n",
      "\n",
      "                Bulk 12 Bulk 13              Bulk 14              Bulk 15  \n",
      "0   2019-05-03 11:24:31     NaN  2019-05-03 11:14:50  2019-05-03 11:10:43  \n",
      "1   2019-05-03 11:53:30     NaN  2019-05-03 11:48:37  2019-05-03 11:44:39  \n",
      "2   2019-05-03 12:27:13     NaN  2019-05-03 12:21:01  2019-05-03 12:16:16  \n",
      "3   2019-05-03 12:58:00     NaN  2019-05-03 12:51:11  2019-05-03 12:46:36  \n",
      "4   2019-05-03 13:30:47     NaN  2019-05-03 13:34:12  2019-05-03 13:30:47  \n",
      "5   2019-05-03 13:48:52     NaN  2019-05-03 14:09:42  2019-05-03 14:03:15  \n",
      "6   2019-05-03 14:41:26     NaN  2019-05-03 14:30:50  2019-05-03 14:27:16  \n",
      "7   2019-05-03 15:17:58     NaN  2019-05-03 15:13:18  2019-05-03 15:05:33  \n",
      "8   2019-05-03 16:03:08     NaN  2019-05-03 16:00:16  2019-05-03 15:52:39  \n",
      "9   2019-05-03 16:38:11     NaN  2019-05-03 16:34:24  2019-05-03 16:29:56  \n",
      "10  2019-05-03 17:27:28     NaN  2019-05-03 17:19:41  2019-05-03 17:08:13  \n",
      "11  2019-05-03 18:14:54     NaN  2019-05-03 18:09:41  2019-05-03 17:52:57  \n",
      "12  2019-05-03 19:03:59     NaN  2019-05-03 18:59:12  2019-05-03 18:54:17  \n",
      "13  2019-05-03 20:36:47     NaN  2019-05-03 20:33:51  2019-05-03 20:25:29  \n",
      "14                  NaN     NaN  2019-05-03 21:19:15  2019-05-03 21:14:34  \n",
      "\n",
      "__________________________________________________\n",
      "\n",
      "               key\n",
      "count  3129.000000\n",
      "mean   1624.383509\n",
      "std     933.337642\n",
      "min       1.000000\n",
      "25%     816.000000\n",
      "50%    1622.000000\n",
      "75%    2431.000000\n",
      "max    3241.000000\n",
      "\n",
      "__________________________________________________\n",
      "\n",
      "<class 'pandas.core.frame.DataFrame'>\n",
      "RangeIndex: 3129 entries, 0 to 3128\n",
      "Data columns (total 16 columns):\n",
      " #   Column   Non-Null Count  Dtype \n",
      "---  ------   --------------  ----- \n",
      " 0   key      3129 non-null   int64 \n",
      " 1   Bulk 1   252 non-null    object\n",
      " 2   Bulk 2   22 non-null     object\n",
      " 3   Bulk 3   1298 non-null   object\n",
      " 4   Bulk 4   1014 non-null   object\n",
      " 5   Bulk 5   77 non-null     object\n",
      " 6   Bulk 6   576 non-null    object\n",
      " 7   Bulk 7   25 non-null     object\n",
      " 8   Bulk 8   1 non-null      object\n",
      " 9   Bulk 9   19 non-null     object\n",
      " 10  Bulk 10  176 non-null    object\n",
      " 11  Bulk 11  177 non-null    object\n",
      " 12  Bulk 12  2450 non-null   object\n",
      " 13  Bulk 13  18 non-null     object\n",
      " 14  Bulk 14  2806 non-null   object\n",
      " 15  Bulk 15  2248 non-null   object\n",
      "dtypes: int64(1), object(15)\n",
      "memory usage: 391.2+ KB\n",
      "None\n"
     ]
    }
   ],
   "source": [
    "information_output(data_bulk_time_new)"
   ]
  },
  {
   "cell_type": "markdown",
   "id": "ea9011be",
   "metadata": {},
   "source": [
    "Данные о продувке сплава газом."
   ]
  },
  {
   "cell_type": "code",
   "execution_count": 9,
   "id": "7bf9b083",
   "metadata": {},
   "outputs": [
    {
     "name": "stdout",
     "output_type": "stream",
     "text": [
      "    key      Газ 1\n",
      "0     1  29.749986\n",
      "1     2  12.555561\n",
      "2     3  28.554793\n",
      "3     4  18.841219\n",
      "4     5   5.413692\n",
      "5     6  11.273392\n",
      "6     7   9.836267\n",
      "7     8  15.171553\n",
      "8     9   8.216623\n",
      "9    10   6.529891\n",
      "10   11   3.639128\n",
      "11   12  11.026259\n",
      "12   13  11.443643\n",
      "13   14   5.098945\n",
      "14   15  11.085451\n",
      "\n",
      "__________________________________________________\n",
      "\n",
      "               key        Газ 1\n",
      "count  3239.000000  3239.000000\n",
      "mean   1621.861377    11.002062\n",
      "std     935.386334     6.220327\n",
      "min       1.000000     0.008399\n",
      "25%     812.500000     7.043089\n",
      "50%    1622.000000     9.836267\n",
      "75%    2431.500000    13.769915\n",
      "max    3241.000000    77.995040\n",
      "\n",
      "__________________________________________________\n",
      "\n",
      "<class 'pandas.core.frame.DataFrame'>\n",
      "RangeIndex: 3239 entries, 0 to 3238\n",
      "Data columns (total 2 columns):\n",
      " #   Column  Non-Null Count  Dtype  \n",
      "---  ------  --------------  -----  \n",
      " 0   key     3239 non-null   int64  \n",
      " 1   Газ 1   3239 non-null   float64\n",
      "dtypes: float64(1), int64(1)\n",
      "memory usage: 50.7 KB\n",
      "None\n"
     ]
    }
   ],
   "source": [
    "information_output(data_gas_new)"
   ]
  },
  {
   "cell_type": "markdown",
   "id": "c17f7e79",
   "metadata": {},
   "source": [
    "Переименуем столбец в таблице data_gas_new."
   ]
  },
  {
   "cell_type": "code",
   "execution_count": 10,
   "id": "a3ff4690",
   "metadata": {},
   "outputs": [
    {
     "data": {
      "text/html": [
       "<div>\n",
       "<style scoped>\n",
       "    .dataframe tbody tr th:only-of-type {\n",
       "        vertical-align: middle;\n",
       "    }\n",
       "\n",
       "    .dataframe tbody tr th {\n",
       "        vertical-align: top;\n",
       "    }\n",
       "\n",
       "    .dataframe thead th {\n",
       "        text-align: right;\n",
       "    }\n",
       "</style>\n",
       "<table border=\"1\" class=\"dataframe\">\n",
       "  <thead>\n",
       "    <tr style=\"text-align: right;\">\n",
       "      <th></th>\n",
       "      <th>key</th>\n",
       "      <th>gas_volume</th>\n",
       "    </tr>\n",
       "  </thead>\n",
       "  <tbody>\n",
       "    <tr>\n",
       "      <th>0</th>\n",
       "      <td>1</td>\n",
       "      <td>29.749986</td>\n",
       "    </tr>\n",
       "    <tr>\n",
       "      <th>1</th>\n",
       "      <td>2</td>\n",
       "      <td>12.555561</td>\n",
       "    </tr>\n",
       "    <tr>\n",
       "      <th>2</th>\n",
       "      <td>3</td>\n",
       "      <td>28.554793</td>\n",
       "    </tr>\n",
       "    <tr>\n",
       "      <th>3</th>\n",
       "      <td>4</td>\n",
       "      <td>18.841219</td>\n",
       "    </tr>\n",
       "    <tr>\n",
       "      <th>4</th>\n",
       "      <td>5</td>\n",
       "      <td>5.413692</td>\n",
       "    </tr>\n",
       "    <tr>\n",
       "      <th>...</th>\n",
       "      <td>...</td>\n",
       "      <td>...</td>\n",
       "    </tr>\n",
       "    <tr>\n",
       "      <th>3234</th>\n",
       "      <td>3237</td>\n",
       "      <td>5.543905</td>\n",
       "    </tr>\n",
       "    <tr>\n",
       "      <th>3235</th>\n",
       "      <td>3238</td>\n",
       "      <td>6.745669</td>\n",
       "    </tr>\n",
       "    <tr>\n",
       "      <th>3236</th>\n",
       "      <td>3239</td>\n",
       "      <td>16.023518</td>\n",
       "    </tr>\n",
       "    <tr>\n",
       "      <th>3237</th>\n",
       "      <td>3240</td>\n",
       "      <td>11.863103</td>\n",
       "    </tr>\n",
       "    <tr>\n",
       "      <th>3238</th>\n",
       "      <td>3241</td>\n",
       "      <td>12.680959</td>\n",
       "    </tr>\n",
       "  </tbody>\n",
       "</table>\n",
       "<p>3239 rows × 2 columns</p>\n",
       "</div>"
      ],
      "text/plain": [
       "       key  gas_volume\n",
       "0        1   29.749986\n",
       "1        2   12.555561\n",
       "2        3   28.554793\n",
       "3        4   18.841219\n",
       "4        5    5.413692\n",
       "...    ...         ...\n",
       "3234  3237    5.543905\n",
       "3235  3238    6.745669\n",
       "3236  3239   16.023518\n",
       "3237  3240   11.863103\n",
       "3238  3241   12.680959\n",
       "\n",
       "[3239 rows x 2 columns]"
      ]
     },
     "execution_count": 10,
     "metadata": {},
     "output_type": "execute_result"
    }
   ],
   "source": [
    "data_gas_new = data_gas_new.rename(columns={\"Газ 1\": \"gas_volume\"})\n",
    "data_gas_new"
   ]
  },
  {
   "cell_type": "markdown",
   "id": "6ce76470",
   "metadata": {},
   "source": [
    "Результаты измерения температуры."
   ]
  },
  {
   "cell_type": "code",
   "execution_count": 11,
   "id": "cf264e9c",
   "metadata": {},
   "outputs": [
    {
     "name": "stdout",
     "output_type": "stream",
     "text": [
      "    key         Время замера  Температура\n",
      "0     1  2019-05-03 11:02:04       1571.0\n",
      "1     1  2019-05-03 11:07:18       1604.0\n",
      "2     1  2019-05-03 11:11:34       1618.0\n",
      "3     1  2019-05-03 11:18:04       1601.0\n",
      "4     1  2019-05-03 11:25:59       1606.0\n",
      "5     1  2019-05-03 11:30:38       1613.0\n",
      "6     2  2019-05-03 11:34:04       1581.0\n",
      "7     2  2019-05-03 11:38:40       1577.0\n",
      "8     2  2019-05-03 11:46:09       1589.0\n",
      "9     2  2019-05-03 11:49:38       1604.0\n",
      "10    2  2019-05-03 11:55:09       1602.0\n",
      "11    3  2019-05-03 12:06:44       1596.0\n",
      "12    3  2019-05-03 12:13:42       1597.0\n",
      "13    3  2019-05-03 12:18:46       1598.0\n",
      "14    3  2019-05-03 12:25:33       1599.0\n",
      "\n",
      "__________________________________________________\n",
      "\n",
      "                key   Температура\n",
      "count  18092.000000  14665.000000\n",
      "mean    1616.460977   1590.722741\n",
      "std      934.641385     20.394381\n",
      "min        1.000000   1191.000000\n",
      "25%      807.750000   1580.000000\n",
      "50%     1618.000000   1590.000000\n",
      "75%     2429.000000   1599.000000\n",
      "max     3241.000000   1705.000000\n",
      "\n",
      "__________________________________________________\n",
      "\n",
      "<class 'pandas.core.frame.DataFrame'>\n",
      "RangeIndex: 18092 entries, 0 to 18091\n",
      "Data columns (total 3 columns):\n",
      " #   Column        Non-Null Count  Dtype  \n",
      "---  ------        --------------  -----  \n",
      " 0   key           18092 non-null  int64  \n",
      " 1   Время замера  18092 non-null  object \n",
      " 2   Температура   14665 non-null  float64\n",
      "dtypes: float64(1), int64(1), object(1)\n",
      "memory usage: 424.2+ KB\n",
      "None\n"
     ]
    }
   ],
   "source": [
    "information_output(data_temp_new)"
   ]
  },
  {
   "cell_type": "markdown",
   "id": "97a1ef23",
   "metadata": {},
   "source": [
    "Переименуем столбцы в таблице data_gas_new."
   ]
  },
  {
   "cell_type": "code",
   "execution_count": 12,
   "id": "a0a47fba",
   "metadata": {},
   "outputs": [
    {
     "data": {
      "text/html": [
       "<div>\n",
       "<style scoped>\n",
       "    .dataframe tbody tr th:only-of-type {\n",
       "        vertical-align: middle;\n",
       "    }\n",
       "\n",
       "    .dataframe tbody tr th {\n",
       "        vertical-align: top;\n",
       "    }\n",
       "\n",
       "    .dataframe thead th {\n",
       "        text-align: right;\n",
       "    }\n",
       "</style>\n",
       "<table border=\"1\" class=\"dataframe\">\n",
       "  <thead>\n",
       "    <tr style=\"text-align: right;\">\n",
       "      <th></th>\n",
       "      <th>key</th>\n",
       "      <th>measurement_time</th>\n",
       "      <th>temperature</th>\n",
       "    </tr>\n",
       "  </thead>\n",
       "  <tbody>\n",
       "    <tr>\n",
       "      <th>0</th>\n",
       "      <td>1</td>\n",
       "      <td>2019-05-03 11:02:04</td>\n",
       "      <td>1571.0</td>\n",
       "    </tr>\n",
       "    <tr>\n",
       "      <th>1</th>\n",
       "      <td>1</td>\n",
       "      <td>2019-05-03 11:07:18</td>\n",
       "      <td>1604.0</td>\n",
       "    </tr>\n",
       "    <tr>\n",
       "      <th>2</th>\n",
       "      <td>1</td>\n",
       "      <td>2019-05-03 11:11:34</td>\n",
       "      <td>1618.0</td>\n",
       "    </tr>\n",
       "    <tr>\n",
       "      <th>3</th>\n",
       "      <td>1</td>\n",
       "      <td>2019-05-03 11:18:04</td>\n",
       "      <td>1601.0</td>\n",
       "    </tr>\n",
       "    <tr>\n",
       "      <th>4</th>\n",
       "      <td>1</td>\n",
       "      <td>2019-05-03 11:25:59</td>\n",
       "      <td>1606.0</td>\n",
       "    </tr>\n",
       "    <tr>\n",
       "      <th>...</th>\n",
       "      <td>...</td>\n",
       "      <td>...</td>\n",
       "      <td>...</td>\n",
       "    </tr>\n",
       "    <tr>\n",
       "      <th>18087</th>\n",
       "      <td>3241</td>\n",
       "      <td>2019-09-06 16:55:01</td>\n",
       "      <td>NaN</td>\n",
       "    </tr>\n",
       "    <tr>\n",
       "      <th>18088</th>\n",
       "      <td>3241</td>\n",
       "      <td>2019-09-06 17:06:38</td>\n",
       "      <td>NaN</td>\n",
       "    </tr>\n",
       "    <tr>\n",
       "      <th>18089</th>\n",
       "      <td>3241</td>\n",
       "      <td>2019-09-06 17:21:48</td>\n",
       "      <td>NaN</td>\n",
       "    </tr>\n",
       "    <tr>\n",
       "      <th>18090</th>\n",
       "      <td>3241</td>\n",
       "      <td>2019-09-06 17:24:44</td>\n",
       "      <td>NaN</td>\n",
       "    </tr>\n",
       "    <tr>\n",
       "      <th>18091</th>\n",
       "      <td>3241</td>\n",
       "      <td>2019-09-06 17:30:05</td>\n",
       "      <td>NaN</td>\n",
       "    </tr>\n",
       "  </tbody>\n",
       "</table>\n",
       "<p>18092 rows × 3 columns</p>\n",
       "</div>"
      ],
      "text/plain": [
       "        key     measurement_time  temperature\n",
       "0         1  2019-05-03 11:02:04       1571.0\n",
       "1         1  2019-05-03 11:07:18       1604.0\n",
       "2         1  2019-05-03 11:11:34       1618.0\n",
       "3         1  2019-05-03 11:18:04       1601.0\n",
       "4         1  2019-05-03 11:25:59       1606.0\n",
       "...     ...                  ...          ...\n",
       "18087  3241  2019-09-06 16:55:01          NaN\n",
       "18088  3241  2019-09-06 17:06:38          NaN\n",
       "18089  3241  2019-09-06 17:21:48          NaN\n",
       "18090  3241  2019-09-06 17:24:44          NaN\n",
       "18091  3241  2019-09-06 17:30:05          NaN\n",
       "\n",
       "[18092 rows x 3 columns]"
      ]
     },
     "execution_count": 12,
     "metadata": {},
     "output_type": "execute_result"
    }
   ],
   "source": [
    "data_temp_new = data_temp_new.rename(columns={\"Температура\": \"temperature\",\"Время замера\": \"measurement_time\"})\n",
    "data_temp_new"
   ]
  },
  {
   "cell_type": "markdown",
   "id": "b1747692",
   "metadata": {},
   "source": [
    "Данные о проволочных материалах (объём)."
   ]
  },
  {
   "cell_type": "code",
   "execution_count": 13,
   "id": "e0007a91",
   "metadata": {},
   "outputs": [
    {
     "name": "stdout",
     "output_type": "stream",
     "text": [
      "    key      Wire 1     Wire 2  Wire 3  Wire 4  Wire 5  Wire 6  Wire 7  \\\n",
      "0     1   60.059998        NaN     NaN     NaN     NaN     NaN     NaN   \n",
      "1     2   96.052315        NaN     NaN     NaN     NaN     NaN     NaN   \n",
      "2     3   91.160157        NaN     NaN     NaN     NaN     NaN     NaN   \n",
      "3     4   89.063515        NaN     NaN     NaN     NaN     NaN     NaN   \n",
      "4     5   89.238236   9.114560     NaN     NaN     NaN     NaN     NaN   \n",
      "5     6   99.109917   9.114560     NaN     NaN     NaN     NaN     NaN   \n",
      "6     7   98.061600        NaN     NaN     NaN     NaN     NaN     NaN   \n",
      "7     8  155.282394        NaN     NaN     NaN     NaN     NaN     NaN   \n",
      "8     9  113.393279   9.143681     NaN     NaN     NaN     NaN     NaN   \n",
      "9    10   81.244796  12.376000     NaN     NaN     NaN     NaN     NaN   \n",
      "10   11   99.197281        NaN     NaN     NaN     NaN     NaN     NaN   \n",
      "11   12  153.578873        NaN     NaN     NaN     NaN     NaN     NaN   \n",
      "12   13   77.269920  52.416003     NaN     NaN     NaN     NaN     NaN   \n",
      "13   14  120.251038  37.826881     NaN     NaN     NaN     NaN     NaN   \n",
      "14   15   71.285759  52.095680     NaN     NaN     NaN     NaN     NaN   \n",
      "\n",
      "    Wire 8  Wire 9  \n",
      "0      NaN     NaN  \n",
      "1      NaN     NaN  \n",
      "2      NaN     NaN  \n",
      "3      NaN     NaN  \n",
      "4      NaN     NaN  \n",
      "5      NaN     NaN  \n",
      "6      NaN     NaN  \n",
      "7      NaN     NaN  \n",
      "8      NaN     NaN  \n",
      "9      NaN     NaN  \n",
      "10     NaN     NaN  \n",
      "11     NaN     NaN  \n",
      "12     NaN     NaN  \n",
      "13     NaN     NaN  \n",
      "14     NaN     NaN  \n",
      "\n",
      "__________________________________________________\n",
      "\n",
      "               key       Wire 1       Wire 2      Wire 3      Wire 4  Wire 5  \\\n",
      "count  3081.000000  3055.000000  1079.000000   63.000000   14.000000   1.000   \n",
      "mean   1623.426485   100.895853    50.577323  189.482681   57.442841  15.132   \n",
      "std     932.996726    42.012518    39.320216   99.513444   28.824667     NaN   \n",
      "min       1.000000     1.918800     0.030160    0.144144   24.148801  15.132   \n",
      "25%     823.000000    72.115684    20.193680   95.135044   40.807002  15.132   \n",
      "50%    1619.000000   100.158234    40.142956  235.194977   45.234282  15.132   \n",
      "75%    2434.000000   126.060483    70.227558  276.252014   76.124619  15.132   \n",
      "max    3241.000000   330.314424   282.780152  385.008668  113.231044  15.132   \n",
      "\n",
      "           Wire 6     Wire 7      Wire 8     Wire 9  \n",
      "count   73.000000  11.000000   19.000000  29.000000  \n",
      "mean    48.016974  10.039007   53.625193  34.155752  \n",
      "std     33.919845   8.610584   16.881728  19.931616  \n",
      "min      0.034320   0.234208   45.076721   4.622800  \n",
      "25%     25.053600   6.762756   46.094879  22.058401  \n",
      "50%     42.076324   9.017009   46.279999  30.066399  \n",
      "75%     64.212723  11.886057   48.089603  43.862003  \n",
      "max    180.454575  32.847674  102.762401  90.053604  \n",
      "\n",
      "__________________________________________________\n",
      "\n",
      "<class 'pandas.core.frame.DataFrame'>\n",
      "RangeIndex: 3081 entries, 0 to 3080\n",
      "Data columns (total 10 columns):\n",
      " #   Column  Non-Null Count  Dtype  \n",
      "---  ------  --------------  -----  \n",
      " 0   key     3081 non-null   int64  \n",
      " 1   Wire 1  3055 non-null   float64\n",
      " 2   Wire 2  1079 non-null   float64\n",
      " 3   Wire 3  63 non-null     float64\n",
      " 4   Wire 4  14 non-null     float64\n",
      " 5   Wire 5  1 non-null      float64\n",
      " 6   Wire 6  73 non-null     float64\n",
      " 7   Wire 7  11 non-null     float64\n",
      " 8   Wire 8  19 non-null     float64\n",
      " 9   Wire 9  29 non-null     float64\n",
      "dtypes: float64(9), int64(1)\n",
      "memory usage: 240.8 KB\n",
      "None\n"
     ]
    }
   ],
   "source": [
    "information_output(data_wire_new)"
   ]
  },
  {
   "cell_type": "markdown",
   "id": "14fa4c42",
   "metadata": {},
   "source": [
    "Переименуем столбцы в таблице data_wire_new."
   ]
  },
  {
   "cell_type": "code",
   "execution_count": 14,
   "id": "73e5a931",
   "metadata": {},
   "outputs": [],
   "source": [
    "data_wire_new = data_wire_new.rename(columns={\n",
    "                           \"Wire 1\":\"wire_1\",\n",
    "                           \"Wire 2\":\"wire_2\",\n",
    "                           \"Wire 3\":\"wire_3\",\n",
    "                           \"Wire 4\":\"wire_4\",\n",
    "                           \"Wire 5\":\"wire_5\",\n",
    "                           \"Wire 6\":\"wire_6\",\n",
    "                           \"Wire 7\":\"wire_7\",\n",
    "                           \"Wire 8\":\"wire_8\",\n",
    "                           \"Wire 9\":\"wire_9\"})"
   ]
  },
  {
   "cell_type": "markdown",
   "id": "29493cbb",
   "metadata": {},
   "source": [
    "Данные о проволочных материалах (время)."
   ]
  },
  {
   "cell_type": "code",
   "execution_count": 15,
   "id": "98408dfc",
   "metadata": {},
   "outputs": [
    {
     "name": "stdout",
     "output_type": "stream",
     "text": [
      "    key               Wire 1               Wire 2 Wire 3 Wire 4 Wire 5 Wire 6  \\\n",
      "0     1  2019-05-03 11:06:19                  NaN    NaN    NaN    NaN    NaN   \n",
      "1     2  2019-05-03 11:36:50                  NaN    NaN    NaN    NaN    NaN   \n",
      "2     3  2019-05-03 12:11:46                  NaN    NaN    NaN    NaN    NaN   \n",
      "3     4  2019-05-03 12:43:22                  NaN    NaN    NaN    NaN    NaN   \n",
      "4     5  2019-05-03 13:20:44  2019-05-03 13:15:34    NaN    NaN    NaN    NaN   \n",
      "5     6  2019-05-03 13:57:27  2019-05-03 13:48:52    NaN    NaN    NaN    NaN   \n",
      "6     7  2019-05-03 14:18:58                  NaN    NaN    NaN    NaN    NaN   \n",
      "7     8  2019-05-03 15:01:30                  NaN    NaN    NaN    NaN    NaN   \n",
      "8     9  2019-05-03 15:45:44  2019-05-03 15:39:37    NaN    NaN    NaN    NaN   \n",
      "9    10  2019-05-03 16:27:00  2019-05-03 16:22:36    NaN    NaN    NaN    NaN   \n",
      "10   11  2019-05-03 16:55:14                  NaN    NaN    NaN    NaN    NaN   \n",
      "11   12  2019-05-03 17:42:46                  NaN    NaN    NaN    NaN    NaN   \n",
      "12   13  2019-05-03 18:48:32  2019-05-03 18:40:57    NaN    NaN    NaN    NaN   \n",
      "13   14  2019-05-03 20:13:48  2019-05-03 20:02:42    NaN    NaN    NaN    NaN   \n",
      "14   15  2019-05-03 21:07:19  2019-05-03 21:00:19    NaN    NaN    NaN    NaN   \n",
      "\n",
      "   Wire 7 Wire 8 Wire 9  \n",
      "0     NaN    NaN    NaN  \n",
      "1     NaN    NaN    NaN  \n",
      "2     NaN    NaN    NaN  \n",
      "3     NaN    NaN    NaN  \n",
      "4     NaN    NaN    NaN  \n",
      "5     NaN    NaN    NaN  \n",
      "6     NaN    NaN    NaN  \n",
      "7     NaN    NaN    NaN  \n",
      "8     NaN    NaN    NaN  \n",
      "9     NaN    NaN    NaN  \n",
      "10    NaN    NaN    NaN  \n",
      "11    NaN    NaN    NaN  \n",
      "12    NaN    NaN    NaN  \n",
      "13    NaN    NaN    NaN  \n",
      "14    NaN    NaN    NaN  \n",
      "\n",
      "__________________________________________________\n",
      "\n",
      "               key\n",
      "count  3081.000000\n",
      "mean   1623.426485\n",
      "std     932.996726\n",
      "min       1.000000\n",
      "25%     823.000000\n",
      "50%    1619.000000\n",
      "75%    2434.000000\n",
      "max    3241.000000\n",
      "\n",
      "__________________________________________________\n",
      "\n",
      "<class 'pandas.core.frame.DataFrame'>\n",
      "RangeIndex: 3081 entries, 0 to 3080\n",
      "Data columns (total 10 columns):\n",
      " #   Column  Non-Null Count  Dtype \n",
      "---  ------  --------------  ----- \n",
      " 0   key     3081 non-null   int64 \n",
      " 1   Wire 1  3055 non-null   object\n",
      " 2   Wire 2  1079 non-null   object\n",
      " 3   Wire 3  63 non-null     object\n",
      " 4   Wire 4  14 non-null     object\n",
      " 5   Wire 5  1 non-null      object\n",
      " 6   Wire 6  73 non-null     object\n",
      " 7   Wire 7  11 non-null     object\n",
      " 8   Wire 8  19 non-null     object\n",
      " 9   Wire 9  29 non-null     object\n",
      "dtypes: int64(1), object(9)\n",
      "memory usage: 240.8+ KB\n",
      "None\n"
     ]
    }
   ],
   "source": [
    "information_output(data_wire_time_new)"
   ]
  },
  {
   "cell_type": "markdown",
   "id": "f159dafe",
   "metadata": {},
   "source": [
    "**Вывод:**\n",
    "\n",
    "На данном этапе подготовке данных было выполнено:\n",
    "* Импорт необходимых библиотек;\n",
    "* Чтение файлов и сохранение полученных данных в переменные;\n",
    "* Получение общей информации о таблицах (head, info, describe);\n",
    "* Корректировка наименований столбцов."
   ]
  },
  {
   "cell_type": "markdown",
   "id": "7128b796",
   "metadata": {},
   "source": [
    "## 2. Анализ данных"
   ]
  },
  {
   "cell_type": "markdown",
   "id": "6bc0c25f",
   "metadata": {},
   "source": [
    "Построим гистограммы для таблицы data_arc_new."
   ]
  },
  {
   "cell_type": "code",
   "execution_count": 16,
   "id": "c2fa1983",
   "metadata": {},
   "outputs": [
    {
     "data": {
      "image/png": "[encoded data removed]",
      "text/plain": [
       "<Figure size 720x360 with 2 Axes>"
      ]
     },
     "metadata": {
      "needs_background": "light"
     },
     "output_type": "display_data"
    }
   ],
   "source": [
    "data_arc_new.drop(['key'], axis = 1).hist(bins = 50, figsize=(10,5));"
   ]
  },
  {
   "cell_type": "markdown",
   "id": "5e9d278d",
   "metadata": {},
   "source": [
    "Анализ таблицы data_arc_new показал, что в столбце \"reactive_power\" наблюдаются отрицательные значения, что является аномалией."
   ]
  },
  {
   "cell_type": "code",
   "execution_count": 17,
   "id": "9ca0a9ce",
   "metadata": {},
   "outputs": [
    {
     "data": {
      "image/png": "[encoded data removed]",
      "text/plain": [
       "<Figure size 720x360 with 1 Axes>"
      ]
     },
     "metadata": {
      "needs_background": "light"
     },
     "output_type": "display_data"
    }
   ],
   "source": [
    "data_arc_new[\"reactive_power\"].hist(bins = 100, figsize=(10,5),range = (0,5));"
   ]
  },
  {
   "cell_type": "markdown",
   "id": "8fe0728d",
   "metadata": {},
   "source": [
    "Построим гистограммы для каждого материала таблицы data_bulk_new."
   ]
  },
  {
   "cell_type": "code",
   "execution_count": 18,
   "id": "8223d03a",
   "metadata": {
    "scrolled": false
   },
   "outputs": [
    {
     "data": {
      "image/png": "[encoded data removed]",
      "text/plain": [
       "<Figure size 1080x1080 with 16 Axes>"
      ]
     },
     "metadata": {
      "needs_background": "light"
     },
     "output_type": "display_data"
    }
   ],
   "source": [
    "data_bulk_new.drop(['key'], axis = 1).hist(bins = 100, figsize=(15,15));"
   ]
  },
  {
   "cell_type": "markdown",
   "id": "dea259b1",
   "metadata": {},
   "source": [
    "В таблице data_bulk_new замечены пропуски, что говорит о том, что материал не был добавлен. В дальнейшем можно будет заменить на 0. Также можно заметить, что некоторые материалы используются менее 10% от общего количества. В дальнейшем их можно будет объединить в одну группу."
   ]
  },
  {
   "cell_type": "markdown",
   "id": "ba860464",
   "metadata": {},
   "source": [
    "Построим гистограмму для таблицы data_gas_new."
   ]
  },
  {
   "cell_type": "code",
   "execution_count": 19,
   "id": "8b8903bd",
   "metadata": {},
   "outputs": [
    {
     "data": {
      "image/png": "[encoded data removed]",
      "text/plain": [
       "<Figure size 432x288 with 1 Axes>"
      ]
     },
     "metadata": {
      "needs_background": "light"
     },
     "output_type": "display_data"
    }
   ],
   "source": [
    "data_gas_new.drop(['key'], axis = 1).hist(bins=100);"
   ]
  },
  {
   "cell_type": "markdown",
   "id": "2622c9b8",
   "metadata": {},
   "source": [
    "Построим диаграмму \"ящик с усами\" для таблицы data_gas_new."
   ]
  },
  {
   "cell_type": "code",
   "execution_count": 20,
   "id": "076243fa",
   "metadata": {
    "scrolled": true
   },
   "outputs": [
    {
     "data": {
      "image/png": "[encoded data removed]",
      "text/plain": [
       "<Figure size 720x720 with 1 Axes>"
      ]
     },
     "metadata": {
      "needs_background": "light"
     },
     "output_type": "display_data"
    }
   ],
   "source": [
    "data_gas_new.boxplot('gas_volume', figsize = (10,10));"
   ]
  },
  {
   "cell_type": "markdown",
   "id": "e5c8cabe",
   "metadata": {},
   "source": [
    "По данной диаграмме можно сделать вывод, что наблюдаются выбросы в столбце gas_volume, также видны явные аномалии свыше 60."
   ]
  },
  {
   "cell_type": "markdown",
   "id": "24c2c36e",
   "metadata": {},
   "source": [
    "Построим гистограмму для таблицы data_temp_new."
   ]
  },
  {
   "cell_type": "code",
   "execution_count": 21,
   "id": "1daa8b4d",
   "metadata": {},
   "outputs": [
    {
     "data": {
      "image/png": "[encoded data removed]",
      "text/plain": [
       "<Figure size 432x288 with 1 Axes>"
      ]
     },
     "metadata": {
      "needs_background": "light"
     },
     "output_type": "display_data"
    }
   ],
   "source": [
    "data_temp_new['temperature'].hist(bins=100);"
   ]
  },
  {
   "cell_type": "markdown",
   "id": "00878559",
   "metadata": {},
   "source": [
    "Построим диаграмму \"ящик с усами\" для таблицы data_temp_new."
   ]
  },
  {
   "cell_type": "code",
   "execution_count": 22,
   "id": "1ee03e26",
   "metadata": {},
   "outputs": [
    {
     "data": {
      "image/png": "[encoded data removed]",
      "text/plain": [
       "<Figure size 720x720 with 1 Axes>"
      ]
     },
     "metadata": {
      "needs_background": "light"
     },
     "output_type": "display_data"
    }
   ],
   "source": [
    "data_temp_new.boxplot('temperature', figsize = (10,10));"
   ]
  },
  {
   "cell_type": "markdown",
   "id": "ae3c8f0e",
   "metadata": {},
   "source": [
    "По данной диаграмме можно сделать вывод, что помимо выбросов наблюдаются аномальные значения ниже 1300."
   ]
  },
  {
   "cell_type": "markdown",
   "id": "98b792d1",
   "metadata": {},
   "source": [
    "В столбце \"temperature\" наблюдаются пропуски. Так как температура в данном проекте является целевым признаком, то необходимо будет удалить партии с пропущенными значениями по температуре."
   ]
  },
  {
   "cell_type": "markdown",
   "id": "7c466af1",
   "metadata": {},
   "source": [
    "Построим гистограммы для каждого материал таблицы data_wire_new."
   ]
  },
  {
   "cell_type": "code",
   "execution_count": 23,
   "id": "50f69e54",
   "metadata": {},
   "outputs": [
    {
     "data": {
      "image/png": "[encoded data removed]",
      "text/plain": [
       "<Figure size 1080x1080 with 9 Axes>"
      ]
     },
     "metadata": {
      "needs_background": "light"
     },
     "output_type": "display_data"
    }
   ],
   "source": [
    "data_wire_new.drop(['key'], axis = 1).hist(bins = 100, figsize=(15,15));\n"
   ]
  },
  {
   "cell_type": "markdown",
   "id": "4a1efe5b",
   "metadata": {},
   "source": [
    "В таблице data_wire_new замечены пропуски, что говорит о том, что материал не был добавлен. В дальнейшем можно будет заменить на 0. Также можно заметить, что некоторые материалы используются менее 10% от общего количества. В дальнейшем их можно будет объединить в одну группу."
   ]
  },
  {
   "cell_type": "markdown",
   "id": "6d1f7323",
   "metadata": {},
   "source": [
    "**Вывод:**\n",
    "\n"
   ]
  },
  {
   "cell_type": "markdown",
   "id": "03ad8b3f",
   "metadata": {},
   "source": [
    "Были изучены данные. \n",
    "\n",
    "В таблице data_arc_new столбце \"reactive_power\" наблюдаются отрицательные значения, что является аномалией. \n",
    "\n",
    "В таблицах data_bulk_new и data_wire_new замечены пропуски, что говорит о том, что материал не был добавлен. В дальнейшем можно будет заменить на 0. Также можно заметить, что некоторые материалы используются менее 10% от общего количества. В дальнейшем их можно будет объединить в одну группу.\n",
    "\n",
    "По диаграмме \"ящик с усами\" для таблицы data_gas_new можно сделать вывод, что наблюдаются выбросы в столбце gas_volume.\n",
    "\n",
    "\n",
    "\"Ящик с усами\" для таблицы data_temp_new показал, что помимо выбросов наблюдаются аномальные значения ниже 1300. Также в столбце \"temperature\" в таблице data_temp_new наблюдаются пропуски. Так как температура в данном проекте является целевым признаком, то необходимо будет удалить стороки с пропущенными значениями в этом столбце.\n",
    "\n",
    "В данной задаче требуется построить модель, которая предскажет температуру стали, следовательно, решается задача регрессии. В проекте хочется рассмотреть модели случайного леса, линейной регрессии и модель с использованием градиентного бустинга.\n",
    "\n",
    "Для построения модели нам понадобится таблица со следующими столбцами:\n",
    "\n",
    "* Полная мощность;\n",
    "* Время, в течение которого подогревали в секундах;\n",
    "* Начальная температура;\n",
    "* Продувка сплава газом;\n",
    "* Столбцы с материалами, которые были добавлены;\n",
    "* Конечная температура."
   ]
  },
  {
   "cell_type": "markdown",
   "id": "ba4654b1",
   "metadata": {},
   "source": [
    "## 3. Предобработка данных"
   ]
  },
  {
   "cell_type": "markdown",
   "id": "b849bdd1",
   "metadata": {},
   "source": [
    "В таблице data_arc_new удалим аномалии в столбце reactive_power."
   ]
  },
  {
   "cell_type": "code",
   "execution_count": 24,
   "id": "7b5af094",
   "metadata": {},
   "outputs": [
    {
     "data": {
      "text/html": [
       "<div>\n",
       "<style scoped>\n",
       "    .dataframe tbody tr th:only-of-type {\n",
       "        vertical-align: middle;\n",
       "    }\n",
       "\n",
       "    .dataframe tbody tr th {\n",
       "        vertical-align: top;\n",
       "    }\n",
       "\n",
       "    .dataframe thead th {\n",
       "        text-align: right;\n",
       "    }\n",
       "</style>\n",
       "<table border=\"1\" class=\"dataframe\">\n",
       "  <thead>\n",
       "    <tr style=\"text-align: right;\">\n",
       "      <th></th>\n",
       "      <th>key</th>\n",
       "      <th>start_of_arc_heating</th>\n",
       "      <th>end_of_arc_heating</th>\n",
       "      <th>active_power</th>\n",
       "      <th>reactive_power</th>\n",
       "    </tr>\n",
       "  </thead>\n",
       "  <tbody>\n",
       "    <tr>\n",
       "      <th>0</th>\n",
       "      <td>1</td>\n",
       "      <td>2019-05-03 11:02:14</td>\n",
       "      <td>2019-05-03 11:06:02</td>\n",
       "      <td>0.305130</td>\n",
       "      <td>0.211253</td>\n",
       "    </tr>\n",
       "    <tr>\n",
       "      <th>1</th>\n",
       "      <td>1</td>\n",
       "      <td>2019-05-03 11:07:28</td>\n",
       "      <td>2019-05-03 11:10:33</td>\n",
       "      <td>0.765658</td>\n",
       "      <td>0.477438</td>\n",
       "    </tr>\n",
       "    <tr>\n",
       "      <th>2</th>\n",
       "      <td>1</td>\n",
       "      <td>2019-05-03 11:11:44</td>\n",
       "      <td>2019-05-03 11:14:36</td>\n",
       "      <td>0.580313</td>\n",
       "      <td>0.430460</td>\n",
       "    </tr>\n",
       "    <tr>\n",
       "      <th>3</th>\n",
       "      <td>1</td>\n",
       "      <td>2019-05-03 11:18:14</td>\n",
       "      <td>2019-05-03 11:24:19</td>\n",
       "      <td>0.518496</td>\n",
       "      <td>0.379979</td>\n",
       "    </tr>\n",
       "    <tr>\n",
       "      <th>4</th>\n",
       "      <td>1</td>\n",
       "      <td>2019-05-03 11:26:09</td>\n",
       "      <td>2019-05-03 11:28:37</td>\n",
       "      <td>0.867133</td>\n",
       "      <td>0.643691</td>\n",
       "    </tr>\n",
       "    <tr>\n",
       "      <th>...</th>\n",
       "      <td>...</td>\n",
       "      <td>...</td>\n",
       "      <td>...</td>\n",
       "      <td>...</td>\n",
       "      <td>...</td>\n",
       "    </tr>\n",
       "    <tr>\n",
       "      <th>14871</th>\n",
       "      <td>3241</td>\n",
       "      <td>2019-09-06 16:49:05</td>\n",
       "      <td>2019-09-06 16:51:42</td>\n",
       "      <td>0.439735</td>\n",
       "      <td>0.299579</td>\n",
       "    </tr>\n",
       "    <tr>\n",
       "      <th>14872</th>\n",
       "      <td>3241</td>\n",
       "      <td>2019-09-06 16:55:11</td>\n",
       "      <td>2019-09-06 16:58:11</td>\n",
       "      <td>0.646498</td>\n",
       "      <td>0.458240</td>\n",
       "    </tr>\n",
       "    <tr>\n",
       "      <th>14873</th>\n",
       "      <td>3241</td>\n",
       "      <td>2019-09-06 17:06:48</td>\n",
       "      <td>2019-09-06 17:09:52</td>\n",
       "      <td>1.039726</td>\n",
       "      <td>0.769302</td>\n",
       "    </tr>\n",
       "    <tr>\n",
       "      <th>14874</th>\n",
       "      <td>3241</td>\n",
       "      <td>2019-09-06 17:21:58</td>\n",
       "      <td>2019-09-06 17:22:55</td>\n",
       "      <td>0.530267</td>\n",
       "      <td>0.361543</td>\n",
       "    </tr>\n",
       "    <tr>\n",
       "      <th>14875</th>\n",
       "      <td>3241</td>\n",
       "      <td>2019-09-06 17:24:54</td>\n",
       "      <td>2019-09-06 17:26:15</td>\n",
       "      <td>0.389057</td>\n",
       "      <td>0.251347</td>\n",
       "    </tr>\n",
       "  </tbody>\n",
       "</table>\n",
       "<p>14875 rows × 5 columns</p>\n",
       "</div>"
      ],
      "text/plain": [
       "        key start_of_arc_heating   end_of_arc_heating  active_power  \\\n",
       "0         1  2019-05-03 11:02:14  2019-05-03 11:06:02      0.305130   \n",
       "1         1  2019-05-03 11:07:28  2019-05-03 11:10:33      0.765658   \n",
       "2         1  2019-05-03 11:11:44  2019-05-03 11:14:36      0.580313   \n",
       "3         1  2019-05-03 11:18:14  2019-05-03 11:24:19      0.518496   \n",
       "4         1  2019-05-03 11:26:09  2019-05-03 11:28:37      0.867133   \n",
       "...     ...                  ...                  ...           ...   \n",
       "14871  3241  2019-09-06 16:49:05  2019-09-06 16:51:42      0.439735   \n",
       "14872  3241  2019-09-06 16:55:11  2019-09-06 16:58:11      0.646498   \n",
       "14873  3241  2019-09-06 17:06:48  2019-09-06 17:09:52      1.039726   \n",
       "14874  3241  2019-09-06 17:21:58  2019-09-06 17:22:55      0.530267   \n",
       "14875  3241  2019-09-06 17:24:54  2019-09-06 17:26:15      0.389057   \n",
       "\n",
       "       reactive_power  \n",
       "0            0.211253  \n",
       "1            0.477438  \n",
       "2            0.430460  \n",
       "3            0.379979  \n",
       "4            0.643691  \n",
       "...               ...  \n",
       "14871        0.299579  \n",
       "14872        0.458240  \n",
       "14873        0.769302  \n",
       "14874        0.361543  \n",
       "14875        0.251347  \n",
       "\n",
       "[14875 rows x 5 columns]"
      ]
     },
     "execution_count": 24,
     "metadata": {},
     "output_type": "execute_result"
    }
   ],
   "source": [
    "data_arc_new = data_arc_new.loc[data_arc_new['reactive_power'] >= 0]\n",
    "data_arc_new"
   ]
  },
  {
   "cell_type": "markdown",
   "id": "dfcf3d7a",
   "metadata": {},
   "source": [
    "В таблице data_arc_new посчитаем общую мощность и время нагрева для каждой строки."
   ]
  },
  {
   "cell_type": "code",
   "execution_count": 25,
   "id": "1e6fd850",
   "metadata": {},
   "outputs": [
    {
     "data": {
      "text/html": [
       "<div>\n",
       "<style scoped>\n",
       "    .dataframe tbody tr th:only-of-type {\n",
       "        vertical-align: middle;\n",
       "    }\n",
       "\n",
       "    .dataframe tbody tr th {\n",
       "        vertical-align: top;\n",
       "    }\n",
       "\n",
       "    .dataframe thead th {\n",
       "        text-align: right;\n",
       "    }\n",
       "</style>\n",
       "<table border=\"1\" class=\"dataframe\">\n",
       "  <thead>\n",
       "    <tr style=\"text-align: right;\">\n",
       "      <th></th>\n",
       "      <th>key</th>\n",
       "      <th>start_of_arc_heating</th>\n",
       "      <th>end_of_arc_heating</th>\n",
       "      <th>active_power</th>\n",
       "      <th>reactive_power</th>\n",
       "      <th>full_power</th>\n",
       "      <th>heating_time</th>\n",
       "    </tr>\n",
       "  </thead>\n",
       "  <tbody>\n",
       "    <tr>\n",
       "      <th>0</th>\n",
       "      <td>1</td>\n",
       "      <td>2019-05-03 11:02:14</td>\n",
       "      <td>2019-05-03 11:06:02</td>\n",
       "      <td>0.305130</td>\n",
       "      <td>0.211253</td>\n",
       "      <td>0.371123</td>\n",
       "      <td>228</td>\n",
       "    </tr>\n",
       "    <tr>\n",
       "      <th>1</th>\n",
       "      <td>1</td>\n",
       "      <td>2019-05-03 11:07:28</td>\n",
       "      <td>2019-05-03 11:10:33</td>\n",
       "      <td>0.765658</td>\n",
       "      <td>0.477438</td>\n",
       "      <td>0.902319</td>\n",
       "      <td>185</td>\n",
       "    </tr>\n",
       "    <tr>\n",
       "      <th>2</th>\n",
       "      <td>1</td>\n",
       "      <td>2019-05-03 11:11:44</td>\n",
       "      <td>2019-05-03 11:14:36</td>\n",
       "      <td>0.580313</td>\n",
       "      <td>0.430460</td>\n",
       "      <td>0.722536</td>\n",
       "      <td>172</td>\n",
       "    </tr>\n",
       "    <tr>\n",
       "      <th>3</th>\n",
       "      <td>1</td>\n",
       "      <td>2019-05-03 11:18:14</td>\n",
       "      <td>2019-05-03 11:24:19</td>\n",
       "      <td>0.518496</td>\n",
       "      <td>0.379979</td>\n",
       "      <td>0.642824</td>\n",
       "      <td>365</td>\n",
       "    </tr>\n",
       "    <tr>\n",
       "      <th>4</th>\n",
       "      <td>1</td>\n",
       "      <td>2019-05-03 11:26:09</td>\n",
       "      <td>2019-05-03 11:28:37</td>\n",
       "      <td>0.867133</td>\n",
       "      <td>0.643691</td>\n",
       "      <td>1.079934</td>\n",
       "      <td>148</td>\n",
       "    </tr>\n",
       "    <tr>\n",
       "      <th>...</th>\n",
       "      <td>...</td>\n",
       "      <td>...</td>\n",
       "      <td>...</td>\n",
       "      <td>...</td>\n",
       "      <td>...</td>\n",
       "      <td>...</td>\n",
       "      <td>...</td>\n",
       "    </tr>\n",
       "    <tr>\n",
       "      <th>14871</th>\n",
       "      <td>3241</td>\n",
       "      <td>2019-09-06 16:49:05</td>\n",
       "      <td>2019-09-06 16:51:42</td>\n",
       "      <td>0.439735</td>\n",
       "      <td>0.299579</td>\n",
       "      <td>0.532085</td>\n",
       "      <td>157</td>\n",
       "    </tr>\n",
       "    <tr>\n",
       "      <th>14872</th>\n",
       "      <td>3241</td>\n",
       "      <td>2019-09-06 16:55:11</td>\n",
       "      <td>2019-09-06 16:58:11</td>\n",
       "      <td>0.646498</td>\n",
       "      <td>0.458240</td>\n",
       "      <td>0.792429</td>\n",
       "      <td>180</td>\n",
       "    </tr>\n",
       "    <tr>\n",
       "      <th>14873</th>\n",
       "      <td>3241</td>\n",
       "      <td>2019-09-06 17:06:48</td>\n",
       "      <td>2019-09-06 17:09:52</td>\n",
       "      <td>1.039726</td>\n",
       "      <td>0.769302</td>\n",
       "      <td>1.293389</td>\n",
       "      <td>184</td>\n",
       "    </tr>\n",
       "    <tr>\n",
       "      <th>14874</th>\n",
       "      <td>3241</td>\n",
       "      <td>2019-09-06 17:21:58</td>\n",
       "      <td>2019-09-06 17:22:55</td>\n",
       "      <td>0.530267</td>\n",
       "      <td>0.361543</td>\n",
       "      <td>0.641792</td>\n",
       "      <td>57</td>\n",
       "    </tr>\n",
       "    <tr>\n",
       "      <th>14875</th>\n",
       "      <td>3241</td>\n",
       "      <td>2019-09-06 17:24:54</td>\n",
       "      <td>2019-09-06 17:26:15</td>\n",
       "      <td>0.389057</td>\n",
       "      <td>0.251347</td>\n",
       "      <td>0.463185</td>\n",
       "      <td>81</td>\n",
       "    </tr>\n",
       "  </tbody>\n",
       "</table>\n",
       "<p>14875 rows × 7 columns</p>\n",
       "</div>"
      ],
      "text/plain": [
       "        key start_of_arc_heating  end_of_arc_heating  active_power  \\\n",
       "0         1  2019-05-03 11:02:14 2019-05-03 11:06:02      0.305130   \n",
       "1         1  2019-05-03 11:07:28 2019-05-03 11:10:33      0.765658   \n",
       "2         1  2019-05-03 11:11:44 2019-05-03 11:14:36      0.580313   \n",
       "3         1  2019-05-03 11:18:14 2019-05-03 11:24:19      0.518496   \n",
       "4         1  2019-05-03 11:26:09 2019-05-03 11:28:37      0.867133   \n",
       "...     ...                  ...                 ...           ...   \n",
       "14871  3241  2019-09-06 16:49:05 2019-09-06 16:51:42      0.439735   \n",
       "14872  3241  2019-09-06 16:55:11 2019-09-06 16:58:11      0.646498   \n",
       "14873  3241  2019-09-06 17:06:48 2019-09-06 17:09:52      1.039726   \n",
       "14874  3241  2019-09-06 17:21:58 2019-09-06 17:22:55      0.530267   \n",
       "14875  3241  2019-09-06 17:24:54 2019-09-06 17:26:15      0.389057   \n",
       "\n",
       "       reactive_power  full_power  heating_time  \n",
       "0            0.211253    0.371123           228  \n",
       "1            0.477438    0.902319           185  \n",
       "2            0.430460    0.722536           172  \n",
       "3            0.379979    0.642824           365  \n",
       "4            0.643691    1.079934           148  \n",
       "...               ...         ...           ...  \n",
       "14871        0.299579    0.532085           157  \n",
       "14872        0.458240    0.792429           180  \n",
       "14873        0.769302    1.293389           184  \n",
       "14874        0.361543    0.641792            57  \n",
       "14875        0.251347    0.463185            81  \n",
       "\n",
       "[14875 rows x 7 columns]"
      ]
     },
     "execution_count": 25,
     "metadata": {},
     "output_type": "execute_result"
    }
   ],
   "source": [
    "data_arc_new['full_power'] = (data_arc_new['active_power'] ** 2 + data_arc_new['reactive_power'] ** 2) ** 0.5\n",
    "data_arc_new['start_of_arc_heating'] = pd.to_datetime(data_arc_new['start_of_arc_heating'])\n",
    "data_arc_new['end_of_arc_heating'] = pd.to_datetime(data_arc_new['end_of_arc_heating'])\n",
    "data_arc_new['heating_time'] = (data_arc_new['end_of_arc_heating'] - data_arc_new['start_of_arc_heating']).dt.seconds\n",
    "data_arc_new"
   ]
  },
  {
   "cell_type": "markdown",
   "id": "1fd0b2d7",
   "metadata": {},
   "source": [
    "Получим суммарные значения общую мощность и время нагрева для каждой партии."
   ]
  },
  {
   "cell_type": "code",
   "execution_count": 26,
   "id": "857bc7b3",
   "metadata": {},
   "outputs": [
    {
     "data": {
      "text/html": [
       "<div>\n",
       "<style scoped>\n",
       "    .dataframe tbody tr th:only-of-type {\n",
       "        vertical-align: middle;\n",
       "    }\n",
       "\n",
       "    .dataframe tbody tr th {\n",
       "        vertical-align: top;\n",
       "    }\n",
       "\n",
       "    .dataframe thead th {\n",
       "        text-align: right;\n",
       "    }\n",
       "</style>\n",
       "<table border=\"1\" class=\"dataframe\">\n",
       "  <thead>\n",
       "    <tr style=\"text-align: right;\">\n",
       "      <th></th>\n",
       "      <th>full_power</th>\n",
       "      <th>heating_time</th>\n",
       "    </tr>\n",
       "    <tr>\n",
       "      <th>key</th>\n",
       "      <th></th>\n",
       "      <th></th>\n",
       "    </tr>\n",
       "  </thead>\n",
       "  <tbody>\n",
       "    <tr>\n",
       "      <th>1</th>\n",
       "      <td>3.718736</td>\n",
       "      <td>1098</td>\n",
       "    </tr>\n",
       "    <tr>\n",
       "      <th>2</th>\n",
       "      <td>2.588349</td>\n",
       "      <td>811</td>\n",
       "    </tr>\n",
       "    <tr>\n",
       "      <th>3</th>\n",
       "      <td>5.019223</td>\n",
       "      <td>655</td>\n",
       "    </tr>\n",
       "    <tr>\n",
       "      <th>4</th>\n",
       "      <td>3.400038</td>\n",
       "      <td>741</td>\n",
       "    </tr>\n",
       "    <tr>\n",
       "      <th>5</th>\n",
       "      <td>2.816980</td>\n",
       "      <td>869</td>\n",
       "    </tr>\n",
       "    <tr>\n",
       "      <th>...</th>\n",
       "      <td>...</td>\n",
       "      <td>...</td>\n",
       "    </tr>\n",
       "    <tr>\n",
       "      <th>3237</th>\n",
       "      <td>3.250657</td>\n",
       "      <td>909</td>\n",
       "    </tr>\n",
       "    <tr>\n",
       "      <th>3238</th>\n",
       "      <td>1.723937</td>\n",
       "      <td>546</td>\n",
       "    </tr>\n",
       "    <tr>\n",
       "      <th>3239</th>\n",
       "      <td>6.014480</td>\n",
       "      <td>1216</td>\n",
       "    </tr>\n",
       "    <tr>\n",
       "      <th>3240</th>\n",
       "      <td>4.082920</td>\n",
       "      <td>839</td>\n",
       "    </tr>\n",
       "    <tr>\n",
       "      <th>3241</th>\n",
       "      <td>3.722880</td>\n",
       "      <td>659</td>\n",
       "    </tr>\n",
       "  </tbody>\n",
       "</table>\n",
       "<p>3214 rows × 2 columns</p>\n",
       "</div>"
      ],
      "text/plain": [
       "      full_power  heating_time\n",
       "key                           \n",
       "1       3.718736          1098\n",
       "2       2.588349           811\n",
       "3       5.019223           655\n",
       "4       3.400038           741\n",
       "5       2.816980           869\n",
       "...          ...           ...\n",
       "3237    3.250657           909\n",
       "3238    1.723937           546\n",
       "3239    6.014480          1216\n",
       "3240    4.082920           839\n",
       "3241    3.722880           659\n",
       "\n",
       "[3214 rows x 2 columns]"
      ]
     },
     "execution_count": 26,
     "metadata": {},
     "output_type": "execute_result"
    }
   ],
   "source": [
    "table1 = data_arc_new.pivot_table(index = ['key'], values = ['full_power','heating_time'], aggfunc = 'sum')\n",
    "table1"
   ]
  },
  {
   "cell_type": "markdown",
   "id": "855e290c",
   "metadata": {},
   "source": [
    "Удалим партии, в которых есть пропущенные значения и аномалии по температуре в таблице data_temp_new."
   ]
  },
  {
   "cell_type": "code",
   "execution_count": 27,
   "id": "e370573b",
   "metadata": {},
   "outputs": [],
   "source": [
    "drop_index = data_temp_new.loc[(data_temp_new['temperature'].isna()) | (data_temp_new['temperature'] < 1300)]['key'].unique()\n",
    "data_temp_new = data_temp_new.query('key not in @drop_index')"
   ]
  },
  {
   "cell_type": "markdown",
   "id": "85e9bbcd",
   "metadata": {},
   "source": [
    "Для каждой партии получим первую и последнюю температуру при времени измерения."
   ]
  },
  {
   "cell_type": "code",
   "execution_count": 28,
   "id": "17cb8c75",
   "metadata": {},
   "outputs": [
    {
     "data": {
      "text/html": [
       "<div>\n",
       "<style scoped>\n",
       "    .dataframe tbody tr th:only-of-type {\n",
       "        vertical-align: middle;\n",
       "    }\n",
       "\n",
       "    .dataframe tbody tr th {\n",
       "        vertical-align: top;\n",
       "    }\n",
       "\n",
       "    .dataframe thead th {\n",
       "        text-align: right;\n",
       "    }\n",
       "</style>\n",
       "<table border=\"1\" class=\"dataframe\">\n",
       "  <thead>\n",
       "    <tr style=\"text-align: right;\">\n",
       "      <th></th>\n",
       "      <th>initial_temperature</th>\n",
       "      <th>final_temperature</th>\n",
       "    </tr>\n",
       "    <tr>\n",
       "      <th>key</th>\n",
       "      <th></th>\n",
       "      <th></th>\n",
       "    </tr>\n",
       "  </thead>\n",
       "  <tbody>\n",
       "    <tr>\n",
       "      <th>1</th>\n",
       "      <td>1571.0</td>\n",
       "      <td>1613.0</td>\n",
       "    </tr>\n",
       "    <tr>\n",
       "      <th>2</th>\n",
       "      <td>1581.0</td>\n",
       "      <td>1602.0</td>\n",
       "    </tr>\n",
       "    <tr>\n",
       "      <th>3</th>\n",
       "      <td>1596.0</td>\n",
       "      <td>1599.0</td>\n",
       "    </tr>\n",
       "    <tr>\n",
       "      <th>4</th>\n",
       "      <td>1601.0</td>\n",
       "      <td>1625.0</td>\n",
       "    </tr>\n",
       "    <tr>\n",
       "      <th>5</th>\n",
       "      <td>1576.0</td>\n",
       "      <td>1602.0</td>\n",
       "    </tr>\n",
       "    <tr>\n",
       "      <th>...</th>\n",
       "      <td>...</td>\n",
       "      <td>...</td>\n",
       "    </tr>\n",
       "    <tr>\n",
       "      <th>2495</th>\n",
       "      <td>1570.0</td>\n",
       "      <td>1591.0</td>\n",
       "    </tr>\n",
       "    <tr>\n",
       "      <th>2496</th>\n",
       "      <td>1554.0</td>\n",
       "      <td>1591.0</td>\n",
       "    </tr>\n",
       "    <tr>\n",
       "      <th>2497</th>\n",
       "      <td>1571.0</td>\n",
       "      <td>1589.0</td>\n",
       "    </tr>\n",
       "    <tr>\n",
       "      <th>2498</th>\n",
       "      <td>1591.0</td>\n",
       "      <td>1594.0</td>\n",
       "    </tr>\n",
       "    <tr>\n",
       "      <th>2499</th>\n",
       "      <td>1569.0</td>\n",
       "      <td>1603.0</td>\n",
       "    </tr>\n",
       "  </tbody>\n",
       "</table>\n",
       "<p>2473 rows × 2 columns</p>\n",
       "</div>"
      ],
      "text/plain": [
       "      initial_temperature  final_temperature\n",
       "key                                         \n",
       "1                  1571.0             1613.0\n",
       "2                  1581.0             1602.0\n",
       "3                  1596.0             1599.0\n",
       "4                  1601.0             1625.0\n",
       "5                  1576.0             1602.0\n",
       "...                   ...                ...\n",
       "2495               1570.0             1591.0\n",
       "2496               1554.0             1591.0\n",
       "2497               1571.0             1589.0\n",
       "2498               1591.0             1594.0\n",
       "2499               1569.0             1603.0\n",
       "\n",
       "[2473 rows x 2 columns]"
      ]
     },
     "execution_count": 28,
     "metadata": {},
     "output_type": "execute_result"
    }
   ],
   "source": [
    "table2 = data_temp_new.pivot_table(index = ['key'], values = ['temperature'], aggfunc = ['first','last'])\n",
    "table2.columns = ['initial_temperature','final_temperature']\n",
    "\n",
    "table2"
   ]
  },
  {
   "cell_type": "markdown",
   "id": "9e0d7d12",
   "metadata": {},
   "source": [
    "Соединим получившиеся таблицы по номеру партии."
   ]
  },
  {
   "cell_type": "code",
   "execution_count": 29,
   "id": "aacc31ac",
   "metadata": {},
   "outputs": [
    {
     "data": {
      "text/html": [
       "<div>\n",
       "<style scoped>\n",
       "    .dataframe tbody tr th:only-of-type {\n",
       "        vertical-align: middle;\n",
       "    }\n",
       "\n",
       "    .dataframe tbody tr th {\n",
       "        vertical-align: top;\n",
       "    }\n",
       "\n",
       "    .dataframe thead th {\n",
       "        text-align: right;\n",
       "    }\n",
       "</style>\n",
       "<table border=\"1\" class=\"dataframe\">\n",
       "  <thead>\n",
       "    <tr style=\"text-align: right;\">\n",
       "      <th></th>\n",
       "      <th>full_power</th>\n",
       "      <th>heating_time</th>\n",
       "      <th>initial_temperature</th>\n",
       "      <th>final_temperature</th>\n",
       "    </tr>\n",
       "    <tr>\n",
       "      <th>key</th>\n",
       "      <th></th>\n",
       "      <th></th>\n",
       "      <th></th>\n",
       "      <th></th>\n",
       "    </tr>\n",
       "  </thead>\n",
       "  <tbody>\n",
       "    <tr>\n",
       "      <th>1</th>\n",
       "      <td>3.718736</td>\n",
       "      <td>1098</td>\n",
       "      <td>1571.0</td>\n",
       "      <td>1613.0</td>\n",
       "    </tr>\n",
       "    <tr>\n",
       "      <th>2</th>\n",
       "      <td>2.588349</td>\n",
       "      <td>811</td>\n",
       "      <td>1581.0</td>\n",
       "      <td>1602.0</td>\n",
       "    </tr>\n",
       "    <tr>\n",
       "      <th>3</th>\n",
       "      <td>5.019223</td>\n",
       "      <td>655</td>\n",
       "      <td>1596.0</td>\n",
       "      <td>1599.0</td>\n",
       "    </tr>\n",
       "    <tr>\n",
       "      <th>4</th>\n",
       "      <td>3.400038</td>\n",
       "      <td>741</td>\n",
       "      <td>1601.0</td>\n",
       "      <td>1625.0</td>\n",
       "    </tr>\n",
       "    <tr>\n",
       "      <th>5</th>\n",
       "      <td>2.816980</td>\n",
       "      <td>869</td>\n",
       "      <td>1576.0</td>\n",
       "      <td>1602.0</td>\n",
       "    </tr>\n",
       "    <tr>\n",
       "      <th>...</th>\n",
       "      <td>...</td>\n",
       "      <td>...</td>\n",
       "      <td>...</td>\n",
       "      <td>...</td>\n",
       "    </tr>\n",
       "    <tr>\n",
       "      <th>2495</th>\n",
       "      <td>3.868721</td>\n",
       "      <td>723</td>\n",
       "      <td>1570.0</td>\n",
       "      <td>1591.0</td>\n",
       "    </tr>\n",
       "    <tr>\n",
       "      <th>2496</th>\n",
       "      <td>5.070316</td>\n",
       "      <td>940</td>\n",
       "      <td>1554.0</td>\n",
       "      <td>1591.0</td>\n",
       "    </tr>\n",
       "    <tr>\n",
       "      <th>2497</th>\n",
       "      <td>4.360918</td>\n",
       "      <td>569</td>\n",
       "      <td>1571.0</td>\n",
       "      <td>1589.0</td>\n",
       "    </tr>\n",
       "    <tr>\n",
       "      <th>2498</th>\n",
       "      <td>3.909917</td>\n",
       "      <td>750</td>\n",
       "      <td>1591.0</td>\n",
       "      <td>1594.0</td>\n",
       "    </tr>\n",
       "    <tr>\n",
       "      <th>2499</th>\n",
       "      <td>2.169252</td>\n",
       "      <td>883</td>\n",
       "      <td>1569.0</td>\n",
       "      <td>1603.0</td>\n",
       "    </tr>\n",
       "  </tbody>\n",
       "</table>\n",
       "<p>2471 rows × 4 columns</p>\n",
       "</div>"
      ],
      "text/plain": [
       "      full_power  heating_time  initial_temperature  final_temperature\n",
       "key                                                                   \n",
       "1       3.718736          1098               1571.0             1613.0\n",
       "2       2.588349           811               1581.0             1602.0\n",
       "3       5.019223           655               1596.0             1599.0\n",
       "4       3.400038           741               1601.0             1625.0\n",
       "5       2.816980           869               1576.0             1602.0\n",
       "...          ...           ...                  ...                ...\n",
       "2495    3.868721           723               1570.0             1591.0\n",
       "2496    5.070316           940               1554.0             1591.0\n",
       "2497    4.360918           569               1571.0             1589.0\n",
       "2498    3.909917           750               1591.0             1594.0\n",
       "2499    2.169252           883               1569.0             1603.0\n",
       "\n",
       "[2471 rows x 4 columns]"
      ]
     },
     "execution_count": 29,
     "metadata": {},
     "output_type": "execute_result"
    }
   ],
   "source": [
    "data = table1.merge(table2, on = 'key', how = 'inner')\n",
    "data"
   ]
  },
  {
   "cell_type": "markdown",
   "id": "e336e5c3",
   "metadata": {},
   "source": [
    "Добавим data_gas_new к получившейся таблице по номеру партии."
   ]
  },
  {
   "cell_type": "code",
   "execution_count": 30,
   "id": "cba1e5ae",
   "metadata": {},
   "outputs": [
    {
     "data": {
      "text/html": [
       "<div>\n",
       "<style scoped>\n",
       "    .dataframe tbody tr th:only-of-type {\n",
       "        vertical-align: middle;\n",
       "    }\n",
       "\n",
       "    .dataframe tbody tr th {\n",
       "        vertical-align: top;\n",
       "    }\n",
       "\n",
       "    .dataframe thead th {\n",
       "        text-align: right;\n",
       "    }\n",
       "</style>\n",
       "<table border=\"1\" class=\"dataframe\">\n",
       "  <thead>\n",
       "    <tr style=\"text-align: right;\">\n",
       "      <th></th>\n",
       "      <th>key</th>\n",
       "      <th>full_power</th>\n",
       "      <th>heating_time</th>\n",
       "      <th>initial_temperature</th>\n",
       "      <th>final_temperature</th>\n",
       "      <th>gas_volume</th>\n",
       "    </tr>\n",
       "  </thead>\n",
       "  <tbody>\n",
       "    <tr>\n",
       "      <th>0</th>\n",
       "      <td>1</td>\n",
       "      <td>3.718736</td>\n",
       "      <td>1098</td>\n",
       "      <td>1571.0</td>\n",
       "      <td>1613.0</td>\n",
       "      <td>29.749986</td>\n",
       "    </tr>\n",
       "    <tr>\n",
       "      <th>1</th>\n",
       "      <td>2</td>\n",
       "      <td>2.588349</td>\n",
       "      <td>811</td>\n",
       "      <td>1581.0</td>\n",
       "      <td>1602.0</td>\n",
       "      <td>12.555561</td>\n",
       "    </tr>\n",
       "    <tr>\n",
       "      <th>2</th>\n",
       "      <td>3</td>\n",
       "      <td>5.019223</td>\n",
       "      <td>655</td>\n",
       "      <td>1596.0</td>\n",
       "      <td>1599.0</td>\n",
       "      <td>28.554793</td>\n",
       "    </tr>\n",
       "    <tr>\n",
       "      <th>3</th>\n",
       "      <td>4</td>\n",
       "      <td>3.400038</td>\n",
       "      <td>741</td>\n",
       "      <td>1601.0</td>\n",
       "      <td>1625.0</td>\n",
       "      <td>18.841219</td>\n",
       "    </tr>\n",
       "    <tr>\n",
       "      <th>4</th>\n",
       "      <td>5</td>\n",
       "      <td>2.816980</td>\n",
       "      <td>869</td>\n",
       "      <td>1576.0</td>\n",
       "      <td>1602.0</td>\n",
       "      <td>5.413692</td>\n",
       "    </tr>\n",
       "    <tr>\n",
       "      <th>...</th>\n",
       "      <td>...</td>\n",
       "      <td>...</td>\n",
       "      <td>...</td>\n",
       "      <td>...</td>\n",
       "      <td>...</td>\n",
       "      <td>...</td>\n",
       "    </tr>\n",
       "    <tr>\n",
       "      <th>2464</th>\n",
       "      <td>2495</td>\n",
       "      <td>3.868721</td>\n",
       "      <td>723</td>\n",
       "      <td>1570.0</td>\n",
       "      <td>1591.0</td>\n",
       "      <td>7.125735</td>\n",
       "    </tr>\n",
       "    <tr>\n",
       "      <th>2465</th>\n",
       "      <td>2496</td>\n",
       "      <td>5.070316</td>\n",
       "      <td>940</td>\n",
       "      <td>1554.0</td>\n",
       "      <td>1591.0</td>\n",
       "      <td>9.412616</td>\n",
       "    </tr>\n",
       "    <tr>\n",
       "      <th>2466</th>\n",
       "      <td>2497</td>\n",
       "      <td>4.360918</td>\n",
       "      <td>569</td>\n",
       "      <td>1571.0</td>\n",
       "      <td>1589.0</td>\n",
       "      <td>6.271699</td>\n",
       "    </tr>\n",
       "    <tr>\n",
       "      <th>2467</th>\n",
       "      <td>2498</td>\n",
       "      <td>3.909917</td>\n",
       "      <td>750</td>\n",
       "      <td>1591.0</td>\n",
       "      <td>1594.0</td>\n",
       "      <td>14.953657</td>\n",
       "    </tr>\n",
       "    <tr>\n",
       "      <th>2468</th>\n",
       "      <td>2499</td>\n",
       "      <td>2.169252</td>\n",
       "      <td>883</td>\n",
       "      <td>1569.0</td>\n",
       "      <td>1603.0</td>\n",
       "      <td>11.336151</td>\n",
       "    </tr>\n",
       "  </tbody>\n",
       "</table>\n",
       "<p>2469 rows × 6 columns</p>\n",
       "</div>"
      ],
      "text/plain": [
       "       key  full_power  heating_time  initial_temperature  final_temperature  \\\n",
       "0        1    3.718736          1098               1571.0             1613.0   \n",
       "1        2    2.588349           811               1581.0             1602.0   \n",
       "2        3    5.019223           655               1596.0             1599.0   \n",
       "3        4    3.400038           741               1601.0             1625.0   \n",
       "4        5    2.816980           869               1576.0             1602.0   \n",
       "...    ...         ...           ...                  ...                ...   \n",
       "2464  2495    3.868721           723               1570.0             1591.0   \n",
       "2465  2496    5.070316           940               1554.0             1591.0   \n",
       "2466  2497    4.360918           569               1571.0             1589.0   \n",
       "2467  2498    3.909917           750               1591.0             1594.0   \n",
       "2468  2499    2.169252           883               1569.0             1603.0   \n",
       "\n",
       "      gas_volume  \n",
       "0      29.749986  \n",
       "1      12.555561  \n",
       "2      28.554793  \n",
       "3      18.841219  \n",
       "4       5.413692  \n",
       "...          ...  \n",
       "2464    7.125735  \n",
       "2465    9.412616  \n",
       "2466    6.271699  \n",
       "2467   14.953657  \n",
       "2468   11.336151  \n",
       "\n",
       "[2469 rows x 6 columns]"
      ]
     },
     "execution_count": 30,
     "metadata": {},
     "output_type": "execute_result"
    }
   ],
   "source": [
    "data = data.merge(data_gas_new, on = 'key', how = 'inner')\n",
    "data"
   ]
  },
  {
   "cell_type": "markdown",
   "id": "2bb67ee9",
   "metadata": {},
   "source": [
    "Заполним пропуски в таблице data_bulk_new нулевыми значениями."
   ]
  },
  {
   "cell_type": "code",
   "execution_count": 31,
   "id": "2d952b28",
   "metadata": {},
   "outputs": [],
   "source": [
    "data_bulk_new = data_bulk_new.fillna(0)"
   ]
  },
  {
   "cell_type": "markdown",
   "id": "bbf539ee",
   "metadata": {},
   "source": [
    "Материалы, которые использовались меньше 10%, объединим в один столбец."
   ]
  },
  {
   "cell_type": "code",
   "execution_count": 32,
   "id": "651211a8",
   "metadata": {},
   "outputs": [],
   "source": [
    "data_bulk_new['bulk_other'] = data_bulk_new['bulk_1'] + data_bulk_new['bulk_2'] + data_bulk_new['bulk_5'] + \\\n",
    "data_bulk_new['bulk_7'] + data_bulk_new['bulk_8'] + data_bulk_new['bulk_9'] + data_bulk_new['bulk_10'] + \\\n",
    "data_bulk_new['bulk_11'] + data_bulk_new['bulk_13']\n",
    "\n",
    "data_bulk_new = data_bulk_new.drop(['bulk_1','bulk_2','bulk_5','bulk_7','bulk_8','bulk_9','bulk_10','bulk_11','bulk_13'],axis=1)"
   ]
  },
  {
   "cell_type": "markdown",
   "id": "e1904b3f",
   "metadata": {},
   "source": [
    "Добавим data_bulk_new к получившейся таблице по номеру партии."
   ]
  },
  {
   "cell_type": "code",
   "execution_count": 33,
   "id": "935991fd",
   "metadata": {},
   "outputs": [
    {
     "data": {
      "text/html": [
       "<div>\n",
       "<style scoped>\n",
       "    .dataframe tbody tr th:only-of-type {\n",
       "        vertical-align: middle;\n",
       "    }\n",
       "\n",
       "    .dataframe tbody tr th {\n",
       "        vertical-align: top;\n",
       "    }\n",
       "\n",
       "    .dataframe thead th {\n",
       "        text-align: right;\n",
       "    }\n",
       "</style>\n",
       "<table border=\"1\" class=\"dataframe\">\n",
       "  <thead>\n",
       "    <tr style=\"text-align: right;\">\n",
       "      <th></th>\n",
       "      <th>key</th>\n",
       "      <th>full_power</th>\n",
       "      <th>heating_time</th>\n",
       "      <th>initial_temperature</th>\n",
       "      <th>final_temperature</th>\n",
       "      <th>gas_volume</th>\n",
       "      <th>bulk_3</th>\n",
       "      <th>bulk_4</th>\n",
       "      <th>bulk_6</th>\n",
       "      <th>bulk_12</th>\n",
       "      <th>bulk_14</th>\n",
       "      <th>bulk_15</th>\n",
       "      <th>bulk_other</th>\n",
       "    </tr>\n",
       "  </thead>\n",
       "  <tbody>\n",
       "    <tr>\n",
       "      <th>0</th>\n",
       "      <td>1</td>\n",
       "      <td>3.718736</td>\n",
       "      <td>1098</td>\n",
       "      <td>1571.0</td>\n",
       "      <td>1613.0</td>\n",
       "      <td>29.749986</td>\n",
       "      <td>0.0</td>\n",
       "      <td>43.0</td>\n",
       "      <td>0.0</td>\n",
       "      <td>206.0</td>\n",
       "      <td>150.0</td>\n",
       "      <td>154.0</td>\n",
       "      <td>0.0</td>\n",
       "    </tr>\n",
       "    <tr>\n",
       "      <th>1</th>\n",
       "      <td>2</td>\n",
       "      <td>2.588349</td>\n",
       "      <td>811</td>\n",
       "      <td>1581.0</td>\n",
       "      <td>1602.0</td>\n",
       "      <td>12.555561</td>\n",
       "      <td>0.0</td>\n",
       "      <td>73.0</td>\n",
       "      <td>0.0</td>\n",
       "      <td>206.0</td>\n",
       "      <td>149.0</td>\n",
       "      <td>154.0</td>\n",
       "      <td>0.0</td>\n",
       "    </tr>\n",
       "    <tr>\n",
       "      <th>2</th>\n",
       "      <td>3</td>\n",
       "      <td>5.019223</td>\n",
       "      <td>655</td>\n",
       "      <td>1596.0</td>\n",
       "      <td>1599.0</td>\n",
       "      <td>28.554793</td>\n",
       "      <td>0.0</td>\n",
       "      <td>34.0</td>\n",
       "      <td>0.0</td>\n",
       "      <td>205.0</td>\n",
       "      <td>152.0</td>\n",
       "      <td>153.0</td>\n",
       "      <td>0.0</td>\n",
       "    </tr>\n",
       "    <tr>\n",
       "      <th>3</th>\n",
       "      <td>4</td>\n",
       "      <td>3.400038</td>\n",
       "      <td>741</td>\n",
       "      <td>1601.0</td>\n",
       "      <td>1625.0</td>\n",
       "      <td>18.841219</td>\n",
       "      <td>0.0</td>\n",
       "      <td>81.0</td>\n",
       "      <td>0.0</td>\n",
       "      <td>207.0</td>\n",
       "      <td>153.0</td>\n",
       "      <td>154.0</td>\n",
       "      <td>0.0</td>\n",
       "    </tr>\n",
       "    <tr>\n",
       "      <th>4</th>\n",
       "      <td>5</td>\n",
       "      <td>2.816980</td>\n",
       "      <td>869</td>\n",
       "      <td>1576.0</td>\n",
       "      <td>1602.0</td>\n",
       "      <td>5.413692</td>\n",
       "      <td>0.0</td>\n",
       "      <td>78.0</td>\n",
       "      <td>0.0</td>\n",
       "      <td>203.0</td>\n",
       "      <td>151.0</td>\n",
       "      <td>152.0</td>\n",
       "      <td>0.0</td>\n",
       "    </tr>\n",
       "    <tr>\n",
       "      <th>...</th>\n",
       "      <td>...</td>\n",
       "      <td>...</td>\n",
       "      <td>...</td>\n",
       "      <td>...</td>\n",
       "      <td>...</td>\n",
       "      <td>...</td>\n",
       "      <td>...</td>\n",
       "      <td>...</td>\n",
       "      <td>...</td>\n",
       "      <td>...</td>\n",
       "      <td>...</td>\n",
       "      <td>...</td>\n",
       "      <td>...</td>\n",
       "    </tr>\n",
       "    <tr>\n",
       "      <th>2396</th>\n",
       "      <td>2495</td>\n",
       "      <td>3.868721</td>\n",
       "      <td>723</td>\n",
       "      <td>1570.0</td>\n",
       "      <td>1591.0</td>\n",
       "      <td>7.125735</td>\n",
       "      <td>21.0</td>\n",
       "      <td>0.0</td>\n",
       "      <td>0.0</td>\n",
       "      <td>256.0</td>\n",
       "      <td>129.0</td>\n",
       "      <td>223.0</td>\n",
       "      <td>90.0</td>\n",
       "    </tr>\n",
       "    <tr>\n",
       "      <th>2397</th>\n",
       "      <td>2496</td>\n",
       "      <td>5.070316</td>\n",
       "      <td>940</td>\n",
       "      <td>1554.0</td>\n",
       "      <td>1591.0</td>\n",
       "      <td>9.412616</td>\n",
       "      <td>0.0</td>\n",
       "      <td>63.0</td>\n",
       "      <td>0.0</td>\n",
       "      <td>256.0</td>\n",
       "      <td>129.0</td>\n",
       "      <td>226.0</td>\n",
       "      <td>122.0</td>\n",
       "    </tr>\n",
       "    <tr>\n",
       "      <th>2398</th>\n",
       "      <td>2497</td>\n",
       "      <td>4.360918</td>\n",
       "      <td>569</td>\n",
       "      <td>1571.0</td>\n",
       "      <td>1589.0</td>\n",
       "      <td>6.271699</td>\n",
       "      <td>0.0</td>\n",
       "      <td>85.0</td>\n",
       "      <td>0.0</td>\n",
       "      <td>230.0</td>\n",
       "      <td>124.0</td>\n",
       "      <td>226.0</td>\n",
       "      <td>0.0</td>\n",
       "    </tr>\n",
       "    <tr>\n",
       "      <th>2399</th>\n",
       "      <td>2498</td>\n",
       "      <td>3.909917</td>\n",
       "      <td>750</td>\n",
       "      <td>1591.0</td>\n",
       "      <td>1594.0</td>\n",
       "      <td>14.953657</td>\n",
       "      <td>90.0</td>\n",
       "      <td>0.0</td>\n",
       "      <td>0.0</td>\n",
       "      <td>206.0</td>\n",
       "      <td>129.0</td>\n",
       "      <td>207.0</td>\n",
       "      <td>101.0</td>\n",
       "    </tr>\n",
       "    <tr>\n",
       "      <th>2400</th>\n",
       "      <td>2499</td>\n",
       "      <td>2.169252</td>\n",
       "      <td>883</td>\n",
       "      <td>1569.0</td>\n",
       "      <td>1603.0</td>\n",
       "      <td>11.336151</td>\n",
       "      <td>47.0</td>\n",
       "      <td>0.0</td>\n",
       "      <td>0.0</td>\n",
       "      <td>233.0</td>\n",
       "      <td>126.0</td>\n",
       "      <td>227.0</td>\n",
       "      <td>0.0</td>\n",
       "    </tr>\n",
       "  </tbody>\n",
       "</table>\n",
       "<p>2401 rows × 13 columns</p>\n",
       "</div>"
      ],
      "text/plain": [
       "       key  full_power  heating_time  initial_temperature  final_temperature  \\\n",
       "0        1    3.718736          1098               1571.0             1613.0   \n",
       "1        2    2.588349           811               1581.0             1602.0   \n",
       "2        3    5.019223           655               1596.0             1599.0   \n",
       "3        4    3.400038           741               1601.0             1625.0   \n",
       "4        5    2.816980           869               1576.0             1602.0   \n",
       "...    ...         ...           ...                  ...                ...   \n",
       "2396  2495    3.868721           723               1570.0             1591.0   \n",
       "2397  2496    5.070316           940               1554.0             1591.0   \n",
       "2398  2497    4.360918           569               1571.0             1589.0   \n",
       "2399  2498    3.909917           750               1591.0             1594.0   \n",
       "2400  2499    2.169252           883               1569.0             1603.0   \n",
       "\n",
       "      gas_volume  bulk_3  bulk_4  bulk_6  bulk_12  bulk_14  bulk_15  \\\n",
       "0      29.749986     0.0    43.0     0.0    206.0    150.0    154.0   \n",
       "1      12.555561     0.0    73.0     0.0    206.0    149.0    154.0   \n",
       "2      28.554793     0.0    34.0     0.0    205.0    152.0    153.0   \n",
       "3      18.841219     0.0    81.0     0.0    207.0    153.0    154.0   \n",
       "4       5.413692     0.0    78.0     0.0    203.0    151.0    152.0   \n",
       "...          ...     ...     ...     ...      ...      ...      ...   \n",
       "2396    7.125735    21.0     0.0     0.0    256.0    129.0    223.0   \n",
       "2397    9.412616     0.0    63.0     0.0    256.0    129.0    226.0   \n",
       "2398    6.271699     0.0    85.0     0.0    230.0    124.0    226.0   \n",
       "2399   14.953657    90.0     0.0     0.0    206.0    129.0    207.0   \n",
       "2400   11.336151    47.0     0.0     0.0    233.0    126.0    227.0   \n",
       "\n",
       "      bulk_other  \n",
       "0            0.0  \n",
       "1            0.0  \n",
       "2            0.0  \n",
       "3            0.0  \n",
       "4            0.0  \n",
       "...          ...  \n",
       "2396        90.0  \n",
       "2397       122.0  \n",
       "2398         0.0  \n",
       "2399       101.0  \n",
       "2400         0.0  \n",
       "\n",
       "[2401 rows x 13 columns]"
      ]
     },
     "execution_count": 33,
     "metadata": {},
     "output_type": "execute_result"
    }
   ],
   "source": [
    "data = data.merge(data_bulk_new, on = 'key', how = 'inner')\n",
    "data"
   ]
  },
  {
   "cell_type": "markdown",
   "id": "a839e880",
   "metadata": {},
   "source": [
    "Заполним пропуски в таблице data_wire_new нулевыми значениями."
   ]
  },
  {
   "cell_type": "code",
   "execution_count": 34,
   "id": "db40f676",
   "metadata": {},
   "outputs": [],
   "source": [
    "data_wire_new = data_wire_new.fillna(0)"
   ]
  },
  {
   "cell_type": "markdown",
   "id": "cadd1848",
   "metadata": {},
   "source": [
    "Материалы, которые использовались меньше 10%, объединим в один столбец."
   ]
  },
  {
   "cell_type": "code",
   "execution_count": 35,
   "id": "8fd67bcd",
   "metadata": {},
   "outputs": [],
   "source": [
    "data_wire_new['wire_other'] = data_wire_new['wire_3'] + data_wire_new['wire_4'] + data_wire_new['wire_5'] + \\\n",
    "data_wire_new['wire_6'] + data_wire_new['wire_7'] + data_wire_new['wire_8'] + data_wire_new['wire_9'] \n",
    "\n",
    "data_wire_new = data_wire_new.drop(['wire_3','wire_4','wire_5','wire_6','wire_7','wire_8','wire_9'],axis=1)\n"
   ]
  },
  {
   "cell_type": "markdown",
   "id": "e8be3f74",
   "metadata": {},
   "source": [
    "Добавим data_wire_new к получившейся таблице по номеру партии."
   ]
  },
  {
   "cell_type": "code",
   "execution_count": 36,
   "id": "437fa528",
   "metadata": {},
   "outputs": [
    {
     "data": {
      "text/html": [
       "<div>\n",
       "<style scoped>\n",
       "    .dataframe tbody tr th:only-of-type {\n",
       "        vertical-align: middle;\n",
       "    }\n",
       "\n",
       "    .dataframe tbody tr th {\n",
       "        vertical-align: top;\n",
       "    }\n",
       "\n",
       "    .dataframe thead th {\n",
       "        text-align: right;\n",
       "    }\n",
       "</style>\n",
       "<table border=\"1\" class=\"dataframe\">\n",
       "  <thead>\n",
       "    <tr style=\"text-align: right;\">\n",
       "      <th></th>\n",
       "      <th>key</th>\n",
       "      <th>full_power</th>\n",
       "      <th>heating_time</th>\n",
       "      <th>initial_temperature</th>\n",
       "      <th>final_temperature</th>\n",
       "      <th>gas_volume</th>\n",
       "      <th>bulk_3</th>\n",
       "      <th>bulk_4</th>\n",
       "      <th>bulk_6</th>\n",
       "      <th>bulk_12</th>\n",
       "      <th>bulk_14</th>\n",
       "      <th>bulk_15</th>\n",
       "      <th>bulk_other</th>\n",
       "      <th>wire_1</th>\n",
       "      <th>wire_2</th>\n",
       "      <th>wire_other</th>\n",
       "    </tr>\n",
       "  </thead>\n",
       "  <tbody>\n",
       "    <tr>\n",
       "      <th>0</th>\n",
       "      <td>1</td>\n",
       "      <td>3.718736</td>\n",
       "      <td>1098</td>\n",
       "      <td>1571.0</td>\n",
       "      <td>1613.0</td>\n",
       "      <td>29.749986</td>\n",
       "      <td>0.0</td>\n",
       "      <td>43.0</td>\n",
       "      <td>0.0</td>\n",
       "      <td>206.0</td>\n",
       "      <td>150.0</td>\n",
       "      <td>154.0</td>\n",
       "      <td>0.0</td>\n",
       "      <td>60.059998</td>\n",
       "      <td>0.00000</td>\n",
       "      <td>0.0</td>\n",
       "    </tr>\n",
       "    <tr>\n",
       "      <th>1</th>\n",
       "      <td>2</td>\n",
       "      <td>2.588349</td>\n",
       "      <td>811</td>\n",
       "      <td>1581.0</td>\n",
       "      <td>1602.0</td>\n",
       "      <td>12.555561</td>\n",
       "      <td>0.0</td>\n",
       "      <td>73.0</td>\n",
       "      <td>0.0</td>\n",
       "      <td>206.0</td>\n",
       "      <td>149.0</td>\n",
       "      <td>154.0</td>\n",
       "      <td>0.0</td>\n",
       "      <td>96.052315</td>\n",
       "      <td>0.00000</td>\n",
       "      <td>0.0</td>\n",
       "    </tr>\n",
       "    <tr>\n",
       "      <th>2</th>\n",
       "      <td>3</td>\n",
       "      <td>5.019223</td>\n",
       "      <td>655</td>\n",
       "      <td>1596.0</td>\n",
       "      <td>1599.0</td>\n",
       "      <td>28.554793</td>\n",
       "      <td>0.0</td>\n",
       "      <td>34.0</td>\n",
       "      <td>0.0</td>\n",
       "      <td>205.0</td>\n",
       "      <td>152.0</td>\n",
       "      <td>153.0</td>\n",
       "      <td>0.0</td>\n",
       "      <td>91.160157</td>\n",
       "      <td>0.00000</td>\n",
       "      <td>0.0</td>\n",
       "    </tr>\n",
       "    <tr>\n",
       "      <th>3</th>\n",
       "      <td>4</td>\n",
       "      <td>3.400038</td>\n",
       "      <td>741</td>\n",
       "      <td>1601.0</td>\n",
       "      <td>1625.0</td>\n",
       "      <td>18.841219</td>\n",
       "      <td>0.0</td>\n",
       "      <td>81.0</td>\n",
       "      <td>0.0</td>\n",
       "      <td>207.0</td>\n",
       "      <td>153.0</td>\n",
       "      <td>154.0</td>\n",
       "      <td>0.0</td>\n",
       "      <td>89.063515</td>\n",
       "      <td>0.00000</td>\n",
       "      <td>0.0</td>\n",
       "    </tr>\n",
       "    <tr>\n",
       "      <th>4</th>\n",
       "      <td>5</td>\n",
       "      <td>2.816980</td>\n",
       "      <td>869</td>\n",
       "      <td>1576.0</td>\n",
       "      <td>1602.0</td>\n",
       "      <td>5.413692</td>\n",
       "      <td>0.0</td>\n",
       "      <td>78.0</td>\n",
       "      <td>0.0</td>\n",
       "      <td>203.0</td>\n",
       "      <td>151.0</td>\n",
       "      <td>152.0</td>\n",
       "      <td>0.0</td>\n",
       "      <td>89.238236</td>\n",
       "      <td>9.11456</td>\n",
       "      <td>0.0</td>\n",
       "    </tr>\n",
       "    <tr>\n",
       "      <th>...</th>\n",
       "      <td>...</td>\n",
       "      <td>...</td>\n",
       "      <td>...</td>\n",
       "      <td>...</td>\n",
       "      <td>...</td>\n",
       "      <td>...</td>\n",
       "      <td>...</td>\n",
       "      <td>...</td>\n",
       "      <td>...</td>\n",
       "      <td>...</td>\n",
       "      <td>...</td>\n",
       "      <td>...</td>\n",
       "      <td>...</td>\n",
       "      <td>...</td>\n",
       "      <td>...</td>\n",
       "      <td>...</td>\n",
       "    </tr>\n",
       "    <tr>\n",
       "      <th>2320</th>\n",
       "      <td>2495</td>\n",
       "      <td>3.868721</td>\n",
       "      <td>723</td>\n",
       "      <td>1570.0</td>\n",
       "      <td>1591.0</td>\n",
       "      <td>7.125735</td>\n",
       "      <td>21.0</td>\n",
       "      <td>0.0</td>\n",
       "      <td>0.0</td>\n",
       "      <td>256.0</td>\n",
       "      <td>129.0</td>\n",
       "      <td>223.0</td>\n",
       "      <td>90.0</td>\n",
       "      <td>89.150879</td>\n",
       "      <td>0.00000</td>\n",
       "      <td>0.0</td>\n",
       "    </tr>\n",
       "    <tr>\n",
       "      <th>2321</th>\n",
       "      <td>2496</td>\n",
       "      <td>5.070316</td>\n",
       "      <td>940</td>\n",
       "      <td>1554.0</td>\n",
       "      <td>1591.0</td>\n",
       "      <td>9.412616</td>\n",
       "      <td>0.0</td>\n",
       "      <td>63.0</td>\n",
       "      <td>0.0</td>\n",
       "      <td>256.0</td>\n",
       "      <td>129.0</td>\n",
       "      <td>226.0</td>\n",
       "      <td>122.0</td>\n",
       "      <td>114.179527</td>\n",
       "      <td>0.00000</td>\n",
       "      <td>0.0</td>\n",
       "    </tr>\n",
       "    <tr>\n",
       "      <th>2322</th>\n",
       "      <td>2497</td>\n",
       "      <td>4.360918</td>\n",
       "      <td>569</td>\n",
       "      <td>1571.0</td>\n",
       "      <td>1589.0</td>\n",
       "      <td>6.271699</td>\n",
       "      <td>0.0</td>\n",
       "      <td>85.0</td>\n",
       "      <td>0.0</td>\n",
       "      <td>230.0</td>\n",
       "      <td>124.0</td>\n",
       "      <td>226.0</td>\n",
       "      <td>0.0</td>\n",
       "      <td>94.086723</td>\n",
       "      <td>9.04800</td>\n",
       "      <td>0.0</td>\n",
       "    </tr>\n",
       "    <tr>\n",
       "      <th>2323</th>\n",
       "      <td>2498</td>\n",
       "      <td>3.909917</td>\n",
       "      <td>750</td>\n",
       "      <td>1591.0</td>\n",
       "      <td>1594.0</td>\n",
       "      <td>14.953657</td>\n",
       "      <td>90.0</td>\n",
       "      <td>0.0</td>\n",
       "      <td>0.0</td>\n",
       "      <td>206.0</td>\n",
       "      <td>129.0</td>\n",
       "      <td>207.0</td>\n",
       "      <td>101.0</td>\n",
       "      <td>118.110717</td>\n",
       "      <td>0.00000</td>\n",
       "      <td>0.0</td>\n",
       "    </tr>\n",
       "    <tr>\n",
       "      <th>2324</th>\n",
       "      <td>2499</td>\n",
       "      <td>2.169252</td>\n",
       "      <td>883</td>\n",
       "      <td>1569.0</td>\n",
       "      <td>1603.0</td>\n",
       "      <td>11.336151</td>\n",
       "      <td>47.0</td>\n",
       "      <td>0.0</td>\n",
       "      <td>0.0</td>\n",
       "      <td>233.0</td>\n",
       "      <td>126.0</td>\n",
       "      <td>227.0</td>\n",
       "      <td>0.0</td>\n",
       "      <td>110.160958</td>\n",
       "      <td>50.00528</td>\n",
       "      <td>0.0</td>\n",
       "    </tr>\n",
       "  </tbody>\n",
       "</table>\n",
       "<p>2325 rows × 16 columns</p>\n",
       "</div>"
      ],
      "text/plain": [
       "       key  full_power  heating_time  initial_temperature  final_temperature  \\\n",
       "0        1    3.718736          1098               1571.0             1613.0   \n",
       "1        2    2.588349           811               1581.0             1602.0   \n",
       "2        3    5.019223           655               1596.0             1599.0   \n",
       "3        4    3.400038           741               1601.0             1625.0   \n",
       "4        5    2.816980           869               1576.0             1602.0   \n",
       "...    ...         ...           ...                  ...                ...   \n",
       "2320  2495    3.868721           723               1570.0             1591.0   \n",
       "2321  2496    5.070316           940               1554.0             1591.0   \n",
       "2322  2497    4.360918           569               1571.0             1589.0   \n",
       "2323  2498    3.909917           750               1591.0             1594.0   \n",
       "2324  2499    2.169252           883               1569.0             1603.0   \n",
       "\n",
       "      gas_volume  bulk_3  bulk_4  bulk_6  bulk_12  bulk_14  bulk_15  \\\n",
       "0      29.749986     0.0    43.0     0.0    206.0    150.0    154.0   \n",
       "1      12.555561     0.0    73.0     0.0    206.0    149.0    154.0   \n",
       "2      28.554793     0.0    34.0     0.0    205.0    152.0    153.0   \n",
       "3      18.841219     0.0    81.0     0.0    207.0    153.0    154.0   \n",
       "4       5.413692     0.0    78.0     0.0    203.0    151.0    152.0   \n",
       "...          ...     ...     ...     ...      ...      ...      ...   \n",
       "2320    7.125735    21.0     0.0     0.0    256.0    129.0    223.0   \n",
       "2321    9.412616     0.0    63.0     0.0    256.0    129.0    226.0   \n",
       "2322    6.271699     0.0    85.0     0.0    230.0    124.0    226.0   \n",
       "2323   14.953657    90.0     0.0     0.0    206.0    129.0    207.0   \n",
       "2324   11.336151    47.0     0.0     0.0    233.0    126.0    227.0   \n",
       "\n",
       "      bulk_other      wire_1    wire_2  wire_other  \n",
       "0            0.0   60.059998   0.00000         0.0  \n",
       "1            0.0   96.052315   0.00000         0.0  \n",
       "2            0.0   91.160157   0.00000         0.0  \n",
       "3            0.0   89.063515   0.00000         0.0  \n",
       "4            0.0   89.238236   9.11456         0.0  \n",
       "...          ...         ...       ...         ...  \n",
       "2320        90.0   89.150879   0.00000         0.0  \n",
       "2321       122.0  114.179527   0.00000         0.0  \n",
       "2322         0.0   94.086723   9.04800         0.0  \n",
       "2323       101.0  118.110717   0.00000         0.0  \n",
       "2324         0.0  110.160958  50.00528         0.0  \n",
       "\n",
       "[2325 rows x 16 columns]"
      ]
     },
     "execution_count": 36,
     "metadata": {},
     "output_type": "execute_result"
    }
   ],
   "source": [
    "data = data.merge(data_wire_new, on = 'key', how = 'inner')\n",
    "data"
   ]
  },
  {
   "cell_type": "markdown",
   "id": "d57c1af3",
   "metadata": {},
   "source": [
    "**Вывод:**\n",
    "\n"
   ]
  },
  {
   "cell_type": "markdown",
   "id": "e916e849",
   "metadata": {},
   "source": [
    "На данном этапе были:\n",
    "* Удалены анамалии, заполнены пропуски.\n",
    "* Материалы, которые использовались меньше 10%, объединили в один столбец.\n",
    "* Cоеденены все таблицы в одну по номеру партии."
   ]
  },
  {
   "cell_type": "markdown",
   "id": "7c9d78f9",
   "metadata": {},
   "source": [
    "## 4. Исследование итоговой таблицы с данными"
   ]
  },
  {
   "cell_type": "code",
   "execution_count": 37,
   "id": "796b713b",
   "metadata": {},
   "outputs": [
    {
     "name": "stdout",
     "output_type": "stream",
     "text": [
      "<class 'pandas.core.frame.DataFrame'>\n",
      "Int64Index: 2325 entries, 0 to 2324\n",
      "Data columns (total 16 columns):\n",
      " #   Column               Non-Null Count  Dtype  \n",
      "---  ------               --------------  -----  \n",
      " 0   key                  2325 non-null   int64  \n",
      " 1   full_power           2325 non-null   float64\n",
      " 2   heating_time         2325 non-null   int64  \n",
      " 3   initial_temperature  2325 non-null   float64\n",
      " 4   final_temperature    2325 non-null   float64\n",
      " 5   gas_volume           2325 non-null   float64\n",
      " 6   bulk_3               2325 non-null   float64\n",
      " 7   bulk_4               2325 non-null   float64\n",
      " 8   bulk_6               2325 non-null   float64\n",
      " 9   bulk_12              2325 non-null   float64\n",
      " 10  bulk_14              2325 non-null   float64\n",
      " 11  bulk_15              2325 non-null   float64\n",
      " 12  bulk_other           2325 non-null   float64\n",
      " 13  wire_1               2325 non-null   float64\n",
      " 14  wire_2               2325 non-null   float64\n",
      " 15  wire_other           2325 non-null   float64\n",
      "dtypes: float64(14), int64(2)\n",
      "memory usage: 308.8 KB\n"
     ]
    }
   ],
   "source": [
    "data.info()"
   ]
  },
  {
   "cell_type": "code",
   "execution_count": 38,
   "id": "18b97b5e",
   "metadata": {},
   "outputs": [
    {
     "data": {
      "text/html": [
       "<div>\n",
       "<style scoped>\n",
       "    .dataframe tbody tr th:only-of-type {\n",
       "        vertical-align: middle;\n",
       "    }\n",
       "\n",
       "    .dataframe tbody tr th {\n",
       "        vertical-align: top;\n",
       "    }\n",
       "\n",
       "    .dataframe thead th {\n",
       "        text-align: right;\n",
       "    }\n",
       "</style>\n",
       "<table border=\"1\" class=\"dataframe\">\n",
       "  <thead>\n",
       "    <tr style=\"text-align: right;\">\n",
       "      <th></th>\n",
       "      <th>key</th>\n",
       "      <th>full_power</th>\n",
       "      <th>heating_time</th>\n",
       "      <th>initial_temperature</th>\n",
       "      <th>final_temperature</th>\n",
       "      <th>gas_volume</th>\n",
       "      <th>bulk_3</th>\n",
       "      <th>bulk_4</th>\n",
       "      <th>bulk_6</th>\n",
       "      <th>bulk_12</th>\n",
       "      <th>bulk_14</th>\n",
       "      <th>bulk_15</th>\n",
       "      <th>bulk_other</th>\n",
       "      <th>wire_1</th>\n",
       "      <th>wire_2</th>\n",
       "      <th>wire_other</th>\n",
       "    </tr>\n",
       "  </thead>\n",
       "  <tbody>\n",
       "    <tr>\n",
       "      <th>count</th>\n",
       "      <td>2325.000000</td>\n",
       "      <td>2325.000000</td>\n",
       "      <td>2325.000000</td>\n",
       "      <td>2325.000000</td>\n",
       "      <td>2325.000000</td>\n",
       "      <td>2325.000000</td>\n",
       "      <td>2325.000000</td>\n",
       "      <td>2325.000000</td>\n",
       "      <td>2325.000000</td>\n",
       "      <td>2325.000000</td>\n",
       "      <td>2325.000000</td>\n",
       "      <td>2325.000000</td>\n",
       "      <td>2325.000000</td>\n",
       "      <td>2325.000000</td>\n",
       "      <td>2325.000000</td>\n",
       "      <td>2325.000000</td>\n",
       "    </tr>\n",
       "    <tr>\n",
       "      <th>mean</th>\n",
       "      <td>1251.512258</td>\n",
       "      <td>3.885528</td>\n",
       "      <td>807.988387</td>\n",
       "      <td>1587.365161</td>\n",
       "      <td>1593.366022</td>\n",
       "      <td>11.378942</td>\n",
       "      <td>47.296774</td>\n",
       "      <td>37.331613</td>\n",
       "      <td>22.468817</td>\n",
       "      <td>208.507957</td>\n",
       "      <td>153.971613</td>\n",
       "      <td>120.026667</td>\n",
       "      <td>20.361290</td>\n",
       "      <td>102.412198</td>\n",
       "      <td>17.605637</td>\n",
       "      <td>5.163939</td>\n",
       "    </tr>\n",
       "    <tr>\n",
       "      <th>std</th>\n",
       "      <td>715.099053</td>\n",
       "      <td>1.517546</td>\n",
       "      <td>340.888430</td>\n",
       "      <td>23.623144</td>\n",
       "      <td>11.209581</td>\n",
       "      <td>6.395632</td>\n",
       "      <td>75.228262</td>\n",
       "      <td>58.670377</td>\n",
       "      <td>55.831097</td>\n",
       "      <td>157.137873</td>\n",
       "      <td>81.398153</td>\n",
       "      <td>84.674380</td>\n",
       "      <td>69.069182</td>\n",
       "      <td>43.535263</td>\n",
       "      <td>33.642919</td>\n",
       "      <td>32.876993</td>\n",
       "    </tr>\n",
       "    <tr>\n",
       "      <th>min</th>\n",
       "      <td>1.000000</td>\n",
       "      <td>0.331897</td>\n",
       "      <td>57.000000</td>\n",
       "      <td>1519.000000</td>\n",
       "      <td>1541.000000</td>\n",
       "      <td>0.008399</td>\n",
       "      <td>0.000000</td>\n",
       "      <td>0.000000</td>\n",
       "      <td>0.000000</td>\n",
       "      <td>0.000000</td>\n",
       "      <td>0.000000</td>\n",
       "      <td>0.000000</td>\n",
       "      <td>0.000000</td>\n",
       "      <td>0.000000</td>\n",
       "      <td>0.000000</td>\n",
       "      <td>0.000000</td>\n",
       "    </tr>\n",
       "    <tr>\n",
       "      <th>25%</th>\n",
       "      <td>629.000000</td>\n",
       "      <td>2.844193</td>\n",
       "      <td>581.000000</td>\n",
       "      <td>1571.000000</td>\n",
       "      <td>1587.000000</td>\n",
       "      <td>7.282948</td>\n",
       "      <td>0.000000</td>\n",
       "      <td>0.000000</td>\n",
       "      <td>0.000000</td>\n",
       "      <td>105.000000</td>\n",
       "      <td>105.000000</td>\n",
       "      <td>0.000000</td>\n",
       "      <td>0.000000</td>\n",
       "      <td>73.207679</td>\n",
       "      <td>0.000000</td>\n",
       "      <td>0.000000</td>\n",
       "    </tr>\n",
       "    <tr>\n",
       "      <th>50%</th>\n",
       "      <td>1255.000000</td>\n",
       "      <td>3.769823</td>\n",
       "      <td>778.000000</td>\n",
       "      <td>1587.000000</td>\n",
       "      <td>1593.000000</td>\n",
       "      <td>10.100950</td>\n",
       "      <td>0.000000</td>\n",
       "      <td>0.000000</td>\n",
       "      <td>0.000000</td>\n",
       "      <td>206.000000</td>\n",
       "      <td>149.000000</td>\n",
       "      <td>107.000000</td>\n",
       "      <td>0.000000</td>\n",
       "      <td>101.087998</td>\n",
       "      <td>0.000000</td>\n",
       "      <td>0.000000</td>\n",
       "    </tr>\n",
       "    <tr>\n",
       "      <th>75%</th>\n",
       "      <td>1868.000000</td>\n",
       "      <td>4.769421</td>\n",
       "      <td>993.000000</td>\n",
       "      <td>1603.000000</td>\n",
       "      <td>1598.000000</td>\n",
       "      <td>14.217691</td>\n",
       "      <td>80.000000</td>\n",
       "      <td>77.000000</td>\n",
       "      <td>0.000000</td>\n",
       "      <td>283.000000</td>\n",
       "      <td>204.000000</td>\n",
       "      <td>204.000000</td>\n",
       "      <td>0.000000</td>\n",
       "      <td>128.069763</td>\n",
       "      <td>23.102560</td>\n",
       "      <td>0.000000</td>\n",
       "    </tr>\n",
       "    <tr>\n",
       "      <th>max</th>\n",
       "      <td>2499.000000</td>\n",
       "      <td>15.288271</td>\n",
       "      <td>4189.000000</td>\n",
       "      <td>1660.000000</td>\n",
       "      <td>1653.000000</td>\n",
       "      <td>77.995040</td>\n",
       "      <td>454.000000</td>\n",
       "      <td>281.000000</td>\n",
       "      <td>503.000000</td>\n",
       "      <td>1849.000000</td>\n",
       "      <td>636.000000</td>\n",
       "      <td>405.000000</td>\n",
       "      <td>1187.000000</td>\n",
       "      <td>330.314424</td>\n",
       "      <td>282.780152</td>\n",
       "      <td>385.008668</td>\n",
       "    </tr>\n",
       "  </tbody>\n",
       "</table>\n",
       "</div>"
      ],
      "text/plain": [
       "               key   full_power  heating_time  initial_temperature  \\\n",
       "count  2325.000000  2325.000000   2325.000000          2325.000000   \n",
       "mean   1251.512258     3.885528    807.988387          1587.365161   \n",
       "std     715.099053     1.517546    340.888430            23.623144   \n",
       "min       1.000000     0.331897     57.000000          1519.000000   \n",
       "25%     629.000000     2.844193    581.000000          1571.000000   \n",
       "50%    1255.000000     3.769823    778.000000          1587.000000   \n",
       "75%    1868.000000     4.769421    993.000000          1603.000000   \n",
       "max    2499.000000    15.288271   4189.000000          1660.000000   \n",
       "\n",
       "       final_temperature   gas_volume       bulk_3       bulk_4       bulk_6  \\\n",
       "count        2325.000000  2325.000000  2325.000000  2325.000000  2325.000000   \n",
       "mean         1593.366022    11.378942    47.296774    37.331613    22.468817   \n",
       "std            11.209581     6.395632    75.228262    58.670377    55.831097   \n",
       "min          1541.000000     0.008399     0.000000     0.000000     0.000000   \n",
       "25%          1587.000000     7.282948     0.000000     0.000000     0.000000   \n",
       "50%          1593.000000    10.100950     0.000000     0.000000     0.000000   \n",
       "75%          1598.000000    14.217691    80.000000    77.000000     0.000000   \n",
       "max          1653.000000    77.995040   454.000000   281.000000   503.000000   \n",
       "\n",
       "           bulk_12      bulk_14      bulk_15   bulk_other       wire_1  \\\n",
       "count  2325.000000  2325.000000  2325.000000  2325.000000  2325.000000   \n",
       "mean    208.507957   153.971613   120.026667    20.361290   102.412198   \n",
       "std     157.137873    81.398153    84.674380    69.069182    43.535263   \n",
       "min       0.000000     0.000000     0.000000     0.000000     0.000000   \n",
       "25%     105.000000   105.000000     0.000000     0.000000    73.207679   \n",
       "50%     206.000000   149.000000   107.000000     0.000000   101.087998   \n",
       "75%     283.000000   204.000000   204.000000     0.000000   128.069763   \n",
       "max    1849.000000   636.000000   405.000000  1187.000000   330.314424   \n",
       "\n",
       "            wire_2   wire_other  \n",
       "count  2325.000000  2325.000000  \n",
       "mean     17.605637     5.163939  \n",
       "std      33.642919    32.876993  \n",
       "min       0.000000     0.000000  \n",
       "25%       0.000000     0.000000  \n",
       "50%       0.000000     0.000000  \n",
       "75%      23.102560     0.000000  \n",
       "max     282.780152   385.008668  "
      ]
     },
     "execution_count": 38,
     "metadata": {},
     "output_type": "execute_result"
    }
   ],
   "source": [
    "data.describe()"
   ]
  },
  {
   "cell_type": "markdown",
   "id": "ac0e9819",
   "metadata": {},
   "source": [
    "По данным видно, что в таблице остались выбросы в столбце gas_volume. Удалим их после разделения  тренеровочной части."
   ]
  },
  {
   "cell_type": "code",
   "execution_count": 39,
   "id": "a1a08087",
   "metadata": {},
   "outputs": [
    {
     "data": {
      "image/png": "[encoded data removed]",
      "text/plain": [
       "<Figure size 432x288 with 1 Axes>"
      ]
     },
     "metadata": {
      "needs_background": "light"
     },
     "output_type": "display_data"
    },
    {
     "data": {
      "image/png": "[encoded data removed]",
      "text/plain": [
       "<Figure size 432x288 with 1 Axes>"
      ]
     },
     "metadata": {
      "needs_background": "light"
     },
     "output_type": "display_data"
    },
    {
     "data": {
      "image/png": "[encoded data removed]",
      "text/plain": [
       "<Figure size 432x288 with 1 Axes>"
      ]
     },
     "metadata": {
      "needs_background": "light"
     },
     "output_type": "display_data"
    },
    {
     "data": {
      "image/png": "[encoded data removed]",
      "text/plain": [
       "<Figure size 432x288 with 1 Axes>"
      ]
     },
     "metadata": {
      "needs_background": "light"
     },
     "output_type": "display_data"
    },
    {
     "data": {
      "image/png": "[encoded data removed]",
      "text/plain": [
       "<Figure size 432x288 with 1 Axes>"
      ]
     },
     "metadata": {
      "needs_background": "light"
     },
     "output_type": "display_data"
    },
    {
     "data": {
      "image/png": "[encoded data removed]",
      "text/plain": [
       "<Figure size 432x288 with 1 Axes>"
      ]
     },
     "metadata": {
      "needs_background": "light"
     },
     "output_type": "display_data"
    },
    {
     "data": {
      "image/png": "[encoded data removed]",
      "text/plain": [
       "<Figure size 432x288 with 1 Axes>"
      ]
     },
     "metadata": {
      "needs_background": "light"
     },
     "output_type": "display_data"
    },
    {
     "data": {
      "image/png": "[encoded data removed]",
      "text/plain": [
       "<Figure size 432x288 with 1 Axes>"
      ]
     },
     "metadata": {
      "needs_background": "light"
     },
     "output_type": "display_data"
    },
    {
     "data": {
      "image/png": "[encoded data removed]",
      "text/plain": [
       "<Figure size 432x288 with 1 Axes>"
      ]
     },
     "metadata": {
      "needs_background": "light"
     },
     "output_type": "display_data"
    },
    {
     "data": {
      "image/png": "[encoded data removed]",
      "text/plain": [
       "<Figure size 432x288 with 1 Axes>"
      ]
     },
     "metadata": {
      "needs_background": "light"
     },
     "output_type": "display_data"
    },
    {
     "data": {
      "image/png": "[encoded data removed]",
      "text/plain": [
       "<Figure size 432x288 with 1 Axes>"
      ]
     },
     "metadata": {
      "needs_background": "light"
     },
     "output_type": "display_data"
    },
    {
     "data": {
      "image/png": "[encoded data removed]",
      "text/plain": [
       "<Figure size 432x288 with 1 Axes>"
      ]
     },
     "metadata": {
      "needs_background": "light"
     },
     "output_type": "display_data"
    },
    {
     "data": {
      "image/png": "[encoded data removed]",
      "text/plain": [
       "<Figure size 432x288 with 1 Axes>"
      ]
     },
     "metadata": {
      "needs_background": "light"
     },
     "output_type": "display_data"
    },
    {
     "data": {
      "image/png": "[encoded data removed]",
      "text/plain": [
       "<Figure size 432x288 with 1 Axes>"
      ]
     },
     "metadata": {
      "needs_background": "light"
     },
     "output_type": "display_data"
    },
    {
     "data": {
      "image/png": "[encoded data removed]",
      "text/plain": [
       "<Figure size 432x288 with 1 Axes>"
      ]
     },
     "metadata": {
      "needs_background": "light"
     },
     "output_type": "display_data"
    },
    {
     "data": {
      "image/png": "[encoded data removed]",
      "text/plain": [
       "<Figure size 432x288 with 1 Axes>"
      ]
     },
     "metadata": {
      "needs_background": "light"
     },
     "output_type": "display_data"
    }
   ],
   "source": [
    "for column in data.columns:\n",
    "    hist = data[column].hist(bins = 100);\n",
    "    hist.set_title(column)\n",
    "    plt.show()"
   ]
  },
  {
   "cell_type": "markdown",
   "id": "920196c7",
   "metadata": {},
   "source": [
    "Построим \"ящик с усами\" для столбца full_power."
   ]
  },
  {
   "cell_type": "code",
   "execution_count": 40,
   "id": "74693b45",
   "metadata": {},
   "outputs": [
    {
     "data": {
      "image/png": "[encoded data removed]",
      "text/plain": [
       "<Figure size 720x720 with 1 Axes>"
      ]
     },
     "metadata": {
      "needs_background": "light"
     },
     "output_type": "display_data"
    }
   ],
   "source": [
    "data.boxplot('full_power', figsize = (10,10));"
   ]
  },
  {
   "cell_type": "markdown",
   "id": "44570fa4",
   "metadata": {},
   "source": [
    "В данном столбце full_power наблюдаются выбросы."
   ]
  },
  {
   "cell_type": "markdown",
   "id": "1608eb8b",
   "metadata": {},
   "source": [
    "Построим \"ящик с усами\" для столбца heating_time."
   ]
  },
  {
   "cell_type": "code",
   "execution_count": 41,
   "id": "4be536f0",
   "metadata": {},
   "outputs": [
    {
     "data": {
      "image/png": "[encoded data removed]",
      "text/plain": [
       "<Figure size 720x720 with 1 Axes>"
      ]
     },
     "metadata": {
      "needs_background": "light"
     },
     "output_type": "display_data"
    }
   ],
   "source": [
    "data.boxplot('heating_time', figsize = (10,10));"
   ]
  },
  {
   "cell_type": "markdown",
   "id": "8a22646f",
   "metadata": {},
   "source": [
    "В данном столбце heating_time наблюдаются выбросы."
   ]
  },
  {
   "cell_type": "markdown",
   "id": "6c54c272",
   "metadata": {},
   "source": [
    "Построим корреляционную матрицу."
   ]
  },
  {
   "cell_type": "code",
   "execution_count": 44,
   "id": "9e79882c",
   "metadata": {},
   "outputs": [
    {
     "data": {
      "image/png": "[encoded data removed]",
      "text/plain": [
       "<Figure size 1440x864 with 2 Axes>"
      ]
     },
     "metadata": {},
     "output_type": "display_data"
    }
   ],
   "source": [
    "plt.figure(figsize=(20, 12))\n",
    "plt.title('Корреляция признаков')\n",
    "sns.heatmap(data.corr(method='spearman'), annot = True, cmap=\"coolwarm\")\n",
    "plt.show()"
   ]
  },
  {
   "cell_type": "markdown",
   "id": "01fcd60d",
   "metadata": {},
   "source": [
    "По корреляционному анализу можем наблюдать, что есть связь между временем и мощностью нагревания. \n",
    "Также наблюдаются связи между материалами bulk_12 с bulk_14 и bulk_15, что может означать, что эти материалы добавляются совместно. Но так как у нас нет пар с корреляцией более 0.9, то ничего удалять не будем."
   ]
  },
  {
   "cell_type": "markdown",
   "id": "15f8a7d8",
   "metadata": {},
   "source": [
    "**Вывод:**\n",
    "\n",
    "Было проведено исследование итоговой таблицы с данными. Исследование показало наличие выбросов в столбцах gas_volume, full_power и heating_time, которые можно будет удалить в дальнейшем в тренеровочной части данных. Корреляционный анализ показал, что есть связь между временем и мощностью нагревания. Также наблюдаются связи между материалами bulk_12 с bulk_14 и bulk_15, что может означать, что эти материалы добавляются совместно. Но так как у нас нет пар с корреляцией более 0.9, то ничего удаляем."
   ]
  },
  {
   "cell_type": "markdown",
   "id": "c0f50684",
   "metadata": {},
   "source": [
    "## 5. Обучение модели"
   ]
  },
  {
   "cell_type": "code",
   "execution_count": 45,
   "id": "719afca3",
   "metadata": {},
   "outputs": [],
   "source": [
    "features = data.drop(['key','final_temperature'],axis=1)\n",
    "target = data['final_temperature']"
   ]
  },
  {
   "cell_type": "code",
   "execution_count": 46,
   "id": "1a169945",
   "metadata": {},
   "outputs": [],
   "source": [
    "features_train, features_test, target_train, target_test = train_test_split(features, target, test_size = 0.25, random_state = 240423)"
   ]
  },
  {
   "cell_type": "markdown",
   "id": "45112d97",
   "metadata": {},
   "source": [
    "Удалим из тренировочной части выбросы в столбцах gas_volume, full_power и heating_time."
   ]
  },
  {
   "cell_type": "code",
   "execution_count": 47,
   "id": "e1393898",
   "metadata": {},
   "outputs": [],
   "source": [
    "features_train = features_train.query('gas_volume < 50 & full_power < 10 & heating_time < 2000')\n",
    "target_train = target_train[features_train.index]"
   ]
  },
  {
   "cell_type": "markdown",
   "id": "51a90442",
   "metadata": {},
   "source": [
    "Масштабируем данные."
   ]
  },
  {
   "cell_type": "code",
   "execution_count": 48,
   "id": "67377d25",
   "metadata": {},
   "outputs": [
    {
     "data": {
      "text/plain": [
       "array([[ 1.17041249, -0.30283837,  0.45252646, ...,  1.80665219,\n",
       "        -0.51996922, -0.14535355],\n",
       "       [-0.38177504,  0.55155592, -1.4221909 , ...,  0.59722085,\n",
       "         2.73264773,  9.62668239],\n",
       "       [-0.40049494, -1.00683367,  1.43249235, ..., -0.26448515,\n",
       "        -0.51996922, -0.14535355],\n",
       "       ...,\n",
       "       [ 0.96867375,  0.3147575 , -1.59261975, ...,  1.19704661,\n",
       "        -0.51996922, -0.14535355],\n",
       "       [-0.90177002,  0.03315939, -0.27179615, ..., -0.17385943,\n",
       "        -0.51996922, -0.14535355],\n",
       "       [ 1.60346758, -0.40843766,  0.79338416, ..., -0.38278417,\n",
       "        -0.15475039, -0.14535355]])"
      ]
     },
     "execution_count": 48,
     "metadata": {},
     "output_type": "execute_result"
    }
   ],
   "source": [
    "scaler = StandardScaler()\n",
    "scaler.fit(features_train)\n",
    "features_train = scaler.transform(features_train)\n",
    "features_test = scaler.transform(features_test)\n",
    "features_train"
   ]
  },
  {
   "cell_type": "markdown",
   "id": "8ecca819",
   "metadata": {},
   "source": [
    "Построим модель с использованием алгоритма случайного леса."
   ]
  },
  {
   "cell_type": "code",
   "execution_count": 49,
   "id": "428e8ed7",
   "metadata": {},
   "outputs": [
    {
     "name": "stdout",
     "output_type": "stream",
     "text": [
      "RandomForestRegressor(max_depth=15, n_estimators=130, random_state=240423)\n",
      "-6.306346697785631\n"
     ]
    }
   ],
   "source": [
    "model = RandomForestRegressor(random_state = 240423)\n",
    "params = {'max_depth':np.arange(1,20),\n",
    "         'n_estimators':np.arange(20, 150, 10)}\n",
    "search_RandomForestRegressor = RandomizedSearchCV(estimator = model, param_distributions = params, cv = 3, scoring = 'neg_mean_absolute_error')\n",
    "search_RandomForestRegressor.fit(features_train,target_train)\n",
    "best_model_search_RandomForestRegressor = search_RandomForestRegressor.best_estimator_\n",
    "print(search_RandomForestRegressor.best_estimator_)\n",
    "print(search_RandomForestRegressor.best_score_)"
   ]
  },
  {
   "cell_type": "markdown",
   "id": "84c46cc2",
   "metadata": {},
   "source": [
    "Построим модель с использованием линейной регрессии."
   ]
  },
  {
   "cell_type": "code",
   "execution_count": 50,
   "id": "663364b9",
   "metadata": {},
   "outputs": [
    {
     "data": {
      "text/plain": [
       "-6.333036521827158"
      ]
     },
     "execution_count": 50,
     "metadata": {},
     "output_type": "execute_result"
    }
   ],
   "source": [
    "model_LinearRegression = LinearRegression()\n",
    "model_LinearRegression_score = cross_val_score(model_LinearRegression,features_train, target_train, cv = 3, scoring = 'neg_mean_absolute_error').mean()\n",
    "model_LinearRegression_score"
   ]
  },
  {
   "cell_type": "markdown",
   "id": "cabfd039",
   "metadata": {},
   "source": [
    "Построим модель с использованием бустинга LightGBM."
   ]
  },
  {
   "cell_type": "code",
   "execution_count": 51,
   "id": "f0054ef9",
   "metadata": {},
   "outputs": [
    {
     "name": "stdout",
     "output_type": "stream",
     "text": [
      "LGBMRegressor(max_depth=5, n_estimators=60, random_state=240423)\n",
      "-6.205963148291985\n"
     ]
    }
   ],
   "source": [
    "model = LGBMRegressor(random_state = 240423)\n",
    "params = {'max_depth':np.arange(5,20),\n",
    "         'n_estimators':np.arange(20, 150, 10)}\n",
    "search_LGBMRegressor = GridSearchCV(estimator = model, param_grid = params, cv = 3, scoring = 'neg_mean_absolute_error')\n",
    "search_LGBMRegressor.fit(features_train,target_train)\n",
    "best_model_search_LGBMRegressor = search_LGBMRegressor.best_estimator_\n",
    "print(search_LGBMRegressor.best_estimator_)\n",
    "print(search_LGBMRegressor.best_score_)"
   ]
  },
  {
   "cell_type": "markdown",
   "id": "3b708643",
   "metadata": {},
   "source": [
    "Построим константную модель для сравнения результата."
   ]
  },
  {
   "cell_type": "code",
   "execution_count": 52,
   "id": "c71a4c7d",
   "metadata": {},
   "outputs": [
    {
     "data": {
      "text/plain": [
       "-8.038948626343155"
      ]
     },
     "execution_count": 52,
     "metadata": {},
     "output_type": "execute_result"
    }
   ],
   "source": [
    "model_DummyRegressor = DummyRegressor(strategy=\"mean\")\n",
    "model_DummyRegressor_score = cross_val_score(model_DummyRegressor,features_train, target_train, cv = 3, scoring = 'neg_mean_absolute_error').mean()\n",
    "model_DummyRegressor_score"
   ]
  },
  {
   "cell_type": "code",
   "execution_count": 53,
   "id": "b7b0c962",
   "metadata": {},
   "outputs": [
    {
     "data": {
      "text/html": [
       "<div>\n",
       "<style scoped>\n",
       "    .dataframe tbody tr th:only-of-type {\n",
       "        vertical-align: middle;\n",
       "    }\n",
       "\n",
       "    .dataframe tbody tr th {\n",
       "        vertical-align: top;\n",
       "    }\n",
       "\n",
       "    .dataframe thead th {\n",
       "        text-align: right;\n",
       "    }\n",
       "</style>\n",
       "<table border=\"1\" class=\"dataframe\">\n",
       "  <thead>\n",
       "    <tr style=\"text-align: right;\">\n",
       "      <th></th>\n",
       "      <th>Модель</th>\n",
       "      <th>best_score</th>\n",
       "    </tr>\n",
       "  </thead>\n",
       "  <tbody>\n",
       "    <tr>\n",
       "      <th>0</th>\n",
       "      <td>(DecisionTreeRegressor(max_depth=15, max_featu...</td>\n",
       "      <td>-6.306347</td>\n",
       "    </tr>\n",
       "    <tr>\n",
       "      <th>1</th>\n",
       "      <td>LinearRegression()</td>\n",
       "      <td>-6.333037</td>\n",
       "    </tr>\n",
       "    <tr>\n",
       "      <th>2</th>\n",
       "      <td>LGBMRegressor(max_depth=5, n_estimators=60, ra...</td>\n",
       "      <td>-6.205963</td>\n",
       "    </tr>\n",
       "    <tr>\n",
       "      <th>3</th>\n",
       "      <td>DummyRegressor()</td>\n",
       "      <td>-8.038949</td>\n",
       "    </tr>\n",
       "  </tbody>\n",
       "</table>\n",
       "</div>"
      ],
      "text/plain": [
       "                                              Модель  best_score\n",
       "0  (DecisionTreeRegressor(max_depth=15, max_featu...   -6.306347\n",
       "1                                 LinearRegression()   -6.333037\n",
       "2  LGBMRegressor(max_depth=5, n_estimators=60, ra...   -6.205963\n",
       "3                                   DummyRegressor()   -8.038949"
      ]
     },
     "execution_count": 53,
     "metadata": {},
     "output_type": "execute_result"
    }
   ],
   "source": [
    "pd.DataFrame({'Модель':[best_model_search_RandomForestRegressor,model_LinearRegression,best_model_search_LGBMRegressor,model_DummyRegressor],'best_score':[search_RandomForestRegressor.best_score_,model_LinearRegression_score,search_LGBMRegressor.best_score_,model_DummyRegressor_score]})"
   ]
  },
  {
   "cell_type": "markdown",
   "id": "a8818e28",
   "metadata": {},
   "source": [
    "**Вывод:**\n",
    "\n"
   ]
  },
  {
   "cell_type": "markdown",
   "id": "3429f917",
   "metadata": {},
   "source": [
    "Наилучший результат по метрике MAE показала модель LGBMRegressor(max_depth=5, n_estimators=60, random_state=240423)."
   ]
  },
  {
   "cell_type": "markdown",
   "id": "cb657853",
   "metadata": {},
   "source": [
    "## 6. Проверка моделей"
   ]
  },
  {
   "cell_type": "markdown",
   "id": "722ddfb8",
   "metadata": {},
   "source": [
    "Проверим модель LGBMRegressor(max_depth=5, n_estimators=60, random_state=240423) на тестовых данных"
   ]
  },
  {
   "cell_type": "code",
   "execution_count": 54,
   "id": "dd57b5e3",
   "metadata": {},
   "outputs": [
    {
     "data": {
      "text/plain": [
       "6.287752935688193"
      ]
     },
     "execution_count": 54,
     "metadata": {},
     "output_type": "execute_result"
    }
   ],
   "source": [
    "predictions = best_model_search_LGBMRegressor.predict(features_test)\n",
    "mean_absolute_error(target_test, predictions)"
   ]
  },
  {
   "cell_type": "markdown",
   "id": "ed01959a",
   "metadata": {},
   "source": [
    "Построим диаграмму для анализа важности факторов."
   ]
  },
  {
   "cell_type": "code",
   "execution_count": 55,
   "id": "f52525cd",
   "metadata": {},
   "outputs": [
    {
     "data": {
      "image/png": "[encoded data removed]",
      "text/plain": [
       "<Figure size 2160x1440 with 1 Axes>"
      ]
     },
     "metadata": {},
     "output_type": "display_data"
    }
   ],
   "source": [
    "plt.bar(features.columns,best_model_search_LGBMRegressor.feature_importances_);"
   ]
  },
  {
   "cell_type": "markdown",
   "id": "e731d04c",
   "metadata": {},
   "source": [
    "По диаграмме можно сделать вывод, что наиболее значительными признаками в данной модели являются начальная температура и время нагрева."
   ]
  },
  {
   "cell_type": "markdown",
   "id": "203a45ba",
   "metadata": {},
   "source": [
    "**Вывод:**\n",
    "\n"
   ]
  },
  {
   "cell_type": "markdown",
   "id": "811ee239",
   "metadata": {},
   "source": [
    "Модель LGBMRegressor(max_depth=5, n_estimators=60, random_state=240423) показала хороший результат 6.29 (< 6.8 по условиям задачи). Анализ важности факторов показал, что наиболее значительными признаками в данной модели являются начальная температура, время нагрева и подача газа."
   ]
  },
  {
   "cell_type": "markdown",
   "id": "f6c10620",
   "metadata": {},
   "source": [
    "## 7. Общий вывод"
   ]
  },
  {
   "cell_type": "markdown",
   "id": "45dfb3d8",
   "metadata": {},
   "source": [
    "1. Подготовка данных.\n",
    "\n",
    "    На этапе подготовке данных было выполнено:\n",
    "    * Импорт необходимых библиотек;\n",
    "    * Чтение файлов и сохранение полученных данных в переменные;\n",
    "    * Получение общей информации о таблицах (head, info, describe);\n",
    "    * Корректировка наименований столбцов.\n",
    "    \n",
    "\n",
    "2. Анализ данных\n",
    "\n",
    "    Были изучены данные.\n",
    "\n",
    "    В таблице data_arc_new столбце \"reactive_power\" наблюдаются отрицательные значения, что является аномалией.\n",
    "\n",
    "    В таблицах data_bulk_new и data_wire_new замечены пропуски, что говорит о том, что материал не был добавлен. Пропуски заменить на 0. Также можно заметить, что некоторые материалы используются менее 10% от общего количества, следовательно, их можно будет объединить в одну группу.\n",
    "\n",
    "    По диаграмме \"ящик с усами\" для таблицы data_gas_new можно сделать вывод, что наблюдаются выбросы в столбце gas_volume.\n",
    "\n",
    "    \"Ящик с усами\" для таблицы data_temp_new показал, что помимо выбросов наблюдаются аномальные значения ниже 1300. Также в столбце \"temperature\" в таблице data_temp_new наблюдаются пропуски. Так как температура в данном проекте является целевым признаком, то необходимо будет удалить стороки с пропущенными значениями в этом столбце.\n",
    "\n",
    "    В данной задаче требуется построить модель, которая предскажет температуру стали, следовательно, решается задача регрессии. Принято решение рассмотреть в проекте модели случайного леса, линейной регрессии и модель с использованием градиентного бустинга.\n",
    "\n",
    "    Для построения модели понадобится таблица со следующими столбцами:\n",
    "\n",
    "   *  Полная мощность;\n",
    "   * Время, в течение которого подогревали в секундах;\n",
    "   * Начальная температура;\n",
    "   * Продувка сплава газом;\n",
    "   * Столбцы с материалами, которые были добавлены;\n",
    "   * Конечная температура.\n",
    "\n",
    "3. Предобработка данных\n",
    "\n",
    "    На данном этапе были:\n",
    "\n",
    "    * Удалены анамалии, заполнены пропуски.\n",
    "    * Материалы, которые использовались меньше 10%, объединили в один столбец.\n",
    "    * Cоеденены все таблицы в одну по номеру партии.\n",
    "\n",
    "4. Исследование итоговой таблицы с данными\n",
    "\n",
    "    Было проведено исследование итоговой таблицы с данными. Исследование показало наличие выбросов в столбцах gas_volume, full_power и heating_time, которые можно будет удалить в дальнейшем в тренеровочной части данных. Корреляционный анализ показал, что есть связь между временем и мощностью нагревания. Также наблюдаются связи между материалами bulk_12 с bulk_14 и bulk_15, что может означать, что эти материалы добавляются совместно. Но так как у нас нет пар с корреляцией более 0.9, то ничего удаляем.\n",
    "    \n",
    "\n",
    "5. Обучение модели\n",
    "\n",
    "    Наилучший результат по метрике MAE показала модель LGBMRegressor(max_depth=5, n_estimators=60, random_state=240423).\n",
    "    \n",
    "\n",
    "6. Проверка моделей\n",
    "\n",
    "    Модель LGBMRegressor(max_depth=5, n_estimators=60, random_state=240423) показала хороший результат 6.29 (< 6.8 по условиям задачи). Анализ важности факторов показал, что наиболее значительными признаками в данной модели являются начальная температура, время нагрева и подача газа.\n"
   ]
  }
 ],
 "metadata": {
  "ExecuteTimeLog": [
   {
    "duration": 372,
    "start_time": "2023-04-26T07:35:41.101Z"
   },
   {
    "duration": 176,
    "start_time": "2023-04-26T07:35:41.477Z"
   },
   {
    "duration": 3,
    "start_time": "2023-04-26T07:36:16.503Z"
   },
   {
    "duration": 27,
    "start_time": "2023-04-26T07:36:17.802Z"
   },
   {
    "duration": 55,
    "start_time": "2023-04-26T07:36:36.704Z"
   },
   {
    "duration": 22,
    "start_time": "2023-04-26T07:36:56.000Z"
   },
   {
    "duration": 19,
    "start_time": "2023-04-26T07:36:57.440Z"
   },
   {
    "duration": 19,
    "start_time": "2023-04-26T07:36:58.580Z"
   },
   {
    "duration": 2589,
    "start_time": "2023-05-02T04:32:36.806Z"
   },
   {
    "duration": 660,
    "start_time": "2023-05-02T04:32:39.396Z"
   },
   {
    "duration": 3,
    "start_time": "2023-05-02T04:32:40.058Z"
   },
   {
    "duration": 31,
    "start_time": "2023-05-02T04:32:40.063Z"
   },
   {
    "duration": 5,
    "start_time": "2023-05-02T04:32:40.095Z"
   },
   {
    "duration": 56,
    "start_time": "2023-05-02T04:32:40.101Z"
   },
   {
    "duration": 4,
    "start_time": "2023-05-02T04:32:40.159Z"
   },
   {
    "duration": 22,
    "start_time": "2023-05-02T04:32:40.412Z"
   },
   {
    "duration": 18,
    "start_time": "2023-05-02T04:32:40.723Z"
   },
   {
    "duration": 11,
    "start_time": "2023-05-02T04:32:41.326Z"
   },
   {
    "duration": 21,
    "start_time": "2023-05-02T04:32:41.705Z"
   },
   {
    "duration": 13,
    "start_time": "2023-05-02T04:32:42.047Z"
   },
   {
    "duration": 43,
    "start_time": "2023-05-02T04:33:21.312Z"
   },
   {
    "duration": 4,
    "start_time": "2023-05-02T04:33:22.310Z"
   },
   {
    "duration": 20,
    "start_time": "2023-05-02T04:33:23.211Z"
   },
   {
    "duration": 385,
    "start_time": "2023-05-02T04:33:45.512Z"
   },
   {
    "duration": 326,
    "start_time": "2023-05-02T04:33:47.722Z"
   },
   {
    "duration": 3156,
    "start_time": "2023-05-02T04:33:56.043Z"
   },
   {
    "duration": 236,
    "start_time": "2023-05-02T04:33:59.200Z"
   },
   {
    "duration": 128,
    "start_time": "2023-05-02T04:33:59.438Z"
   },
   {
    "duration": 227,
    "start_time": "2023-05-02T04:34:00.867Z"
   },
   {
    "duration": 119,
    "start_time": "2023-05-02T04:34:01.777Z"
   },
   {
    "duration": 2186,
    "start_time": "2023-05-02T04:34:03.612Z"
   },
   {
    "duration": 14,
    "start_time": "2023-05-02T04:34:41.775Z"
   },
   {
    "duration": 28,
    "start_time": "2023-05-02T04:35:32.633Z"
   },
   {
    "duration": 16,
    "start_time": "2023-05-02T04:35:41.203Z"
   },
   {
    "duration": 7,
    "start_time": "2023-05-02T04:36:27.984Z"
   },
   {
    "duration": 8,
    "start_time": "2023-05-02T04:36:49.631Z"
   },
   {
    "duration": 27,
    "start_time": "2023-05-02T04:36:51.013Z"
   },
   {
    "duration": 20,
    "start_time": "2023-05-02T04:39:26.013Z"
   },
   {
    "duration": 6,
    "start_time": "2023-05-02T04:39:49.815Z"
   },
   {
    "duration": 17,
    "start_time": "2023-05-02T04:40:37.614Z"
   },
   {
    "duration": 3,
    "start_time": "2023-05-02T04:40:43.170Z"
   },
   {
    "duration": 11,
    "start_time": "2023-05-02T04:40:44.677Z"
   },
   {
    "duration": 24,
    "start_time": "2023-05-02T04:40:48.439Z"
   },
   {
    "duration": 4,
    "start_time": "2023-05-02T04:41:24.212Z"
   },
   {
    "duration": 7,
    "start_time": "2023-05-02T04:41:26.012Z"
   },
   {
    "duration": 26,
    "start_time": "2023-05-02T04:41:27.908Z"
   },
   {
    "duration": 12,
    "start_time": "2023-05-02T04:44:46.915Z"
   },
   {
    "duration": 52,
    "start_time": "2023-05-02T04:44:47.515Z"
   },
   {
    "duration": 4328,
    "start_time": "2023-05-02T04:44:49.652Z"
   },
   {
    "duration": 120,
    "start_time": "2023-05-02T04:45:53.822Z"
   },
   {
    "duration": 99,
    "start_time": "2023-05-02T04:45:55.538Z"
   },
   {
    "duration": 20,
    "start_time": "2023-05-02T04:45:58.013Z"
   },
   {
    "duration": 508,
    "start_time": "2023-05-02T04:46:01.164Z"
   },
   {
    "duration": 4,
    "start_time": "2023-05-02T04:46:27.480Z"
   },
   {
    "duration": 1573,
    "start_time": "2023-05-02T04:46:54.866Z"
   },
   {
    "duration": 4,
    "start_time": "2023-05-02T04:50:20.878Z"
   },
   {
    "duration": 6,
    "start_time": "2023-05-02T04:50:22.277Z"
   },
   {
    "duration": 7,
    "start_time": "2023-05-02T04:50:44.808Z"
   },
   {
    "duration": 11,
    "start_time": "2023-05-02T04:50:46.511Z"
   },
   {
    "duration": 3029,
    "start_time": "2023-05-02T04:51:28.283Z"
   },
   {
    "duration": 11,
    "start_time": "2023-05-02T04:52:08.512Z"
   },
   {
    "duration": 1086,
    "start_time": "2023-05-02T04:54:07.756Z"
   },
   {
    "duration": 9,
    "start_time": "2023-05-02T04:54:23.616Z"
   },
   {
    "duration": 10,
    "start_time": "2023-05-02T04:54:26.972Z"
   },
   {
    "duration": 323,
    "start_time": "2023-05-02T04:54:29.457Z"
   },
   {
    "duration": 1950,
    "start_time": "2023-05-02T07:30:11.578Z"
   },
   {
    "duration": 695,
    "start_time": "2023-05-02T07:30:13.530Z"
   },
   {
    "duration": 3,
    "start_time": "2023-05-02T07:30:14.228Z"
   },
   {
    "duration": 34,
    "start_time": "2023-05-02T07:30:14.233Z"
   },
   {
    "duration": 5,
    "start_time": "2023-05-02T07:30:14.270Z"
   },
   {
    "duration": 76,
    "start_time": "2023-05-02T07:30:14.277Z"
   },
   {
    "duration": 5,
    "start_time": "2023-05-02T07:30:14.355Z"
   },
   {
    "duration": 29,
    "start_time": "2023-05-02T07:30:14.362Z"
   },
   {
    "duration": 52,
    "start_time": "2023-05-02T07:30:14.393Z"
   },
   {
    "duration": 15,
    "start_time": "2023-05-02T07:30:14.447Z"
   },
   {
    "duration": 25,
    "start_time": "2023-05-02T07:30:14.464Z"
   },
   {
    "duration": 13,
    "start_time": "2023-05-02T07:30:14.491Z"
   },
   {
    "duration": 44,
    "start_time": "2023-05-02T07:30:14.534Z"
   },
   {
    "duration": 4,
    "start_time": "2023-05-02T07:30:14.581Z"
   },
   {
    "duration": 48,
    "start_time": "2023-05-02T07:30:14.587Z"
   },
   {
    "duration": 433,
    "start_time": "2023-05-02T07:30:14.637Z"
   },
   {
    "duration": 347,
    "start_time": "2023-05-02T07:30:15.072Z"
   },
   {
    "duration": 3913,
    "start_time": "2023-05-02T07:30:15.421Z"
   },
   {
    "duration": 290,
    "start_time": "2023-05-02T07:30:19.335Z"
   },
   {
    "duration": 152,
    "start_time": "2023-05-02T07:30:19.627Z"
   },
   {
    "duration": 269,
    "start_time": "2023-05-02T07:30:19.781Z"
   },
   {
    "duration": 142,
    "start_time": "2023-05-02T07:30:20.052Z"
   },
   {
    "duration": 2555,
    "start_time": "2023-05-02T07:30:20.196Z"
   },
   {
    "duration": 16,
    "start_time": "2023-05-02T07:30:22.753Z"
   },
   {
    "duration": 30,
    "start_time": "2023-05-02T07:30:22.771Z"
   },
   {
    "duration": 46,
    "start_time": "2023-05-02T07:30:22.803Z"
   },
   {
    "duration": 8,
    "start_time": "2023-05-02T07:30:22.850Z"
   },
   {
    "duration": 35,
    "start_time": "2023-05-02T07:30:22.860Z"
   },
   {
    "duration": 51,
    "start_time": "2023-05-02T07:30:22.898Z"
   },
   {
    "duration": 23,
    "start_time": "2023-05-02T07:30:22.950Z"
   },
   {
    "duration": 4,
    "start_time": "2023-05-02T07:30:22.975Z"
   },
   {
    "duration": 15,
    "start_time": "2023-05-02T07:30:22.981Z"
   },
   {
    "duration": 65,
    "start_time": "2023-05-02T07:30:22.998Z"
   },
   {
    "duration": 4,
    "start_time": "2023-05-02T07:30:23.065Z"
   },
   {
    "duration": 15,
    "start_time": "2023-05-02T07:30:23.071Z"
   },
   {
    "duration": 53,
    "start_time": "2023-05-02T07:30:23.088Z"
   },
   {
    "duration": 13,
    "start_time": "2023-05-02T07:30:23.144Z"
   },
   {
    "duration": 82,
    "start_time": "2023-05-02T07:30:23.159Z"
   },
   {
    "duration": 4726,
    "start_time": "2023-05-02T07:30:23.243Z"
   },
   {
    "duration": 162,
    "start_time": "2023-05-02T07:30:27.971Z"
   },
   {
    "duration": 139,
    "start_time": "2023-05-02T07:30:28.138Z"
   },
   {
    "duration": 24,
    "start_time": "2023-05-02T07:30:28.279Z"
   },
   {
    "duration": 690,
    "start_time": "2023-05-02T07:30:28.305Z"
   },
   {
    "duration": 2117,
    "start_time": "2023-05-02T07:30:28.997Z"
   },
   {
    "duration": 5,
    "start_time": "2023-05-02T07:30:31.115Z"
   },
   {
    "duration": 29,
    "start_time": "2023-05-02T07:30:31.122Z"
   },
   {
    "duration": 82,
    "start_time": "2023-05-02T07:30:31.154Z"
   },
   {
    "duration": 22,
    "start_time": "2023-05-02T07:30:31.239Z"
   },
   {
    "duration": 13673,
    "start_time": "2023-05-02T07:30:31.263Z"
   },
   {
    "duration": 17,
    "start_time": "2023-05-02T07:30:44.938Z"
   },
   {
    "duration": 1520,
    "start_time": "2023-05-02T07:34:34.250Z"
   },
   {
    "duration": 192,
    "start_time": "2023-05-02T07:34:35.772Z"
   },
   {
    "duration": 5,
    "start_time": "2023-05-02T07:34:35.965Z"
   },
   {
    "duration": 41,
    "start_time": "2023-05-02T07:34:35.973Z"
   },
   {
    "duration": 5,
    "start_time": "2023-05-02T07:34:36.016Z"
   },
   {
    "duration": 78,
    "start_time": "2023-05-02T07:34:36.023Z"
   },
   {
    "duration": 5,
    "start_time": "2023-05-02T07:34:36.103Z"
   },
   {
    "duration": 33,
    "start_time": "2023-05-02T07:34:36.109Z"
   },
   {
    "duration": 24,
    "start_time": "2023-05-02T07:34:36.145Z"
   },
   {
    "duration": 16,
    "start_time": "2023-05-02T07:34:36.173Z"
   },
   {
    "duration": 50,
    "start_time": "2023-05-02T07:34:36.191Z"
   },
   {
    "duration": 16,
    "start_time": "2023-05-02T07:34:36.243Z"
   },
   {
    "duration": 58,
    "start_time": "2023-05-02T07:34:36.261Z"
   },
   {
    "duration": 12,
    "start_time": "2023-05-02T07:34:36.321Z"
   },
   {
    "duration": 37,
    "start_time": "2023-05-02T07:34:36.335Z"
   },
   {
    "duration": 503,
    "start_time": "2023-05-02T07:34:36.374Z"
   },
   {
    "duration": 387,
    "start_time": "2023-05-02T07:34:36.879Z"
   },
   {
    "duration": 3909,
    "start_time": "2023-05-02T07:34:37.268Z"
   },
   {
    "duration": 284,
    "start_time": "2023-05-02T07:34:41.179Z"
   },
   {
    "duration": 151,
    "start_time": "2023-05-02T07:34:41.465Z"
   },
   {
    "duration": 277,
    "start_time": "2023-05-02T07:34:41.618Z"
   },
   {
    "duration": 161,
    "start_time": "2023-05-02T07:34:41.896Z"
   },
   {
    "duration": 2641,
    "start_time": "2023-05-02T07:34:42.059Z"
   },
   {
    "duration": 16,
    "start_time": "2023-05-02T07:34:44.702Z"
   },
   {
    "duration": 85,
    "start_time": "2023-05-02T07:34:44.720Z"
   },
   {
    "duration": 26,
    "start_time": "2023-05-02T07:34:44.807Z"
   },
   {
    "duration": 10,
    "start_time": "2023-05-02T07:34:44.835Z"
   },
   {
    "duration": 42,
    "start_time": "2023-05-02T07:34:44.849Z"
   },
   {
    "duration": 33,
    "start_time": "2023-05-02T07:34:44.893Z"
   },
   {
    "duration": 38,
    "start_time": "2023-05-02T07:34:44.928Z"
   },
   {
    "duration": 3,
    "start_time": "2023-05-02T07:34:44.968Z"
   },
   {
    "duration": 11,
    "start_time": "2023-05-02T07:34:44.973Z"
   },
   {
    "duration": 40,
    "start_time": "2023-05-02T07:34:44.986Z"
   },
   {
    "duration": 4,
    "start_time": "2023-05-02T07:34:45.034Z"
   },
   {
    "duration": 24,
    "start_time": "2023-05-02T07:34:45.040Z"
   },
   {
    "duration": 38,
    "start_time": "2023-05-02T07:34:45.066Z"
   },
   {
    "duration": 14,
    "start_time": "2023-05-02T07:34:45.106Z"
   },
   {
    "duration": 73,
    "start_time": "2023-05-02T07:34:45.122Z"
   },
   {
    "duration": 4619,
    "start_time": "2023-05-02T07:34:45.197Z"
   },
   {
    "duration": 152,
    "start_time": "2023-05-02T07:34:49.819Z"
   },
   {
    "duration": 159,
    "start_time": "2023-05-02T07:34:49.973Z"
   },
   {
    "duration": 25,
    "start_time": "2023-05-02T07:34:50.134Z"
   },
   {
    "duration": 615,
    "start_time": "2023-05-02T07:34:50.160Z"
   },
   {
    "duration": 1981,
    "start_time": "2023-05-02T07:34:50.777Z"
   },
   {
    "duration": 6,
    "start_time": "2023-05-02T07:34:52.760Z"
   },
   {
    "duration": 28,
    "start_time": "2023-05-02T07:34:52.768Z"
   },
   {
    "duration": 36,
    "start_time": "2023-05-02T07:34:52.798Z"
   },
   {
    "duration": 17,
    "start_time": "2023-05-02T07:34:52.837Z"
   },
   {
    "duration": 13314,
    "start_time": "2023-05-02T07:34:52.855Z"
   },
   {
    "duration": 63,
    "start_time": "2023-05-02T07:35:06.171Z"
   },
   {
    "duration": 516502,
    "start_time": "2023-05-02T07:35:06.236Z"
   },
   {
    "duration": 11,
    "start_time": "2023-05-02T07:43:42.740Z"
   },
   {
    "duration": 101,
    "start_time": "2023-05-02T07:43:42.754Z"
   },
   {
    "duration": 9,
    "start_time": "2023-05-02T07:43:42.857Z"
   },
   {
    "duration": 447,
    "start_time": "2023-05-02T07:43:42.868Z"
   }
  ],
  "kernelspec": {
   "display_name": "Python 3 (ipykernel)",
   "language": "python",
   "name": "python3"
  },
  "language_info": {
   "codemirror_mode": {
    "name": "ipython",
    "version": 3
   },
   "file_extension": ".py",
   "mimetype": "text/x-python",
   "name": "python",
   "nbconvert_exporter": "python",
   "pygments_lexer": "ipython3",
   "version": "3.9.12"
  },
  "toc": {
   "base_numbering": 1,
   "nav_menu": {},
   "number_sections": true,
   "sideBar": true,
   "skip_h1_title": true,
   "title_cell": "Table of Contents",
   "title_sidebar": "Contents",
   "toc_cell": false,
   "toc_position": {},
   "toc_section_display": true,
   "toc_window_display": false
  }
 },
 "nbformat": 4,
 "nbformat_minor": 5
}
