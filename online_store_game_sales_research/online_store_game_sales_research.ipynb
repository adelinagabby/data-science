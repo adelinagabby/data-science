{
 "cells": [
  {
   "cell_type": "markdown",
   "metadata": {},
   "source": [
    "# Исследование продаж игр интернет-магазина «Стримчик»"
   ]
  },
  {
   "cell_type": "markdown",
   "metadata": {},
   "source": [
    "**Описание проекта**\n",
    "\n",
    "Интернет-магазине «Стримчик» продаёт по всему миру компьютерные игры. Из открытых источников доступны исторические данные о продажах игр, оценки пользователей и экспертов, жанры и платформы\n",
    "\n",
    "В наборе данных попадается аббревиатура ESRB (Entertainment Software Rating Board) — это ассоциация, определяющая возрастной рейтинг компьютерных игр. ESRB оценивает игровой контент и присваивает ему подходящую возрастную категорию, например, «Для взрослых», «Для детей младшего возраста» или «Для подростков».\n",
    "\n",
    "**Цель проекта**\n",
    "\n",
    "Требуется выявить определяющие успешность игры закономерности. Это позволит сделать ставку на потенциально популярный продукт и спланировать рекламные кампании.\n",
    " \n",
    "**План исследования**\n",
    "1. Изучить общую информацию;\n",
    "2. Подготовить данные;\n",
    "3. Провести исследовательский анализ данных;\n",
    "4. Составить портрет пользователя каждого региона;\n",
    "5. Проверить гипотезы.\n",
    "\n",
    "**Описание данных**\n",
    "\n",
    "* Name — название игры\n",
    "* Platform — платформа\n",
    "* Year_of_Release — год выпуска\n",
    "* Genre — жанр игры\n",
    "* NA_sales — продажи в Северной Америке (миллионы проданных копий)\n",
    "* EU_sales — продажи в Европе (миллионы проданных копий)\n",
    "* JP_sales — продажи в Японии (миллионы проданных копий)\n",
    "* Other_sales — продажи в других странах (миллионы проданных копий)\n",
    "* Critic_Score — оценка критиков (максимум 100)\n",
    "* User_Score — оценка пользователей (максимум 10)\n",
    "* Rating — рейтинг от организации ESRB (англ. Entertainment Software Rating Board). Эта ассоциация определяет рейтинг компьютерных игр и присваивает им подходящую возрастную категорию.\n",
    "\n",
    "    Данные за 2016 год могут быть неполными."
   ]
  },
  {
   "cell_type": "markdown",
   "metadata": {},
   "source": [
    "## Изучение общей информации"
   ]
  },
  {
   "cell_type": "markdown",
   "metadata": {},
   "source": [
    "1.1 Подключим библиокету panpas"
   ]
  },
  {
   "cell_type": "code",
   "execution_count": 1,
   "metadata": {},
   "outputs": [],
   "source": [
    "import matplotlib.pyplot as plt\n",
    "import pandas as pd\n",
    "import warnings\n",
    "\n",
    "from scipy import stats as st\n"
   ]
  },
  {
   "cell_type": "markdown",
   "metadata": {},
   "source": [
    "1.2 Откроем файл по пути '/datasets/games.csv' и изучим информацию"
   ]
  },
  {
   "cell_type": "code",
   "execution_count": 2,
   "metadata": {},
   "outputs": [],
   "source": [
    "try:\n",
    "    data = pd.read_csv('/datasets/games.csv')\n",
    "except:\n",
    "    data = pd.read_csv('https://code.s3.yandex.net/datasets/games.csv')"
   ]
  },
  {
   "cell_type": "code",
   "execution_count": 3,
   "metadata": {},
   "outputs": [
    {
     "data": {
      "text/html": [
       "<div>\n",
       "<style scoped>\n",
       "    .dataframe tbody tr th:only-of-type {\n",
       "        vertical-align: middle;\n",
       "    }\n",
       "\n",
       "    .dataframe tbody tr th {\n",
       "        vertical-align: top;\n",
       "    }\n",
       "\n",
       "    .dataframe thead th {\n",
       "        text-align: right;\n",
       "    }\n",
       "</style>\n",
       "<table border=\"1\" class=\"dataframe\">\n",
       "  <thead>\n",
       "    <tr style=\"text-align: right;\">\n",
       "      <th></th>\n",
       "      <th>Name</th>\n",
       "      <th>Platform</th>\n",
       "      <th>Year_of_Release</th>\n",
       "      <th>Genre</th>\n",
       "      <th>NA_sales</th>\n",
       "      <th>EU_sales</th>\n",
       "      <th>JP_sales</th>\n",
       "      <th>Other_sales</th>\n",
       "      <th>Critic_Score</th>\n",
       "      <th>User_Score</th>\n",
       "      <th>Rating</th>\n",
       "    </tr>\n",
       "  </thead>\n",
       "  <tbody>\n",
       "    <tr>\n",
       "      <th>0</th>\n",
       "      <td>Wii Sports</td>\n",
       "      <td>Wii</td>\n",
       "      <td>2006.0</td>\n",
       "      <td>Sports</td>\n",
       "      <td>41.36</td>\n",
       "      <td>28.96</td>\n",
       "      <td>3.77</td>\n",
       "      <td>8.45</td>\n",
       "      <td>76.0</td>\n",
       "      <td>8</td>\n",
       "      <td>E</td>\n",
       "    </tr>\n",
       "    <tr>\n",
       "      <th>1</th>\n",
       "      <td>Super Mario Bros.</td>\n",
       "      <td>NES</td>\n",
       "      <td>1985.0</td>\n",
       "      <td>Platform</td>\n",
       "      <td>29.08</td>\n",
       "      <td>3.58</td>\n",
       "      <td>6.81</td>\n",
       "      <td>0.77</td>\n",
       "      <td>NaN</td>\n",
       "      <td>NaN</td>\n",
       "      <td>NaN</td>\n",
       "    </tr>\n",
       "    <tr>\n",
       "      <th>2</th>\n",
       "      <td>Mario Kart Wii</td>\n",
       "      <td>Wii</td>\n",
       "      <td>2008.0</td>\n",
       "      <td>Racing</td>\n",
       "      <td>15.68</td>\n",
       "      <td>12.76</td>\n",
       "      <td>3.79</td>\n",
       "      <td>3.29</td>\n",
       "      <td>82.0</td>\n",
       "      <td>8.3</td>\n",
       "      <td>E</td>\n",
       "    </tr>\n",
       "    <tr>\n",
       "      <th>3</th>\n",
       "      <td>Wii Sports Resort</td>\n",
       "      <td>Wii</td>\n",
       "      <td>2009.0</td>\n",
       "      <td>Sports</td>\n",
       "      <td>15.61</td>\n",
       "      <td>10.93</td>\n",
       "      <td>3.28</td>\n",
       "      <td>2.95</td>\n",
       "      <td>80.0</td>\n",
       "      <td>8</td>\n",
       "      <td>E</td>\n",
       "    </tr>\n",
       "    <tr>\n",
       "      <th>4</th>\n",
       "      <td>Pokemon Red/Pokemon Blue</td>\n",
       "      <td>GB</td>\n",
       "      <td>1996.0</td>\n",
       "      <td>Role-Playing</td>\n",
       "      <td>11.27</td>\n",
       "      <td>8.89</td>\n",
       "      <td>10.22</td>\n",
       "      <td>1.00</td>\n",
       "      <td>NaN</td>\n",
       "      <td>NaN</td>\n",
       "      <td>NaN</td>\n",
       "    </tr>\n",
       "    <tr>\n",
       "      <th>5</th>\n",
       "      <td>Tetris</td>\n",
       "      <td>GB</td>\n",
       "      <td>1989.0</td>\n",
       "      <td>Puzzle</td>\n",
       "      <td>23.20</td>\n",
       "      <td>2.26</td>\n",
       "      <td>4.22</td>\n",
       "      <td>0.58</td>\n",
       "      <td>NaN</td>\n",
       "      <td>NaN</td>\n",
       "      <td>NaN</td>\n",
       "    </tr>\n",
       "    <tr>\n",
       "      <th>6</th>\n",
       "      <td>New Super Mario Bros.</td>\n",
       "      <td>DS</td>\n",
       "      <td>2006.0</td>\n",
       "      <td>Platform</td>\n",
       "      <td>11.28</td>\n",
       "      <td>9.14</td>\n",
       "      <td>6.50</td>\n",
       "      <td>2.88</td>\n",
       "      <td>89.0</td>\n",
       "      <td>8.5</td>\n",
       "      <td>E</td>\n",
       "    </tr>\n",
       "    <tr>\n",
       "      <th>7</th>\n",
       "      <td>Wii Play</td>\n",
       "      <td>Wii</td>\n",
       "      <td>2006.0</td>\n",
       "      <td>Misc</td>\n",
       "      <td>13.96</td>\n",
       "      <td>9.18</td>\n",
       "      <td>2.93</td>\n",
       "      <td>2.84</td>\n",
       "      <td>58.0</td>\n",
       "      <td>6.6</td>\n",
       "      <td>E</td>\n",
       "    </tr>\n",
       "    <tr>\n",
       "      <th>8</th>\n",
       "      <td>New Super Mario Bros. Wii</td>\n",
       "      <td>Wii</td>\n",
       "      <td>2009.0</td>\n",
       "      <td>Platform</td>\n",
       "      <td>14.44</td>\n",
       "      <td>6.94</td>\n",
       "      <td>4.70</td>\n",
       "      <td>2.24</td>\n",
       "      <td>87.0</td>\n",
       "      <td>8.4</td>\n",
       "      <td>E</td>\n",
       "    </tr>\n",
       "    <tr>\n",
       "      <th>9</th>\n",
       "      <td>Duck Hunt</td>\n",
       "      <td>NES</td>\n",
       "      <td>1984.0</td>\n",
       "      <td>Shooter</td>\n",
       "      <td>26.93</td>\n",
       "      <td>0.63</td>\n",
       "      <td>0.28</td>\n",
       "      <td>0.47</td>\n",
       "      <td>NaN</td>\n",
       "      <td>NaN</td>\n",
       "      <td>NaN</td>\n",
       "    </tr>\n",
       "    <tr>\n",
       "      <th>10</th>\n",
       "      <td>Nintendogs</td>\n",
       "      <td>DS</td>\n",
       "      <td>2005.0</td>\n",
       "      <td>Simulation</td>\n",
       "      <td>9.05</td>\n",
       "      <td>10.95</td>\n",
       "      <td>1.93</td>\n",
       "      <td>2.74</td>\n",
       "      <td>NaN</td>\n",
       "      <td>NaN</td>\n",
       "      <td>NaN</td>\n",
       "    </tr>\n",
       "    <tr>\n",
       "      <th>11</th>\n",
       "      <td>Mario Kart DS</td>\n",
       "      <td>DS</td>\n",
       "      <td>2005.0</td>\n",
       "      <td>Racing</td>\n",
       "      <td>9.71</td>\n",
       "      <td>7.47</td>\n",
       "      <td>4.13</td>\n",
       "      <td>1.90</td>\n",
       "      <td>91.0</td>\n",
       "      <td>8.6</td>\n",
       "      <td>E</td>\n",
       "    </tr>\n",
       "    <tr>\n",
       "      <th>12</th>\n",
       "      <td>Pokemon Gold/Pokemon Silver</td>\n",
       "      <td>GB</td>\n",
       "      <td>1999.0</td>\n",
       "      <td>Role-Playing</td>\n",
       "      <td>9.00</td>\n",
       "      <td>6.18</td>\n",
       "      <td>7.20</td>\n",
       "      <td>0.71</td>\n",
       "      <td>NaN</td>\n",
       "      <td>NaN</td>\n",
       "      <td>NaN</td>\n",
       "    </tr>\n",
       "    <tr>\n",
       "      <th>13</th>\n",
       "      <td>Wii Fit</td>\n",
       "      <td>Wii</td>\n",
       "      <td>2007.0</td>\n",
       "      <td>Sports</td>\n",
       "      <td>8.92</td>\n",
       "      <td>8.03</td>\n",
       "      <td>3.60</td>\n",
       "      <td>2.15</td>\n",
       "      <td>80.0</td>\n",
       "      <td>7.7</td>\n",
       "      <td>E</td>\n",
       "    </tr>\n",
       "    <tr>\n",
       "      <th>14</th>\n",
       "      <td>Kinect Adventures!</td>\n",
       "      <td>X360</td>\n",
       "      <td>2010.0</td>\n",
       "      <td>Misc</td>\n",
       "      <td>15.00</td>\n",
       "      <td>4.89</td>\n",
       "      <td>0.24</td>\n",
       "      <td>1.69</td>\n",
       "      <td>61.0</td>\n",
       "      <td>6.3</td>\n",
       "      <td>E</td>\n",
       "    </tr>\n",
       "    <tr>\n",
       "      <th>15</th>\n",
       "      <td>Wii Fit Plus</td>\n",
       "      <td>Wii</td>\n",
       "      <td>2009.0</td>\n",
       "      <td>Sports</td>\n",
       "      <td>9.01</td>\n",
       "      <td>8.49</td>\n",
       "      <td>2.53</td>\n",
       "      <td>1.77</td>\n",
       "      <td>80.0</td>\n",
       "      <td>7.4</td>\n",
       "      <td>E</td>\n",
       "    </tr>\n",
       "    <tr>\n",
       "      <th>16</th>\n",
       "      <td>Grand Theft Auto V</td>\n",
       "      <td>PS3</td>\n",
       "      <td>2013.0</td>\n",
       "      <td>Action</td>\n",
       "      <td>7.02</td>\n",
       "      <td>9.09</td>\n",
       "      <td>0.98</td>\n",
       "      <td>3.96</td>\n",
       "      <td>97.0</td>\n",
       "      <td>8.2</td>\n",
       "      <td>M</td>\n",
       "    </tr>\n",
       "    <tr>\n",
       "      <th>17</th>\n",
       "      <td>Grand Theft Auto: San Andreas</td>\n",
       "      <td>PS2</td>\n",
       "      <td>2004.0</td>\n",
       "      <td>Action</td>\n",
       "      <td>9.43</td>\n",
       "      <td>0.40</td>\n",
       "      <td>0.41</td>\n",
       "      <td>10.57</td>\n",
       "      <td>95.0</td>\n",
       "      <td>9</td>\n",
       "      <td>M</td>\n",
       "    </tr>\n",
       "    <tr>\n",
       "      <th>18</th>\n",
       "      <td>Super Mario World</td>\n",
       "      <td>SNES</td>\n",
       "      <td>1990.0</td>\n",
       "      <td>Platform</td>\n",
       "      <td>12.78</td>\n",
       "      <td>3.75</td>\n",
       "      <td>3.54</td>\n",
       "      <td>0.55</td>\n",
       "      <td>NaN</td>\n",
       "      <td>NaN</td>\n",
       "      <td>NaN</td>\n",
       "    </tr>\n",
       "    <tr>\n",
       "      <th>19</th>\n",
       "      <td>Brain Age: Train Your Brain in Minutes a Day</td>\n",
       "      <td>DS</td>\n",
       "      <td>2005.0</td>\n",
       "      <td>Misc</td>\n",
       "      <td>4.74</td>\n",
       "      <td>9.20</td>\n",
       "      <td>4.16</td>\n",
       "      <td>2.04</td>\n",
       "      <td>77.0</td>\n",
       "      <td>7.9</td>\n",
       "      <td>E</td>\n",
       "    </tr>\n",
       "    <tr>\n",
       "      <th>20</th>\n",
       "      <td>Pokemon Diamond/Pokemon Pearl</td>\n",
       "      <td>DS</td>\n",
       "      <td>2006.0</td>\n",
       "      <td>Role-Playing</td>\n",
       "      <td>6.38</td>\n",
       "      <td>4.46</td>\n",
       "      <td>6.04</td>\n",
       "      <td>1.36</td>\n",
       "      <td>NaN</td>\n",
       "      <td>NaN</td>\n",
       "      <td>NaN</td>\n",
       "    </tr>\n",
       "    <tr>\n",
       "      <th>21</th>\n",
       "      <td>Super Mario Land</td>\n",
       "      <td>GB</td>\n",
       "      <td>1989.0</td>\n",
       "      <td>Platform</td>\n",
       "      <td>10.83</td>\n",
       "      <td>2.71</td>\n",
       "      <td>4.18</td>\n",
       "      <td>0.42</td>\n",
       "      <td>NaN</td>\n",
       "      <td>NaN</td>\n",
       "      <td>NaN</td>\n",
       "    </tr>\n",
       "    <tr>\n",
       "      <th>22</th>\n",
       "      <td>Super Mario Bros. 3</td>\n",
       "      <td>NES</td>\n",
       "      <td>1988.0</td>\n",
       "      <td>Platform</td>\n",
       "      <td>9.54</td>\n",
       "      <td>3.44</td>\n",
       "      <td>3.84</td>\n",
       "      <td>0.46</td>\n",
       "      <td>NaN</td>\n",
       "      <td>NaN</td>\n",
       "      <td>NaN</td>\n",
       "    </tr>\n",
       "    <tr>\n",
       "      <th>23</th>\n",
       "      <td>Grand Theft Auto V</td>\n",
       "      <td>X360</td>\n",
       "      <td>2013.0</td>\n",
       "      <td>Action</td>\n",
       "      <td>9.66</td>\n",
       "      <td>5.14</td>\n",
       "      <td>0.06</td>\n",
       "      <td>1.41</td>\n",
       "      <td>97.0</td>\n",
       "      <td>8.1</td>\n",
       "      <td>M</td>\n",
       "    </tr>\n",
       "    <tr>\n",
       "      <th>24</th>\n",
       "      <td>Grand Theft Auto: Vice City</td>\n",
       "      <td>PS2</td>\n",
       "      <td>2002.0</td>\n",
       "      <td>Action</td>\n",
       "      <td>8.41</td>\n",
       "      <td>5.49</td>\n",
       "      <td>0.47</td>\n",
       "      <td>1.78</td>\n",
       "      <td>95.0</td>\n",
       "      <td>8.7</td>\n",
       "      <td>M</td>\n",
       "    </tr>\n",
       "    <tr>\n",
       "      <th>25</th>\n",
       "      <td>Pokemon Ruby/Pokemon Sapphire</td>\n",
       "      <td>GBA</td>\n",
       "      <td>2002.0</td>\n",
       "      <td>Role-Playing</td>\n",
       "      <td>6.06</td>\n",
       "      <td>3.90</td>\n",
       "      <td>5.38</td>\n",
       "      <td>0.50</td>\n",
       "      <td>NaN</td>\n",
       "      <td>NaN</td>\n",
       "      <td>NaN</td>\n",
       "    </tr>\n",
       "    <tr>\n",
       "      <th>26</th>\n",
       "      <td>Brain Age 2: More Training in Minutes a Day</td>\n",
       "      <td>DS</td>\n",
       "      <td>2005.0</td>\n",
       "      <td>Puzzle</td>\n",
       "      <td>3.43</td>\n",
       "      <td>5.35</td>\n",
       "      <td>5.32</td>\n",
       "      <td>1.18</td>\n",
       "      <td>77.0</td>\n",
       "      <td>7.1</td>\n",
       "      <td>E</td>\n",
       "    </tr>\n",
       "    <tr>\n",
       "      <th>27</th>\n",
       "      <td>Pokemon Black/Pokemon White</td>\n",
       "      <td>DS</td>\n",
       "      <td>2010.0</td>\n",
       "      <td>Role-Playing</td>\n",
       "      <td>5.51</td>\n",
       "      <td>3.17</td>\n",
       "      <td>5.65</td>\n",
       "      <td>0.80</td>\n",
       "      <td>NaN</td>\n",
       "      <td>NaN</td>\n",
       "      <td>NaN</td>\n",
       "    </tr>\n",
       "    <tr>\n",
       "      <th>28</th>\n",
       "      <td>Gran Turismo 3: A-Spec</td>\n",
       "      <td>PS2</td>\n",
       "      <td>2001.0</td>\n",
       "      <td>Racing</td>\n",
       "      <td>6.85</td>\n",
       "      <td>5.09</td>\n",
       "      <td>1.87</td>\n",
       "      <td>1.16</td>\n",
       "      <td>95.0</td>\n",
       "      <td>8.4</td>\n",
       "      <td>E</td>\n",
       "    </tr>\n",
       "    <tr>\n",
       "      <th>29</th>\n",
       "      <td>Call of Duty: Modern Warfare 3</td>\n",
       "      <td>X360</td>\n",
       "      <td>2011.0</td>\n",
       "      <td>Shooter</td>\n",
       "      <td>9.04</td>\n",
       "      <td>4.24</td>\n",
       "      <td>0.13</td>\n",
       "      <td>1.32</td>\n",
       "      <td>88.0</td>\n",
       "      <td>3.4</td>\n",
       "      <td>M</td>\n",
       "    </tr>\n",
       "  </tbody>\n",
       "</table>\n",
       "</div>"
      ],
      "text/plain": [
       "                                            Name Platform  Year_of_Release  \\\n",
       "0                                     Wii Sports      Wii           2006.0   \n",
       "1                              Super Mario Bros.      NES           1985.0   \n",
       "2                                 Mario Kart Wii      Wii           2008.0   \n",
       "3                              Wii Sports Resort      Wii           2009.0   \n",
       "4                       Pokemon Red/Pokemon Blue       GB           1996.0   \n",
       "5                                         Tetris       GB           1989.0   \n",
       "6                          New Super Mario Bros.       DS           2006.0   \n",
       "7                                       Wii Play      Wii           2006.0   \n",
       "8                      New Super Mario Bros. Wii      Wii           2009.0   \n",
       "9                                      Duck Hunt      NES           1984.0   \n",
       "10                                    Nintendogs       DS           2005.0   \n",
       "11                                 Mario Kart DS       DS           2005.0   \n",
       "12                   Pokemon Gold/Pokemon Silver       GB           1999.0   \n",
       "13                                       Wii Fit      Wii           2007.0   \n",
       "14                            Kinect Adventures!     X360           2010.0   \n",
       "15                                  Wii Fit Plus      Wii           2009.0   \n",
       "16                            Grand Theft Auto V      PS3           2013.0   \n",
       "17                 Grand Theft Auto: San Andreas      PS2           2004.0   \n",
       "18                             Super Mario World     SNES           1990.0   \n",
       "19  Brain Age: Train Your Brain in Minutes a Day       DS           2005.0   \n",
       "20                 Pokemon Diamond/Pokemon Pearl       DS           2006.0   \n",
       "21                              Super Mario Land       GB           1989.0   \n",
       "22                           Super Mario Bros. 3      NES           1988.0   \n",
       "23                            Grand Theft Auto V     X360           2013.0   \n",
       "24                   Grand Theft Auto: Vice City      PS2           2002.0   \n",
       "25                 Pokemon Ruby/Pokemon Sapphire      GBA           2002.0   \n",
       "26   Brain Age 2: More Training in Minutes a Day       DS           2005.0   \n",
       "27                   Pokemon Black/Pokemon White       DS           2010.0   \n",
       "28                        Gran Turismo 3: A-Spec      PS2           2001.0   \n",
       "29                Call of Duty: Modern Warfare 3     X360           2011.0   \n",
       "\n",
       "           Genre  NA_sales  EU_sales  JP_sales  Other_sales  Critic_Score  \\\n",
       "0         Sports     41.36     28.96      3.77         8.45          76.0   \n",
       "1       Platform     29.08      3.58      6.81         0.77           NaN   \n",
       "2         Racing     15.68     12.76      3.79         3.29          82.0   \n",
       "3         Sports     15.61     10.93      3.28         2.95          80.0   \n",
       "4   Role-Playing     11.27      8.89     10.22         1.00           NaN   \n",
       "5         Puzzle     23.20      2.26      4.22         0.58           NaN   \n",
       "6       Platform     11.28      9.14      6.50         2.88          89.0   \n",
       "7           Misc     13.96      9.18      2.93         2.84          58.0   \n",
       "8       Platform     14.44      6.94      4.70         2.24          87.0   \n",
       "9        Shooter     26.93      0.63      0.28         0.47           NaN   \n",
       "10    Simulation      9.05     10.95      1.93         2.74           NaN   \n",
       "11        Racing      9.71      7.47      4.13         1.90          91.0   \n",
       "12  Role-Playing      9.00      6.18      7.20         0.71           NaN   \n",
       "13        Sports      8.92      8.03      3.60         2.15          80.0   \n",
       "14          Misc     15.00      4.89      0.24         1.69          61.0   \n",
       "15        Sports      9.01      8.49      2.53         1.77          80.0   \n",
       "16        Action      7.02      9.09      0.98         3.96          97.0   \n",
       "17        Action      9.43      0.40      0.41        10.57          95.0   \n",
       "18      Platform     12.78      3.75      3.54         0.55           NaN   \n",
       "19          Misc      4.74      9.20      4.16         2.04          77.0   \n",
       "20  Role-Playing      6.38      4.46      6.04         1.36           NaN   \n",
       "21      Platform     10.83      2.71      4.18         0.42           NaN   \n",
       "22      Platform      9.54      3.44      3.84         0.46           NaN   \n",
       "23        Action      9.66      5.14      0.06         1.41          97.0   \n",
       "24        Action      8.41      5.49      0.47         1.78          95.0   \n",
       "25  Role-Playing      6.06      3.90      5.38         0.50           NaN   \n",
       "26        Puzzle      3.43      5.35      5.32         1.18          77.0   \n",
       "27  Role-Playing      5.51      3.17      5.65         0.80           NaN   \n",
       "28        Racing      6.85      5.09      1.87         1.16          95.0   \n",
       "29       Shooter      9.04      4.24      0.13         1.32          88.0   \n",
       "\n",
       "   User_Score Rating  \n",
       "0           8      E  \n",
       "1         NaN    NaN  \n",
       "2         8.3      E  \n",
       "3           8      E  \n",
       "4         NaN    NaN  \n",
       "5         NaN    NaN  \n",
       "6         8.5      E  \n",
       "7         6.6      E  \n",
       "8         8.4      E  \n",
       "9         NaN    NaN  \n",
       "10        NaN    NaN  \n",
       "11        8.6      E  \n",
       "12        NaN    NaN  \n",
       "13        7.7      E  \n",
       "14        6.3      E  \n",
       "15        7.4      E  \n",
       "16        8.2      M  \n",
       "17          9      M  \n",
       "18        NaN    NaN  \n",
       "19        7.9      E  \n",
       "20        NaN    NaN  \n",
       "21        NaN    NaN  \n",
       "22        NaN    NaN  \n",
       "23        8.1      M  \n",
       "24        8.7      M  \n",
       "25        NaN    NaN  \n",
       "26        7.1      E  \n",
       "27        NaN    NaN  \n",
       "28        8.4      E  \n",
       "29        3.4      M  "
      ]
     },
     "execution_count": 3,
     "metadata": {},
     "output_type": "execute_result"
    }
   ],
   "source": [
    "data.head(30)"
   ]
  },
  {
   "cell_type": "code",
   "execution_count": 4,
   "metadata": {
    "scrolled": true
   },
   "outputs": [
    {
     "name": "stdout",
     "output_type": "stream",
     "text": [
      "<class 'pandas.core.frame.DataFrame'>\n",
      "RangeIndex: 16715 entries, 0 to 16714\n",
      "Data columns (total 11 columns):\n",
      " #   Column           Non-Null Count  Dtype  \n",
      "---  ------           --------------  -----  \n",
      " 0   Name             16713 non-null  object \n",
      " 1   Platform         16715 non-null  object \n",
      " 2   Year_of_Release  16446 non-null  float64\n",
      " 3   Genre            16713 non-null  object \n",
      " 4   NA_sales         16715 non-null  float64\n",
      " 5   EU_sales         16715 non-null  float64\n",
      " 6   JP_sales         16715 non-null  float64\n",
      " 7   Other_sales      16715 non-null  float64\n",
      " 8   Critic_Score     8137 non-null   float64\n",
      " 9   User_Score       10014 non-null  object \n",
      " 10  Rating           9949 non-null   object \n",
      "dtypes: float64(6), object(5)\n",
      "memory usage: 1.4+ MB\n"
     ]
    }
   ],
   "source": [
    "data.info()"
   ]
  },
  {
   "cell_type": "markdown",
   "metadata": {},
   "source": [
    "<b>Вывод:</b>\n",
    "\n",
    "Были выведены и изучены данные по пути '/datasets/games.csv'. \n",
    "\n",
    "По полученным данным можно сделать вывод, что перед проведением исследовательского анализа следует подготовить данные, а именно:\n",
    "1. Привести названия столбцов к нижнему регистру;\n",
    "2. Проверить данные на дубликаты;\n",
    "3. Преобразовать данные в нужные типы;\n",
    "4. Обработать пропуски."
   ]
  },
  {
   "cell_type": "markdown",
   "metadata": {},
   "source": [
    "## Подготовка данных"
   ]
  },
  {
   "cell_type": "markdown",
   "metadata": {},
   "source": [
    "2.1 Приведем названия столбцов к нижнему регистру."
   ]
  },
  {
   "cell_type": "code",
   "execution_count": 5,
   "metadata": {},
   "outputs": [
    {
     "data": {
      "text/plain": [
       "Index(['name', 'platform', 'year_of_release', 'genre', 'na_sales', 'eu_sales',\n",
       "       'jp_sales', 'other_sales', 'critic_score', 'user_score', 'rating'],\n",
       "      dtype='object')"
      ]
     },
     "execution_count": 5,
     "metadata": {},
     "output_type": "execute_result"
    }
   ],
   "source": [
    "for column in data.columns:\n",
    "    data = data.rename(columns={column:column.lower()})\n",
    "data.columns   "
   ]
  },
  {
   "cell_type": "markdown",
   "metadata": {},
   "source": [
    "2.2 Преобразуем данные в нужные типы"
   ]
  },
  {
   "cell_type": "markdown",
   "metadata": {},
   "source": [
    "У столбца год выпуска указан тип float64. Удалим строки с пропущенными значениями в данном столбце и преобразуем данный столбец в целочисленный тип."
   ]
  },
  {
   "cell_type": "code",
   "execution_count": 6,
   "metadata": {
    "scrolled": true
   },
   "outputs": [
    {
     "data": {
      "text/html": [
       "<div>\n",
       "<style scoped>\n",
       "    .dataframe tbody tr th:only-of-type {\n",
       "        vertical-align: middle;\n",
       "    }\n",
       "\n",
       "    .dataframe tbody tr th {\n",
       "        vertical-align: top;\n",
       "    }\n",
       "\n",
       "    .dataframe thead th {\n",
       "        text-align: right;\n",
       "    }\n",
       "</style>\n",
       "<table border=\"1\" class=\"dataframe\">\n",
       "  <thead>\n",
       "    <tr style=\"text-align: right;\">\n",
       "      <th></th>\n",
       "      <th>name</th>\n",
       "      <th>platform</th>\n",
       "      <th>year_of_release</th>\n",
       "      <th>genre</th>\n",
       "      <th>na_sales</th>\n",
       "      <th>eu_sales</th>\n",
       "      <th>jp_sales</th>\n",
       "      <th>other_sales</th>\n",
       "      <th>critic_score</th>\n",
       "      <th>user_score</th>\n",
       "      <th>rating</th>\n",
       "    </tr>\n",
       "  </thead>\n",
       "  <tbody>\n",
       "    <tr>\n",
       "      <th>0</th>\n",
       "      <td>Wii Sports</td>\n",
       "      <td>Wii</td>\n",
       "      <td>2006</td>\n",
       "      <td>Sports</td>\n",
       "      <td>41.36</td>\n",
       "      <td>28.96</td>\n",
       "      <td>3.77</td>\n",
       "      <td>8.45</td>\n",
       "      <td>76.0</td>\n",
       "      <td>8</td>\n",
       "      <td>E</td>\n",
       "    </tr>\n",
       "    <tr>\n",
       "      <th>1</th>\n",
       "      <td>Super Mario Bros.</td>\n",
       "      <td>NES</td>\n",
       "      <td>1985</td>\n",
       "      <td>Platform</td>\n",
       "      <td>29.08</td>\n",
       "      <td>3.58</td>\n",
       "      <td>6.81</td>\n",
       "      <td>0.77</td>\n",
       "      <td>NaN</td>\n",
       "      <td>NaN</td>\n",
       "      <td>NaN</td>\n",
       "    </tr>\n",
       "    <tr>\n",
       "      <th>2</th>\n",
       "      <td>Mario Kart Wii</td>\n",
       "      <td>Wii</td>\n",
       "      <td>2008</td>\n",
       "      <td>Racing</td>\n",
       "      <td>15.68</td>\n",
       "      <td>12.76</td>\n",
       "      <td>3.79</td>\n",
       "      <td>3.29</td>\n",
       "      <td>82.0</td>\n",
       "      <td>8.3</td>\n",
       "      <td>E</td>\n",
       "    </tr>\n",
       "    <tr>\n",
       "      <th>3</th>\n",
       "      <td>Wii Sports Resort</td>\n",
       "      <td>Wii</td>\n",
       "      <td>2009</td>\n",
       "      <td>Sports</td>\n",
       "      <td>15.61</td>\n",
       "      <td>10.93</td>\n",
       "      <td>3.28</td>\n",
       "      <td>2.95</td>\n",
       "      <td>80.0</td>\n",
       "      <td>8</td>\n",
       "      <td>E</td>\n",
       "    </tr>\n",
       "    <tr>\n",
       "      <th>4</th>\n",
       "      <td>Pokemon Red/Pokemon Blue</td>\n",
       "      <td>GB</td>\n",
       "      <td>1996</td>\n",
       "      <td>Role-Playing</td>\n",
       "      <td>11.27</td>\n",
       "      <td>8.89</td>\n",
       "      <td>10.22</td>\n",
       "      <td>1.00</td>\n",
       "      <td>NaN</td>\n",
       "      <td>NaN</td>\n",
       "      <td>NaN</td>\n",
       "    </tr>\n",
       "    <tr>\n",
       "      <th>...</th>\n",
       "      <td>...</td>\n",
       "      <td>...</td>\n",
       "      <td>...</td>\n",
       "      <td>...</td>\n",
       "      <td>...</td>\n",
       "      <td>...</td>\n",
       "      <td>...</td>\n",
       "      <td>...</td>\n",
       "      <td>...</td>\n",
       "      <td>...</td>\n",
       "      <td>...</td>\n",
       "    </tr>\n",
       "    <tr>\n",
       "      <th>16441</th>\n",
       "      <td>Samurai Warriors: Sanada Maru</td>\n",
       "      <td>PS3</td>\n",
       "      <td>2016</td>\n",
       "      <td>Action</td>\n",
       "      <td>0.00</td>\n",
       "      <td>0.00</td>\n",
       "      <td>0.01</td>\n",
       "      <td>0.00</td>\n",
       "      <td>NaN</td>\n",
       "      <td>NaN</td>\n",
       "      <td>NaN</td>\n",
       "    </tr>\n",
       "    <tr>\n",
       "      <th>16442</th>\n",
       "      <td>LMA Manager 2007</td>\n",
       "      <td>X360</td>\n",
       "      <td>2006</td>\n",
       "      <td>Sports</td>\n",
       "      <td>0.00</td>\n",
       "      <td>0.01</td>\n",
       "      <td>0.00</td>\n",
       "      <td>0.00</td>\n",
       "      <td>NaN</td>\n",
       "      <td>NaN</td>\n",
       "      <td>NaN</td>\n",
       "    </tr>\n",
       "    <tr>\n",
       "      <th>16443</th>\n",
       "      <td>Haitaka no Psychedelica</td>\n",
       "      <td>PSV</td>\n",
       "      <td>2016</td>\n",
       "      <td>Adventure</td>\n",
       "      <td>0.00</td>\n",
       "      <td>0.00</td>\n",
       "      <td>0.01</td>\n",
       "      <td>0.00</td>\n",
       "      <td>NaN</td>\n",
       "      <td>NaN</td>\n",
       "      <td>NaN</td>\n",
       "    </tr>\n",
       "    <tr>\n",
       "      <th>16444</th>\n",
       "      <td>Spirits &amp; Spells</td>\n",
       "      <td>GBA</td>\n",
       "      <td>2003</td>\n",
       "      <td>Platform</td>\n",
       "      <td>0.01</td>\n",
       "      <td>0.00</td>\n",
       "      <td>0.00</td>\n",
       "      <td>0.00</td>\n",
       "      <td>NaN</td>\n",
       "      <td>NaN</td>\n",
       "      <td>NaN</td>\n",
       "    </tr>\n",
       "    <tr>\n",
       "      <th>16445</th>\n",
       "      <td>Winning Post 8 2016</td>\n",
       "      <td>PSV</td>\n",
       "      <td>2016</td>\n",
       "      <td>Simulation</td>\n",
       "      <td>0.00</td>\n",
       "      <td>0.00</td>\n",
       "      <td>0.01</td>\n",
       "      <td>0.00</td>\n",
       "      <td>NaN</td>\n",
       "      <td>NaN</td>\n",
       "      <td>NaN</td>\n",
       "    </tr>\n",
       "  </tbody>\n",
       "</table>\n",
       "<p>16446 rows × 11 columns</p>\n",
       "</div>"
      ],
      "text/plain": [
       "                                name platform  year_of_release         genre  \\\n",
       "0                         Wii Sports      Wii             2006        Sports   \n",
       "1                  Super Mario Bros.      NES             1985      Platform   \n",
       "2                     Mario Kart Wii      Wii             2008        Racing   \n",
       "3                  Wii Sports Resort      Wii             2009        Sports   \n",
       "4           Pokemon Red/Pokemon Blue       GB             1996  Role-Playing   \n",
       "...                              ...      ...              ...           ...   \n",
       "16441  Samurai Warriors: Sanada Maru      PS3             2016        Action   \n",
       "16442               LMA Manager 2007     X360             2006        Sports   \n",
       "16443        Haitaka no Psychedelica      PSV             2016     Adventure   \n",
       "16444               Spirits & Spells      GBA             2003      Platform   \n",
       "16445            Winning Post 8 2016      PSV             2016    Simulation   \n",
       "\n",
       "       na_sales  eu_sales  jp_sales  other_sales  critic_score user_score  \\\n",
       "0         41.36     28.96      3.77         8.45          76.0          8   \n",
       "1         29.08      3.58      6.81         0.77           NaN        NaN   \n",
       "2         15.68     12.76      3.79         3.29          82.0        8.3   \n",
       "3         15.61     10.93      3.28         2.95          80.0          8   \n",
       "4         11.27      8.89     10.22         1.00           NaN        NaN   \n",
       "...         ...       ...       ...          ...           ...        ...   \n",
       "16441      0.00      0.00      0.01         0.00           NaN        NaN   \n",
       "16442      0.00      0.01      0.00         0.00           NaN        NaN   \n",
       "16443      0.00      0.00      0.01         0.00           NaN        NaN   \n",
       "16444      0.01      0.00      0.00         0.00           NaN        NaN   \n",
       "16445      0.00      0.00      0.01         0.00           NaN        NaN   \n",
       "\n",
       "      rating  \n",
       "0          E  \n",
       "1        NaN  \n",
       "2          E  \n",
       "3          E  \n",
       "4        NaN  \n",
       "...      ...  \n",
       "16441    NaN  \n",
       "16442    NaN  \n",
       "16443    NaN  \n",
       "16444    NaN  \n",
       "16445    NaN  \n",
       "\n",
       "[16446 rows x 11 columns]"
      ]
     },
     "execution_count": 6,
     "metadata": {},
     "output_type": "execute_result"
    }
   ],
   "source": [
    "data = data.dropna(subset=['year_of_release']).reset_index(drop=True)\n",
    "data['year_of_release'] = data['year_of_release'].astype('int')\n",
    "data"
   ]
  },
  {
   "cell_type": "markdown",
   "metadata": {},
   "source": [
    "Столбец user_score преобразуем в вещественный тип, так как данный столбец отражает оценку пользователей (максимум 10)."
   ]
  },
  {
   "cell_type": "code",
   "execution_count": 7,
   "metadata": {},
   "outputs": [
    {
     "data": {
      "text/plain": [
       "array(['8', nan, '8.3', '8.5', '6.6', '8.4', '8.6', '7.7', '6.3', '7.4',\n",
       "       '8.2', '9', '7.9', '8.1', '8.7', '7.1', '3.4', '5.3', '4.8', '3.2',\n",
       "       '8.9', '6.4', '7.8', '7.5', '2.6', '7.2', '9.2', '7', '7.3', '4.3',\n",
       "       '7.6', '5.7', '5', '9.1', '6.5', 'tbd', '8.8', '6.9', '9.4', '6.8',\n",
       "       '6.1', '6.7', '5.4', '4', '4.9', '4.5', '9.3', '6.2', '4.2', '6',\n",
       "       '3.7', '4.1', '5.8', '5.6', '5.5', '4.4', '4.6', '5.9', '3.9',\n",
       "       '3.1', '2.9', '5.2', '3.3', '4.7', '5.1', '3.5', '2.5', '1.9', '3',\n",
       "       '2.7', '2.2', '2', '9.5', '2.1', '3.6', '2.8', '1.8', '3.8', '0',\n",
       "       '1.6', '9.6', '2.4', '1.7', '1.1', '0.3', '1.5', '0.7', '1.2',\n",
       "       '2.3', '0.5', '1.3', '0.2', '0.6', '1.4', '0.9', '1', '9.7'],\n",
       "      dtype=object)"
      ]
     },
     "execution_count": 7,
     "metadata": {},
     "output_type": "execute_result"
    }
   ],
   "source": [
    "data['user_score'].unique()"
   ]
  },
  {
   "cell_type": "markdown",
   "metadata": {},
   "source": [
    "Столбец user_score содержит значение tbd, что означает 'подлежит определению'. Для преобразования данного столбца используем функцию to_numeric и установим параметр errors = 'coerce', чтобы некорректные значения заменить на NaN"
   ]
  },
  {
   "cell_type": "code",
   "execution_count": 8,
   "metadata": {},
   "outputs": [],
   "source": [
    "data['user_score'] = pd.to_numeric(data['user_score'], errors='coerce')"
   ]
  },
  {
   "cell_type": "code",
   "execution_count": 9,
   "metadata": {
    "scrolled": true
   },
   "outputs": [
    {
     "name": "stdout",
     "output_type": "stream",
     "text": [
      "<class 'pandas.core.frame.DataFrame'>\n",
      "RangeIndex: 16446 entries, 0 to 16445\n",
      "Data columns (total 11 columns):\n",
      " #   Column           Non-Null Count  Dtype  \n",
      "---  ------           --------------  -----  \n",
      " 0   name             16444 non-null  object \n",
      " 1   platform         16446 non-null  object \n",
      " 2   year_of_release  16446 non-null  int32  \n",
      " 3   genre            16444 non-null  object \n",
      " 4   na_sales         16446 non-null  float64\n",
      " 5   eu_sales         16446 non-null  float64\n",
      " 6   jp_sales         16446 non-null  float64\n",
      " 7   other_sales      16446 non-null  float64\n",
      " 8   critic_score     7983 non-null   float64\n",
      " 9   user_score       7463 non-null   float64\n",
      " 10  rating           9768 non-null   object \n",
      "dtypes: float64(6), int32(1), object(4)\n",
      "memory usage: 1.3+ MB\n"
     ]
    }
   ],
   "source": [
    "data.info()"
   ]
  },
  {
   "cell_type": "markdown",
   "metadata": {},
   "source": [
    "2.3 Обработаем пропуски"
   ]
  },
  {
   "cell_type": "markdown",
   "metadata": {},
   "source": [
    "В столбцах name и genre не хватает по 2 значения. Удалим строки с пропущенными значениями в данных столбцах."
   ]
  },
  {
   "cell_type": "code",
   "execution_count": 10,
   "metadata": {},
   "outputs": [],
   "source": [
    "data = data.dropna(subset=['name','genre']).reset_index(drop=True)"
   ]
  },
  {
   "cell_type": "markdown",
   "metadata": {},
   "source": [
    "2.4 Проверка на дубликаты"
   ]
  },
  {
   "cell_type": "code",
   "execution_count": 11,
   "metadata": {},
   "outputs": [
    {
     "data": {
      "text/plain": [
       "0"
      ]
     },
     "execution_count": 11,
     "metadata": {},
     "output_type": "execute_result"
    }
   ],
   "source": [
    "data.duplicated().sum()"
   ]
  },
  {
   "cell_type": "markdown",
   "metadata": {},
   "source": [
    "Наличие явных дубликатов отсутствует."
   ]
  },
  {
   "cell_type": "markdown",
   "metadata": {},
   "source": [
    "2.5 Посчитаем суммарные продажи во всех регионах и запишим их в отдельный столбец."
   ]
  },
  {
   "cell_type": "code",
   "execution_count": 12,
   "metadata": {},
   "outputs": [
    {
     "data": {
      "text/html": [
       "<div>\n",
       "<style scoped>\n",
       "    .dataframe tbody tr th:only-of-type {\n",
       "        vertical-align: middle;\n",
       "    }\n",
       "\n",
       "    .dataframe tbody tr th {\n",
       "        vertical-align: top;\n",
       "    }\n",
       "\n",
       "    .dataframe thead th {\n",
       "        text-align: right;\n",
       "    }\n",
       "</style>\n",
       "<table border=\"1\" class=\"dataframe\">\n",
       "  <thead>\n",
       "    <tr style=\"text-align: right;\">\n",
       "      <th></th>\n",
       "      <th>name</th>\n",
       "      <th>platform</th>\n",
       "      <th>year_of_release</th>\n",
       "      <th>genre</th>\n",
       "      <th>na_sales</th>\n",
       "      <th>eu_sales</th>\n",
       "      <th>jp_sales</th>\n",
       "      <th>other_sales</th>\n",
       "      <th>critic_score</th>\n",
       "      <th>user_score</th>\n",
       "      <th>rating</th>\n",
       "    </tr>\n",
       "  </thead>\n",
       "  <tbody>\n",
       "    <tr>\n",
       "      <th>0</th>\n",
       "      <td>Wii Sports</td>\n",
       "      <td>Wii</td>\n",
       "      <td>2006</td>\n",
       "      <td>Sports</td>\n",
       "      <td>41.36</td>\n",
       "      <td>28.96</td>\n",
       "      <td>3.77</td>\n",
       "      <td>8.45</td>\n",
       "      <td>76.0</td>\n",
       "      <td>8.0</td>\n",
       "      <td>E</td>\n",
       "    </tr>\n",
       "    <tr>\n",
       "      <th>1</th>\n",
       "      <td>Super Mario Bros.</td>\n",
       "      <td>NES</td>\n",
       "      <td>1985</td>\n",
       "      <td>Platform</td>\n",
       "      <td>29.08</td>\n",
       "      <td>3.58</td>\n",
       "      <td>6.81</td>\n",
       "      <td>0.77</td>\n",
       "      <td>NaN</td>\n",
       "      <td>NaN</td>\n",
       "      <td>NaN</td>\n",
       "    </tr>\n",
       "    <tr>\n",
       "      <th>2</th>\n",
       "      <td>Mario Kart Wii</td>\n",
       "      <td>Wii</td>\n",
       "      <td>2008</td>\n",
       "      <td>Racing</td>\n",
       "      <td>15.68</td>\n",
       "      <td>12.76</td>\n",
       "      <td>3.79</td>\n",
       "      <td>3.29</td>\n",
       "      <td>82.0</td>\n",
       "      <td>8.3</td>\n",
       "      <td>E</td>\n",
       "    </tr>\n",
       "    <tr>\n",
       "      <th>3</th>\n",
       "      <td>Wii Sports Resort</td>\n",
       "      <td>Wii</td>\n",
       "      <td>2009</td>\n",
       "      <td>Sports</td>\n",
       "      <td>15.61</td>\n",
       "      <td>10.93</td>\n",
       "      <td>3.28</td>\n",
       "      <td>2.95</td>\n",
       "      <td>80.0</td>\n",
       "      <td>8.0</td>\n",
       "      <td>E</td>\n",
       "    </tr>\n",
       "    <tr>\n",
       "      <th>4</th>\n",
       "      <td>Pokemon Red/Pokemon Blue</td>\n",
       "      <td>GB</td>\n",
       "      <td>1996</td>\n",
       "      <td>Role-Playing</td>\n",
       "      <td>11.27</td>\n",
       "      <td>8.89</td>\n",
       "      <td>10.22</td>\n",
       "      <td>1.00</td>\n",
       "      <td>NaN</td>\n",
       "      <td>NaN</td>\n",
       "      <td>NaN</td>\n",
       "    </tr>\n",
       "    <tr>\n",
       "      <th>...</th>\n",
       "      <td>...</td>\n",
       "      <td>...</td>\n",
       "      <td>...</td>\n",
       "      <td>...</td>\n",
       "      <td>...</td>\n",
       "      <td>...</td>\n",
       "      <td>...</td>\n",
       "      <td>...</td>\n",
       "      <td>...</td>\n",
       "      <td>...</td>\n",
       "      <td>...</td>\n",
       "    </tr>\n",
       "    <tr>\n",
       "      <th>16439</th>\n",
       "      <td>Samurai Warriors: Sanada Maru</td>\n",
       "      <td>PS3</td>\n",
       "      <td>2016</td>\n",
       "      <td>Action</td>\n",
       "      <td>0.00</td>\n",
       "      <td>0.00</td>\n",
       "      <td>0.01</td>\n",
       "      <td>0.00</td>\n",
       "      <td>NaN</td>\n",
       "      <td>NaN</td>\n",
       "      <td>NaN</td>\n",
       "    </tr>\n",
       "    <tr>\n",
       "      <th>16440</th>\n",
       "      <td>LMA Manager 2007</td>\n",
       "      <td>X360</td>\n",
       "      <td>2006</td>\n",
       "      <td>Sports</td>\n",
       "      <td>0.00</td>\n",
       "      <td>0.01</td>\n",
       "      <td>0.00</td>\n",
       "      <td>0.00</td>\n",
       "      <td>NaN</td>\n",
       "      <td>NaN</td>\n",
       "      <td>NaN</td>\n",
       "    </tr>\n",
       "    <tr>\n",
       "      <th>16441</th>\n",
       "      <td>Haitaka no Psychedelica</td>\n",
       "      <td>PSV</td>\n",
       "      <td>2016</td>\n",
       "      <td>Adventure</td>\n",
       "      <td>0.00</td>\n",
       "      <td>0.00</td>\n",
       "      <td>0.01</td>\n",
       "      <td>0.00</td>\n",
       "      <td>NaN</td>\n",
       "      <td>NaN</td>\n",
       "      <td>NaN</td>\n",
       "    </tr>\n",
       "    <tr>\n",
       "      <th>16442</th>\n",
       "      <td>Spirits &amp; Spells</td>\n",
       "      <td>GBA</td>\n",
       "      <td>2003</td>\n",
       "      <td>Platform</td>\n",
       "      <td>0.01</td>\n",
       "      <td>0.00</td>\n",
       "      <td>0.00</td>\n",
       "      <td>0.00</td>\n",
       "      <td>NaN</td>\n",
       "      <td>NaN</td>\n",
       "      <td>NaN</td>\n",
       "    </tr>\n",
       "    <tr>\n",
       "      <th>16443</th>\n",
       "      <td>Winning Post 8 2016</td>\n",
       "      <td>PSV</td>\n",
       "      <td>2016</td>\n",
       "      <td>Simulation</td>\n",
       "      <td>0.00</td>\n",
       "      <td>0.00</td>\n",
       "      <td>0.01</td>\n",
       "      <td>0.00</td>\n",
       "      <td>NaN</td>\n",
       "      <td>NaN</td>\n",
       "      <td>NaN</td>\n",
       "    </tr>\n",
       "  </tbody>\n",
       "</table>\n",
       "<p>16444 rows × 11 columns</p>\n",
       "</div>"
      ],
      "text/plain": [
       "                                name platform  year_of_release         genre  \\\n",
       "0                         Wii Sports      Wii             2006        Sports   \n",
       "1                  Super Mario Bros.      NES             1985      Platform   \n",
       "2                     Mario Kart Wii      Wii             2008        Racing   \n",
       "3                  Wii Sports Resort      Wii             2009        Sports   \n",
       "4           Pokemon Red/Pokemon Blue       GB             1996  Role-Playing   \n",
       "...                              ...      ...              ...           ...   \n",
       "16439  Samurai Warriors: Sanada Maru      PS3             2016        Action   \n",
       "16440               LMA Manager 2007     X360             2006        Sports   \n",
       "16441        Haitaka no Psychedelica      PSV             2016     Adventure   \n",
       "16442               Spirits & Spells      GBA             2003      Platform   \n",
       "16443            Winning Post 8 2016      PSV             2016    Simulation   \n",
       "\n",
       "       na_sales  eu_sales  jp_sales  other_sales  critic_score  user_score  \\\n",
       "0         41.36     28.96      3.77         8.45          76.0         8.0   \n",
       "1         29.08      3.58      6.81         0.77           NaN         NaN   \n",
       "2         15.68     12.76      3.79         3.29          82.0         8.3   \n",
       "3         15.61     10.93      3.28         2.95          80.0         8.0   \n",
       "4         11.27      8.89     10.22         1.00           NaN         NaN   \n",
       "...         ...       ...       ...          ...           ...         ...   \n",
       "16439      0.00      0.00      0.01         0.00           NaN         NaN   \n",
       "16440      0.00      0.01      0.00         0.00           NaN         NaN   \n",
       "16441      0.00      0.00      0.01         0.00           NaN         NaN   \n",
       "16442      0.01      0.00      0.00         0.00           NaN         NaN   \n",
       "16443      0.00      0.00      0.01         0.00           NaN         NaN   \n",
       "\n",
       "      rating  \n",
       "0          E  \n",
       "1        NaN  \n",
       "2          E  \n",
       "3          E  \n",
       "4        NaN  \n",
       "...      ...  \n",
       "16439    NaN  \n",
       "16440    NaN  \n",
       "16441    NaN  \n",
       "16442    NaN  \n",
       "16443    NaN  \n",
       "\n",
       "[16444 rows x 11 columns]"
      ]
     },
     "execution_count": 12,
     "metadata": {},
     "output_type": "execute_result"
    }
   ],
   "source": [
    "data"
   ]
  },
  {
   "cell_type": "code",
   "execution_count": 13,
   "metadata": {},
   "outputs": [],
   "source": [
    "data['total_sales'] = data['na_sales']+data['eu_sales']+data['jp_sales']+data['other_sales']"
   ]
  },
  {
   "cell_type": "code",
   "execution_count": 14,
   "metadata": {},
   "outputs": [
    {
     "data": {
      "text/plain": [
       "<AxesSubplot:>"
      ]
     },
     "execution_count": 14,
     "metadata": {},
     "output_type": "execute_result"
    },
    {
     "data": {
      "image/png": "[encoded data removed]",
      "text/plain": [
       "<Figure size 432x288 with 1 Axes>"
      ]
     },
     "metadata": {
      "needs_background": "light"
     },
     "output_type": "display_data"
    }
   ],
   "source": [
    "data['total_sales'].hist(bins = 100)"
   ]
  },
  {
   "cell_type": "markdown",
   "metadata": {},
   "source": [
    "<b>Вывод:</b>\n",
    "1. Приведены названия столбцов к нижнему регистру.\n",
    "2. Преобразованы данные в нужные типы, а именно столбец year_of_release из типа float в тип int, user_score из типа object в тип float.\n",
    "3. Обработаны пропуски там, где это необходимо, а имено в удалены строки с пропусками в столбцах name, genre, year_of_release.\n",
    "4. Проверено на наличие дубликатов. Дубликаты отсутствуют.\n",
    "5. Посчитаны суммарные продажи во всех регионах и записаны в отдельный столбец total_sales."
   ]
  },
  {
   "cell_type": "markdown",
   "metadata": {},
   "source": [
    "## Исследовательский анализ данных"
   ]
  },
  {
   "cell_type": "markdown",
   "metadata": {},
   "source": [
    "3.1 Посмотрим, сколько игр выпускалось в разные годы. Важны ли данные за все периоды?"
   ]
  },
  {
   "cell_type": "code",
   "execution_count": 15,
   "metadata": {
    "scrolled": true
   },
   "outputs": [
    {
     "data": {
      "text/plain": [
       "<AxesSubplot:>"
      ]
     },
     "execution_count": 15,
     "metadata": {},
     "output_type": "execute_result"
    },
    {
     "data": {
      "image/png": "[encoded data removed]",
      "text/plain": [
       "<Figure size 432x288 with 1 Axes>"
      ]
     },
     "metadata": {
      "needs_background": "light"
     },
     "output_type": "display_data"
    }
   ],
   "source": [
    "data['year_of_release'].hist(bins=100)"
   ]
  },
  {
   "cell_type": "markdown",
   "metadata": {},
   "source": [
    "Больше всего игр выпускалось в 2008-2009 годах. До 1995 года выпускалось незначительное количество игр. Отбросим эти данные."
   ]
  },
  {
   "cell_type": "code",
   "execution_count": 16,
   "metadata": {},
   "outputs": [
    {
     "data": {
      "text/html": [
       "<div>\n",
       "<style scoped>\n",
       "    .dataframe tbody tr th:only-of-type {\n",
       "        vertical-align: middle;\n",
       "    }\n",
       "\n",
       "    .dataframe tbody tr th {\n",
       "        vertical-align: top;\n",
       "    }\n",
       "\n",
       "    .dataframe thead th {\n",
       "        text-align: right;\n",
       "    }\n",
       "</style>\n",
       "<table border=\"1\" class=\"dataframe\">\n",
       "  <thead>\n",
       "    <tr style=\"text-align: right;\">\n",
       "      <th></th>\n",
       "      <th>name</th>\n",
       "      <th>platform</th>\n",
       "      <th>year_of_release</th>\n",
       "      <th>genre</th>\n",
       "      <th>na_sales</th>\n",
       "      <th>eu_sales</th>\n",
       "      <th>jp_sales</th>\n",
       "      <th>other_sales</th>\n",
       "      <th>critic_score</th>\n",
       "      <th>user_score</th>\n",
       "      <th>rating</th>\n",
       "      <th>total_sales</th>\n",
       "    </tr>\n",
       "  </thead>\n",
       "  <tbody>\n",
       "    <tr>\n",
       "      <th>0</th>\n",
       "      <td>Wii Sports</td>\n",
       "      <td>Wii</td>\n",
       "      <td>2006</td>\n",
       "      <td>Sports</td>\n",
       "      <td>41.36</td>\n",
       "      <td>28.96</td>\n",
       "      <td>3.77</td>\n",
       "      <td>8.45</td>\n",
       "      <td>76.0</td>\n",
       "      <td>8.0</td>\n",
       "      <td>E</td>\n",
       "      <td>82.54</td>\n",
       "    </tr>\n",
       "    <tr>\n",
       "      <th>2</th>\n",
       "      <td>Mario Kart Wii</td>\n",
       "      <td>Wii</td>\n",
       "      <td>2008</td>\n",
       "      <td>Racing</td>\n",
       "      <td>15.68</td>\n",
       "      <td>12.76</td>\n",
       "      <td>3.79</td>\n",
       "      <td>3.29</td>\n",
       "      <td>82.0</td>\n",
       "      <td>8.3</td>\n",
       "      <td>E</td>\n",
       "      <td>35.52</td>\n",
       "    </tr>\n",
       "    <tr>\n",
       "      <th>3</th>\n",
       "      <td>Wii Sports Resort</td>\n",
       "      <td>Wii</td>\n",
       "      <td>2009</td>\n",
       "      <td>Sports</td>\n",
       "      <td>15.61</td>\n",
       "      <td>10.93</td>\n",
       "      <td>3.28</td>\n",
       "      <td>2.95</td>\n",
       "      <td>80.0</td>\n",
       "      <td>8.0</td>\n",
       "      <td>E</td>\n",
       "      <td>32.77</td>\n",
       "    </tr>\n",
       "    <tr>\n",
       "      <th>4</th>\n",
       "      <td>Pokemon Red/Pokemon Blue</td>\n",
       "      <td>GB</td>\n",
       "      <td>1996</td>\n",
       "      <td>Role-Playing</td>\n",
       "      <td>11.27</td>\n",
       "      <td>8.89</td>\n",
       "      <td>10.22</td>\n",
       "      <td>1.00</td>\n",
       "      <td>NaN</td>\n",
       "      <td>NaN</td>\n",
       "      <td>NaN</td>\n",
       "      <td>31.38</td>\n",
       "    </tr>\n",
       "    <tr>\n",
       "      <th>6</th>\n",
       "      <td>New Super Mario Bros.</td>\n",
       "      <td>DS</td>\n",
       "      <td>2006</td>\n",
       "      <td>Platform</td>\n",
       "      <td>11.28</td>\n",
       "      <td>9.14</td>\n",
       "      <td>6.50</td>\n",
       "      <td>2.88</td>\n",
       "      <td>89.0</td>\n",
       "      <td>8.5</td>\n",
       "      <td>E</td>\n",
       "      <td>29.80</td>\n",
       "    </tr>\n",
       "    <tr>\n",
       "      <th>...</th>\n",
       "      <td>...</td>\n",
       "      <td>...</td>\n",
       "      <td>...</td>\n",
       "      <td>...</td>\n",
       "      <td>...</td>\n",
       "      <td>...</td>\n",
       "      <td>...</td>\n",
       "      <td>...</td>\n",
       "      <td>...</td>\n",
       "      <td>...</td>\n",
       "      <td>...</td>\n",
       "      <td>...</td>\n",
       "    </tr>\n",
       "    <tr>\n",
       "      <th>16439</th>\n",
       "      <td>Samurai Warriors: Sanada Maru</td>\n",
       "      <td>PS3</td>\n",
       "      <td>2016</td>\n",
       "      <td>Action</td>\n",
       "      <td>0.00</td>\n",
       "      <td>0.00</td>\n",
       "      <td>0.01</td>\n",
       "      <td>0.00</td>\n",
       "      <td>NaN</td>\n",
       "      <td>NaN</td>\n",
       "      <td>NaN</td>\n",
       "      <td>0.01</td>\n",
       "    </tr>\n",
       "    <tr>\n",
       "      <th>16440</th>\n",
       "      <td>LMA Manager 2007</td>\n",
       "      <td>X360</td>\n",
       "      <td>2006</td>\n",
       "      <td>Sports</td>\n",
       "      <td>0.00</td>\n",
       "      <td>0.01</td>\n",
       "      <td>0.00</td>\n",
       "      <td>0.00</td>\n",
       "      <td>NaN</td>\n",
       "      <td>NaN</td>\n",
       "      <td>NaN</td>\n",
       "      <td>0.01</td>\n",
       "    </tr>\n",
       "    <tr>\n",
       "      <th>16441</th>\n",
       "      <td>Haitaka no Psychedelica</td>\n",
       "      <td>PSV</td>\n",
       "      <td>2016</td>\n",
       "      <td>Adventure</td>\n",
       "      <td>0.00</td>\n",
       "      <td>0.00</td>\n",
       "      <td>0.01</td>\n",
       "      <td>0.00</td>\n",
       "      <td>NaN</td>\n",
       "      <td>NaN</td>\n",
       "      <td>NaN</td>\n",
       "      <td>0.01</td>\n",
       "    </tr>\n",
       "    <tr>\n",
       "      <th>16442</th>\n",
       "      <td>Spirits &amp; Spells</td>\n",
       "      <td>GBA</td>\n",
       "      <td>2003</td>\n",
       "      <td>Platform</td>\n",
       "      <td>0.01</td>\n",
       "      <td>0.00</td>\n",
       "      <td>0.00</td>\n",
       "      <td>0.00</td>\n",
       "      <td>NaN</td>\n",
       "      <td>NaN</td>\n",
       "      <td>NaN</td>\n",
       "      <td>0.01</td>\n",
       "    </tr>\n",
       "    <tr>\n",
       "      <th>16443</th>\n",
       "      <td>Winning Post 8 2016</td>\n",
       "      <td>PSV</td>\n",
       "      <td>2016</td>\n",
       "      <td>Simulation</td>\n",
       "      <td>0.00</td>\n",
       "      <td>0.00</td>\n",
       "      <td>0.01</td>\n",
       "      <td>0.00</td>\n",
       "      <td>NaN</td>\n",
       "      <td>NaN</td>\n",
       "      <td>NaN</td>\n",
       "      <td>0.01</td>\n",
       "    </tr>\n",
       "  </tbody>\n",
       "</table>\n",
       "<p>15958 rows × 12 columns</p>\n",
       "</div>"
      ],
      "text/plain": [
       "                                name platform  year_of_release         genre  \\\n",
       "0                         Wii Sports      Wii             2006        Sports   \n",
       "2                     Mario Kart Wii      Wii             2008        Racing   \n",
       "3                  Wii Sports Resort      Wii             2009        Sports   \n",
       "4           Pokemon Red/Pokemon Blue       GB             1996  Role-Playing   \n",
       "6              New Super Mario Bros.       DS             2006      Platform   \n",
       "...                              ...      ...              ...           ...   \n",
       "16439  Samurai Warriors: Sanada Maru      PS3             2016        Action   \n",
       "16440               LMA Manager 2007     X360             2006        Sports   \n",
       "16441        Haitaka no Psychedelica      PSV             2016     Adventure   \n",
       "16442               Spirits & Spells      GBA             2003      Platform   \n",
       "16443            Winning Post 8 2016      PSV             2016    Simulation   \n",
       "\n",
       "       na_sales  eu_sales  jp_sales  other_sales  critic_score  user_score  \\\n",
       "0         41.36     28.96      3.77         8.45          76.0         8.0   \n",
       "2         15.68     12.76      3.79         3.29          82.0         8.3   \n",
       "3         15.61     10.93      3.28         2.95          80.0         8.0   \n",
       "4         11.27      8.89     10.22         1.00           NaN         NaN   \n",
       "6         11.28      9.14      6.50         2.88          89.0         8.5   \n",
       "...         ...       ...       ...          ...           ...         ...   \n",
       "16439      0.00      0.00      0.01         0.00           NaN         NaN   \n",
       "16440      0.00      0.01      0.00         0.00           NaN         NaN   \n",
       "16441      0.00      0.00      0.01         0.00           NaN         NaN   \n",
       "16442      0.01      0.00      0.00         0.00           NaN         NaN   \n",
       "16443      0.00      0.00      0.01         0.00           NaN         NaN   \n",
       "\n",
       "      rating  total_sales  \n",
       "0          E        82.54  \n",
       "2          E        35.52  \n",
       "3          E        32.77  \n",
       "4        NaN        31.38  \n",
       "6          E        29.80  \n",
       "...      ...          ...  \n",
       "16439    NaN         0.01  \n",
       "16440    NaN         0.01  \n",
       "16441    NaN         0.01  \n",
       "16442    NaN         0.01  \n",
       "16443    NaN         0.01  \n",
       "\n",
       "[15958 rows x 12 columns]"
      ]
     },
     "execution_count": 16,
     "metadata": {},
     "output_type": "execute_result"
    }
   ],
   "source": [
    "data = data.query('year_of_release > 1994')\n",
    "data"
   ]
  },
  {
   "cell_type": "markdown",
   "metadata": {},
   "source": [
    "3.2 Посмотрим, как менялись продажи по платформам. Выберем платформы с наибольшими суммарными продажами и построим распределение по годам. За какой характерный срок появляются новые и исчезают старые платформы?"
   ]
  },
  {
   "cell_type": "code",
   "execution_count": 17,
   "metadata": {},
   "outputs": [
    {
     "data": {
      "text/html": [
       "<div>\n",
       "<style scoped>\n",
       "    .dataframe tbody tr th:only-of-type {\n",
       "        vertical-align: middle;\n",
       "    }\n",
       "\n",
       "    .dataframe tbody tr th {\n",
       "        vertical-align: top;\n",
       "    }\n",
       "\n",
       "    .dataframe thead th {\n",
       "        text-align: right;\n",
       "    }\n",
       "</style>\n",
       "<table border=\"1\" class=\"dataframe\">\n",
       "  <thead>\n",
       "    <tr style=\"text-align: right;\">\n",
       "      <th></th>\n",
       "      <th>total_sales</th>\n",
       "    </tr>\n",
       "    <tr>\n",
       "      <th>platform</th>\n",
       "      <th></th>\n",
       "    </tr>\n",
       "  </thead>\n",
       "  <tbody>\n",
       "    <tr>\n",
       "      <th>PS2</th>\n",
       "      <td>1233.56</td>\n",
       "    </tr>\n",
       "    <tr>\n",
       "      <th>X360</th>\n",
       "      <td>961.24</td>\n",
       "    </tr>\n",
       "    <tr>\n",
       "      <th>PS3</th>\n",
       "      <td>931.34</td>\n",
       "    </tr>\n",
       "    <tr>\n",
       "      <th>Wii</th>\n",
       "      <td>891.18</td>\n",
       "    </tr>\n",
       "    <tr>\n",
       "      <th>DS</th>\n",
       "      <td>802.76</td>\n",
       "    </tr>\n",
       "    <tr>\n",
       "      <th>PS</th>\n",
       "      <td>721.55</td>\n",
       "    </tr>\n",
       "    <tr>\n",
       "      <th>PS4</th>\n",
       "      <td>314.14</td>\n",
       "    </tr>\n",
       "    <tr>\n",
       "      <th>GBA</th>\n",
       "      <td>312.88</td>\n",
       "    </tr>\n",
       "    <tr>\n",
       "      <th>PSP</th>\n",
       "      <td>289.53</td>\n",
       "    </tr>\n",
       "    <tr>\n",
       "      <th>3DS</th>\n",
       "      <td>257.81</td>\n",
       "    </tr>\n",
       "    <tr>\n",
       "      <th>XB</th>\n",
       "      <td>251.57</td>\n",
       "    </tr>\n",
       "    <tr>\n",
       "      <th>PC</th>\n",
       "      <td>239.79</td>\n",
       "    </tr>\n",
       "    <tr>\n",
       "      <th>N64</th>\n",
       "      <td>218.01</td>\n",
       "    </tr>\n",
       "    <tr>\n",
       "      <th>GC</th>\n",
       "      <td>196.73</td>\n",
       "    </tr>\n",
       "    <tr>\n",
       "      <th>XOne</th>\n",
       "      <td>159.32</td>\n",
       "    </tr>\n",
       "    <tr>\n",
       "      <th>GB</th>\n",
       "      <td>139.90</td>\n",
       "    </tr>\n",
       "    <tr>\n",
       "      <th>WiiU</th>\n",
       "      <td>82.19</td>\n",
       "    </tr>\n",
       "    <tr>\n",
       "      <th>PSV</th>\n",
       "      <td>53.81</td>\n",
       "    </tr>\n",
       "    <tr>\n",
       "      <th>SNES</th>\n",
       "      <td>49.59</td>\n",
       "    </tr>\n",
       "    <tr>\n",
       "      <th>SAT</th>\n",
       "      <td>29.94</td>\n",
       "    </tr>\n",
       "    <tr>\n",
       "      <th>DC</th>\n",
       "      <td>15.95</td>\n",
       "    </tr>\n",
       "    <tr>\n",
       "      <th>WS</th>\n",
       "      <td>1.42</td>\n",
       "    </tr>\n",
       "    <tr>\n",
       "      <th>NG</th>\n",
       "      <td>0.43</td>\n",
       "    </tr>\n",
       "    <tr>\n",
       "      <th>TG16</th>\n",
       "      <td>0.16</td>\n",
       "    </tr>\n",
       "    <tr>\n",
       "      <th>3DO</th>\n",
       "      <td>0.08</td>\n",
       "    </tr>\n",
       "    <tr>\n",
       "      <th>PCFX</th>\n",
       "      <td>0.03</td>\n",
       "    </tr>\n",
       "  </tbody>\n",
       "</table>\n",
       "</div>"
      ],
      "text/plain": [
       "          total_sales\n",
       "platform             \n",
       "PS2           1233.56\n",
       "X360           961.24\n",
       "PS3            931.34\n",
       "Wii            891.18\n",
       "DS             802.76\n",
       "PS             721.55\n",
       "PS4            314.14\n",
       "GBA            312.88\n",
       "PSP            289.53\n",
       "3DS            257.81\n",
       "XB             251.57\n",
       "PC             239.79\n",
       "N64            218.01\n",
       "GC             196.73\n",
       "XOne           159.32\n",
       "GB             139.90\n",
       "WiiU            82.19\n",
       "PSV             53.81\n",
       "SNES            49.59\n",
       "SAT             29.94\n",
       "DC              15.95\n",
       "WS               1.42\n",
       "NG               0.43\n",
       "TG16             0.16\n",
       "3DO              0.08\n",
       "PCFX             0.03"
      ]
     },
     "execution_count": 17,
     "metadata": {},
     "output_type": "execute_result"
    }
   ],
   "source": [
    "data.pivot_table(index='platform',values='total_sales',aggfunc='sum').sort_values(by = 'total_sales', ascending=False)"
   ]
  },
  {
   "cell_type": "code",
   "execution_count": 18,
   "metadata": {},
   "outputs": [
    {
     "data": {
      "text/plain": [
       "<AxesSubplot:>"
      ]
     },
     "execution_count": 18,
     "metadata": {},
     "output_type": "execute_result"
    },
    {
     "data": {
      "image/png": "[encoded data removed]",
      "text/plain": [
       "<Figure size 432x288 with 1 Axes>"
      ]
     },
     "metadata": {
      "needs_background": "light"
     },
     "output_type": "display_data"
    }
   ],
   "source": [
    "data.query('platform == \"PS2\"')['year_of_release'].hist(bins = 100, range = (1995,2016))"
   ]
  },
  {
   "cell_type": "markdown",
   "metadata": {},
   "source": [
    "Платформа PS2 была в продаже 12 лет."
   ]
  },
  {
   "cell_type": "code",
   "execution_count": 19,
   "metadata": {},
   "outputs": [
    {
     "data": {
      "text/plain": [
       "<AxesSubplot:>"
      ]
     },
     "execution_count": 19,
     "metadata": {},
     "output_type": "execute_result"
    },
    {
     "data": {
      "image/png": "[encoded data removed]",
      "text/plain": [
       "<Figure size 432x288 with 1 Axes>"
      ]
     },
     "metadata": {
      "needs_background": "light"
     },
     "output_type": "display_data"
    }
   ],
   "source": [
    "data.query('platform == \"X360\"')['year_of_release'].hist(bins = 100, range = (1995,2016))"
   ]
  },
  {
   "cell_type": "markdown",
   "metadata": {},
   "source": [
    "Платформа X360 была в продаже 12 лет."
   ]
  },
  {
   "cell_type": "code",
   "execution_count": 20,
   "metadata": {},
   "outputs": [
    {
     "data": {
      "text/plain": [
       "<AxesSubplot:>"
      ]
     },
     "execution_count": 20,
     "metadata": {},
     "output_type": "execute_result"
    },
    {
     "data": {
      "image/png": "[encoded data removed]",
      "text/plain": [
       "<Figure size 432x288 with 1 Axes>"
      ]
     },
     "metadata": {
      "needs_background": "light"
     },
     "output_type": "display_data"
    }
   ],
   "source": [
    "data.query('platform == \"Wii\"')['year_of_release'].hist(bins = 100, range = (1995,2016))"
   ]
  },
  {
   "cell_type": "markdown",
   "metadata": {},
   "source": [
    "Платформа X360 в продаже 11 лет."
   ]
  },
  {
   "cell_type": "code",
   "execution_count": 21,
   "metadata": {},
   "outputs": [
    {
     "data": {
      "text/plain": [
       "<AxesSubplot:>"
      ]
     },
     "execution_count": 21,
     "metadata": {},
     "output_type": "execute_result"
    },
    {
     "data": {
      "image/png": "[encoded data removed]",
      "text/plain": [
       "<Figure size 432x288 with 1 Axes>"
      ]
     },
     "metadata": {
      "needs_background": "light"
     },
     "output_type": "display_data"
    }
   ],
   "source": [
    "data.query('platform == \"PS3\"')['year_of_release'].hist(bins = 100, range = (1995,2016))"
   ]
  },
  {
   "cell_type": "markdown",
   "metadata": {},
   "source": [
    "Платформа PS3 в продаже 11 лет."
   ]
  },
  {
   "cell_type": "code",
   "execution_count": 22,
   "metadata": {},
   "outputs": [
    {
     "data": {
      "text/plain": [
       "<AxesSubplot:>"
      ]
     },
     "execution_count": 22,
     "metadata": {},
     "output_type": "execute_result"
    },
    {
     "data": {
      "image/png": "[encoded data removed]",
      "text/plain": [
       "<Figure size 432x288 with 1 Axes>"
      ]
     },
     "metadata": {
      "needs_background": "light"
     },
     "output_type": "display_data"
    }
   ],
   "source": [
    "data.query('platform == \"DS\"')['year_of_release'].hist(bins = 100, range = (1995,2016))"
   ]
  },
  {
   "cell_type": "markdown",
   "metadata": {},
   "source": [
    "Платформа DS в продаже 10 лет."
   ]
  },
  {
   "cell_type": "code",
   "execution_count": 23,
   "metadata": {},
   "outputs": [
    {
     "data": {
      "text/plain": [
       "<AxesSubplot:>"
      ]
     },
     "execution_count": 23,
     "metadata": {},
     "output_type": "execute_result"
    },
    {
     "data": {
      "image/png": "[encoded data removed]",
      "text/plain": [
       "<Figure size 432x288 with 1 Axes>"
      ]
     },
     "metadata": {
      "needs_background": "light"
     },
     "output_type": "display_data"
    }
   ],
   "source": [
    "data.query('platform == \"PS\"')['year_of_release'].hist(bins = 100, range = (1995,2016))"
   ]
  },
  {
   "cell_type": "markdown",
   "metadata": {},
   "source": [
    "Платформа PS в продаже 9 лет."
   ]
  },
  {
   "cell_type": "markdown",
   "metadata": {},
   "source": [
    "Популярные платформы надохятся в продаже 9-12 лет."
   ]
  },
  {
   "cell_type": "markdown",
   "metadata": {},
   "source": [
    "3.3 Возьмем данные за соответствующий актуальный период. Актуальный период определим самостоятельно в результате исследования предыдущих вопросов. Основной фактор — эти данные помогут построить прогноз на 2017 год."
   ]
  },
  {
   "cell_type": "markdown",
   "metadata": {},
   "source": [
    "Возьмем данные за последние 3 года."
   ]
  },
  {
   "cell_type": "code",
   "execution_count": 24,
   "metadata": {},
   "outputs": [],
   "source": [
    "data_for_current_period = data.query('year_of_release > 2013')"
   ]
  },
  {
   "cell_type": "code",
   "execution_count": 25,
   "metadata": {},
   "outputs": [
    {
     "data": {
      "text/html": [
       "<div>\n",
       "<style scoped>\n",
       "    .dataframe tbody tr th:only-of-type {\n",
       "        vertical-align: middle;\n",
       "    }\n",
       "\n",
       "    .dataframe tbody tr th {\n",
       "        vertical-align: top;\n",
       "    }\n",
       "\n",
       "    .dataframe thead th {\n",
       "        text-align: right;\n",
       "    }\n",
       "</style>\n",
       "<table border=\"1\" class=\"dataframe\">\n",
       "  <thead>\n",
       "    <tr style=\"text-align: right;\">\n",
       "      <th></th>\n",
       "      <th>total_sales</th>\n",
       "    </tr>\n",
       "    <tr>\n",
       "      <th>platform</th>\n",
       "      <th></th>\n",
       "    </tr>\n",
       "  </thead>\n",
       "  <tbody>\n",
       "    <tr>\n",
       "      <th>PS4</th>\n",
       "      <td>288.15</td>\n",
       "    </tr>\n",
       "    <tr>\n",
       "      <th>XOne</th>\n",
       "      <td>140.36</td>\n",
       "    </tr>\n",
       "    <tr>\n",
       "      <th>3DS</th>\n",
       "      <td>86.68</td>\n",
       "    </tr>\n",
       "    <tr>\n",
       "      <th>PS3</th>\n",
       "      <td>68.18</td>\n",
       "    </tr>\n",
       "    <tr>\n",
       "      <th>X360</th>\n",
       "      <td>48.22</td>\n",
       "    </tr>\n",
       "    <tr>\n",
       "      <th>WiiU</th>\n",
       "      <td>42.98</td>\n",
       "    </tr>\n",
       "    <tr>\n",
       "      <th>PC</th>\n",
       "      <td>27.05</td>\n",
       "    </tr>\n",
       "    <tr>\n",
       "      <th>PSV</th>\n",
       "      <td>22.40</td>\n",
       "    </tr>\n",
       "    <tr>\n",
       "      <th>Wii</th>\n",
       "      <td>5.07</td>\n",
       "    </tr>\n",
       "    <tr>\n",
       "      <th>PSP</th>\n",
       "      <td>0.36</td>\n",
       "    </tr>\n",
       "  </tbody>\n",
       "</table>\n",
       "</div>"
      ],
      "text/plain": [
       "          total_sales\n",
       "platform             \n",
       "PS4            288.15\n",
       "XOne           140.36\n",
       "3DS             86.68\n",
       "PS3             68.18\n",
       "X360            48.22\n",
       "WiiU            42.98\n",
       "PC              27.05\n",
       "PSV             22.40\n",
       "Wii              5.07\n",
       "PSP              0.36"
      ]
     },
     "execution_count": 25,
     "metadata": {},
     "output_type": "execute_result"
    }
   ],
   "source": [
    "data_for_current_period.pivot_table(index='platform',values='total_sales',aggfunc='sum').sort_values(by = 'total_sales', ascending=False)"
   ]
  },
  {
   "cell_type": "markdown",
   "metadata": {},
   "source": [
    "3.4 Какие платформы лидируют по продажам, растут или падают?"
   ]
  },
  {
   "cell_type": "markdown",
   "metadata": {},
   "source": [
    "За актуальный период лидерами продаж являются PS4,  XOne, 3DS."
   ]
  },
  {
   "cell_type": "markdown",
   "metadata": {},
   "source": [
    "Проверим продажи PS4 за последние 3 года."
   ]
  },
  {
   "cell_type": "code",
   "execution_count": 26,
   "metadata": {},
   "outputs": [
    {
     "data": {
      "text/plain": [
       "<AxesSubplot:>"
      ]
     },
     "execution_count": 26,
     "metadata": {},
     "output_type": "execute_result"
    },
    {
     "data": {
      "image/png": "[encoded data removed]",
      "text/plain": [
       "<Figure size 432x288 with 1 Axes>"
      ]
     },
     "metadata": {
      "needs_background": "light"
     },
     "output_type": "display_data"
    }
   ],
   "source": [
    "data_for_current_period.query('platform == \"PS4\"')['year_of_release'].hist(bins = 100, range = (2014,2016))"
   ]
  },
  {
   "cell_type": "markdown",
   "metadata": {},
   "source": [
    "По построенной гистограмме можно сделать вывод, что продажи платформы PS4 растут. Это потенциально прибыльная платформа."
   ]
  },
  {
   "cell_type": "markdown",
   "metadata": {},
   "source": [
    "Проверим продажи XOne за последние 3 года."
   ]
  },
  {
   "cell_type": "code",
   "execution_count": 27,
   "metadata": {},
   "outputs": [
    {
     "data": {
      "text/plain": [
       "<AxesSubplot:>"
      ]
     },
     "execution_count": 27,
     "metadata": {},
     "output_type": "execute_result"
    },
    {
     "data": {
      "image/png": "[encoded data removed]",
      "text/plain": [
       "<Figure size 432x288 with 1 Axes>"
      ]
     },
     "metadata": {
      "needs_background": "light"
     },
     "output_type": "display_data"
    }
   ],
   "source": [
    "data_for_current_period.query('platform == \"XOne\"')['year_of_release'].hist(bins = 100, range = (2014,2016))"
   ]
  },
  {
   "cell_type": "markdown",
   "metadata": {},
   "source": [
    "По построенной гистограмме можно сделать вывод, что продажи платформы XOne растут. Это потенциально прибыльная платформа."
   ]
  },
  {
   "cell_type": "markdown",
   "metadata": {},
   "source": [
    "Проверим продажи 3DS за последние 3 года."
   ]
  },
  {
   "cell_type": "code",
   "execution_count": 28,
   "metadata": {},
   "outputs": [
    {
     "data": {
      "text/plain": [
       "<AxesSubplot:>"
      ]
     },
     "execution_count": 28,
     "metadata": {},
     "output_type": "execute_result"
    },
    {
     "data": {
      "image/png": "[encoded data removed]",
      "text/plain": [
       "<Figure size 432x288 with 1 Axes>"
      ]
     },
     "metadata": {
      "needs_background": "light"
     },
     "output_type": "display_data"
    }
   ],
   "source": [
    "data_for_current_period.query('platform == \"3DS\"')['year_of_release'].hist(bins = 100, range = (2014,2016))"
   ]
  },
  {
   "cell_type": "markdown",
   "metadata": {},
   "source": [
    "По построенной гистограмме можно сделать вывод, что продажи платформы 3DS идут на спад, однако она может продаваться еще несколько лет (2-4). Это потенциально прибыльная платформа."
   ]
  },
  {
   "cell_type": "markdown",
   "metadata": {},
   "source": [
    "Проверим продажи PS3 за последние 3 года."
   ]
  },
  {
   "cell_type": "code",
   "execution_count": 29,
   "metadata": {},
   "outputs": [
    {
     "data": {
      "text/plain": [
       "<AxesSubplot:>"
      ]
     },
     "execution_count": 29,
     "metadata": {},
     "output_type": "execute_result"
    },
    {
     "data": {
      "image/png": "[encoded data removed]",
      "text/plain": [
       "<Figure size 432x288 with 1 Axes>"
      ]
     },
     "metadata": {
      "needs_background": "light"
     },
     "output_type": "display_data"
    }
   ],
   "source": [
    "data_for_current_period.query('platform == \"PS3\"')['year_of_release'].hist(bins = 100, range = (2014,2016))"
   ]
  },
  {
   "cell_type": "markdown",
   "metadata": {},
   "source": [
    "По построенной гистограмме можно сделать вывод, что продажи платформы PS3 идут на спад, однако она может продаваться еще несколько лет (1-3). "
   ]
  },
  {
   "cell_type": "markdown",
   "metadata": {},
   "source": [
    "Проверим продажи X360 за последние 3 года."
   ]
  },
  {
   "cell_type": "code",
   "execution_count": 30,
   "metadata": {},
   "outputs": [
    {
     "data": {
      "text/plain": [
       "<AxesSubplot:>"
      ]
     },
     "execution_count": 30,
     "metadata": {},
     "output_type": "execute_result"
    },
    {
     "data": {
      "image/png": "[encoded data removed]",
      "text/plain": [
       "<Figure size 432x288 with 1 Axes>"
      ]
     },
     "metadata": {
      "needs_background": "light"
     },
     "output_type": "display_data"
    }
   ],
   "source": [
    "data_for_current_period.query('platform == \"X360\"')['year_of_release'].hist(bins = 100, range = (2014,2016))"
   ]
  },
  {
   "cell_type": "markdown",
   "metadata": {},
   "source": [
    "По построенной гистограмме можно сделать вывод, что продажи платформы X360 идут на спад и скорее всего скоро исчезнут с рынка."
   ]
  },
  {
   "cell_type": "markdown",
   "metadata": {},
   "source": [
    "Проверим продажи WiiU за последние 3 года."
   ]
  },
  {
   "cell_type": "code",
   "execution_count": 31,
   "metadata": {},
   "outputs": [
    {
     "data": {
      "text/plain": [
       "<AxesSubplot:>"
      ]
     },
     "execution_count": 31,
     "metadata": {},
     "output_type": "execute_result"
    },
    {
     "data": {
      "image/png": "[encoded data removed]",
      "text/plain": [
       "<Figure size 432x288 with 1 Axes>"
      ]
     },
     "metadata": {
      "needs_background": "light"
     },
     "output_type": "display_data"
    }
   ],
   "source": [
    "data_for_current_period.query('platform == \"WiiU\"')['year_of_release'].hist(bins = 100, range = (2012,2016))"
   ]
  },
  {
   "cell_type": "markdown",
   "metadata": {},
   "source": [
    "По построенной гистограмме можно сделать вывод, что продажи платформы WiiU идут на спад и скорее всего скоро исчезнут с рынка."
   ]
  },
  {
   "cell_type": "markdown",
   "metadata": {},
   "source": [
    "За актуальный период лидерами продаж и потенциально прибыльными являются платформы PS4,  XOne, 3DS, PS3. "
   ]
  },
  {
   "cell_type": "markdown",
   "metadata": {},
   "source": [
    "3.5 Построим график «ящик с усами» по глобальным продажам игр в разбивке по платформам."
   ]
  },
  {
   "cell_type": "markdown",
   "metadata": {},
   "source": [
    "Построим график «ящик с усами» для продаж платформы PS4, XOne, 3DS, PS3."
   ]
  },
  {
   "cell_type": "code",
   "execution_count": 32,
   "metadata": {},
   "outputs": [
    {
     "data": {
      "image/png": "[encoded data removed]",
      "text/plain": [
       "<Figure size 720x720 with 1 Axes>"
      ]
     },
     "metadata": {
      "needs_background": "light"
     },
     "output_type": "display_data"
    }
   ],
   "source": [
    "data_for_current_period.query('(platform == \"PS4\") | (platform == \"XOne\") | (platform == \"PS3\") | (platform == \"3DS\")').boxplot('total_sales', by='platform', figsize=(10,10))\n",
    "plt.ylim(-0.1,2);\n"
   ]
  },
  {
   "cell_type": "markdown",
   "metadata": {},
   "source": [
    "Для платформы PS4 большая часть значений лежит в диапазоне до 0.69 миллионов проданных копий. Медиана находится на 0.19 миллионах. Первый кварталь приходится на 0.16 миллионов проданных копий.\n",
    "\n",
    "Для платформы XOne большая часть значений лежит в диапазоне до 0.63 миллионов проданных копий. Медиана находится на 0.2 миллионах. Первый кварталь приходится на 0.15 миллионов проданных копий.\n",
    "\n",
    "Для платформы PS3 большая часть значений лежит в диапазоне до 0.32 миллионов проданных копий. Медиана находится на 0.11 миллионах. Первый кварталь приходится на 0.14 миллионов проданных копий.\n",
    "\n",
    "Для платформы 3DS большая часть значений лежит в диапазоне до 0.26 миллионов проданных копий. Медиана находится на 0.1 миллионах. Первый кварталь приходится на 0.13 миллионов проданных копий."
   ]
  },
  {
   "cell_type": "markdown",
   "metadata": {},
   "source": [
    "3.6 Посмотрим, как влияют на продажи внутри одной популярной платформы PS4 отзывы пользователей и критиков. "
   ]
  },
  {
   "cell_type": "markdown",
   "metadata": {},
   "source": [
    "Выделим таблицу, в которой есть оценки критиков."
   ]
  },
  {
   "cell_type": "code",
   "execution_count": 33,
   "metadata": {},
   "outputs": [],
   "source": [
    "data_for_current_period_with_critic_score = data_for_current_period.dropna(subset=['critic_score']).reset_index(drop=True)"
   ]
  },
  {
   "cell_type": "markdown",
   "metadata": {},
   "source": [
    "Выделим таблицу, в которой есть оценки пользователей."
   ]
  },
  {
   "cell_type": "code",
   "execution_count": 34,
   "metadata": {},
   "outputs": [],
   "source": [
    "data_for_current_period_with_user_score = data_for_current_period.dropna(subset=['user_score']).reset_index(drop=True)"
   ]
  },
  {
   "cell_type": "markdown",
   "metadata": {},
   "source": [
    "Проверим взаимосвязь между продажами платформы PS4 и оценками критиков."
   ]
  },
  {
   "cell_type": "code",
   "execution_count": 35,
   "metadata": {},
   "outputs": [
    {
     "data": {
      "text/plain": [
       "<AxesSubplot:xlabel='total_sales', ylabel='critic_score'>"
      ]
     },
     "execution_count": 35,
     "metadata": {},
     "output_type": "execute_result"
    },
    {
     "data": {
      "image/png": "[encoded data removed]",
      "text/plain": [
       "<Figure size 432x288 with 1 Axes>"
      ]
     },
     "metadata": {
      "needs_background": "light"
     },
     "output_type": "display_data"
    }
   ],
   "source": [
    "data_for_current_period_with_critic_score.query('platform == \"PS4\"').plot(x='total_sales', y='critic_score', kind='scatter')"
   ]
  },
  {
   "cell_type": "code",
   "execution_count": 36,
   "metadata": {},
   "outputs": [
    {
     "data": {
      "text/plain": [
       "0.40266141068104083"
      ]
     },
     "execution_count": 36,
     "metadata": {},
     "output_type": "execute_result"
    }
   ],
   "source": [
    "data_for_current_period_with_critic_score.query('platform == \"PS4\"')['total_sales'].corr(data_for_current_period_with_critic_score.query('platform == \"PS4\"')['critic_score'])"
   ]
  },
  {
   "cell_type": "markdown",
   "metadata": {},
   "source": [
    "Проверим взаимосвязь между продажами платформы PS4 и оценками пользователей."
   ]
  },
  {
   "cell_type": "code",
   "execution_count": 37,
   "metadata": {},
   "outputs": [
    {
     "data": {
      "text/plain": [
       "<AxesSubplot:xlabel='total_sales', ylabel='user_score'>"
      ]
     },
     "execution_count": 37,
     "metadata": {},
     "output_type": "execute_result"
    },
    {
     "data": {
      "image/png": "[encoded data removed]",
      "text/plain": [
       "<Figure size 432x288 with 1 Axes>"
      ]
     },
     "metadata": {
      "needs_background": "light"
     },
     "output_type": "display_data"
    }
   ],
   "source": [
    "data_for_current_period_with_user_score.query('platform == \"PS4\"').plot(x='total_sales', y='user_score', kind='scatter')"
   ]
  },
  {
   "cell_type": "code",
   "execution_count": 38,
   "metadata": {},
   "outputs": [
    {
     "data": {
      "text/plain": [
       "-0.040131589472697356"
      ]
     },
     "execution_count": 38,
     "metadata": {},
     "output_type": "execute_result"
    }
   ],
   "source": [
    "data_for_current_period_with_user_score.query('platform == \"PS4\"')['total_sales'].corr(data_for_current_period_with_user_score.query('platform == \"PS4\"')['user_score'])"
   ]
  },
  {
   "cell_type": "markdown",
   "metadata": {},
   "source": [
    "По результатам расчитанной корреляции можно сделать вывод, что связь для платформы PS4 между платежами и оценками критиков слабая. Однако, по построенным диаграммам рассеяния видно, что для оценок критиков большие суммы платежей (от 1 миллиона для оценок пользователей) осуществляются только для платформ с высокими оценками (от 60 по 100 балльной шкале для оценок критиков) и наблюдается прямая связь. Между оценками пользователей и платежами для платформы PS4 связи нет."
   ]
  },
  {
   "cell_type": "markdown",
   "metadata": {},
   "source": [
    "3.7 Соотнесем выводы с продажами игр на других платформах."
   ]
  },
  {
   "cell_type": "markdown",
   "metadata": {},
   "source": [
    "Проверим взаимосвязь между продажами платформы X360 и оценками критиков."
   ]
  },
  {
   "cell_type": "code",
   "execution_count": 39,
   "metadata": {},
   "outputs": [
    {
     "data": {
      "text/plain": [
       "<AxesSubplot:xlabel='total_sales', ylabel='critic_score'>"
      ]
     },
     "execution_count": 39,
     "metadata": {},
     "output_type": "execute_result"
    },
    {
     "data": {
      "image/png": "[encoded data removed]",
      "text/plain": [
       "<Figure size 432x288 with 1 Axes>"
      ]
     },
     "metadata": {
      "needs_background": "light"
     },
     "output_type": "display_data"
    }
   ],
   "source": [
    "data_for_current_period_with_critic_score.query('platform == \"X360\"').plot(x='total_sales', y='critic_score', kind='scatter')"
   ]
  },
  {
   "cell_type": "code",
   "execution_count": 40,
   "metadata": {},
   "outputs": [
    {
     "data": {
      "text/plain": [
       "0.5257228356581523"
      ]
     },
     "execution_count": 40,
     "metadata": {},
     "output_type": "execute_result"
    }
   ],
   "source": [
    "data_for_current_period_with_critic_score.query('platform == \"X360\"')['total_sales'].corr(data_for_current_period_with_critic_score.query('platform == \"X360\"')['critic_score'])"
   ]
  },
  {
   "cell_type": "markdown",
   "metadata": {},
   "source": [
    "Проверим взаимосвязь между продажами платформы X360 и оценками пользователей."
   ]
  },
  {
   "cell_type": "code",
   "execution_count": 41,
   "metadata": {},
   "outputs": [
    {
     "data": {
      "text/plain": [
       "<AxesSubplot:xlabel='total_sales', ylabel='user_score'>"
      ]
     },
     "execution_count": 41,
     "metadata": {},
     "output_type": "execute_result"
    },
    {
     "data": {
      "image/png": "[encoded data removed]",
      "text/plain": [
       "<Figure size 432x288 with 1 Axes>"
      ]
     },
     "metadata": {
      "needs_background": "light"
     },
     "output_type": "display_data"
    }
   ],
   "source": [
    "data_for_current_period_with_user_score.query('platform == \"X360\"').plot(x='total_sales', y='user_score', kind='scatter')"
   ]
  },
  {
   "cell_type": "code",
   "execution_count": 42,
   "metadata": {},
   "outputs": [
    {
     "data": {
      "text/plain": [
       "-0.138444570945665"
      ]
     },
     "execution_count": 42,
     "metadata": {},
     "output_type": "execute_result"
    }
   ],
   "source": [
    "data_for_current_period_with_user_score.query('platform == \"X360\"')['total_sales'].corr(data_for_current_period_with_user_score.query('platform == \"X360\"')['user_score'])"
   ]
  },
  {
   "cell_type": "markdown",
   "metadata": {},
   "source": [
    "По результатам расчитанной корреляции можно сделать вывод, что связь для платформы X360 между платежами и оценками критиков прямая слабая. Между оценками пользователей и платежами для платформы X360 связи практически нет."
   ]
  },
  {
   "cell_type": "markdown",
   "metadata": {},
   "source": [
    "Проверим взаимосвязь между продажами платформы PS3 и оценками критиков."
   ]
  },
  {
   "cell_type": "code",
   "execution_count": 43,
   "metadata": {},
   "outputs": [
    {
     "data": {
      "text/plain": [
       "<AxesSubplot:xlabel='total_sales', ylabel='critic_score'>"
      ]
     },
     "execution_count": 43,
     "metadata": {},
     "output_type": "execute_result"
    },
    {
     "data": {
      "image/png": "[encoded data removed]",
      "text/plain": [
       "<Figure size 432x288 with 1 Axes>"
      ]
     },
     "metadata": {
      "needs_background": "light"
     },
     "output_type": "display_data"
    }
   ],
   "source": [
    "data_for_current_period_with_critic_score.query('platform == \"PS3\"').plot(x='total_sales', y='critic_score', kind='scatter')"
   ]
  },
  {
   "cell_type": "code",
   "execution_count": 44,
   "metadata": {},
   "outputs": [
    {
     "data": {
      "text/plain": [
       "0.44657460493190704"
      ]
     },
     "execution_count": 44,
     "metadata": {},
     "output_type": "execute_result"
    }
   ],
   "source": [
    "data_for_current_period_with_critic_score.query('platform == \"PS3\"')['total_sales'].corr(data_for_current_period_with_critic_score.query('platform == \"PS3\"')['critic_score'])"
   ]
  },
  {
   "cell_type": "markdown",
   "metadata": {},
   "source": [
    "Проверим взаимосвязь между продажами платформы PS3 и оценками пользователей."
   ]
  },
  {
   "cell_type": "code",
   "execution_count": 45,
   "metadata": {},
   "outputs": [
    {
     "data": {
      "text/plain": [
       "<AxesSubplot:xlabel='total_sales', ylabel='user_score'>"
      ]
     },
     "execution_count": 45,
     "metadata": {},
     "output_type": "execute_result"
    },
    {
     "data": {
      "image/png": "[encoded data removed]",
      "text/plain": [
       "<Figure size 432x288 with 1 Axes>"
      ]
     },
     "metadata": {
      "needs_background": "light"
     },
     "output_type": "display_data"
    }
   ],
   "source": [
    "data_for_current_period_with_user_score.query('platform == \"PS3\"').plot(x='total_sales', y='user_score', kind='scatter')"
   ]
  },
  {
   "cell_type": "code",
   "execution_count": 46,
   "metadata": {},
   "outputs": [
    {
     "data": {
      "text/plain": [
       "-0.16676141347662116"
      ]
     },
     "execution_count": 46,
     "metadata": {},
     "output_type": "execute_result"
    }
   ],
   "source": [
    "data_for_current_period_with_user_score.query('platform == \"PS3\"')['total_sales'].corr(data_for_current_period_with_user_score.query('platform == \"PS3\"')['user_score'])"
   ]
  },
  {
   "cell_type": "markdown",
   "metadata": {},
   "source": [
    "По результатам расчитанной корреляции можно сделать вывод, что связь для платформы PS3 между платежами и оценками критиков слабая. Однако, по построенным диаграммам рассеяния видно, что для оценок критиков суммы платежей от 0.2 миллиона наблюдается прямая связь. Между оценками пользователей и платежами для платформы PS3 связи практически нет."
   ]
  },
  {
   "cell_type": "markdown",
   "metadata": {},
   "source": [
    "Проверим взаимосвязь между продажами платформы 3DS и оценками критиков."
   ]
  },
  {
   "cell_type": "code",
   "execution_count": 47,
   "metadata": {},
   "outputs": [
    {
     "data": {
      "text/plain": [
       "<AxesSubplot:xlabel='total_sales', ylabel='critic_score'>"
      ]
     },
     "execution_count": 47,
     "metadata": {},
     "output_type": "execute_result"
    },
    {
     "data": {
      "image/png": "[encoded data removed]",
      "text/plain": [
       "<Figure size 432x288 with 1 Axes>"
      ]
     },
     "metadata": {
      "needs_background": "light"
     },
     "output_type": "display_data"
    }
   ],
   "source": [
    "data_for_current_period_with_critic_score.query('platform == \"3DS\"').plot(x='total_sales', y='critic_score', kind='scatter')"
   ]
  },
  {
   "cell_type": "code",
   "execution_count": 48,
   "metadata": {},
   "outputs": [
    {
     "data": {
      "text/plain": [
       "0.31411749286905105"
      ]
     },
     "execution_count": 48,
     "metadata": {},
     "output_type": "execute_result"
    }
   ],
   "source": [
    "data_for_current_period_with_critic_score.query('platform == \"3DS\"')['total_sales'].corr(data_for_current_period_with_critic_score.query('platform == \"3DS\"')['critic_score'])"
   ]
  },
  {
   "cell_type": "markdown",
   "metadata": {},
   "source": [
    "Проверим взаимосвязь между продажами платформы 3DS и оценками пользователей."
   ]
  },
  {
   "cell_type": "code",
   "execution_count": 49,
   "metadata": {},
   "outputs": [
    {
     "data": {
      "text/plain": [
       "<AxesSubplot:xlabel='total_sales', ylabel='user_score'>"
      ]
     },
     "execution_count": 49,
     "metadata": {},
     "output_type": "execute_result"
    },
    {
     "data": {
      "image/png": "[encoded data removed]",
      "text/plain": [
       "<Figure size 432x288 with 1 Axes>"
      ]
     },
     "metadata": {
      "needs_background": "light"
     },
     "output_type": "display_data"
    }
   ],
   "source": [
    "data_for_current_period_with_user_score.query('platform == \"3DS\"').plot(x='total_sales', y='user_score', kind='scatter')"
   ]
  },
  {
   "cell_type": "code",
   "execution_count": 50,
   "metadata": {},
   "outputs": [
    {
     "data": {
      "text/plain": [
       "0.2151932718527028"
      ]
     },
     "execution_count": 50,
     "metadata": {},
     "output_type": "execute_result"
    }
   ],
   "source": [
    "data_for_current_period_with_user_score.query('platform == \"3DS\"')['total_sales'].corr(data_for_current_period_with_user_score.query('platform == \"3DS\"')['user_score'])"
   ]
  },
  {
   "cell_type": "markdown",
   "metadata": {},
   "source": [
    "По результатам расчитанной корреляции можно сделать вывод, что связь для платформы 3DS между платежами и оценками критиков и пользователей слабая. Однако, по построенным диаграммам рассеяния видно, что для больших сумм платежей, чем выше оценки (от 5 по 10 балльной шкале для оценок пользователей, и от 60 по 100 балльной шкале для оценок критиков), тем больше суммы платежей (от 0.7 миллионов для оценок пользователей, 1 для оценок критиков)."
   ]
  },
  {
   "cell_type": "markdown",
   "metadata": {},
   "source": [
    "3.8 Посмотрим на общее распределение игр по жанрам. Что можно сказать о самых прибыльных жанрах? Выделяются ли жанры с высокими и низкими продажами?"
   ]
  },
  {
   "cell_type": "code",
   "execution_count": 51,
   "metadata": {},
   "outputs": [
    {
     "data": {
      "image/png": "[encoded data removed]",
      "text/plain": [
       "<Figure size 720x720 with 1 Axes>"
      ]
     },
     "metadata": {
      "needs_background": "light"
     },
     "output_type": "display_data"
    }
   ],
   "source": [
    "data_for_current_period.boxplot('total_sales', by='genre', figsize=(10,10))\n",
    "\n",
    "plt.ylim(-0.1,2);"
   ]
  },
  {
   "cell_type": "code",
   "execution_count": 52,
   "metadata": {},
   "outputs": [],
   "source": [
    "data_for_current_period_for_genre = data_for_current_period.pivot_table(index='genre',values='total_sales',aggfunc=['sum','count','mean'])#.sort_values(by = 'total_sales', ascending=False)"
   ]
  },
  {
   "cell_type": "code",
   "execution_count": 53,
   "metadata": {},
   "outputs": [],
   "source": [
    "data_for_current_period_for_genre.columns = ['сумма', 'количество','медиана']"
   ]
  },
  {
   "cell_type": "code",
   "execution_count": 54,
   "metadata": {},
   "outputs": [
    {
     "data": {
      "text/html": [
       "<div>\n",
       "<style scoped>\n",
       "    .dataframe tbody tr th:only-of-type {\n",
       "        vertical-align: middle;\n",
       "    }\n",
       "\n",
       "    .dataframe tbody tr th {\n",
       "        vertical-align: top;\n",
       "    }\n",
       "\n",
       "    .dataframe thead th {\n",
       "        text-align: right;\n",
       "    }\n",
       "</style>\n",
       "<table border=\"1\" class=\"dataframe\">\n",
       "  <thead>\n",
       "    <tr style=\"text-align: right;\">\n",
       "      <th></th>\n",
       "      <th>сумма</th>\n",
       "      <th>количество</th>\n",
       "      <th>медиана</th>\n",
       "    </tr>\n",
       "    <tr>\n",
       "      <th>genre</th>\n",
       "      <th></th>\n",
       "      <th></th>\n",
       "      <th></th>\n",
       "    </tr>\n",
       "  </thead>\n",
       "  <tbody>\n",
       "    <tr>\n",
       "      <th>Shooter</th>\n",
       "      <td>170.94</td>\n",
       "      <td>128</td>\n",
       "      <td>1.335469</td>\n",
       "    </tr>\n",
       "    <tr>\n",
       "      <th>Sports</th>\n",
       "      <td>109.48</td>\n",
       "      <td>161</td>\n",
       "      <td>0.680000</td>\n",
       "    </tr>\n",
       "    <tr>\n",
       "      <th>Platform</th>\n",
       "      <td>18.09</td>\n",
       "      <td>38</td>\n",
       "      <td>0.476053</td>\n",
       "    </tr>\n",
       "    <tr>\n",
       "      <th>Fighting</th>\n",
       "      <td>28.22</td>\n",
       "      <td>60</td>\n",
       "      <td>0.470333</td>\n",
       "    </tr>\n",
       "    <tr>\n",
       "      <th>Role-Playing</th>\n",
       "      <td>101.44</td>\n",
       "      <td>221</td>\n",
       "      <td>0.459005</td>\n",
       "    </tr>\n",
       "    <tr>\n",
       "      <th>Racing</th>\n",
       "      <td>27.52</td>\n",
       "      <td>69</td>\n",
       "      <td>0.398841</td>\n",
       "    </tr>\n",
       "    <tr>\n",
       "      <th>Misc</th>\n",
       "      <td>37.55</td>\n",
       "      <td>113</td>\n",
       "      <td>0.332301</td>\n",
       "    </tr>\n",
       "    <tr>\n",
       "      <th>Action</th>\n",
       "      <td>199.36</td>\n",
       "      <td>619</td>\n",
       "      <td>0.322068</td>\n",
       "    </tr>\n",
       "    <tr>\n",
       "      <th>Simulation</th>\n",
       "      <td>13.13</td>\n",
       "      <td>44</td>\n",
       "      <td>0.298409</td>\n",
       "    </tr>\n",
       "    <tr>\n",
       "      <th>Puzzle</th>\n",
       "      <td>2.21</td>\n",
       "      <td>14</td>\n",
       "      <td>0.157857</td>\n",
       "    </tr>\n",
       "    <tr>\n",
       "      <th>Strategy</th>\n",
       "      <td>3.96</td>\n",
       "      <td>37</td>\n",
       "      <td>0.107027</td>\n",
       "    </tr>\n",
       "    <tr>\n",
       "      <th>Adventure</th>\n",
       "      <td>17.55</td>\n",
       "      <td>185</td>\n",
       "      <td>0.094865</td>\n",
       "    </tr>\n",
       "  </tbody>\n",
       "</table>\n",
       "</div>"
      ],
      "text/plain": [
       "               сумма  количество   медиана\n",
       "genre                                     \n",
       "Shooter       170.94         128  1.335469\n",
       "Sports        109.48         161  0.680000\n",
       "Platform       18.09          38  0.476053\n",
       "Fighting       28.22          60  0.470333\n",
       "Role-Playing  101.44         221  0.459005\n",
       "Racing         27.52          69  0.398841\n",
       "Misc           37.55         113  0.332301\n",
       "Action        199.36         619  0.322068\n",
       "Simulation     13.13          44  0.298409\n",
       "Puzzle          2.21          14  0.157857\n",
       "Strategy        3.96          37  0.107027\n",
       "Adventure      17.55         185  0.094865"
      ]
     },
     "execution_count": 54,
     "metadata": {},
     "output_type": "execute_result"
    }
   ],
   "source": [
    "data_for_current_period_for_genre.sort_values(by = 'медиана', ascending=False)"
   ]
  },
  {
   "cell_type": "markdown",
   "metadata": {},
   "source": [
    "По результатам \"ящика с усами\" в разбивке по жанрам можно сделать вывод, что лучше всего и стабильнее продается Shooter. Его медианное значение почти в два раза превышает следущий жанр Sports. Также неплохие результаты показали жанры Platform, Fighting, Role-Playing.\n",
    "\n",
    "Самое минимальное медианное значение у жанра Adventure. У данного жанра продано много игр, но его продажи являются очень низкими. \n",
    "\n",
    "Жанр Action продает больше всего игр (619), однако его медианное значение находится ниже середины рейтинга медианных значений по жанрам."
   ]
  },
  {
   "cell_type": "markdown",
   "metadata": {},
   "source": [
    "<b>Вывод</b>\n",
    "```\n",
    "1. Было изучено, сколько игр выпускалось в разные годы. Больше всего игр выпускалось в 2008-2009 годах. До 1995 года выпускалось незначительное количество игр. Эти данные были отброшены.\n",
    "2. Было изучено, как менялись продажи по платформам. Были выбраны платформы с наибольшими суммарными продажами и построены распределение по годам. Популярные платформы надохятся в продаже 9-12 лет.\n",
    "3. Взяли данные за соответствующий актуальный период, а именно за последние 3 года.\n",
    "4. За актуальный период лидерами продаж и потенциально прибыльными являются платформы PS4,  XOne, 3DS, PS3. \n",
    "5. Был простроен график «ящик с усами» по глобальным продажам игр в разбивке по платформам.\n",
    "    5.1 Для платформы PS4 большая часть значений лежит в диапазоне до 0.69 миллионов проданных копий. Медиана находится на 0.19 миллионах. Первый кварталь приходится на 0.16 миллионов проданных копий.\n",
    "    5.2 Для платформы XOne большая часть значений лежит в диапазоне до 0.63 миллионов проданных копий. Медиана находится на 0.2 миллионах. Первый кварталь приходится на 0.15 миллионов проданных копий.\n",
    "    5.3 Для платформы PS3 большая часть значений лежит в диапазоне до 0.32 миллионов проданных копий. Медиана находится на 0.11 миллионах. Первый кварталь приходится на 0.14 миллионов проданных копий.\n",
    "    5.4 Для платформы 3DS большая часть значений лежит в диапазоне до 0.26 миллионов проданных копий. Медиана находится на 0.1 миллионах. Первый кварталь приходится на 0.13 миллионов проданных копий.\n",
    "6. Было изучено, как влияют на продажи внутри одной популярной платформы PS4 отзывы пользователей и критиков.\n",
    "По результатам расчитанной корреляции можно сделать вывод, что связь для платформы PS4 между платежами и оценками критиков слабая. Однако, по построенным диаграммам рассеяния видно, что для оценок критиков большие суммы платежей (от 1 миллиона для оценок пользователей) осуществляются только для платформ с высокими оценками (от 60 по 100 балльной шкале для оценок критиков) и наблюдается прямая связь. Между оценками пользователей и платежами для платформы PS4 связи нет.\n",
    "7. Соотнесены выводы с продажами игр на других платформах.\n",
    "    7.1 По результатам расчитанной корреляции можно сделать вывод, что связь для платформы X360 между платежами и оценками критиков прямая слабая. Между оценками пользователей и платежами для платформы X360 связи практически нет.\n",
    "    7.2 По результатам расчитанной корреляции можно сделать вывод, что связь для платформы PS3 между платежами и оценками критиков слабая. Однако, по построенным диаграммам рассеяния видно, что для оценок критиков суммы платежей от 0.2 миллиона наблюдается прямая связь. Между оценками пользователей и платежами для платформы PS3 связи практически нет.\n",
    "    7.3 По результатам расчитанной корреляции можно сделать вывод, что связь для платформы 3DS между платежами и оценками критиков и пользователей слабая. Однако, по построенным диаграммам рассеяния видно, что для больших сумм платежей, чем выше оценки (от 5 по 10 балльной шкале для оценок пользователей, и от 60 по 100 балльной шкале для оценок критиков), тем больше суммы платежей (от 0.7 миллионов для оценок пользователей, 1 для оценок критиков).\n",
    "8. Изучено общее распределение игр по жанрам. \n",
    "По результатам \"ящика с усами\" в разбивке по жанрам можно сделать вывод, что лучше всего и стабильнее продается Shooter. Его медианное значение почти в два раза превышает следущий жанр Sports. Также неплохие результаты показали жанры Platform, Fighting, Role-Playing.\n",
    "Самое минимальное медианное значение у жанра Adventure. У данного жанра продано много игр, но его продажи являются очень низкими.\n",
    "Жанр Action продает больше всего игр (619), однако его медианное значение находится ниже середины рейтинга медианных значений по жанрам.\n",
    "```"
   ]
  },
  {
   "cell_type": "markdown",
   "metadata": {},
   "source": [
    "## Составим портрет пользователя каждого региона"
   ]
  },
  {
   "cell_type": "markdown",
   "metadata": {},
   "source": [
    "4.1 Определим для пользователя каждого региона (NA, EU, JP):\n",
    "Самые популярные платформы (топ-5)."
   ]
  },
  {
   "cell_type": "markdown",
   "metadata": {},
   "source": [
    "Рассмотрим топ-5 продаж платформ в Северной Америке."
   ]
  },
  {
   "cell_type": "code",
   "execution_count": 55,
   "metadata": {
    "scrolled": true
   },
   "outputs": [
    {
     "data": {
      "text/html": [
       "<div>\n",
       "<style scoped>\n",
       "    .dataframe tbody tr th:only-of-type {\n",
       "        vertical-align: middle;\n",
       "    }\n",
       "\n",
       "    .dataframe tbody tr th {\n",
       "        vertical-align: top;\n",
       "    }\n",
       "\n",
       "    .dataframe thead th {\n",
       "        text-align: right;\n",
       "    }\n",
       "</style>\n",
       "<table border=\"1\" class=\"dataframe\">\n",
       "  <thead>\n",
       "    <tr style=\"text-align: right;\">\n",
       "      <th></th>\n",
       "      <th>na_sales</th>\n",
       "    </tr>\n",
       "    <tr>\n",
       "      <th>platform</th>\n",
       "      <th></th>\n",
       "    </tr>\n",
       "  </thead>\n",
       "  <tbody>\n",
       "    <tr>\n",
       "      <th>PS4</th>\n",
       "      <td>98.61</td>\n",
       "    </tr>\n",
       "    <tr>\n",
       "      <th>XOne</th>\n",
       "      <td>81.27</td>\n",
       "    </tr>\n",
       "    <tr>\n",
       "      <th>X360</th>\n",
       "      <td>28.30</td>\n",
       "    </tr>\n",
       "    <tr>\n",
       "      <th>3DS</th>\n",
       "      <td>22.64</td>\n",
       "    </tr>\n",
       "    <tr>\n",
       "      <th>PS3</th>\n",
       "      <td>22.05</td>\n",
       "    </tr>\n",
       "  </tbody>\n",
       "</table>\n",
       "</div>"
      ],
      "text/plain": [
       "          na_sales\n",
       "platform          \n",
       "PS4          98.61\n",
       "XOne         81.27\n",
       "X360         28.30\n",
       "3DS          22.64\n",
       "PS3          22.05"
      ]
     },
     "execution_count": 55,
     "metadata": {},
     "output_type": "execute_result"
    }
   ],
   "source": [
    "data_for_current_period_platform_na_sales = data_for_current_period.pivot_table(index = 'platform', values = 'na_sales',aggfunc = 'sum').sort_values(by='na_sales',ascending = False).head()\n",
    "data_for_current_period_platform_na_sales"
   ]
  },
  {
   "cell_type": "code",
   "execution_count": 56,
   "metadata": {},
   "outputs": [],
   "source": [
    "warnings.filterwarnings(\"ignore\")"
   ]
  },
  {
   "cell_type": "code",
   "execution_count": 57,
   "metadata": {},
   "outputs": [],
   "source": [
    "data_for_current_period['platform_na_sales'] = data_for_current_period['platform'].where(data_for_current_period['platform'].isin(data_for_current_period_platform_na_sales.index), 'Другие')"
   ]
  },
  {
   "cell_type": "code",
   "execution_count": 58,
   "metadata": {},
   "outputs": [
    {
     "data": {
      "image/png": "[encoded data removed]",
      "text/plain": [
       "<Figure size 720x720 with 1 Axes>"
      ]
     },
     "metadata": {},
     "output_type": "display_data"
    }
   ],
   "source": [
    "data_for_current_period.pivot_table(index = 'platform_na_sales', values = 'na_sales',aggfunc = 'sum').plot(y='na_sales',kind='pie',figsize=(10,10));"
   ]
  },
  {
   "cell_type": "markdown",
   "metadata": {},
   "source": [
    "Рассмотрим топ-5 продаж платформ в Европе."
   ]
  },
  {
   "cell_type": "code",
   "execution_count": 59,
   "metadata": {},
   "outputs": [
    {
     "data": {
      "text/html": [
       "<div>\n",
       "<style scoped>\n",
       "    .dataframe tbody tr th:only-of-type {\n",
       "        vertical-align: middle;\n",
       "    }\n",
       "\n",
       "    .dataframe tbody tr th {\n",
       "        vertical-align: top;\n",
       "    }\n",
       "\n",
       "    .dataframe thead th {\n",
       "        text-align: right;\n",
       "    }\n",
       "</style>\n",
       "<table border=\"1\" class=\"dataframe\">\n",
       "  <thead>\n",
       "    <tr style=\"text-align: right;\">\n",
       "      <th></th>\n",
       "      <th>eu_sales</th>\n",
       "    </tr>\n",
       "    <tr>\n",
       "      <th>platform</th>\n",
       "      <th></th>\n",
       "    </tr>\n",
       "  </thead>\n",
       "  <tbody>\n",
       "    <tr>\n",
       "      <th>PS4</th>\n",
       "      <td>130.04</td>\n",
       "    </tr>\n",
       "    <tr>\n",
       "      <th>XOne</th>\n",
       "      <td>46.25</td>\n",
       "    </tr>\n",
       "    <tr>\n",
       "      <th>PS3</th>\n",
       "      <td>25.54</td>\n",
       "    </tr>\n",
       "    <tr>\n",
       "      <th>PC</th>\n",
       "      <td>17.97</td>\n",
       "    </tr>\n",
       "    <tr>\n",
       "      <th>3DS</th>\n",
       "      <td>16.12</td>\n",
       "    </tr>\n",
       "  </tbody>\n",
       "</table>\n",
       "</div>"
      ],
      "text/plain": [
       "          eu_sales\n",
       "platform          \n",
       "PS4         130.04\n",
       "XOne         46.25\n",
       "PS3          25.54\n",
       "PC           17.97\n",
       "3DS          16.12"
      ]
     },
     "execution_count": 59,
     "metadata": {},
     "output_type": "execute_result"
    }
   ],
   "source": [
    "data_for_current_period_platform_eu_sales = data_for_current_period.pivot_table(index = 'platform', values = 'eu_sales',aggfunc = 'sum').sort_values(by='eu_sales',ascending = False).head()\n",
    "data_for_current_period_platform_eu_sales"
   ]
  },
  {
   "cell_type": "code",
   "execution_count": 60,
   "metadata": {},
   "outputs": [],
   "source": [
    "data_for_current_period['platform_eu_sales'] = data_for_current_period['platform'].where(data_for_current_period['platform'].isin(data_for_current_period_platform_eu_sales.index), 'Другие')"
   ]
  },
  {
   "cell_type": "code",
   "execution_count": 61,
   "metadata": {},
   "outputs": [
    {
     "data": {
      "image/png": "[encoded data removed]",
      "text/plain": [
       "<Figure size 720x720 with 1 Axes>"
      ]
     },
     "metadata": {},
     "output_type": "display_data"
    }
   ],
   "source": [
    "data_for_current_period.pivot_table(index = 'platform_eu_sales', values = 'eu_sales',aggfunc = 'sum').plot(y='eu_sales',kind='pie',figsize=(10,10));"
   ]
  },
  {
   "cell_type": "markdown",
   "metadata": {},
   "source": [
    "Рассмотрим топ-5 продаж платформ в Японии."
   ]
  },
  {
   "cell_type": "code",
   "execution_count": 62,
   "metadata": {},
   "outputs": [
    {
     "data": {
      "text/html": [
       "<div>\n",
       "<style scoped>\n",
       "    .dataframe tbody tr th:only-of-type {\n",
       "        vertical-align: middle;\n",
       "    }\n",
       "\n",
       "    .dataframe tbody tr th {\n",
       "        vertical-align: top;\n",
       "    }\n",
       "\n",
       "    .dataframe thead th {\n",
       "        text-align: right;\n",
       "    }\n",
       "</style>\n",
       "<table border=\"1\" class=\"dataframe\">\n",
       "  <thead>\n",
       "    <tr style=\"text-align: right;\">\n",
       "      <th></th>\n",
       "      <th>jp_sales</th>\n",
       "    </tr>\n",
       "    <tr>\n",
       "      <th>platform</th>\n",
       "      <th></th>\n",
       "    </tr>\n",
       "  </thead>\n",
       "  <tbody>\n",
       "    <tr>\n",
       "      <th>3DS</th>\n",
       "      <td>44.24</td>\n",
       "    </tr>\n",
       "    <tr>\n",
       "      <th>PS4</th>\n",
       "      <td>15.02</td>\n",
       "    </tr>\n",
       "    <tr>\n",
       "      <th>PSV</th>\n",
       "      <td>14.54</td>\n",
       "    </tr>\n",
       "    <tr>\n",
       "      <th>PS3</th>\n",
       "      <td>11.22</td>\n",
       "    </tr>\n",
       "    <tr>\n",
       "      <th>WiiU</th>\n",
       "      <td>7.31</td>\n",
       "    </tr>\n",
       "  </tbody>\n",
       "</table>\n",
       "</div>"
      ],
      "text/plain": [
       "          jp_sales\n",
       "platform          \n",
       "3DS          44.24\n",
       "PS4          15.02\n",
       "PSV          14.54\n",
       "PS3          11.22\n",
       "WiiU          7.31"
      ]
     },
     "execution_count": 62,
     "metadata": {},
     "output_type": "execute_result"
    }
   ],
   "source": [
    "data_for_current_period_platform_jp_sales = data_for_current_period.pivot_table(index = 'platform', values = 'jp_sales',aggfunc = 'sum').sort_values(by='jp_sales',ascending = False).head()\n",
    "data_for_current_period_platform_jp_sales"
   ]
  },
  {
   "cell_type": "code",
   "execution_count": 63,
   "metadata": {},
   "outputs": [],
   "source": [
    "data_for_current_period['platform_jp_sales'] = data_for_current_period['platform'].where(data_for_current_period['platform'].isin(data_for_current_period_platform_jp_sales.index), 'Другие')"
   ]
  },
  {
   "cell_type": "code",
   "execution_count": 64,
   "metadata": {},
   "outputs": [
    {
     "data": {
      "image/png": "[encoded data removed]",
      "text/plain": [
       "<Figure size 720x720 with 1 Axes>"
      ]
     },
     "metadata": {},
     "output_type": "display_data"
    }
   ],
   "source": [
    "data_for_current_period.pivot_table(index = 'platform_jp_sales', values = 'jp_sales',aggfunc = 'sum').plot(y='jp_sales',kind='pie',figsize=(10,10));"
   ]
  },
  {
   "cell_type": "markdown",
   "metadata": {},
   "source": [
    "По результатам продаж в каждом из регионе можно сделать следующий вывод: \n",
    "1. Больше всего продаж осуществляется в Европе, меньше всего продаж в Японии;\n",
    "2. Лидером продаж в Северной Америке и Европе является PS4, а в Японии 3DS.\n",
    "3. Платформы PS4,PS3, 3DS находятся в топе продаж во всех трех регионах."
   ]
  },
  {
   "cell_type": "markdown",
   "metadata": {},
   "source": [
    "4.2 Определим для пользователя каждого региона (NA, EU, JP):\n",
    "Самые популярные жанры (топ-5)."
   ]
  },
  {
   "cell_type": "markdown",
   "metadata": {},
   "source": [
    "Рассмотрим топ-5 продаж жанров в Северной Америке."
   ]
  },
  {
   "cell_type": "code",
   "execution_count": 65,
   "metadata": {},
   "outputs": [
    {
     "data": {
      "text/html": [
       "<div>\n",
       "<style scoped>\n",
       "    .dataframe tbody tr th:only-of-type {\n",
       "        vertical-align: middle;\n",
       "    }\n",
       "\n",
       "    .dataframe tbody tr th {\n",
       "        vertical-align: top;\n",
       "    }\n",
       "\n",
       "    .dataframe thead th {\n",
       "        text-align: right;\n",
       "    }\n",
       "</style>\n",
       "<table border=\"1\" class=\"dataframe\">\n",
       "  <thead>\n",
       "    <tr style=\"text-align: right;\">\n",
       "      <th></th>\n",
       "      <th>na_sales</th>\n",
       "    </tr>\n",
       "    <tr>\n",
       "      <th>genre</th>\n",
       "      <th></th>\n",
       "    </tr>\n",
       "  </thead>\n",
       "  <tbody>\n",
       "    <tr>\n",
       "      <th>Shooter</th>\n",
       "      <td>79.02</td>\n",
       "    </tr>\n",
       "    <tr>\n",
       "      <th>Action</th>\n",
       "      <td>72.53</td>\n",
       "    </tr>\n",
       "    <tr>\n",
       "      <th>Sports</th>\n",
       "      <td>46.13</td>\n",
       "    </tr>\n",
       "    <tr>\n",
       "      <th>Role-Playing</th>\n",
       "      <td>33.47</td>\n",
       "    </tr>\n",
       "    <tr>\n",
       "      <th>Misc</th>\n",
       "      <td>15.05</td>\n",
       "    </tr>\n",
       "  </tbody>\n",
       "</table>\n",
       "</div>"
      ],
      "text/plain": [
       "              na_sales\n",
       "genre                 \n",
       "Shooter          79.02\n",
       "Action           72.53\n",
       "Sports           46.13\n",
       "Role-Playing     33.47\n",
       "Misc             15.05"
      ]
     },
     "execution_count": 65,
     "metadata": {},
     "output_type": "execute_result"
    }
   ],
   "source": [
    "data_for_current_period_genre_na_sales = data_for_current_period.pivot_table(index = 'genre', values = 'na_sales',aggfunc = 'sum').sort_values(by='na_sales',ascending = False).head()\n",
    "data_for_current_period_genre_na_sales"
   ]
  },
  {
   "cell_type": "code",
   "execution_count": 66,
   "metadata": {},
   "outputs": [],
   "source": [
    "data_for_current_period['genre_na_sales'] = data_for_current_period['genre'].where(data_for_current_period['genre'].isin(data_for_current_period_genre_na_sales.index), 'Другие')"
   ]
  },
  {
   "cell_type": "code",
   "execution_count": 67,
   "metadata": {},
   "outputs": [
    {
     "data": {
      "image/png": "[encoded data removed]",
      "text/plain": [
       "<Figure size 720x720 with 1 Axes>"
      ]
     },
     "metadata": {},
     "output_type": "display_data"
    }
   ],
   "source": [
    "data_for_current_period.pivot_table(index = 'genre_na_sales', values = 'na_sales',aggfunc = 'sum').plot(y='na_sales',kind='pie',figsize=(10,10));"
   ]
  },
  {
   "cell_type": "markdown",
   "metadata": {},
   "source": [
    "Рассмотрим топ-5 продаж жанров в Европе."
   ]
  },
  {
   "cell_type": "code",
   "execution_count": 68,
   "metadata": {},
   "outputs": [
    {
     "data": {
      "text/html": [
       "<div>\n",
       "<style scoped>\n",
       "    .dataframe tbody tr th:only-of-type {\n",
       "        vertical-align: middle;\n",
       "    }\n",
       "\n",
       "    .dataframe tbody tr th {\n",
       "        vertical-align: top;\n",
       "    }\n",
       "\n",
       "    .dataframe thead th {\n",
       "        text-align: right;\n",
       "    }\n",
       "</style>\n",
       "<table border=\"1\" class=\"dataframe\">\n",
       "  <thead>\n",
       "    <tr style=\"text-align: right;\">\n",
       "      <th></th>\n",
       "      <th>eu_sales</th>\n",
       "    </tr>\n",
       "    <tr>\n",
       "      <th>genre</th>\n",
       "      <th></th>\n",
       "    </tr>\n",
       "  </thead>\n",
       "  <tbody>\n",
       "    <tr>\n",
       "      <th>Action</th>\n",
       "      <td>74.68</td>\n",
       "    </tr>\n",
       "    <tr>\n",
       "      <th>Shooter</th>\n",
       "      <td>65.52</td>\n",
       "    </tr>\n",
       "    <tr>\n",
       "      <th>Sports</th>\n",
       "      <td>45.73</td>\n",
       "    </tr>\n",
       "    <tr>\n",
       "      <th>Role-Playing</th>\n",
       "      <td>28.17</td>\n",
       "    </tr>\n",
       "    <tr>\n",
       "      <th>Racing</th>\n",
       "      <td>14.13</td>\n",
       "    </tr>\n",
       "  </tbody>\n",
       "</table>\n",
       "</div>"
      ],
      "text/plain": [
       "              eu_sales\n",
       "genre                 \n",
       "Action           74.68\n",
       "Shooter          65.52\n",
       "Sports           45.73\n",
       "Role-Playing     28.17\n",
       "Racing           14.13"
      ]
     },
     "execution_count": 68,
     "metadata": {},
     "output_type": "execute_result"
    }
   ],
   "source": [
    "data_for_current_period_genre_eu_sales = data_for_current_period.pivot_table(index = 'genre', values = 'eu_sales',aggfunc = 'sum').sort_values(by='eu_sales',ascending = False).head()\n",
    "data_for_current_period_genre_eu_sales"
   ]
  },
  {
   "cell_type": "code",
   "execution_count": 69,
   "metadata": {},
   "outputs": [],
   "source": [
    "data_for_current_period['genre_eu_sales'] = data_for_current_period['genre'].where(data_for_current_period['genre'].isin(data_for_current_period_genre_eu_sales.index), 'Другие')"
   ]
  },
  {
   "cell_type": "code",
   "execution_count": 70,
   "metadata": {},
   "outputs": [
    {
     "data": {
      "image/png": "[encoded data removed]",
      "text/plain": [
       "<Figure size 720x720 with 1 Axes>"
      ]
     },
     "metadata": {},
     "output_type": "display_data"
    }
   ],
   "source": [
    "data_for_current_period.pivot_table(index = 'genre_eu_sales', values = 'eu_sales',aggfunc = 'sum').plot(y='eu_sales',kind='pie',figsize=(10,10));"
   ]
  },
  {
   "cell_type": "markdown",
   "metadata": {},
   "source": [
    "Рассмотрим топ-5 продаж жанров в Японии."
   ]
  },
  {
   "cell_type": "code",
   "execution_count": 71,
   "metadata": {
    "scrolled": true
   },
   "outputs": [
    {
     "data": {
      "text/html": [
       "<div>\n",
       "<style scoped>\n",
       "    .dataframe tbody tr th:only-of-type {\n",
       "        vertical-align: middle;\n",
       "    }\n",
       "\n",
       "    .dataframe tbody tr th {\n",
       "        vertical-align: top;\n",
       "    }\n",
       "\n",
       "    .dataframe thead th {\n",
       "        text-align: right;\n",
       "    }\n",
       "</style>\n",
       "<table border=\"1\" class=\"dataframe\">\n",
       "  <thead>\n",
       "    <tr style=\"text-align: right;\">\n",
       "      <th></th>\n",
       "      <th>jp_sales</th>\n",
       "    </tr>\n",
       "    <tr>\n",
       "      <th>genre</th>\n",
       "      <th></th>\n",
       "    </tr>\n",
       "  </thead>\n",
       "  <tbody>\n",
       "    <tr>\n",
       "      <th>Role-Playing</th>\n",
       "      <td>31.16</td>\n",
       "    </tr>\n",
       "    <tr>\n",
       "      <th>Action</th>\n",
       "      <td>29.58</td>\n",
       "    </tr>\n",
       "    <tr>\n",
       "      <th>Fighting</th>\n",
       "      <td>6.37</td>\n",
       "    </tr>\n",
       "    <tr>\n",
       "      <th>Misc</th>\n",
       "      <td>5.61</td>\n",
       "    </tr>\n",
       "    <tr>\n",
       "      <th>Shooter</th>\n",
       "      <td>4.87</td>\n",
       "    </tr>\n",
       "  </tbody>\n",
       "</table>\n",
       "</div>"
      ],
      "text/plain": [
       "              jp_sales\n",
       "genre                 \n",
       "Role-Playing     31.16\n",
       "Action           29.58\n",
       "Fighting          6.37\n",
       "Misc              5.61\n",
       "Shooter           4.87"
      ]
     },
     "execution_count": 71,
     "metadata": {},
     "output_type": "execute_result"
    }
   ],
   "source": [
    "data_for_current_period_genre_jp_sales = data_for_current_period.pivot_table(index = 'genre', values = 'jp_sales',aggfunc = 'sum').sort_values(by='jp_sales',ascending = False).head()\n",
    "data_for_current_period_genre_jp_sales"
   ]
  },
  {
   "cell_type": "code",
   "execution_count": 72,
   "metadata": {},
   "outputs": [],
   "source": [
    "data_for_current_period['genre_jp_sales'] = data_for_current_period['genre'].where(data_for_current_period['genre'].isin(data_for_current_period_genre_jp_sales.index), 'Другие')"
   ]
  },
  {
   "cell_type": "code",
   "execution_count": 73,
   "metadata": {},
   "outputs": [
    {
     "data": {
      "image/png": "[encoded data removed]",
      "text/plain": [
       "<Figure size 720x720 with 1 Axes>"
      ]
     },
     "metadata": {},
     "output_type": "display_data"
    }
   ],
   "source": [
    "data_for_current_period.pivot_table(index = 'genre_jp_sales', values = 'jp_sales',aggfunc = 'sum').plot(y='jp_sales',kind='pie',figsize=(10,10));"
   ]
  },
  {
   "cell_type": "markdown",
   "metadata": {},
   "source": [
    "По результатам продаж в каждом из регионе можно сделать следующий вывод:\n",
    "\n",
    "1. Больше всего продаж осуществляется в Северной Америке и Европе, меньше всего продаж в Японии;\n",
    "2. Самые популярные жанры для всех трех регионов являются Action, Shooter, Role-Playing."
   ]
  },
  {
   "cell_type": "markdown",
   "metadata": {},
   "source": [
    "4.3 Определим для пользователя каждого региона (NA, EU, JP):\n",
    "    Влияет ли рейтинг ESRB на продажи в отдельном регионе?"
   ]
  },
  {
   "cell_type": "markdown",
   "metadata": {},
   "source": [
    "Заменим пустые значения в столбце рейтинга на значение 'Без рейтинга'."
   ]
  },
  {
   "cell_type": "code",
   "execution_count": 74,
   "metadata": {},
   "outputs": [],
   "source": [
    "data_for_current_period['rating'] = data_for_current_period['rating'].fillna('Без рейтинга')"
   ]
  },
  {
   "cell_type": "code",
   "execution_count": 75,
   "metadata": {},
   "outputs": [
    {
     "data": {
      "text/html": [
       "<div>\n",
       "<style scoped>\n",
       "    .dataframe tbody tr th:only-of-type {\n",
       "        vertical-align: middle;\n",
       "    }\n",
       "\n",
       "    .dataframe tbody tr th {\n",
       "        vertical-align: top;\n",
       "    }\n",
       "\n",
       "    .dataframe thead th {\n",
       "        text-align: right;\n",
       "    }\n",
       "</style>\n",
       "<table border=\"1\" class=\"dataframe\">\n",
       "  <thead>\n",
       "    <tr style=\"text-align: right;\">\n",
       "      <th></th>\n",
       "      <th>na_sales</th>\n",
       "    </tr>\n",
       "    <tr>\n",
       "      <th>rating</th>\n",
       "      <th></th>\n",
       "    </tr>\n",
       "  </thead>\n",
       "  <tbody>\n",
       "    <tr>\n",
       "      <th>M</th>\n",
       "      <td>96.42</td>\n",
       "    </tr>\n",
       "    <tr>\n",
       "      <th>Без рейтинга</th>\n",
       "      <td>64.72</td>\n",
       "    </tr>\n",
       "    <tr>\n",
       "      <th>E</th>\n",
       "      <td>50.74</td>\n",
       "    </tr>\n",
       "    <tr>\n",
       "      <th>T</th>\n",
       "      <td>38.95</td>\n",
       "    </tr>\n",
       "    <tr>\n",
       "      <th>E10+</th>\n",
       "      <td>33.23</td>\n",
       "    </tr>\n",
       "  </tbody>\n",
       "</table>\n",
       "</div>"
      ],
      "text/plain": [
       "              na_sales\n",
       "rating                \n",
       "M                96.42\n",
       "Без рейтинга     64.72\n",
       "E                50.74\n",
       "T                38.95\n",
       "E10+             33.23"
      ]
     },
     "execution_count": 75,
     "metadata": {},
     "output_type": "execute_result"
    }
   ],
   "source": [
    "data_for_current_period.pivot_table(index = 'rating', values = 'na_sales',aggfunc = 'sum').sort_values(by='na_sales',ascending = False)"
   ]
  },
  {
   "cell_type": "code",
   "execution_count": 76,
   "metadata": {},
   "outputs": [
    {
     "data": {
      "text/html": [
       "<div>\n",
       "<style scoped>\n",
       "    .dataframe tbody tr th:only-of-type {\n",
       "        vertical-align: middle;\n",
       "    }\n",
       "\n",
       "    .dataframe tbody tr th {\n",
       "        vertical-align: top;\n",
       "    }\n",
       "\n",
       "    .dataframe thead th {\n",
       "        text-align: right;\n",
       "    }\n",
       "</style>\n",
       "<table border=\"1\" class=\"dataframe\">\n",
       "  <thead>\n",
       "    <tr style=\"text-align: right;\">\n",
       "      <th></th>\n",
       "      <th>eu_sales</th>\n",
       "    </tr>\n",
       "    <tr>\n",
       "      <th>rating</th>\n",
       "      <th></th>\n",
       "    </tr>\n",
       "  </thead>\n",
       "  <tbody>\n",
       "    <tr>\n",
       "      <th>M</th>\n",
       "      <td>93.44</td>\n",
       "    </tr>\n",
       "    <tr>\n",
       "      <th>Без рейтинга</th>\n",
       "      <td>58.95</td>\n",
       "    </tr>\n",
       "    <tr>\n",
       "      <th>E</th>\n",
       "      <td>58.06</td>\n",
       "    </tr>\n",
       "    <tr>\n",
       "      <th>T</th>\n",
       "      <td>34.07</td>\n",
       "    </tr>\n",
       "    <tr>\n",
       "      <th>E10+</th>\n",
       "      <td>26.16</td>\n",
       "    </tr>\n",
       "  </tbody>\n",
       "</table>\n",
       "</div>"
      ],
      "text/plain": [
       "              eu_sales\n",
       "rating                \n",
       "M                93.44\n",
       "Без рейтинга     58.95\n",
       "E                58.06\n",
       "T                34.07\n",
       "E10+             26.16"
      ]
     },
     "execution_count": 76,
     "metadata": {},
     "output_type": "execute_result"
    }
   ],
   "source": [
    "data_for_current_period.pivot_table(index = 'rating', values = 'eu_sales',aggfunc = 'sum').sort_values(by='eu_sales',ascending = False)"
   ]
  },
  {
   "cell_type": "code",
   "execution_count": 77,
   "metadata": {
    "scrolled": true
   },
   "outputs": [
    {
     "data": {
      "text/html": [
       "<div>\n",
       "<style scoped>\n",
       "    .dataframe tbody tr th:only-of-type {\n",
       "        vertical-align: middle;\n",
       "    }\n",
       "\n",
       "    .dataframe tbody tr th {\n",
       "        vertical-align: top;\n",
       "    }\n",
       "\n",
       "    .dataframe thead th {\n",
       "        text-align: right;\n",
       "    }\n",
       "</style>\n",
       "<table border=\"1\" class=\"dataframe\">\n",
       "  <thead>\n",
       "    <tr style=\"text-align: right;\">\n",
       "      <th></th>\n",
       "      <th>jp_sales</th>\n",
       "    </tr>\n",
       "    <tr>\n",
       "      <th>rating</th>\n",
       "      <th></th>\n",
       "    </tr>\n",
       "  </thead>\n",
       "  <tbody>\n",
       "    <tr>\n",
       "      <th>Без рейтинга</th>\n",
       "      <td>56.90</td>\n",
       "    </tr>\n",
       "    <tr>\n",
       "      <th>T</th>\n",
       "      <td>14.78</td>\n",
       "    </tr>\n",
       "    <tr>\n",
       "      <th>E</th>\n",
       "      <td>8.94</td>\n",
       "    </tr>\n",
       "    <tr>\n",
       "      <th>M</th>\n",
       "      <td>8.01</td>\n",
       "    </tr>\n",
       "    <tr>\n",
       "      <th>E10+</th>\n",
       "      <td>4.46</td>\n",
       "    </tr>\n",
       "  </tbody>\n",
       "</table>\n",
       "</div>"
      ],
      "text/plain": [
       "              jp_sales\n",
       "rating                \n",
       "Без рейтинга     56.90\n",
       "T                14.78\n",
       "E                 8.94\n",
       "M                 8.01\n",
       "E10+              4.46"
      ]
     },
     "execution_count": 77,
     "metadata": {},
     "output_type": "execute_result"
    }
   ],
   "source": [
    "data_for_current_period.pivot_table(index = 'rating', values = 'jp_sales',aggfunc = 'sum').sort_values(by='jp_sales',ascending = False)"
   ]
  },
  {
   "cell_type": "markdown",
   "metadata": {},
   "source": [
    "По результатам продаж можно сделать следующий вывод:\n",
    "1. Игры без рейтинга находятся в топе 2 продаж во всех трех регионах.\n",
    "2. Северной Америке и Европе лидером продаж являются игры с рейтинтом M.\n",
    "3. Игры с рейтингом E10+ продаются хуже всего."
   ]
  },
  {
   "cell_type": "markdown",
   "metadata": {},
   "source": [
    "<b>Вывод:</b>\n",
    "```\n",
    "1. Определено для пользователя каждого региона самые популярные платформы (топ-5).\n",
    "    1.1 Больше всего продаж осуществляется в Европе, меньше всего продаж в Японии;\n",
    "    1.2 Лидером продаж в Северной Америке и Европе является PS4, а в Японии 3DS.\n",
    "    1.3 Платформы PS4,PS3, 3DS находятся в топе продаж во всех трех регионах.\n",
    "2. Определено для пользователя каждого региона самые популярные жанры (топ-5).\n",
    "    2.1 Больше всего продаж осуществляется в Северной Америке и Европе, меньше всего продаж в Японии;\n",
    "    2.2 Самые популярные жанры для всех трех регионов являются Action, Shooter, Role-Playing.\n",
    "3. Определено для пользователя каждого региона как влияет ли рейтинг ESRB на продажи в отдельном регионе.\n",
    "    3.1 Игры без рейтинга находятся в топе 2 продаж во всех трех регионах.\n",
    "    3.2 Северной Америке и Европе лидером продаж являются игры с рейтинтом M.\n",
    "    3.3 Игры с рейтингом E10+ продаются хуже всего.\n",
    "```"
   ]
  },
  {
   "cell_type": "markdown",
   "metadata": {},
   "source": [
    "## Проверьте гипотезы"
   ]
  },
  {
   "cell_type": "markdown",
   "metadata": {},
   "source": [
    "```\n",
    "Нулевая гипотеза формилируется всегда так, чтобы использовать знак равенства.\n",
    "Для проверки гипотез будем использовать scipy.stats.ttest_ind(), так как нам нужно сопоставить средние двух генеральных совокупностей.\n",
    "```"
   ]
  },
  {
   "cell_type": "markdown",
   "metadata": {},
   "source": [
    "5.1 Средние пользовательские рейтинги платформ Xbox One и PC одинаковые;"
   ]
  },
  {
   "cell_type": "markdown",
   "metadata": {},
   "source": [
    "```\n",
    "H_0: Средние пользовательские рейтинги платформ Xbox One и PC одинаковые;\n",
    "H_a: Средние пользовательские рейтинги платформ Xbox One и PC разные.\n",
    "alpha = 0.05\n",
    "```"
   ]
  },
  {
   "cell_type": "code",
   "execution_count": 78,
   "metadata": {},
   "outputs": [
    {
     "name": "stdout",
     "output_type": "stream",
     "text": [
      "0.11601398086668832\n",
      "Не получилось отвергнуть нулевую гипотезу\n"
     ]
    }
   ],
   "source": [
    "results = st.ttest_ind(\n",
    "    data_for_current_period_with_user_score[data_for_current_period_with_user_score['platform'] =='XOne']['user_score'], \n",
    "    data_for_current_period_with_user_score[data_for_current_period_with_user_score['platform'] =='PC']['user_score'],equal_var=False)\n",
    "\n",
    "# alpha - значение уровня значимости\n",
    "alpha = 0.05\n",
    "\n",
    "# вывод значения p-value на экран \n",
    "# условный оператор с выводом строки с ответом\n",
    "print(results.pvalue)\n",
    "\n",
    "if results.pvalue < alpha: # ваш код: сравните получившееся p-значение с заданным уровнем статистической значимости:\n",
    "    print(\"Отвергаем нулевую гипотезу\")\n",
    "else:\n",
    "    print(\"Не получилось отвергнуть нулевую гипотезу\")"
   ]
  },
  {
   "cell_type": "markdown",
   "metadata": {},
   "source": [
    "5.2 Средние пользовательские рейтинги жанров Action (англ. «действие», экшен-игры) и Sports (англ. «спортивные соревнования») разные."
   ]
  },
  {
   "cell_type": "markdown",
   "metadata": {},
   "source": [
    "```\n",
    "H_0: Средние пользовательские рейтинги жанров Action и Sports одинаковые;\n",
    "H_a: Средние пользовательские рейтинги жанров Action и Sports разные.\n",
    "alpha = 0.05\n",
    "```"
   ]
  },
  {
   "cell_type": "code",
   "execution_count": 79,
   "metadata": {},
   "outputs": [
    {
     "name": "stdout",
     "output_type": "stream",
     "text": [
      "1.1825550382644557e-14\n",
      "Отвергаем нулевую гипотезу\n"
     ]
    }
   ],
   "source": [
    "results = st.ttest_ind(\n",
    "    data_for_current_period_with_user_score[data_for_current_period_with_user_score['genre'] =='Action']['user_score'], \n",
    "    data_for_current_period_with_user_score[data_for_current_period_with_user_score['genre'] =='Sports']['user_score'],equal_var=False)\n",
    "\n",
    "# alpha - значение уровня значимости\n",
    "alpha = 0.05\n",
    "\n",
    "# вывод значения p-value на экран \n",
    "# условный оператор с выводом строки с ответом\n",
    "print(results.pvalue)\n",
    "\n",
    "if results.pvalue < alpha: # ваш код: сравните получившееся p-значение с заданным уровнем статистической значимости:\n",
    "    print(\"Отвергаем нулевую гипотезу\")\n",
    "else:\n",
    "    print(\"Не получилось отвергнуть нулевую гипотезу\")"
   ]
  },
  {
   "cell_type": "markdown",
   "metadata": {},
   "source": [
    "<b>Вывод:</b>\n",
    "```\n",
    "Были проведены гипотезы:\n",
    "1. \n",
    "H_0: Средние пользовательские рейтинги платформ Xbox One и PC одинаковые;\n",
    "H_a: Средние пользовательские рейтинги платформ Xbox One и PC разные.\n",
    "alpha = 0.05\n",
    "\n",
    "Не получилось отвергнуть нулевую гипотезу. Соответственно, средние пользовательские рейтинги платформ Xbox One и PC одинаковые.\n",
    "2. \n",
    "H_0: Средние пользовательские рейтинги жанров Action и Sports одинаковые;\n",
    "H_a: Средние пользовательские рейтинги жанров Action и Sports разные.\n",
    "alpha = 0.05\n",
    "\n",
    "Нулевая гипотеза была отвергнута. Соответственно, средние пользовательские рейтинги жанров Action и Sports разные.\n",
    "\n",
    "Нулевая гипотеза формилируется всегда так, чтобы использовать знак равенства.\n",
    "Для проверки гипотез был использован метод scipy.stats.ttest_ind(), так как нам нужно было сопоставить средние двух генеральных совокупностей.\n",
    "```"
   ]
  },
  {
   "cell_type": "markdown",
   "metadata": {},
   "source": [
    "## Общий вывод"
   ]
  },
  {
   "cell_type": "markdown",
   "metadata": {},
   "source": [
    "1. На первом шаге была изучена общая информация.\n",
    "\n",
    "    * Name — название игры\n",
    "    * Platform — платформа\n",
    "    * Year_of_Release — год выпуска\n",
    "    * Genre — жанр игры\n",
    "    * NA_sales — продажи в Северной Америке (миллионы проданных копий)\n",
    "    * EU_sales — продажи в Европе (миллионы проданных копий)\n",
    "    * JP_sales — продажи в Японии (миллионы проданных копий)\n",
    "    * Other_sales — продажи в других странах (миллионы проданных копий)\n",
    "    * Critic_Score — оценка критиков (максимум 100)\n",
    "    * User_Score — оценка пользователей (максимум 10)\n",
    "    * Rating — рейтинг от организации ESRB (англ. Entertainment Software Rating Board). Эта ассоциация определяет рейтинг компьютерных игр и присваивает им подходящую возрастную категорию.\n",
    "        \n",
    "    По полученным данным можно был сделан вывод, что перед проведением исследовательского анализа следует подготовить данные, а именно:\n",
    "    \n",
    "    1) Привести названия столбцов к нижнему регистру;\n",
    "    \n",
    "    2) Проверить данные на дубликаты;\n",
    "    \n",
    "    3) Преобразовать данные в нужные типы;\n",
    "    \n",
    "    4) Обработать пропуски.\n",
    "\n",
    "\n",
    "2. На втором шаге была проведена подготовка данных.\n",
    "\n",
    "     2.1 Приведены названия столбцов к нижнему регистру.\n",
    "     \n",
    "     2.2 Преобразованы данные в нужные типы, а именно столбец year_of_release из типа float в тип int, user_score из типа object в тип float.\n",
    "     \n",
    "     2.3 Обработаны пропуски там, где это необходимо, а имено в удалены строки с пропусками в столбцах name, genre, year_of_release.\n",
    "     \n",
    "     2.4 Проверено на наличие дубликатов. Дубликаты отсутствуют.\n",
    "     \n",
    "     2.5 Посчитаны суммарные продажи во всех регионах и записаны в отдельный столбец total_sales.\n",
    "     \n",
    "     \n",
    "3. На третьем шаге был проведен исследовательский анализ данных.\n",
    "\n",
    "    3.1 Было изучено, сколько игр выпускалось в разные годы. Больше всего игр выпускалось в 2008-2009 годах. До 1995 года выпускалось незначительное количество игр. Эти данные были отброшены.\n",
    "    \n",
    "    3.2 Было изучено, как менялись продажи по платформам. Были выбраны платформы с наибольшими суммарными продажами и построены распределение по годам. Популярные платформы надохятся в продаже 9-12 лет.\n",
    "    \n",
    "    3.2 Взяли данные за соответствующий актуальный период, а именно за последние 3 года.\n",
    "    \n",
    "    3.4 За актуальный период лидерами продаж и потенциально прибыльными являются платформы PS4,  XOne, 3DS, PS3. \n",
    "    \n",
    "    3.5 Был простроен график «ящик с усами» по глобальным продажам игр в разбивке по платформам.\n",
    "    \n",
    "        3.5.1 Для платформы PS4 большая часть значений лежит в диапазоне до 0.69 миллионов проданных копий. Медиана находится на 0.19 миллионах. Первый кварталь приходится на 0.16 миллионов проданных копий.\n",
    "        \n",
    "        3.5.2 Для платформы XOne большая часть значений лежит в диапазоне до 0.63 миллионов проданных копий. Медиана находится на 0.2 миллионах. Первый кварталь приходится на 0.15 миллионов проданных копий.\n",
    "        \n",
    "        3.5.3 Для платформы PS3 большая часть значений лежит в диапазоне до 0.32 миллионов проданных копий. Медиана находится на 0.11 миллионах. Первый кварталь приходится на 0.14 миллионов проданных копий.\n",
    "        \n",
    "        3.5.4 Для платформы 3DS большая часть значений лежит в диапазоне до 0.26 миллионов проданных копий. Медиана находится на 0.1 миллионах. Первый кварталь приходится на 0.13 миллионов проданных копий.\n",
    "        \n",
    "    3.6 Было изучено, как влияют на продажи внутри одной популярной платформы PS4 отзывы пользователей и критиков.\n",
    "    По результатам расчитанной корреляции можно сделать вывод, что связь для платформы PS4 между платежами и оценками критиков слабая. Однако, по построенным диаграммам рассеяния видно, что для оценок критиков большие суммы платежей (от 1 миллиона для оценок пользователей) осуществляются только для платформ с высокими оценками (от 60 по 100 балльной шкале для оценок критиков) и наблюдается прямая связь. Между оценками пользователей и платежами для платформы PS4 связи нет.\n",
    "    \n",
    "    3.7 Соотнесены выводы с продажами игр на других платформах.\n",
    "    \n",
    "        3.7.1 По результатам расчитанной корреляции можно сделать вывод, что связь для платформы X360 между платежами и оценками критиков прямая слабая. Между оценками пользователей и платежами для платформы X360 связи практически нет.\n",
    "        \n",
    "        3.7.2 По результатам расчитанной корреляции можно сделать вывод, что связь для платформы PS3 между платежами и оценками критиков слабая. Однако, по построенным диаграммам рассеяния видно, что для оценок критиков суммы платежей от 0.2 миллиона наблюдается прямая связь. Между оценками пользователей и платежами для платформы PS3 связи практически нет.\n",
    "        \n",
    "        3.7.3 По результатам расчитанной корреляции можно сделать вывод, что связь для платформы 3DS между платежами и оценками критиков и пользователей слабая. Однако, по построенным диаграммам рассеяния видно, что для больших сумм платежей, чем выше оценки (от 5 по 10 балльной шкале для оценок пользователей, и от 60 по 100 балльной шкале для оценок критиков), тем больше суммы платежей (от 0.7 миллионов для оценок пользователей, 1 для оценок критиков).\n",
    "        \n",
    "    3.8 Изучено общее распределение игр по жанрам. \n",
    "    По результатам \"ящика с усами\" в разбивке по жанрам можно сделать вывод, что лучше всего и стабильнее продается Shooter. Его медианное значение почти в два раза превышает следущий жанр Sports. Также неплохие результаты показали жанры Platform, Fighting, Role-Playing.\n",
    "    Самое минимальное медианное значение у жанра Adventure. У данного жанра продано много игр, но его продажи являются очень низкими.\n",
    "    Жанр Action продает больше всего игр (619), однако его медианное значение находится ниже середины рейтинга медианных значений по жанрам.\n",
    "\n",
    "\n",
    "\n",
    "4. На четвертом шаге был составлен портрет пользователя каждого региона.\n",
    "    \n",
    "    4.1 Определено для пользователя каждого региона самые популярные платформы (топ-5).\n",
    "    \n",
    "        4.1.1 Больше всего продаж осуществляется в Европе, меньше всего продаж в Японии.\n",
    "    \n",
    "        4.1.2 Лидером продаж в Северной Америке и Европе является PS4, а в Японии 3DS.\n",
    "    \n",
    "        4.1.3 Платформы PS4, PS3, 3DS находятся в топе продаж во всех трех регионах.\n",
    "        \n",
    "     4.2 Определено для пользователя каждого региона самые популярные жанры (топ-5).\n",
    "     \n",
    "        4.2.1 Больше всего продаж осуществляется в Северной Америке и Европе, меньше всего продаж в Японии.\n",
    "        \n",
    "        4.2.2 Самые популярные жанры для всех трех регионов являются Action, Shooter, Role-Playing.\n",
    "        \n",
    "     4.3 Определено для пользователя каждого региона как влияет ли рейтинг ESRB на продажи в отдельном регионе.\n",
    "     \n",
    "        4.3.1 Игры без рейтинга находятся в топе 2 продаж во всех трех регионах.\n",
    "        \n",
    "        4.3.2 Северной Америке и Европе лидером продаж являются игры с рейтинтом M.\n",
    "        \n",
    "        4.3.3 Игры с рейтингом E10+ продаются хуже всего.\n",
    "        \n",
    "5. Были проведены гипотезы.\n",
    "\n",
    "    5.1 \n",
    "        H_0: Средние пользовательские рейтинги платформ Xbox One и PC одинаковые;\n",
    "        H_a: Средние пользовательские рейтинги платформ Xbox One и PC разные.\n",
    "        alpha = 0.05\n",
    "        \n",
    "        Не получилось отвергнуть нулевую гипотезу. Соответственно, средние пользовательские рейтинги платформ Xbox One и PC одинаковые.\n",
    "    5.2 \n",
    "        H_0: Средние пользовательские рейтинги жанров Action и Sports одинаковые;\n",
    "        H_a: Средние пользовательские рейтинги жанров Action и Sports разные.\n",
    "        alpha = 0.05\n",
    "        \n",
    "        Нулевая гипотеза была отвергнута. Соответственно, средние пользовательские рейтинги жанров Action и Sports разные.\n",
    "\n",
    "        Для проверки гипотез был использован метод scipy.stats.ttest_ind(), так как нам нужно было сопоставить средние двух генеральных совокупностей.\n",
    "    \n",
    "    \n",
    "    По результатам данных на 2016 год за последние 3 года можно сделать вывод, что в 2017 году следует обратить внимание на платформы PS4, PS3, 3DS, XOne, так как они являются потенциально прибыльными, а также на жанры игр Action, Shooter, Role-Playing, так как они являются популярными во всех регионах.\n",
    "    "
   ]
  }
 ],
 "metadata": {
  "ExecuteTimeLog": [
   {
    "duration": 51,
    "start_time": "2022-11-01T17:14:27.391Z"
   },
   {
    "duration": 389,
    "start_time": "2022-11-01T17:14:34.128Z"
   },
   {
    "duration": 94,
    "start_time": "2022-11-01T17:17:39.265Z"
   },
   {
    "duration": 22,
    "start_time": "2022-11-01T17:18:01.855Z"
   },
   {
    "duration": 4,
    "start_time": "2022-11-01T17:42:50.179Z"
   },
   {
    "duration": 15,
    "start_time": "2022-11-01T17:43:00.104Z"
   },
   {
    "duration": 42,
    "start_time": "2022-11-02T07:23:53.428Z"
   },
   {
    "duration": 400,
    "start_time": "2022-11-02T07:24:00.835Z"
   },
   {
    "duration": 197,
    "start_time": "2022-11-02T07:24:01.981Z"
   },
   {
    "duration": 21,
    "start_time": "2022-11-02T07:24:02.348Z"
   },
   {
    "duration": 12,
    "start_time": "2022-11-02T07:24:05.048Z"
   },
   {
    "duration": 4,
    "start_time": "2022-11-02T07:24:07.580Z"
   },
   {
    "duration": 18,
    "start_time": "2022-11-02T07:24:11.956Z"
   },
   {
    "duration": 5,
    "start_time": "2022-11-02T07:24:26.221Z"
   },
   {
    "duration": 6,
    "start_time": "2022-11-02T07:25:07.350Z"
   },
   {
    "duration": 12,
    "start_time": "2022-11-02T07:26:59.019Z"
   },
   {
    "duration": 20,
    "start_time": "2022-11-02T07:27:04.482Z"
   },
   {
    "duration": 12,
    "start_time": "2022-11-02T07:43:44.778Z"
   },
   {
    "duration": 37,
    "start_time": "2022-11-02T07:45:29.858Z"
   },
   {
    "duration": 12,
    "start_time": "2022-11-02T07:46:58.477Z"
   },
   {
    "duration": 6,
    "start_time": "2022-11-02T07:47:11.381Z"
   },
   {
    "duration": 11,
    "start_time": "2022-11-02T07:47:29.271Z"
   },
   {
    "duration": 322,
    "start_time": "2022-11-02T07:49:02.972Z"
   },
   {
    "duration": 49,
    "start_time": "2022-11-02T07:49:03.296Z"
   },
   {
    "duration": 24,
    "start_time": "2022-11-02T07:49:03.346Z"
   },
   {
    "duration": 12,
    "start_time": "2022-11-02T07:49:03.371Z"
   },
   {
    "duration": 19,
    "start_time": "2022-11-02T07:49:03.385Z"
   },
   {
    "duration": 68,
    "start_time": "2022-11-02T07:49:03.405Z"
   },
   {
    "duration": 10,
    "start_time": "2022-11-02T07:52:17.901Z"
   },
   {
    "duration": 23,
    "start_time": "2022-11-02T07:52:25.557Z"
   },
   {
    "duration": 356,
    "start_time": "2022-11-02T07:54:47.838Z"
   },
   {
    "duration": 48,
    "start_time": "2022-11-02T07:54:48.196Z"
   },
   {
    "duration": 21,
    "start_time": "2022-11-02T07:54:48.245Z"
   },
   {
    "duration": 13,
    "start_time": "2022-11-02T07:54:48.268Z"
   },
   {
    "duration": 12,
    "start_time": "2022-11-02T07:54:48.283Z"
   },
   {
    "duration": 86,
    "start_time": "2022-11-02T07:54:48.296Z"
   },
   {
    "duration": 4,
    "start_time": "2022-11-02T07:54:58.038Z"
   },
   {
    "duration": 18,
    "start_time": "2022-11-02T07:55:05.163Z"
   },
   {
    "duration": 6,
    "start_time": "2022-11-02T07:55:11.242Z"
   },
   {
    "duration": 9,
    "start_time": "2022-11-02T07:57:02.133Z"
   },
   {
    "duration": 7,
    "start_time": "2022-11-02T07:57:10.281Z"
   },
   {
    "duration": 369,
    "start_time": "2022-11-02T07:58:16.214Z"
   },
   {
    "duration": 50,
    "start_time": "2022-11-02T07:58:16.585Z"
   },
   {
    "duration": 22,
    "start_time": "2022-11-02T07:58:16.637Z"
   },
   {
    "duration": 13,
    "start_time": "2022-11-02T07:58:16.661Z"
   },
   {
    "duration": 13,
    "start_time": "2022-11-02T07:58:16.676Z"
   },
   {
    "duration": 6,
    "start_time": "2022-11-02T07:58:16.691Z"
   },
   {
    "duration": 20,
    "start_time": "2022-11-02T07:58:48.602Z"
   },
   {
    "duration": 334,
    "start_time": "2022-11-02T07:59:08.657Z"
   },
   {
    "duration": 48,
    "start_time": "2022-11-02T07:59:08.993Z"
   },
   {
    "duration": 22,
    "start_time": "2022-11-02T07:59:09.043Z"
   },
   {
    "duration": 15,
    "start_time": "2022-11-02T07:59:09.067Z"
   },
   {
    "duration": 13,
    "start_time": "2022-11-02T07:59:09.084Z"
   },
   {
    "duration": 88,
    "start_time": "2022-11-02T07:59:09.098Z"
   },
   {
    "duration": 382,
    "start_time": "2022-11-02T07:59:56.917Z"
   },
   {
    "duration": 49,
    "start_time": "2022-11-02T07:59:57.301Z"
   },
   {
    "duration": 21,
    "start_time": "2022-11-02T07:59:57.352Z"
   },
   {
    "duration": 12,
    "start_time": "2022-11-02T07:59:57.374Z"
   },
   {
    "duration": 23,
    "start_time": "2022-11-02T07:59:57.388Z"
   },
   {
    "duration": 34,
    "start_time": "2022-11-02T07:59:57.413Z"
   },
   {
    "duration": 12,
    "start_time": "2022-11-02T08:01:29.292Z"
   },
   {
    "duration": 620,
    "start_time": "2022-11-02T08:13:30.718Z"
   },
   {
    "duration": 7,
    "start_time": "2022-11-02T08:13:49.873Z"
   },
   {
    "duration": 8,
    "start_time": "2022-11-02T08:14:26.191Z"
   },
   {
    "duration": 12,
    "start_time": "2022-11-02T08:14:35.702Z"
   },
   {
    "duration": 379,
    "start_time": "2022-11-02T08:18:21.126Z"
   },
   {
    "duration": 50,
    "start_time": "2022-11-02T08:18:21.506Z"
   },
   {
    "duration": 21,
    "start_time": "2022-11-02T08:18:21.558Z"
   },
   {
    "duration": 12,
    "start_time": "2022-11-02T08:18:21.580Z"
   },
   {
    "duration": 12,
    "start_time": "2022-11-02T08:18:21.594Z"
   },
   {
    "duration": 33,
    "start_time": "2022-11-02T08:18:21.607Z"
   },
   {
    "duration": 3,
    "start_time": "2022-11-02T08:18:21.642Z"
   },
   {
    "duration": 12,
    "start_time": "2022-11-02T08:18:40.019Z"
   },
   {
    "duration": 7,
    "start_time": "2022-11-02T08:19:05.740Z"
   },
   {
    "duration": 11,
    "start_time": "2022-11-02T08:19:07.623Z"
   },
   {
    "duration": 4,
    "start_time": "2022-11-02T08:19:45.915Z"
   },
   {
    "duration": 375,
    "start_time": "2022-11-02T08:19:54.536Z"
   },
   {
    "duration": 51,
    "start_time": "2022-11-02T08:19:54.913Z"
   },
   {
    "duration": 22,
    "start_time": "2022-11-02T08:19:54.966Z"
   },
   {
    "duration": 12,
    "start_time": "2022-11-02T08:19:54.990Z"
   },
   {
    "duration": 12,
    "start_time": "2022-11-02T08:19:55.004Z"
   },
   {
    "duration": 24,
    "start_time": "2022-11-02T08:19:55.018Z"
   },
   {
    "duration": 5,
    "start_time": "2022-11-02T08:19:55.044Z"
   },
   {
    "duration": 9,
    "start_time": "2022-11-02T08:19:55.051Z"
   },
   {
    "duration": 16,
    "start_time": "2022-11-02T08:19:55.062Z"
   },
   {
    "duration": 25,
    "start_time": "2022-11-02T08:20:55.103Z"
   },
   {
    "duration": 352,
    "start_time": "2022-11-02T08:21:02.656Z"
   },
   {
    "duration": 50,
    "start_time": "2022-11-02T08:21:03.009Z"
   },
   {
    "duration": 22,
    "start_time": "2022-11-02T08:21:03.060Z"
   },
   {
    "duration": 18,
    "start_time": "2022-11-02T08:21:03.083Z"
   },
   {
    "duration": 18,
    "start_time": "2022-11-02T08:21:03.103Z"
   },
   {
    "duration": 23,
    "start_time": "2022-11-02T08:21:03.123Z"
   },
   {
    "duration": 4,
    "start_time": "2022-11-02T08:21:03.147Z"
   },
   {
    "duration": 7,
    "start_time": "2022-11-02T08:21:03.153Z"
   },
   {
    "duration": 13,
    "start_time": "2022-11-02T08:21:03.162Z"
   },
   {
    "duration": 378,
    "start_time": "2022-11-02T08:21:13.123Z"
   },
   {
    "duration": 48,
    "start_time": "2022-11-02T08:21:13.503Z"
   },
   {
    "duration": 19,
    "start_time": "2022-11-02T08:21:13.553Z"
   },
   {
    "duration": 12,
    "start_time": "2022-11-02T08:21:13.574Z"
   },
   {
    "duration": 12,
    "start_time": "2022-11-02T08:21:13.587Z"
   },
   {
    "duration": 42,
    "start_time": "2022-11-02T08:21:13.600Z"
   },
   {
    "duration": 4,
    "start_time": "2022-11-02T08:21:13.644Z"
   },
   {
    "duration": 11,
    "start_time": "2022-11-02T08:21:13.650Z"
   },
   {
    "duration": 14,
    "start_time": "2022-11-02T08:21:13.663Z"
   },
   {
    "duration": 23,
    "start_time": "2022-11-02T08:21:29.686Z"
   },
   {
    "duration": 70,
    "start_time": "2022-11-02T08:26:10.292Z"
   },
   {
    "duration": 21,
    "start_time": "2022-11-02T08:30:38.799Z"
   },
   {
    "duration": 6,
    "start_time": "2022-11-02T09:49:23.426Z"
   },
   {
    "duration": 10,
    "start_time": "2022-11-02T09:51:16.785Z"
   },
   {
    "duration": 5,
    "start_time": "2022-11-02T09:51:18.397Z"
   },
   {
    "duration": 22,
    "start_time": "2022-11-02T09:51:23.372Z"
   },
   {
    "duration": 1359,
    "start_time": "2022-11-02T09:53:53.036Z"
   },
   {
    "duration": 88,
    "start_time": "2022-11-02T09:56:15.981Z"
   },
   {
    "duration": 5,
    "start_time": "2022-11-02T09:57:43.603Z"
   },
   {
    "duration": 120,
    "start_time": "2022-11-02T10:00:32.363Z"
   },
   {
    "duration": 124,
    "start_time": "2022-11-02T10:11:51.553Z"
   },
   {
    "duration": 22,
    "start_time": "2022-11-02T10:12:04.199Z"
   },
   {
    "duration": 64,
    "start_time": "2022-11-02T10:16:54.352Z"
   },
   {
    "duration": 8,
    "start_time": "2022-11-02T10:17:01.113Z"
   },
   {
    "duration": 7,
    "start_time": "2022-11-02T10:17:09.666Z"
   },
   {
    "duration": 15,
    "start_time": "2022-11-02T10:17:51.090Z"
   },
   {
    "duration": 14,
    "start_time": "2022-11-02T10:18:22.260Z"
   },
   {
    "duration": 19,
    "start_time": "2022-11-02T10:18:36.748Z"
   },
   {
    "duration": 14,
    "start_time": "2022-11-02T10:18:44.941Z"
   },
   {
    "duration": 15,
    "start_time": "2022-11-02T10:18:58.477Z"
   },
   {
    "duration": 119,
    "start_time": "2022-11-02T10:25:42.125Z"
   },
   {
    "duration": 138,
    "start_time": "2022-11-02T10:25:59.525Z"
   },
   {
    "duration": 162,
    "start_time": "2022-11-02T10:26:04.325Z"
   },
   {
    "duration": 234,
    "start_time": "2022-11-02T10:26:31.629Z"
   },
   {
    "duration": 375,
    "start_time": "2022-11-02T10:27:47.234Z"
   },
   {
    "duration": 47,
    "start_time": "2022-11-02T10:27:47.611Z"
   },
   {
    "duration": 28,
    "start_time": "2022-11-02T10:27:47.660Z"
   },
   {
    "duration": 14,
    "start_time": "2022-11-02T10:27:47.690Z"
   },
   {
    "duration": 26,
    "start_time": "2022-11-02T10:27:47.706Z"
   },
   {
    "duration": 26,
    "start_time": "2022-11-02T10:27:47.734Z"
   },
   {
    "duration": 4,
    "start_time": "2022-11-02T10:27:47.762Z"
   },
   {
    "duration": 18,
    "start_time": "2022-11-02T10:27:47.768Z"
   },
   {
    "duration": 16,
    "start_time": "2022-11-02T10:27:47.788Z"
   },
   {
    "duration": 23,
    "start_time": "2022-11-02T10:27:47.806Z"
   },
   {
    "duration": 14,
    "start_time": "2022-11-02T10:27:47.830Z"
   },
   {
    "duration": 37,
    "start_time": "2022-11-02T10:27:47.845Z"
   },
   {
    "duration": 448,
    "start_time": "2022-11-02T10:27:47.884Z"
   },
   {
    "duration": 27,
    "start_time": "2022-11-02T10:27:48.333Z"
   },
   {
    "duration": 15,
    "start_time": "2022-11-02T10:27:48.361Z"
   },
   {
    "duration": 134,
    "start_time": "2022-11-02T10:27:48.377Z"
   },
   {
    "duration": 327,
    "start_time": "2022-11-02T10:28:19.279Z"
   },
   {
    "duration": 48,
    "start_time": "2022-11-02T10:28:19.608Z"
   },
   {
    "duration": 28,
    "start_time": "2022-11-02T10:28:19.657Z"
   },
   {
    "duration": 13,
    "start_time": "2022-11-02T10:28:19.687Z"
   },
   {
    "duration": 19,
    "start_time": "2022-11-02T10:28:19.702Z"
   },
   {
    "duration": 22,
    "start_time": "2022-11-02T10:28:19.723Z"
   },
   {
    "duration": 4,
    "start_time": "2022-11-02T10:28:19.746Z"
   },
   {
    "duration": 11,
    "start_time": "2022-11-02T10:28:19.752Z"
   },
   {
    "duration": 15,
    "start_time": "2022-11-02T10:28:19.764Z"
   },
   {
    "duration": 10,
    "start_time": "2022-11-02T10:28:19.781Z"
   },
   {
    "duration": 31,
    "start_time": "2022-11-02T10:28:19.793Z"
   },
   {
    "duration": 26,
    "start_time": "2022-11-02T10:28:19.826Z"
   },
   {
    "duration": 461,
    "start_time": "2022-11-02T10:28:19.854Z"
   },
   {
    "duration": 26,
    "start_time": "2022-11-02T10:28:20.316Z"
   },
   {
    "duration": 15,
    "start_time": "2022-11-02T10:28:20.344Z"
   },
   {
    "duration": 133,
    "start_time": "2022-11-02T10:28:20.360Z"
   },
   {
    "duration": 362,
    "start_time": "2022-11-02T10:29:11.551Z"
   },
   {
    "duration": 48,
    "start_time": "2022-11-02T10:29:11.915Z"
   },
   {
    "duration": 29,
    "start_time": "2022-11-02T10:29:11.964Z"
   },
   {
    "duration": 12,
    "start_time": "2022-11-02T10:29:11.995Z"
   },
   {
    "duration": 16,
    "start_time": "2022-11-02T10:29:12.009Z"
   },
   {
    "duration": 22,
    "start_time": "2022-11-02T10:29:12.027Z"
   },
   {
    "duration": 5,
    "start_time": "2022-11-02T10:29:12.051Z"
   },
   {
    "duration": 13,
    "start_time": "2022-11-02T10:29:12.057Z"
   },
   {
    "duration": 15,
    "start_time": "2022-11-02T10:29:12.071Z"
   },
   {
    "duration": 36,
    "start_time": "2022-11-02T10:29:12.088Z"
   },
   {
    "duration": 5,
    "start_time": "2022-11-02T10:29:12.125Z"
   },
   {
    "duration": 25,
    "start_time": "2022-11-02T10:29:12.131Z"
   },
   {
    "duration": 475,
    "start_time": "2022-11-02T10:29:12.157Z"
   },
   {
    "duration": 26,
    "start_time": "2022-11-02T10:29:12.633Z"
   },
   {
    "duration": 14,
    "start_time": "2022-11-02T10:29:12.660Z"
   },
   {
    "duration": 138,
    "start_time": "2022-11-02T10:29:12.676Z"
   },
   {
    "duration": 247,
    "start_time": "2022-11-02T10:29:38.434Z"
   },
   {
    "duration": 271,
    "start_time": "2022-11-02T10:29:57.935Z"
   },
   {
    "duration": 224,
    "start_time": "2022-11-02T10:30:57.435Z"
   },
   {
    "duration": 206,
    "start_time": "2022-11-02T10:30:58.748Z"
   },
   {
    "duration": 204,
    "start_time": "2022-11-02T10:30:58.997Z"
   },
   {
    "duration": 251,
    "start_time": "2022-11-02T10:30:59.203Z"
   },
   {
    "duration": 151,
    "start_time": "2022-11-02T10:31:26.548Z"
   },
   {
    "duration": 306,
    "start_time": "2022-11-02T10:32:11.282Z"
   },
   {
    "duration": 229,
    "start_time": "2022-11-02T10:32:32.123Z"
   },
   {
    "duration": 396,
    "start_time": "2022-11-02T10:33:07.298Z"
   },
   {
    "duration": 49,
    "start_time": "2022-11-02T10:33:07.696Z"
   },
   {
    "duration": 29,
    "start_time": "2022-11-02T10:33:07.746Z"
   },
   {
    "duration": 15,
    "start_time": "2022-11-02T10:33:07.777Z"
   },
   {
    "duration": 29,
    "start_time": "2022-11-02T10:33:07.793Z"
   },
   {
    "duration": 26,
    "start_time": "2022-11-02T10:33:07.824Z"
   },
   {
    "duration": 4,
    "start_time": "2022-11-02T10:33:07.852Z"
   },
   {
    "duration": 13,
    "start_time": "2022-11-02T10:33:07.858Z"
   },
   {
    "duration": 20,
    "start_time": "2022-11-02T10:33:07.872Z"
   },
   {
    "duration": 33,
    "start_time": "2022-11-02T10:33:07.895Z"
   },
   {
    "duration": 5,
    "start_time": "2022-11-02T10:33:07.930Z"
   },
   {
    "duration": 20,
    "start_time": "2022-11-02T10:33:07.937Z"
   },
   {
    "duration": 470,
    "start_time": "2022-11-02T10:33:07.959Z"
   },
   {
    "duration": 25,
    "start_time": "2022-11-02T10:33:08.431Z"
   },
   {
    "duration": 16,
    "start_time": "2022-11-02T10:33:08.458Z"
   },
   {
    "duration": 247,
    "start_time": "2022-11-02T10:33:08.475Z"
   },
   {
    "duration": 290,
    "start_time": "2022-11-02T10:33:08.723Z"
   },
   {
    "duration": 232,
    "start_time": "2022-11-02T10:33:09.014Z"
   },
   {
    "duration": 260,
    "start_time": "2022-11-02T10:33:09.248Z"
   },
   {
    "duration": 240,
    "start_time": "2022-11-02T10:33:09.510Z"
   },
   {
    "duration": 235,
    "start_time": "2022-11-02T10:33:09.751Z"
   },
   {
    "duration": 24,
    "start_time": "2022-11-02T10:43:49.824Z"
   },
   {
    "duration": 23,
    "start_time": "2022-11-02T10:44:29.238Z"
   },
   {
    "duration": 8,
    "start_time": "2022-11-02T10:45:56.504Z"
   },
   {
    "duration": 14,
    "start_time": "2022-11-02T10:46:44.339Z"
   },
   {
    "duration": 410,
    "start_time": "2022-11-03T08:27:31.463Z"
   },
   {
    "duration": 232,
    "start_time": "2022-11-03T08:27:31.875Z"
   },
   {
    "duration": 39,
    "start_time": "2022-11-03T08:27:32.110Z"
   },
   {
    "duration": 18,
    "start_time": "2022-11-03T08:27:32.150Z"
   },
   {
    "duration": 34,
    "start_time": "2022-11-03T08:27:32.170Z"
   },
   {
    "duration": 39,
    "start_time": "2022-11-03T08:27:32.206Z"
   },
   {
    "duration": 6,
    "start_time": "2022-11-03T08:27:32.247Z"
   },
   {
    "duration": 14,
    "start_time": "2022-11-03T08:27:32.254Z"
   },
   {
    "duration": 14,
    "start_time": "2022-11-03T08:27:32.270Z"
   },
   {
    "duration": 10,
    "start_time": "2022-11-03T08:27:32.286Z"
   },
   {
    "duration": 5,
    "start_time": "2022-11-03T08:27:32.297Z"
   },
   {
    "duration": 23,
    "start_time": "2022-11-03T08:27:32.332Z"
   },
   {
    "duration": 755,
    "start_time": "2022-11-03T08:27:32.356Z"
   },
   {
    "duration": 37,
    "start_time": "2022-11-03T08:27:33.115Z"
   },
   {
    "duration": 17,
    "start_time": "2022-11-03T08:27:33.154Z"
   },
   {
    "duration": 272,
    "start_time": "2022-11-03T08:27:33.173Z"
   },
   {
    "duration": 355,
    "start_time": "2022-11-03T08:27:33.446Z"
   },
   {
    "duration": 270,
    "start_time": "2022-11-03T08:27:33.803Z"
   },
   {
    "duration": 261,
    "start_time": "2022-11-03T08:27:34.075Z"
   },
   {
    "duration": 274,
    "start_time": "2022-11-03T08:27:34.338Z"
   },
   {
    "duration": 293,
    "start_time": "2022-11-03T08:27:34.614Z"
   },
   {
    "duration": 8,
    "start_time": "2022-11-03T08:27:34.909Z"
   },
   {
    "duration": 21,
    "start_time": "2022-11-03T08:27:34.919Z"
   },
   {
    "duration": 3,
    "start_time": "2022-11-03T08:27:34.941Z"
   },
   {
    "duration": 16,
    "start_time": "2022-11-03T08:28:20.253Z"
   },
   {
    "duration": 362,
    "start_time": "2022-11-03T08:30:50.483Z"
   },
   {
    "duration": 283,
    "start_time": "2022-11-03T08:31:04.290Z"
   },
   {
    "duration": 355,
    "start_time": "2022-11-03T08:31:17.739Z"
   },
   {
    "duration": 269,
    "start_time": "2022-11-03T08:31:33.666Z"
   },
   {
    "duration": 333,
    "start_time": "2022-11-03T08:31:42.172Z"
   },
   {
    "duration": 290,
    "start_time": "2022-11-03T08:32:22.016Z"
   },
   {
    "duration": 412,
    "start_time": "2022-11-03T08:32:29.610Z"
   },
   {
    "duration": 287,
    "start_time": "2022-11-03T08:32:47.171Z"
   },
   {
    "duration": 291,
    "start_time": "2022-11-03T08:33:03.747Z"
   },
   {
    "duration": 345,
    "start_time": "2022-11-03T08:33:16.931Z"
   },
   {
    "duration": 278,
    "start_time": "2022-11-03T08:33:49.949Z"
   },
   {
    "duration": 72,
    "start_time": "2022-11-03T08:39:23.326Z"
   },
   {
    "duration": 75,
    "start_time": "2022-11-03T08:39:50.229Z"
   },
   {
    "duration": 88,
    "start_time": "2022-11-03T08:42:22.878Z"
   },
   {
    "duration": 88,
    "start_time": "2022-11-03T09:05:19.580Z"
   },
   {
    "duration": 494,
    "start_time": "2022-11-03T09:05:37.701Z"
   },
   {
    "duration": 15,
    "start_time": "2022-11-03T09:06:28.924Z"
   },
   {
    "duration": 253,
    "start_time": "2022-11-03T09:07:06.941Z"
   },
   {
    "duration": 252,
    "start_time": "2022-11-03T09:08:44.416Z"
   },
   {
    "duration": 11,
    "start_time": "2022-11-03T09:09:11.923Z"
   },
   {
    "duration": 254,
    "start_time": "2022-11-03T09:09:26.389Z"
   },
   {
    "duration": 281,
    "start_time": "2022-11-03T09:09:50.591Z"
   },
   {
    "duration": 313,
    "start_time": "2022-11-03T09:09:57.622Z"
   },
   {
    "duration": 77,
    "start_time": "2022-11-03T09:10:09.511Z"
   },
   {
    "duration": 291,
    "start_time": "2022-11-03T09:10:15.232Z"
   },
   {
    "duration": 250,
    "start_time": "2022-11-03T09:11:26.664Z"
   },
   {
    "duration": 247,
    "start_time": "2022-11-03T09:11:37.005Z"
   },
   {
    "duration": 266,
    "start_time": "2022-11-03T09:11:42.372Z"
   },
   {
    "duration": 256,
    "start_time": "2022-11-03T09:11:48.294Z"
   },
   {
    "duration": 402,
    "start_time": "2022-11-03T09:11:55.488Z"
   },
   {
    "duration": 232,
    "start_time": "2022-11-03T09:12:00.500Z"
   },
   {
    "duration": 238,
    "start_time": "2022-11-03T09:12:16.979Z"
   },
   {
    "duration": 246,
    "start_time": "2022-11-03T09:12:26.792Z"
   },
   {
    "duration": 219,
    "start_time": "2022-11-03T09:12:35.941Z"
   },
   {
    "duration": 250,
    "start_time": "2022-11-03T09:12:49.725Z"
   },
   {
    "duration": 262,
    "start_time": "2022-11-03T09:13:09.629Z"
   },
   {
    "duration": 126,
    "start_time": "2022-11-03T09:49:47.788Z"
   },
   {
    "duration": 113,
    "start_time": "2022-11-03T09:50:02.470Z"
   },
   {
    "duration": 125,
    "start_time": "2022-11-03T09:50:23.036Z"
   },
   {
    "duration": 149,
    "start_time": "2022-11-03T09:50:28.849Z"
   },
   {
    "duration": 123,
    "start_time": "2022-11-03T09:52:07.617Z"
   },
   {
    "duration": 129,
    "start_time": "2022-11-03T09:52:21.537Z"
   },
   {
    "duration": 134,
    "start_time": "2022-11-03T09:53:25.644Z"
   },
   {
    "duration": 140,
    "start_time": "2022-11-03T09:53:30.526Z"
   },
   {
    "duration": 318,
    "start_time": "2022-11-03T09:53:34.084Z"
   },
   {
    "duration": 119,
    "start_time": "2022-11-03T09:53:46.180Z"
   },
   {
    "duration": 119,
    "start_time": "2022-11-03T09:54:28.669Z"
   },
   {
    "duration": 116,
    "start_time": "2022-11-03T09:54:29.682Z"
   },
   {
    "duration": 125,
    "start_time": "2022-11-03T09:58:11.444Z"
   },
   {
    "duration": 244,
    "start_time": "2022-11-03T10:08:56.027Z"
   },
   {
    "duration": 180,
    "start_time": "2022-11-03T10:09:05.091Z"
   },
   {
    "duration": 170,
    "start_time": "2022-11-03T10:09:17.740Z"
   },
   {
    "duration": 142,
    "start_time": "2022-11-03T10:09:20.731Z"
   },
   {
    "duration": 143,
    "start_time": "2022-11-03T10:09:23.942Z"
   },
   {
    "duration": 151,
    "start_time": "2022-11-03T10:09:28.158Z"
   },
   {
    "duration": 188,
    "start_time": "2022-11-03T12:11:00.959Z"
   },
   {
    "duration": 140,
    "start_time": "2022-11-03T12:11:10.606Z"
   },
   {
    "duration": 143,
    "start_time": "2022-11-03T12:11:29.221Z"
   },
   {
    "duration": 161,
    "start_time": "2022-11-03T12:11:38.773Z"
   },
   {
    "duration": 167,
    "start_time": "2022-11-03T12:11:55.853Z"
   },
   {
    "duration": 150,
    "start_time": "2022-11-03T12:12:04.397Z"
   },
   {
    "duration": 165,
    "start_time": "2022-11-03T12:12:17.234Z"
   },
   {
    "duration": 161,
    "start_time": "2022-11-03T12:13:46.167Z"
   },
   {
    "duration": 267,
    "start_time": "2022-11-03T12:13:55.451Z"
   },
   {
    "duration": 216,
    "start_time": "2022-11-03T12:14:04.310Z"
   },
   {
    "duration": 20,
    "start_time": "2022-11-03T12:14:56.499Z"
   },
   {
    "duration": 13,
    "start_time": "2022-11-03T12:24:16.477Z"
   },
   {
    "duration": 12,
    "start_time": "2022-11-03T12:24:30.117Z"
   },
   {
    "duration": 14,
    "start_time": "2022-11-03T12:24:55.989Z"
   },
   {
    "duration": 15,
    "start_time": "2022-11-03T12:25:03.862Z"
   },
   {
    "duration": 12,
    "start_time": "2022-11-03T12:25:23.112Z"
   },
   {
    "duration": 15,
    "start_time": "2022-11-03T12:25:26.166Z"
   },
   {
    "duration": 11,
    "start_time": "2022-11-03T12:25:38.693Z"
   },
   {
    "duration": 12,
    "start_time": "2022-11-03T12:25:46.488Z"
   },
   {
    "duration": 11,
    "start_time": "2022-11-03T12:25:48.366Z"
   },
   {
    "duration": 11,
    "start_time": "2022-11-03T12:25:59.007Z"
   },
   {
    "duration": 11,
    "start_time": "2022-11-03T12:26:03.016Z"
   },
   {
    "duration": 10,
    "start_time": "2022-11-03T12:26:04.461Z"
   },
   {
    "duration": 12,
    "start_time": "2022-11-03T12:26:21.648Z"
   },
   {
    "duration": 11,
    "start_time": "2022-11-03T12:26:23.783Z"
   },
   {
    "duration": 11,
    "start_time": "2022-11-03T12:26:34.052Z"
   },
   {
    "duration": 11,
    "start_time": "2022-11-03T12:26:35.868Z"
   },
   {
    "duration": 366,
    "start_time": "2022-11-03T12:27:27.851Z"
   },
   {
    "duration": 166,
    "start_time": "2022-11-03T12:27:48.839Z"
   },
   {
    "duration": 413,
    "start_time": "2022-11-03T13:04:52.962Z"
   },
   {
    "duration": 55,
    "start_time": "2022-11-03T13:04:53.377Z"
   },
   {
    "duration": 34,
    "start_time": "2022-11-03T13:04:53.434Z"
   },
   {
    "duration": 15,
    "start_time": "2022-11-03T13:04:53.470Z"
   },
   {
    "duration": 16,
    "start_time": "2022-11-03T13:04:53.487Z"
   },
   {
    "duration": 53,
    "start_time": "2022-11-03T13:04:53.505Z"
   },
   {
    "duration": 6,
    "start_time": "2022-11-03T13:04:53.560Z"
   },
   {
    "duration": 16,
    "start_time": "2022-11-03T13:04:53.569Z"
   },
   {
    "duration": 18,
    "start_time": "2022-11-03T13:04:53.588Z"
   },
   {
    "duration": 13,
    "start_time": "2022-11-03T13:04:53.636Z"
   },
   {
    "duration": 26,
    "start_time": "2022-11-03T13:04:53.651Z"
   },
   {
    "duration": 6,
    "start_time": "2022-11-03T13:04:53.679Z"
   },
   {
    "duration": 513,
    "start_time": "2022-11-03T13:04:53.687Z"
   },
   {
    "duration": 288,
    "start_time": "2022-11-03T13:04:54.202Z"
   },
   {
    "duration": 41,
    "start_time": "2022-11-03T13:04:54.492Z"
   },
   {
    "duration": 18,
    "start_time": "2022-11-03T13:04:54.535Z"
   },
   {
    "duration": 332,
    "start_time": "2022-11-03T13:04:54.555Z"
   },
   {
    "duration": 272,
    "start_time": "2022-11-03T13:04:54.889Z"
   },
   {
    "duration": 260,
    "start_time": "2022-11-03T13:04:55.162Z"
   },
   {
    "duration": 256,
    "start_time": "2022-11-03T13:04:55.425Z"
   },
   {
    "duration": 272,
    "start_time": "2022-11-03T13:04:55.684Z"
   },
   {
    "duration": 259,
    "start_time": "2022-11-03T13:04:55.958Z"
   },
   {
    "duration": 12,
    "start_time": "2022-11-03T13:04:56.220Z"
   },
   {
    "duration": 19,
    "start_time": "2022-11-03T13:04:56.234Z"
   },
   {
    "duration": 358,
    "start_time": "2022-11-03T13:04:56.254Z"
   },
   {
    "duration": 284,
    "start_time": "2022-11-03T13:04:56.614Z"
   },
   {
    "duration": 272,
    "start_time": "2022-11-03T13:04:56.901Z"
   },
   {
    "duration": 262,
    "start_time": "2022-11-03T13:04:57.178Z"
   },
   {
    "duration": 262,
    "start_time": "2022-11-03T13:04:57.442Z"
   },
   {
    "duration": 469,
    "start_time": "2022-11-03T13:04:57.706Z"
   },
   {
    "duration": 261,
    "start_time": "2022-11-03T13:04:58.178Z"
   },
   {
    "duration": 277,
    "start_time": "2022-11-03T13:04:58.441Z"
   },
   {
    "duration": 282,
    "start_time": "2022-11-03T13:04:58.719Z"
   },
   {
    "duration": 249,
    "start_time": "2022-11-03T13:04:59.003Z"
   },
   {
    "duration": 136,
    "start_time": "2022-11-03T13:04:59.254Z"
   },
   {
    "duration": 152,
    "start_time": "2022-11-03T13:04:59.393Z"
   },
   {
    "duration": 149,
    "start_time": "2022-11-03T13:04:59.546Z"
   },
   {
    "duration": 303,
    "start_time": "2022-11-03T13:04:59.696Z"
   },
   {
    "duration": 186,
    "start_time": "2022-11-03T13:05:00.002Z"
   },
   {
    "duration": 13,
    "start_time": "2022-11-03T13:05:00.190Z"
   },
   {
    "duration": 181,
    "start_time": "2022-11-03T13:05:00.205Z"
   },
   {
    "duration": 13,
    "start_time": "2022-11-03T13:05:00.388Z"
   },
   {
    "duration": 213,
    "start_time": "2022-11-03T13:05:00.403Z"
   },
   {
    "duration": 19,
    "start_time": "2022-11-03T13:05:00.618Z"
   },
   {
    "duration": 187,
    "start_time": "2022-11-03T13:05:00.639Z"
   },
   {
    "duration": 12,
    "start_time": "2022-11-03T13:05:00.831Z"
   },
   {
    "duration": 91,
    "start_time": "2022-11-03T13:05:00.845Z"
   },
   {
    "duration": 0,
    "start_time": "2022-11-03T13:05:00.939Z"
   },
   {
    "duration": 0,
    "start_time": "2022-11-03T13:05:00.940Z"
   },
   {
    "duration": 0,
    "start_time": "2022-11-03T13:05:00.942Z"
   },
   {
    "duration": 0,
    "start_time": "2022-11-03T13:05:00.943Z"
   },
   {
    "duration": 0,
    "start_time": "2022-11-03T13:05:00.944Z"
   },
   {
    "duration": 0,
    "start_time": "2022-11-03T13:05:00.945Z"
   },
   {
    "duration": 0,
    "start_time": "2022-11-03T13:05:00.947Z"
   },
   {
    "duration": 0,
    "start_time": "2022-11-03T13:05:00.948Z"
   },
   {
    "duration": 0,
    "start_time": "2022-11-03T13:05:00.949Z"
   },
   {
    "duration": 156,
    "start_time": "2022-11-03T13:05:13.558Z"
   },
   {
    "duration": 11,
    "start_time": "2022-11-03T13:05:13.727Z"
   },
   {
    "duration": 151,
    "start_time": "2022-11-03T13:05:14.063Z"
   },
   {
    "duration": 10,
    "start_time": "2022-11-03T13:05:14.240Z"
   },
   {
    "duration": 73,
    "start_time": "2022-11-03T13:05:14.425Z"
   },
   {
    "duration": 173,
    "start_time": "2022-11-03T13:05:14.607Z"
   },
   {
    "duration": 11,
    "start_time": "2022-11-03T13:05:14.790Z"
   },
   {
    "duration": 139,
    "start_time": "2022-11-03T13:05:15.158Z"
   },
   {
    "duration": 13,
    "start_time": "2022-11-03T13:05:15.385Z"
   },
   {
    "duration": 15,
    "start_time": "2022-11-03T13:35:11.034Z"
   },
   {
    "duration": 76,
    "start_time": "2022-11-03T13:35:54.142Z"
   },
   {
    "duration": 10,
    "start_time": "2022-11-03T13:36:12.432Z"
   },
   {
    "duration": 159,
    "start_time": "2022-11-03T13:36:12.938Z"
   },
   {
    "duration": 210,
    "start_time": "2022-11-03T13:36:25.432Z"
   },
   {
    "duration": 17,
    "start_time": "2022-11-03T13:37:02.763Z"
   },
   {
    "duration": 72,
    "start_time": "2022-11-03T13:37:55.673Z"
   },
   {
    "duration": 30,
    "start_time": "2022-11-03T13:38:04.293Z"
   },
   {
    "duration": 27,
    "start_time": "2022-11-03T13:38:24.455Z"
   },
   {
    "duration": 18,
    "start_time": "2022-11-03T13:58:31.347Z"
   },
   {
    "duration": 305,
    "start_time": "2022-11-03T14:01:41.718Z"
   },
   {
    "duration": 34,
    "start_time": "2022-11-03T14:01:42.317Z"
   },
   {
    "duration": 19,
    "start_time": "2022-11-03T14:01:46.725Z"
   },
   {
    "duration": 3,
    "start_time": "2022-11-03T14:01:49.855Z"
   },
   {
    "duration": 8,
    "start_time": "2022-11-03T14:01:50.845Z"
   },
   {
    "duration": 9,
    "start_time": "2022-11-03T14:02:18.686Z"
   },
   {
    "duration": 47,
    "start_time": "2022-11-06T06:47:41.482Z"
   },
   {
    "duration": 397,
    "start_time": "2022-11-06T06:47:50.803Z"
   },
   {
    "duration": 189,
    "start_time": "2022-11-06T06:47:51.202Z"
   },
   {
    "duration": 30,
    "start_time": "2022-11-06T06:47:51.392Z"
   },
   {
    "duration": 15,
    "start_time": "2022-11-06T06:47:51.424Z"
   },
   {
    "duration": 15,
    "start_time": "2022-11-06T06:47:51.441Z"
   },
   {
    "duration": 56,
    "start_time": "2022-11-06T06:47:51.459Z"
   },
   {
    "duration": 6,
    "start_time": "2022-11-06T06:47:51.517Z"
   },
   {
    "duration": 10,
    "start_time": "2022-11-06T06:47:51.524Z"
   },
   {
    "duration": 15,
    "start_time": "2022-11-06T06:47:51.535Z"
   },
   {
    "duration": 43,
    "start_time": "2022-11-06T06:47:51.554Z"
   },
   {
    "duration": 18,
    "start_time": "2022-11-06T06:47:51.599Z"
   },
   {
    "duration": 4,
    "start_time": "2022-11-06T06:47:51.619Z"
   },
   {
    "duration": 564,
    "start_time": "2022-11-06T06:47:51.625Z"
   },
   {
    "duration": 252,
    "start_time": "2022-11-06T06:47:52.191Z"
   },
   {
    "duration": 33,
    "start_time": "2022-11-06T06:47:52.445Z"
   },
   {
    "duration": 71,
    "start_time": "2022-11-06T06:47:52.490Z"
   },
   {
    "duration": 257,
    "start_time": "2022-11-06T06:47:52.562Z"
   },
   {
    "duration": 279,
    "start_time": "2022-11-06T06:47:52.821Z"
   },
   {
    "duration": 246,
    "start_time": "2022-11-06T06:47:53.101Z"
   },
   {
    "duration": 247,
    "start_time": "2022-11-06T06:47:53.349Z"
   },
   {
    "duration": 247,
    "start_time": "2022-11-06T06:47:53.598Z"
   },
   {
    "duration": 311,
    "start_time": "2022-11-06T06:47:53.847Z"
   },
   {
    "duration": 7,
    "start_time": "2022-11-06T06:47:54.160Z"
   },
   {
    "duration": 28,
    "start_time": "2022-11-06T06:47:54.168Z"
   },
   {
    "duration": 243,
    "start_time": "2022-11-06T06:47:54.198Z"
   },
   {
    "duration": 271,
    "start_time": "2022-11-06T06:47:54.443Z"
   },
   {
    "duration": 228,
    "start_time": "2022-11-06T06:47:54.715Z"
   },
   {
    "duration": 235,
    "start_time": "2022-11-06T06:47:54.947Z"
   },
   {
    "duration": 239,
    "start_time": "2022-11-06T06:47:55.184Z"
   },
   {
    "duration": 351,
    "start_time": "2022-11-06T06:47:55.425Z"
   },
   {
    "duration": 244,
    "start_time": "2022-11-06T06:47:55.778Z"
   },
   {
    "duration": 269,
    "start_time": "2022-11-06T06:47:56.024Z"
   },
   {
    "duration": 271,
    "start_time": "2022-11-06T06:47:56.294Z"
   },
   {
    "duration": 261,
    "start_time": "2022-11-06T06:47:56.568Z"
   },
   {
    "duration": 130,
    "start_time": "2022-11-06T06:47:56.831Z"
   },
   {
    "duration": 238,
    "start_time": "2022-11-06T06:47:56.962Z"
   },
   {
    "duration": 126,
    "start_time": "2022-11-06T06:47:57.202Z"
   },
   {
    "duration": 127,
    "start_time": "2022-11-06T06:47:57.330Z"
   },
   {
    "duration": 148,
    "start_time": "2022-11-06T06:47:57.459Z"
   },
   {
    "duration": 11,
    "start_time": "2022-11-06T06:47:57.609Z"
   },
   {
    "duration": 158,
    "start_time": "2022-11-06T06:47:57.622Z"
   },
   {
    "duration": 14,
    "start_time": "2022-11-06T06:47:57.782Z"
   },
   {
    "duration": 151,
    "start_time": "2022-11-06T06:47:57.797Z"
   },
   {
    "duration": 11,
    "start_time": "2022-11-06T06:47:57.950Z"
   },
   {
    "duration": 154,
    "start_time": "2022-11-06T06:47:57.962Z"
   },
   {
    "duration": 10,
    "start_time": "2022-11-06T06:47:58.118Z"
   },
   {
    "duration": 148,
    "start_time": "2022-11-06T06:47:58.129Z"
   },
   {
    "duration": 19,
    "start_time": "2022-11-06T06:47:58.279Z"
   },
   {
    "duration": 163,
    "start_time": "2022-11-06T06:47:58.299Z"
   },
   {
    "duration": 11,
    "start_time": "2022-11-06T06:47:58.464Z"
   },
   {
    "duration": 171,
    "start_time": "2022-11-06T06:47:58.477Z"
   },
   {
    "duration": 11,
    "start_time": "2022-11-06T06:47:58.649Z"
   },
   {
    "duration": 139,
    "start_time": "2022-11-06T06:47:58.662Z"
   },
   {
    "duration": 11,
    "start_time": "2022-11-06T06:47:58.803Z"
   },
   {
    "duration": 21,
    "start_time": "2022-11-06T06:47:58.815Z"
   },
   {
    "duration": 4,
    "start_time": "2022-11-06T06:47:58.838Z"
   },
   {
    "duration": 221,
    "start_time": "2022-11-06T06:47:58.844Z"
   },
   {
    "duration": 407,
    "start_time": "2022-11-06T06:48:16.992Z"
   },
   {
    "duration": 10,
    "start_time": "2022-11-06T06:48:33.588Z"
   },
   {
    "duration": 89,
    "start_time": "2022-11-06T06:50:41.395Z"
   },
   {
    "duration": 38,
    "start_time": "2022-11-06T06:50:56.693Z"
   },
   {
    "duration": 464,
    "start_time": "2022-11-06T06:51:14.183Z"
   },
   {
    "duration": 56,
    "start_time": "2022-11-06T06:51:14.649Z"
   },
   {
    "duration": 32,
    "start_time": "2022-11-06T06:51:14.707Z"
   },
   {
    "duration": 14,
    "start_time": "2022-11-06T06:51:14.742Z"
   },
   {
    "duration": 35,
    "start_time": "2022-11-06T06:51:14.757Z"
   },
   {
    "duration": 27,
    "start_time": "2022-11-06T06:51:14.793Z"
   },
   {
    "duration": 5,
    "start_time": "2022-11-06T06:51:14.822Z"
   },
   {
    "duration": 8,
    "start_time": "2022-11-06T06:51:14.828Z"
   },
   {
    "duration": 19,
    "start_time": "2022-11-06T06:51:14.838Z"
   },
   {
    "duration": 13,
    "start_time": "2022-11-06T06:51:14.890Z"
   },
   {
    "duration": 29,
    "start_time": "2022-11-06T06:51:14.905Z"
   },
   {
    "duration": 6,
    "start_time": "2022-11-06T06:51:14.935Z"
   },
   {
    "duration": 488,
    "start_time": "2022-11-06T06:51:14.942Z"
   },
   {
    "duration": 255,
    "start_time": "2022-11-06T06:51:15.432Z"
   },
   {
    "duration": 28,
    "start_time": "2022-11-06T06:51:15.691Z"
   },
   {
    "duration": 18,
    "start_time": "2022-11-06T06:51:15.721Z"
   },
   {
    "duration": 335,
    "start_time": "2022-11-06T06:51:15.740Z"
   },
   {
    "duration": 265,
    "start_time": "2022-11-06T06:51:16.077Z"
   },
   {
    "duration": 297,
    "start_time": "2022-11-06T06:51:16.344Z"
   },
   {
    "duration": 283,
    "start_time": "2022-11-06T06:51:16.643Z"
   },
   {
    "duration": 239,
    "start_time": "2022-11-06T06:51:16.927Z"
   },
   {
    "duration": 257,
    "start_time": "2022-11-06T06:51:17.168Z"
   },
   {
    "duration": 7,
    "start_time": "2022-11-06T06:51:17.427Z"
   },
   {
    "duration": 17,
    "start_time": "2022-11-06T06:51:17.435Z"
   },
   {
    "duration": 358,
    "start_time": "2022-11-06T06:51:17.453Z"
   },
   {
    "duration": 256,
    "start_time": "2022-11-06T06:51:17.813Z"
   },
   {
    "duration": 238,
    "start_time": "2022-11-06T06:51:18.071Z"
   },
   {
    "duration": 257,
    "start_time": "2022-11-06T06:51:18.313Z"
   },
   {
    "duration": 247,
    "start_time": "2022-11-06T06:51:18.572Z"
   },
   {
    "duration": 342,
    "start_time": "2022-11-06T06:51:18.821Z"
   },
   {
    "duration": 236,
    "start_time": "2022-11-06T06:51:19.165Z"
   },
   {
    "duration": 256,
    "start_time": "2022-11-06T06:51:19.403Z"
   },
   {
    "duration": 253,
    "start_time": "2022-11-06T06:51:19.661Z"
   },
   {
    "duration": 281,
    "start_time": "2022-11-06T06:51:19.916Z"
   },
   {
    "duration": 145,
    "start_time": "2022-11-06T06:51:20.199Z"
   },
   {
    "duration": 135,
    "start_time": "2022-11-06T06:51:20.346Z"
   },
   {
    "duration": 140,
    "start_time": "2022-11-06T06:51:20.482Z"
   },
   {
    "duration": 246,
    "start_time": "2022-11-06T06:51:20.624Z"
   },
   {
    "duration": 169,
    "start_time": "2022-11-06T06:51:20.872Z"
   },
   {
    "duration": 13,
    "start_time": "2022-11-06T06:51:21.043Z"
   },
   {
    "duration": 154,
    "start_time": "2022-11-06T06:51:21.057Z"
   },
   {
    "duration": 10,
    "start_time": "2022-11-06T06:51:21.213Z"
   },
   {
    "duration": 163,
    "start_time": "2022-11-06T06:51:21.224Z"
   },
   {
    "duration": 9,
    "start_time": "2022-11-06T06:51:21.390Z"
   },
   {
    "duration": 148,
    "start_time": "2022-11-06T06:51:21.400Z"
   },
   {
    "duration": 11,
    "start_time": "2022-11-06T06:51:21.550Z"
   },
   {
    "duration": 153,
    "start_time": "2022-11-06T06:51:21.562Z"
   },
   {
    "duration": 10,
    "start_time": "2022-11-06T06:51:21.716Z"
   },
   {
    "duration": 145,
    "start_time": "2022-11-06T06:51:21.728Z"
   },
   {
    "duration": 21,
    "start_time": "2022-11-06T06:51:21.875Z"
   },
   {
    "duration": 161,
    "start_time": "2022-11-06T06:51:21.898Z"
   },
   {
    "duration": 10,
    "start_time": "2022-11-06T06:51:22.060Z"
   },
   {
    "duration": 142,
    "start_time": "2022-11-06T06:51:22.072Z"
   },
   {
    "duration": 12,
    "start_time": "2022-11-06T06:51:22.215Z"
   },
   {
    "duration": 15,
    "start_time": "2022-11-06T06:51:22.228Z"
   },
   {
    "duration": 3,
    "start_time": "2022-11-06T06:51:22.245Z"
   },
   {
    "duration": 12,
    "start_time": "2022-11-06T06:51:22.249Z"
   },
   {
    "duration": 69,
    "start_time": "2022-11-06T06:56:00.777Z"
   },
   {
    "duration": 14,
    "start_time": "2022-11-06T06:58:45.220Z"
   },
   {
    "duration": 427,
    "start_time": "2022-11-06T06:59:43.606Z"
   },
   {
    "duration": 50,
    "start_time": "2022-11-06T06:59:44.034Z"
   },
   {
    "duration": 30,
    "start_time": "2022-11-06T06:59:44.085Z"
   },
   {
    "duration": 22,
    "start_time": "2022-11-06T06:59:44.118Z"
   },
   {
    "duration": 13,
    "start_time": "2022-11-06T06:59:44.142Z"
   },
   {
    "duration": 48,
    "start_time": "2022-11-06T06:59:44.157Z"
   },
   {
    "duration": 8,
    "start_time": "2022-11-06T06:59:44.207Z"
   },
   {
    "duration": 9,
    "start_time": "2022-11-06T06:59:44.217Z"
   },
   {
    "duration": 14,
    "start_time": "2022-11-06T06:59:44.227Z"
   },
   {
    "duration": 12,
    "start_time": "2022-11-06T06:59:44.246Z"
   },
   {
    "duration": 28,
    "start_time": "2022-11-06T06:59:44.292Z"
   },
   {
    "duration": 5,
    "start_time": "2022-11-06T06:59:44.321Z"
   },
   {
    "duration": 470,
    "start_time": "2022-11-06T06:59:44.327Z"
   },
   {
    "duration": 280,
    "start_time": "2022-11-06T06:59:44.799Z"
   },
   {
    "duration": 34,
    "start_time": "2022-11-06T06:59:45.081Z"
   },
   {
    "duration": 16,
    "start_time": "2022-11-06T06:59:45.117Z"
   },
   {
    "duration": 321,
    "start_time": "2022-11-06T06:59:45.134Z"
   },
   {
    "duration": 248,
    "start_time": "2022-11-06T06:59:45.457Z"
   },
   {
    "duration": 240,
    "start_time": "2022-11-06T06:59:45.707Z"
   },
   {
    "duration": 225,
    "start_time": "2022-11-06T06:59:45.949Z"
   },
   {
    "duration": 227,
    "start_time": "2022-11-06T06:59:46.176Z"
   },
   {
    "duration": 329,
    "start_time": "2022-11-06T06:59:46.406Z"
   },
   {
    "duration": 8,
    "start_time": "2022-11-06T06:59:46.736Z"
   },
   {
    "duration": 37,
    "start_time": "2022-11-06T06:59:46.747Z"
   },
   {
    "duration": 335,
    "start_time": "2022-11-06T06:59:46.790Z"
   },
   {
    "duration": 278,
    "start_time": "2022-11-06T06:59:47.127Z"
   },
   {
    "duration": 241,
    "start_time": "2022-11-06T06:59:47.408Z"
   },
   {
    "duration": 240,
    "start_time": "2022-11-06T06:59:47.653Z"
   },
   {
    "duration": 231,
    "start_time": "2022-11-06T06:59:47.895Z"
   },
   {
    "duration": 341,
    "start_time": "2022-11-06T06:59:48.127Z"
   },
   {
    "duration": 236,
    "start_time": "2022-11-06T06:59:48.470Z"
   },
   {
    "duration": 239,
    "start_time": "2022-11-06T06:59:48.708Z"
   },
   {
    "duration": 255,
    "start_time": "2022-11-06T06:59:48.949Z"
   },
   {
    "duration": 218,
    "start_time": "2022-11-06T06:59:49.206Z"
   },
   {
    "duration": 115,
    "start_time": "2022-11-06T06:59:49.425Z"
   },
   {
    "duration": 140,
    "start_time": "2022-11-06T06:59:49.541Z"
   },
   {
    "duration": 133,
    "start_time": "2022-11-06T06:59:49.683Z"
   },
   {
    "duration": 242,
    "start_time": "2022-11-06T06:59:49.818Z"
   },
   {
    "duration": 31,
    "start_time": "2022-11-06T06:59:50.061Z"
   },
   {
    "duration": 7,
    "start_time": "2022-11-06T06:59:50.093Z"
   },
   {
    "duration": 152,
    "start_time": "2022-11-06T06:59:50.101Z"
   },
   {
    "duration": 11,
    "start_time": "2022-11-06T06:59:50.255Z"
   },
   {
    "duration": 136,
    "start_time": "2022-11-06T06:59:50.268Z"
   },
   {
    "duration": 12,
    "start_time": "2022-11-06T06:59:50.406Z"
   },
   {
    "duration": 174,
    "start_time": "2022-11-06T06:59:50.420Z"
   },
   {
    "duration": 10,
    "start_time": "2022-11-06T06:59:50.596Z"
   },
   {
    "duration": 151,
    "start_time": "2022-11-06T06:59:50.609Z"
   },
   {
    "duration": 10,
    "start_time": "2022-11-06T06:59:50.761Z"
   },
   {
    "duration": 138,
    "start_time": "2022-11-06T06:59:50.773Z"
   },
   {
    "duration": 11,
    "start_time": "2022-11-06T06:59:50.918Z"
   },
   {
    "duration": 130,
    "start_time": "2022-11-06T06:59:50.931Z"
   },
   {
    "duration": 10,
    "start_time": "2022-11-06T06:59:51.063Z"
   },
   {
    "duration": 141,
    "start_time": "2022-11-06T06:59:51.074Z"
   },
   {
    "duration": 11,
    "start_time": "2022-11-06T06:59:51.216Z"
   },
   {
    "duration": 140,
    "start_time": "2022-11-06T06:59:51.228Z"
   },
   {
    "duration": 9,
    "start_time": "2022-11-06T06:59:51.371Z"
   },
   {
    "duration": 13,
    "start_time": "2022-11-06T06:59:51.391Z"
   },
   {
    "duration": 7,
    "start_time": "2022-11-06T06:59:51.406Z"
   },
   {
    "duration": 10,
    "start_time": "2022-11-06T06:59:51.414Z"
   },
   {
    "duration": 23,
    "start_time": "2022-11-06T07:00:34.343Z"
   },
   {
    "duration": 140,
    "start_time": "2022-11-06T07:00:46.216Z"
   },
   {
    "duration": 10,
    "start_time": "2022-11-06T07:01:25.304Z"
   },
   {
    "duration": 158,
    "start_time": "2022-11-06T07:01:41.012Z"
   },
   {
    "duration": 10,
    "start_time": "2022-11-06T07:01:51.275Z"
   },
   {
    "duration": 71,
    "start_time": "2022-11-06T07:04:52.219Z"
   },
   {
    "duration": 7,
    "start_time": "2022-11-06T07:04:58.008Z"
   },
   {
    "duration": 6,
    "start_time": "2022-11-06T07:05:29.200Z"
   },
   {
    "duration": 230,
    "start_time": "2022-11-06T07:06:57.681Z"
   },
   {
    "duration": 24,
    "start_time": "2022-11-06T07:07:39.856Z"
   },
   {
    "duration": 26,
    "start_time": "2022-11-06T07:08:11.112Z"
   },
   {
    "duration": 234,
    "start_time": "2022-11-06T07:08:58.145Z"
   },
   {
    "duration": 268,
    "start_time": "2022-11-06T07:09:24.353Z"
   },
   {
    "duration": 450,
    "start_time": "2022-11-06T07:09:36.328Z"
   },
   {
    "duration": 223,
    "start_time": "2022-11-06T07:09:57.993Z"
   },
   {
    "duration": 366,
    "start_time": "2022-11-06T07:10:03.341Z"
   },
   {
    "duration": 48,
    "start_time": "2022-11-06T07:10:03.708Z"
   },
   {
    "duration": 28,
    "start_time": "2022-11-06T07:10:03.758Z"
   },
   {
    "duration": 12,
    "start_time": "2022-11-06T07:10:03.788Z"
   },
   {
    "duration": 14,
    "start_time": "2022-11-06T07:10:03.802Z"
   },
   {
    "duration": 24,
    "start_time": "2022-11-06T07:10:03.817Z"
   },
   {
    "duration": 5,
    "start_time": "2022-11-06T07:10:03.843Z"
   },
   {
    "duration": 8,
    "start_time": "2022-11-06T07:10:03.849Z"
   },
   {
    "duration": 42,
    "start_time": "2022-11-06T07:10:03.858Z"
   },
   {
    "duration": 9,
    "start_time": "2022-11-06T07:10:03.904Z"
   },
   {
    "duration": 20,
    "start_time": "2022-11-06T07:10:03.915Z"
   },
   {
    "duration": 13,
    "start_time": "2022-11-06T07:10:03.937Z"
   },
   {
    "duration": 503,
    "start_time": "2022-11-06T07:10:03.951Z"
   },
   {
    "duration": 253,
    "start_time": "2022-11-06T07:10:04.456Z"
   },
   {
    "duration": 293,
    "start_time": "2022-11-06T07:10:04.710Z"
   },
   {
    "duration": 27,
    "start_time": "2022-11-06T07:10:05.004Z"
   },
   {
    "duration": 16,
    "start_time": "2022-11-06T07:10:05.032Z"
   },
   {
    "duration": 249,
    "start_time": "2022-11-06T07:10:05.050Z"
   },
   {
    "duration": 269,
    "start_time": "2022-11-06T07:10:05.301Z"
   },
   {
    "duration": 232,
    "start_time": "2022-11-06T07:10:05.572Z"
   },
   {
    "duration": 230,
    "start_time": "2022-11-06T07:10:05.807Z"
   },
   {
    "duration": 250,
    "start_time": "2022-11-06T07:10:06.038Z"
   },
   {
    "duration": 396,
    "start_time": "2022-11-06T07:10:06.291Z"
   },
   {
    "duration": 8,
    "start_time": "2022-11-06T07:10:06.691Z"
   },
   {
    "duration": 16,
    "start_time": "2022-11-06T07:10:06.701Z"
   },
   {
    "duration": 247,
    "start_time": "2022-11-06T07:10:06.719Z"
   },
   {
    "duration": 236,
    "start_time": "2022-11-06T07:10:06.968Z"
   },
   {
    "duration": 236,
    "start_time": "2022-11-06T07:10:07.207Z"
   },
   {
    "duration": 241,
    "start_time": "2022-11-06T07:10:07.444Z"
   },
   {
    "duration": 307,
    "start_time": "2022-11-06T07:10:07.690Z"
   },
   {
    "duration": 232,
    "start_time": "2022-11-06T07:10:07.999Z"
   },
   {
    "duration": 237,
    "start_time": "2022-11-06T07:10:08.232Z"
   },
   {
    "duration": 251,
    "start_time": "2022-11-06T07:10:08.471Z"
   },
   {
    "duration": 236,
    "start_time": "2022-11-06T07:10:08.724Z"
   },
   {
    "duration": 229,
    "start_time": "2022-11-06T07:10:08.961Z"
   },
   {
    "duration": 240,
    "start_time": "2022-11-06T07:10:09.192Z"
   },
   {
    "duration": 120,
    "start_time": "2022-11-06T07:10:09.433Z"
   },
   {
    "duration": 147,
    "start_time": "2022-11-06T07:10:09.555Z"
   },
   {
    "duration": 126,
    "start_time": "2022-11-06T07:10:09.703Z"
   },
   {
    "duration": 7,
    "start_time": "2022-11-06T07:10:09.830Z"
   },
   {
    "duration": 11,
    "start_time": "2022-11-06T07:10:09.838Z"
   },
   {
    "duration": 156,
    "start_time": "2022-11-06T07:10:09.850Z"
   },
   {
    "duration": 10,
    "start_time": "2022-11-06T07:10:10.007Z"
   },
   {
    "duration": 146,
    "start_time": "2022-11-06T07:10:10.019Z"
   },
   {
    "duration": 9,
    "start_time": "2022-11-06T07:10:10.166Z"
   },
   {
    "duration": 171,
    "start_time": "2022-11-06T07:10:10.177Z"
   },
   {
    "duration": 10,
    "start_time": "2022-11-06T07:10:10.349Z"
   },
   {
    "duration": 155,
    "start_time": "2022-11-06T07:10:10.360Z"
   },
   {
    "duration": 10,
    "start_time": "2022-11-06T07:10:10.516Z"
   },
   {
    "duration": 167,
    "start_time": "2022-11-06T07:10:10.527Z"
   },
   {
    "duration": 10,
    "start_time": "2022-11-06T07:10:10.696Z"
   },
   {
    "duration": 144,
    "start_time": "2022-11-06T07:10:10.708Z"
   },
   {
    "duration": 9,
    "start_time": "2022-11-06T07:10:10.854Z"
   },
   {
    "duration": 145,
    "start_time": "2022-11-06T07:10:10.865Z"
   },
   {
    "duration": 11,
    "start_time": "2022-11-06T07:10:11.012Z"
   },
   {
    "duration": 125,
    "start_time": "2022-11-06T07:10:11.024Z"
   },
   {
    "duration": 10,
    "start_time": "2022-11-06T07:10:11.151Z"
   },
   {
    "duration": 29,
    "start_time": "2022-11-06T07:10:11.163Z"
   },
   {
    "duration": 7,
    "start_time": "2022-11-06T07:10:11.194Z"
   },
   {
    "duration": 25,
    "start_time": "2022-11-06T07:10:11.203Z"
   },
   {
    "duration": 25,
    "start_time": "2022-11-06T07:10:28.709Z"
   },
   {
    "duration": 24,
    "start_time": "2022-11-06T07:11:12.641Z"
   },
   {
    "duration": 25,
    "start_time": "2022-11-06T07:11:18.109Z"
   },
   {
    "duration": 434,
    "start_time": "2022-11-06T07:11:23.193Z"
   },
   {
    "duration": 50,
    "start_time": "2022-11-06T07:11:23.629Z"
   },
   {
    "duration": 30,
    "start_time": "2022-11-06T07:11:23.681Z"
   },
   {
    "duration": 13,
    "start_time": "2022-11-06T07:11:23.714Z"
   },
   {
    "duration": 13,
    "start_time": "2022-11-06T07:11:23.728Z"
   },
   {
    "duration": 24,
    "start_time": "2022-11-06T07:11:23.742Z"
   },
   {
    "duration": 5,
    "start_time": "2022-11-06T07:11:23.790Z"
   },
   {
    "duration": 9,
    "start_time": "2022-11-06T07:11:23.796Z"
   },
   {
    "duration": 12,
    "start_time": "2022-11-06T07:11:23.806Z"
   },
   {
    "duration": 8,
    "start_time": "2022-11-06T07:11:23.822Z"
   },
   {
    "duration": 18,
    "start_time": "2022-11-06T07:11:23.832Z"
   },
   {
    "duration": 4,
    "start_time": "2022-11-06T07:11:23.851Z"
   },
   {
    "duration": 520,
    "start_time": "2022-11-06T07:11:23.856Z"
   },
   {
    "duration": 29,
    "start_time": "2022-11-06T07:11:24.378Z"
   },
   {
    "duration": 273,
    "start_time": "2022-11-06T07:11:24.408Z"
   },
   {
    "duration": 26,
    "start_time": "2022-11-06T07:11:24.682Z"
   },
   {
    "duration": 14,
    "start_time": "2022-11-06T07:11:24.710Z"
   },
   {
    "duration": 285,
    "start_time": "2022-11-06T07:11:24.726Z"
   },
   {
    "duration": 238,
    "start_time": "2022-11-06T07:11:25.012Z"
   },
   {
    "duration": 229,
    "start_time": "2022-11-06T07:11:25.251Z"
   },
   {
    "duration": 227,
    "start_time": "2022-11-06T07:11:25.482Z"
   },
   {
    "duration": 228,
    "start_time": "2022-11-06T07:11:25.711Z"
   },
   {
    "duration": 251,
    "start_time": "2022-11-06T07:11:25.941Z"
   },
   {
    "duration": 6,
    "start_time": "2022-11-06T07:11:26.194Z"
   },
   {
    "duration": 20,
    "start_time": "2022-11-06T07:11:26.202Z"
   },
   {
    "duration": 367,
    "start_time": "2022-11-06T07:11:26.224Z"
   },
   {
    "duration": 279,
    "start_time": "2022-11-06T07:11:26.592Z"
   },
   {
    "duration": 229,
    "start_time": "2022-11-06T07:11:26.875Z"
   },
   {
    "duration": 226,
    "start_time": "2022-11-06T07:11:27.105Z"
   },
   {
    "duration": 219,
    "start_time": "2022-11-06T07:11:27.333Z"
   },
   {
    "duration": 318,
    "start_time": "2022-11-06T07:11:27.554Z"
   },
   {
    "duration": 222,
    "start_time": "2022-11-06T07:11:27.873Z"
   },
   {
    "duration": 227,
    "start_time": "2022-11-06T07:11:28.097Z"
   },
   {
    "duration": 231,
    "start_time": "2022-11-06T07:11:28.325Z"
   },
   {
    "duration": 237,
    "start_time": "2022-11-06T07:11:28.558Z"
   },
   {
    "duration": 118,
    "start_time": "2022-11-06T07:11:28.797Z"
   },
   {
    "duration": 124,
    "start_time": "2022-11-06T07:11:28.917Z"
   },
   {
    "duration": 133,
    "start_time": "2022-11-06T07:11:29.043Z"
   },
   {
    "duration": 247,
    "start_time": "2022-11-06T07:11:29.178Z"
   },
   {
    "duration": 6,
    "start_time": "2022-11-06T07:11:29.427Z"
   },
   {
    "duration": 6,
    "start_time": "2022-11-06T07:11:29.434Z"
   },
   {
    "duration": 152,
    "start_time": "2022-11-06T07:11:29.441Z"
   },
   {
    "duration": 9,
    "start_time": "2022-11-06T07:11:29.595Z"
   },
   {
    "duration": 155,
    "start_time": "2022-11-06T07:11:29.606Z"
   },
   {
    "duration": 9,
    "start_time": "2022-11-06T07:11:29.762Z"
   },
   {
    "duration": 144,
    "start_time": "2022-11-06T07:11:29.772Z"
   },
   {
    "duration": 9,
    "start_time": "2022-11-06T07:11:29.917Z"
   },
   {
    "duration": 151,
    "start_time": "2022-11-06T07:11:29.927Z"
   },
   {
    "duration": 14,
    "start_time": "2022-11-06T07:11:30.080Z"
   },
   {
    "duration": 147,
    "start_time": "2022-11-06T07:11:30.096Z"
   },
   {
    "duration": 9,
    "start_time": "2022-11-06T07:11:30.245Z"
   },
   {
    "duration": 148,
    "start_time": "2022-11-06T07:11:30.256Z"
   },
   {
    "duration": 9,
    "start_time": "2022-11-06T07:11:30.406Z"
   },
   {
    "duration": 154,
    "start_time": "2022-11-06T07:11:30.417Z"
   },
   {
    "duration": 18,
    "start_time": "2022-11-06T07:11:30.573Z"
   },
   {
    "duration": 141,
    "start_time": "2022-11-06T07:11:30.593Z"
   },
   {
    "duration": 9,
    "start_time": "2022-11-06T07:11:30.736Z"
   },
   {
    "duration": 22,
    "start_time": "2022-11-06T07:11:30.746Z"
   },
   {
    "duration": 7,
    "start_time": "2022-11-06T07:11:30.770Z"
   },
   {
    "duration": 14,
    "start_time": "2022-11-06T07:11:30.779Z"
   },
   {
    "duration": 436,
    "start_time": "2022-11-06T07:11:49.311Z"
   },
   {
    "duration": 50,
    "start_time": "2022-11-06T07:11:49.749Z"
   },
   {
    "duration": 31,
    "start_time": "2022-11-06T07:11:49.801Z"
   },
   {
    "duration": 14,
    "start_time": "2022-11-06T07:11:49.834Z"
   },
   {
    "duration": 13,
    "start_time": "2022-11-06T07:11:49.850Z"
   },
   {
    "duration": 49,
    "start_time": "2022-11-06T07:11:49.864Z"
   },
   {
    "duration": 5,
    "start_time": "2022-11-06T07:11:49.915Z"
   },
   {
    "duration": 13,
    "start_time": "2022-11-06T07:11:49.922Z"
   },
   {
    "duration": 16,
    "start_time": "2022-11-06T07:11:49.937Z"
   },
   {
    "duration": 34,
    "start_time": "2022-11-06T07:11:49.957Z"
   },
   {
    "duration": 20,
    "start_time": "2022-11-06T07:11:49.993Z"
   },
   {
    "duration": 5,
    "start_time": "2022-11-06T07:11:50.014Z"
   },
   {
    "duration": 507,
    "start_time": "2022-11-06T07:11:50.021Z"
   },
   {
    "duration": 28,
    "start_time": "2022-11-06T07:11:50.530Z"
   },
   {
    "duration": 283,
    "start_time": "2022-11-06T07:11:50.560Z"
   },
   {
    "duration": 27,
    "start_time": "2022-11-06T07:11:50.845Z"
   },
   {
    "duration": 24,
    "start_time": "2022-11-06T07:11:50.874Z"
   },
   {
    "duration": 306,
    "start_time": "2022-11-06T07:11:50.899Z"
   },
   {
    "duration": 261,
    "start_time": "2022-11-06T07:11:51.207Z"
   },
   {
    "duration": 236,
    "start_time": "2022-11-06T07:11:51.469Z"
   },
   {
    "duration": 229,
    "start_time": "2022-11-06T07:11:51.706Z"
   },
   {
    "duration": 239,
    "start_time": "2022-11-06T07:11:51.936Z"
   },
   {
    "duration": 236,
    "start_time": "2022-11-06T07:11:52.177Z"
   },
   {
    "duration": 7,
    "start_time": "2022-11-06T07:11:52.415Z"
   },
   {
    "duration": 29,
    "start_time": "2022-11-06T07:11:52.424Z"
   },
   {
    "duration": 322,
    "start_time": "2022-11-06T07:11:52.455Z"
   },
   {
    "duration": 227,
    "start_time": "2022-11-06T07:11:52.779Z"
   },
   {
    "duration": 230,
    "start_time": "2022-11-06T07:11:53.009Z"
   },
   {
    "duration": 220,
    "start_time": "2022-11-06T07:11:53.240Z"
   },
   {
    "duration": 231,
    "start_time": "2022-11-06T07:11:53.461Z"
   },
   {
    "duration": 333,
    "start_time": "2022-11-06T07:11:53.694Z"
   },
   {
    "duration": 231,
    "start_time": "2022-11-06T07:11:54.029Z"
   },
   {
    "duration": 270,
    "start_time": "2022-11-06T07:11:54.262Z"
   },
   {
    "duration": 229,
    "start_time": "2022-11-06T07:11:54.534Z"
   },
   {
    "duration": 208,
    "start_time": "2022-11-06T07:11:54.765Z"
   },
   {
    "duration": 122,
    "start_time": "2022-11-06T07:11:54.974Z"
   },
   {
    "duration": 115,
    "start_time": "2022-11-06T07:11:55.098Z"
   },
   {
    "duration": 132,
    "start_time": "2022-11-06T07:11:55.215Z"
   },
   {
    "duration": 229,
    "start_time": "2022-11-06T07:11:55.349Z"
   },
   {
    "duration": 11,
    "start_time": "2022-11-06T07:11:55.579Z"
   },
   {
    "duration": 5,
    "start_time": "2022-11-06T07:11:55.592Z"
   },
   {
    "duration": 154,
    "start_time": "2022-11-06T07:11:55.598Z"
   },
   {
    "duration": 9,
    "start_time": "2022-11-06T07:11:55.754Z"
   },
   {
    "duration": 139,
    "start_time": "2022-11-06T07:11:55.765Z"
   },
   {
    "duration": 10,
    "start_time": "2022-11-06T07:11:55.906Z"
   },
   {
    "duration": 160,
    "start_time": "2022-11-06T07:11:55.917Z"
   },
   {
    "duration": 15,
    "start_time": "2022-11-06T07:11:56.079Z"
   },
   {
    "duration": 130,
    "start_time": "2022-11-06T07:11:56.095Z"
   },
   {
    "duration": 10,
    "start_time": "2022-11-06T07:11:56.226Z"
   },
   {
    "duration": 137,
    "start_time": "2022-11-06T07:11:56.238Z"
   },
   {
    "duration": 22,
    "start_time": "2022-11-06T07:11:56.377Z"
   },
   {
    "duration": 167,
    "start_time": "2022-11-06T07:11:56.400Z"
   },
   {
    "duration": 10,
    "start_time": "2022-11-06T07:11:56.569Z"
   },
   {
    "duration": 172,
    "start_time": "2022-11-06T07:11:56.580Z"
   },
   {
    "duration": 11,
    "start_time": "2022-11-06T07:11:56.753Z"
   },
   {
    "duration": 136,
    "start_time": "2022-11-06T07:11:56.765Z"
   },
   {
    "duration": 10,
    "start_time": "2022-11-06T07:11:56.902Z"
   },
   {
    "duration": 13,
    "start_time": "2022-11-06T07:11:56.914Z"
   },
   {
    "duration": 2,
    "start_time": "2022-11-06T07:11:56.929Z"
   },
   {
    "duration": 9,
    "start_time": "2022-11-06T07:11:56.932Z"
   },
   {
    "duration": 25,
    "start_time": "2022-11-06T07:12:15.270Z"
   },
   {
    "duration": 396,
    "start_time": "2022-11-06T07:12:31.357Z"
   },
   {
    "duration": 54,
    "start_time": "2022-11-06T07:12:31.755Z"
   },
   {
    "duration": 32,
    "start_time": "2022-11-06T07:12:31.811Z"
   },
   {
    "duration": 14,
    "start_time": "2022-11-06T07:12:31.845Z"
   },
   {
    "duration": 34,
    "start_time": "2022-11-06T07:12:31.861Z"
   },
   {
    "duration": 24,
    "start_time": "2022-11-06T07:12:31.896Z"
   },
   {
    "duration": 4,
    "start_time": "2022-11-06T07:12:31.922Z"
   },
   {
    "duration": 9,
    "start_time": "2022-11-06T07:12:31.928Z"
   },
   {
    "duration": 13,
    "start_time": "2022-11-06T07:12:31.938Z"
   },
   {
    "duration": 37,
    "start_time": "2022-11-06T07:12:31.955Z"
   },
   {
    "duration": 18,
    "start_time": "2022-11-06T07:12:31.994Z"
   },
   {
    "duration": 4,
    "start_time": "2022-11-06T07:12:32.014Z"
   },
   {
    "duration": 482,
    "start_time": "2022-11-06T07:12:32.019Z"
   },
   {
    "duration": 26,
    "start_time": "2022-11-06T07:12:32.502Z"
   },
   {
    "duration": 265,
    "start_time": "2022-11-06T07:12:32.529Z"
   },
   {
    "duration": 24,
    "start_time": "2022-11-06T07:12:32.795Z"
   },
   {
    "duration": 14,
    "start_time": "2022-11-06T07:12:32.820Z"
   },
   {
    "duration": 287,
    "start_time": "2022-11-06T07:12:32.835Z"
   },
   {
    "duration": 231,
    "start_time": "2022-11-06T07:12:33.124Z"
   },
   {
    "duration": 236,
    "start_time": "2022-11-06T07:12:33.356Z"
   },
   {
    "duration": 231,
    "start_time": "2022-11-06T07:12:33.594Z"
   },
   {
    "duration": 242,
    "start_time": "2022-11-06T07:12:33.826Z"
   },
   {
    "duration": 230,
    "start_time": "2022-11-06T07:12:34.069Z"
   },
   {
    "duration": 7,
    "start_time": "2022-11-06T07:12:34.300Z"
   },
   {
    "duration": 15,
    "start_time": "2022-11-06T07:12:34.308Z"
   },
   {
    "duration": 359,
    "start_time": "2022-11-06T07:12:34.324Z"
   },
   {
    "duration": 245,
    "start_time": "2022-11-06T07:12:34.685Z"
   },
   {
    "duration": 228,
    "start_time": "2022-11-06T07:12:34.933Z"
   },
   {
    "duration": 224,
    "start_time": "2022-11-06T07:12:35.162Z"
   },
   {
    "duration": 232,
    "start_time": "2022-11-06T07:12:35.390Z"
   },
   {
    "duration": 349,
    "start_time": "2022-11-06T07:12:35.624Z"
   },
   {
    "duration": 235,
    "start_time": "2022-11-06T07:12:35.975Z"
   },
   {
    "duration": 246,
    "start_time": "2022-11-06T07:12:36.213Z"
   },
   {
    "duration": 334,
    "start_time": "2022-11-06T07:12:36.462Z"
   },
   {
    "duration": 225,
    "start_time": "2022-11-06T07:12:36.798Z"
   },
   {
    "duration": 119,
    "start_time": "2022-11-06T07:12:37.025Z"
   },
   {
    "duration": 127,
    "start_time": "2022-11-06T07:12:37.146Z"
   },
   {
    "duration": 139,
    "start_time": "2022-11-06T07:12:37.275Z"
   },
   {
    "duration": 250,
    "start_time": "2022-11-06T07:12:37.416Z"
   },
   {
    "duration": 8,
    "start_time": "2022-11-06T07:12:37.668Z"
   },
   {
    "duration": 18,
    "start_time": "2022-11-06T07:12:37.677Z"
   },
   {
    "duration": 156,
    "start_time": "2022-11-06T07:12:37.696Z"
   },
   {
    "duration": 10,
    "start_time": "2022-11-06T07:12:37.854Z"
   },
   {
    "duration": 145,
    "start_time": "2022-11-06T07:12:37.866Z"
   },
   {
    "duration": 12,
    "start_time": "2022-11-06T07:12:38.013Z"
   },
   {
    "duration": 169,
    "start_time": "2022-11-06T07:12:38.027Z"
   },
   {
    "duration": 11,
    "start_time": "2022-11-06T07:12:38.197Z"
   },
   {
    "duration": 148,
    "start_time": "2022-11-06T07:12:38.209Z"
   },
   {
    "duration": 13,
    "start_time": "2022-11-06T07:12:38.359Z"
   },
   {
    "duration": 159,
    "start_time": "2022-11-06T07:12:38.374Z"
   },
   {
    "duration": 9,
    "start_time": "2022-11-06T07:12:38.535Z"
   },
   {
    "duration": 153,
    "start_time": "2022-11-06T07:12:38.546Z"
   },
   {
    "duration": 10,
    "start_time": "2022-11-06T07:12:38.701Z"
   },
   {
    "duration": 158,
    "start_time": "2022-11-06T07:12:38.713Z"
   },
   {
    "duration": 19,
    "start_time": "2022-11-06T07:12:38.873Z"
   },
   {
    "duration": 125,
    "start_time": "2022-11-06T07:12:38.894Z"
   },
   {
    "duration": 10,
    "start_time": "2022-11-06T07:12:39.020Z"
   },
   {
    "duration": 18,
    "start_time": "2022-11-06T07:12:39.032Z"
   },
   {
    "duration": 3,
    "start_time": "2022-11-06T07:12:39.052Z"
   },
   {
    "duration": 12,
    "start_time": "2022-11-06T07:12:39.056Z"
   },
   {
    "duration": 2,
    "start_time": "2022-11-06T07:13:08.587Z"
   },
   {
    "duration": 49,
    "start_time": "2022-11-06T07:13:10.605Z"
   },
   {
    "duration": 24,
    "start_time": "2022-11-06T07:13:11.597Z"
   },
   {
    "duration": 14,
    "start_time": "2022-11-06T07:13:13.918Z"
   },
   {
    "duration": 15,
    "start_time": "2022-11-06T07:13:16.318Z"
   },
   {
    "duration": 24,
    "start_time": "2022-11-06T07:13:19.359Z"
   },
   {
    "duration": 5,
    "start_time": "2022-11-06T07:13:24.084Z"
   },
   {
    "duration": 7,
    "start_time": "2022-11-06T07:13:27.117Z"
   },
   {
    "duration": 13,
    "start_time": "2022-11-06T07:13:28.044Z"
   },
   {
    "duration": 9,
    "start_time": "2022-11-06T07:13:31.477Z"
   },
   {
    "duration": 18,
    "start_time": "2022-11-06T07:13:39.807Z"
   },
   {
    "duration": 5,
    "start_time": "2022-11-06T07:13:41.071Z"
   },
   {
    "duration": 238,
    "start_time": "2022-11-06T07:13:50.474Z"
   },
   {
    "duration": 34,
    "start_time": "2022-11-06T07:13:54.423Z"
   },
   {
    "duration": 24,
    "start_time": "2022-11-06T07:14:07.583Z"
   },
   {
    "duration": 241,
    "start_time": "2022-11-06T07:14:12.365Z"
   },
   {
    "duration": 23,
    "start_time": "2022-11-06T07:14:32.779Z"
   },
   {
    "duration": 420,
    "start_time": "2022-11-06T07:14:47.285Z"
   },
   {
    "duration": 52,
    "start_time": "2022-11-06T07:14:47.706Z"
   },
   {
    "duration": 31,
    "start_time": "2022-11-06T07:14:47.760Z"
   },
   {
    "duration": 15,
    "start_time": "2022-11-06T07:14:47.794Z"
   },
   {
    "duration": 14,
    "start_time": "2022-11-06T07:14:47.810Z"
   },
   {
    "duration": 25,
    "start_time": "2022-11-06T07:14:47.825Z"
   },
   {
    "duration": 4,
    "start_time": "2022-11-06T07:14:47.852Z"
   },
   {
    "duration": 36,
    "start_time": "2022-11-06T07:14:47.858Z"
   },
   {
    "duration": 14,
    "start_time": "2022-11-06T07:14:47.896Z"
   },
   {
    "duration": 9,
    "start_time": "2022-11-06T07:14:47.913Z"
   },
   {
    "duration": 18,
    "start_time": "2022-11-06T07:14:47.924Z"
   },
   {
    "duration": 4,
    "start_time": "2022-11-06T07:14:47.944Z"
   },
   {
    "duration": 511,
    "start_time": "2022-11-06T07:14:47.949Z"
   },
   {
    "duration": 35,
    "start_time": "2022-11-06T07:14:48.461Z"
   },
   {
    "duration": 241,
    "start_time": "2022-11-06T07:14:48.498Z"
   },
   {
    "duration": 23,
    "start_time": "2022-11-06T07:14:48.740Z"
   },
   {
    "duration": 31,
    "start_time": "2022-11-06T07:14:48.764Z"
   },
   {
    "duration": 267,
    "start_time": "2022-11-06T07:14:48.796Z"
   },
   {
    "duration": 239,
    "start_time": "2022-11-06T07:14:49.065Z"
   },
   {
    "duration": 230,
    "start_time": "2022-11-06T07:14:49.305Z"
   },
   {
    "duration": 255,
    "start_time": "2022-11-06T07:14:49.537Z"
   },
   {
    "duration": 239,
    "start_time": "2022-11-06T07:14:49.794Z"
   },
   {
    "duration": 231,
    "start_time": "2022-11-06T07:14:50.035Z"
   },
   {
    "duration": 6,
    "start_time": "2022-11-06T07:14:50.268Z"
   },
   {
    "duration": 25,
    "start_time": "2022-11-06T07:14:50.276Z"
   },
   {
    "duration": 320,
    "start_time": "2022-11-06T07:14:50.303Z"
   },
   {
    "duration": 235,
    "start_time": "2022-11-06T07:14:50.625Z"
   },
   {
    "duration": 232,
    "start_time": "2022-11-06T07:14:50.864Z"
   },
   {
    "duration": 209,
    "start_time": "2022-11-06T07:14:51.098Z"
   },
   {
    "duration": 227,
    "start_time": "2022-11-06T07:14:51.309Z"
   },
   {
    "duration": 316,
    "start_time": "2022-11-06T07:14:51.537Z"
   },
   {
    "duration": 223,
    "start_time": "2022-11-06T07:14:51.854Z"
   },
   {
    "duration": 223,
    "start_time": "2022-11-06T07:14:52.078Z"
   },
   {
    "duration": 244,
    "start_time": "2022-11-06T07:14:52.302Z"
   },
   {
    "duration": 235,
    "start_time": "2022-11-06T07:14:52.548Z"
   },
   {
    "duration": 126,
    "start_time": "2022-11-06T07:14:52.785Z"
   },
   {
    "duration": 116,
    "start_time": "2022-11-06T07:14:52.912Z"
   },
   {
    "duration": 130,
    "start_time": "2022-11-06T07:14:53.030Z"
   },
   {
    "duration": 248,
    "start_time": "2022-11-06T07:14:53.162Z"
   },
   {
    "duration": 6,
    "start_time": "2022-11-06T07:14:53.412Z"
   },
   {
    "duration": 21,
    "start_time": "2022-11-06T07:14:53.419Z"
   },
   {
    "duration": 151,
    "start_time": "2022-11-06T07:14:53.442Z"
   },
   {
    "duration": 11,
    "start_time": "2022-11-06T07:14:53.595Z"
   },
   {
    "duration": 144,
    "start_time": "2022-11-06T07:14:53.607Z"
   },
   {
    "duration": 11,
    "start_time": "2022-11-06T07:14:53.753Z"
   },
   {
    "duration": 171,
    "start_time": "2022-11-06T07:14:53.765Z"
   },
   {
    "duration": 11,
    "start_time": "2022-11-06T07:14:53.937Z"
   },
   {
    "duration": 146,
    "start_time": "2022-11-06T07:14:53.949Z"
   },
   {
    "duration": 10,
    "start_time": "2022-11-06T07:14:54.096Z"
   },
   {
    "duration": 162,
    "start_time": "2022-11-06T07:14:54.107Z"
   },
   {
    "duration": 20,
    "start_time": "2022-11-06T07:14:54.271Z"
   },
   {
    "duration": 150,
    "start_time": "2022-11-06T07:14:54.292Z"
   },
   {
    "duration": 20,
    "start_time": "2022-11-06T07:14:54.444Z"
   },
   {
    "duration": 149,
    "start_time": "2022-11-06T07:14:54.465Z"
   },
   {
    "duration": 10,
    "start_time": "2022-11-06T07:14:54.616Z"
   },
   {
    "duration": 135,
    "start_time": "2022-11-06T07:14:54.628Z"
   },
   {
    "duration": 9,
    "start_time": "2022-11-06T07:14:54.765Z"
   },
   {
    "duration": 25,
    "start_time": "2022-11-06T07:14:54.776Z"
   },
   {
    "duration": 3,
    "start_time": "2022-11-06T07:14:54.802Z"
   },
   {
    "duration": 9,
    "start_time": "2022-11-06T07:14:54.807Z"
   },
   {
    "duration": 24,
    "start_time": "2022-11-06T07:15:23.386Z"
   },
   {
    "duration": 24,
    "start_time": "2022-11-06T07:15:28.587Z"
   },
   {
    "duration": 433,
    "start_time": "2022-11-06T07:15:42.351Z"
   },
   {
    "duration": 53,
    "start_time": "2022-11-06T07:15:42.790Z"
   },
   {
    "duration": 33,
    "start_time": "2022-11-06T07:15:42.845Z"
   },
   {
    "duration": 16,
    "start_time": "2022-11-06T07:15:42.881Z"
   },
   {
    "duration": 15,
    "start_time": "2022-11-06T07:15:42.899Z"
   },
   {
    "duration": 26,
    "start_time": "2022-11-06T07:15:42.916Z"
   },
   {
    "duration": 6,
    "start_time": "2022-11-06T07:15:42.944Z"
   },
   {
    "duration": 39,
    "start_time": "2022-11-06T07:15:42.952Z"
   },
   {
    "duration": 14,
    "start_time": "2022-11-06T07:15:42.993Z"
   },
   {
    "duration": 12,
    "start_time": "2022-11-06T07:15:43.011Z"
   },
   {
    "duration": 26,
    "start_time": "2022-11-06T07:15:43.025Z"
   },
   {
    "duration": 38,
    "start_time": "2022-11-06T07:15:43.054Z"
   },
   {
    "duration": 513,
    "start_time": "2022-11-06T07:15:43.094Z"
   },
   {
    "duration": 27,
    "start_time": "2022-11-06T07:15:43.609Z"
   },
   {
    "duration": 295,
    "start_time": "2022-11-06T07:15:43.639Z"
   },
   {
    "duration": 25,
    "start_time": "2022-11-06T07:15:43.936Z"
   },
   {
    "duration": 34,
    "start_time": "2022-11-06T07:15:43.962Z"
   },
   {
    "duration": 309,
    "start_time": "2022-11-06T07:15:43.997Z"
   },
   {
    "duration": 293,
    "start_time": "2022-11-06T07:15:44.308Z"
   },
   {
    "duration": 262,
    "start_time": "2022-11-06T07:15:44.603Z"
   },
   {
    "duration": 262,
    "start_time": "2022-11-06T07:15:44.867Z"
   },
   {
    "duration": 233,
    "start_time": "2022-11-06T07:15:45.130Z"
   },
   {
    "duration": 247,
    "start_time": "2022-11-06T07:15:45.365Z"
   },
   {
    "duration": 5,
    "start_time": "2022-11-06T07:15:45.614Z"
   },
   {
    "duration": 15,
    "start_time": "2022-11-06T07:15:45.621Z"
   },
   {
    "duration": 355,
    "start_time": "2022-11-06T07:15:45.638Z"
   },
   {
    "duration": 259,
    "start_time": "2022-11-06T07:15:45.995Z"
   },
   {
    "duration": 334,
    "start_time": "2022-11-06T07:15:46.258Z"
   },
   {
    "duration": 310,
    "start_time": "2022-11-06T07:15:46.594Z"
   },
   {
    "duration": 274,
    "start_time": "2022-11-06T07:15:46.906Z"
   },
   {
    "duration": 359,
    "start_time": "2022-11-06T07:15:47.182Z"
   },
   {
    "duration": 236,
    "start_time": "2022-11-06T07:15:47.543Z"
   },
   {
    "duration": 260,
    "start_time": "2022-11-06T07:15:47.780Z"
   },
   {
    "duration": 232,
    "start_time": "2022-11-06T07:15:48.041Z"
   },
   {
    "duration": 252,
    "start_time": "2022-11-06T07:15:48.274Z"
   },
   {
    "duration": 128,
    "start_time": "2022-11-06T07:15:48.528Z"
   },
   {
    "duration": 125,
    "start_time": "2022-11-06T07:15:48.658Z"
   },
   {
    "duration": 140,
    "start_time": "2022-11-06T07:15:48.784Z"
   },
   {
    "duration": 260,
    "start_time": "2022-11-06T07:15:48.926Z"
   },
   {
    "duration": 7,
    "start_time": "2022-11-06T07:15:49.190Z"
   },
   {
    "duration": 9,
    "start_time": "2022-11-06T07:15:49.198Z"
   },
   {
    "duration": 168,
    "start_time": "2022-11-06T07:15:49.209Z"
   },
   {
    "duration": 19,
    "start_time": "2022-11-06T07:15:49.379Z"
   },
   {
    "duration": 145,
    "start_time": "2022-11-06T07:15:49.400Z"
   },
   {
    "duration": 11,
    "start_time": "2022-11-06T07:15:49.547Z"
   },
   {
    "duration": 190,
    "start_time": "2022-11-06T07:15:49.559Z"
   },
   {
    "duration": 10,
    "start_time": "2022-11-06T07:15:49.750Z"
   },
   {
    "duration": 154,
    "start_time": "2022-11-06T07:15:49.761Z"
   },
   {
    "duration": 10,
    "start_time": "2022-11-06T07:15:49.917Z"
   },
   {
    "duration": 172,
    "start_time": "2022-11-06T07:15:49.929Z"
   },
   {
    "duration": 10,
    "start_time": "2022-11-06T07:15:50.102Z"
   },
   {
    "duration": 144,
    "start_time": "2022-11-06T07:15:50.114Z"
   },
   {
    "duration": 11,
    "start_time": "2022-11-06T07:15:50.260Z"
   },
   {
    "duration": 206,
    "start_time": "2022-11-06T07:15:50.273Z"
   },
   {
    "duration": 15,
    "start_time": "2022-11-06T07:15:50.481Z"
   },
   {
    "duration": 138,
    "start_time": "2022-11-06T07:15:50.498Z"
   },
   {
    "duration": 10,
    "start_time": "2022-11-06T07:15:50.638Z"
   },
   {
    "duration": 16,
    "start_time": "2022-11-06T07:15:50.649Z"
   },
   {
    "duration": 3,
    "start_time": "2022-11-06T07:15:50.667Z"
   },
   {
    "duration": 11,
    "start_time": "2022-11-06T07:15:50.691Z"
   },
   {
    "duration": 417,
    "start_time": "2022-11-06T07:16:23.646Z"
   },
   {
    "duration": 50,
    "start_time": "2022-11-06T07:16:24.065Z"
   },
   {
    "duration": 44,
    "start_time": "2022-11-06T07:16:24.117Z"
   },
   {
    "duration": 34,
    "start_time": "2022-11-06T07:16:24.164Z"
   },
   {
    "duration": 14,
    "start_time": "2022-11-06T07:16:24.200Z"
   },
   {
    "duration": 29,
    "start_time": "2022-11-06T07:16:24.216Z"
   },
   {
    "duration": 8,
    "start_time": "2022-11-06T07:16:24.247Z"
   },
   {
    "duration": 41,
    "start_time": "2022-11-06T07:16:24.257Z"
   },
   {
    "duration": 14,
    "start_time": "2022-11-06T07:16:24.300Z"
   },
   {
    "duration": 10,
    "start_time": "2022-11-06T07:16:24.319Z"
   },
   {
    "duration": 21,
    "start_time": "2022-11-06T07:16:24.331Z"
   },
   {
    "duration": 4,
    "start_time": "2022-11-06T07:16:24.354Z"
   },
   {
    "duration": 529,
    "start_time": "2022-11-06T07:16:24.390Z"
   },
   {
    "duration": 273,
    "start_time": "2022-11-06T07:16:24.921Z"
   },
   {
    "duration": 42,
    "start_time": "2022-11-06T07:16:25.196Z"
   },
   {
    "duration": 21,
    "start_time": "2022-11-06T07:16:25.240Z"
   },
   {
    "duration": 318,
    "start_time": "2022-11-06T07:16:25.263Z"
   },
   {
    "duration": 241,
    "start_time": "2022-11-06T07:16:25.582Z"
   },
   {
    "duration": 249,
    "start_time": "2022-11-06T07:16:25.825Z"
   },
   {
    "duration": 250,
    "start_time": "2022-11-06T07:16:26.076Z"
   },
   {
    "duration": 292,
    "start_time": "2022-11-06T07:16:26.328Z"
   },
   {
    "duration": 276,
    "start_time": "2022-11-06T07:16:26.623Z"
   },
   {
    "duration": 6,
    "start_time": "2022-11-06T07:16:26.901Z"
   },
   {
    "duration": 35,
    "start_time": "2022-11-06T07:16:26.909Z"
   },
   {
    "duration": 340,
    "start_time": "2022-11-06T07:16:26.946Z"
   },
   {
    "duration": 273,
    "start_time": "2022-11-06T07:16:27.291Z"
   },
   {
    "duration": 246,
    "start_time": "2022-11-06T07:16:27.566Z"
   },
   {
    "duration": 287,
    "start_time": "2022-11-06T07:16:27.815Z"
   },
   {
    "duration": 261,
    "start_time": "2022-11-06T07:16:28.104Z"
   },
   {
    "duration": 442,
    "start_time": "2022-11-06T07:16:28.368Z"
   },
   {
    "duration": 271,
    "start_time": "2022-11-06T07:16:28.811Z"
   },
   {
    "duration": 252,
    "start_time": "2022-11-06T07:16:29.084Z"
   },
   {
    "duration": 316,
    "start_time": "2022-11-06T07:16:29.339Z"
   },
   {
    "duration": 246,
    "start_time": "2022-11-06T07:16:29.658Z"
   },
   {
    "duration": 136,
    "start_time": "2022-11-06T07:16:29.906Z"
   },
   {
    "duration": 136,
    "start_time": "2022-11-06T07:16:30.044Z"
   },
   {
    "duration": 142,
    "start_time": "2022-11-06T07:16:30.182Z"
   },
   {
    "duration": 298,
    "start_time": "2022-11-06T07:16:30.326Z"
   },
   {
    "duration": 7,
    "start_time": "2022-11-06T07:16:30.626Z"
   },
   {
    "duration": 30,
    "start_time": "2022-11-06T07:16:30.634Z"
   },
   {
    "duration": 229,
    "start_time": "2022-11-06T07:16:30.666Z"
   },
   {
    "duration": 12,
    "start_time": "2022-11-06T07:16:30.896Z"
   },
   {
    "duration": 300,
    "start_time": "2022-11-06T07:16:30.910Z"
   },
   {
    "duration": 12,
    "start_time": "2022-11-06T07:16:31.212Z"
   },
   {
    "duration": 177,
    "start_time": "2022-11-06T07:16:31.226Z"
   },
   {
    "duration": 11,
    "start_time": "2022-11-06T07:16:31.405Z"
   },
   {
    "duration": 164,
    "start_time": "2022-11-06T07:16:31.418Z"
   },
   {
    "duration": 18,
    "start_time": "2022-11-06T07:16:31.583Z"
   },
   {
    "duration": 146,
    "start_time": "2022-11-06T07:16:31.602Z"
   },
   {
    "duration": 11,
    "start_time": "2022-11-06T07:16:31.749Z"
   },
   {
    "duration": 144,
    "start_time": "2022-11-06T07:16:31.762Z"
   },
   {
    "duration": 13,
    "start_time": "2022-11-06T07:16:31.908Z"
   },
   {
    "duration": 164,
    "start_time": "2022-11-06T07:16:31.923Z"
   },
   {
    "duration": 11,
    "start_time": "2022-11-06T07:16:32.091Z"
   },
   {
    "duration": 138,
    "start_time": "2022-11-06T07:16:32.103Z"
   },
   {
    "duration": 11,
    "start_time": "2022-11-06T07:16:32.242Z"
   },
   {
    "duration": 15,
    "start_time": "2022-11-06T07:16:32.255Z"
   },
   {
    "duration": 4,
    "start_time": "2022-11-06T07:16:32.291Z"
   },
   {
    "duration": 41,
    "start_time": "2022-11-06T07:16:32.296Z"
   },
   {
    "duration": 44,
    "start_time": "2022-11-06T17:47:08.081Z"
   },
   {
    "duration": 389,
    "start_time": "2022-11-06T17:47:12.242Z"
   },
   {
    "duration": 195,
    "start_time": "2022-11-06T17:47:12.633Z"
   },
   {
    "duration": 29,
    "start_time": "2022-11-06T17:47:12.830Z"
   },
   {
    "duration": 14,
    "start_time": "2022-11-06T17:47:12.861Z"
   },
   {
    "duration": 13,
    "start_time": "2022-11-06T17:47:12.876Z"
   },
   {
    "duration": 45,
    "start_time": "2022-11-06T17:47:12.891Z"
   },
   {
    "duration": 5,
    "start_time": "2022-11-06T17:47:12.938Z"
   },
   {
    "duration": 16,
    "start_time": "2022-11-06T17:47:12.945Z"
   },
   {
    "duration": 15,
    "start_time": "2022-11-06T17:47:12.963Z"
   },
   {
    "duration": 10,
    "start_time": "2022-11-06T17:47:12.981Z"
   },
   {
    "duration": 34,
    "start_time": "2022-11-06T17:47:12.993Z"
   },
   {
    "duration": 27,
    "start_time": "2022-11-06T17:47:13.029Z"
   },
   {
    "duration": 606,
    "start_time": "2022-11-06T17:47:13.057Z"
   },
   {
    "duration": 277,
    "start_time": "2022-11-06T17:47:13.665Z"
   },
   {
    "duration": 25,
    "start_time": "2022-11-06T17:47:13.944Z"
   },
   {
    "duration": 84,
    "start_time": "2022-11-06T17:47:13.971Z"
   },
   {
    "duration": 271,
    "start_time": "2022-11-06T17:47:14.057Z"
   },
   {
    "duration": 218,
    "start_time": "2022-11-06T17:47:14.330Z"
   },
   {
    "duration": 225,
    "start_time": "2022-11-06T17:47:14.550Z"
   },
   {
    "duration": 218,
    "start_time": "2022-11-06T17:47:14.777Z"
   },
   {
    "duration": 221,
    "start_time": "2022-11-06T17:47:14.997Z"
   },
   {
    "duration": 296,
    "start_time": "2022-11-06T17:47:15.222Z"
   },
   {
    "duration": 5,
    "start_time": "2022-11-06T17:47:15.521Z"
   },
   {
    "duration": 18,
    "start_time": "2022-11-06T17:47:15.528Z"
   },
   {
    "duration": 267,
    "start_time": "2022-11-06T17:47:15.547Z"
   },
   {
    "duration": 251,
    "start_time": "2022-11-06T17:47:15.816Z"
   },
   {
    "duration": 251,
    "start_time": "2022-11-06T17:47:16.069Z"
   },
   {
    "duration": 264,
    "start_time": "2022-11-06T17:47:16.323Z"
   },
   {
    "duration": 256,
    "start_time": "2022-11-06T17:47:16.589Z"
   },
   {
    "duration": 325,
    "start_time": "2022-11-06T17:47:16.847Z"
   },
   {
    "duration": 236,
    "start_time": "2022-11-06T17:47:17.174Z"
   },
   {
    "duration": 219,
    "start_time": "2022-11-06T17:47:17.412Z"
   },
   {
    "duration": 228,
    "start_time": "2022-11-06T17:47:17.633Z"
   },
   {
    "duration": 225,
    "start_time": "2022-11-06T17:47:17.864Z"
   },
   {
    "duration": 112,
    "start_time": "2022-11-06T17:47:18.090Z"
   },
   {
    "duration": 226,
    "start_time": "2022-11-06T17:47:18.204Z"
   },
   {
    "duration": 148,
    "start_time": "2022-11-06T17:47:18.433Z"
   },
   {
    "duration": 121,
    "start_time": "2022-11-06T17:47:18.583Z"
   },
   {
    "duration": 6,
    "start_time": "2022-11-06T17:47:18.705Z"
   },
   {
    "duration": 13,
    "start_time": "2022-11-06T17:47:18.712Z"
   },
   {
    "duration": 145,
    "start_time": "2022-11-06T17:47:18.726Z"
   },
   {
    "duration": 9,
    "start_time": "2022-11-06T17:47:18.872Z"
   },
   {
    "duration": 129,
    "start_time": "2022-11-06T17:47:18.883Z"
   },
   {
    "duration": 9,
    "start_time": "2022-11-06T17:47:19.021Z"
   },
   {
    "duration": 150,
    "start_time": "2022-11-06T17:47:19.032Z"
   },
   {
    "duration": 8,
    "start_time": "2022-11-06T17:47:19.184Z"
   },
   {
    "duration": 131,
    "start_time": "2022-11-06T17:47:19.193Z"
   },
   {
    "duration": 9,
    "start_time": "2022-11-06T17:47:19.325Z"
   },
   {
    "duration": 146,
    "start_time": "2022-11-06T17:47:19.335Z"
   },
   {
    "duration": 9,
    "start_time": "2022-11-06T17:47:19.482Z"
   },
   {
    "duration": 135,
    "start_time": "2022-11-06T17:47:19.492Z"
   },
   {
    "duration": 9,
    "start_time": "2022-11-06T17:47:19.629Z"
   },
   {
    "duration": 147,
    "start_time": "2022-11-06T17:47:19.640Z"
   },
   {
    "duration": 9,
    "start_time": "2022-11-06T17:47:19.789Z"
   },
   {
    "duration": 122,
    "start_time": "2022-11-06T17:47:19.799Z"
   },
   {
    "duration": 9,
    "start_time": "2022-11-06T17:47:19.923Z"
   },
   {
    "duration": 59,
    "start_time": "2022-11-06T17:47:19.934Z"
   },
   {
    "duration": 3,
    "start_time": "2022-11-06T17:47:19.994Z"
   },
   {
    "duration": 11,
    "start_time": "2022-11-06T17:47:19.998Z"
   },
   {
    "duration": 70,
    "start_time": "2022-11-06T17:47:20.010Z"
   },
   {
    "duration": 18,
    "start_time": "2022-11-06T17:47:25.801Z"
   },
   {
    "duration": 9,
    "start_time": "2022-11-06T17:47:51.407Z"
   },
   {
    "duration": 16,
    "start_time": "2022-11-06T17:48:28.337Z"
   },
   {
    "duration": 18,
    "start_time": "2022-11-06T17:48:53.385Z"
   },
   {
    "duration": 10,
    "start_time": "2022-11-06T17:59:17.159Z"
   },
   {
    "duration": 11,
    "start_time": "2022-11-06T17:59:44.175Z"
   },
   {
    "duration": 17,
    "start_time": "2022-11-06T18:00:03.080Z"
   },
   {
    "duration": 13,
    "start_time": "2022-11-06T18:01:11.168Z"
   },
   {
    "duration": 13,
    "start_time": "2022-11-06T18:01:35.303Z"
   },
   {
    "duration": 16,
    "start_time": "2022-11-06T18:01:57.523Z"
   },
   {
    "duration": 22,
    "start_time": "2022-11-06T18:02:12.856Z"
   },
   {
    "duration": 13,
    "start_time": "2022-11-06T18:04:09.899Z"
   },
   {
    "duration": 18,
    "start_time": "2022-11-06T18:04:19.757Z"
   },
   {
    "duration": 18,
    "start_time": "2022-11-06T18:04:30.943Z"
   },
   {
    "duration": 14,
    "start_time": "2022-11-06T18:04:57.191Z"
   },
   {
    "duration": 14,
    "start_time": "2022-11-06T18:05:01.140Z"
   },
   {
    "duration": 16,
    "start_time": "2022-11-06T18:05:03.712Z"
   },
   {
    "duration": 13,
    "start_time": "2022-11-06T18:05:21.347Z"
   },
   {
    "duration": 13,
    "start_time": "2022-11-06T18:05:27.174Z"
   },
   {
    "duration": 18,
    "start_time": "2022-11-06T18:05:35.217Z"
   },
   {
    "duration": 18,
    "start_time": "2022-11-06T18:05:38.616Z"
   },
   {
    "duration": 16,
    "start_time": "2022-11-06T18:13:34.171Z"
   },
   {
    "duration": 17,
    "start_time": "2022-11-06T18:25:45.838Z"
   },
   {
    "duration": 16,
    "start_time": "2022-11-06T18:26:01.676Z"
   },
   {
    "duration": 17,
    "start_time": "2022-11-06T18:26:25.257Z"
   },
   {
    "duration": 14,
    "start_time": "2022-11-06T18:27:19.263Z"
   },
   {
    "duration": 14,
    "start_time": "2022-11-06T18:27:22.467Z"
   },
   {
    "duration": 66,
    "start_time": "2022-11-06T18:28:17.075Z"
   },
   {
    "duration": 427,
    "start_time": "2022-11-07T08:41:31.062Z"
   },
   {
    "duration": 199,
    "start_time": "2022-11-07T08:41:31.491Z"
   },
   {
    "duration": 29,
    "start_time": "2022-11-07T08:41:31.692Z"
   },
   {
    "duration": 40,
    "start_time": "2022-11-07T08:41:31.722Z"
   },
   {
    "duration": 38,
    "start_time": "2022-11-07T08:41:31.764Z"
   },
   {
    "duration": 36,
    "start_time": "2022-11-07T08:41:31.804Z"
   },
   {
    "duration": 4,
    "start_time": "2022-11-07T08:41:31.842Z"
   },
   {
    "duration": 25,
    "start_time": "2022-11-07T08:41:31.847Z"
   },
   {
    "duration": 48,
    "start_time": "2022-11-07T08:41:31.873Z"
   },
   {
    "duration": 43,
    "start_time": "2022-11-07T08:41:31.923Z"
   },
   {
    "duration": 29,
    "start_time": "2022-11-07T08:41:31.967Z"
   },
   {
    "duration": 29,
    "start_time": "2022-11-07T08:41:31.997Z"
   },
   {
    "duration": 622,
    "start_time": "2022-11-07T08:41:32.027Z"
   },
   {
    "duration": 260,
    "start_time": "2022-11-07T08:41:32.654Z"
   },
   {
    "duration": 29,
    "start_time": "2022-11-07T08:41:32.916Z"
   },
   {
    "duration": 81,
    "start_time": "2022-11-07T08:41:32.947Z"
   },
   {
    "duration": 217,
    "start_time": "2022-11-07T08:41:33.029Z"
   },
   {
    "duration": 245,
    "start_time": "2022-11-07T08:41:33.247Z"
   },
   {
    "duration": 224,
    "start_time": "2022-11-07T08:41:33.494Z"
   },
   {
    "duration": 227,
    "start_time": "2022-11-07T08:41:33.719Z"
   },
   {
    "duration": 227,
    "start_time": "2022-11-07T08:41:33.948Z"
   },
   {
    "duration": 284,
    "start_time": "2022-11-07T08:41:34.177Z"
   },
   {
    "duration": 14,
    "start_time": "2022-11-07T08:41:34.463Z"
   },
   {
    "duration": 13,
    "start_time": "2022-11-07T08:41:34.478Z"
   },
   {
    "duration": 233,
    "start_time": "2022-11-07T08:41:34.492Z"
   },
   {
    "duration": 219,
    "start_time": "2022-11-07T08:41:34.726Z"
   },
   {
    "duration": 218,
    "start_time": "2022-11-07T08:41:34.946Z"
   },
   {
    "duration": 223,
    "start_time": "2022-11-07T08:41:35.165Z"
   },
   {
    "duration": 225,
    "start_time": "2022-11-07T08:41:35.390Z"
   },
   {
    "duration": 320,
    "start_time": "2022-11-07T08:41:35.617Z"
   },
   {
    "duration": 218,
    "start_time": "2022-11-07T08:41:35.939Z"
   },
   {
    "duration": 229,
    "start_time": "2022-11-07T08:41:36.158Z"
   },
   {
    "duration": 230,
    "start_time": "2022-11-07T08:41:36.389Z"
   },
   {
    "duration": 207,
    "start_time": "2022-11-07T08:41:36.621Z"
   },
   {
    "duration": 115,
    "start_time": "2022-11-07T08:41:36.829Z"
   },
   {
    "duration": 216,
    "start_time": "2022-11-07T08:41:36.945Z"
   },
   {
    "duration": 131,
    "start_time": "2022-11-07T08:41:37.163Z"
   },
   {
    "duration": 117,
    "start_time": "2022-11-07T08:41:37.296Z"
   },
   {
    "duration": 5,
    "start_time": "2022-11-07T08:41:37.415Z"
   },
   {
    "duration": 8,
    "start_time": "2022-11-07T08:41:37.422Z"
   },
   {
    "duration": 162,
    "start_time": "2022-11-07T08:41:37.433Z"
   },
   {
    "duration": 9,
    "start_time": "2022-11-07T08:41:37.596Z"
   },
   {
    "duration": 160,
    "start_time": "2022-11-07T08:41:37.607Z"
   },
   {
    "duration": 15,
    "start_time": "2022-11-07T08:41:37.769Z"
   },
   {
    "duration": 177,
    "start_time": "2022-11-07T08:41:37.786Z"
   },
   {
    "duration": 17,
    "start_time": "2022-11-07T08:41:37.964Z"
   },
   {
    "duration": 135,
    "start_time": "2022-11-07T08:41:37.983Z"
   },
   {
    "duration": 9,
    "start_time": "2022-11-07T08:41:38.120Z"
   },
   {
    "duration": 147,
    "start_time": "2022-11-07T08:41:38.131Z"
   },
   {
    "duration": 9,
    "start_time": "2022-11-07T08:41:38.280Z"
   },
   {
    "duration": 141,
    "start_time": "2022-11-07T08:41:38.291Z"
   },
   {
    "duration": 9,
    "start_time": "2022-11-07T08:41:38.434Z"
   },
   {
    "duration": 154,
    "start_time": "2022-11-07T08:41:38.445Z"
   },
   {
    "duration": 10,
    "start_time": "2022-11-07T08:41:38.601Z"
   },
   {
    "duration": 132,
    "start_time": "2022-11-07T08:41:38.613Z"
   },
   {
    "duration": 9,
    "start_time": "2022-11-07T08:41:38.747Z"
   },
   {
    "duration": 26,
    "start_time": "2022-11-07T08:41:38.757Z"
   },
   {
    "duration": 2,
    "start_time": "2022-11-07T08:41:38.785Z"
   },
   {
    "duration": 12,
    "start_time": "2022-11-07T08:41:38.789Z"
   },
   {
    "duration": 14,
    "start_time": "2022-11-07T08:41:38.803Z"
   },
   {
    "duration": 19,
    "start_time": "2022-11-07T08:41:38.819Z"
   },
   {
    "duration": 12,
    "start_time": "2022-11-07T08:41:38.840Z"
   },
   {
    "duration": 26,
    "start_time": "2022-11-07T08:41:38.854Z"
   },
   {
    "duration": 16,
    "start_time": "2022-11-07T08:41:38.882Z"
   },
   {
    "duration": 13,
    "start_time": "2022-11-07T08:41:38.899Z"
   },
   {
    "duration": 15,
    "start_time": "2022-11-07T08:57:49.348Z"
   },
   {
    "duration": 15,
    "start_time": "2022-11-07T09:01:11.608Z"
   },
   {
    "duration": 17,
    "start_time": "2022-11-07T09:01:32.056Z"
   },
   {
    "duration": 75,
    "start_time": "2022-11-07T09:02:06.792Z"
   },
   {
    "duration": 14,
    "start_time": "2022-11-07T09:02:20.909Z"
   },
   {
    "duration": 15,
    "start_time": "2022-11-07T09:02:30.066Z"
   },
   {
    "duration": 17,
    "start_time": "2022-11-07T09:02:43.405Z"
   },
   {
    "duration": 16,
    "start_time": "2022-11-07T09:03:07.852Z"
   },
   {
    "duration": 14,
    "start_time": "2022-11-07T09:03:26.080Z"
   },
   {
    "duration": 389,
    "start_time": "2022-11-07T09:48:31.377Z"
   },
   {
    "duration": 8,
    "start_time": "2022-11-07T09:48:53.146Z"
   },
   {
    "duration": 8,
    "start_time": "2022-11-07T09:49:23.516Z"
   },
   {
    "duration": 8,
    "start_time": "2022-11-07T09:50:11.916Z"
   },
   {
    "duration": 8,
    "start_time": "2022-11-07T09:51:48.333Z"
   },
   {
    "duration": 7,
    "start_time": "2022-11-07T10:13:40.852Z"
   },
   {
    "duration": 377,
    "start_time": "2022-11-08T12:12:44.271Z"
   },
   {
    "duration": 87,
    "start_time": "2022-11-08T12:12:44.650Z"
   },
   {
    "duration": 30,
    "start_time": "2022-11-08T12:12:44.738Z"
   },
   {
    "duration": 14,
    "start_time": "2022-11-08T12:12:44.770Z"
   },
   {
    "duration": 12,
    "start_time": "2022-11-08T12:12:44.785Z"
   },
   {
    "duration": 46,
    "start_time": "2022-11-08T12:12:44.798Z"
   },
   {
    "duration": 5,
    "start_time": "2022-11-08T12:12:44.845Z"
   },
   {
    "duration": 15,
    "start_time": "2022-11-08T12:12:44.851Z"
   },
   {
    "duration": 22,
    "start_time": "2022-11-08T12:12:44.868Z"
   },
   {
    "duration": 36,
    "start_time": "2022-11-08T12:12:44.894Z"
   },
   {
    "duration": 19,
    "start_time": "2022-11-08T12:12:44.932Z"
   },
   {
    "duration": 10,
    "start_time": "2022-11-08T12:12:44.952Z"
   },
   {
    "duration": 692,
    "start_time": "2022-11-08T12:12:44.963Z"
   },
   {
    "duration": 294,
    "start_time": "2022-11-08T12:12:45.659Z"
   },
   {
    "duration": 27,
    "start_time": "2022-11-08T12:12:45.954Z"
   },
   {
    "duration": 86,
    "start_time": "2022-11-08T12:12:45.982Z"
   },
   {
    "duration": 231,
    "start_time": "2022-11-08T12:12:46.070Z"
   },
   {
    "duration": 240,
    "start_time": "2022-11-08T12:12:46.302Z"
   },
   {
    "duration": 230,
    "start_time": "2022-11-08T12:12:46.543Z"
   },
   {
    "duration": 215,
    "start_time": "2022-11-08T12:12:46.775Z"
   },
   {
    "duration": 223,
    "start_time": "2022-11-08T12:12:46.991Z"
   },
   {
    "duration": 305,
    "start_time": "2022-11-08T12:12:47.216Z"
   },
   {
    "duration": 8,
    "start_time": "2022-11-08T12:12:47.523Z"
   },
   {
    "duration": 20,
    "start_time": "2022-11-08T12:12:47.533Z"
   },
   {
    "duration": 268,
    "start_time": "2022-11-08T12:12:47.555Z"
   },
   {
    "duration": 268,
    "start_time": "2022-11-08T12:12:47.825Z"
   },
   {
    "duration": 236,
    "start_time": "2022-11-08T12:12:48.094Z"
   },
   {
    "duration": 218,
    "start_time": "2022-11-08T12:12:48.334Z"
   },
   {
    "duration": 218,
    "start_time": "2022-11-08T12:12:48.553Z"
   },
   {
    "duration": 368,
    "start_time": "2022-11-08T12:12:48.772Z"
   },
   {
    "duration": 253,
    "start_time": "2022-11-08T12:12:49.142Z"
   },
   {
    "duration": 252,
    "start_time": "2022-11-08T12:12:49.397Z"
   },
   {
    "duration": 300,
    "start_time": "2022-11-08T12:12:49.651Z"
   },
   {
    "duration": 249,
    "start_time": "2022-11-08T12:12:49.953Z"
   },
   {
    "duration": 139,
    "start_time": "2022-11-08T12:12:50.204Z"
   },
   {
    "duration": 259,
    "start_time": "2022-11-08T12:12:50.345Z"
   },
   {
    "duration": 193,
    "start_time": "2022-11-08T12:12:50.606Z"
   },
   {
    "duration": 199,
    "start_time": "2022-11-08T12:12:50.802Z"
   },
   {
    "duration": 7,
    "start_time": "2022-11-08T12:12:51.003Z"
   },
   {
    "duration": 17,
    "start_time": "2022-11-08T12:12:51.012Z"
   },
   {
    "duration": 173,
    "start_time": "2022-11-08T12:12:51.031Z"
   },
   {
    "duration": 10,
    "start_time": "2022-11-08T12:12:51.205Z"
   },
   {
    "duration": 139,
    "start_time": "2022-11-08T12:12:51.225Z"
   },
   {
    "duration": 10,
    "start_time": "2022-11-08T12:12:51.366Z"
   },
   {
    "duration": 184,
    "start_time": "2022-11-08T12:12:51.378Z"
   },
   {
    "duration": 13,
    "start_time": "2022-11-08T12:12:51.564Z"
   },
   {
    "duration": 180,
    "start_time": "2022-11-08T12:12:51.578Z"
   },
   {
    "duration": 13,
    "start_time": "2022-11-08T12:12:51.760Z"
   },
   {
    "duration": 144,
    "start_time": "2022-11-08T12:12:51.774Z"
   },
   {
    "duration": 15,
    "start_time": "2022-11-08T12:12:51.920Z"
   },
   {
    "duration": 150,
    "start_time": "2022-11-08T12:12:51.937Z"
   },
   {
    "duration": 10,
    "start_time": "2022-11-08T12:12:52.090Z"
   },
   {
    "duration": 172,
    "start_time": "2022-11-08T12:12:52.101Z"
   },
   {
    "duration": 10,
    "start_time": "2022-11-08T12:12:52.275Z"
   },
   {
    "duration": 125,
    "start_time": "2022-11-08T12:12:52.286Z"
   },
   {
    "duration": 17,
    "start_time": "2022-11-08T12:12:52.413Z"
   },
   {
    "duration": 20,
    "start_time": "2022-11-08T12:12:52.432Z"
   },
   {
    "duration": 4,
    "start_time": "2022-11-08T12:12:52.454Z"
   },
   {
    "duration": 13,
    "start_time": "2022-11-08T12:12:52.460Z"
   },
   {
    "duration": 22,
    "start_time": "2022-11-08T12:12:52.475Z"
   },
   {
    "duration": 24,
    "start_time": "2022-11-08T12:12:52.498Z"
   },
   {
    "duration": 17,
    "start_time": "2022-11-08T12:12:52.524Z"
   },
   {
    "duration": 16,
    "start_time": "2022-11-08T12:12:52.543Z"
   },
   {
    "duration": 15,
    "start_time": "2022-11-08T12:12:52.560Z"
   },
   {
    "duration": 13,
    "start_time": "2022-11-08T12:12:52.576Z"
   },
   {
    "duration": 18,
    "start_time": "2022-11-08T12:12:52.590Z"
   },
   {
    "duration": 13,
    "start_time": "2022-11-08T12:12:52.627Z"
   },
   {
    "duration": 26,
    "start_time": "2022-11-08T12:12:52.641Z"
   },
   {
    "duration": 434,
    "start_time": "2022-11-08T12:12:52.669Z"
   },
   {
    "duration": 7,
    "start_time": "2022-11-08T12:12:53.105Z"
   },
   {
    "duration": 43,
    "start_time": "2022-11-08T12:51:39.068Z"
   },
   {
    "duration": 6,
    "start_time": "2022-11-08T13:38:19.235Z"
   },
   {
    "duration": 1339,
    "start_time": "2022-11-08T13:38:27.709Z"
   },
   {
    "duration": 178,
    "start_time": "2022-11-08T13:38:29.051Z"
   },
   {
    "duration": 31,
    "start_time": "2022-11-08T13:38:29.230Z"
   },
   {
    "duration": 14,
    "start_time": "2022-11-08T13:38:29.263Z"
   },
   {
    "duration": 18,
    "start_time": "2022-11-08T13:38:29.279Z"
   },
   {
    "duration": 25,
    "start_time": "2022-11-08T13:38:29.299Z"
   },
   {
    "duration": 5,
    "start_time": "2022-11-08T13:38:29.326Z"
   },
   {
    "duration": 38,
    "start_time": "2022-11-08T13:38:29.334Z"
   },
   {
    "duration": 20,
    "start_time": "2022-11-08T13:38:29.374Z"
   },
   {
    "duration": 13,
    "start_time": "2022-11-08T13:38:29.396Z"
   },
   {
    "duration": 16,
    "start_time": "2022-11-08T13:38:29.411Z"
   },
   {
    "duration": 44,
    "start_time": "2022-11-08T13:38:29.429Z"
   },
   {
    "duration": 5,
    "start_time": "2022-11-08T13:38:29.475Z"
   },
   {
    "duration": 275,
    "start_time": "2022-11-08T13:38:29.481Z"
   },
   {
    "duration": 264,
    "start_time": "2022-11-08T13:38:29.758Z"
   },
   {
    "duration": 25,
    "start_time": "2022-11-08T13:38:30.024Z"
   },
   {
    "duration": 31,
    "start_time": "2022-11-08T13:38:30.051Z"
   },
   {
    "duration": 248,
    "start_time": "2022-11-08T13:38:30.084Z"
   },
   {
    "duration": 295,
    "start_time": "2022-11-08T13:38:30.335Z"
   },
   {
    "duration": 327,
    "start_time": "2022-11-08T13:38:30.632Z"
   },
   {
    "duration": 242,
    "start_time": "2022-11-08T13:38:30.968Z"
   },
   {
    "duration": 241,
    "start_time": "2022-11-08T13:38:31.212Z"
   },
   {
    "duration": 244,
    "start_time": "2022-11-08T13:38:31.455Z"
   },
   {
    "duration": 6,
    "start_time": "2022-11-08T13:38:31.700Z"
   },
   {
    "duration": 18,
    "start_time": "2022-11-08T13:38:31.708Z"
   },
   {
    "duration": 265,
    "start_time": "2022-11-08T13:38:31.728Z"
   },
   {
    "duration": 263,
    "start_time": "2022-11-08T13:38:31.995Z"
   },
   {
    "duration": 345,
    "start_time": "2022-11-08T13:38:32.260Z"
   },
   {
    "duration": 268,
    "start_time": "2022-11-08T13:38:32.607Z"
   },
   {
    "duration": 265,
    "start_time": "2022-11-08T13:38:32.876Z"
   },
   {
    "duration": 288,
    "start_time": "2022-11-08T13:38:33.143Z"
   },
   {
    "duration": 251,
    "start_time": "2022-11-08T13:38:33.433Z"
   },
   {
    "duration": 377,
    "start_time": "2022-11-08T13:38:33.686Z"
   },
   {
    "duration": 258,
    "start_time": "2022-11-08T13:38:34.067Z"
   },
   {
    "duration": 275,
    "start_time": "2022-11-08T13:38:34.327Z"
   },
   {
    "duration": 146,
    "start_time": "2022-11-08T13:38:34.604Z"
   },
   {
    "duration": 183,
    "start_time": "2022-11-08T13:38:34.752Z"
   },
   {
    "duration": 180,
    "start_time": "2022-11-08T13:38:34.937Z"
   },
   {
    "duration": 163,
    "start_time": "2022-11-08T13:38:35.119Z"
   },
   {
    "duration": 7,
    "start_time": "2022-11-08T13:38:35.288Z"
   },
   {
    "duration": 9,
    "start_time": "2022-11-08T13:38:35.297Z"
   },
   {
    "duration": 149,
    "start_time": "2022-11-08T13:38:35.308Z"
   },
   {
    "duration": 18,
    "start_time": "2022-11-08T13:38:35.458Z"
   },
   {
    "duration": 154,
    "start_time": "2022-11-08T13:38:35.477Z"
   },
   {
    "duration": 9,
    "start_time": "2022-11-08T13:38:35.633Z"
   },
   {
    "duration": 185,
    "start_time": "2022-11-08T13:38:35.644Z"
   },
   {
    "duration": 10,
    "start_time": "2022-11-08T13:38:35.831Z"
   },
   {
    "duration": 143,
    "start_time": "2022-11-08T13:38:35.842Z"
   },
   {
    "duration": 10,
    "start_time": "2022-11-08T13:38:35.987Z"
   },
   {
    "duration": 135,
    "start_time": "2022-11-08T13:38:35.998Z"
   },
   {
    "duration": 9,
    "start_time": "2022-11-08T13:38:36.135Z"
   },
   {
    "duration": 158,
    "start_time": "2022-11-08T13:38:36.146Z"
   },
   {
    "duration": 11,
    "start_time": "2022-11-08T13:38:36.305Z"
   },
   {
    "duration": 152,
    "start_time": "2022-11-08T13:38:36.318Z"
   },
   {
    "duration": 9,
    "start_time": "2022-11-08T13:38:36.472Z"
   },
   {
    "duration": 237,
    "start_time": "2022-11-08T13:38:36.483Z"
   },
   {
    "duration": 11,
    "start_time": "2022-11-08T13:38:36.722Z"
   },
   {
    "duration": 33,
    "start_time": "2022-11-08T13:38:36.735Z"
   },
   {
    "duration": 4,
    "start_time": "2022-11-08T13:38:36.770Z"
   },
   {
    "duration": 20,
    "start_time": "2022-11-08T13:38:36.776Z"
   },
   {
    "duration": 36,
    "start_time": "2022-11-08T13:38:36.798Z"
   },
   {
    "duration": 30,
    "start_time": "2022-11-08T13:38:36.836Z"
   },
   {
    "duration": 15,
    "start_time": "2022-11-08T13:38:36.868Z"
   },
   {
    "duration": 17,
    "start_time": "2022-11-08T13:38:36.885Z"
   },
   {
    "duration": 14,
    "start_time": "2022-11-08T13:38:36.904Z"
   },
   {
    "duration": 18,
    "start_time": "2022-11-08T13:38:36.920Z"
   },
   {
    "duration": 41,
    "start_time": "2022-11-08T13:38:36.940Z"
   },
   {
    "duration": 18,
    "start_time": "2022-11-08T13:38:36.982Z"
   },
   {
    "duration": 13,
    "start_time": "2022-11-08T13:38:37.002Z"
   },
   {
    "duration": 12,
    "start_time": "2022-11-08T13:38:37.017Z"
   },
   {
    "duration": 11,
    "start_time": "2022-11-08T13:38:37.031Z"
   },
   {
    "duration": 6,
    "start_time": "2022-11-08T13:40:55.656Z"
   },
   {
    "duration": 6,
    "start_time": "2022-11-08T13:48:10.931Z"
   },
   {
    "duration": 7,
    "start_time": "2022-11-08T13:48:19.395Z"
   },
   {
    "duration": 1322,
    "start_time": "2022-11-08T13:50:05.655Z"
   },
   {
    "duration": 101,
    "start_time": "2022-11-08T13:51:57.906Z"
   },
   {
    "duration": 11,
    "start_time": "2022-11-08T13:52:06.829Z"
   },
   {
    "duration": 1540,
    "start_time": "2022-11-08T13:53:14.631Z"
   },
   {
    "duration": 85,
    "start_time": "2022-11-08T17:29:20.519Z"
   },
   {
    "duration": 79,
    "start_time": "2022-11-08T18:21:43.783Z"
   },
   {
    "duration": 49,
    "start_time": "2022-11-08T18:21:58.117Z"
   },
   {
    "duration": 1543,
    "start_time": "2022-11-08T18:22:06.655Z"
   },
   {
    "duration": 96,
    "start_time": "2022-11-08T18:22:08.201Z"
   },
   {
    "duration": 1175,
    "start_time": "2022-11-08T18:22:08.299Z"
   },
   {
    "duration": 22,
    "start_time": "2022-11-08T18:22:09.477Z"
   },
   {
    "duration": 18,
    "start_time": "2022-11-08T18:22:09.502Z"
   },
   {
    "duration": 73,
    "start_time": "2022-11-08T18:22:09.523Z"
   },
   {
    "duration": 8,
    "start_time": "2022-11-08T18:22:09.600Z"
   },
   {
    "duration": 31,
    "start_time": "2022-11-08T18:22:09.611Z"
   },
   {
    "duration": 31,
    "start_time": "2022-11-08T18:22:09.644Z"
   },
   {
    "duration": 20,
    "start_time": "2022-11-08T18:22:09.680Z"
   },
   {
    "duration": 27,
    "start_time": "2022-11-08T18:22:09.702Z"
   },
   {
    "duration": 1656,
    "start_time": "2022-11-08T18:22:09.731Z"
   },
   {
    "duration": 27,
    "start_time": "2022-11-08T18:22:11.389Z"
   },
   {
    "duration": 11,
    "start_time": "2022-11-08T18:22:11.418Z"
   },
   {
    "duration": 305,
    "start_time": "2022-11-08T18:22:11.431Z"
   },
   {
    "duration": 298,
    "start_time": "2022-11-08T18:22:11.738Z"
   },
   {
    "duration": 52,
    "start_time": "2022-11-08T18:22:12.038Z"
   },
   {
    "duration": 19,
    "start_time": "2022-11-08T18:22:12.093Z"
   },
   {
    "duration": 283,
    "start_time": "2022-11-08T18:22:12.114Z"
   },
   {
    "duration": 373,
    "start_time": "2022-11-08T18:22:12.399Z"
   },
   {
    "duration": 282,
    "start_time": "2022-11-08T18:22:12.774Z"
   },
   {
    "duration": 298,
    "start_time": "2022-11-08T18:22:13.057Z"
   },
   {
    "duration": 298,
    "start_time": "2022-11-08T18:22:13.357Z"
   },
   {
    "duration": 300,
    "start_time": "2022-11-08T18:22:13.657Z"
   },
   {
    "duration": 15,
    "start_time": "2022-11-08T18:22:13.959Z"
   },
   {
    "duration": 17,
    "start_time": "2022-11-08T18:22:13.976Z"
   },
   {
    "duration": 294,
    "start_time": "2022-11-08T18:22:13.995Z"
   },
   {
    "duration": 438,
    "start_time": "2022-11-08T18:22:14.293Z"
   },
   {
    "duration": 309,
    "start_time": "2022-11-08T18:22:14.733Z"
   },
   {
    "duration": 318,
    "start_time": "2022-11-08T18:22:15.044Z"
   },
   {
    "duration": 303,
    "start_time": "2022-11-08T18:22:15.364Z"
   },
   {
    "duration": 317,
    "start_time": "2022-11-08T18:22:15.673Z"
   },
   {
    "duration": 391,
    "start_time": "2022-11-08T18:22:15.991Z"
   },
   {
    "duration": 294,
    "start_time": "2022-11-08T18:22:16.384Z"
   },
   {
    "duration": 280,
    "start_time": "2022-11-08T18:22:16.680Z"
   },
   {
    "duration": 273,
    "start_time": "2022-11-08T18:22:16.962Z"
   },
   {
    "duration": 292,
    "start_time": "2022-11-08T18:22:17.237Z"
   },
   {
    "duration": 177,
    "start_time": "2022-11-08T18:22:17.532Z"
   },
   {
    "duration": 188,
    "start_time": "2022-11-08T18:22:17.711Z"
   },
   {
    "duration": 175,
    "start_time": "2022-11-08T18:22:17.902Z"
   },
   {
    "duration": 151,
    "start_time": "2022-11-08T18:22:18.079Z"
   },
   {
    "duration": 6,
    "start_time": "2022-11-08T18:22:18.232Z"
   },
   {
    "duration": 11,
    "start_time": "2022-11-08T18:22:18.240Z"
   },
   {
    "duration": 165,
    "start_time": "2022-11-08T18:22:18.253Z"
   },
   {
    "duration": 11,
    "start_time": "2022-11-08T18:22:18.420Z"
   },
   {
    "duration": 177,
    "start_time": "2022-11-08T18:22:18.433Z"
   },
   {
    "duration": 12,
    "start_time": "2022-11-08T18:22:18.612Z"
   },
   {
    "duration": 203,
    "start_time": "2022-11-08T18:22:18.626Z"
   },
   {
    "duration": 11,
    "start_time": "2022-11-08T18:22:18.830Z"
   },
   {
    "duration": 324,
    "start_time": "2022-11-08T18:22:18.843Z"
   },
   {
    "duration": 11,
    "start_time": "2022-11-08T18:22:19.172Z"
   },
   {
    "duration": 160,
    "start_time": "2022-11-08T18:22:19.185Z"
   },
   {
    "duration": 11,
    "start_time": "2022-11-08T18:22:19.346Z"
   },
   {
    "duration": 159,
    "start_time": "2022-11-08T18:22:19.359Z"
   },
   {
    "duration": 10,
    "start_time": "2022-11-08T18:22:19.520Z"
   },
   {
    "duration": 201,
    "start_time": "2022-11-08T18:22:19.532Z"
   },
   {
    "duration": 13,
    "start_time": "2022-11-08T18:22:19.735Z"
   },
   {
    "duration": 212,
    "start_time": "2022-11-08T18:22:19.749Z"
   },
   {
    "duration": 23,
    "start_time": "2022-11-08T18:22:19.963Z"
   },
   {
    "duration": 24,
    "start_time": "2022-11-08T18:22:19.988Z"
   },
   {
    "duration": 4,
    "start_time": "2022-11-08T18:22:20.014Z"
   },
   {
    "duration": 33,
    "start_time": "2022-11-08T18:22:20.021Z"
   },
   {
    "duration": 28,
    "start_time": "2022-11-08T18:22:20.056Z"
   },
   {
    "duration": 20,
    "start_time": "2022-11-08T18:22:20.086Z"
   },
   {
    "duration": 16,
    "start_time": "2022-11-08T18:22:20.108Z"
   },
   {
    "duration": 46,
    "start_time": "2022-11-08T18:22:20.127Z"
   },
   {
    "duration": 24,
    "start_time": "2022-11-08T18:22:20.176Z"
   },
   {
    "duration": 20,
    "start_time": "2022-11-08T18:22:20.203Z"
   },
   {
    "duration": 47,
    "start_time": "2022-11-08T18:22:20.226Z"
   },
   {
    "duration": 17,
    "start_time": "2022-11-08T18:22:20.275Z"
   },
   {
    "duration": 26,
    "start_time": "2022-11-08T18:22:20.294Z"
   },
   {
    "duration": 11,
    "start_time": "2022-11-08T18:22:20.322Z"
   },
   {
    "duration": 19,
    "start_time": "2022-11-08T18:22:20.335Z"
   },
   {
    "duration": 270,
    "start_time": "2022-11-08T18:24:14.647Z"
   },
   {
    "duration": 278,
    "start_time": "2022-11-08T18:24:31.797Z"
   },
   {
    "duration": 357,
    "start_time": "2022-11-08T18:25:04.466Z"
   },
   {
    "duration": 316,
    "start_time": "2022-11-08T18:25:40.366Z"
   },
   {
    "duration": 208,
    "start_time": "2022-11-08T18:29:35.070Z"
   },
   {
    "duration": 184,
    "start_time": "2022-11-08T18:29:51.784Z"
   },
   {
    "duration": 181,
    "start_time": "2022-11-08T18:30:39.247Z"
   },
   {
    "duration": 197,
    "start_time": "2022-11-08T18:30:43.661Z"
   },
   {
    "duration": 249,
    "start_time": "2022-11-08T18:30:50.696Z"
   },
   {
    "duration": 230,
    "start_time": "2022-11-08T18:31:24.944Z"
   },
   {
    "duration": 402,
    "start_time": "2022-11-08T18:31:36.889Z"
   },
   {
    "duration": 278,
    "start_time": "2022-11-08T18:31:41.946Z"
   },
   {
    "duration": 241,
    "start_time": "2022-11-08T18:33:29.206Z"
   },
   {
    "duration": 178,
    "start_time": "2022-11-08T18:33:35.043Z"
   },
   {
    "duration": 171,
    "start_time": "2022-11-08T18:33:57.066Z"
   },
   {
    "duration": 232,
    "start_time": "2022-11-08T18:34:10.874Z"
   },
   {
    "duration": 255,
    "start_time": "2022-11-08T18:34:26.856Z"
   },
   {
    "duration": 199,
    "start_time": "2022-11-08T18:35:00.468Z"
   },
   {
    "duration": 30,
    "start_time": "2022-11-08T18:41:36.978Z"
   },
   {
    "duration": 5,
    "start_time": "2022-11-08T18:41:47.660Z"
   },
   {
    "duration": 16,
    "start_time": "2022-11-08T18:41:49.805Z"
   },
   {
    "duration": 11,
    "start_time": "2022-11-08T18:41:57.518Z"
   },
   {
    "duration": 1235,
    "start_time": "2022-11-09T07:43:36.077Z"
   },
   {
    "duration": 88,
    "start_time": "2022-11-09T07:43:37.313Z"
   },
   {
    "duration": 27,
    "start_time": "2022-11-09T07:43:37.402Z"
   },
   {
    "duration": 12,
    "start_time": "2022-11-09T07:43:37.431Z"
   },
   {
    "duration": 12,
    "start_time": "2022-11-09T07:43:37.445Z"
   },
   {
    "duration": 41,
    "start_time": "2022-11-09T07:43:37.459Z"
   },
   {
    "duration": 5,
    "start_time": "2022-11-09T07:43:37.502Z"
   },
   {
    "duration": 10,
    "start_time": "2022-11-09T07:43:37.509Z"
   },
   {
    "duration": 14,
    "start_time": "2022-11-09T07:43:37.520Z"
   },
   {
    "duration": 8,
    "start_time": "2022-11-09T07:43:37.536Z"
   },
   {
    "duration": 13,
    "start_time": "2022-11-09T07:43:37.546Z"
   },
   {
    "duration": 1341,
    "start_time": "2022-11-09T07:43:37.561Z"
   },
   {
    "duration": 20,
    "start_time": "2022-11-09T07:43:38.905Z"
   },
   {
    "duration": 9,
    "start_time": "2022-11-09T07:43:38.927Z"
   },
   {
    "duration": 259,
    "start_time": "2022-11-09T07:43:38.937Z"
   },
   {
    "duration": 250,
    "start_time": "2022-11-09T07:43:39.198Z"
   },
   {
    "duration": 23,
    "start_time": "2022-11-09T07:43:39.449Z"
   },
   {
    "duration": 30,
    "start_time": "2022-11-09T07:43:39.474Z"
   },
   {
    "duration": 237,
    "start_time": "2022-11-09T07:43:39.505Z"
   },
   {
    "duration": 308,
    "start_time": "2022-11-09T07:43:39.744Z"
   },
   {
    "duration": 226,
    "start_time": "2022-11-09T07:43:40.054Z"
   },
   {
    "duration": 217,
    "start_time": "2022-11-09T07:43:40.282Z"
   },
   {
    "duration": 215,
    "start_time": "2022-11-09T07:43:40.501Z"
   },
   {
    "duration": 215,
    "start_time": "2022-11-09T07:43:40.718Z"
   },
   {
    "duration": 5,
    "start_time": "2022-11-09T07:43:40.935Z"
   },
   {
    "duration": 27,
    "start_time": "2022-11-09T07:43:40.942Z"
   },
   {
    "duration": 236,
    "start_time": "2022-11-09T07:43:40.971Z"
   },
   {
    "duration": 324,
    "start_time": "2022-11-09T07:43:41.212Z"
   },
   {
    "duration": 250,
    "start_time": "2022-11-09T07:43:41.537Z"
   },
   {
    "duration": 239,
    "start_time": "2022-11-09T07:43:41.789Z"
   },
   {
    "duration": 231,
    "start_time": "2022-11-09T07:43:42.030Z"
   },
   {
    "duration": 240,
    "start_time": "2022-11-09T07:43:42.262Z"
   },
   {
    "duration": 321,
    "start_time": "2022-11-09T07:43:42.504Z"
   },
   {
    "duration": 232,
    "start_time": "2022-11-09T07:43:42.827Z"
   },
   {
    "duration": 251,
    "start_time": "2022-11-09T07:43:43.061Z"
   },
   {
    "duration": 243,
    "start_time": "2022-11-09T07:43:43.313Z"
   },
   {
    "duration": 168,
    "start_time": "2022-11-09T07:43:43.558Z"
   },
   {
    "duration": 5,
    "start_time": "2022-11-09T07:43:43.728Z"
   },
   {
    "duration": 7,
    "start_time": "2022-11-09T07:43:43.734Z"
   },
   {
    "duration": 134,
    "start_time": "2022-11-09T07:43:43.743Z"
   },
   {
    "duration": 11,
    "start_time": "2022-11-09T07:43:43.878Z"
   },
   {
    "duration": 177,
    "start_time": "2022-11-09T07:43:43.891Z"
   },
   {
    "duration": 11,
    "start_time": "2022-11-09T07:43:44.071Z"
   },
   {
    "duration": 162,
    "start_time": "2022-11-09T07:43:44.085Z"
   },
   {
    "duration": 8,
    "start_time": "2022-11-09T07:43:44.249Z"
   },
   {
    "duration": 133,
    "start_time": "2022-11-09T07:43:44.258Z"
   },
   {
    "duration": 24,
    "start_time": "2022-11-09T07:43:44.392Z"
   },
   {
    "duration": 130,
    "start_time": "2022-11-09T07:43:44.418Z"
   },
   {
    "duration": 8,
    "start_time": "2022-11-09T07:43:44.549Z"
   },
   {
    "duration": 116,
    "start_time": "2022-11-09T07:43:44.559Z"
   },
   {
    "duration": 7,
    "start_time": "2022-11-09T07:43:44.677Z"
   },
   {
    "duration": 137,
    "start_time": "2022-11-09T07:43:44.686Z"
   },
   {
    "duration": 10,
    "start_time": "2022-11-09T07:43:44.825Z"
   },
   {
    "duration": 140,
    "start_time": "2022-11-09T07:43:44.836Z"
   },
   {
    "duration": 9,
    "start_time": "2022-11-09T07:43:44.977Z"
   },
   {
    "duration": 24,
    "start_time": "2022-11-09T07:43:44.987Z"
   },
   {
    "duration": 7,
    "start_time": "2022-11-09T07:43:45.013Z"
   },
   {
    "duration": 13,
    "start_time": "2022-11-09T07:43:45.021Z"
   },
   {
    "duration": 16,
    "start_time": "2022-11-09T07:43:45.036Z"
   },
   {
    "duration": 16,
    "start_time": "2022-11-09T07:43:45.053Z"
   },
   {
    "duration": 29,
    "start_time": "2022-11-09T07:43:45.071Z"
   },
   {
    "duration": 133,
    "start_time": "2022-11-09T07:43:45.101Z"
   },
   {
    "duration": 17,
    "start_time": "2022-11-09T07:43:45.236Z"
   },
   {
    "duration": 14,
    "start_time": "2022-11-09T07:43:45.255Z"
   },
   {
    "duration": 11,
    "start_time": "2022-11-09T07:43:45.271Z"
   },
   {
    "duration": 13,
    "start_time": "2022-11-09T07:43:45.298Z"
   },
   {
    "duration": 12,
    "start_time": "2022-11-09T07:43:45.312Z"
   },
   {
    "duration": 7,
    "start_time": "2022-11-09T07:43:45.326Z"
   },
   {
    "duration": 9,
    "start_time": "2022-11-09T07:43:45.335Z"
   },
   {
    "duration": 6,
    "start_time": "2022-11-09T07:46:00.195Z"
   },
   {
    "duration": 13,
    "start_time": "2022-11-09T07:46:04.411Z"
   },
   {
    "duration": 266,
    "start_time": "2022-11-09T07:47:57.365Z"
   },
   {
    "duration": 1091,
    "start_time": "2022-11-09T07:48:28.768Z"
   },
   {
    "duration": 47,
    "start_time": "2022-11-09T07:48:29.861Z"
   },
   {
    "duration": 29,
    "start_time": "2022-11-09T07:48:29.910Z"
   },
   {
    "duration": 13,
    "start_time": "2022-11-09T07:48:29.941Z"
   },
   {
    "duration": 13,
    "start_time": "2022-11-09T07:48:29.955Z"
   },
   {
    "duration": 46,
    "start_time": "2022-11-09T07:48:29.970Z"
   },
   {
    "duration": 4,
    "start_time": "2022-11-09T07:48:30.018Z"
   },
   {
    "duration": 12,
    "start_time": "2022-11-09T07:48:30.024Z"
   },
   {
    "duration": 21,
    "start_time": "2022-11-09T07:48:30.038Z"
   },
   {
    "duration": 10,
    "start_time": "2022-11-09T07:48:30.062Z"
   },
   {
    "duration": 37,
    "start_time": "2022-11-09T07:48:30.074Z"
   },
   {
    "duration": 1329,
    "start_time": "2022-11-09T07:48:30.112Z"
   },
   {
    "duration": 19,
    "start_time": "2022-11-09T07:48:31.443Z"
   },
   {
    "duration": 41,
    "start_time": "2022-11-09T07:48:31.463Z"
   },
   {
    "duration": 261,
    "start_time": "2022-11-09T07:48:31.506Z"
   },
   {
    "duration": 253,
    "start_time": "2022-11-09T07:48:31.778Z"
   },
   {
    "duration": 25,
    "start_time": "2022-11-09T07:48:32.033Z"
   },
   {
    "duration": 16,
    "start_time": "2022-11-09T07:48:32.059Z"
   },
   {
    "duration": 261,
    "start_time": "2022-11-09T07:48:32.077Z"
   },
   {
    "duration": 320,
    "start_time": "2022-11-09T07:48:32.339Z"
   },
   {
    "duration": 253,
    "start_time": "2022-11-09T07:48:32.660Z"
   },
   {
    "duration": 234,
    "start_time": "2022-11-09T07:48:32.914Z"
   },
   {
    "duration": 218,
    "start_time": "2022-11-09T07:48:33.150Z"
   },
   {
    "duration": 207,
    "start_time": "2022-11-09T07:48:33.369Z"
   },
   {
    "duration": 5,
    "start_time": "2022-11-09T07:48:33.577Z"
   },
   {
    "duration": 24,
    "start_time": "2022-11-09T07:48:33.583Z"
   },
   {
    "duration": 351,
    "start_time": "2022-11-09T07:48:33.609Z"
   },
   {
    "duration": 278,
    "start_time": "2022-11-09T07:48:33.964Z"
   },
   {
    "duration": 259,
    "start_time": "2022-11-09T07:48:34.243Z"
   },
   {
    "duration": 253,
    "start_time": "2022-11-09T07:48:34.503Z"
   },
   {
    "duration": 230,
    "start_time": "2022-11-09T07:48:34.758Z"
   },
   {
    "duration": 248,
    "start_time": "2022-11-09T07:48:34.989Z"
   },
   {
    "duration": 335,
    "start_time": "2022-11-09T07:48:35.239Z"
   },
   {
    "duration": 239,
    "start_time": "2022-11-09T07:48:35.575Z"
   },
   {
    "duration": 225,
    "start_time": "2022-11-09T07:48:35.816Z"
   },
   {
    "duration": 225,
    "start_time": "2022-11-09T07:48:36.043Z"
   },
   {
    "duration": 136,
    "start_time": "2022-11-09T07:48:36.269Z"
   },
   {
    "duration": 6,
    "start_time": "2022-11-09T07:48:36.406Z"
   },
   {
    "duration": 9,
    "start_time": "2022-11-09T07:48:36.413Z"
   },
   {
    "duration": 125,
    "start_time": "2022-11-09T07:48:36.423Z"
   },
   {
    "duration": 8,
    "start_time": "2022-11-09T07:48:36.549Z"
   },
   {
    "duration": 141,
    "start_time": "2022-11-09T07:48:36.558Z"
   },
   {
    "duration": 8,
    "start_time": "2022-11-09T07:48:36.701Z"
   },
   {
    "duration": 150,
    "start_time": "2022-11-09T07:48:36.710Z"
   },
   {
    "duration": 9,
    "start_time": "2022-11-09T07:48:36.861Z"
   },
   {
    "duration": 138,
    "start_time": "2022-11-09T07:48:36.872Z"
   },
   {
    "duration": 8,
    "start_time": "2022-11-09T07:48:37.012Z"
   },
   {
    "duration": 134,
    "start_time": "2022-11-09T07:48:37.021Z"
   },
   {
    "duration": 8,
    "start_time": "2022-11-09T07:48:37.156Z"
   },
   {
    "duration": 224,
    "start_time": "2022-11-09T07:48:37.166Z"
   },
   {
    "duration": 15,
    "start_time": "2022-11-09T07:48:37.391Z"
   },
   {
    "duration": 112,
    "start_time": "2022-11-09T07:48:37.407Z"
   },
   {
    "duration": 8,
    "start_time": "2022-11-09T07:48:37.521Z"
   },
   {
    "duration": 122,
    "start_time": "2022-11-09T07:48:37.531Z"
   },
   {
    "duration": 8,
    "start_time": "2022-11-09T07:48:37.654Z"
   },
   {
    "duration": 30,
    "start_time": "2022-11-09T07:48:37.664Z"
   },
   {
    "duration": 4,
    "start_time": "2022-11-09T07:48:37.698Z"
   },
   {
    "duration": 18,
    "start_time": "2022-11-09T07:48:37.703Z"
   },
   {
    "duration": 18,
    "start_time": "2022-11-09T07:48:37.723Z"
   },
   {
    "duration": 11,
    "start_time": "2022-11-09T07:48:37.743Z"
   },
   {
    "duration": 15,
    "start_time": "2022-11-09T07:48:37.755Z"
   },
   {
    "duration": 21,
    "start_time": "2022-11-09T07:48:37.771Z"
   },
   {
    "duration": 12,
    "start_time": "2022-11-09T07:48:37.799Z"
   },
   {
    "duration": 11,
    "start_time": "2022-11-09T07:48:37.812Z"
   },
   {
    "duration": 15,
    "start_time": "2022-11-09T07:48:37.825Z"
   },
   {
    "duration": 11,
    "start_time": "2022-11-09T07:48:37.842Z"
   },
   {
    "duration": 17,
    "start_time": "2022-11-09T07:48:37.854Z"
   },
   {
    "duration": 14,
    "start_time": "2022-11-09T07:48:37.873Z"
   },
   {
    "duration": 6,
    "start_time": "2022-11-09T07:48:37.899Z"
   },
   {
    "duration": 1062,
    "start_time": "2022-11-09T07:49:42.210Z"
   },
   {
    "duration": 47,
    "start_time": "2022-11-09T07:49:43.274Z"
   },
   {
    "duration": 30,
    "start_time": "2022-11-09T07:49:43.323Z"
   },
   {
    "duration": 25,
    "start_time": "2022-11-09T07:49:43.355Z"
   },
   {
    "duration": 19,
    "start_time": "2022-11-09T07:49:43.381Z"
   },
   {
    "duration": 37,
    "start_time": "2022-11-09T07:49:43.401Z"
   },
   {
    "duration": 9,
    "start_time": "2022-11-09T07:49:43.440Z"
   },
   {
    "duration": 31,
    "start_time": "2022-11-09T07:49:43.451Z"
   },
   {
    "duration": 17,
    "start_time": "2022-11-09T07:49:43.483Z"
   },
   {
    "duration": 9,
    "start_time": "2022-11-09T07:49:43.503Z"
   },
   {
    "duration": 43,
    "start_time": "2022-11-09T07:49:43.513Z"
   },
   {
    "duration": 1306,
    "start_time": "2022-11-09T07:49:43.558Z"
   },
   {
    "duration": 18,
    "start_time": "2022-11-09T07:49:44.900Z"
   },
   {
    "duration": 6,
    "start_time": "2022-11-09T07:49:44.920Z"
   },
   {
    "duration": 252,
    "start_time": "2022-11-09T07:49:44.927Z"
   },
   {
    "duration": 247,
    "start_time": "2022-11-09T07:49:45.180Z"
   },
   {
    "duration": 23,
    "start_time": "2022-11-09T07:49:45.429Z"
   },
   {
    "duration": 14,
    "start_time": "2022-11-09T07:49:45.453Z"
   },
   {
    "duration": 233,
    "start_time": "2022-11-09T07:49:45.468Z"
   },
   {
    "duration": 298,
    "start_time": "2022-11-09T07:49:45.703Z"
   },
   {
    "duration": 224,
    "start_time": "2022-11-09T07:49:46.002Z"
   },
   {
    "duration": 226,
    "start_time": "2022-11-09T07:49:46.228Z"
   },
   {
    "duration": 217,
    "start_time": "2022-11-09T07:49:46.456Z"
   },
   {
    "duration": 234,
    "start_time": "2022-11-09T07:49:46.675Z"
   },
   {
    "duration": 5,
    "start_time": "2022-11-09T07:49:46.911Z"
   },
   {
    "duration": 17,
    "start_time": "2022-11-09T07:49:46.918Z"
   },
   {
    "duration": 267,
    "start_time": "2022-11-09T07:49:46.937Z"
   },
   {
    "duration": 346,
    "start_time": "2022-11-09T07:49:47.207Z"
   },
   {
    "duration": 272,
    "start_time": "2022-11-09T07:49:47.554Z"
   },
   {
    "duration": 248,
    "start_time": "2022-11-09T07:49:47.828Z"
   },
   {
    "duration": 258,
    "start_time": "2022-11-09T07:49:48.078Z"
   },
   {
    "duration": 244,
    "start_time": "2022-11-09T07:49:48.337Z"
   },
   {
    "duration": 355,
    "start_time": "2022-11-09T07:49:48.582Z"
   },
   {
    "duration": 264,
    "start_time": "2022-11-09T07:49:48.939Z"
   },
   {
    "duration": 266,
    "start_time": "2022-11-09T07:49:49.205Z"
   },
   {
    "duration": 252,
    "start_time": "2022-11-09T07:49:49.473Z"
   },
   {
    "duration": 162,
    "start_time": "2022-11-09T07:49:49.726Z"
   },
   {
    "duration": 12,
    "start_time": "2022-11-09T07:49:49.890Z"
   },
   {
    "duration": 20,
    "start_time": "2022-11-09T07:49:49.904Z"
   },
   {
    "duration": 141,
    "start_time": "2022-11-09T07:49:49.926Z"
   },
   {
    "duration": 10,
    "start_time": "2022-11-09T07:49:50.068Z"
   },
   {
    "duration": 156,
    "start_time": "2022-11-09T07:49:50.079Z"
   },
   {
    "duration": 10,
    "start_time": "2022-11-09T07:49:50.237Z"
   },
   {
    "duration": 169,
    "start_time": "2022-11-09T07:49:50.249Z"
   },
   {
    "duration": 10,
    "start_time": "2022-11-09T07:49:50.419Z"
   },
   {
    "duration": 148,
    "start_time": "2022-11-09T07:49:50.430Z"
   },
   {
    "duration": 19,
    "start_time": "2022-11-09T07:49:50.580Z"
   },
   {
    "duration": 131,
    "start_time": "2022-11-09T07:49:50.601Z"
   },
   {
    "duration": 11,
    "start_time": "2022-11-09T07:49:50.734Z"
   },
   {
    "duration": 134,
    "start_time": "2022-11-09T07:49:50.746Z"
   },
   {
    "duration": 21,
    "start_time": "2022-11-09T07:49:50.882Z"
   },
   {
    "duration": 158,
    "start_time": "2022-11-09T07:49:50.904Z"
   },
   {
    "duration": 11,
    "start_time": "2022-11-09T07:49:51.064Z"
   },
   {
    "duration": 164,
    "start_time": "2022-11-09T07:49:51.077Z"
   },
   {
    "duration": 9,
    "start_time": "2022-11-09T07:49:51.243Z"
   },
   {
    "duration": 25,
    "start_time": "2022-11-09T07:49:51.253Z"
   },
   {
    "duration": 3,
    "start_time": "2022-11-09T07:49:51.280Z"
   },
   {
    "duration": 23,
    "start_time": "2022-11-09T07:49:51.284Z"
   },
   {
    "duration": 20,
    "start_time": "2022-11-09T07:49:51.309Z"
   },
   {
    "duration": 14,
    "start_time": "2022-11-09T07:49:51.331Z"
   },
   {
    "duration": 14,
    "start_time": "2022-11-09T07:49:51.347Z"
   },
   {
    "duration": 161,
    "start_time": "2022-11-09T07:49:51.363Z"
   },
   {
    "duration": 19,
    "start_time": "2022-11-09T07:49:51.526Z"
   },
   {
    "duration": 28,
    "start_time": "2022-11-09T07:49:51.547Z"
   },
   {
    "duration": 18,
    "start_time": "2022-11-09T07:49:51.577Z"
   },
   {
    "duration": 19,
    "start_time": "2022-11-09T07:49:51.597Z"
   },
   {
    "duration": 17,
    "start_time": "2022-11-09T07:49:51.618Z"
   },
   {
    "duration": 10,
    "start_time": "2022-11-09T07:49:51.636Z"
   },
   {
    "duration": 16,
    "start_time": "2022-11-09T07:49:51.647Z"
   },
   {
    "duration": 155,
    "start_time": "2022-11-09T07:51:06.140Z"
   },
   {
    "duration": 140,
    "start_time": "2022-11-09T07:51:12.398Z"
   },
   {
    "duration": 141,
    "start_time": "2022-11-09T07:51:20.578Z"
   },
   {
    "duration": 140,
    "start_time": "2022-11-09T07:51:34.923Z"
   },
   {
    "duration": 237,
    "start_time": "2022-11-09T07:51:45.938Z"
   },
   {
    "duration": 239,
    "start_time": "2022-11-09T07:51:55.699Z"
   },
   {
    "duration": 219,
    "start_time": "2022-11-09T07:52:08.398Z"
   },
   {
    "duration": 215,
    "start_time": "2022-11-09T07:52:15.692Z"
   },
   {
    "duration": 219,
    "start_time": "2022-11-09T07:52:19.852Z"
   },
   {
    "duration": 389,
    "start_time": "2022-11-09T07:52:25.906Z"
   },
   {
    "duration": 267,
    "start_time": "2022-11-09T07:52:29.709Z"
   },
   {
    "duration": 231,
    "start_time": "2022-11-09T07:52:36.939Z"
   },
   {
    "duration": 263,
    "start_time": "2022-11-09T07:52:43.316Z"
   },
   {
    "duration": 252,
    "start_time": "2022-11-09T07:52:47.850Z"
   },
   {
    "duration": 168,
    "start_time": "2022-11-09T07:53:07.396Z"
   },
   {
    "duration": 261,
    "start_time": "2022-11-09T07:53:16.619Z"
   },
   {
    "duration": 1016,
    "start_time": "2022-11-09T07:54:15.311Z"
   },
   {
    "duration": 52,
    "start_time": "2022-11-09T07:54:16.329Z"
   },
   {
    "duration": 27,
    "start_time": "2022-11-09T07:54:16.383Z"
   },
   {
    "duration": 12,
    "start_time": "2022-11-09T07:54:16.411Z"
   },
   {
    "duration": 12,
    "start_time": "2022-11-09T07:54:16.425Z"
   },
   {
    "duration": 25,
    "start_time": "2022-11-09T07:54:16.438Z"
   },
   {
    "duration": 6,
    "start_time": "2022-11-09T07:54:16.464Z"
   },
   {
    "duration": 36,
    "start_time": "2022-11-09T07:54:16.471Z"
   },
   {
    "duration": 16,
    "start_time": "2022-11-09T07:54:16.508Z"
   },
   {
    "duration": 9,
    "start_time": "2022-11-09T07:54:16.525Z"
   },
   {
    "duration": 13,
    "start_time": "2022-11-09T07:54:16.535Z"
   },
   {
    "duration": 1305,
    "start_time": "2022-11-09T07:54:16.549Z"
   },
   {
    "duration": 51,
    "start_time": "2022-11-09T07:54:17.857Z"
   },
   {
    "duration": 15,
    "start_time": "2022-11-09T07:54:17.910Z"
   },
   {
    "duration": 248,
    "start_time": "2022-11-09T07:54:17.926Z"
   },
   {
    "duration": 229,
    "start_time": "2022-11-09T07:54:18.175Z"
   },
   {
    "duration": 23,
    "start_time": "2022-11-09T07:54:18.405Z"
   },
   {
    "duration": 16,
    "start_time": "2022-11-09T07:54:18.429Z"
   },
   {
    "duration": 249,
    "start_time": "2022-11-09T07:54:18.447Z"
   },
   {
    "duration": 282,
    "start_time": "2022-11-09T07:54:18.699Z"
   },
   {
    "duration": 225,
    "start_time": "2022-11-09T07:54:18.983Z"
   },
   {
    "duration": 223,
    "start_time": "2022-11-09T07:54:19.210Z"
   },
   {
    "duration": 215,
    "start_time": "2022-11-09T07:54:19.435Z"
   },
   {
    "duration": 222,
    "start_time": "2022-11-09T07:54:19.652Z"
   },
   {
    "duration": 5,
    "start_time": "2022-11-09T07:54:19.875Z"
   },
   {
    "duration": 20,
    "start_time": "2022-11-09T07:54:19.882Z"
   },
   {
    "duration": 256,
    "start_time": "2022-11-09T07:54:19.903Z"
   },
   {
    "duration": 318,
    "start_time": "2022-11-09T07:54:20.161Z"
   },
   {
    "duration": 246,
    "start_time": "2022-11-09T07:54:20.480Z"
   },
   {
    "duration": 227,
    "start_time": "2022-11-09T07:54:20.728Z"
   },
   {
    "duration": 227,
    "start_time": "2022-11-09T07:54:20.956Z"
   },
   {
    "duration": 244,
    "start_time": "2022-11-09T07:54:21.184Z"
   },
   {
    "duration": 351,
    "start_time": "2022-11-09T07:54:21.429Z"
   },
   {
    "duration": 231,
    "start_time": "2022-11-09T07:54:21.782Z"
   },
   {
    "duration": 231,
    "start_time": "2022-11-09T07:54:22.014Z"
   },
   {
    "duration": 230,
    "start_time": "2022-11-09T07:54:22.247Z"
   },
   {
    "duration": 141,
    "start_time": "2022-11-09T07:54:22.478Z"
   },
   {
    "duration": 6,
    "start_time": "2022-11-09T07:54:22.621Z"
   },
   {
    "duration": 9,
    "start_time": "2022-11-09T07:54:22.628Z"
   },
   {
    "duration": 139,
    "start_time": "2022-11-09T07:54:22.638Z"
   },
   {
    "duration": 8,
    "start_time": "2022-11-09T07:54:22.781Z"
   },
   {
    "duration": 121,
    "start_time": "2022-11-09T07:54:22.799Z"
   },
   {
    "duration": 9,
    "start_time": "2022-11-09T07:54:22.921Z"
   },
   {
    "duration": 149,
    "start_time": "2022-11-09T07:54:22.931Z"
   },
   {
    "duration": 8,
    "start_time": "2022-11-09T07:54:23.082Z"
   },
   {
    "duration": 141,
    "start_time": "2022-11-09T07:54:23.092Z"
   },
   {
    "duration": 8,
    "start_time": "2022-11-09T07:54:23.234Z"
   },
   {
    "duration": 133,
    "start_time": "2022-11-09T07:54:23.243Z"
   },
   {
    "duration": 9,
    "start_time": "2022-11-09T07:54:23.377Z"
   },
   {
    "duration": 112,
    "start_time": "2022-11-09T07:54:23.400Z"
   },
   {
    "duration": 10,
    "start_time": "2022-11-09T07:54:23.513Z"
   },
   {
    "duration": 118,
    "start_time": "2022-11-09T07:54:23.525Z"
   },
   {
    "duration": 8,
    "start_time": "2022-11-09T07:54:23.645Z"
   },
   {
    "duration": 134,
    "start_time": "2022-11-09T07:54:23.654Z"
   },
   {
    "duration": 15,
    "start_time": "2022-11-09T07:54:23.790Z"
   },
   {
    "duration": 19,
    "start_time": "2022-11-09T07:54:23.806Z"
   },
   {
    "duration": 4,
    "start_time": "2022-11-09T07:54:23.826Z"
   },
   {
    "duration": 12,
    "start_time": "2022-11-09T07:54:23.832Z"
   },
   {
    "duration": 23,
    "start_time": "2022-11-09T07:54:23.846Z"
   },
   {
    "duration": 30,
    "start_time": "2022-11-09T07:54:23.870Z"
   },
   {
    "duration": 16,
    "start_time": "2022-11-09T07:54:23.903Z"
   },
   {
    "duration": 21,
    "start_time": "2022-11-09T07:54:23.921Z"
   },
   {
    "duration": 29,
    "start_time": "2022-11-09T07:54:23.944Z"
   },
   {
    "duration": 27,
    "start_time": "2022-11-09T07:54:23.975Z"
   },
   {
    "duration": 24,
    "start_time": "2022-11-09T07:54:24.004Z"
   },
   {
    "duration": 22,
    "start_time": "2022-11-09T07:54:24.030Z"
   },
   {
    "duration": 24,
    "start_time": "2022-11-09T07:54:24.054Z"
   },
   {
    "duration": 20,
    "start_time": "2022-11-09T07:54:24.080Z"
   },
   {
    "duration": 8,
    "start_time": "2022-11-09T07:54:24.103Z"
   },
   {
    "duration": 373,
    "start_time": "2022-11-09T07:55:25.732Z"
   },
   {
    "duration": 171,
    "start_time": "2022-11-09T07:55:32.763Z"
   },
   {
    "duration": 263,
    "start_time": "2022-11-09T07:55:38.834Z"
   },
   {
    "duration": 227,
    "start_time": "2022-11-09T07:57:09.842Z"
   },
   {
    "duration": 230,
    "start_time": "2022-11-09T07:57:35.356Z"
   },
   {
    "duration": 238,
    "start_time": "2022-11-09T07:58:28.611Z"
   },
   {
    "duration": 257,
    "start_time": "2022-11-09T07:58:31.916Z"
   },
   {
    "duration": 259,
    "start_time": "2022-11-09T07:58:37.676Z"
   },
   {
    "duration": 423,
    "start_time": "2022-11-09T07:58:42.876Z"
   },
   {
    "duration": 230,
    "start_time": "2022-11-09T08:00:50.269Z"
   },
   {
    "duration": 253,
    "start_time": "2022-11-09T08:02:50.324Z"
   },
   {
    "duration": 285,
    "start_time": "2022-11-09T08:03:15.667Z"
   },
   {
    "duration": 217,
    "start_time": "2022-11-09T08:04:21.191Z"
   },
   {
    "duration": 225,
    "start_time": "2022-11-09T08:05:06.764Z"
   },
   {
    "duration": 239,
    "start_time": "2022-11-09T08:06:09.075Z"
   },
   {
    "duration": 239,
    "start_time": "2022-11-09T08:06:16.400Z"
   },
   {
    "duration": 302,
    "start_time": "2022-11-09T08:08:01.913Z"
   },
   {
    "duration": 444,
    "start_time": "2022-11-09T08:08:06.972Z"
   },
   {
    "duration": 244,
    "start_time": "2022-11-09T08:08:16.516Z"
   },
   {
    "duration": 257,
    "start_time": "2022-11-09T08:08:25.619Z"
   },
   {
    "duration": 283,
    "start_time": "2022-11-09T08:08:29.522Z"
   },
   {
    "duration": 266,
    "start_time": "2022-11-09T08:08:50.726Z"
   },
   {
    "duration": 176,
    "start_time": "2022-11-09T08:14:25.504Z"
   },
   {
    "duration": 141,
    "start_time": "2022-11-09T08:17:02.520Z"
   },
   {
    "duration": 185,
    "start_time": "2022-11-09T08:17:52.645Z"
   },
   {
    "duration": 147,
    "start_time": "2022-11-09T08:23:21.925Z"
   },
   {
    "duration": 140,
    "start_time": "2022-11-09T08:27:26.924Z"
   },
   {
    "duration": 19,
    "start_time": "2022-11-09T08:27:33.796Z"
   },
   {
    "duration": 12,
    "start_time": "2022-11-09T08:27:38.665Z"
   },
   {
    "duration": 131,
    "start_time": "2022-11-09T08:27:52.035Z"
   },
   {
    "duration": 10,
    "start_time": "2022-11-09T08:28:01.540Z"
   },
   {
    "duration": 134,
    "start_time": "2022-11-09T08:30:44.741Z"
   },
   {
    "duration": 10,
    "start_time": "2022-11-09T08:30:45.914Z"
   },
   {
    "duration": 166,
    "start_time": "2022-11-09T08:30:59.678Z"
   },
   {
    "duration": 131,
    "start_time": "2022-11-09T08:35:02.461Z"
   },
   {
    "duration": 9,
    "start_time": "2022-11-09T08:35:10.016Z"
   },
   {
    "duration": 200,
    "start_time": "2022-11-09T08:35:18.028Z"
   },
   {
    "duration": 10,
    "start_time": "2022-11-09T08:35:28.369Z"
   },
   {
    "duration": 292,
    "start_time": "2022-11-09T08:47:34.047Z"
   },
   {
    "duration": 262,
    "start_time": "2022-11-09T08:47:41.662Z"
   },
   {
    "duration": 299,
    "start_time": "2022-11-09T08:48:24.732Z"
   },
   {
    "duration": 203,
    "start_time": "2022-11-09T08:48:45.717Z"
   },
   {
    "duration": 122,
    "start_time": "2022-11-09T09:30:45.821Z"
   },
   {
    "duration": 16,
    "start_time": "2022-11-09T09:31:00.258Z"
   },
   {
    "duration": 433,
    "start_time": "2022-11-09T09:40:12.124Z"
   },
   {
    "duration": 183,
    "start_time": "2022-11-09T09:40:18.063Z"
   },
   {
    "duration": 260,
    "start_time": "2022-11-09T09:40:34.895Z"
   },
   {
    "duration": 16,
    "start_time": "2022-11-09T09:40:43.568Z"
   },
   {
    "duration": 197,
    "start_time": "2022-11-09T09:40:49.279Z"
   },
   {
    "duration": 14,
    "start_time": "2022-11-09T09:41:12.615Z"
   },
   {
    "duration": 13,
    "start_time": "2022-11-09T09:41:29.775Z"
   },
   {
    "duration": 20,
    "start_time": "2022-11-09T09:41:34.991Z"
   },
   {
    "duration": 195,
    "start_time": "2022-11-09T09:41:35.464Z"
   },
   {
    "duration": 16,
    "start_time": "2022-11-09T09:42:32.458Z"
   },
   {
    "duration": 193,
    "start_time": "2022-11-09T09:42:32.975Z"
   },
   {
    "duration": 14,
    "start_time": "2022-11-09T09:43:05.002Z"
   },
   {
    "duration": 163,
    "start_time": "2022-11-09T09:43:05.479Z"
   },
   {
    "duration": 12,
    "start_time": "2022-11-09T09:47:59.359Z"
   },
   {
    "duration": 22,
    "start_time": "2022-11-09T09:48:05.482Z"
   },
   {
    "duration": 84,
    "start_time": "2022-11-09T09:50:05.153Z"
   },
   {
    "duration": 15,
    "start_time": "2022-11-09T09:50:12.416Z"
   },
   {
    "duration": 14,
    "start_time": "2022-11-09T09:50:18.736Z"
   },
   {
    "duration": 15,
    "start_time": "2022-11-09T09:50:46.392Z"
   },
   {
    "duration": 15,
    "start_time": "2022-11-09T09:54:01.851Z"
   },
   {
    "duration": 28,
    "start_time": "2022-11-09T09:54:12.199Z"
   },
   {
    "duration": 10,
    "start_time": "2022-11-09T09:54:26.509Z"
   },
   {
    "duration": 18,
    "start_time": "2022-11-09T09:54:30.920Z"
   },
   {
    "duration": 37,
    "start_time": "2022-11-09T09:55:00.074Z"
   },
   {
    "duration": 21,
    "start_time": "2022-11-09T09:55:17.169Z"
   },
   {
    "duration": 20,
    "start_time": "2022-11-09T09:55:52.041Z"
   },
   {
    "duration": 14,
    "start_time": "2022-11-09T09:56:20.676Z"
   },
   {
    "duration": 19,
    "start_time": "2022-11-09T09:56:33.024Z"
   },
   {
    "duration": 1139,
    "start_time": "2022-11-09T09:57:11.046Z"
   },
   {
    "duration": 54,
    "start_time": "2022-11-09T09:57:12.187Z"
   },
   {
    "duration": 28,
    "start_time": "2022-11-09T09:57:12.242Z"
   },
   {
    "duration": 13,
    "start_time": "2022-11-09T09:57:12.272Z"
   },
   {
    "duration": 41,
    "start_time": "2022-11-09T09:57:12.286Z"
   },
   {
    "duration": 49,
    "start_time": "2022-11-09T09:57:12.329Z"
   },
   {
    "duration": 6,
    "start_time": "2022-11-09T09:57:12.379Z"
   },
   {
    "duration": 37,
    "start_time": "2022-11-09T09:57:12.387Z"
   },
   {
    "duration": 32,
    "start_time": "2022-11-09T09:57:12.426Z"
   },
   {
    "duration": 10,
    "start_time": "2022-11-09T09:57:12.461Z"
   },
   {
    "duration": 20,
    "start_time": "2022-11-09T09:57:12.473Z"
   },
   {
    "duration": 1056,
    "start_time": "2022-11-09T09:57:12.494Z"
   },
   {
    "duration": 47,
    "start_time": "2022-11-09T09:57:13.559Z"
   },
   {
    "duration": 6,
    "start_time": "2022-11-09T09:57:13.609Z"
   },
   {
    "duration": 262,
    "start_time": "2022-11-09T09:57:13.617Z"
   },
   {
    "duration": 293,
    "start_time": "2022-11-09T09:57:13.881Z"
   },
   {
    "duration": 43,
    "start_time": "2022-11-09T09:57:14.176Z"
   },
   {
    "duration": 28,
    "start_time": "2022-11-09T09:57:14.222Z"
   },
   {
    "duration": 315,
    "start_time": "2022-11-09T09:57:14.253Z"
   },
   {
    "duration": 248,
    "start_time": "2022-11-09T09:57:14.570Z"
   },
   {
    "duration": 249,
    "start_time": "2022-11-09T09:57:14.820Z"
   },
   {
    "duration": 215,
    "start_time": "2022-11-09T09:57:15.070Z"
   },
   {
    "duration": 250,
    "start_time": "2022-11-09T09:57:15.286Z"
   },
   {
    "duration": 323,
    "start_time": "2022-11-09T09:57:15.538Z"
   },
   {
    "duration": 5,
    "start_time": "2022-11-09T09:57:15.863Z"
   },
   {
    "duration": 21,
    "start_time": "2022-11-09T09:57:15.869Z"
   },
   {
    "duration": 264,
    "start_time": "2022-11-09T09:57:15.892Z"
   },
   {
    "duration": 253,
    "start_time": "2022-11-09T09:57:16.159Z"
   },
   {
    "duration": 238,
    "start_time": "2022-11-09T09:57:16.415Z"
   },
   {
    "duration": 260,
    "start_time": "2022-11-09T09:57:16.655Z"
   },
   {
    "duration": 232,
    "start_time": "2022-11-09T09:57:16.916Z"
   },
   {
    "duration": 376,
    "start_time": "2022-11-09T09:57:17.149Z"
   },
   {
    "duration": 240,
    "start_time": "2022-11-09T09:57:17.526Z"
   },
   {
    "duration": 6,
    "start_time": "2022-11-09T09:57:17.768Z"
   },
   {
    "duration": 16,
    "start_time": "2022-11-09T09:57:17.776Z"
   },
   {
    "duration": 176,
    "start_time": "2022-11-09T09:57:17.794Z"
   },
   {
    "duration": 9,
    "start_time": "2022-11-09T09:57:17.971Z"
   },
   {
    "duration": 158,
    "start_time": "2022-11-09T09:57:17.981Z"
   },
   {
    "duration": 10,
    "start_time": "2022-11-09T09:57:18.140Z"
   },
   {
    "duration": 164,
    "start_time": "2022-11-09T09:57:18.151Z"
   },
   {
    "duration": 11,
    "start_time": "2022-11-09T09:57:18.317Z"
   },
   {
    "duration": 151,
    "start_time": "2022-11-09T09:57:18.330Z"
   },
   {
    "duration": 9,
    "start_time": "2022-11-09T09:57:18.483Z"
   },
   {
    "duration": 150,
    "start_time": "2022-11-09T09:57:18.504Z"
   },
   {
    "duration": 9,
    "start_time": "2022-11-09T09:57:18.656Z"
   },
   {
    "duration": 149,
    "start_time": "2022-11-09T09:57:18.666Z"
   },
   {
    "duration": 10,
    "start_time": "2022-11-09T09:57:18.816Z"
   },
   {
    "duration": 148,
    "start_time": "2022-11-09T09:57:18.828Z"
   },
   {
    "duration": 8,
    "start_time": "2022-11-09T09:57:18.978Z"
   },
   {
    "duration": 153,
    "start_time": "2022-11-09T09:57:18.988Z"
   },
   {
    "duration": 10,
    "start_time": "2022-11-09T09:57:19.143Z"
   },
   {
    "duration": 322,
    "start_time": "2022-11-09T09:57:19.155Z"
   },
   {
    "duration": 37,
    "start_time": "2022-11-09T09:57:19.478Z"
   },
   {
    "duration": 10,
    "start_time": "2022-11-09T09:57:19.517Z"
   },
   {
    "duration": 13,
    "start_time": "2022-11-09T09:57:19.528Z"
   },
   {
    "duration": 14,
    "start_time": "2022-11-09T09:57:19.543Z"
   },
   {
    "duration": 43535,
    "start_time": "2022-11-09T09:57:19.558Z"
   },
   {
    "duration": 133,
    "start_time": "2022-11-09T09:58:03.095Z"
   },
   {
    "duration": 0,
    "start_time": "2022-11-09T09:58:03.230Z"
   },
   {
    "duration": 0,
    "start_time": "2022-11-09T09:58:03.231Z"
   },
   {
    "duration": 0,
    "start_time": "2022-11-09T09:58:03.232Z"
   },
   {
    "duration": 0,
    "start_time": "2022-11-09T09:58:03.233Z"
   },
   {
    "duration": 0,
    "start_time": "2022-11-09T09:58:03.234Z"
   },
   {
    "duration": 0,
    "start_time": "2022-11-09T09:58:03.235Z"
   },
   {
    "duration": 0,
    "start_time": "2022-11-09T09:58:03.236Z"
   },
   {
    "duration": 0,
    "start_time": "2022-11-09T09:58:03.237Z"
   },
   {
    "duration": 0,
    "start_time": "2022-11-09T09:58:03.238Z"
   },
   {
    "duration": 0,
    "start_time": "2022-11-09T09:58:03.239Z"
   },
   {
    "duration": 0,
    "start_time": "2022-11-09T09:58:03.240Z"
   },
   {
    "duration": 0,
    "start_time": "2022-11-09T09:58:03.241Z"
   },
   {
    "duration": 14,
    "start_time": "2022-11-09T09:58:27.754Z"
   },
   {
    "duration": 4,
    "start_time": "2022-11-09T09:58:38.633Z"
   },
   {
    "duration": 10,
    "start_time": "2022-11-09T09:58:45.344Z"
   },
   {
    "duration": 7,
    "start_time": "2022-11-09T10:00:15.517Z"
   },
   {
    "duration": 206,
    "start_time": "2022-11-09T10:01:11.681Z"
   },
   {
    "duration": 14,
    "start_time": "2022-11-09T10:01:18.136Z"
   },
   {
    "duration": 187,
    "start_time": "2022-11-09T10:01:37.401Z"
   },
   {
    "duration": 189,
    "start_time": "2022-11-09T10:01:47.298Z"
   },
   {
    "duration": 6,
    "start_time": "2022-11-09T10:01:49.647Z"
   },
   {
    "duration": 209,
    "start_time": "2022-11-09T10:01:51.814Z"
   },
   {
    "duration": 7,
    "start_time": "2022-11-09T10:26:28.636Z"
   },
   {
    "duration": 341,
    "start_time": "2022-11-09T10:26:29.405Z"
   },
   {
    "duration": 1358,
    "start_time": "2022-11-09T10:27:18.536Z"
   },
   {
    "duration": 58,
    "start_time": "2022-11-09T10:27:19.898Z"
   },
   {
    "duration": 48,
    "start_time": "2022-11-09T10:27:19.958Z"
   },
   {
    "duration": 18,
    "start_time": "2022-11-09T10:27:20.010Z"
   },
   {
    "duration": 38,
    "start_time": "2022-11-09T10:27:20.030Z"
   },
   {
    "duration": 45,
    "start_time": "2022-11-09T10:27:20.069Z"
   },
   {
    "duration": 6,
    "start_time": "2022-11-09T10:27:20.116Z"
   },
   {
    "duration": 21,
    "start_time": "2022-11-09T10:27:20.124Z"
   },
   {
    "duration": 30,
    "start_time": "2022-11-09T10:27:20.147Z"
   },
   {
    "duration": 15,
    "start_time": "2022-11-09T10:27:20.179Z"
   },
   {
    "duration": 25,
    "start_time": "2022-11-09T10:27:20.199Z"
   },
   {
    "duration": 1435,
    "start_time": "2022-11-09T10:27:20.227Z"
   },
   {
    "duration": 51,
    "start_time": "2022-11-09T10:27:21.664Z"
   },
   {
    "duration": 30,
    "start_time": "2022-11-09T10:27:21.721Z"
   },
   {
    "duration": 286,
    "start_time": "2022-11-09T10:27:21.753Z"
   },
   {
    "duration": 299,
    "start_time": "2022-11-09T10:27:22.041Z"
   },
   {
    "duration": 30,
    "start_time": "2022-11-09T10:27:22.341Z"
   },
   {
    "duration": 38,
    "start_time": "2022-11-09T10:27:22.373Z"
   },
   {
    "duration": 321,
    "start_time": "2022-11-09T10:27:22.413Z"
   },
   {
    "duration": 403,
    "start_time": "2022-11-09T10:27:22.737Z"
   },
   {
    "duration": 320,
    "start_time": "2022-11-09T10:27:23.144Z"
   },
   {
    "duration": 335,
    "start_time": "2022-11-09T10:27:23.465Z"
   },
   {
    "duration": 324,
    "start_time": "2022-11-09T10:27:23.803Z"
   },
   {
    "duration": 312,
    "start_time": "2022-11-09T10:27:24.129Z"
   },
   {
    "duration": 7,
    "start_time": "2022-11-09T10:27:24.443Z"
   },
   {
    "duration": 56,
    "start_time": "2022-11-09T10:27:24.451Z"
   },
   {
    "duration": 391,
    "start_time": "2022-11-09T10:27:24.508Z"
   },
   {
    "duration": 270,
    "start_time": "2022-11-09T10:27:24.902Z"
   },
   {
    "duration": 312,
    "start_time": "2022-11-09T10:27:25.175Z"
   },
   {
    "duration": 391,
    "start_time": "2022-11-09T10:27:25.490Z"
   },
   {
    "duration": 454,
    "start_time": "2022-11-09T10:27:25.883Z"
   },
   {
    "duration": 435,
    "start_time": "2022-11-09T10:27:26.339Z"
   },
   {
    "duration": 310,
    "start_time": "2022-11-09T10:27:26.776Z"
   },
   {
    "duration": 12,
    "start_time": "2022-11-09T10:27:27.089Z"
   },
   {
    "duration": 7,
    "start_time": "2022-11-09T10:27:27.104Z"
   },
   {
    "duration": 242,
    "start_time": "2022-11-09T10:27:27.113Z"
   },
   {
    "duration": 14,
    "start_time": "2022-11-09T10:27:27.360Z"
   },
   {
    "duration": 233,
    "start_time": "2022-11-09T10:27:27.376Z"
   },
   {
    "duration": 14,
    "start_time": "2022-11-09T10:27:27.611Z"
   },
   {
    "duration": 242,
    "start_time": "2022-11-09T10:27:27.628Z"
   },
   {
    "duration": 23,
    "start_time": "2022-11-09T10:27:27.876Z"
   },
   {
    "duration": 254,
    "start_time": "2022-11-09T10:27:27.902Z"
   },
   {
    "duration": 15,
    "start_time": "2022-11-09T10:27:28.158Z"
   },
   {
    "duration": 284,
    "start_time": "2022-11-09T10:27:28.176Z"
   },
   {
    "duration": 14,
    "start_time": "2022-11-09T10:27:28.462Z"
   },
   {
    "duration": 198,
    "start_time": "2022-11-09T10:27:28.478Z"
   },
   {
    "duration": 23,
    "start_time": "2022-11-09T10:27:28.678Z"
   },
   {
    "duration": 233,
    "start_time": "2022-11-09T10:27:28.703Z"
   },
   {
    "duration": 14,
    "start_time": "2022-11-09T10:27:28.938Z"
   },
   {
    "duration": 281,
    "start_time": "2022-11-09T10:27:28.955Z"
   },
   {
    "duration": 15,
    "start_time": "2022-11-09T10:27:29.238Z"
   },
   {
    "duration": 352,
    "start_time": "2022-11-09T10:27:29.255Z"
   },
   {
    "duration": 25,
    "start_time": "2022-11-09T10:27:29.609Z"
   },
   {
    "duration": 6,
    "start_time": "2022-11-09T10:27:29.636Z"
   },
   {
    "duration": 24,
    "start_time": "2022-11-09T10:27:29.644Z"
   },
   {
    "duration": 38,
    "start_time": "2022-11-09T10:27:29.671Z"
   },
   {
    "duration": 7,
    "start_time": "2022-11-09T10:27:29.712Z"
   },
   {
    "duration": 459,
    "start_time": "2022-11-09T10:27:29.721Z"
   },
   {
    "duration": 31,
    "start_time": "2022-11-09T10:27:30.184Z"
   },
   {
    "duration": 31,
    "start_time": "2022-11-09T10:27:30.220Z"
   },
   {
    "duration": 157,
    "start_time": "2022-11-09T10:27:30.254Z"
   },
   {
    "duration": 0,
    "start_time": "2022-11-09T10:27:30.414Z"
   },
   {
    "duration": 0,
    "start_time": "2022-11-09T10:27:30.415Z"
   },
   {
    "duration": 0,
    "start_time": "2022-11-09T10:27:30.417Z"
   },
   {
    "duration": 0,
    "start_time": "2022-11-09T10:27:30.418Z"
   },
   {
    "duration": 0,
    "start_time": "2022-11-09T10:27:30.421Z"
   },
   {
    "duration": 0,
    "start_time": "2022-11-09T10:27:30.422Z"
   },
   {
    "duration": 0,
    "start_time": "2022-11-09T10:27:30.424Z"
   },
   {
    "duration": 1,
    "start_time": "2022-11-09T10:27:30.425Z"
   },
   {
    "duration": 0,
    "start_time": "2022-11-09T10:27:30.427Z"
   },
   {
    "duration": 0,
    "start_time": "2022-11-09T10:27:30.430Z"
   },
   {
    "duration": 227,
    "start_time": "2022-11-09T10:27:40.419Z"
   },
   {
    "duration": 7,
    "start_time": "2022-11-09T10:28:21.662Z"
   },
   {
    "duration": 6,
    "start_time": "2022-11-09T10:30:16.244Z"
   },
   {
    "duration": 204,
    "start_time": "2022-11-09T10:30:16.995Z"
   },
   {
    "duration": 14,
    "start_time": "2022-11-09T10:31:09.770Z"
   },
   {
    "duration": 7,
    "start_time": "2022-11-09T10:31:30.711Z"
   },
   {
    "duration": 175,
    "start_time": "2022-11-09T10:32:40.107Z"
   },
   {
    "duration": 18,
    "start_time": "2022-11-09T10:35:02.196Z"
   },
   {
    "duration": 195,
    "start_time": "2022-11-09T10:35:09.841Z"
   },
   {
    "duration": 14,
    "start_time": "2022-11-09T10:38:43.819Z"
   },
   {
    "duration": 13,
    "start_time": "2022-11-09T10:38:46.787Z"
   },
   {
    "duration": 16,
    "start_time": "2022-11-09T10:39:08.009Z"
   },
   {
    "duration": 6,
    "start_time": "2022-11-09T10:40:30.164Z"
   },
   {
    "duration": 13,
    "start_time": "2022-11-09T10:42:42.629Z"
   },
   {
    "duration": 6,
    "start_time": "2022-11-09T10:42:43.741Z"
   },
   {
    "duration": 195,
    "start_time": "2022-11-09T10:42:48.140Z"
   },
   {
    "duration": 13,
    "start_time": "2022-11-09T10:42:58.529Z"
   },
   {
    "duration": 5,
    "start_time": "2022-11-09T10:43:00.921Z"
   },
   {
    "duration": 207,
    "start_time": "2022-11-09T10:43:01.810Z"
   },
   {
    "duration": 12,
    "start_time": "2022-11-09T10:43:05.965Z"
   },
   {
    "duration": 5,
    "start_time": "2022-11-09T10:43:08.936Z"
   },
   {
    "duration": 333,
    "start_time": "2022-11-09T10:43:11.516Z"
   },
   {
    "duration": 209,
    "start_time": "2022-11-09T10:43:26.484Z"
   },
   {
    "duration": 1032,
    "start_time": "2022-11-09T10:44:22.520Z"
   },
   {
    "duration": 44,
    "start_time": "2022-11-09T10:44:23.554Z"
   },
   {
    "duration": 28,
    "start_time": "2022-11-09T10:44:23.600Z"
   },
   {
    "duration": 26,
    "start_time": "2022-11-09T10:44:23.630Z"
   },
   {
    "duration": 30,
    "start_time": "2022-11-09T10:44:23.657Z"
   },
   {
    "duration": 36,
    "start_time": "2022-11-09T10:44:23.688Z"
   },
   {
    "duration": 18,
    "start_time": "2022-11-09T10:44:23.726Z"
   },
   {
    "duration": 23,
    "start_time": "2022-11-09T10:44:23.745Z"
   },
   {
    "duration": 35,
    "start_time": "2022-11-09T10:44:23.770Z"
   },
   {
    "duration": 24,
    "start_time": "2022-11-09T10:44:23.809Z"
   },
   {
    "duration": 34,
    "start_time": "2022-11-09T10:44:23.835Z"
   },
   {
    "duration": 1336,
    "start_time": "2022-11-09T10:44:23.871Z"
   },
   {
    "duration": 20,
    "start_time": "2022-11-09T10:44:25.208Z"
   },
   {
    "duration": 25,
    "start_time": "2022-11-09T10:44:25.229Z"
   },
   {
    "duration": 245,
    "start_time": "2022-11-09T10:44:25.255Z"
   },
   {
    "duration": 244,
    "start_time": "2022-11-09T10:44:25.502Z"
   },
   {
    "duration": 23,
    "start_time": "2022-11-09T10:44:25.747Z"
   },
   {
    "duration": 30,
    "start_time": "2022-11-09T10:44:25.771Z"
   },
   {
    "duration": 219,
    "start_time": "2022-11-09T10:44:25.803Z"
   },
   {
    "duration": 301,
    "start_time": "2022-11-09T10:44:26.023Z"
   },
   {
    "duration": 221,
    "start_time": "2022-11-09T10:44:26.326Z"
   },
   {
    "duration": 213,
    "start_time": "2022-11-09T10:44:26.548Z"
   },
   {
    "duration": 215,
    "start_time": "2022-11-09T10:44:26.762Z"
   },
   {
    "duration": 221,
    "start_time": "2022-11-09T10:44:26.979Z"
   },
   {
    "duration": 5,
    "start_time": "2022-11-09T10:44:27.202Z"
   },
   {
    "duration": 41,
    "start_time": "2022-11-09T10:44:27.208Z"
   },
   {
    "duration": 261,
    "start_time": "2022-11-09T10:44:27.250Z"
   },
   {
    "duration": 319,
    "start_time": "2022-11-09T10:44:27.515Z"
   },
   {
    "duration": 232,
    "start_time": "2022-11-09T10:44:27.835Z"
   },
   {
    "duration": 238,
    "start_time": "2022-11-09T10:44:28.069Z"
   },
   {
    "duration": 260,
    "start_time": "2022-11-09T10:44:28.309Z"
   },
   {
    "duration": 243,
    "start_time": "2022-11-09T10:44:28.571Z"
   },
   {
    "duration": 185,
    "start_time": "2022-11-09T10:44:28.815Z"
   },
   {
    "duration": 6,
    "start_time": "2022-11-09T10:44:29.002Z"
   },
   {
    "duration": 22,
    "start_time": "2022-11-09T10:44:29.009Z"
   },
   {
    "duration": 299,
    "start_time": "2022-11-09T10:44:29.033Z"
   },
   {
    "duration": 10,
    "start_time": "2022-11-09T10:44:29.334Z"
   },
   {
    "duration": 183,
    "start_time": "2022-11-09T10:44:29.345Z"
   },
   {
    "duration": 9,
    "start_time": "2022-11-09T10:44:29.529Z"
   },
   {
    "duration": 160,
    "start_time": "2022-11-09T10:44:29.539Z"
   },
   {
    "duration": 10,
    "start_time": "2022-11-09T10:44:29.701Z"
   },
   {
    "duration": 173,
    "start_time": "2022-11-09T10:44:29.713Z"
   },
   {
    "duration": 13,
    "start_time": "2022-11-09T10:44:29.888Z"
   },
   {
    "duration": 154,
    "start_time": "2022-11-09T10:44:29.902Z"
   },
   {
    "duration": 10,
    "start_time": "2022-11-09T10:44:30.057Z"
   },
   {
    "duration": 136,
    "start_time": "2022-11-09T10:44:30.069Z"
   },
   {
    "duration": 10,
    "start_time": "2022-11-09T10:44:30.206Z"
   },
   {
    "duration": 179,
    "start_time": "2022-11-09T10:44:30.217Z"
   },
   {
    "duration": 10,
    "start_time": "2022-11-09T10:44:30.397Z"
   },
   {
    "duration": 192,
    "start_time": "2022-11-09T10:44:30.408Z"
   },
   {
    "duration": 10,
    "start_time": "2022-11-09T10:44:30.601Z"
   },
   {
    "duration": 313,
    "start_time": "2022-11-09T10:44:30.613Z"
   },
   {
    "duration": 18,
    "start_time": "2022-11-09T10:44:30.928Z"
   },
   {
    "duration": 16,
    "start_time": "2022-11-09T10:44:30.948Z"
   },
   {
    "duration": 32,
    "start_time": "2022-11-09T10:44:30.966Z"
   },
   {
    "duration": 29,
    "start_time": "2022-11-09T10:44:30.999Z"
   },
   {
    "duration": 27,
    "start_time": "2022-11-09T10:44:31.030Z"
   },
   {
    "duration": 245,
    "start_time": "2022-11-09T10:44:31.060Z"
   },
   {
    "duration": 17,
    "start_time": "2022-11-09T10:44:31.307Z"
   },
   {
    "duration": 24,
    "start_time": "2022-11-09T10:44:31.326Z"
   },
   {
    "duration": 224,
    "start_time": "2022-11-09T10:44:31.355Z"
   },
   {
    "duration": 21,
    "start_time": "2022-11-09T10:44:31.581Z"
   },
   {
    "duration": 33,
    "start_time": "2022-11-09T10:44:31.603Z"
   },
   {
    "duration": 232,
    "start_time": "2022-11-09T10:44:31.638Z"
   },
   {
    "duration": 15,
    "start_time": "2022-11-09T10:44:31.872Z"
   },
   {
    "duration": 13,
    "start_time": "2022-11-09T10:44:31.889Z"
   },
   {
    "duration": 236,
    "start_time": "2022-11-09T10:44:31.904Z"
   },
   {
    "duration": 15,
    "start_time": "2022-11-09T10:44:32.142Z"
   },
   {
    "duration": 32,
    "start_time": "2022-11-09T10:44:32.159Z"
   },
   {
    "duration": 228,
    "start_time": "2022-11-09T10:44:32.192Z"
   },
   {
    "duration": 15,
    "start_time": "2022-11-09T10:44:32.422Z"
   },
   {
    "duration": 17,
    "start_time": "2022-11-09T10:44:32.438Z"
   },
   {
    "duration": 242,
    "start_time": "2022-11-09T10:44:32.457Z"
   },
   {
    "duration": 15,
    "start_time": "2022-11-09T10:44:32.701Z"
   },
   {
    "duration": 19,
    "start_time": "2022-11-09T10:44:32.717Z"
   },
   {
    "duration": 17,
    "start_time": "2022-11-09T10:44:32.737Z"
   },
   {
    "duration": 14,
    "start_time": "2022-11-09T10:44:32.756Z"
   },
   {
    "duration": 30,
    "start_time": "2022-11-09T10:44:32.773Z"
   },
   {
    "duration": 5,
    "start_time": "2022-11-09T10:48:15.244Z"
   },
   {
    "duration": 14,
    "start_time": "2022-11-09T10:48:18.141Z"
   },
   {
    "duration": 13,
    "start_time": "2022-11-09T10:48:23.795Z"
   },
   {
    "duration": 16,
    "start_time": "2022-11-09T10:48:25.972Z"
   },
   {
    "duration": 14,
    "start_time": "2022-11-09T10:48:27.019Z"
   },
   {
    "duration": 99,
    "start_time": "2022-11-09T10:49:16.883Z"
   },
   {
    "duration": 14,
    "start_time": "2022-11-09T10:49:37.437Z"
   },
   {
    "duration": 1025,
    "start_time": "2022-11-09T10:49:41.013Z"
   },
   {
    "duration": 44,
    "start_time": "2022-11-09T10:49:42.039Z"
   },
   {
    "duration": 27,
    "start_time": "2022-11-09T10:49:42.085Z"
   },
   {
    "duration": 26,
    "start_time": "2022-11-09T10:49:42.114Z"
   },
   {
    "duration": 19,
    "start_time": "2022-11-09T10:49:42.141Z"
   },
   {
    "duration": 31,
    "start_time": "2022-11-09T10:49:42.162Z"
   },
   {
    "duration": 4,
    "start_time": "2022-11-09T10:49:42.195Z"
   },
   {
    "duration": 21,
    "start_time": "2022-11-09T10:49:42.201Z"
   },
   {
    "duration": 39,
    "start_time": "2022-11-09T10:49:42.224Z"
   },
   {
    "duration": 25,
    "start_time": "2022-11-09T10:49:42.266Z"
   },
   {
    "duration": 22,
    "start_time": "2022-11-09T10:49:42.293Z"
   },
   {
    "duration": 1220,
    "start_time": "2022-11-09T10:49:42.317Z"
   },
   {
    "duration": 18,
    "start_time": "2022-11-09T10:49:43.539Z"
   },
   {
    "duration": 4,
    "start_time": "2022-11-09T10:49:43.558Z"
   },
   {
    "duration": 279,
    "start_time": "2022-11-09T10:49:43.563Z"
   },
   {
    "duration": 298,
    "start_time": "2022-11-09T10:49:43.844Z"
   },
   {
    "duration": 24,
    "start_time": "2022-11-09T10:49:44.144Z"
   },
   {
    "duration": 32,
    "start_time": "2022-11-09T10:49:44.170Z"
   },
   {
    "duration": 254,
    "start_time": "2022-11-09T10:49:44.204Z"
   },
   {
    "duration": 297,
    "start_time": "2022-11-09T10:49:44.460Z"
   },
   {
    "duration": 228,
    "start_time": "2022-11-09T10:49:44.759Z"
   },
   {
    "duration": 216,
    "start_time": "2022-11-09T10:49:44.989Z"
   },
   {
    "duration": 232,
    "start_time": "2022-11-09T10:49:45.207Z"
   },
   {
    "duration": 234,
    "start_time": "2022-11-09T10:49:45.442Z"
   },
   {
    "duration": 5,
    "start_time": "2022-11-09T10:49:45.677Z"
   },
   {
    "duration": 18,
    "start_time": "2022-11-09T10:49:45.684Z"
   },
   {
    "duration": 260,
    "start_time": "2022-11-09T10:49:45.704Z"
   },
   {
    "duration": 331,
    "start_time": "2022-11-09T10:49:45.968Z"
   },
   {
    "duration": 226,
    "start_time": "2022-11-09T10:49:46.301Z"
   },
   {
    "duration": 229,
    "start_time": "2022-11-09T10:49:46.529Z"
   },
   {
    "duration": 229,
    "start_time": "2022-11-09T10:49:46.760Z"
   },
   {
    "duration": 247,
    "start_time": "2022-11-09T10:49:46.991Z"
   },
   {
    "duration": 198,
    "start_time": "2022-11-09T10:49:47.239Z"
   },
   {
    "duration": 6,
    "start_time": "2022-11-09T10:49:47.439Z"
   },
   {
    "duration": 8,
    "start_time": "2022-11-09T10:49:47.447Z"
   },
   {
    "duration": 262,
    "start_time": "2022-11-09T10:49:47.456Z"
   },
   {
    "duration": 10,
    "start_time": "2022-11-09T10:49:47.719Z"
   },
   {
    "duration": 153,
    "start_time": "2022-11-09T10:49:47.731Z"
   },
   {
    "duration": 16,
    "start_time": "2022-11-09T10:49:47.886Z"
   },
   {
    "duration": 152,
    "start_time": "2022-11-09T10:49:47.904Z"
   },
   {
    "duration": 11,
    "start_time": "2022-11-09T10:49:48.058Z"
   },
   {
    "duration": 151,
    "start_time": "2022-11-09T10:49:48.071Z"
   },
   {
    "duration": 9,
    "start_time": "2022-11-09T10:49:48.224Z"
   },
   {
    "duration": 146,
    "start_time": "2022-11-09T10:49:48.234Z"
   },
   {
    "duration": 9,
    "start_time": "2022-11-09T10:49:48.381Z"
   },
   {
    "duration": 122,
    "start_time": "2022-11-09T10:49:48.399Z"
   },
   {
    "duration": 9,
    "start_time": "2022-11-09T10:49:48.523Z"
   },
   {
    "duration": 172,
    "start_time": "2022-11-09T10:49:48.533Z"
   },
   {
    "duration": 10,
    "start_time": "2022-11-09T10:49:48.706Z"
   },
   {
    "duration": 165,
    "start_time": "2022-11-09T10:49:48.718Z"
   },
   {
    "duration": 16,
    "start_time": "2022-11-09T10:49:48.884Z"
   },
   {
    "duration": 319,
    "start_time": "2022-11-09T10:49:48.902Z"
   },
   {
    "duration": 20,
    "start_time": "2022-11-09T10:49:49.223Z"
   },
   {
    "duration": 38,
    "start_time": "2022-11-09T10:49:49.244Z"
   },
   {
    "duration": 20,
    "start_time": "2022-11-09T10:49:49.284Z"
   },
   {
    "duration": 25,
    "start_time": "2022-11-09T10:49:49.306Z"
   },
   {
    "duration": 36,
    "start_time": "2022-11-09T10:49:49.333Z"
   },
   {
    "duration": 256,
    "start_time": "2022-11-09T10:49:49.371Z"
   },
   {
    "duration": 13,
    "start_time": "2022-11-09T10:49:49.629Z"
   },
   {
    "duration": 20,
    "start_time": "2022-11-09T10:49:49.644Z"
   },
   {
    "duration": 227,
    "start_time": "2022-11-09T10:49:49.666Z"
   },
   {
    "duration": 17,
    "start_time": "2022-11-09T10:49:49.895Z"
   },
   {
    "duration": 23,
    "start_time": "2022-11-09T10:49:49.914Z"
   },
   {
    "duration": 237,
    "start_time": "2022-11-09T10:49:49.938Z"
   },
   {
    "duration": 22,
    "start_time": "2022-11-09T10:49:50.177Z"
   },
   {
    "duration": 17,
    "start_time": "2022-11-09T10:49:50.201Z"
   },
   {
    "duration": 246,
    "start_time": "2022-11-09T10:49:50.220Z"
   },
   {
    "duration": 15,
    "start_time": "2022-11-09T10:49:50.468Z"
   },
   {
    "duration": 17,
    "start_time": "2022-11-09T10:49:50.485Z"
   },
   {
    "duration": 240,
    "start_time": "2022-11-09T10:49:50.504Z"
   },
   {
    "duration": 15,
    "start_time": "2022-11-09T10:49:50.746Z"
   },
   {
    "duration": 11,
    "start_time": "2022-11-09T10:49:50.763Z"
   },
   {
    "duration": 241,
    "start_time": "2022-11-09T10:49:50.776Z"
   },
   {
    "duration": 6,
    "start_time": "2022-11-09T10:49:51.018Z"
   },
   {
    "duration": 27,
    "start_time": "2022-11-09T10:49:51.026Z"
   },
   {
    "duration": 24,
    "start_time": "2022-11-09T10:49:51.054Z"
   },
   {
    "duration": 30,
    "start_time": "2022-11-09T10:49:51.079Z"
   },
   {
    "duration": 16,
    "start_time": "2022-11-09T10:49:51.111Z"
   },
   {
    "duration": 14,
    "start_time": "2022-11-09T10:49:51.129Z"
   },
   {
    "duration": 4,
    "start_time": "2022-11-09T10:50:21.341Z"
   },
   {
    "duration": 4,
    "start_time": "2022-11-09T10:50:30.993Z"
   },
   {
    "duration": 4,
    "start_time": "2022-11-09T10:50:34.841Z"
   },
   {
    "duration": 13,
    "start_time": "2022-11-09T10:50:35.972Z"
   },
   {
    "duration": 12,
    "start_time": "2022-11-09T10:50:37.341Z"
   },
   {
    "duration": 13,
    "start_time": "2022-11-09T10:50:38.678Z"
   },
   {
    "duration": 1015,
    "start_time": "2022-11-09T11:03:02.120Z"
   },
   {
    "duration": 42,
    "start_time": "2022-11-09T11:03:03.136Z"
   },
   {
    "duration": 25,
    "start_time": "2022-11-09T11:03:03.179Z"
   },
   {
    "duration": 14,
    "start_time": "2022-11-09T11:03:03.206Z"
   },
   {
    "duration": 13,
    "start_time": "2022-11-09T11:03:03.221Z"
   },
   {
    "duration": 24,
    "start_time": "2022-11-09T11:03:03.236Z"
   },
   {
    "duration": 5,
    "start_time": "2022-11-09T11:03:03.261Z"
   },
   {
    "duration": 33,
    "start_time": "2022-11-09T11:03:03.268Z"
   },
   {
    "duration": 17,
    "start_time": "2022-11-09T11:03:03.302Z"
   },
   {
    "duration": 9,
    "start_time": "2022-11-09T11:03:03.321Z"
   },
   {
    "duration": 15,
    "start_time": "2022-11-09T11:03:03.331Z"
   },
   {
    "duration": 1311,
    "start_time": "2022-11-09T11:03:03.347Z"
   },
   {
    "duration": 52,
    "start_time": "2022-11-09T11:03:04.660Z"
   },
   {
    "duration": 6,
    "start_time": "2022-11-09T11:03:04.714Z"
   },
   {
    "duration": 237,
    "start_time": "2022-11-09T11:03:04.721Z"
   },
   {
    "duration": 250,
    "start_time": "2022-11-09T11:03:04.960Z"
   },
   {
    "duration": 25,
    "start_time": "2022-11-09T11:03:05.212Z"
   },
   {
    "duration": 15,
    "start_time": "2022-11-09T11:03:05.238Z"
   },
   {
    "duration": 241,
    "start_time": "2022-11-09T11:03:05.255Z"
   },
   {
    "duration": 295,
    "start_time": "2022-11-09T11:03:05.498Z"
   },
   {
    "duration": 219,
    "start_time": "2022-11-09T11:03:05.799Z"
   },
   {
    "duration": 208,
    "start_time": "2022-11-09T11:03:06.020Z"
   },
   {
    "duration": 214,
    "start_time": "2022-11-09T11:03:06.229Z"
   },
   {
    "duration": 214,
    "start_time": "2022-11-09T11:03:06.445Z"
   },
   {
    "duration": 6,
    "start_time": "2022-11-09T11:03:06.660Z"
   },
   {
    "duration": 18,
    "start_time": "2022-11-09T11:03:06.667Z"
   },
   {
    "duration": 269,
    "start_time": "2022-11-09T11:03:06.686Z"
   },
   {
    "duration": 312,
    "start_time": "2022-11-09T11:03:06.958Z"
   },
   {
    "duration": 236,
    "start_time": "2022-11-09T11:03:07.272Z"
   },
   {
    "duration": 252,
    "start_time": "2022-11-09T11:03:07.510Z"
   },
   {
    "duration": 237,
    "start_time": "2022-11-09T11:03:07.764Z"
   },
   {
    "duration": 254,
    "start_time": "2022-11-09T11:03:08.003Z"
   },
   {
    "duration": 219,
    "start_time": "2022-11-09T11:03:08.258Z"
   },
   {
    "duration": 5,
    "start_time": "2022-11-09T11:03:08.478Z"
   },
   {
    "duration": 8,
    "start_time": "2022-11-09T11:03:08.485Z"
   },
   {
    "duration": 259,
    "start_time": "2022-11-09T11:03:08.494Z"
   },
   {
    "duration": 47,
    "start_time": "2022-11-09T11:03:08.754Z"
   },
   {
    "duration": 202,
    "start_time": "2022-11-09T11:03:08.802Z"
   },
   {
    "duration": 9,
    "start_time": "2022-11-09T11:03:09.006Z"
   },
   {
    "duration": 228,
    "start_time": "2022-11-09T11:03:09.016Z"
   },
   {
    "duration": 8,
    "start_time": "2022-11-09T11:03:09.246Z"
   },
   {
    "duration": 131,
    "start_time": "2022-11-09T11:03:09.255Z"
   },
   {
    "duration": 16,
    "start_time": "2022-11-09T11:03:09.388Z"
   },
   {
    "duration": 140,
    "start_time": "2022-11-09T11:03:09.405Z"
   },
   {
    "duration": 9,
    "start_time": "2022-11-09T11:03:09.546Z"
   },
   {
    "duration": 126,
    "start_time": "2022-11-09T11:03:09.556Z"
   },
   {
    "duration": 17,
    "start_time": "2022-11-09T11:03:09.683Z"
   },
   {
    "duration": 143,
    "start_time": "2022-11-09T11:03:09.701Z"
   },
   {
    "duration": 8,
    "start_time": "2022-11-09T11:03:09.846Z"
   },
   {
    "duration": 148,
    "start_time": "2022-11-09T11:03:09.855Z"
   },
   {
    "duration": 9,
    "start_time": "2022-11-09T11:03:10.005Z"
   },
   {
    "duration": 264,
    "start_time": "2022-11-09T11:03:10.015Z"
   },
   {
    "duration": 23,
    "start_time": "2022-11-09T11:03:10.280Z"
   },
   {
    "duration": 3,
    "start_time": "2022-11-09T11:03:10.304Z"
   },
   {
    "duration": 14,
    "start_time": "2022-11-09T11:03:10.308Z"
   },
   {
    "duration": 15,
    "start_time": "2022-11-09T11:03:10.323Z"
   },
   {
    "duration": 5,
    "start_time": "2022-11-09T11:03:10.339Z"
   },
   {
    "duration": 229,
    "start_time": "2022-11-09T11:03:10.346Z"
   },
   {
    "duration": 23,
    "start_time": "2022-11-09T11:03:10.577Z"
   },
   {
    "duration": 4,
    "start_time": "2022-11-09T11:03:10.602Z"
   },
   {
    "duration": 233,
    "start_time": "2022-11-09T11:03:10.608Z"
   },
   {
    "duration": 15,
    "start_time": "2022-11-09T11:03:10.843Z"
   },
   {
    "duration": 8,
    "start_time": "2022-11-09T11:03:10.859Z"
   },
   {
    "duration": 226,
    "start_time": "2022-11-09T11:03:10.869Z"
   },
   {
    "duration": 14,
    "start_time": "2022-11-09T11:03:11.098Z"
   },
   {
    "duration": 9,
    "start_time": "2022-11-09T11:03:11.113Z"
   },
   {
    "duration": 209,
    "start_time": "2022-11-09T11:03:11.123Z"
   },
   {
    "duration": 12,
    "start_time": "2022-11-09T11:03:11.334Z"
   },
   {
    "duration": 9,
    "start_time": "2022-11-09T11:03:11.348Z"
   },
   {
    "duration": 214,
    "start_time": "2022-11-09T11:03:11.358Z"
   },
   {
    "duration": 13,
    "start_time": "2022-11-09T11:03:11.574Z"
   },
   {
    "duration": 12,
    "start_time": "2022-11-09T11:03:11.589Z"
   },
   {
    "duration": 220,
    "start_time": "2022-11-09T11:03:11.603Z"
   },
   {
    "duration": 5,
    "start_time": "2022-11-09T11:03:11.825Z"
   },
   {
    "duration": 15,
    "start_time": "2022-11-09T11:03:11.831Z"
   },
   {
    "duration": 12,
    "start_time": "2022-11-09T11:03:11.847Z"
   },
   {
    "duration": 13,
    "start_time": "2022-11-09T11:03:11.861Z"
   },
   {
    "duration": 6,
    "start_time": "2022-11-09T11:03:11.899Z"
   },
   {
    "duration": 11,
    "start_time": "2022-11-09T11:03:11.907Z"
   },
   {
    "duration": 1078,
    "start_time": "2022-11-09T17:37:19.832Z"
   },
   {
    "duration": 51,
    "start_time": "2022-11-09T17:37:20.912Z"
   },
   {
    "duration": 30,
    "start_time": "2022-11-09T17:37:20.964Z"
   },
   {
    "duration": 15,
    "start_time": "2022-11-09T17:37:20.997Z"
   },
   {
    "duration": 14,
    "start_time": "2022-11-09T17:37:21.013Z"
   },
   {
    "duration": 52,
    "start_time": "2022-11-09T17:37:21.029Z"
   },
   {
    "duration": 5,
    "start_time": "2022-11-09T17:37:21.083Z"
   },
   {
    "duration": 13,
    "start_time": "2022-11-09T17:37:21.089Z"
   },
   {
    "duration": 18,
    "start_time": "2022-11-09T17:37:21.104Z"
   },
   {
    "duration": 9,
    "start_time": "2022-11-09T17:37:21.124Z"
   },
   {
    "duration": 30,
    "start_time": "2022-11-09T17:37:21.134Z"
   },
   {
    "duration": 1336,
    "start_time": "2022-11-09T17:37:21.165Z"
   },
   {
    "duration": 17,
    "start_time": "2022-11-09T17:37:31.133Z"
   },
   {
    "duration": 16,
    "start_time": "2022-11-09T17:38:15.189Z"
   },
   {
    "duration": 1081,
    "start_time": "2022-11-09T17:45:23.754Z"
   },
   {
    "duration": 53,
    "start_time": "2022-11-09T17:45:24.837Z"
   },
   {
    "duration": 34,
    "start_time": "2022-11-09T17:45:24.892Z"
   },
   {
    "duration": 17,
    "start_time": "2022-11-09T17:45:24.928Z"
   },
   {
    "duration": 14,
    "start_time": "2022-11-09T17:45:24.959Z"
   },
   {
    "duration": 31,
    "start_time": "2022-11-09T17:45:24.975Z"
   },
   {
    "duration": 13,
    "start_time": "2022-11-09T17:45:25.008Z"
   },
   {
    "duration": 11,
    "start_time": "2022-11-09T17:45:25.023Z"
   },
   {
    "duration": 30,
    "start_time": "2022-11-09T17:45:25.036Z"
   },
   {
    "duration": 11,
    "start_time": "2022-11-09T17:45:25.069Z"
   },
   {
    "duration": 15,
    "start_time": "2022-11-09T17:45:25.081Z"
   },
   {
    "duration": 1286,
    "start_time": "2022-11-09T17:45:25.098Z"
   },
   {
    "duration": 16,
    "start_time": "2022-11-09T17:45:26.386Z"
   },
   {
    "duration": 4,
    "start_time": "2022-11-09T17:45:26.403Z"
   },
   {
    "duration": 253,
    "start_time": "2022-11-09T17:45:26.408Z"
   },
   {
    "duration": 217,
    "start_time": "2022-11-09T17:45:26.662Z"
   },
   {
    "duration": 24,
    "start_time": "2022-11-09T17:45:26.881Z"
   },
   {
    "duration": 14,
    "start_time": "2022-11-09T17:45:26.907Z"
   },
   {
    "duration": 221,
    "start_time": "2022-11-09T17:45:26.923Z"
   },
   {
    "duration": 281,
    "start_time": "2022-11-09T17:45:27.146Z"
   },
   {
    "duration": 207,
    "start_time": "2022-11-09T17:45:27.429Z"
   },
   {
    "duration": 194,
    "start_time": "2022-11-09T17:45:27.637Z"
   },
   {
    "duration": 211,
    "start_time": "2022-11-09T17:45:27.832Z"
   },
   {
    "duration": 202,
    "start_time": "2022-11-09T17:45:28.045Z"
   },
   {
    "duration": 14,
    "start_time": "2022-11-09T17:45:28.248Z"
   },
   {
    "duration": 14,
    "start_time": "2022-11-09T17:45:28.263Z"
   },
   {
    "duration": 229,
    "start_time": "2022-11-09T17:45:28.279Z"
   },
   {
    "duration": 326,
    "start_time": "2022-11-09T17:45:28.512Z"
   },
   {
    "duration": 233,
    "start_time": "2022-11-09T17:45:28.839Z"
   },
   {
    "duration": 245,
    "start_time": "2022-11-09T17:45:29.074Z"
   },
   {
    "duration": 234,
    "start_time": "2022-11-09T17:45:29.320Z"
   },
   {
    "duration": 245,
    "start_time": "2022-11-09T17:45:29.558Z"
   },
   {
    "duration": 180,
    "start_time": "2022-11-09T17:45:29.804Z"
   },
   {
    "duration": 6,
    "start_time": "2022-11-09T17:45:29.985Z"
   },
   {
    "duration": 11,
    "start_time": "2022-11-09T17:45:29.992Z"
   },
   {
    "duration": 272,
    "start_time": "2022-11-09T17:45:30.004Z"
   },
   {
    "duration": 9,
    "start_time": "2022-11-09T17:45:30.278Z"
   },
   {
    "duration": 163,
    "start_time": "2022-11-09T17:45:30.289Z"
   },
   {
    "duration": 9,
    "start_time": "2022-11-09T17:45:30.454Z"
   },
   {
    "duration": 171,
    "start_time": "2022-11-09T17:45:30.464Z"
   },
   {
    "duration": 9,
    "start_time": "2022-11-09T17:45:30.636Z"
   },
   {
    "duration": 139,
    "start_time": "2022-11-09T17:45:30.646Z"
   },
   {
    "duration": 8,
    "start_time": "2022-11-09T17:45:30.787Z"
   },
   {
    "duration": 140,
    "start_time": "2022-11-09T17:45:30.796Z"
   },
   {
    "duration": 8,
    "start_time": "2022-11-09T17:45:30.937Z"
   },
   {
    "duration": 112,
    "start_time": "2022-11-09T17:45:30.959Z"
   },
   {
    "duration": 9,
    "start_time": "2022-11-09T17:45:31.072Z"
   },
   {
    "duration": 173,
    "start_time": "2022-11-09T17:45:31.082Z"
   },
   {
    "duration": 8,
    "start_time": "2022-11-09T17:45:31.258Z"
   },
   {
    "duration": 141,
    "start_time": "2022-11-09T17:45:31.268Z"
   },
   {
    "duration": 8,
    "start_time": "2022-11-09T17:45:31.411Z"
   },
   {
    "duration": 277,
    "start_time": "2022-11-09T17:45:31.421Z"
   },
   {
    "duration": 16,
    "start_time": "2022-11-09T17:45:31.700Z"
   },
   {
    "duration": 3,
    "start_time": "2022-11-09T17:45:31.717Z"
   },
   {
    "duration": 13,
    "start_time": "2022-11-09T17:45:31.721Z"
   },
   {
    "duration": 28,
    "start_time": "2022-11-09T17:45:31.735Z"
   },
   {
    "duration": 4,
    "start_time": "2022-11-09T17:45:31.765Z"
   },
   {
    "duration": 198,
    "start_time": "2022-11-09T17:45:31.771Z"
   },
   {
    "duration": 12,
    "start_time": "2022-11-09T17:45:31.971Z"
   },
   {
    "duration": 5,
    "start_time": "2022-11-09T17:45:31.985Z"
   },
   {
    "duration": 202,
    "start_time": "2022-11-09T17:45:31.991Z"
   },
   {
    "duration": 14,
    "start_time": "2022-11-09T17:45:32.194Z"
   },
   {
    "duration": 5,
    "start_time": "2022-11-09T17:45:32.209Z"
   },
   {
    "duration": 197,
    "start_time": "2022-11-09T17:45:32.215Z"
   },
   {
    "duration": 13,
    "start_time": "2022-11-09T17:45:32.413Z"
   },
   {
    "duration": 7,
    "start_time": "2022-11-09T17:45:32.427Z"
   },
   {
    "duration": 207,
    "start_time": "2022-11-09T17:45:32.436Z"
   },
   {
    "duration": 22,
    "start_time": "2022-11-09T17:45:32.645Z"
   },
   {
    "duration": 4,
    "start_time": "2022-11-09T17:45:32.668Z"
   },
   {
    "duration": 207,
    "start_time": "2022-11-09T17:45:32.674Z"
   },
   {
    "duration": 12,
    "start_time": "2022-11-09T17:45:32.882Z"
   },
   {
    "duration": 12,
    "start_time": "2022-11-09T17:45:32.896Z"
   },
   {
    "duration": 210,
    "start_time": "2022-11-09T17:45:32.910Z"
   },
   {
    "duration": 4,
    "start_time": "2022-11-09T17:45:33.121Z"
   },
   {
    "duration": 15,
    "start_time": "2022-11-09T17:45:33.126Z"
   },
   {
    "duration": 23,
    "start_time": "2022-11-09T17:45:33.143Z"
   },
   {
    "duration": 11,
    "start_time": "2022-11-09T17:45:33.167Z"
   },
   {
    "duration": 6,
    "start_time": "2022-11-09T17:45:33.179Z"
   },
   {
    "duration": 7,
    "start_time": "2022-11-09T17:45:33.187Z"
   }
  ],
  "kernelspec": {
   "display_name": "Python 3 (ipykernel)",
   "language": "python",
   "name": "python3"
  },
  "language_info": {
   "codemirror_mode": {
    "name": "ipython",
    "version": 3
   },
   "file_extension": ".py",
   "mimetype": "text/x-python",
   "name": "python",
   "nbconvert_exporter": "python",
   "pygments_lexer": "ipython3",
   "version": "3.9.12"
  },
  "toc": {
   "base_numbering": 1,
   "nav_menu": {},
   "number_sections": true,
   "sideBar": true,
   "skip_h1_title": true,
   "title_cell": "Table of Contents",
   "title_sidebar": "Contents",
   "toc_cell": false,
   "toc_position": {},
   "toc_section_display": true,
   "toc_window_display": false
  }
 },
 "nbformat": 4,
 "nbformat_minor": 2
}
