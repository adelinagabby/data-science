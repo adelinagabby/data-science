{
 "cells": [
  {
   "cell_type": "markdown",
   "metadata": {},
   "source": [
    "# Определение стоимости автомобилей"
   ]
  },
  {
   "cell_type": "markdown",
   "metadata": {},
   "source": [
    "**Описание проекта**\n",
    "\n",
    "Сервис по продаже автомобилей с пробегом «Не бит, не крашен» разрабатывает приложение, чтобы привлечь новых клиентов. В нём можно будет узнать рыночную стоимость своего автомобиля. \n",
    "\n",
    "\n",
    "\n",
    "**Цель проекта**\n",
    "\n",
    "Необходимо построить модель, которая умеет определять рыночную стоимость автомобиля. В распоряжении данные о технических характеристиках, комплектации и ценах других автомобилей.\n",
    "\n",
    "Критерии, которые важны заказчику:\n",
    "* качество предсказания;\n",
    "* время обучения модели;\n",
    "* время предсказания модели.\n",
    "\n",
    "**План проекта**\n",
    "\n",
    "1. Подготовка данных;\n",
    "2. Обучение моделей;\n",
    "3. Анализ моделей.\n",
    "\n",
    "**Описание данных**\n",
    "\n",
    "*Признаки*\n",
    "* DateCrawled — дата скачивания анкеты из базы\n",
    "* VehicleType — тип автомобильного кузова\n",
    "* RegistrationYear — год регистрации автомобиля\n",
    "* Gearbox — тип коробки передач\n",
    "* Power — мощность (л. с.)\n",
    "* Model — модель автомобиля\n",
    "* Kilometer — пробег (км)\n",
    "* RegistrationMonth — месяц регистрации автомобиля\n",
    "* FuelType — тип топлива\n",
    "* Brand — марка автомобиля\n",
    "* Repaired — была машина в ремонте или нет\n",
    "* DateCreated — дата создания анкеты\n",
    "* NumberOfPictures — количество фотографий автомобиля\n",
    "* PostalCode — почтовый индекс владельца анкеты (пользователя)\n",
    "* LastSeen — дата последней активности пользователя\n",
    "\n",
    "*Целевой признак*\n",
    "* Price — цена (евро)"
   ]
  },
  {
   "cell_type": "markdown",
   "metadata": {},
   "source": [
    "## Подготовка данных"
   ]
  },
  {
   "cell_type": "code",
   "execution_count": 1,
   "metadata": {},
   "outputs": [],
   "source": [
    "import numpy as np\n",
    "import pandas as pd\n",
    "\n",
    "from lightgbm import LGBMRegressor\n",
    "from sklearn.ensemble import RandomForestRegressor\n",
    "from sklearn.linear_model import LinearRegression\n",
    "from sklearn.metrics import mean_squared_error\n",
    "from sklearn.model_selection import train_test_split, GridSearchCV, RandomizedSearchCV\n",
    "from sklearn.preprocessing import OrdinalEncoder, StandardScaler\n",
    "from sklearn.tree import DecisionTreeRegressor\n"
   ]
  },
  {
   "cell_type": "code",
   "execution_count": 2,
   "metadata": {},
   "outputs": [
    {
     "data": {
      "text/html": [
       "<div>\n",
       "<style scoped>\n",
       "    .dataframe tbody tr th:only-of-type {\n",
       "        vertical-align: middle;\n",
       "    }\n",
       "\n",
       "    .dataframe tbody tr th {\n",
       "        vertical-align: top;\n",
       "    }\n",
       "\n",
       "    .dataframe thead th {\n",
       "        text-align: right;\n",
       "    }\n",
       "</style>\n",
       "<table border=\"1\" class=\"dataframe\">\n",
       "  <thead>\n",
       "    <tr style=\"text-align: right;\">\n",
       "      <th></th>\n",
       "      <th>DateCrawled</th>\n",
       "      <th>Price</th>\n",
       "      <th>VehicleType</th>\n",
       "      <th>RegistrationYear</th>\n",
       "      <th>Gearbox</th>\n",
       "      <th>Power</th>\n",
       "      <th>Model</th>\n",
       "      <th>Kilometer</th>\n",
       "      <th>RegistrationMonth</th>\n",
       "      <th>FuelType</th>\n",
       "      <th>Brand</th>\n",
       "      <th>Repaired</th>\n",
       "      <th>DateCreated</th>\n",
       "      <th>NumberOfPictures</th>\n",
       "      <th>PostalCode</th>\n",
       "      <th>LastSeen</th>\n",
       "    </tr>\n",
       "  </thead>\n",
       "  <tbody>\n",
       "    <tr>\n",
       "      <th>0</th>\n",
       "      <td>2016-03-24 11:52:17</td>\n",
       "      <td>480</td>\n",
       "      <td>NaN</td>\n",
       "      <td>1993</td>\n",
       "      <td>manual</td>\n",
       "      <td>0</td>\n",
       "      <td>golf</td>\n",
       "      <td>150000</td>\n",
       "      <td>0</td>\n",
       "      <td>petrol</td>\n",
       "      <td>volkswagen</td>\n",
       "      <td>NaN</td>\n",
       "      <td>2016-03-24 00:00:00</td>\n",
       "      <td>0</td>\n",
       "      <td>70435</td>\n",
       "      <td>2016-04-07 03:16:57</td>\n",
       "    </tr>\n",
       "    <tr>\n",
       "      <th>1</th>\n",
       "      <td>2016-03-24 10:58:45</td>\n",
       "      <td>18300</td>\n",
       "      <td>coupe</td>\n",
       "      <td>2011</td>\n",
       "      <td>manual</td>\n",
       "      <td>190</td>\n",
       "      <td>NaN</td>\n",
       "      <td>125000</td>\n",
       "      <td>5</td>\n",
       "      <td>gasoline</td>\n",
       "      <td>audi</td>\n",
       "      <td>yes</td>\n",
       "      <td>2016-03-24 00:00:00</td>\n",
       "      <td>0</td>\n",
       "      <td>66954</td>\n",
       "      <td>2016-04-07 01:46:50</td>\n",
       "    </tr>\n",
       "    <tr>\n",
       "      <th>2</th>\n",
       "      <td>2016-03-14 12:52:21</td>\n",
       "      <td>9800</td>\n",
       "      <td>suv</td>\n",
       "      <td>2004</td>\n",
       "      <td>auto</td>\n",
       "      <td>163</td>\n",
       "      <td>grand</td>\n",
       "      <td>125000</td>\n",
       "      <td>8</td>\n",
       "      <td>gasoline</td>\n",
       "      <td>jeep</td>\n",
       "      <td>NaN</td>\n",
       "      <td>2016-03-14 00:00:00</td>\n",
       "      <td>0</td>\n",
       "      <td>90480</td>\n",
       "      <td>2016-04-05 12:47:46</td>\n",
       "    </tr>\n",
       "    <tr>\n",
       "      <th>3</th>\n",
       "      <td>2016-03-17 16:54:04</td>\n",
       "      <td>1500</td>\n",
       "      <td>small</td>\n",
       "      <td>2001</td>\n",
       "      <td>manual</td>\n",
       "      <td>75</td>\n",
       "      <td>golf</td>\n",
       "      <td>150000</td>\n",
       "      <td>6</td>\n",
       "      <td>petrol</td>\n",
       "      <td>volkswagen</td>\n",
       "      <td>no</td>\n",
       "      <td>2016-03-17 00:00:00</td>\n",
       "      <td>0</td>\n",
       "      <td>91074</td>\n",
       "      <td>2016-03-17 17:40:17</td>\n",
       "    </tr>\n",
       "    <tr>\n",
       "      <th>4</th>\n",
       "      <td>2016-03-31 17:25:20</td>\n",
       "      <td>3600</td>\n",
       "      <td>small</td>\n",
       "      <td>2008</td>\n",
       "      <td>manual</td>\n",
       "      <td>69</td>\n",
       "      <td>fabia</td>\n",
       "      <td>90000</td>\n",
       "      <td>7</td>\n",
       "      <td>gasoline</td>\n",
       "      <td>skoda</td>\n",
       "      <td>no</td>\n",
       "      <td>2016-03-31 00:00:00</td>\n",
       "      <td>0</td>\n",
       "      <td>60437</td>\n",
       "      <td>2016-04-06 10:17:21</td>\n",
       "    </tr>\n",
       "    <tr>\n",
       "      <th>5</th>\n",
       "      <td>2016-04-04 17:36:23</td>\n",
       "      <td>650</td>\n",
       "      <td>sedan</td>\n",
       "      <td>1995</td>\n",
       "      <td>manual</td>\n",
       "      <td>102</td>\n",
       "      <td>3er</td>\n",
       "      <td>150000</td>\n",
       "      <td>10</td>\n",
       "      <td>petrol</td>\n",
       "      <td>bmw</td>\n",
       "      <td>yes</td>\n",
       "      <td>2016-04-04 00:00:00</td>\n",
       "      <td>0</td>\n",
       "      <td>33775</td>\n",
       "      <td>2016-04-06 19:17:07</td>\n",
       "    </tr>\n",
       "    <tr>\n",
       "      <th>6</th>\n",
       "      <td>2016-04-01 20:48:51</td>\n",
       "      <td>2200</td>\n",
       "      <td>convertible</td>\n",
       "      <td>2004</td>\n",
       "      <td>manual</td>\n",
       "      <td>109</td>\n",
       "      <td>2_reihe</td>\n",
       "      <td>150000</td>\n",
       "      <td>8</td>\n",
       "      <td>petrol</td>\n",
       "      <td>peugeot</td>\n",
       "      <td>no</td>\n",
       "      <td>2016-04-01 00:00:00</td>\n",
       "      <td>0</td>\n",
       "      <td>67112</td>\n",
       "      <td>2016-04-05 18:18:39</td>\n",
       "    </tr>\n",
       "    <tr>\n",
       "      <th>7</th>\n",
       "      <td>2016-03-21 18:54:38</td>\n",
       "      <td>0</td>\n",
       "      <td>sedan</td>\n",
       "      <td>1980</td>\n",
       "      <td>manual</td>\n",
       "      <td>50</td>\n",
       "      <td>other</td>\n",
       "      <td>40000</td>\n",
       "      <td>7</td>\n",
       "      <td>petrol</td>\n",
       "      <td>volkswagen</td>\n",
       "      <td>no</td>\n",
       "      <td>2016-03-21 00:00:00</td>\n",
       "      <td>0</td>\n",
       "      <td>19348</td>\n",
       "      <td>2016-03-25 16:47:58</td>\n",
       "    </tr>\n",
       "    <tr>\n",
       "      <th>8</th>\n",
       "      <td>2016-04-04 23:42:13</td>\n",
       "      <td>14500</td>\n",
       "      <td>bus</td>\n",
       "      <td>2014</td>\n",
       "      <td>manual</td>\n",
       "      <td>125</td>\n",
       "      <td>c_max</td>\n",
       "      <td>30000</td>\n",
       "      <td>8</td>\n",
       "      <td>petrol</td>\n",
       "      <td>ford</td>\n",
       "      <td>NaN</td>\n",
       "      <td>2016-04-04 00:00:00</td>\n",
       "      <td>0</td>\n",
       "      <td>94505</td>\n",
       "      <td>2016-04-04 23:42:13</td>\n",
       "    </tr>\n",
       "    <tr>\n",
       "      <th>9</th>\n",
       "      <td>2016-03-17 10:53:50</td>\n",
       "      <td>999</td>\n",
       "      <td>small</td>\n",
       "      <td>1998</td>\n",
       "      <td>manual</td>\n",
       "      <td>101</td>\n",
       "      <td>golf</td>\n",
       "      <td>150000</td>\n",
       "      <td>0</td>\n",
       "      <td>NaN</td>\n",
       "      <td>volkswagen</td>\n",
       "      <td>NaN</td>\n",
       "      <td>2016-03-17 00:00:00</td>\n",
       "      <td>0</td>\n",
       "      <td>27472</td>\n",
       "      <td>2016-03-31 17:17:06</td>\n",
       "    </tr>\n",
       "    <tr>\n",
       "      <th>10</th>\n",
       "      <td>2016-03-26 19:54:18</td>\n",
       "      <td>2000</td>\n",
       "      <td>sedan</td>\n",
       "      <td>2004</td>\n",
       "      <td>manual</td>\n",
       "      <td>105</td>\n",
       "      <td>3_reihe</td>\n",
       "      <td>150000</td>\n",
       "      <td>12</td>\n",
       "      <td>petrol</td>\n",
       "      <td>mazda</td>\n",
       "      <td>no</td>\n",
       "      <td>2016-03-26 00:00:00</td>\n",
       "      <td>0</td>\n",
       "      <td>96224</td>\n",
       "      <td>2016-04-06 10:45:34</td>\n",
       "    </tr>\n",
       "    <tr>\n",
       "      <th>11</th>\n",
       "      <td>2016-04-07 10:06:22</td>\n",
       "      <td>2799</td>\n",
       "      <td>wagon</td>\n",
       "      <td>2005</td>\n",
       "      <td>manual</td>\n",
       "      <td>140</td>\n",
       "      <td>passat</td>\n",
       "      <td>150000</td>\n",
       "      <td>12</td>\n",
       "      <td>gasoline</td>\n",
       "      <td>volkswagen</td>\n",
       "      <td>yes</td>\n",
       "      <td>2016-04-07 00:00:00</td>\n",
       "      <td>0</td>\n",
       "      <td>57290</td>\n",
       "      <td>2016-04-07 10:25:17</td>\n",
       "    </tr>\n",
       "    <tr>\n",
       "      <th>12</th>\n",
       "      <td>2016-03-15 22:49:09</td>\n",
       "      <td>999</td>\n",
       "      <td>wagon</td>\n",
       "      <td>1995</td>\n",
       "      <td>manual</td>\n",
       "      <td>115</td>\n",
       "      <td>passat</td>\n",
       "      <td>150000</td>\n",
       "      <td>11</td>\n",
       "      <td>petrol</td>\n",
       "      <td>volkswagen</td>\n",
       "      <td>NaN</td>\n",
       "      <td>2016-03-15 00:00:00</td>\n",
       "      <td>0</td>\n",
       "      <td>37269</td>\n",
       "      <td>2016-04-01 13:16:16</td>\n",
       "    </tr>\n",
       "    <tr>\n",
       "      <th>13</th>\n",
       "      <td>2016-03-21 21:37:40</td>\n",
       "      <td>2500</td>\n",
       "      <td>wagon</td>\n",
       "      <td>2004</td>\n",
       "      <td>manual</td>\n",
       "      <td>131</td>\n",
       "      <td>passat</td>\n",
       "      <td>150000</td>\n",
       "      <td>2</td>\n",
       "      <td>NaN</td>\n",
       "      <td>volkswagen</td>\n",
       "      <td>no</td>\n",
       "      <td>2016-03-21 00:00:00</td>\n",
       "      <td>0</td>\n",
       "      <td>90762</td>\n",
       "      <td>2016-03-23 02:50:54</td>\n",
       "    </tr>\n",
       "    <tr>\n",
       "      <th>14</th>\n",
       "      <td>2016-03-21 12:57:01</td>\n",
       "      <td>17999</td>\n",
       "      <td>suv</td>\n",
       "      <td>2011</td>\n",
       "      <td>manual</td>\n",
       "      <td>190</td>\n",
       "      <td>navara</td>\n",
       "      <td>70000</td>\n",
       "      <td>3</td>\n",
       "      <td>gasoline</td>\n",
       "      <td>nissan</td>\n",
       "      <td>no</td>\n",
       "      <td>2016-03-21 00:00:00</td>\n",
       "      <td>0</td>\n",
       "      <td>4177</td>\n",
       "      <td>2016-04-06 07:45:42</td>\n",
       "    </tr>\n",
       "  </tbody>\n",
       "</table>\n",
       "</div>"
      ],
      "text/plain": [
       "            DateCrawled  Price  VehicleType  RegistrationYear Gearbox  Power  \\\n",
       "0   2016-03-24 11:52:17    480          NaN              1993  manual      0   \n",
       "1   2016-03-24 10:58:45  18300        coupe              2011  manual    190   \n",
       "2   2016-03-14 12:52:21   9800          suv              2004    auto    163   \n",
       "3   2016-03-17 16:54:04   1500        small              2001  manual     75   \n",
       "4   2016-03-31 17:25:20   3600        small              2008  manual     69   \n",
       "5   2016-04-04 17:36:23    650        sedan              1995  manual    102   \n",
       "6   2016-04-01 20:48:51   2200  convertible              2004  manual    109   \n",
       "7   2016-03-21 18:54:38      0        sedan              1980  manual     50   \n",
       "8   2016-04-04 23:42:13  14500          bus              2014  manual    125   \n",
       "9   2016-03-17 10:53:50    999        small              1998  manual    101   \n",
       "10  2016-03-26 19:54:18   2000        sedan              2004  manual    105   \n",
       "11  2016-04-07 10:06:22   2799        wagon              2005  manual    140   \n",
       "12  2016-03-15 22:49:09    999        wagon              1995  manual    115   \n",
       "13  2016-03-21 21:37:40   2500        wagon              2004  manual    131   \n",
       "14  2016-03-21 12:57:01  17999          suv              2011  manual    190   \n",
       "\n",
       "      Model  Kilometer  RegistrationMonth  FuelType       Brand Repaired  \\\n",
       "0      golf     150000                  0    petrol  volkswagen      NaN   \n",
       "1       NaN     125000                  5  gasoline        audi      yes   \n",
       "2     grand     125000                  8  gasoline        jeep      NaN   \n",
       "3      golf     150000                  6    petrol  volkswagen       no   \n",
       "4     fabia      90000                  7  gasoline       skoda       no   \n",
       "5       3er     150000                 10    petrol         bmw      yes   \n",
       "6   2_reihe     150000                  8    petrol     peugeot       no   \n",
       "7     other      40000                  7    petrol  volkswagen       no   \n",
       "8     c_max      30000                  8    petrol        ford      NaN   \n",
       "9      golf     150000                  0       NaN  volkswagen      NaN   \n",
       "10  3_reihe     150000                 12    petrol       mazda       no   \n",
       "11   passat     150000                 12  gasoline  volkswagen      yes   \n",
       "12   passat     150000                 11    petrol  volkswagen      NaN   \n",
       "13   passat     150000                  2       NaN  volkswagen       no   \n",
       "14   navara      70000                  3  gasoline      nissan       no   \n",
       "\n",
       "            DateCreated  NumberOfPictures  PostalCode             LastSeen  \n",
       "0   2016-03-24 00:00:00                 0       70435  2016-04-07 03:16:57  \n",
       "1   2016-03-24 00:00:00                 0       66954  2016-04-07 01:46:50  \n",
       "2   2016-03-14 00:00:00                 0       90480  2016-04-05 12:47:46  \n",
       "3   2016-03-17 00:00:00                 0       91074  2016-03-17 17:40:17  \n",
       "4   2016-03-31 00:00:00                 0       60437  2016-04-06 10:17:21  \n",
       "5   2016-04-04 00:00:00                 0       33775  2016-04-06 19:17:07  \n",
       "6   2016-04-01 00:00:00                 0       67112  2016-04-05 18:18:39  \n",
       "7   2016-03-21 00:00:00                 0       19348  2016-03-25 16:47:58  \n",
       "8   2016-04-04 00:00:00                 0       94505  2016-04-04 23:42:13  \n",
       "9   2016-03-17 00:00:00                 0       27472  2016-03-31 17:17:06  \n",
       "10  2016-03-26 00:00:00                 0       96224  2016-04-06 10:45:34  \n",
       "11  2016-04-07 00:00:00                 0       57290  2016-04-07 10:25:17  \n",
       "12  2016-03-15 00:00:00                 0       37269  2016-04-01 13:16:16  \n",
       "13  2016-03-21 00:00:00                 0       90762  2016-03-23 02:50:54  \n",
       "14  2016-03-21 00:00:00                 0        4177  2016-04-06 07:45:42  "
      ]
     },
     "execution_count": 2,
     "metadata": {},
     "output_type": "execute_result"
    }
   ],
   "source": [
    "try:\n",
    "    data = pd.read_csv('/datasets/autos.csv')\n",
    "except:\n",
    "    data = pd.read_csv('https://code.s3.yandex.net/datasets/autos.csv')\n",
    "\n",
    "data.head(15)"
   ]
  },
  {
   "cell_type": "markdown",
   "metadata": {},
   "source": [
    "<div class='alert alert-success'> ✔️Правильно, что сгруппировала импорты в одном месте, это облегчает понимание используемого в работе функционала и улучшает читабельность кода.\n",
    "try-except тоже к месту, чтобы проект запускался и локально, и удаленно.\n",
    "</div>"
   ]
  },
  {
   "cell_type": "code",
   "execution_count": 3,
   "metadata": {},
   "outputs": [
    {
     "name": "stdout",
     "output_type": "stream",
     "text": [
      "<class 'pandas.core.frame.DataFrame'>\n",
      "RangeIndex: 354369 entries, 0 to 354368\n",
      "Data columns (total 16 columns):\n",
      " #   Column             Non-Null Count   Dtype \n",
      "---  ------             --------------   ----- \n",
      " 0   DateCrawled        354369 non-null  object\n",
      " 1   Price              354369 non-null  int64 \n",
      " 2   VehicleType        316879 non-null  object\n",
      " 3   RegistrationYear   354369 non-null  int64 \n",
      " 4   Gearbox            334536 non-null  object\n",
      " 5   Power              354369 non-null  int64 \n",
      " 6   Model              334664 non-null  object\n",
      " 7   Kilometer          354369 non-null  int64 \n",
      " 8   RegistrationMonth  354369 non-null  int64 \n",
      " 9   FuelType           321474 non-null  object\n",
      " 10  Brand              354369 non-null  object\n",
      " 11  Repaired           283215 non-null  object\n",
      " 12  DateCreated        354369 non-null  object\n",
      " 13  NumberOfPictures   354369 non-null  int64 \n",
      " 14  PostalCode         354369 non-null  int64 \n",
      " 15  LastSeen           354369 non-null  object\n",
      "dtypes: int64(7), object(9)\n",
      "memory usage: 43.3+ MB\n"
     ]
    }
   ],
   "source": [
    "data.info()"
   ]
  },
  {
   "cell_type": "code",
   "execution_count": 4,
   "metadata": {},
   "outputs": [
    {
     "data": {
      "text/plain": [
       "DateCrawled              0\n",
       "Price                    0\n",
       "VehicleType          37490\n",
       "RegistrationYear         0\n",
       "Gearbox              19833\n",
       "Power                    0\n",
       "Model                19705\n",
       "Kilometer                0\n",
       "RegistrationMonth        0\n",
       "FuelType             32895\n",
       "Brand                    0\n",
       "Repaired             71154\n",
       "DateCreated              0\n",
       "NumberOfPictures         0\n",
       "PostalCode               0\n",
       "LastSeen                 0\n",
       "dtype: int64"
      ]
     },
     "execution_count": 4,
     "metadata": {},
     "output_type": "execute_result"
    }
   ],
   "source": [
    "data.isna().sum()"
   ]
  },
  {
   "cell_type": "markdown",
   "metadata": {},
   "source": [
    "Удалим строчки с пропущенными моделями так как это важный критерий."
   ]
  },
  {
   "cell_type": "code",
   "execution_count": 5,
   "metadata": {},
   "outputs": [],
   "source": [
    "data = data.dropna(subset = ['Model']).reset_index(drop = True)"
   ]
  },
  {
   "cell_type": "code",
   "execution_count": 6,
   "metadata": {},
   "outputs": [
    {
     "data": {
      "text/plain": [
       "DateCrawled              0\n",
       "Price                    0\n",
       "VehicleType          30662\n",
       "RegistrationYear         0\n",
       "Gearbox              15702\n",
       "Power                    0\n",
       "Model                    0\n",
       "Kilometer                0\n",
       "RegistrationMonth        0\n",
       "FuelType             25732\n",
       "Brand                    0\n",
       "Repaired             62100\n",
       "DateCreated              0\n",
       "NumberOfPictures         0\n",
       "PostalCode               0\n",
       "LastSeen                 0\n",
       "dtype: int64"
      ]
     },
     "execution_count": 6,
     "metadata": {},
     "output_type": "execute_result"
    }
   ],
   "source": [
    "data.isna().sum()"
   ]
  },
  {
   "cell_type": "markdown",
   "metadata": {},
   "source": [
    "Заполним пропущенные значения в данных самым популярным значением в соответствующем столбце по соответствующим марки автомобиля и модели."
   ]
  },
  {
   "cell_type": "code",
   "execution_count": 7,
   "metadata": {},
   "outputs": [],
   "source": [
    "for brand in data['Brand'].unique():\n",
    "    for model in data.query('Brand == @brand')['Model'].unique():\n",
    "        data.loc[(data['Brand'] == brand) & (data['Model'] == model) & (data['VehicleType'].isna()), 'VehicleType'] = \\\n",
    "        data.query('Brand == @brand & Model == @model')['VehicleType'].mode()[0]\n",
    "        data.loc[(data['Brand'] == brand) & (data['Model'] == model) & (data['Gearbox'].isna()), 'Gearbox'] = \\\n",
    "        data.query('Brand == @brand & Model == @model')['Gearbox'].mode()[0]\n",
    "        data.loc[(data['Brand'] == brand) & (data['Model'] == model) & (data['FuelType'].isna()), 'FuelType'] = \\\n",
    "        data.query('Brand == @brand & Model == @model')['FuelType'].mode()[0]\n",
    "        try:\n",
    "            data.loc[(data['Brand'] == brand) & (data['Model'] == model) & (data['Repaired'].isna()), 'Repaired'] = \\\n",
    "            data.query('Brand == @brand & Model == @model')['Repaired'].mode()[0]\n",
    "        except:\n",
    "            data.loc[(data['Brand'] == brand) & (data['Model'] == model) & (data['Repaired'].isna()), 'Repaired'] = \\\n",
    "        'unknown'"
   ]
  },
  {
   "cell_type": "code",
   "execution_count": 8,
   "metadata": {},
   "outputs": [
    {
     "data": {
      "text/plain": [
       "DateCrawled          0\n",
       "Price                0\n",
       "VehicleType          0\n",
       "RegistrationYear     0\n",
       "Gearbox              0\n",
       "Power                0\n",
       "Model                0\n",
       "Kilometer            0\n",
       "RegistrationMonth    0\n",
       "FuelType             0\n",
       "Brand                0\n",
       "Repaired             0\n",
       "DateCreated          0\n",
       "NumberOfPictures     0\n",
       "PostalCode           0\n",
       "LastSeen             0\n",
       "dtype: int64"
      ]
     },
     "execution_count": 8,
     "metadata": {},
     "output_type": "execute_result"
    }
   ],
   "source": [
    "data.isna().sum()"
   ]
  },
  {
   "cell_type": "markdown",
   "metadata": {},
   "source": [
    "Удалим 2 строчки с пропущенными Repaired."
   ]
  },
  {
   "cell_type": "code",
   "execution_count": 9,
   "metadata": {},
   "outputs": [
    {
     "data": {
      "text/plain": [
       "DateCrawled          0\n",
       "Price                0\n",
       "VehicleType          0\n",
       "RegistrationYear     0\n",
       "Gearbox              0\n",
       "Power                0\n",
       "Model                0\n",
       "Kilometer            0\n",
       "RegistrationMonth    0\n",
       "FuelType             0\n",
       "Brand                0\n",
       "Repaired             0\n",
       "DateCreated          0\n",
       "NumberOfPictures     0\n",
       "PostalCode           0\n",
       "LastSeen             0\n",
       "dtype: int64"
      ]
     },
     "execution_count": 9,
     "metadata": {},
     "output_type": "execute_result"
    }
   ],
   "source": [
    "data = data.dropna(subset = ['Repaired']).reset_index(drop = True)\n",
    "data.isna().sum()"
   ]
  },
  {
   "cell_type": "code",
   "execution_count": 10,
   "metadata": {},
   "outputs": [
    {
     "name": "stdout",
     "output_type": "stream",
     "text": [
      "DateCrawled : \n",
      "\n",
      "['2016-03-24 11:52:17' '2016-03-14 12:52:21' '2016-03-17 16:54:04' ...\n",
      " '2016-03-19 19:53:49' '2016-03-21 09:50:58' '2016-03-19 18:57:12']\n",
      "________________\n",
      "\n",
      "Price : \n",
      "\n",
      "[  480  9800  1500 ... 12395 18429 10985]\n",
      "________________\n",
      "\n",
      "VehicleType : \n",
      "\n",
      "['sedan' 'suv' 'small' 'convertible' 'bus' 'wagon' 'coupe' 'other']\n",
      "________________\n",
      "\n",
      "RegistrationYear : \n",
      "\n",
      "[1993 2004 2001 2008 1995 1980 2014 1998 2005 2011 1910 2016 2007 2009\n",
      " 2002 2018 1997 1990 2017 1981 2003 1994 1991 1984 2006 1999 2012 2010\n",
      " 2000 1992 2013 1996 1985 1989 2015 1982 1976 1983 1973 1969 1971 1987\n",
      " 1986 1988 1965 1970 1945 1974 1955 1978 1979 1972 1968 1977 1961 1960\n",
      " 1966 1975 1963 5000 1954 1967 1000 9999 1500 2200 1964 3000 2066 1949\n",
      " 1962 2019 1937 1951 1959 1953 1958 8000 1956 9000 2900 5900 5911 1400\n",
      " 1950 4000 1952 1200 8500 1932 3700 1942 1935 1234 1933 1936 6500 1957\n",
      " 1923 2290 1930 1001 7000 1929 1943 1934 1938 1928 1941 1800 1919 5555\n",
      " 6000 1300 1931 4500 1602 1111 7800 1947 1927 7100 2500 8200 7500 1600]\n",
      "________________\n",
      "\n",
      "Gearbox : \n",
      "\n",
      "['manual' 'auto']\n",
      "________________\n",
      "\n",
      "Power : \n",
      "\n",
      "[    0   163    75    69   102   109    50   125   101   105   140   115\n",
      "   131   190    60   136   160   231    90   118   193    99   113   218\n",
      "   122   129    70   306    95    61   177    80   170    55   143    64\n",
      "   232   150   156    82   155   185    87   180    86    84   224   235\n",
      "   200   178   265    77   110   144   120    54   286   116   184   126\n",
      "   204    88   194   305   197   179   250   313    41    45   165    98\n",
      "   130   114   211    56   201   213    58   107    83   174   100   220\n",
      "    85    73   192    66   299    74    52   147    65   310    71    97\n",
      "   239    68   203   300   103   258   320    63    81   148    44   145\n",
      "   280   260   104   188   333   117   141    59   132   234   158    39\n",
      "    92    51   135   230    53   209    43   146    67   106   166   276\n",
      "   344    72   237   245   111   326   279    23   138   175    96   226\n",
      "   301   334   128   133   124    33   219   241   167   182   196   238\n",
      "  1398   228    48   272   139  1799   240   186    79   256   243   375\n",
      "   252   396   340   108   121   187   289   222   198   284    37   450\n",
      "   233   112   387   152   347   172    57   137    94   212   476   314\n",
      "    30     7    47    26   173   290   207   205   171    78    91    89\n",
      "   349    40   325    76   151   953    93   142   500   343   199   164\n",
      "    16   367   208   210    46   435  1001   225   127   176   161   603\n",
      "   307   354    35   206   771   355   273   223   255   123   154   149\n",
      "  7515   268   620   169   400   275    34     2   242  1779   162  1753\n",
      "   329   285   134   420   247   168 10317   215   360    18   330    62\n",
      "   214   183   254    15   321   315   952   328   600   181   119   426\n",
      "   599   379   999   264    22   157    42   195   309   507   381   271\n",
      "   440   401   249   189  1111  2729    21  1240  1704   521     1  1900\n",
      "   270   292   808   515   303    29    38  1993    14   216   610   504\n",
      "   267   331   363   261   253   696 10520   376   227   311    27   217\n",
      "   350    20    10  1999    11  1056    25   394    12   298   296    49\n",
      "  1659     4   294  6920   246     5    17  1625   368   221  1367   259\n",
      "   606    24   327  2017  1597   266   374     9   405    13   601     8\n",
      "   411   900   159   541  7512 10218  7544   287    19  1090   457   236\n",
      "   282   388   385  1000  5411   335  1360   202  3750   805  1062   750\n",
      "  1400  1024 11530  1796  5000   269   460  1780 12012 17932   316  2005\n",
      "  1800  1399   191  1200   278  1300   380   257   449   295   153   288\n",
      "  1653   520   560   281 12510  1500   386    32  1202  2016   430  1436\n",
      "  1405   671   274  1288  1055 15016  6226  1115   277  1105   341  1223\n",
      "   392  8404  1968   338   445  1920   370   517  4400 10710 10522     6\n",
      "   431  1164 11509   371  1501   428 11635    36   304   390   348  1703\n",
      "  1910   579   580   408    31   358  1403   489  5575   262 19211   585\n",
      "   960   353   490   283   352   550  3199  7508  1312  1937   950  4700\n",
      "  1600  3454 19208   251   850   337   700  8011  2331  2789   487   519\n",
      "  2461  6006  3500  5815  6018  1781   751   612  1506  5809 15020  5867\n",
      "  2172  1598 17410  1363   584   322  1054   382  1339   318   510   525\n",
      "  1700    28  1151   685  6011   317   703  1771 15001   514   332   324\n",
      "  6045   530   425   308  6010   475   903   640  2000   362   248   651\n",
      "  2799 17011   505  1103  1521   351   398  9000  1998 10311   409  1230\n",
      " 17019  8259  1895   901   871   909  2201  1595   776 17700 11011  1199\n",
      "   459   357  1162 15033  1896   339   361   574  6512  1011   454 13616\n",
      "   604   607 16312  1082   336 20000   416   678  6012  1021  1870  1401\n",
      " 13636  1250  9710   323  1158  2009   902  6062  1275   572   244   399\n",
      "  1016   743  1221   345  2402 16011  1362   544   645   907   702 12512\n",
      "  1995  1986  1003  1432  9013  9011  1017  1394 15017  1992   540  2018\n",
      " 11025  1433  1701  2792  1502  1239  1390  1160 11111  1783   229  9007\n",
      "   923  1149   754  1988  5420  1793   365   356   364  7511  1299   293\n",
      " 19312  1079  1689   998   800  1100  9012   346  1933   508 16311   551\n",
      "  1252  7529  1005  2200  1707  1416  8500  1012   485  1503  3000 10110\n",
      "   421  4507  1631  7518   377  1004  2007  2598  1548  1241   650     3]\n",
      "________________\n",
      "\n",
      "Model : \n",
      "\n",
      "['golf' 'grand' 'fabia' '3er' '2_reihe' 'other' 'c_max' '3_reihe' 'passat'\n",
      " 'navara' 'ka' 'polo' 'twingo' 'a_klasse' 'scirocco' '5er' 'meriva'\n",
      " 'arosa' 'c4' 'civic' 'transporter' 'punto' 'e_klasse' 'clio' 'kadett'\n",
      " 'kangoo' 'corsa' 'one' 'fortwo' '1er' 'b_klasse' 'signum' 'astra' 'a8'\n",
      " 'jetta' 'fiesta' 'c_klasse' 'micra' 'vito' 'sprinter' '156' 'escort'\n",
      " 'forester' 'xc_reihe' 'scenic' 'a4' 'a1' 'insignia' 'combo' 'focus' 'tt'\n",
      " 'a6' 'jazz' 'omega' 'slk' '7er' '80' '147' '100' 'z_reihe' 'sportage'\n",
      " 'sorento' 'v40' 'ibiza' 'mustang' 'eos' 'touran' 'getz' 'a3' 'almera'\n",
      " 'megane' 'lupo' 'r19' 'zafira' 'caddy' 'mondeo' 'cordoba' 'colt'\n",
      " 'impreza' 'vectra' 'berlingo' 'tiguan' 'i_reihe' 'espace' 'sharan'\n",
      " '6_reihe' 'panda' 'up' 'seicento' 'ceed' '5_reihe' 'yeti' 'octavia' 'mii'\n",
      " 'rx_reihe' '6er' 'modus' 'fox' 'matiz' 'beetle' 'c1' 'rio' 'touareg'\n",
      " 'logan' 'spider' 'cuore' 's_max' 'a2' 'galaxy' 'c3' 'viano' 's_klasse'\n",
      " '1_reihe' 'avensis' 'roomster' 'sl' 'kaefer' 'santa' 'cooper' 'leon'\n",
      " '4_reihe' 'a5' '500' 'laguna' 'ptcruiser' 'clk' 'primera' 'x_reihe'\n",
      " 'exeo' '159' 'transit' 'juke' 'qashqai' 'carisma' 'accord' 'corolla'\n",
      " 'lanos' 'phaeton' 'verso' 'swift' 'rav' 'picanto' 'boxster' 'kalos'\n",
      " 'superb' 'stilo' 'alhambra' 'mx_reihe' 'roadster' 'ypsilon' 'cayenne'\n",
      " 'galant' 'justy' '90' 'sirion' 'crossfire' 'agila' 'duster' 'cr_reihe'\n",
      " 'v50' 'c_reihe' 'v_klasse' 'm_klasse' 'yaris' 'c5' 'aygo' 'cc' 'carnival'\n",
      " 'fusion' '911' 'bora' 'forfour' 'm_reihe' 'cl' 'tigra' '300c' 'spark'\n",
      " 'v70' 'kuga' 'x_type' 'ducato' 's_type' 'x_trail' 'toledo' 'altea'\n",
      " 'voyager' 'calibra' 'bravo' 'antara' 'tucson' 'citigo' 'jimny' 'wrangler'\n",
      " 'lybra' 'q7' 'lancer' 'captiva' 'c2' 'discovery' 'freelander' 'sandero'\n",
      " 'note' '900' 'cherokee' 'clubman' 'samara' 'defender' '601' 'cx_reihe'\n",
      " 'legacy' 'pajero' 'auris' 'niva' 's60' 'nubira' 'vivaro' 'g_klasse'\n",
      " 'lodgy' '850' 'range_rover' 'q3' 'serie_2' 'glk' 'charade' 'croma'\n",
      " 'outlander' 'doblo' 'musa' 'move' '9000' 'v60' '145' 'aveo' '200' 'b_max'\n",
      " 'range_rover_sport' 'terios' 'rangerover' 'q5' 'range_rover_evoque'\n",
      " 'materia' 'delta' 'gl' 'kalina' 'amarok' 'elefantino' 'i3' 'kappa'\n",
      " 'serie_3' 'serie_1']\n",
      "________________\n",
      "\n",
      "Kilometer : \n",
      "\n",
      "[150000 125000  90000  40000  30000  70000   5000 100000  60000  20000\n",
      "  80000  50000  10000]\n",
      "________________\n",
      "\n",
      "RegistrationMonth : \n",
      "\n",
      "[ 0  8  6  7 10 12 11  2  3  1  4  5  9]\n",
      "________________\n",
      "\n",
      "FuelType : \n",
      "\n",
      "['petrol' 'gasoline' 'lpg' 'other' 'hybrid' 'cng' 'electric']\n",
      "________________\n",
      "\n",
      "Brand : \n",
      "\n",
      "['volkswagen' 'jeep' 'skoda' 'bmw' 'peugeot' 'ford' 'mazda' 'nissan'\n",
      " 'renault' 'mercedes_benz' 'opel' 'seat' 'citroen' 'honda' 'fiat' 'mini'\n",
      " 'smart' 'hyundai' 'audi' 'alfa_romeo' 'subaru' 'volvo' 'mitsubishi' 'kia'\n",
      " 'suzuki' 'lancia' 'toyota' 'chevrolet' 'dacia' 'daihatsu' 'chrysler'\n",
      " 'jaguar' 'daewoo' 'porsche' 'rover' 'saab' 'land_rover' 'trabant' 'lada']\n",
      "________________\n",
      "\n",
      "Repaired : \n",
      "\n",
      "['no' 'yes' 'unknown']\n",
      "________________\n",
      "\n",
      "DateCreated : \n",
      "\n",
      "['2016-03-24 00:00:00' '2016-03-14 00:00:00' '2016-03-17 00:00:00'\n",
      " '2016-03-31 00:00:00' '2016-04-04 00:00:00' '2016-04-01 00:00:00'\n",
      " '2016-03-21 00:00:00' '2016-03-26 00:00:00' '2016-04-07 00:00:00'\n",
      " '2016-03-15 00:00:00' '2016-03-11 00:00:00' '2016-03-20 00:00:00'\n",
      " '2016-03-23 00:00:00' '2016-03-27 00:00:00' '2016-03-12 00:00:00'\n",
      " '2016-03-13 00:00:00' '2016-03-18 00:00:00' '2016-03-10 00:00:00'\n",
      " '2016-03-07 00:00:00' '2016-03-09 00:00:00' '2016-03-08 00:00:00'\n",
      " '2016-04-03 00:00:00' '2016-03-29 00:00:00' '2016-03-25 00:00:00'\n",
      " '2016-03-28 00:00:00' '2016-03-30 00:00:00' '2016-03-22 00:00:00'\n",
      " '2016-02-09 00:00:00' '2016-03-05 00:00:00' '2016-04-02 00:00:00'\n",
      " '2016-03-16 00:00:00' '2016-03-19 00:00:00' '2016-04-05 00:00:00'\n",
      " '2016-03-06 00:00:00' '2016-03-03 00:00:00' '2016-03-01 00:00:00'\n",
      " '2016-03-04 00:00:00' '2016-04-06 00:00:00' '2016-02-15 00:00:00'\n",
      " '2016-02-24 00:00:00' '2016-02-27 00:00:00' '2015-03-20 00:00:00'\n",
      " '2016-02-28 00:00:00' '2016-01-27 00:00:00' '2016-02-20 00:00:00'\n",
      " '2016-02-29 00:00:00' '2016-02-10 00:00:00' '2016-02-23 00:00:00'\n",
      " '2016-02-21 00:00:00' '2015-11-02 00:00:00' '2016-02-19 00:00:00'\n",
      " '2016-02-26 00:00:00' '2016-02-11 00:00:00' '2016-01-10 00:00:00'\n",
      " '2016-02-06 00:00:00' '2016-02-18 00:00:00' '2016-01-29 00:00:00'\n",
      " '2016-03-02 00:00:00' '2015-12-06 00:00:00' '2016-01-24 00:00:00'\n",
      " '2016-01-30 00:00:00' '2016-02-02 00:00:00' '2016-02-12 00:00:00'\n",
      " '2016-02-16 00:00:00' '2016-02-13 00:00:00' '2016-02-05 00:00:00'\n",
      " '2016-02-22 00:00:00' '2015-11-17 00:00:00' '2014-03-10 00:00:00'\n",
      " '2016-02-07 00:00:00' '2016-01-23 00:00:00' '2016-02-25 00:00:00'\n",
      " '2016-02-14 00:00:00' '2016-01-02 00:00:00' '2015-09-04 00:00:00'\n",
      " '2015-11-12 00:00:00' '2015-12-27 00:00:00' '2016-02-17 00:00:00'\n",
      " '2015-11-24 00:00:00' '2016-01-20 00:00:00' '2016-02-03 00:00:00'\n",
      " '2015-12-05 00:00:00' '2015-08-07 00:00:00' '2016-01-28 00:00:00'\n",
      " '2016-01-31 00:00:00' '2016-02-08 00:00:00' '2016-01-07 00:00:00'\n",
      " '2016-01-22 00:00:00' '2016-01-18 00:00:00' '2016-01-08 00:00:00'\n",
      " '2016-01-13 00:00:00' '2016-01-17 00:00:00' '2016-01-15 00:00:00'\n",
      " '2015-11-08 00:00:00' '2016-01-26 00:00:00' '2016-02-04 00:00:00'\n",
      " '2016-01-25 00:00:00' '2016-01-16 00:00:00' '2015-08-10 00:00:00'\n",
      " '2016-01-19 00:00:00' '2015-12-30 00:00:00' '2016-02-01 00:00:00'\n",
      " '2015-12-17 00:00:00' '2015-11-10 00:00:00' '2015-11-23 00:00:00'\n",
      " '2016-01-06 00:00:00' '2015-09-09 00:00:00' '2015-06-18 00:00:00']\n",
      "________________\n",
      "\n",
      "NumberOfPictures : \n",
      "\n",
      "[0]\n",
      "________________\n",
      "\n",
      "PostalCode : \n",
      "\n",
      "[70435 90480 91074 ... 38325 24363 31096]\n",
      "________________\n",
      "\n",
      "LastSeen : \n",
      "\n",
      "['2016-04-07 03:16:57' '2016-04-05 12:47:46' '2016-03-17 17:40:17' ...\n",
      " '2016-03-19 20:44:43' '2016-03-29 10:17:23' '2016-03-21 10:42:49']\n",
      "________________\n",
      "\n"
     ]
    }
   ],
   "source": [
    "for column in data.columns:\n",
    "    print(column,': ')\n",
    "    print()\n",
    "    print(data[column].unique())\n",
    "    print(\"________________\")\n",
    "    print()"
   ]
  },
  {
   "cell_type": "markdown",
   "metadata": {},
   "source": [
    "Удалим строки с анамалиями в столбцах RegistrationYear, RegistrationMonth, Price, Power."
   ]
  },
  {
   "cell_type": "code",
   "execution_count": 11,
   "metadata": {},
   "outputs": [],
   "source": [
    "data = data.query('RegistrationYear < 2023 & RegistrationMonth > 0 & Price > 0 & Power > 0').reset_index(drop = True).reset_index(drop = True)"
   ]
  },
  {
   "cell_type": "markdown",
   "metadata": {},
   "source": [
    "Удалим столбцы DateCrawled, DateCreated, NumberOfPictures, LastSeen, PostalCode так как эти столбцы ни на что не влияют."
   ]
  },
  {
   "cell_type": "code",
   "execution_count": 12,
   "metadata": {},
   "outputs": [],
   "source": [
    "data = data.drop(['DateCrawled', 'DateCreated', 'NumberOfPictures','LastSeen','PostalCode'], axis = 1)"
   ]
  },
  {
   "cell_type": "markdown",
   "metadata": {},
   "source": [
    "Проверим на наличие дубликатов"
   ]
  },
  {
   "cell_type": "code",
   "execution_count": 13,
   "metadata": {},
   "outputs": [
    {
     "data": {
      "text/plain": [
       "26574"
      ]
     },
     "execution_count": 13,
     "metadata": {},
     "output_type": "execute_result"
    }
   ],
   "source": [
    "data.duplicated().sum()"
   ]
  },
  {
   "cell_type": "markdown",
   "metadata": {},
   "source": [
    "Удалим дубликаты."
   ]
  },
  {
   "cell_type": "code",
   "execution_count": 14,
   "metadata": {},
   "outputs": [],
   "source": [
    "data = data.drop_duplicates(keep = 'first')"
   ]
  },
  {
   "cell_type": "markdown",
   "metadata": {},
   "source": [
    "Поделим данные на целевой признак и остальные."
   ]
  },
  {
   "cell_type": "code",
   "execution_count": 15,
   "metadata": {},
   "outputs": [],
   "source": [
    "features = data.drop(['Price'], axis = 1)\n",
    "target = data['Price']"
   ]
  },
  {
   "cell_type": "markdown",
   "metadata": {},
   "source": [
    "Разобьем данные на обучающую, валидационную и тестовую выборки в соотношении 60/20/20."
   ]
  },
  {
   "cell_type": "code",
   "execution_count": 16,
   "metadata": {},
   "outputs": [],
   "source": [
    "features_train, features_valid, target_train, target_valid = train_test_split(features, target, test_size = 0.2, random_state = 12345) "
   ]
  },
  {
   "cell_type": "code",
   "execution_count": 17,
   "metadata": {},
   "outputs": [],
   "source": [
    "features_train, features_test, target_train, target_test = train_test_split(features_train, target_train, test_size = 0.25, random_state = 12345) "
   ]
  },
  {
   "cell_type": "code",
   "execution_count": 18,
   "metadata": {},
   "outputs": [
    {
     "data": {
      "text/plain": [
       "(150327, 10)"
      ]
     },
     "execution_count": 18,
     "metadata": {},
     "output_type": "execute_result"
    }
   ],
   "source": [
    "features_train.shape"
   ]
  },
  {
   "cell_type": "code",
   "execution_count": 19,
   "metadata": {},
   "outputs": [
    {
     "data": {
      "text/plain": [
       "(50109, 10)"
      ]
     },
     "execution_count": 19,
     "metadata": {},
     "output_type": "execute_result"
    }
   ],
   "source": [
    "features_valid.shape"
   ]
  },
  {
   "cell_type": "code",
   "execution_count": 20,
   "metadata": {},
   "outputs": [
    {
     "data": {
      "text/plain": [
       "(50109, 10)"
      ]
     },
     "execution_count": 20,
     "metadata": {},
     "output_type": "execute_result"
    }
   ],
   "source": [
    "features_test.shape"
   ]
  },
  {
   "cell_type": "markdown",
   "metadata": {},
   "source": [
    "Преобразуем категориальные признаки техникой OrdinalEncoder"
   ]
  },
  {
   "cell_type": "code",
   "execution_count": 21,
   "metadata": {},
   "outputs": [],
   "source": [
    "calegorical = ['VehicleType','Gearbox','Model','FuelType','Brand','Repaired']\n",
    "encoder = OrdinalEncoder()\n",
    "encoder.fit(features_train[calegorical])\n",
    "features_train_ordinal = pd.DataFrame(encoder.transform(features_train[calegorical]),columns = calegorical,index=features_train.index)\n",
    "features_valid_ordinal = pd.DataFrame(encoder.transform(features_valid[calegorical]),columns = calegorical,index=features_valid.index)\n",
    "features_test_ordinal = pd.DataFrame(encoder.transform(features_test[calegorical]),columns = calegorical,index=features_test.index)"
   ]
  },
  {
   "cell_type": "markdown",
   "metadata": {},
   "source": [
    "Соединим датафреймы после преобразований."
   ]
  },
  {
   "cell_type": "code",
   "execution_count": 22,
   "metadata": {},
   "outputs": [],
   "source": [
    "features_train = pd.concat((features_train.drop(calegorical,axis=1),features_train_ordinal),axis = 1)\n",
    "features_valid = pd.concat((features_valid.drop(calegorical,axis=1),features_valid_ordinal),axis = 1)\n",
    "features_test = pd.concat((features_test.drop(calegorical,axis=1),features_test_ordinal),axis = 1)"
   ]
  },
  {
   "cell_type": "markdown",
   "metadata": {},
   "source": [
    "Численные признаки приведем к одному масштабу."
   ]
  },
  {
   "cell_type": "code",
   "execution_count": 23,
   "metadata": {
    "scrolled": true
   },
   "outputs": [],
   "source": [
    "scaler = StandardScaler()\n",
    "scaler.fit(features_train)\n",
    "features_train = scaler.transform(features_train)\n",
    "features_valid = scaler.transform(features_valid)\n",
    "features_test = scaler.transform(features_test)"
   ]
  },
  {
   "cell_type": "markdown",
   "metadata": {},
   "source": [
    "**Вывод:**\n",
    "\n",
    "1. Были изученны предоставленные данные.\n",
    "2. Удалены пропущенные значения в столбцах Model.\n",
    "3. Заполнены проуски в столбцах VehicleType, Gearbox, FuelType, Repaired наиболее популярными значениями среди соответствующих бренда и модели.\n",
    "4. Удалены строки с анамалиями в столбцах RegistrationYear, RegistrationMonth, Price, Power.\n",
    "5. Удалены столбцы DateCrawled, DateCreated, NumberOfPictures, LastSeen, PostalCode так как эти столбцы ни на что не влияют.\n",
    "6. Данные разделены на обучающую, валидационную и тестовую выборки в соотношении 60/20/20/\n",
    "7. Преобразованы категориальные признаки техникой OrdinalEncoder.\n",
    "8. Численные признаки приведены к одному масштабу."
   ]
  },
  {
   "cell_type": "markdown",
   "metadata": {},
   "source": [
    "## Обучение моделей"
   ]
  },
  {
   "cell_type": "markdown",
   "metadata": {},
   "source": [
    "Построим модель с использованием алгоритма дерева решений."
   ]
  },
  {
   "cell_type": "code",
   "execution_count": 24,
   "metadata": {},
   "outputs": [
    {
     "data": {
      "text/plain": [
       "DecisionTreeRegressor(max_depth=10)"
      ]
     },
     "execution_count": 24,
     "metadata": {},
     "output_type": "execute_result"
    }
   ],
   "source": [
    "model = DecisionTreeRegressor()\n",
    "params = {'max_depth':np.arange(1,11)}\n",
    "search = GridSearchCV(estimator = model, param_grid = params, cv = 3)\n",
    "search.fit(features_train,target_train)\n",
    "best_model = search.best_estimator_\n",
    "best_model"
   ]
  },
  {
   "cell_type": "code",
   "execution_count": 25,
   "metadata": {},
   "outputs": [
    {
     "data": {
      "text/plain": [
       "2003.120346921405"
      ]
     },
     "execution_count": 25,
     "metadata": {},
     "output_type": "execute_result"
    }
   ],
   "source": [
    "predictions = best_model.predict(features_valid)\n",
    "mean_squared_error(target_valid, predictions) ** 0.5"
   ]
  },
  {
   "cell_type": "markdown",
   "metadata": {},
   "source": [
    "Построим модель с использованием алгоритма случайного леса."
   ]
  },
  {
   "cell_type": "code",
   "execution_count": 26,
   "metadata": {},
   "outputs": [
    {
     "data": {
      "text/plain": [
       "RandomForestRegressor(max_depth=6, n_estimators=30)"
      ]
     },
     "execution_count": 26,
     "metadata": {},
     "output_type": "execute_result"
    }
   ],
   "source": [
    "model = RandomForestRegressor()\n",
    "params = {'max_depth':np.arange(1,7),\n",
    "         'n_estimators':np.arange(20, 50, 10)}\n",
    "search = RandomizedSearchCV(estimator = model, param_distributions = params, cv = 3)\n",
    "search.fit(features_train,target_train)\n",
    "best_model = search.best_estimator_\n",
    "best_model"
   ]
  },
  {
   "cell_type": "code",
   "execution_count": 27,
   "metadata": {},
   "outputs": [
    {
     "data": {
      "text/plain": [
       "2282.6146586705827"
      ]
     },
     "execution_count": 27,
     "metadata": {},
     "output_type": "execute_result"
    }
   ],
   "source": [
    "predictions = best_model.predict(features_valid)\n",
    "mean_squared_error(target_valid, predictions) ** 0.5"
   ]
  },
  {
   "cell_type": "markdown",
   "metadata": {},
   "source": [
    "Построим модель с использованием линейной регрессии."
   ]
  },
  {
   "cell_type": "code",
   "execution_count": 28,
   "metadata": {},
   "outputs": [
    {
     "data": {
      "text/plain": [
       "3510.0304131950184"
      ]
     },
     "execution_count": 28,
     "metadata": {},
     "output_type": "execute_result"
    }
   ],
   "source": [
    "model = LinearRegression()\n",
    "model.fit(features_train, target_train)\n",
    "predictions = model.predict(features_valid)\n",
    "\n",
    "mean_squared_error(target_valid, predictions) ** 0.5"
   ]
  },
  {
   "cell_type": "markdown",
   "metadata": {},
   "source": [
    "Построим модель с использованием бустинга LightGBM."
   ]
  },
  {
   "cell_type": "code",
   "execution_count": 29,
   "metadata": {},
   "outputs": [
    {
     "data": {
      "text/plain": [
       "1704.8078698703173"
      ]
     },
     "execution_count": 29,
     "metadata": {},
     "output_type": "execute_result"
    }
   ],
   "source": [
    "model = LGBMRegressor(random_state=12345)\n",
    "model.fit(features_train, target_train)\n",
    "predictions = model.predict(features_valid)\n",
    "\n",
    "mean_squared_error(target_valid, predictions) ** 0.5"
   ]
  },
  {
   "cell_type": "code",
   "execution_count": 30,
   "metadata": {},
   "outputs": [
    {
     "data": {
      "text/plain": [
       "LGBMRegressor(max_depth=10, n_estimators=70)"
      ]
     },
     "execution_count": 30,
     "metadata": {},
     "output_type": "execute_result"
    }
   ],
   "source": [
    "model = LGBMRegressor()\n",
    "params = {'max_depth':np.arange(1,11),\n",
    "         'n_estimators':np.arange(20, 80, 10)}\n",
    "search = GridSearchCV(estimator = model, param_grid = params, cv = 3)\n",
    "search.fit(features_train,target_train)\n",
    "best_model = search.best_estimator_\n",
    "best_model"
   ]
  },
  {
   "cell_type": "code",
   "execution_count": 31,
   "metadata": {},
   "outputs": [
    {
     "data": {
      "text/plain": [
       "1738.3021451734803"
      ]
     },
     "execution_count": 31,
     "metadata": {},
     "output_type": "execute_result"
    }
   ],
   "source": [
    "predictions = best_model.predict(features_valid)\n",
    "mean_squared_error(target_valid, predictions) ** 0.5"
   ]
  },
  {
   "cell_type": "markdown",
   "metadata": {},
   "source": [
    "**Вывод:**\n",
    "1. Построена модель с использованием алгоритма дерева решений. rmse показала значение 2003.1.\n",
    "2. Построена модель с использованием алгоритма случайного леса. rmse показала значение 2282.6.\n",
    "3. Построена модель с использованием линейной регрессии. rmse показала значение 3510, что не подходит нам по условиям задачи (rmse должно быть больше 2500).\n",
    "4. Построены модели с использованием градиентным бустинга LightGBM. rmse показала значение 1704.8 и 1738.3."
   ]
  },
  {
   "cell_type": "markdown",
   "metadata": {},
   "source": [
    "## Анализ моделей"
   ]
  },
  {
   "cell_type": "markdown",
   "metadata": {},
   "source": [
    "Проверим время работы модели DecisionTreeRegressor с параметром depth = 9"
   ]
  },
  {
   "cell_type": "code",
   "execution_count": 32,
   "metadata": {},
   "outputs": [
    {
     "name": "stdout",
     "output_type": "stream",
     "text": [
      "CPU times: total: 578 ms\n",
      "Wall time: 452 ms\n"
     ]
    },
    {
     "data": {
      "text/plain": [
       "DecisionTreeRegressor(max_depth=10, random_state=12345)"
      ]
     },
     "execution_count": 32,
     "metadata": {},
     "output_type": "execute_result"
    }
   ],
   "source": [
    "%%time\n",
    "model = DecisionTreeRegressor(max_depth=10, random_state=12345)\n",
    "model.fit(features_train, target_train)"
   ]
  },
  {
   "cell_type": "markdown",
   "metadata": {},
   "source": [
    "Проверим модель на тестовой выборке."
   ]
  },
  {
   "cell_type": "code",
   "execution_count": 33,
   "metadata": {},
   "outputs": [
    {
     "name": "stdout",
     "output_type": "stream",
     "text": [
      "CPU times: total: 0 ns\n",
      "Wall time: 9.97 ms\n"
     ]
    }
   ],
   "source": [
    "%%time\n",
    "predictions = model.predict(features_valid)"
   ]
  },
  {
   "cell_type": "markdown",
   "metadata": {},
   "source": [
    "Проверим время работы модели RandomForestRegressor с параметрами depth = 6 и max_depth = 30"
   ]
  },
  {
   "cell_type": "code",
   "execution_count": 34,
   "metadata": {},
   "outputs": [
    {
     "name": "stdout",
     "output_type": "stream",
     "text": [
      "CPU times: total: 7.73 s\n",
      "Wall time: 7.83 s\n"
     ]
    },
    {
     "data": {
      "text/plain": [
       "RandomForestRegressor(max_depth=6, n_estimators=40, random_state=12345)"
      ]
     },
     "execution_count": 34,
     "metadata": {},
     "output_type": "execute_result"
    }
   ],
   "source": [
    "%%time\n",
    "model = RandomForestRegressor(n_estimators=40, max_depth=6, random_state=12345)\n",
    "model.fit(features_train, target_train)"
   ]
  },
  {
   "cell_type": "markdown",
   "metadata": {},
   "source": [
    "Проверим модель на тестовой выборке."
   ]
  },
  {
   "cell_type": "code",
   "execution_count": 35,
   "metadata": {},
   "outputs": [
    {
     "name": "stdout",
     "output_type": "stream",
     "text": [
      "CPU times: total: 141 ms\n",
      "Wall time: 150 ms\n"
     ]
    }
   ],
   "source": [
    "%%time\n",
    "predictions = model.predict(features_valid)"
   ]
  },
  {
   "cell_type": "markdown",
   "metadata": {},
   "source": [
    "Проверим время работы модели LinearRegression"
   ]
  },
  {
   "cell_type": "code",
   "execution_count": 36,
   "metadata": {},
   "outputs": [
    {
     "name": "stdout",
     "output_type": "stream",
     "text": [
      "CPU times: total: 46.9 ms\n",
      "Wall time: 47.9 ms\n"
     ]
    },
    {
     "data": {
      "text/plain": [
       "LinearRegression()"
      ]
     },
     "execution_count": 36,
     "metadata": {},
     "output_type": "execute_result"
    }
   ],
   "source": [
    "%%time\n",
    "model = LinearRegression()\n",
    "model.fit(features_train, target_train)"
   ]
  },
  {
   "cell_type": "markdown",
   "metadata": {},
   "source": [
    "Проверим модель на тестовой выборке."
   ]
  },
  {
   "cell_type": "code",
   "execution_count": 37,
   "metadata": {},
   "outputs": [
    {
     "name": "stdout",
     "output_type": "stream",
     "text": [
      "CPU times: total: 15.6 ms\n",
      "Wall time: 4.75 ms\n"
     ]
    }
   ],
   "source": [
    "%%time\n",
    "predictions = model.predict(features_valid)"
   ]
  },
  {
   "cell_type": "markdown",
   "metadata": {},
   "source": [
    "Проверим время работы модели LGBMRegressor"
   ]
  },
  {
   "cell_type": "code",
   "execution_count": 38,
   "metadata": {},
   "outputs": [
    {
     "name": "stdout",
     "output_type": "stream",
     "text": [
      "CPU times: total: 2.94 s\n",
      "Wall time: 816 ms\n"
     ]
    },
    {
     "data": {
      "text/plain": [
       "LGBMRegressor(random_state=12345)"
      ]
     },
     "execution_count": 38,
     "metadata": {},
     "output_type": "execute_result"
    }
   ],
   "source": [
    "%%time\n",
    "model = LGBMRegressor(random_state=12345)\n",
    "model.fit(features_train, target_train)"
   ]
  },
  {
   "cell_type": "markdown",
   "metadata": {},
   "source": [
    "Проверим модель на тестовой выборке."
   ]
  },
  {
   "cell_type": "code",
   "execution_count": 39,
   "metadata": {},
   "outputs": [
    {
     "name": "stdout",
     "output_type": "stream",
     "text": [
      "CPU times: total: 625 ms\n",
      "Wall time: 170 ms\n"
     ]
    }
   ],
   "source": [
    "%%time\n",
    "predictions = model.predict(features_valid)"
   ]
  },
  {
   "cell_type": "markdown",
   "metadata": {},
   "source": [
    "Лучший результат по времени обучения и предсказания показала модель LinearRegression, на втором месте DecisionTreeRegressor(max_depth=10, random_state=12345), на третьем LGBMRegressor, однако наилучшее значение по качеству показала модель LGBMRegressor. Следовательно, основываясь на предпочтениях клиента, можно сделать вывод, что подходят две модели  DecisionTreeRegressor(max_depth=10, random_state=12345) и LGBMRegressor. Но так как качество стоит на первом месте, выберем модель LGBMRegressor."
   ]
  },
  {
   "cell_type": "markdown",
   "metadata": {},
   "source": [
    "Протестируем модель LGBMRegressor."
   ]
  },
  {
   "cell_type": "code",
   "execution_count": 41,
   "metadata": {},
   "outputs": [
    {
     "data": {
      "text/plain": [
       "1680.756872014941"
      ]
     },
     "execution_count": 41,
     "metadata": {},
     "output_type": "execute_result"
    }
   ],
   "source": [
    "model = LGBMRegressor(random_state=12345)\n",
    "model.fit(features_train, target_train)\n",
    "predictions = model.predict(features_test)\n",
    "mean_squared_error(target_test, predictions) ** 0.5"
   ]
  },
  {
   "cell_type": "markdown",
   "metadata": {},
   "source": [
    "Модель показала хороший результат при тестировании."
   ]
  },
  {
   "cell_type": "markdown",
   "metadata": {},
   "source": [
    "**Вывод:**\n",
    "\n",
    "Критерии, которые важны заказчику:\n",
    "- качество предсказания;\n",
    "- время обучения модели;\n",
    "- время предсказания модели.\n",
    "    \n",
    "Лучший результат по времени обучения и предсказания показала модель LinearRegression, на втором месте DecisionTreeRegressor(max_depth=10, random_state=12345), на третьем LGBMRegressor, однако наилучшее значение по качеству показала модель LGBMRegressor. Следовательно, основываясь на предпочтениях клиента, можно сделать вывод, что подходят две модели  DecisionTreeRegressor(max_depth=10, random_state=12345) и LGBMRegressor. Но так как качество стоит на первом месте, выберем модель LGBMRegressor. Выбранная модель показала хороший результат при тестировании."
   ]
  },
  {
   "cell_type": "markdown",
   "metadata": {},
   "source": [
    "## Общий вывод"
   ]
  },
  {
   "cell_type": "markdown",
   "metadata": {},
   "source": [
    "1. Подготовка данных\n",
    "\n",
    "    1.1. Были изученны предоставленные данные.\n",
    "    \n",
    "    1.2. Удалены пропущенные значения в столбцах Model.\n",
    "    \n",
    "    1.3. Заполнены проуски в столбцах VehicleType, Gearbox, FuelType, Repaired наиболее популярными значениями среди соответствующих бренда и модели.\n",
    "    \n",
    "    1.4. Удалены строки с анамалиями в столбцах RegistrationYear, RegistrationMonth, Price, Power.\n",
    "    \n",
    "    1.5. Удалены столбцы DateCrawled, DateCreated, NumberOfPictures, LastSeen, PostalCode так как эти столбцы ни на что не влияют.\n",
    "    \n",
    "    1.6. Данные разделены на обучающую, валидационную и тестовую выборки в соотношении 60/20/20/\n",
    "    \n",
    "    1.7. Преобразованы категориальные признаки техникой OrdinalEncoder.\n",
    "    \n",
    "    1.8. Численные признаки приведены к одному масштабу.\n",
    "    \n",
    "\n",
    "2. Обучение моделей\n",
    "\n",
    "    2.1. Построена модель с использованием алгоритма дерева решений. rmse показала значение 2003.1.\n",
    "    \n",
    "    2.2. Построена модель с использованием алгоритма случайного леса. rmse показала значение 2282.6.\n",
    "    \n",
    "    2.3. Построена модель с использованием линейной регрессии. rmse показала значение 3510, что не подходит нам по условиям задачи (rmse должно быть больше 2500).\n",
    "    \n",
    "    2.4. Построены модели с использованием градиентным бустинга LightGBM. rmse показала значение 1704.8 и 1738.3.\n",
    "    \n",
    "    \n",
    "3. Анализ моделей\n",
    "\n",
    "    Критерии, которые важны заказчику:\n",
    "    - качество предсказания;\n",
    "    - время обучения модели;\n",
    "    - время предсказания модели.\n",
    "    \n",
    "    \n",
    "    Лучший результат по времени обучения и предсказания показала модель LinearRegression, на втором месте DecisionTreeRegressor(max_depth=10, random_state=12345), на третьем LGBMRegressor, однако наилучшее значение по качеству показала модель LGBMRegressor. Следовательно, основываясь на предпочтениях клиента, можно сделать вывод, что подходят две модели  DecisionTreeRegressor(max_depth=10, random_state=12345) и LGBMRegressor. Но так как качество стоит на первом месте, выберем модель LGBMRegressor. Выбранная модель показала хороший результат при тестировании.\n"
   ]
  }
 ],
 "metadata": {
  "ExecuteTimeLog": [
   {
    "duration": 458,
    "start_time": "2023-02-08T15:01:10.078Z"
   },
   {
    "duration": 3145,
    "start_time": "2023-02-08T15:01:11.362Z"
   },
   {
    "duration": 18,
    "start_time": "2023-02-08T15:02:42.659Z"
   },
   {
    "duration": 167,
    "start_time": "2023-02-08T15:02:53.878Z"
   },
   {
    "duration": 112,
    "start_time": "2023-02-08T15:25:12.815Z"
   },
   {
    "duration": 322,
    "start_time": "2023-02-08T15:25:31.752Z"
   },
   {
    "duration": 31,
    "start_time": "2023-02-08T15:25:41.996Z"
   },
   {
    "duration": 91,
    "start_time": "2023-02-08T15:27:39.485Z"
   },
   {
    "duration": 86,
    "start_time": "2023-02-08T15:27:48.840Z"
   },
   {
    "duration": 90,
    "start_time": "2023-02-12T20:19:46.213Z"
   },
   {
    "duration": 400,
    "start_time": "2023-02-12T20:19:51.043Z"
   },
   {
    "duration": 3424,
    "start_time": "2023-02-12T20:19:51.445Z"
   },
   {
    "duration": 214,
    "start_time": "2023-02-12T20:19:54.872Z"
   },
   {
    "duration": 343,
    "start_time": "2023-02-12T20:19:55.090Z"
   },
   {
    "duration": 80,
    "start_time": "2023-02-12T20:19:55.436Z"
   },
   {
    "duration": 97,
    "start_time": "2023-02-12T20:19:55.518Z"
   },
   {
    "duration": 54,
    "start_time": "2023-02-12T20:27:35.776Z"
   },
   {
    "duration": 36,
    "start_time": "2023-02-12T20:28:22.415Z"
   },
   {
    "duration": 69,
    "start_time": "2023-02-12T20:28:27.645Z"
   },
   {
    "duration": 32,
    "start_time": "2023-02-12T20:51:57.638Z"
   },
   {
    "duration": 38,
    "start_time": "2023-02-12T20:52:05.806Z"
   },
   {
    "duration": 111,
    "start_time": "2023-02-12T20:52:24.904Z"
   },
   {
    "duration": 66,
    "start_time": "2023-02-12T20:52:36.879Z"
   },
   {
    "duration": 125,
    "start_time": "2023-02-12T20:52:41.079Z"
   },
   {
    "duration": 132,
    "start_time": "2023-02-12T20:53:32.057Z"
   },
   {
    "duration": 126,
    "start_time": "2023-02-12T20:53:38.224Z"
   },
   {
    "duration": 46,
    "start_time": "2023-02-13T07:01:17.456Z"
   },
   {
    "duration": 363,
    "start_time": "2023-02-13T07:01:21.956Z"
   },
   {
    "duration": 1079,
    "start_time": "2023-02-13T07:01:22.321Z"
   },
   {
    "duration": 116,
    "start_time": "2023-02-13T07:01:23.401Z"
   },
   {
    "duration": 279,
    "start_time": "2023-02-13T07:01:23.519Z"
   },
   {
    "duration": 69,
    "start_time": "2023-02-13T07:01:23.799Z"
   },
   {
    "duration": 99,
    "start_time": "2023-02-13T07:01:23.870Z"
   },
   {
    "duration": 78,
    "start_time": "2023-02-13T07:32:41.019Z"
   },
   {
    "duration": 29,
    "start_time": "2023-02-13T07:32:45.595Z"
   },
   {
    "duration": 2,
    "start_time": "2023-02-13T07:32:53.959Z"
   },
   {
    "duration": 85,
    "start_time": "2023-02-13T07:32:54.456Z"
   },
   {
    "duration": 3,
    "start_time": "2023-02-13T07:32:58.513Z"
   },
   {
    "duration": 27,
    "start_time": "2023-02-13T07:32:58.994Z"
   },
   {
    "duration": 83,
    "start_time": "2023-02-13T07:33:03.219Z"
   },
   {
    "duration": 1223,
    "start_time": "2023-02-13T07:34:03.609Z"
   },
   {
    "duration": 74,
    "start_time": "2023-02-13T07:34:48.969Z"
   },
   {
    "duration": 2223,
    "start_time": "2023-02-13T07:35:02.169Z"
   },
   {
    "duration": 66,
    "start_time": "2023-02-13T07:35:14.370Z"
   },
   {
    "duration": 781,
    "start_time": "2023-02-13T07:35:28.772Z"
   },
   {
    "duration": 15354,
    "start_time": "2023-02-13T07:37:31.435Z"
   },
   {
    "duration": 98,
    "start_time": "2023-02-13T07:38:12.434Z"
   },
   {
    "duration": 26,
    "start_time": "2023-02-13T07:40:42.010Z"
   },
   {
    "duration": 384,
    "start_time": "2023-02-13T07:51:24.345Z"
   },
   {
    "duration": 387,
    "start_time": "2023-02-13T07:51:34.971Z"
   },
   {
    "duration": 379,
    "start_time": "2023-02-13T07:51:39.490Z"
   },
   {
    "duration": 102,
    "start_time": "2023-02-13T07:56:53.421Z"
   },
   {
    "duration": 130,
    "start_time": "2023-02-13T07:57:04.050Z"
   },
   {
    "duration": 391,
    "start_time": "2023-02-13T07:58:23.441Z"
   },
   {
    "duration": 910,
    "start_time": "2023-02-13T07:58:23.834Z"
   },
   {
    "duration": 127,
    "start_time": "2023-02-13T07:58:24.746Z"
   },
   {
    "duration": 487,
    "start_time": "2023-02-13T07:58:24.875Z"
   },
   {
    "duration": 284,
    "start_time": "2023-02-13T07:58:25.364Z"
   },
   {
    "duration": 79,
    "start_time": "2023-02-13T07:58:25.650Z"
   },
   {
    "duration": 2,
    "start_time": "2023-02-13T07:58:25.731Z"
   },
   {
    "duration": 112,
    "start_time": "2023-02-13T07:58:25.734Z"
   },
   {
    "duration": 102,
    "start_time": "2023-02-13T07:58:25.849Z"
   },
   {
    "duration": 87,
    "start_time": "2023-02-13T07:58:25.954Z"
   },
   {
    "duration": 381,
    "start_time": "2023-02-13T08:05:31.246Z"
   },
   {
    "duration": 887,
    "start_time": "2023-02-13T08:05:31.629Z"
   },
   {
    "duration": 123,
    "start_time": "2023-02-13T08:05:32.518Z"
   },
   {
    "duration": 522,
    "start_time": "2023-02-13T08:05:32.643Z"
   },
   {
    "duration": 83,
    "start_time": "2023-02-13T08:05:33.167Z"
   },
   {
    "duration": 0,
    "start_time": "2023-02-13T08:05:33.252Z"
   },
   {
    "duration": 0,
    "start_time": "2023-02-13T08:05:33.253Z"
   },
   {
    "duration": 0,
    "start_time": "2023-02-13T08:05:33.254Z"
   },
   {
    "duration": 0,
    "start_time": "2023-02-13T08:05:33.255Z"
   },
   {
    "duration": 0,
    "start_time": "2023-02-13T08:05:33.256Z"
   },
   {
    "duration": 0,
    "start_time": "2023-02-13T08:05:33.257Z"
   },
   {
    "duration": 0,
    "start_time": "2023-02-13T08:05:33.258Z"
   },
   {
    "duration": 0,
    "start_time": "2023-02-13T08:05:33.259Z"
   },
   {
    "duration": 0,
    "start_time": "2023-02-13T08:05:33.260Z"
   },
   {
    "duration": 378,
    "start_time": "2023-02-13T08:05:44.838Z"
   },
   {
    "duration": 854,
    "start_time": "2023-02-13T08:05:45.219Z"
   },
   {
    "duration": 123,
    "start_time": "2023-02-13T08:05:46.075Z"
   },
   {
    "duration": 500,
    "start_time": "2023-02-13T08:05:46.199Z"
   },
   {
    "duration": 2,
    "start_time": "2023-02-13T08:05:46.703Z"
   },
   {
    "duration": 293,
    "start_time": "2023-02-13T08:05:46.707Z"
   },
   {
    "duration": 88,
    "start_time": "2023-02-13T08:05:47.004Z"
   },
   {
    "duration": 3,
    "start_time": "2023-02-13T08:05:47.094Z"
   },
   {
    "duration": 53,
    "start_time": "2023-02-13T08:05:47.098Z"
   },
   {
    "duration": 96,
    "start_time": "2023-02-13T08:05:47.153Z"
   },
   {
    "duration": 103,
    "start_time": "2023-02-13T08:05:47.251Z"
   },
   {
    "duration": 82,
    "start_time": "2023-02-13T08:05:47.356Z"
   },
   {
    "duration": 4,
    "start_time": "2023-02-13T08:05:47.441Z"
   },
   {
    "duration": 92,
    "start_time": "2023-02-13T08:05:47.447Z"
   },
   {
    "duration": 57,
    "start_time": "2023-02-13T08:06:49.243Z"
   },
   {
    "duration": 46,
    "start_time": "2023-02-13T08:06:58.403Z"
   },
   {
    "duration": 59,
    "start_time": "2023-02-13T08:07:05.859Z"
   },
   {
    "duration": 411,
    "start_time": "2023-02-13T08:11:10.809Z"
   },
   {
    "duration": 854,
    "start_time": "2023-02-13T08:11:11.224Z"
   },
   {
    "duration": 116,
    "start_time": "2023-02-13T08:11:12.080Z"
   },
   {
    "duration": 465,
    "start_time": "2023-02-13T08:11:12.204Z"
   },
   {
    "duration": 2,
    "start_time": "2023-02-13T08:11:12.671Z"
   },
   {
    "duration": 290,
    "start_time": "2023-02-13T08:11:12.675Z"
   },
   {
    "duration": 83,
    "start_time": "2023-02-13T08:11:12.967Z"
   },
   {
    "duration": 3,
    "start_time": "2023-02-13T08:11:13.052Z"
   },
   {
    "duration": 55,
    "start_time": "2023-02-13T08:11:13.060Z"
   },
   {
    "duration": 60,
    "start_time": "2023-02-13T08:11:13.119Z"
   },
   {
    "duration": 102,
    "start_time": "2023-02-13T08:11:13.181Z"
   },
   {
    "duration": 90,
    "start_time": "2023-02-13T08:11:13.284Z"
   },
   {
    "duration": 21984,
    "start_time": "2023-02-13T08:11:13.376Z"
   },
   {
    "duration": 83,
    "start_time": "2023-02-13T08:11:35.362Z"
   },
   {
    "duration": 4,
    "start_time": "2023-02-13T08:11:35.447Z"
   },
   {
    "duration": 375,
    "start_time": "2023-02-14T07:43:36.946Z"
   },
   {
    "duration": 989,
    "start_time": "2023-02-14T07:43:37.323Z"
   },
   {
    "duration": 114,
    "start_time": "2023-02-14T07:43:38.314Z"
   },
   {
    "duration": 378,
    "start_time": "2023-02-14T07:43:38.430Z"
   },
   {
    "duration": 2,
    "start_time": "2023-02-14T07:43:38.810Z"
   },
   {
    "duration": 277,
    "start_time": "2023-02-14T07:43:38.813Z"
   },
   {
    "duration": 77,
    "start_time": "2023-02-14T07:43:39.091Z"
   },
   {
    "duration": 3,
    "start_time": "2023-02-14T07:43:39.170Z"
   },
   {
    "duration": 51,
    "start_time": "2023-02-14T07:43:39.174Z"
   },
   {
    "duration": 58,
    "start_time": "2023-02-14T07:43:39.227Z"
   },
   {
    "duration": 90,
    "start_time": "2023-02-14T07:43:39.287Z"
   },
   {
    "duration": 81,
    "start_time": "2023-02-14T07:43:39.379Z"
   },
   {
    "duration": 469,
    "start_time": "2023-02-14T07:43:39.461Z"
   },
   {
    "duration": 84,
    "start_time": "2023-02-14T07:43:39.931Z"
   },
   {
    "duration": 3,
    "start_time": "2023-02-14T07:43:40.017Z"
   },
   {
    "duration": 13464,
    "start_time": "2023-02-14T07:46:36.195Z"
   },
   {
    "duration": 21398,
    "start_time": "2023-02-14T07:47:16.041Z"
   },
   {
    "duration": 53,
    "start_time": "2023-02-14T07:47:37.441Z"
   },
   {
    "duration": 68,
    "start_time": "2023-02-14T07:47:48.040Z"
   },
   {
    "duration": 41345,
    "start_time": "2023-02-14T07:48:18.056Z"
   },
   {
    "duration": 70,
    "start_time": "2023-02-14T07:48:59.403Z"
   },
   {
    "duration": 62172,
    "start_time": "2023-02-14T07:52:06.240Z"
   },
   {
    "duration": 67,
    "start_time": "2023-02-14T07:53:08.414Z"
   },
   {
    "duration": 396,
    "start_time": "2023-02-14T07:53:42.908Z"
   },
   {
    "duration": 770,
    "start_time": "2023-02-14T07:53:43.306Z"
   },
   {
    "duration": 119,
    "start_time": "2023-02-14T07:53:44.078Z"
   },
   {
    "duration": 395,
    "start_time": "2023-02-14T07:53:44.200Z"
   },
   {
    "duration": 2,
    "start_time": "2023-02-14T07:53:44.596Z"
   },
   {
    "duration": 274,
    "start_time": "2023-02-14T07:53:44.599Z"
   },
   {
    "duration": 78,
    "start_time": "2023-02-14T07:53:44.875Z"
   },
   {
    "duration": 3,
    "start_time": "2023-02-14T07:53:44.955Z"
   },
   {
    "duration": 51,
    "start_time": "2023-02-14T07:53:44.959Z"
   },
   {
    "duration": 59,
    "start_time": "2023-02-14T07:53:45.012Z"
   },
   {
    "duration": 92,
    "start_time": "2023-02-14T07:53:45.074Z"
   },
   {
    "duration": 77,
    "start_time": "2023-02-14T07:53:45.168Z"
   },
   {
    "duration": 83376,
    "start_time": "2023-02-14T07:53:45.247Z"
   },
   {
    "duration": 67,
    "start_time": "2023-02-14T07:55:08.625Z"
   },
   {
    "duration": 15,
    "start_time": "2023-02-14T07:55:08.694Z"
   },
   {
    "duration": 68,
    "start_time": "2023-02-14T08:21:48.126Z"
   },
   {
    "duration": 4,
    "start_time": "2023-02-14T08:21:53.005Z"
   },
   {
    "duration": 149,
    "start_time": "2023-02-14T08:22:34.058Z"
   },
   {
    "duration": 80,
    "start_time": "2023-02-14T08:23:37.514Z"
   },
   {
    "duration": 152,
    "start_time": "2023-02-14T08:23:43.242Z"
   },
   {
    "duration": 168,
    "start_time": "2023-02-14T08:24:08.410Z"
   },
   {
    "duration": 155,
    "start_time": "2023-02-14T08:25:15.418Z"
   },
   {
    "duration": 159,
    "start_time": "2023-02-14T08:25:38.699Z"
   },
   {
    "duration": 158,
    "start_time": "2023-02-14T08:26:11.770Z"
   },
   {
    "duration": 6,
    "start_time": "2023-02-14T09:28:38.163Z"
   },
   {
    "duration": 26,
    "start_time": "2023-02-14T09:28:46.592Z"
   },
   {
    "duration": 358,
    "start_time": "2023-02-14T09:29:07.462Z"
   },
   {
    "duration": 792,
    "start_time": "2023-02-14T09:29:07.822Z"
   },
   {
    "duration": 114,
    "start_time": "2023-02-14T09:29:08.616Z"
   },
   {
    "duration": 409,
    "start_time": "2023-02-14T09:29:08.732Z"
   },
   {
    "duration": 2,
    "start_time": "2023-02-14T09:29:09.143Z"
   },
   {
    "duration": 277,
    "start_time": "2023-02-14T09:29:09.146Z"
   },
   {
    "duration": 76,
    "start_time": "2023-02-14T09:29:09.425Z"
   },
   {
    "duration": 2,
    "start_time": "2023-02-14T09:29:09.510Z"
   },
   {
    "duration": 38,
    "start_time": "2023-02-14T09:29:09.514Z"
   },
   {
    "duration": 68,
    "start_time": "2023-02-14T09:29:09.555Z"
   },
   {
    "duration": 86,
    "start_time": "2023-02-14T09:29:09.624Z"
   },
   {
    "duration": 68,
    "start_time": "2023-02-14T09:29:09.711Z"
   },
   {
    "duration": 84344,
    "start_time": "2023-02-14T09:29:09.780Z"
   },
   {
    "duration": 84,
    "start_time": "2023-02-14T09:30:34.126Z"
   },
   {
    "duration": 169,
    "start_time": "2023-02-14T09:30:34.212Z"
   },
   {
    "duration": 40,
    "start_time": "2023-02-14T09:30:34.382Z"
   },
   {
    "duration": 21,
    "start_time": "2023-02-14T09:30:34.423Z"
   },
   {
    "duration": 71,
    "start_time": "2023-02-14T12:42:21.022Z"
   },
   {
    "duration": 584,
    "start_time": "2023-02-14T12:42:46.871Z"
   },
   {
    "duration": 278,
    "start_time": "2023-02-14T12:42:53.660Z"
   },
   {
    "duration": 350,
    "start_time": "2023-02-14T12:42:59.455Z"
   },
   {
    "duration": 797,
    "start_time": "2023-02-14T12:42:59.810Z"
   },
   {
    "duration": 121,
    "start_time": "2023-02-14T12:43:00.609Z"
   },
   {
    "duration": 426,
    "start_time": "2023-02-14T12:43:00.731Z"
   },
   {
    "duration": 435,
    "start_time": "2023-02-14T12:43:01.158Z"
   },
   {
    "duration": 279,
    "start_time": "2023-02-14T12:43:01.594Z"
   },
   {
    "duration": 83,
    "start_time": "2023-02-14T12:43:01.875Z"
   },
   {
    "duration": 3,
    "start_time": "2023-02-14T12:43:01.959Z"
   },
   {
    "duration": 51,
    "start_time": "2023-02-14T12:43:01.963Z"
   },
   {
    "duration": 60,
    "start_time": "2023-02-14T12:43:02.016Z"
   },
   {
    "duration": 96,
    "start_time": "2023-02-14T12:43:02.078Z"
   },
   {
    "duration": 73,
    "start_time": "2023-02-14T12:43:02.175Z"
   },
   {
    "duration": 86839,
    "start_time": "2023-02-14T12:43:02.249Z"
   },
   {
    "duration": 73,
    "start_time": "2023-02-14T12:44:29.089Z"
   },
   {
    "duration": 178,
    "start_time": "2023-02-14T12:44:29.163Z"
   },
   {
    "duration": 42,
    "start_time": "2023-02-14T12:44:29.342Z"
   },
   {
    "duration": 35,
    "start_time": "2023-02-14T12:44:29.386Z"
   },
   {
    "duration": 17,
    "start_time": "2023-02-14T12:55:46.983Z"
   },
   {
    "duration": 369,
    "start_time": "2023-02-14T12:56:55.963Z"
   },
   {
    "duration": 850,
    "start_time": "2023-02-14T12:56:56.334Z"
   },
   {
    "duration": 133,
    "start_time": "2023-02-14T12:56:57.185Z"
   },
   {
    "duration": 421,
    "start_time": "2023-02-14T12:56:57.320Z"
   },
   {
    "duration": 448,
    "start_time": "2023-02-14T12:56:57.742Z"
   },
   {
    "duration": 284,
    "start_time": "2023-02-14T12:56:58.192Z"
   },
   {
    "duration": 79,
    "start_time": "2023-02-14T12:56:58.478Z"
   },
   {
    "duration": 2,
    "start_time": "2023-02-14T12:56:58.558Z"
   },
   {
    "duration": 38,
    "start_time": "2023-02-14T12:56:58.562Z"
   },
   {
    "duration": 56,
    "start_time": "2023-02-14T12:56:58.609Z"
   },
   {
    "duration": 98,
    "start_time": "2023-02-14T12:56:58.667Z"
   },
   {
    "duration": 79,
    "start_time": "2023-02-14T12:56:58.767Z"
   },
   {
    "duration": 84310,
    "start_time": "2023-02-14T12:56:58.848Z"
   },
   {
    "duration": 96,
    "start_time": "2023-02-14T12:58:23.160Z"
   },
   {
    "duration": 177,
    "start_time": "2023-02-14T12:58:23.258Z"
   },
   {
    "duration": 73,
    "start_time": "2023-02-14T12:58:23.436Z"
   },
   {
    "duration": 22,
    "start_time": "2023-02-14T12:58:23.511Z"
   },
   {
    "duration": 20,
    "start_time": "2023-02-14T12:58:23.535Z"
   },
   {
    "duration": 1338,
    "start_time": "2023-02-17T06:16:52.817Z"
   },
   {
    "duration": 3129,
    "start_time": "2023-02-17T06:16:54.156Z"
   },
   {
    "duration": 125,
    "start_time": "2023-02-17T06:17:20.083Z"
   },
   {
    "duration": 514,
    "start_time": "2023-02-17T06:17:21.950Z"
   },
   {
    "duration": 524,
    "start_time": "2023-02-17T06:17:24.669Z"
   },
   {
    "duration": 124,
    "start_time": "2023-02-17T06:17:37.558Z"
   },
   {
    "duration": 3,
    "start_time": "2023-02-17T06:17:40.577Z"
   },
   {
    "duration": 34,
    "start_time": "2023-02-17T06:17:43.623Z"
   },
   {
    "duration": 116,
    "start_time": "2023-02-17T06:17:47.335Z"
   },
   {
    "duration": 126,
    "start_time": "2023-02-17T06:18:55.853Z"
   },
   {
    "duration": 114,
    "start_time": "2023-02-17T06:18:57.834Z"
   },
   {
    "duration": 172,
    "start_time": "2023-02-17T06:20:37.191Z"
   },
   {
    "duration": 99537,
    "start_time": "2023-02-17T06:21:34.658Z"
   },
   {
    "duration": 125,
    "start_time": "2023-02-17T06:23:19.572Z"
   },
   {
    "duration": 122,
    "start_time": "2023-02-17T06:23:53.884Z"
   },
   {
    "duration": 252,
    "start_time": "2023-02-17T06:23:55.165Z"
   },
   {
    "duration": 306,
    "start_time": "2023-02-17T06:23:56.558Z"
   },
   {
    "duration": 137,
    "start_time": "2023-02-17T06:24:05.322Z"
   },
   {
    "duration": 27,
    "start_time": "2023-02-17T06:24:06.564Z"
   },
   {
    "duration": 27,
    "start_time": "2023-02-17T06:24:36.647Z"
   },
   {
    "duration": 26,
    "start_time": "2023-02-17T06:24:41.841Z"
   },
   {
    "duration": 4,
    "start_time": "2023-02-17T06:24:51.825Z"
   },
   {
    "duration": 27,
    "start_time": "2023-02-17T06:26:06.448Z"
   },
   {
    "duration": 81,
    "start_time": "2023-02-17T06:26:36.734Z"
   },
   {
    "duration": 78,
    "start_time": "2023-02-17T06:27:44.025Z"
   },
   {
    "duration": 79,
    "start_time": "2023-02-17T06:27:44.489Z"
   },
   {
    "duration": 4,
    "start_time": "2023-02-17T06:27:45.992Z"
   },
   {
    "duration": 4,
    "start_time": "2023-02-17T06:27:46.500Z"
   },
   {
    "duration": 5,
    "start_time": "2023-02-17T06:27:46.932Z"
   },
   {
    "duration": 523,
    "start_time": "2023-02-17T06:28:25.026Z"
   },
   {
    "duration": 511,
    "start_time": "2023-02-17T06:28:54.649Z"
   },
   {
    "duration": 350,
    "start_time": "2023-02-17T06:29:54.289Z"
   },
   {
    "duration": 48,
    "start_time": "2023-02-17T06:32:12.683Z"
   },
   {
    "duration": 19,
    "start_time": "2023-02-17T06:32:24.963Z"
   },
   {
    "duration": 3154,
    "start_time": "2023-02-17T06:33:32.532Z"
   },
   {
    "duration": 1278,
    "start_time": "2023-02-18T08:48:37.288Z"
   },
   {
    "duration": 1291,
    "start_time": "2023-02-18T08:48:38.568Z"
   },
   {
    "duration": 120,
    "start_time": "2023-02-18T08:48:39.861Z"
   },
   {
    "duration": 127,
    "start_time": "2023-02-18T08:48:39.983Z"
   },
   {
    "duration": 3,
    "start_time": "2023-02-18T08:48:40.116Z"
   },
   {
    "duration": 50,
    "start_time": "2023-02-18T08:48:40.121Z"
   },
   {
    "duration": 129,
    "start_time": "2023-02-18T08:48:40.172Z"
   },
   {
    "duration": 138,
    "start_time": "2023-02-18T08:48:40.303Z"
   },
   {
    "duration": 113,
    "start_time": "2023-02-18T08:48:40.443Z"
   },
   {
    "duration": 97369,
    "start_time": "2023-02-18T08:48:40.559Z"
   },
   {
    "duration": 95,
    "start_time": "2023-02-18T08:50:17.930Z"
   },
   {
    "duration": 232,
    "start_time": "2023-02-18T08:50:18.027Z"
   },
   {
    "duration": 309,
    "start_time": "2023-02-18T08:50:18.261Z"
   },
   {
    "duration": 478,
    "start_time": "2023-02-18T08:50:18.571Z"
   },
   {
    "duration": 169,
    "start_time": "2023-02-18T08:50:19.051Z"
   },
   {
    "duration": 139,
    "start_time": "2023-02-18T08:50:19.222Z"
   },
   {
    "duration": 21,
    "start_time": "2023-02-18T08:50:19.363Z"
   },
   {
    "duration": 33,
    "start_time": "2023-02-18T08:50:19.385Z"
   },
   {
    "duration": 157,
    "start_time": "2023-02-18T08:50:19.420Z"
   },
   {
    "duration": 152,
    "start_time": "2023-02-18T08:50:19.579Z"
   },
   {
    "duration": 13,
    "start_time": "2023-02-18T08:50:19.733Z"
   },
   {
    "duration": 78,
    "start_time": "2023-02-18T08:50:19.748Z"
   },
   {
    "duration": 55,
    "start_time": "2023-02-18T08:50:19.828Z"
   },
   {
    "duration": 16,
    "start_time": "2023-02-18T08:50:19.885Z"
   },
   {
    "duration": 5,
    "start_time": "2023-02-18T08:50:19.908Z"
   },
   {
    "duration": 14,
    "start_time": "2023-02-18T08:50:19.918Z"
   },
   {
    "duration": 385,
    "start_time": "2023-02-18T08:50:19.934Z"
   },
   {
    "duration": 21,
    "start_time": "2023-02-18T08:50:20.323Z"
   },
   {
    "duration": 69,
    "start_time": "2023-02-18T08:50:20.346Z"
   },
   {
    "duration": 1766,
    "start_time": "2023-02-18T08:50:20.417Z"
   },
   {
    "duration": 170175,
    "start_time": "2023-02-18T08:50:22.185Z"
   },
   {
    "duration": 151,
    "start_time": "2023-02-18T08:53:12.362Z"
   },
   {
    "duration": 1237,
    "start_time": "2023-02-18T08:54:51.722Z"
   },
   {
    "duration": 862,
    "start_time": "2023-02-18T08:54:52.962Z"
   },
   {
    "duration": 138,
    "start_time": "2023-02-18T08:54:53.826Z"
   },
   {
    "duration": 184,
    "start_time": "2023-02-18T08:54:53.970Z"
   },
   {
    "duration": 10,
    "start_time": "2023-02-18T08:54:54.157Z"
   },
   {
    "duration": 59,
    "start_time": "2023-02-18T08:54:54.169Z"
   },
   {
    "duration": 168,
    "start_time": "2023-02-18T08:54:54.231Z"
   },
   {
    "duration": 134,
    "start_time": "2023-02-18T08:54:54.401Z"
   },
   {
    "duration": 113,
    "start_time": "2023-02-18T08:54:54.537Z"
   },
   {
    "duration": 94265,
    "start_time": "2023-02-18T08:54:54.652Z"
   },
   {
    "duration": 101,
    "start_time": "2023-02-18T08:56:28.918Z"
   },
   {
    "duration": 214,
    "start_time": "2023-02-18T08:56:29.021Z"
   },
   {
    "duration": 304,
    "start_time": "2023-02-18T08:56:29.237Z"
   },
   {
    "duration": 433,
    "start_time": "2023-02-18T08:56:29.543Z"
   },
   {
    "duration": 140,
    "start_time": "2023-02-18T08:56:29.977Z"
   },
   {
    "duration": 0,
    "start_time": "2023-02-18T08:56:30.119Z"
   },
   {
    "duration": 0,
    "start_time": "2023-02-18T08:56:30.120Z"
   },
   {
    "duration": 0,
    "start_time": "2023-02-18T08:56:30.121Z"
   },
   {
    "duration": 0,
    "start_time": "2023-02-18T08:56:30.122Z"
   },
   {
    "duration": 0,
    "start_time": "2023-02-18T08:56:30.123Z"
   },
   {
    "duration": 0,
    "start_time": "2023-02-18T08:56:30.125Z"
   },
   {
    "duration": 0,
    "start_time": "2023-02-18T08:56:30.127Z"
   },
   {
    "duration": 0,
    "start_time": "2023-02-18T08:56:30.129Z"
   },
   {
    "duration": 0,
    "start_time": "2023-02-18T08:56:30.131Z"
   },
   {
    "duration": 0,
    "start_time": "2023-02-18T08:56:30.132Z"
   },
   {
    "duration": 0,
    "start_time": "2023-02-18T08:56:30.133Z"
   },
   {
    "duration": 0,
    "start_time": "2023-02-18T08:56:30.135Z"
   },
   {
    "duration": 0,
    "start_time": "2023-02-18T08:56:30.136Z"
   },
   {
    "duration": 0,
    "start_time": "2023-02-18T08:56:30.137Z"
   },
   {
    "duration": 0,
    "start_time": "2023-02-18T08:56:30.138Z"
   },
   {
    "duration": 0,
    "start_time": "2023-02-18T08:56:30.140Z"
   },
   {
    "duration": 0,
    "start_time": "2023-02-18T08:56:30.141Z"
   },
   {
    "duration": 0,
    "start_time": "2023-02-18T08:56:30.264Z"
   },
   {
    "duration": 0,
    "start_time": "2023-02-18T08:56:30.266Z"
   },
   {
    "duration": 0,
    "start_time": "2023-02-18T08:56:30.267Z"
   },
   {
    "duration": 0,
    "start_time": "2023-02-18T08:56:30.269Z"
   },
   {
    "duration": 0,
    "start_time": "2023-02-18T08:56:30.270Z"
   },
   {
    "duration": 0,
    "start_time": "2023-02-18T08:56:30.271Z"
   },
   {
    "duration": 0,
    "start_time": "2023-02-18T08:56:30.272Z"
   },
   {
    "duration": 0,
    "start_time": "2023-02-18T08:56:30.273Z"
   },
   {
    "duration": 0,
    "start_time": "2023-02-18T08:56:30.274Z"
   },
   {
    "duration": 1,
    "start_time": "2023-02-18T08:56:30.275Z"
   },
   {
    "duration": 0,
    "start_time": "2023-02-18T08:56:30.277Z"
   },
   {
    "duration": 75222,
    "start_time": "2023-02-18T08:56:46.116Z"
   },
   {
    "duration": 36,
    "start_time": "2023-02-18T08:58:10.358Z"
   },
   {
    "duration": 36,
    "start_time": "2023-02-18T08:58:28.557Z"
   },
   {
    "duration": 1253,
    "start_time": "2023-02-18T08:59:21.326Z"
   },
   {
    "duration": 853,
    "start_time": "2023-02-18T08:59:22.581Z"
   },
   {
    "duration": 120,
    "start_time": "2023-02-18T08:59:23.436Z"
   },
   {
    "duration": 122,
    "start_time": "2023-02-18T08:59:23.560Z"
   },
   {
    "duration": 19,
    "start_time": "2023-02-18T08:59:23.683Z"
   },
   {
    "duration": 54,
    "start_time": "2023-02-18T08:59:23.706Z"
   },
   {
    "duration": 132,
    "start_time": "2023-02-18T08:59:23.762Z"
   },
   {
    "duration": 142,
    "start_time": "2023-02-18T08:59:23.900Z"
   },
   {
    "duration": 125,
    "start_time": "2023-02-18T08:59:24.044Z"
   },
   {
    "duration": 74112,
    "start_time": "2023-02-18T08:59:24.172Z"
   },
   {
    "duration": 0,
    "start_time": "2023-02-18T09:00:38.287Z"
   },
   {
    "duration": 0,
    "start_time": "2023-02-18T09:00:38.288Z"
   },
   {
    "duration": 0,
    "start_time": "2023-02-18T09:00:38.303Z"
   },
   {
    "duration": 0,
    "start_time": "2023-02-18T09:00:38.306Z"
   },
   {
    "duration": 0,
    "start_time": "2023-02-18T09:00:38.307Z"
   },
   {
    "duration": 0,
    "start_time": "2023-02-18T09:00:38.308Z"
   },
   {
    "duration": 0,
    "start_time": "2023-02-18T09:00:38.309Z"
   },
   {
    "duration": 0,
    "start_time": "2023-02-18T09:00:38.312Z"
   },
   {
    "duration": 0,
    "start_time": "2023-02-18T09:00:38.313Z"
   },
   {
    "duration": 0,
    "start_time": "2023-02-18T09:00:38.314Z"
   },
   {
    "duration": 0,
    "start_time": "2023-02-18T09:00:38.315Z"
   },
   {
    "duration": 0,
    "start_time": "2023-02-18T09:00:38.316Z"
   },
   {
    "duration": 0,
    "start_time": "2023-02-18T09:00:38.317Z"
   },
   {
    "duration": 0,
    "start_time": "2023-02-18T09:00:38.318Z"
   },
   {
    "duration": 0,
    "start_time": "2023-02-18T09:00:38.319Z"
   },
   {
    "duration": 0,
    "start_time": "2023-02-18T09:00:38.320Z"
   },
   {
    "duration": 0,
    "start_time": "2023-02-18T09:00:38.321Z"
   },
   {
    "duration": 0,
    "start_time": "2023-02-18T09:00:38.322Z"
   },
   {
    "duration": 0,
    "start_time": "2023-02-18T09:00:38.323Z"
   },
   {
    "duration": 0,
    "start_time": "2023-02-18T09:00:38.324Z"
   },
   {
    "duration": 0,
    "start_time": "2023-02-18T09:00:38.325Z"
   },
   {
    "duration": 0,
    "start_time": "2023-02-18T09:00:38.326Z"
   },
   {
    "duration": 0,
    "start_time": "2023-02-18T09:00:38.327Z"
   },
   {
    "duration": 0,
    "start_time": "2023-02-18T09:00:38.328Z"
   },
   {
    "duration": 0,
    "start_time": "2023-02-18T09:00:38.328Z"
   },
   {
    "duration": 0,
    "start_time": "2023-02-18T09:00:38.329Z"
   },
   {
    "duration": 0,
    "start_time": "2023-02-18T09:00:38.330Z"
   },
   {
    "duration": 0,
    "start_time": "2023-02-18T09:00:38.331Z"
   },
   {
    "duration": 0,
    "start_time": "2023-02-18T09:00:38.333Z"
   },
   {
    "duration": 0,
    "start_time": "2023-02-18T09:00:38.334Z"
   },
   {
    "duration": 0,
    "start_time": "2023-02-18T09:00:38.334Z"
   },
   {
    "duration": 18,
    "start_time": "2023-02-18T09:04:02.144Z"
   },
   {
    "duration": 37,
    "start_time": "2023-02-18T09:04:26.574Z"
   },
   {
    "duration": 18,
    "start_time": "2023-02-18T09:04:32.861Z"
   },
   {
    "duration": 32,
    "start_time": "2023-02-18T09:04:46.894Z"
   },
   {
    "duration": 17,
    "start_time": "2023-02-18T09:04:59.721Z"
   },
   {
    "duration": 19,
    "start_time": "2023-02-18T09:05:05.533Z"
   },
   {
    "duration": 19744,
    "start_time": "2023-02-18T09:06:03.724Z"
   },
   {
    "duration": 38427,
    "start_time": "2023-02-18T09:06:48.630Z"
   },
   {
    "duration": 60521,
    "start_time": "2023-02-18T09:08:09.341Z"
   },
   {
    "duration": 74832,
    "start_time": "2023-02-18T09:09:38.341Z"
   },
   {
    "duration": 33,
    "start_time": "2023-02-18T09:11:50.694Z"
   },
   {
    "duration": 16,
    "start_time": "2023-02-18T09:12:06.965Z"
   },
   {
    "duration": 1338,
    "start_time": "2023-02-18T09:13:36.447Z"
   },
   {
    "duration": 887,
    "start_time": "2023-02-18T09:13:37.788Z"
   },
   {
    "duration": 134,
    "start_time": "2023-02-18T09:13:38.677Z"
   },
   {
    "duration": 113,
    "start_time": "2023-02-18T09:13:38.814Z"
   },
   {
    "duration": 3,
    "start_time": "2023-02-18T09:13:38.928Z"
   },
   {
    "duration": 46,
    "start_time": "2023-02-18T09:13:38.933Z"
   },
   {
    "duration": 167,
    "start_time": "2023-02-18T09:13:38.981Z"
   },
   {
    "duration": 128,
    "start_time": "2023-02-18T09:13:39.150Z"
   },
   {
    "duration": 157,
    "start_time": "2023-02-18T09:13:39.280Z"
   },
   {
    "duration": 17,
    "start_time": "2023-02-18T09:13:39.440Z"
   },
   {
    "duration": 21,
    "start_time": "2023-02-18T09:13:39.458Z"
   },
   {
    "duration": 38,
    "start_time": "2023-02-18T09:13:39.481Z"
   },
   {
    "duration": 1206,
    "start_time": "2023-02-18T09:13:57.718Z"
   },
   {
    "duration": 869,
    "start_time": "2023-02-18T09:13:58.926Z"
   },
   {
    "duration": 116,
    "start_time": "2023-02-18T09:13:59.798Z"
   },
   {
    "duration": 109,
    "start_time": "2023-02-18T09:13:59.916Z"
   },
   {
    "duration": 3,
    "start_time": "2023-02-18T09:14:00.028Z"
   },
   {
    "duration": 100,
    "start_time": "2023-02-18T09:14:00.032Z"
   },
   {
    "duration": 144,
    "start_time": "2023-02-18T09:14:00.133Z"
   },
   {
    "duration": 125,
    "start_time": "2023-02-18T09:14:00.279Z"
   },
   {
    "duration": 105,
    "start_time": "2023-02-18T09:14:00.407Z"
   },
   {
    "duration": 94898,
    "start_time": "2023-02-18T09:14:00.516Z"
   },
   {
    "duration": 107,
    "start_time": "2023-02-18T09:15:35.417Z"
   },
   {
    "duration": 235,
    "start_time": "2023-02-18T09:15:35.526Z"
   },
   {
    "duration": 305,
    "start_time": "2023-02-18T09:15:35.762Z"
   },
   {
    "duration": 132,
    "start_time": "2023-02-18T09:15:36.070Z"
   },
   {
    "duration": 30,
    "start_time": "2023-02-18T09:15:36.204Z"
   },
   {
    "duration": 30,
    "start_time": "2023-02-18T09:15:36.236Z"
   },
   {
    "duration": 181,
    "start_time": "2023-02-18T09:15:36.269Z"
   },
   {
    "duration": 156,
    "start_time": "2023-02-18T09:15:36.452Z"
   },
   {
    "duration": 17,
    "start_time": "2023-02-18T09:15:36.610Z"
   },
   {
    "duration": 56,
    "start_time": "2023-02-18T09:15:36.629Z"
   },
   {
    "duration": 60,
    "start_time": "2023-02-18T09:15:36.700Z"
   },
   {
    "duration": 4,
    "start_time": "2023-02-18T09:15:36.762Z"
   },
   {
    "duration": 7,
    "start_time": "2023-02-18T09:15:36.767Z"
   },
   {
    "duration": 8,
    "start_time": "2023-02-18T09:15:36.775Z"
   },
   {
    "duration": 394,
    "start_time": "2023-02-18T09:15:36.784Z"
   },
   {
    "duration": 32,
    "start_time": "2023-02-18T09:15:37.180Z"
   },
   {
    "duration": 65,
    "start_time": "2023-02-18T09:15:37.217Z"
   },
   {
    "duration": 1653,
    "start_time": "2023-02-18T09:15:37.284Z"
   },
   {
    "duration": 153315,
    "start_time": "2023-02-18T09:15:38.938Z"
   },
   {
    "duration": 127,
    "start_time": "2023-02-18T09:18:12.256Z"
   },
   {
    "duration": 0,
    "start_time": "2023-02-18T09:18:12.385Z"
   },
   {
    "duration": 0,
    "start_time": "2023-02-18T09:18:12.387Z"
   },
   {
    "duration": 0,
    "start_time": "2023-02-18T09:18:12.388Z"
   },
   {
    "duration": 0,
    "start_time": "2023-02-18T09:18:12.399Z"
   },
   {
    "duration": 0,
    "start_time": "2023-02-18T09:18:12.400Z"
   },
   {
    "duration": 0,
    "start_time": "2023-02-18T09:18:12.402Z"
   },
   {
    "duration": 0,
    "start_time": "2023-02-18T09:18:12.404Z"
   },
   {
    "duration": 0,
    "start_time": "2023-02-18T09:18:12.405Z"
   },
   {
    "duration": 0,
    "start_time": "2023-02-18T09:18:12.406Z"
   },
   {
    "duration": 0,
    "start_time": "2023-02-18T09:18:12.407Z"
   },
   {
    "duration": 0,
    "start_time": "2023-02-18T09:18:12.409Z"
   },
   {
    "duration": 1369,
    "start_time": "2023-02-18T14:39:08.820Z"
   },
   {
    "duration": 1335,
    "start_time": "2023-02-18T14:39:10.191Z"
   },
   {
    "duration": 168,
    "start_time": "2023-02-18T14:39:11.528Z"
   },
   {
    "duration": 163,
    "start_time": "2023-02-18T14:39:11.700Z"
   },
   {
    "duration": 15,
    "start_time": "2023-02-18T14:39:11.865Z"
   },
   {
    "duration": 49,
    "start_time": "2023-02-18T14:39:11.882Z"
   },
   {
    "duration": 159,
    "start_time": "2023-02-18T14:39:11.933Z"
   },
   {
    "duration": 136,
    "start_time": "2023-02-18T14:39:12.094Z"
   },
   {
    "duration": 151,
    "start_time": "2023-02-18T14:39:12.232Z"
   },
   {
    "duration": 118103,
    "start_time": "2023-02-18T14:39:12.386Z"
   },
   {
    "duration": 144,
    "start_time": "2023-02-18T14:41:10.490Z"
   },
   {
    "duration": 305,
    "start_time": "2023-02-18T14:41:10.642Z"
   },
   {
    "duration": 360,
    "start_time": "2023-02-18T14:41:10.954Z"
   },
   {
    "duration": 156,
    "start_time": "2023-02-18T14:41:11.316Z"
   },
   {
    "duration": 32,
    "start_time": "2023-02-18T14:41:11.475Z"
   },
   {
    "duration": 39,
    "start_time": "2023-02-18T14:41:11.509Z"
   },
   {
    "duration": 210,
    "start_time": "2023-02-18T14:41:11.551Z"
   },
   {
    "duration": 167,
    "start_time": "2023-02-18T14:41:11.763Z"
   },
   {
    "duration": 20,
    "start_time": "2023-02-18T14:41:11.932Z"
   },
   {
    "duration": 76,
    "start_time": "2023-02-18T14:41:11.954Z"
   },
   {
    "duration": 68,
    "start_time": "2023-02-18T14:41:12.032Z"
   },
   {
    "duration": 5,
    "start_time": "2023-02-18T14:41:12.101Z"
   },
   {
    "duration": 31,
    "start_time": "2023-02-18T14:41:12.107Z"
   },
   {
    "duration": 36,
    "start_time": "2023-02-18T14:41:12.148Z"
   },
   {
    "duration": 447,
    "start_time": "2023-02-18T14:41:12.186Z"
   },
   {
    "duration": 35,
    "start_time": "2023-02-18T14:41:12.635Z"
   },
   {
    "duration": 48,
    "start_time": "2023-02-18T14:41:12.672Z"
   },
   {
    "duration": 1868,
    "start_time": "2023-02-18T14:41:12.724Z"
   },
   {
    "duration": 170853,
    "start_time": "2023-02-18T14:41:14.594Z"
   },
   {
    "duration": 112,
    "start_time": "2023-02-18T14:44:05.449Z"
   },
   {
    "duration": 169544,
    "start_time": "2023-02-18T14:44:05.644Z"
   },
   {
    "duration": 1142,
    "start_time": "2023-02-18T18:23:03.534Z"
   },
   {
    "duration": 1004,
    "start_time": "2023-02-18T18:23:04.678Z"
   },
   {
    "duration": 110,
    "start_time": "2023-02-18T18:23:05.683Z"
   },
   {
    "duration": 104,
    "start_time": "2023-02-18T18:23:05.794Z"
   },
   {
    "duration": 10,
    "start_time": "2023-02-18T18:23:05.900Z"
   },
   {
    "duration": 36,
    "start_time": "2023-02-18T18:23:05.911Z"
   },
   {
    "duration": 121,
    "start_time": "2023-02-18T18:23:05.949Z"
   },
   {
    "duration": 112,
    "start_time": "2023-02-18T18:23:06.072Z"
   },
   {
    "duration": 100,
    "start_time": "2023-02-18T18:23:06.185Z"
   },
   {
    "duration": 89656,
    "start_time": "2023-02-18T18:23:06.288Z"
   },
   {
    "duration": 98,
    "start_time": "2023-02-18T18:24:35.945Z"
   },
   {
    "duration": 221,
    "start_time": "2023-02-18T18:24:36.044Z"
   },
   {
    "duration": 272,
    "start_time": "2023-02-18T18:24:36.266Z"
   },
   {
    "duration": 117,
    "start_time": "2023-02-18T18:24:36.540Z"
   },
   {
    "duration": 25,
    "start_time": "2023-02-18T18:24:36.659Z"
   },
   {
    "duration": 32,
    "start_time": "2023-02-18T18:24:36.686Z"
   },
   {
    "duration": 165,
    "start_time": "2023-02-18T18:24:36.720Z"
   },
   {
    "duration": 141,
    "start_time": "2023-02-18T18:24:36.886Z"
   },
   {
    "duration": 12,
    "start_time": "2023-02-18T18:24:37.029Z"
   },
   {
    "duration": 40,
    "start_time": "2023-02-18T18:24:37.042Z"
   },
   {
    "duration": 53,
    "start_time": "2023-02-18T18:24:37.084Z"
   },
   {
    "duration": 4,
    "start_time": "2023-02-18T18:24:37.138Z"
   },
   {
    "duration": 5,
    "start_time": "2023-02-18T18:24:37.143Z"
   },
   {
    "duration": 6,
    "start_time": "2023-02-18T18:24:37.149Z"
   },
   {
    "duration": 359,
    "start_time": "2023-02-18T18:24:37.156Z"
   },
   {
    "duration": 17,
    "start_time": "2023-02-18T18:24:37.517Z"
   },
   {
    "duration": 38,
    "start_time": "2023-02-18T18:24:37.535Z"
   },
   {
    "duration": 1572,
    "start_time": "2023-02-18T18:24:37.577Z"
   },
   {
    "duration": 148343,
    "start_time": "2023-02-18T18:24:39.151Z"
   },
   {
    "duration": 113,
    "start_time": "2023-02-18T18:27:07.496Z"
   },
   {
    "duration": 4511,
    "start_time": "2023-02-18T18:27:07.611Z"
   },
   {
    "duration": 317,
    "start_time": "2023-02-18T18:38:14.159Z"
   },
   {
    "duration": 0,
    "start_time": "2023-02-18T18:38:14.478Z"
   },
   {
    "duration": 0,
    "start_time": "2023-02-18T18:38:14.480Z"
   },
   {
    "duration": 0,
    "start_time": "2023-02-18T18:38:14.481Z"
   },
   {
    "duration": 0,
    "start_time": "2023-02-18T18:38:14.482Z"
   },
   {
    "duration": 0,
    "start_time": "2023-02-18T18:38:14.483Z"
   },
   {
    "duration": 0,
    "start_time": "2023-02-18T18:38:14.484Z"
   },
   {
    "duration": 0,
    "start_time": "2023-02-18T18:38:14.485Z"
   },
   {
    "duration": 0,
    "start_time": "2023-02-18T18:38:14.486Z"
   },
   {
    "duration": 0,
    "start_time": "2023-02-18T18:38:14.488Z"
   },
   {
    "duration": 0,
    "start_time": "2023-02-18T18:38:14.489Z"
   },
   {
    "duration": 0,
    "start_time": "2023-02-18T18:38:14.510Z"
   },
   {
    "duration": 0,
    "start_time": "2023-02-18T18:38:14.511Z"
   },
   {
    "duration": 0,
    "start_time": "2023-02-18T18:38:14.512Z"
   },
   {
    "duration": 0,
    "start_time": "2023-02-18T18:38:14.513Z"
   },
   {
    "duration": 0,
    "start_time": "2023-02-18T18:38:14.514Z"
   },
   {
    "duration": 0,
    "start_time": "2023-02-18T18:38:14.515Z"
   },
   {
    "duration": 0,
    "start_time": "2023-02-18T18:38:14.517Z"
   },
   {
    "duration": 0,
    "start_time": "2023-02-18T18:38:14.517Z"
   },
   {
    "duration": 0,
    "start_time": "2023-02-18T18:38:14.518Z"
   },
   {
    "duration": 0,
    "start_time": "2023-02-18T18:38:14.519Z"
   },
   {
    "duration": 1,
    "start_time": "2023-02-18T18:38:14.520Z"
   },
   {
    "duration": 0,
    "start_time": "2023-02-18T18:38:14.522Z"
   },
   {
    "duration": 0,
    "start_time": "2023-02-18T18:38:14.522Z"
   },
   {
    "duration": 0,
    "start_time": "2023-02-18T18:38:14.524Z"
   },
   {
    "duration": 0,
    "start_time": "2023-02-18T18:38:14.525Z"
   },
   {
    "duration": 0,
    "start_time": "2023-02-18T18:38:14.526Z"
   },
   {
    "duration": 0,
    "start_time": "2023-02-18T18:38:14.527Z"
   },
   {
    "duration": 0,
    "start_time": "2023-02-18T18:38:14.528Z"
   },
   {
    "duration": 0,
    "start_time": "2023-02-18T18:38:14.530Z"
   },
   {
    "duration": 0,
    "start_time": "2023-02-18T18:38:14.531Z"
   },
   {
    "duration": 0,
    "start_time": "2023-02-18T18:38:14.532Z"
   },
   {
    "duration": 0,
    "start_time": "2023-02-18T18:38:14.533Z"
   },
   {
    "duration": 0,
    "start_time": "2023-02-18T18:38:14.534Z"
   },
   {
    "duration": 0,
    "start_time": "2023-02-18T18:38:14.535Z"
   },
   {
    "duration": 0,
    "start_time": "2023-02-18T18:38:14.536Z"
   },
   {
    "duration": 0,
    "start_time": "2023-02-18T18:38:14.536Z"
   },
   {
    "duration": 1,
    "start_time": "2023-02-18T18:38:14.537Z"
   },
   {
    "duration": 1,
    "start_time": "2023-02-18T18:38:14.538Z"
   },
   {
    "duration": 0,
    "start_time": "2023-02-18T18:38:14.539Z"
   },
   {
    "duration": 0,
    "start_time": "2023-02-18T18:38:14.540Z"
   },
   {
    "duration": 0,
    "start_time": "2023-02-18T18:38:14.541Z"
   },
   {
    "duration": 973,
    "start_time": "2023-02-18T18:43:49.907Z"
   },
   {
    "duration": 1159,
    "start_time": "2023-02-18T18:43:57.440Z"
   },
   {
    "duration": 786,
    "start_time": "2023-02-18T18:43:58.601Z"
   },
   {
    "duration": 129,
    "start_time": "2023-02-18T18:43:59.388Z"
   },
   {
    "duration": 122,
    "start_time": "2023-02-18T18:43:59.519Z"
   },
   {
    "duration": 2,
    "start_time": "2023-02-18T18:43:59.643Z"
   },
   {
    "duration": 67,
    "start_time": "2023-02-18T18:43:59.647Z"
   },
   {
    "duration": 127,
    "start_time": "2023-02-18T18:43:59.716Z"
   },
   {
    "duration": 117,
    "start_time": "2023-02-18T18:43:59.845Z"
   },
   {
    "duration": 178,
    "start_time": "2023-02-18T18:43:59.964Z"
   },
   {
    "duration": 89769,
    "start_time": "2023-02-18T18:44:00.145Z"
   },
   {
    "duration": 98,
    "start_time": "2023-02-18T18:45:29.916Z"
   },
   {
    "duration": 221,
    "start_time": "2023-02-18T18:45:30.015Z"
   },
   {
    "duration": 275,
    "start_time": "2023-02-18T18:45:30.238Z"
   },
   {
    "duration": 120,
    "start_time": "2023-02-18T18:45:30.514Z"
   },
   {
    "duration": 20,
    "start_time": "2023-02-18T18:45:30.636Z"
   },
   {
    "duration": 48,
    "start_time": "2023-02-18T18:45:30.658Z"
   },
   {
    "duration": 186,
    "start_time": "2023-02-18T18:45:30.707Z"
   },
   {
    "duration": 142,
    "start_time": "2023-02-18T18:45:30.895Z"
   },
   {
    "duration": 13,
    "start_time": "2023-02-18T18:45:31.038Z"
   },
   {
    "duration": 65,
    "start_time": "2023-02-18T18:45:31.052Z"
   },
   {
    "duration": 48,
    "start_time": "2023-02-18T18:45:31.118Z"
   },
   {
    "duration": 4,
    "start_time": "2023-02-18T18:45:31.168Z"
   },
   {
    "duration": 44,
    "start_time": "2023-02-18T18:45:31.173Z"
   },
   {
    "duration": 23,
    "start_time": "2023-02-18T18:45:31.218Z"
   },
   {
    "duration": 355,
    "start_time": "2023-02-18T18:45:31.242Z"
   },
   {
    "duration": 20,
    "start_time": "2023-02-18T18:45:31.598Z"
   },
   {
    "duration": 46,
    "start_time": "2023-02-18T18:45:31.620Z"
   },
   {
    "duration": 1609,
    "start_time": "2023-02-18T18:45:31.669Z"
   },
   {
    "duration": 123,
    "start_time": "2023-02-18T18:45:33.279Z"
   },
   {
    "duration": 0,
    "start_time": "2023-02-18T18:45:33.403Z"
   },
   {
    "duration": 0,
    "start_time": "2023-02-18T18:45:33.404Z"
   },
   {
    "duration": 0,
    "start_time": "2023-02-18T18:45:33.410Z"
   },
   {
    "duration": 0,
    "start_time": "2023-02-18T18:45:33.411Z"
   },
   {
    "duration": 0,
    "start_time": "2023-02-18T18:45:33.412Z"
   },
   {
    "duration": 0,
    "start_time": "2023-02-18T18:45:33.414Z"
   },
   {
    "duration": 0,
    "start_time": "2023-02-18T18:45:33.415Z"
   },
   {
    "duration": 0,
    "start_time": "2023-02-18T18:45:33.416Z"
   },
   {
    "duration": 0,
    "start_time": "2023-02-18T18:45:33.417Z"
   },
   {
    "duration": 0,
    "start_time": "2023-02-18T18:45:33.418Z"
   },
   {
    "duration": 0,
    "start_time": "2023-02-18T18:45:33.418Z"
   },
   {
    "duration": 0,
    "start_time": "2023-02-18T18:45:33.420Z"
   },
   {
    "duration": 0,
    "start_time": "2023-02-18T18:45:33.421Z"
   },
   {
    "duration": 24,
    "start_time": "2023-02-18T18:47:20.497Z"
   },
   {
    "duration": 1261,
    "start_time": "2023-02-18T18:47:57.050Z"
   },
   {
    "duration": 16,
    "start_time": "2023-02-18T18:48:32.109Z"
   },
   {
    "duration": 1181,
    "start_time": "2023-02-18T18:49:15.405Z"
   },
   {
    "duration": 794,
    "start_time": "2023-02-18T18:49:16.589Z"
   },
   {
    "duration": 124,
    "start_time": "2023-02-18T18:49:17.386Z"
   },
   {
    "duration": 107,
    "start_time": "2023-02-18T18:49:17.512Z"
   },
   {
    "duration": 2,
    "start_time": "2023-02-18T18:49:17.621Z"
   },
   {
    "duration": 49,
    "start_time": "2023-02-18T18:49:17.624Z"
   },
   {
    "duration": 116,
    "start_time": "2023-02-18T18:49:17.674Z"
   },
   {
    "duration": 119,
    "start_time": "2023-02-18T18:49:17.792Z"
   },
   {
    "duration": 108,
    "start_time": "2023-02-18T18:49:17.912Z"
   },
   {
    "duration": 18,
    "start_time": "2023-02-18T18:49:18.022Z"
   },
   {
    "duration": 55437,
    "start_time": "2023-02-18T18:49:18.042Z"
   },
   {
    "duration": 22902,
    "start_time": "2023-02-18T18:50:13.481Z"
   },
   {
    "duration": 100,
    "start_time": "2023-02-18T18:50:36.384Z"
   },
   {
    "duration": 257,
    "start_time": "2023-02-18T18:50:36.485Z"
   },
   {
    "duration": 330,
    "start_time": "2023-02-18T18:50:36.744Z"
   },
   {
    "duration": 115,
    "start_time": "2023-02-18T18:50:37.076Z"
   },
   {
    "duration": 28,
    "start_time": "2023-02-18T18:50:37.192Z"
   },
   {
    "duration": 20,
    "start_time": "2023-02-18T18:50:37.221Z"
   },
   {
    "duration": 164,
    "start_time": "2023-02-18T18:50:37.243Z"
   },
   {
    "duration": 150,
    "start_time": "2023-02-18T18:50:37.410Z"
   },
   {
    "duration": 12,
    "start_time": "2023-02-18T18:50:37.562Z"
   },
   {
    "duration": 54,
    "start_time": "2023-02-18T18:50:37.576Z"
   },
   {
    "duration": 38,
    "start_time": "2023-02-18T18:50:37.632Z"
   },
   {
    "duration": 4,
    "start_time": "2023-02-18T18:50:37.671Z"
   },
   {
    "duration": 4,
    "start_time": "2023-02-18T18:50:37.677Z"
   },
   {
    "duration": 7,
    "start_time": "2023-02-18T18:50:37.683Z"
   },
   {
    "duration": 354,
    "start_time": "2023-02-18T18:50:37.709Z"
   },
   {
    "duration": 18,
    "start_time": "2023-02-18T18:50:38.066Z"
   },
   {
    "duration": 49,
    "start_time": "2023-02-18T18:50:38.085Z"
   },
   {
    "duration": 1586,
    "start_time": "2023-02-18T18:50:38.135Z"
   },
   {
    "duration": 138,
    "start_time": "2023-02-18T18:50:39.723Z"
   },
   {
    "duration": 0,
    "start_time": "2023-02-18T18:50:39.863Z"
   },
   {
    "duration": 0,
    "start_time": "2023-02-18T18:50:39.864Z"
   },
   {
    "duration": 0,
    "start_time": "2023-02-18T18:50:39.865Z"
   },
   {
    "duration": 0,
    "start_time": "2023-02-18T18:50:39.865Z"
   },
   {
    "duration": 0,
    "start_time": "2023-02-18T18:50:39.866Z"
   },
   {
    "duration": 0,
    "start_time": "2023-02-18T18:50:39.868Z"
   },
   {
    "duration": 0,
    "start_time": "2023-02-18T18:50:39.869Z"
   },
   {
    "duration": 0,
    "start_time": "2023-02-18T18:50:39.870Z"
   },
   {
    "duration": 0,
    "start_time": "2023-02-18T18:50:39.871Z"
   },
   {
    "duration": 0,
    "start_time": "2023-02-18T18:50:39.873Z"
   },
   {
    "duration": 0,
    "start_time": "2023-02-18T18:50:39.874Z"
   },
   {
    "duration": 0,
    "start_time": "2023-02-18T18:50:39.875Z"
   },
   {
    "duration": 0,
    "start_time": "2023-02-18T18:50:39.877Z"
   },
   {
    "duration": 1099,
    "start_time": "2023-02-18T18:59:18.864Z"
   },
   {
    "duration": 772,
    "start_time": "2023-02-18T18:59:19.965Z"
   },
   {
    "duration": 114,
    "start_time": "2023-02-18T18:59:20.739Z"
   },
   {
    "duration": 112,
    "start_time": "2023-02-18T18:59:20.854Z"
   },
   {
    "duration": 2,
    "start_time": "2023-02-18T18:59:20.968Z"
   },
   {
    "duration": 47,
    "start_time": "2023-02-18T18:59:20.972Z"
   },
   {
    "duration": 118,
    "start_time": "2023-02-18T18:59:21.021Z"
   },
   {
    "duration": 117,
    "start_time": "2023-02-18T18:59:21.141Z"
   },
   {
    "duration": 103,
    "start_time": "2023-02-18T18:59:21.260Z"
   },
   {
    "duration": 18,
    "start_time": "2023-02-18T18:59:21.364Z"
   },
   {
    "duration": 54949,
    "start_time": "2023-02-18T18:59:21.383Z"
   },
   {
    "duration": 18775,
    "start_time": "2023-02-18T19:00:16.334Z"
   },
   {
    "duration": 0,
    "start_time": "2023-02-18T19:00:35.111Z"
   },
   {
    "duration": 0,
    "start_time": "2023-02-18T19:00:35.113Z"
   },
   {
    "duration": 0,
    "start_time": "2023-02-18T19:00:35.113Z"
   },
   {
    "duration": 0,
    "start_time": "2023-02-18T19:00:35.115Z"
   },
   {
    "duration": 0,
    "start_time": "2023-02-18T19:00:35.116Z"
   },
   {
    "duration": 0,
    "start_time": "2023-02-18T19:00:35.116Z"
   },
   {
    "duration": 0,
    "start_time": "2023-02-18T19:00:35.117Z"
   },
   {
    "duration": 0,
    "start_time": "2023-02-18T19:00:35.118Z"
   },
   {
    "duration": 0,
    "start_time": "2023-02-18T19:00:35.119Z"
   },
   {
    "duration": 0,
    "start_time": "2023-02-18T19:00:35.120Z"
   },
   {
    "duration": 0,
    "start_time": "2023-02-18T19:00:35.122Z"
   },
   {
    "duration": 0,
    "start_time": "2023-02-18T19:00:35.122Z"
   },
   {
    "duration": 0,
    "start_time": "2023-02-18T19:00:35.123Z"
   },
   {
    "duration": 0,
    "start_time": "2023-02-18T19:00:35.124Z"
   },
   {
    "duration": 0,
    "start_time": "2023-02-18T19:00:35.125Z"
   },
   {
    "duration": 0,
    "start_time": "2023-02-18T19:00:35.126Z"
   },
   {
    "duration": 0,
    "start_time": "2023-02-18T19:00:35.127Z"
   },
   {
    "duration": 0,
    "start_time": "2023-02-18T19:00:35.127Z"
   },
   {
    "duration": 0,
    "start_time": "2023-02-18T19:00:35.128Z"
   },
   {
    "duration": 0,
    "start_time": "2023-02-18T19:00:35.129Z"
   },
   {
    "duration": 0,
    "start_time": "2023-02-18T19:00:35.130Z"
   },
   {
    "duration": 0,
    "start_time": "2023-02-18T19:00:35.131Z"
   },
   {
    "duration": 0,
    "start_time": "2023-02-18T19:00:35.132Z"
   },
   {
    "duration": 0,
    "start_time": "2023-02-18T19:00:35.133Z"
   },
   {
    "duration": 0,
    "start_time": "2023-02-18T19:00:35.134Z"
   },
   {
    "duration": 0,
    "start_time": "2023-02-18T19:00:35.135Z"
   },
   {
    "duration": 0,
    "start_time": "2023-02-18T19:00:35.136Z"
   },
   {
    "duration": 0,
    "start_time": "2023-02-18T19:00:35.137Z"
   },
   {
    "duration": 0,
    "start_time": "2023-02-18T19:00:35.138Z"
   },
   {
    "duration": 0,
    "start_time": "2023-02-18T19:00:35.139Z"
   },
   {
    "duration": 0,
    "start_time": "2023-02-18T19:00:35.140Z"
   },
   {
    "duration": 0,
    "start_time": "2023-02-18T19:00:35.141Z"
   },
   {
    "duration": 18574,
    "start_time": "2023-02-18T19:03:38.621Z"
   },
   {
    "duration": 19,
    "start_time": "2023-02-18T19:05:55.900Z"
   },
   {
    "duration": 26,
    "start_time": "2023-02-18T19:06:05.500Z"
   },
   {
    "duration": 12,
    "start_time": "2023-02-18T19:06:20.512Z"
   },
   {
    "duration": 24,
    "start_time": "2023-02-18T19:12:50.816Z"
   },
   {
    "duration": 11,
    "start_time": "2023-02-18T19:14:39.379Z"
   },
   {
    "duration": 12,
    "start_time": "2023-02-18T19:14:54.694Z"
   },
   {
    "duration": 26,
    "start_time": "2023-02-18T19:15:08.583Z"
   },
   {
    "duration": 18,
    "start_time": "2023-02-18T19:17:08.176Z"
   },
   {
    "duration": 18,
    "start_time": "2023-02-18T19:17:28.123Z"
   },
   {
    "duration": 14502,
    "start_time": "2023-02-18T19:21:05.712Z"
   },
   {
    "duration": 1144,
    "start_time": "2023-02-18T19:22:16.949Z"
   },
   {
    "duration": 778,
    "start_time": "2023-02-18T19:22:18.095Z"
   },
   {
    "duration": 116,
    "start_time": "2023-02-18T19:22:18.874Z"
   },
   {
    "duration": 118,
    "start_time": "2023-02-18T19:22:18.992Z"
   },
   {
    "duration": 2,
    "start_time": "2023-02-18T19:22:19.112Z"
   },
   {
    "duration": 39,
    "start_time": "2023-02-18T19:22:19.115Z"
   },
   {
    "duration": 117,
    "start_time": "2023-02-18T19:22:19.155Z"
   },
   {
    "duration": 122,
    "start_time": "2023-02-18T19:22:19.273Z"
   },
   {
    "duration": 106,
    "start_time": "2023-02-18T19:22:19.397Z"
   },
   {
    "duration": 19,
    "start_time": "2023-02-18T19:22:19.509Z"
   },
   {
    "duration": 55615,
    "start_time": "2023-02-18T19:22:19.530Z"
   },
   {
    "duration": 19031,
    "start_time": "2023-02-18T19:23:15.147Z"
   },
   {
    "duration": 0,
    "start_time": "2023-02-18T19:23:34.180Z"
   },
   {
    "duration": 0,
    "start_time": "2023-02-18T19:23:34.181Z"
   },
   {
    "duration": 0,
    "start_time": "2023-02-18T19:23:34.182Z"
   },
   {
    "duration": 0,
    "start_time": "2023-02-18T19:23:34.183Z"
   },
   {
    "duration": 0,
    "start_time": "2023-02-18T19:23:34.184Z"
   },
   {
    "duration": 0,
    "start_time": "2023-02-18T19:23:34.185Z"
   },
   {
    "duration": 0,
    "start_time": "2023-02-18T19:23:34.186Z"
   },
   {
    "duration": 0,
    "start_time": "2023-02-18T19:23:34.187Z"
   },
   {
    "duration": 0,
    "start_time": "2023-02-18T19:23:34.188Z"
   },
   {
    "duration": 0,
    "start_time": "2023-02-18T19:23:34.189Z"
   },
   {
    "duration": 0,
    "start_time": "2023-02-18T19:23:34.190Z"
   },
   {
    "duration": 0,
    "start_time": "2023-02-18T19:23:34.211Z"
   },
   {
    "duration": 0,
    "start_time": "2023-02-18T19:23:34.212Z"
   },
   {
    "duration": 0,
    "start_time": "2023-02-18T19:23:34.213Z"
   },
   {
    "duration": 0,
    "start_time": "2023-02-18T19:23:34.214Z"
   },
   {
    "duration": 0,
    "start_time": "2023-02-18T19:23:34.215Z"
   },
   {
    "duration": 0,
    "start_time": "2023-02-18T19:23:34.216Z"
   },
   {
    "duration": 0,
    "start_time": "2023-02-18T19:23:34.217Z"
   },
   {
    "duration": 0,
    "start_time": "2023-02-18T19:23:34.218Z"
   },
   {
    "duration": 0,
    "start_time": "2023-02-18T19:23:34.219Z"
   },
   {
    "duration": 0,
    "start_time": "2023-02-18T19:23:34.220Z"
   },
   {
    "duration": 0,
    "start_time": "2023-02-18T19:23:34.221Z"
   },
   {
    "duration": 0,
    "start_time": "2023-02-18T19:23:34.221Z"
   },
   {
    "duration": 0,
    "start_time": "2023-02-18T19:23:34.222Z"
   },
   {
    "duration": 0,
    "start_time": "2023-02-18T19:23:34.223Z"
   },
   {
    "duration": 0,
    "start_time": "2023-02-18T19:23:34.224Z"
   },
   {
    "duration": 0,
    "start_time": "2023-02-18T19:23:34.225Z"
   },
   {
    "duration": 0,
    "start_time": "2023-02-18T19:23:34.225Z"
   },
   {
    "duration": 0,
    "start_time": "2023-02-18T19:23:34.226Z"
   },
   {
    "duration": 0,
    "start_time": "2023-02-18T19:23:34.227Z"
   },
   {
    "duration": 0,
    "start_time": "2023-02-18T19:23:34.228Z"
   },
   {
    "duration": 0,
    "start_time": "2023-02-18T19:23:34.228Z"
   },
   {
    "duration": 0,
    "start_time": "2023-02-18T19:23:34.229Z"
   },
   {
    "duration": 0,
    "start_time": "2023-02-18T19:23:34.230Z"
   },
   {
    "duration": 0,
    "start_time": "2023-02-18T19:23:34.231Z"
   },
   {
    "duration": 18590,
    "start_time": "2023-02-18T19:23:47.197Z"
   },
   {
    "duration": 21,
    "start_time": "2023-02-18T19:24:26.943Z"
   },
   {
    "duration": 29,
    "start_time": "2023-02-18T19:24:34.351Z"
   },
   {
    "duration": 16,
    "start_time": "2023-02-18T19:24:53.853Z"
   },
   {
    "duration": 23,
    "start_time": "2023-02-18T19:25:31.137Z"
   },
   {
    "duration": 16,
    "start_time": "2023-02-18T19:26:21.725Z"
   },
   {
    "duration": 18392,
    "start_time": "2023-02-18T19:29:06.362Z"
   },
   {
    "duration": 16,
    "start_time": "2023-02-18T19:29:45.254Z"
   },
   {
    "duration": 28,
    "start_time": "2023-02-18T19:30:37.022Z"
   },
   {
    "duration": 1213,
    "start_time": "2023-02-18T19:32:08.068Z"
   },
   {
    "duration": 792,
    "start_time": "2023-02-18T19:32:09.283Z"
   },
   {
    "duration": 120,
    "start_time": "2023-02-18T19:32:10.077Z"
   },
   {
    "duration": 128,
    "start_time": "2023-02-18T19:32:10.198Z"
   },
   {
    "duration": 2,
    "start_time": "2023-02-18T19:32:10.328Z"
   },
   {
    "duration": 41,
    "start_time": "2023-02-18T19:32:10.332Z"
   },
   {
    "duration": 138,
    "start_time": "2023-02-18T19:32:10.374Z"
   },
   {
    "duration": 122,
    "start_time": "2023-02-18T19:32:10.514Z"
   },
   {
    "duration": 107,
    "start_time": "2023-02-18T19:32:10.638Z"
   },
   {
    "duration": 18,
    "start_time": "2023-02-18T19:32:10.748Z"
   },
   {
    "duration": 74379,
    "start_time": "2023-02-18T19:32:10.767Z"
   },
   {
    "duration": 38,
    "start_time": "2023-02-18T19:33:25.148Z"
   },
   {
    "duration": 42,
    "start_time": "2023-02-18T19:33:25.188Z"
   },
   {
    "duration": 22,
    "start_time": "2023-02-18T19:33:25.232Z"
   },
   {
    "duration": 26,
    "start_time": "2023-02-18T19:33:25.256Z"
   },
   {
    "duration": 126,
    "start_time": "2023-02-18T19:33:25.284Z"
   },
   {
    "duration": 221,
    "start_time": "2023-02-18T19:33:25.412Z"
   },
   {
    "duration": 287,
    "start_time": "2023-02-18T19:33:25.635Z"
   },
   {
    "duration": 121,
    "start_time": "2023-02-18T19:33:25.923Z"
   },
   {
    "duration": 21,
    "start_time": "2023-02-18T19:33:26.045Z"
   },
   {
    "duration": 20,
    "start_time": "2023-02-18T19:33:26.068Z"
   },
   {
    "duration": 170,
    "start_time": "2023-02-18T19:33:26.089Z"
   },
   {
    "duration": 139,
    "start_time": "2023-02-18T19:33:26.261Z"
   },
   {
    "duration": 15,
    "start_time": "2023-02-18T19:33:26.401Z"
   },
   {
    "duration": 39,
    "start_time": "2023-02-18T19:33:26.417Z"
   },
   {
    "duration": 60,
    "start_time": "2023-02-18T19:33:26.457Z"
   },
   {
    "duration": 3,
    "start_time": "2023-02-18T19:33:26.519Z"
   },
   {
    "duration": 7,
    "start_time": "2023-02-18T19:33:26.525Z"
   },
   {
    "duration": 5,
    "start_time": "2023-02-18T19:33:26.533Z"
   },
   {
    "duration": 438,
    "start_time": "2023-02-18T19:33:26.539Z"
   },
   {
    "duration": 18,
    "start_time": "2023-02-18T19:33:26.978Z"
   },
   {
    "duration": 47,
    "start_time": "2023-02-18T19:33:26.998Z"
   },
   {
    "duration": 1639,
    "start_time": "2023-02-18T19:33:27.047Z"
   },
   {
    "duration": 132,
    "start_time": "2023-02-18T19:33:28.687Z"
   },
   {
    "duration": 0,
    "start_time": "2023-02-18T19:33:28.821Z"
   },
   {
    "duration": 0,
    "start_time": "2023-02-18T19:33:28.823Z"
   },
   {
    "duration": 0,
    "start_time": "2023-02-18T19:33:28.826Z"
   },
   {
    "duration": 0,
    "start_time": "2023-02-18T19:33:28.827Z"
   },
   {
    "duration": 0,
    "start_time": "2023-02-18T19:33:28.828Z"
   },
   {
    "duration": 0,
    "start_time": "2023-02-18T19:33:28.829Z"
   },
   {
    "duration": 0,
    "start_time": "2023-02-18T19:33:28.830Z"
   },
   {
    "duration": 0,
    "start_time": "2023-02-18T19:33:28.831Z"
   },
   {
    "duration": 1,
    "start_time": "2023-02-18T19:33:28.832Z"
   },
   {
    "duration": 0,
    "start_time": "2023-02-18T19:33:28.833Z"
   },
   {
    "duration": 0,
    "start_time": "2023-02-18T19:33:28.835Z"
   },
   {
    "duration": 0,
    "start_time": "2023-02-18T19:33:28.836Z"
   },
   {
    "duration": 0,
    "start_time": "2023-02-18T19:33:28.837Z"
   },
   {
    "duration": 4379,
    "start_time": "2023-02-18T19:34:39.157Z"
   },
   {
    "duration": 4296,
    "start_time": "2023-02-18T19:37:09.764Z"
   },
   {
    "duration": 10,
    "start_time": "2023-02-18T19:37:28.774Z"
   },
   {
    "duration": 1322,
    "start_time": "2023-02-19T07:12:51.769Z"
   },
   {
    "duration": 1016,
    "start_time": "2023-02-19T07:12:53.092Z"
   },
   {
    "duration": 104,
    "start_time": "2023-02-19T07:12:54.109Z"
   },
   {
    "duration": 108,
    "start_time": "2023-02-19T07:12:54.216Z"
   },
   {
    "duration": 123,
    "start_time": "2023-02-19T07:12:54.326Z"
   },
   {
    "duration": 125,
    "start_time": "2023-02-19T07:12:54.450Z"
   },
   {
    "duration": 68889,
    "start_time": "2023-02-19T07:12:54.577Z"
   },
   {
    "duration": 96,
    "start_time": "2023-02-19T07:14:03.468Z"
   },
   {
    "duration": 207,
    "start_time": "2023-02-19T07:14:03.565Z"
   },
   {
    "duration": 259,
    "start_time": "2023-02-19T07:14:03.774Z"
   },
   {
    "duration": 111,
    "start_time": "2023-02-19T07:14:04.037Z"
   },
   {
    "duration": 28,
    "start_time": "2023-02-19T07:14:04.149Z"
   },
   {
    "duration": 116,
    "start_time": "2023-02-19T07:14:04.178Z"
   },
   {
    "duration": 141,
    "start_time": "2023-02-19T07:14:04.296Z"
   },
   {
    "duration": 11,
    "start_time": "2023-02-19T07:14:04.439Z"
   },
   {
    "duration": 61,
    "start_time": "2023-02-19T07:14:04.453Z"
   },
   {
    "duration": 61,
    "start_time": "2023-02-19T07:14:04.515Z"
   },
   {
    "duration": 3,
    "start_time": "2023-02-19T07:14:04.578Z"
   },
   {
    "duration": 9,
    "start_time": "2023-02-19T07:14:04.583Z"
   },
   {
    "duration": 9,
    "start_time": "2023-02-19T07:14:04.593Z"
   },
   {
    "duration": 324,
    "start_time": "2023-02-19T07:14:04.604Z"
   },
   {
    "duration": 22,
    "start_time": "2023-02-19T07:14:04.930Z"
   },
   {
    "duration": 44,
    "start_time": "2023-02-19T07:14:04.954Z"
   },
   {
    "duration": 4,
    "start_time": "2023-02-19T07:17:26.571Z"
   },
   {
    "duration": 17,
    "start_time": "2023-02-19T07:17:55.952Z"
   },
   {
    "duration": 52,
    "start_time": "2023-02-19T07:18:21.225Z"
   }
  ],
  "kernelspec": {
   "display_name": "Python 3 (ipykernel)",
   "language": "python",
   "name": "python3"
  },
  "language_info": {
   "codemirror_mode": {
    "name": "ipython",
    "version": 3
   },
   "file_extension": ".py",
   "mimetype": "text/x-python",
   "name": "python",
   "nbconvert_exporter": "python",
   "pygments_lexer": "ipython3",
   "version": "3.9.12"
  },
  "toc": {
   "base_numbering": 1,
   "nav_menu": {},
   "number_sections": true,
   "sideBar": true,
   "skip_h1_title": true,
   "title_cell": "Table of Contents",
   "title_sidebar": "Contents",
   "toc_cell": false,
   "toc_position": {},
   "toc_section_display": true,
   "toc_window_display": true
  }
 },
 "nbformat": 4,
 "nbformat_minor": 2
}
