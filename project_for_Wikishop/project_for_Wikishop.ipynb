{
 "cells": [
  {
   "cell_type": "markdown",
   "metadata": {
    "toc": true
   },
   "source": [
    "<h1>Содержание<span class=\"tocSkip\"></span></h1>\n",
    "<div class=\"toc\"><ul class=\"toc-item\"><li><span><a href=\"#Подготовка\" data-toc-modified-id=\"Подготовка-1\"><span class=\"toc-item-num\">1&nbsp;&nbsp;</span>Подготовка</a></span></li><li><span><a href=\"#Обучение\" data-toc-modified-id=\"Обучение-2\"><span class=\"toc-item-num\">2&nbsp;&nbsp;</span>Обучение</a></span></li><li><span><a href=\"#Тестирование\" data-toc-modified-id=\"Тестирование-3\"><span class=\"toc-item-num\">3&nbsp;&nbsp;</span>Тестирование</a></span></li><li><span><a href=\"#Выводы\" data-toc-modified-id=\"Выводы-4\"><span class=\"toc-item-num\">4&nbsp;&nbsp;</span>Выводы</a></span></li><li><span><a href=\"#Чек-лист-проверки\" data-toc-modified-id=\"Чек-лист-проверки-5\"><span class=\"toc-item-num\">5&nbsp;&nbsp;</span>Чек-лист проверки</a></span></li></ul></div>"
   ]
  },
  {
   "cell_type": "markdown",
   "metadata": {},
   "source": [
    "# Проект для «Викишоп»"
   ]
  },
  {
   "cell_type": "markdown",
   "metadata": {},
   "source": [
    "**Описание проекта**\n",
    "\n",
    "Интернет-магазин «Викишоп» запускает новый сервис. Теперь пользователи могут редактировать и дополнять описания товаров, как в вики-сообществах. То есть клиенты предлагают свои правки и комментируют изменения других. Магазину нужен инструмент, который будет искать токсичные комментарии и отправлять их на модерацию. \n",
    "\n",
    "**Цель проекта**\n",
    "\n",
    "Требуется обучить модель классифицировать комментарии на позитивные и негативные.\n",
    "\n",
    "Построить модель со значением метрики качества *F1* не меньше 0.75. \n",
    "\n",
    "**План проекта**\n",
    "\n",
    "1. Загрузить и подготовьть данные.\n",
    "2. Обучить разные модели. \n",
    "3. Сделайть выводы.\n",
    "\n",
    "Для выполнения проекта применять *BERT* необязательно, но можно попробовать.\n",
    "\n",
    "**Описание данных**\n",
    "\n",
    "Данные находятся в файле `toxic_comments.csv`. Столбец *text* в нём содержит текст комментария, а *toxic* — целевой признак."
   ]
  },
  {
   "cell_type": "markdown",
   "metadata": {},
   "source": [
    "## Подготовка"
   ]
  },
  {
   "cell_type": "code",
   "execution_count": 1,
   "metadata": {},
   "outputs": [
    {
     "name": "stderr",
     "output_type": "stream",
     "text": [
      "[nltk_data] Downloading package wordnet to\n",
      "[nltk_data]     C:\\Users\\Adelina\\AppData\\Roaming\\nltk_data...\n",
      "[nltk_data]   Package wordnet is already up-to-date!\n",
      "[nltk_data] Downloading package averaged_perceptron_tagger to\n",
      "[nltk_data]     C:\\Users\\Adelina\\AppData\\Roaming\\nltk_data...\n",
      "[nltk_data]   Package averaged_perceptron_tagger is already up-to-\n",
      "[nltk_data]       date!\n",
      "[nltk_data] Downloading package punkt to\n",
      "[nltk_data]     C:\\Users\\Adelina\\AppData\\Roaming\\nltk_data...\n",
      "[nltk_data]   Package punkt is already up-to-date!\n",
      "[nltk_data] Downloading package omw-1.4 to\n",
      "[nltk_data]     C:\\Users\\Adelina\\AppData\\Roaming\\nltk_data...\n",
      "[nltk_data]   Package omw-1.4 is already up-to-date!\n"
     ]
    }
   ],
   "source": [
    "import nltk\n",
    "nltk.download('wordnet')\n",
    "nltk.download('averaged_perceptron_tagger')\n",
    "nltk.download('punkt')\n",
    "nltk.download('omw-1.4')\n",
    "import numpy as np\n",
    "import pandas as pd\n",
    "import re \n",
    "\n",
    "#from imblearn.over_sampling import SMOTE\n",
    "from lightgbm import LGBMClassifier\n",
    "from nltk.corpus import stopwords as nltk_stopwords, wordnet\n",
    "from nltk.stem import WordNetLemmatizer \n",
    "from sklearn.ensemble import RandomForestClassifier\n",
    "from sklearn.feature_extraction.text import TfidfVectorizer\n",
    "from sklearn.linear_model import LogisticRegression\n",
    "from sklearn.metrics import f1_score\n",
    "from sklearn.model_selection import train_test_split, cross_val_score, GridSearchCV, RandomizedSearchCV\n",
    "from sklearn.pipeline import Pipeline, make_pipeline\n",
    "from sklearn.tree import DecisionTreeClassifier\n",
    "from sklearn.utils import shuffle\n",
    "from tqdm import tqdm\n"
   ]
  },
  {
   "cell_type": "markdown",
   "metadata": {},
   "source": [
    "Загрузим данные и изучим данные."
   ]
  },
  {
   "cell_type": "code",
   "execution_count": 2,
   "metadata": {},
   "outputs": [],
   "source": [
    "try:\n",
    "    data = pd.read_csv('/datasets/toxic_comments.csv', index_col=0)\n",
    "except:\n",
    "    data = pd.read_csv('https://code.s3.yandex.net/datasets/toxic_comments.csv', index_col=0)\n"
   ]
  },
  {
   "cell_type": "code",
   "execution_count": 3,
   "metadata": {},
   "outputs": [
    {
     "data": {
      "text/html": [
       "<div>\n",
       "<style scoped>\n",
       "    .dataframe tbody tr th:only-of-type {\n",
       "        vertical-align: middle;\n",
       "    }\n",
       "\n",
       "    .dataframe tbody tr th {\n",
       "        vertical-align: top;\n",
       "    }\n",
       "\n",
       "    .dataframe thead th {\n",
       "        text-align: right;\n",
       "    }\n",
       "</style>\n",
       "<table border=\"1\" class=\"dataframe\">\n",
       "  <thead>\n",
       "    <tr style=\"text-align: right;\">\n",
       "      <th></th>\n",
       "      <th>text</th>\n",
       "      <th>toxic</th>\n",
       "    </tr>\n",
       "  </thead>\n",
       "  <tbody>\n",
       "    <tr>\n",
       "      <th>0</th>\n",
       "      <td>Explanation\\nWhy the edits made under my usern...</td>\n",
       "      <td>0</td>\n",
       "    </tr>\n",
       "    <tr>\n",
       "      <th>1</th>\n",
       "      <td>D'aww! He matches this background colour I'm s...</td>\n",
       "      <td>0</td>\n",
       "    </tr>\n",
       "    <tr>\n",
       "      <th>2</th>\n",
       "      <td>Hey man, I'm really not trying to edit war. It...</td>\n",
       "      <td>0</td>\n",
       "    </tr>\n",
       "    <tr>\n",
       "      <th>3</th>\n",
       "      <td>\"\\nMore\\nI can't make any real suggestions on ...</td>\n",
       "      <td>0</td>\n",
       "    </tr>\n",
       "    <tr>\n",
       "      <th>4</th>\n",
       "      <td>You, sir, are my hero. Any chance you remember...</td>\n",
       "      <td>0</td>\n",
       "    </tr>\n",
       "    <tr>\n",
       "      <th>5</th>\n",
       "      <td>\"\\n\\nCongratulations from me as well, use the ...</td>\n",
       "      <td>0</td>\n",
       "    </tr>\n",
       "    <tr>\n",
       "      <th>6</th>\n",
       "      <td>COCKSUCKER BEFORE YOU PISS AROUND ON MY WORK</td>\n",
       "      <td>1</td>\n",
       "    </tr>\n",
       "    <tr>\n",
       "      <th>7</th>\n",
       "      <td>Your vandalism to the Matt Shirvington article...</td>\n",
       "      <td>0</td>\n",
       "    </tr>\n",
       "    <tr>\n",
       "      <th>8</th>\n",
       "      <td>Sorry if the word 'nonsense' was offensive to ...</td>\n",
       "      <td>0</td>\n",
       "    </tr>\n",
       "    <tr>\n",
       "      <th>9</th>\n",
       "      <td>alignment on this subject and which are contra...</td>\n",
       "      <td>0</td>\n",
       "    </tr>\n",
       "    <tr>\n",
       "      <th>10</th>\n",
       "      <td>\"\\nFair use rationale for Image:Wonju.jpg\\n\\nT...</td>\n",
       "      <td>0</td>\n",
       "    </tr>\n",
       "    <tr>\n",
       "      <th>11</th>\n",
       "      <td>bbq \\n\\nbe a man and lets discuss it-maybe ove...</td>\n",
       "      <td>0</td>\n",
       "    </tr>\n",
       "    <tr>\n",
       "      <th>12</th>\n",
       "      <td>Hey... what is it..\\n@ | talk .\\nWhat is it......</td>\n",
       "      <td>1</td>\n",
       "    </tr>\n",
       "    <tr>\n",
       "      <th>13</th>\n",
       "      <td>Before you start throwing accusations and warn...</td>\n",
       "      <td>0</td>\n",
       "    </tr>\n",
       "    <tr>\n",
       "      <th>14</th>\n",
       "      <td>Oh, and the girl above started her arguments w...</td>\n",
       "      <td>0</td>\n",
       "    </tr>\n",
       "  </tbody>\n",
       "</table>\n",
       "</div>"
      ],
      "text/plain": [
       "                                                 text  toxic\n",
       "0   Explanation\\nWhy the edits made under my usern...      0\n",
       "1   D'aww! He matches this background colour I'm s...      0\n",
       "2   Hey man, I'm really not trying to edit war. It...      0\n",
       "3   \"\\nMore\\nI can't make any real suggestions on ...      0\n",
       "4   You, sir, are my hero. Any chance you remember...      0\n",
       "5   \"\\n\\nCongratulations from me as well, use the ...      0\n",
       "6        COCKSUCKER BEFORE YOU PISS AROUND ON MY WORK      1\n",
       "7   Your vandalism to the Matt Shirvington article...      0\n",
       "8   Sorry if the word 'nonsense' was offensive to ...      0\n",
       "9   alignment on this subject and which are contra...      0\n",
       "10  \"\\nFair use rationale for Image:Wonju.jpg\\n\\nT...      0\n",
       "11  bbq \\n\\nbe a man and lets discuss it-maybe ove...      0\n",
       "12  Hey... what is it..\\n@ | talk .\\nWhat is it......      1\n",
       "13  Before you start throwing accusations and warn...      0\n",
       "14  Oh, and the girl above started her arguments w...      0"
      ]
     },
     "execution_count": 3,
     "metadata": {},
     "output_type": "execute_result"
    }
   ],
   "source": [
    "data.head(15)"
   ]
  },
  {
   "cell_type": "code",
   "execution_count": 4,
   "metadata": {},
   "outputs": [
    {
     "name": "stdout",
     "output_type": "stream",
     "text": [
      "<class 'pandas.core.frame.DataFrame'>\n",
      "Int64Index: 159292 entries, 0 to 159450\n",
      "Data columns (total 2 columns):\n",
      " #   Column  Non-Null Count   Dtype \n",
      "---  ------  --------------   ----- \n",
      " 0   text    159292 non-null  object\n",
      " 1   toxic   159292 non-null  int64 \n",
      "dtypes: int64(1), object(1)\n",
      "memory usage: 3.6+ MB\n"
     ]
    }
   ],
   "source": [
    "data.info()"
   ]
  },
  {
   "cell_type": "markdown",
   "metadata": {},
   "source": [
    "Лемматизируем содержание столбца 'text' и очистим текст. "
   ]
  },
  {
   "cell_type": "code",
   "execution_count": 5,
   "metadata": {},
   "outputs": [],
   "source": [
    "def get_wordnet_pos(word):\n",
    "    \"\"\"Map POS tag to first character lemmatize() accepts\"\"\"\n",
    "    tag = nltk.pos_tag([word])[0][1][0].upper()\n",
    "    tag_dict = {\"J\": wordnet.ADJ,\n",
    "                \"N\": wordnet.NOUN,\n",
    "                \"V\": wordnet.VERB,\n",
    "                \"R\": wordnet.ADV}\n",
    "    return tag_dict.get(tag, wordnet.NOUN)\n",
    "\n",
    "def lemmatize(text):\n",
    "    lemmatizer = WordNetLemmatizer()\n",
    "    word_list = nltk.word_tokenize(text) \n",
    "    lemm_text = ' '.join([lemmatizer.lemmatize(w, get_wordnet_pos(w)) for w in word_list])  \n",
    "    return lemm_text\n",
    "\n",
    "def clear_text(text):\n",
    "    text = re.sub(r'[^a-zA-Z ]', ' ', text) \n",
    "    text = text.split()\n",
    "    return \" \".join(text).lower() "
   ]
  },
  {
   "cell_type": "code",
   "execution_count": 6,
   "metadata": {},
   "outputs": [
    {
     "name": "stderr",
     "output_type": "stream",
     "text": [
      "100%|███████████████████████████████████████████████████████████████████████| 159292/159292 [00:03<00:00, 41019.87it/s]\n"
     ]
    },
    {
     "data": {
      "text/html": [
       "<div>\n",
       "<style scoped>\n",
       "    .dataframe tbody tr th:only-of-type {\n",
       "        vertical-align: middle;\n",
       "    }\n",
       "\n",
       "    .dataframe tbody tr th {\n",
       "        vertical-align: top;\n",
       "    }\n",
       "\n",
       "    .dataframe thead th {\n",
       "        text-align: right;\n",
       "    }\n",
       "</style>\n",
       "<table border=\"1\" class=\"dataframe\">\n",
       "  <thead>\n",
       "    <tr style=\"text-align: right;\">\n",
       "      <th></th>\n",
       "      <th>text</th>\n",
       "      <th>toxic</th>\n",
       "    </tr>\n",
       "  </thead>\n",
       "  <tbody>\n",
       "    <tr>\n",
       "      <th>0</th>\n",
       "      <td>explanation why the edits made under my userna...</td>\n",
       "      <td>0</td>\n",
       "    </tr>\n",
       "    <tr>\n",
       "      <th>1</th>\n",
       "      <td>d aww he matches this background colour i m se...</td>\n",
       "      <td>0</td>\n",
       "    </tr>\n",
       "    <tr>\n",
       "      <th>2</th>\n",
       "      <td>hey man i m really not trying to edit war it s...</td>\n",
       "      <td>0</td>\n",
       "    </tr>\n",
       "    <tr>\n",
       "      <th>3</th>\n",
       "      <td>more i can t make any real suggestions on impr...</td>\n",
       "      <td>0</td>\n",
       "    </tr>\n",
       "    <tr>\n",
       "      <th>4</th>\n",
       "      <td>you sir are my hero any chance you remember wh...</td>\n",
       "      <td>0</td>\n",
       "    </tr>\n",
       "    <tr>\n",
       "      <th>...</th>\n",
       "      <td>...</td>\n",
       "      <td>...</td>\n",
       "    </tr>\n",
       "    <tr>\n",
       "      <th>159446</th>\n",
       "      <td>and for the second time of asking when your vi...</td>\n",
       "      <td>0</td>\n",
       "    </tr>\n",
       "    <tr>\n",
       "      <th>159447</th>\n",
       "      <td>you should be ashamed of yourself that is a ho...</td>\n",
       "      <td>0</td>\n",
       "    </tr>\n",
       "    <tr>\n",
       "      <th>159448</th>\n",
       "      <td>spitzer umm theres no actual article for prost...</td>\n",
       "      <td>0</td>\n",
       "    </tr>\n",
       "    <tr>\n",
       "      <th>159449</th>\n",
       "      <td>and it looks like it was actually you who put ...</td>\n",
       "      <td>0</td>\n",
       "    </tr>\n",
       "    <tr>\n",
       "      <th>159450</th>\n",
       "      <td>and i really don t think you understand i came...</td>\n",
       "      <td>0</td>\n",
       "    </tr>\n",
       "  </tbody>\n",
       "</table>\n",
       "<p>159292 rows × 2 columns</p>\n",
       "</div>"
      ],
      "text/plain": [
       "                                                     text  toxic\n",
       "0       explanation why the edits made under my userna...      0\n",
       "1       d aww he matches this background colour i m se...      0\n",
       "2       hey man i m really not trying to edit war it s...      0\n",
       "3       more i can t make any real suggestions on impr...      0\n",
       "4       you sir are my hero any chance you remember wh...      0\n",
       "...                                                   ...    ...\n",
       "159446  and for the second time of asking when your vi...      0\n",
       "159447  you should be ashamed of yourself that is a ho...      0\n",
       "159448  spitzer umm theres no actual article for prost...      0\n",
       "159449  and it looks like it was actually you who put ...      0\n",
       "159450  and i really don t think you understand i came...      0\n",
       "\n",
       "[159292 rows x 2 columns]"
      ]
     },
     "execution_count": 6,
     "metadata": {},
     "output_type": "execute_result"
    }
   ],
   "source": [
    "tqdm.pandas()\n",
    "data['text'] = data['text'].progress_apply(clear_text)\n",
    "data"
   ]
  },
  {
   "cell_type": "code",
   "execution_count": 8,
   "metadata": {},
   "outputs": [
    {
     "name": "stderr",
     "output_type": "stream",
     "text": [
      "100%|████████████████████████████████████████████████████████████████████████| 159292/159292 [3:25:40<00:00, 12.91it/s]\n"
     ]
    },
    {
     "data": {
      "text/html": [
       "<div>\n",
       "<style scoped>\n",
       "    .dataframe tbody tr th:only-of-type {\n",
       "        vertical-align: middle;\n",
       "    }\n",
       "\n",
       "    .dataframe tbody tr th {\n",
       "        vertical-align: top;\n",
       "    }\n",
       "\n",
       "    .dataframe thead th {\n",
       "        text-align: right;\n",
       "    }\n",
       "</style>\n",
       "<table border=\"1\" class=\"dataframe\">\n",
       "  <thead>\n",
       "    <tr style=\"text-align: right;\">\n",
       "      <th></th>\n",
       "      <th>text</th>\n",
       "      <th>toxic</th>\n",
       "    </tr>\n",
       "  </thead>\n",
       "  <tbody>\n",
       "    <tr>\n",
       "      <th>0</th>\n",
       "      <td>explanation why the edits make under my userna...</td>\n",
       "      <td>0</td>\n",
       "    </tr>\n",
       "    <tr>\n",
       "      <th>1</th>\n",
       "      <td>d aww he match this background colour i m seem...</td>\n",
       "      <td>0</td>\n",
       "    </tr>\n",
       "    <tr>\n",
       "      <th>2</th>\n",
       "      <td>hey man i m really not try to edit war it s ju...</td>\n",
       "      <td>0</td>\n",
       "    </tr>\n",
       "    <tr>\n",
       "      <th>3</th>\n",
       "      <td>more i can t make any real suggestion on impro...</td>\n",
       "      <td>0</td>\n",
       "    </tr>\n",
       "    <tr>\n",
       "      <th>4</th>\n",
       "      <td>you sir be my hero any chance you remember wha...</td>\n",
       "      <td>0</td>\n",
       "    </tr>\n",
       "    <tr>\n",
       "      <th>...</th>\n",
       "      <td>...</td>\n",
       "      <td>...</td>\n",
       "    </tr>\n",
       "    <tr>\n",
       "      <th>159446</th>\n",
       "      <td>and for the second time of ask when your view ...</td>\n",
       "      <td>0</td>\n",
       "    </tr>\n",
       "    <tr>\n",
       "      <th>159447</th>\n",
       "      <td>you should be ashamed of yourself that be a ho...</td>\n",
       "      <td>0</td>\n",
       "    </tr>\n",
       "    <tr>\n",
       "      <th>159448</th>\n",
       "      <td>spitzer umm there no actual article for prosti...</td>\n",
       "      <td>0</td>\n",
       "    </tr>\n",
       "    <tr>\n",
       "      <th>159449</th>\n",
       "      <td>and it look like it be actually you who put on...</td>\n",
       "      <td>0</td>\n",
       "    </tr>\n",
       "    <tr>\n",
       "      <th>159450</th>\n",
       "      <td>and i really don t think you understand i come...</td>\n",
       "      <td>0</td>\n",
       "    </tr>\n",
       "  </tbody>\n",
       "</table>\n",
       "<p>159292 rows × 2 columns</p>\n",
       "</div>"
      ],
      "text/plain": [
       "                                                     text  toxic\n",
       "0       explanation why the edits make under my userna...      0\n",
       "1       d aww he match this background colour i m seem...      0\n",
       "2       hey man i m really not try to edit war it s ju...      0\n",
       "3       more i can t make any real suggestion on impro...      0\n",
       "4       you sir be my hero any chance you remember wha...      0\n",
       "...                                                   ...    ...\n",
       "159446  and for the second time of ask when your view ...      0\n",
       "159447  you should be ashamed of yourself that be a ho...      0\n",
       "159448  spitzer umm there no actual article for prosti...      0\n",
       "159449  and it look like it be actually you who put on...      0\n",
       "159450  and i really don t think you understand i come...      0\n",
       "\n",
       "[159292 rows x 2 columns]"
      ]
     },
     "execution_count": 8,
     "metadata": {},
     "output_type": "execute_result"
    }
   ],
   "source": [
    "data['text'] = data['text'].progress_apply(lemmatize)\n",
    "data"
   ]
  },
  {
   "cell_type": "markdown",
   "metadata": {},
   "source": [
    "Сохраним лемматизированные данные."
   ]
  },
  {
   "cell_type": "code",
   "execution_count": 20,
   "metadata": {},
   "outputs": [],
   "source": [
    "#data.to_csv('lemm_test')"
   ]
  },
  {
   "cell_type": "markdown",
   "metadata": {},
   "source": [
    "Удалим пропуски."
   ]
  },
  {
   "cell_type": "code",
   "execution_count": 9,
   "metadata": {},
   "outputs": [],
   "source": [
    "data = data.dropna()"
   ]
  },
  {
   "cell_type": "markdown",
   "metadata": {},
   "source": [
    "Разобьем данные на обучающую и тестовую выборку."
   ]
  },
  {
   "cell_type": "code",
   "execution_count": 10,
   "metadata": {},
   "outputs": [],
   "source": [
    "train, test = train_test_split(data,  test_size=0.3, random_state = 12345, shuffle=True, stratify=data['toxic'])"
   ]
  },
  {
   "cell_type": "markdown",
   "metadata": {},
   "source": [
    "Разделим данные на целевой признак и остальные."
   ]
  },
  {
   "cell_type": "code",
   "execution_count": 11,
   "metadata": {},
   "outputs": [],
   "source": [
    "features_train = train.drop(['toxic'],axis=1)\n",
    "target_train = train['toxic']\n",
    "features_test = test.drop(['toxic'],axis=1)\n",
    "target_test = test['toxic']"
   ]
  },
  {
   "cell_type": "markdown",
   "metadata": {},
   "source": [
    "Проверим соотношение классов."
   ]
  },
  {
   "cell_type": "code",
   "execution_count": 12,
   "metadata": {},
   "outputs": [
    {
     "data": {
      "text/plain": [
       "8.841482789055604"
      ]
     },
     "execution_count": 12,
     "metadata": {},
     "output_type": "execute_result"
    }
   ],
   "source": [
    "train.loc[data['toxic'] == 0].shape[0]/train.loc[data['toxic'] == 1].shape[0]"
   ]
  },
  {
   "cell_type": "markdown",
   "metadata": {},
   "source": [
    "У признака \"toxic\" 0 почти в 9 раза больше, чем 1."
   ]
  },
  {
   "cell_type": "markdown",
   "metadata": {},
   "source": [
    "**Вывод:**\n",
    "\n",
    "1. Были изучены данные.\n",
    "2. Лемматизировано содержание столбца 'text' и очищено текст. \n",
    "3. Выявлен дисбаланс классов. У признака \"toxic\" значение 0 встречалось почти в 9 раза больше, чем 1."
   ]
  },
  {
   "cell_type": "markdown",
   "metadata": {},
   "source": [
    "## Обучение"
   ]
  },
  {
   "cell_type": "markdown",
   "metadata": {},
   "source": [
    "Построим модель с использованием алгоритма дерева решений."
   ]
  },
  {
   "cell_type": "code",
   "execution_count": 16,
   "metadata": {},
   "outputs": [
    {
     "name": "stderr",
     "output_type": "stream",
     "text": [
      "[nltk_data] Downloading package stopwords to\n",
      "[nltk_data]     C:\\Users\\Adelina\\AppData\\Roaming\\nltk_data...\n",
      "[nltk_data]   Unzipping corpora\\stopwords.zip.\n"
     ]
    }
   ],
   "source": [
    "features_train = features_train['text'].values\n",
    "features_test = features_test['text'].values\n",
    "\n",
    "#Установка стоп слов\n",
    "nltk.download('stopwords')\n",
    "stopwords = set(nltk_stopwords.words('english'))"
   ]
  },
  {
   "cell_type": "code",
   "execution_count": 17,
   "metadata": {},
   "outputs": [
    {
     "name": "stdout",
     "output_type": "stream",
     "text": [
      "Pipeline(steps=[('vectorazer',\n",
      "                 TfidfVectorizer(stop_words={'a', 'about', 'above', 'after',\n",
      "                                             'again', 'against', 'ain', 'all',\n",
      "                                             'am', 'an', 'and', 'any', 'are',\n",
      "                                             'aren', \"aren't\", 'as', 'at', 'be',\n",
      "                                             'because', 'been', 'before',\n",
      "                                             'being', 'below', 'between',\n",
      "                                             'both', 'but', 'by', 'can',\n",
      "                                             'couldn', \"couldn't\", ...})),\n",
      "                ('model',\n",
      "                 DecisionTreeClassifier(class_weight='balanced', max_depth=10,\n",
      "                                        random_state=12345))])\n",
      "0.5780868711517251\n"
     ]
    }
   ],
   "source": [
    "pipeline = Pipeline([\n",
    "    ('vectorazer', TfidfVectorizer(stop_words=stopwords)),\n",
    "\n",
    "    ('model', DecisionTreeClassifier(random_state=12345,class_weight=\"balanced\"))])\n",
    "\n",
    "params = {'model__max_depth':np.arange(1,11)}\n",
    "\n",
    "search_DecisionTreeClassifier = GridSearchCV(pipeline, cv=5, n_jobs=-1, param_grid=params ,scoring='f1')\n",
    "search_DecisionTreeClassifier.fit(features_train,target_train)\n",
    "print(search_DecisionTreeClassifier.best_estimator_)\n",
    "print(search_DecisionTreeClassifier.best_score_)"
   ]
  },
  {
   "cell_type": "markdown",
   "metadata": {},
   "source": [
    "Построим модель с использованием алгоритма случайного леса."
   ]
  },
  {
   "cell_type": "code",
   "execution_count": 21,
   "metadata": {},
   "outputs": [
    {
     "name": "stdout",
     "output_type": "stream",
     "text": [
      "Pipeline(steps=[('vectorazer',\n",
      "                 TfidfVectorizer(stop_words={'a', 'about', 'above', 'after',\n",
      "                                             'again', 'against', 'ain', 'all',\n",
      "                                             'am', 'an', 'and', 'any', 'are',\n",
      "                                             'aren', \"aren't\", 'as', 'at', 'be',\n",
      "                                             'because', 'been', 'before',\n",
      "                                             'being', 'below', 'between',\n",
      "                                             'both', 'but', 'by', 'can',\n",
      "                                             'couldn', \"couldn't\", ...})),\n",
      "                ('model',\n",
      "                 RandomForestClassifier(class_weight='balanced', max_depth=6,\n",
      "                                        n_estimators=30, random_state=12345))])\n",
      "0.3066626696941494\n"
     ]
    }
   ],
   "source": [
    "pipeline = Pipeline([\n",
    "    ('vectorazer', TfidfVectorizer(stop_words=stopwords)),\n",
    "    ('model', RandomForestClassifier(random_state=12345,class_weight=\"balanced\"))])\n",
    "\n",
    "params = {'model__max_depth':np.arange(1,7),\n",
    "         'model__n_estimators':np.arange(20, 40, 10)}\n",
    "\n",
    "search_RandomForestClassifier = GridSearchCV(pipeline, scoring='f1', param_grid = params, cv = 3)\n",
    "search_RandomForestClassifier.fit(features_train,target_train)\n",
    "print(search_RandomForestClassifier.best_estimator_)\n",
    "print(search_RandomForestClassifier.best_score_)"
   ]
  },
  {
   "cell_type": "markdown",
   "metadata": {},
   "source": [
    "Построим модель с использованием линейной регрессии."
   ]
  },
  {
   "cell_type": "code",
   "execution_count": 22,
   "metadata": {},
   "outputs": [
    {
     "name": "stderr",
     "output_type": "stream",
     "text": [
      "C:\\Users\\Adelina\\anaconda3\\lib\\site-packages\\sklearn\\linear_model\\_logistic.py:814: ConvergenceWarning: lbfgs failed to converge (status=1):\n",
      "STOP: TOTAL NO. of ITERATIONS REACHED LIMIT.\n",
      "\n",
      "Increase the number of iterations (max_iter) or scale the data as shown in:\n",
      "    https://scikit-learn.org/stable/modules/preprocessing.html\n",
      "Please also refer to the documentation for alternative solver options:\n",
      "    https://scikit-learn.org/stable/modules/linear_model.html#logistic-regression\n",
      "  n_iter_i = _check_optimize_result(\n",
      "C:\\Users\\Adelina\\anaconda3\\lib\\site-packages\\sklearn\\linear_model\\_logistic.py:814: ConvergenceWarning: lbfgs failed to converge (status=1):\n",
      "STOP: TOTAL NO. of ITERATIONS REACHED LIMIT.\n",
      "\n",
      "Increase the number of iterations (max_iter) or scale the data as shown in:\n",
      "    https://scikit-learn.org/stable/modules/preprocessing.html\n",
      "Please also refer to the documentation for alternative solver options:\n",
      "    https://scikit-learn.org/stable/modules/linear_model.html#logistic-regression\n",
      "  n_iter_i = _check_optimize_result(\n",
      "C:\\Users\\Adelina\\anaconda3\\lib\\site-packages\\sklearn\\linear_model\\_logistic.py:814: ConvergenceWarning: lbfgs failed to converge (status=1):\n",
      "STOP: TOTAL NO. of ITERATIONS REACHED LIMIT.\n",
      "\n",
      "Increase the number of iterations (max_iter) or scale the data as shown in:\n",
      "    https://scikit-learn.org/stable/modules/preprocessing.html\n",
      "Please also refer to the documentation for alternative solver options:\n",
      "    https://scikit-learn.org/stable/modules/linear_model.html#logistic-regression\n",
      "  n_iter_i = _check_optimize_result(\n",
      "C:\\Users\\Adelina\\anaconda3\\lib\\site-packages\\sklearn\\linear_model\\_logistic.py:814: ConvergenceWarning: lbfgs failed to converge (status=1):\n",
      "STOP: TOTAL NO. of ITERATIONS REACHED LIMIT.\n",
      "\n",
      "Increase the number of iterations (max_iter) or scale the data as shown in:\n",
      "    https://scikit-learn.org/stable/modules/preprocessing.html\n",
      "Please also refer to the documentation for alternative solver options:\n",
      "    https://scikit-learn.org/stable/modules/linear_model.html#logistic-regression\n",
      "  n_iter_i = _check_optimize_result(\n",
      "C:\\Users\\Adelina\\anaconda3\\lib\\site-packages\\sklearn\\linear_model\\_logistic.py:814: ConvergenceWarning: lbfgs failed to converge (status=1):\n",
      "STOP: TOTAL NO. of ITERATIONS REACHED LIMIT.\n",
      "\n",
      "Increase the number of iterations (max_iter) or scale the data as shown in:\n",
      "    https://scikit-learn.org/stable/modules/preprocessing.html\n",
      "Please also refer to the documentation for alternative solver options:\n",
      "    https://scikit-learn.org/stable/modules/linear_model.html#logistic-regression\n",
      "  n_iter_i = _check_optimize_result(\n",
      "C:\\Users\\Adelina\\anaconda3\\lib\\site-packages\\sklearn\\linear_model\\_logistic.py:814: ConvergenceWarning: lbfgs failed to converge (status=1):\n",
      "STOP: TOTAL NO. of ITERATIONS REACHED LIMIT.\n",
      "\n",
      "Increase the number of iterations (max_iter) or scale the data as shown in:\n",
      "    https://scikit-learn.org/stable/modules/preprocessing.html\n",
      "Please also refer to the documentation for alternative solver options:\n",
      "    https://scikit-learn.org/stable/modules/linear_model.html#logistic-regression\n",
      "  n_iter_i = _check_optimize_result(\n",
      "C:\\Users\\Adelina\\anaconda3\\lib\\site-packages\\sklearn\\linear_model\\_logistic.py:814: ConvergenceWarning: lbfgs failed to converge (status=1):\n",
      "STOP: TOTAL NO. of ITERATIONS REACHED LIMIT.\n",
      "\n",
      "Increase the number of iterations (max_iter) or scale the data as shown in:\n",
      "    https://scikit-learn.org/stable/modules/preprocessing.html\n",
      "Please also refer to the documentation for alternative solver options:\n",
      "    https://scikit-learn.org/stable/modules/linear_model.html#logistic-regression\n",
      "  n_iter_i = _check_optimize_result(\n",
      "C:\\Users\\Adelina\\anaconda3\\lib\\site-packages\\sklearn\\linear_model\\_logistic.py:814: ConvergenceWarning: lbfgs failed to converge (status=1):\n",
      "STOP: TOTAL NO. of ITERATIONS REACHED LIMIT.\n",
      "\n",
      "Increase the number of iterations (max_iter) or scale the data as shown in:\n",
      "    https://scikit-learn.org/stable/modules/preprocessing.html\n",
      "Please also refer to the documentation for alternative solver options:\n",
      "    https://scikit-learn.org/stable/modules/linear_model.html#logistic-regression\n",
      "  n_iter_i = _check_optimize_result(\n",
      "C:\\Users\\Adelina\\anaconda3\\lib\\site-packages\\sklearn\\linear_model\\_logistic.py:814: ConvergenceWarning: lbfgs failed to converge (status=1):\n",
      "STOP: TOTAL NO. of ITERATIONS REACHED LIMIT.\n",
      "\n",
      "Increase the number of iterations (max_iter) or scale the data as shown in:\n",
      "    https://scikit-learn.org/stable/modules/preprocessing.html\n",
      "Please also refer to the documentation for alternative solver options:\n",
      "    https://scikit-learn.org/stable/modules/linear_model.html#logistic-regression\n",
      "  n_iter_i = _check_optimize_result(\n",
      "C:\\Users\\Adelina\\anaconda3\\lib\\site-packages\\sklearn\\linear_model\\_logistic.py:814: ConvergenceWarning: lbfgs failed to converge (status=1):\n",
      "STOP: TOTAL NO. of ITERATIONS REACHED LIMIT.\n",
      "\n",
      "Increase the number of iterations (max_iter) or scale the data as shown in:\n",
      "    https://scikit-learn.org/stable/modules/preprocessing.html\n",
      "Please also refer to the documentation for alternative solver options:\n",
      "    https://scikit-learn.org/stable/modules/linear_model.html#logistic-regression\n",
      "  n_iter_i = _check_optimize_result(\n",
      "C:\\Users\\Adelina\\anaconda3\\lib\\site-packages\\sklearn\\linear_model\\_logistic.py:814: ConvergenceWarning: lbfgs failed to converge (status=1):\n",
      "STOP: TOTAL NO. of ITERATIONS REACHED LIMIT.\n",
      "\n",
      "Increase the number of iterations (max_iter) or scale the data as shown in:\n",
      "    https://scikit-learn.org/stable/modules/preprocessing.html\n",
      "Please also refer to the documentation for alternative solver options:\n",
      "    https://scikit-learn.org/stable/modules/linear_model.html#logistic-regression\n",
      "  n_iter_i = _check_optimize_result(\n",
      "C:\\Users\\Adelina\\anaconda3\\lib\\site-packages\\sklearn\\linear_model\\_logistic.py:814: ConvergenceWarning: lbfgs failed to converge (status=1):\n",
      "STOP: TOTAL NO. of ITERATIONS REACHED LIMIT.\n",
      "\n",
      "Increase the number of iterations (max_iter) or scale the data as shown in:\n",
      "    https://scikit-learn.org/stable/modules/preprocessing.html\n",
      "Please also refer to the documentation for alternative solver options:\n",
      "    https://scikit-learn.org/stable/modules/linear_model.html#logistic-regression\n",
      "  n_iter_i = _check_optimize_result(\n",
      "C:\\Users\\Adelina\\anaconda3\\lib\\site-packages\\sklearn\\linear_model\\_logistic.py:814: ConvergenceWarning: lbfgs failed to converge (status=1):\n",
      "STOP: TOTAL NO. of ITERATIONS REACHED LIMIT.\n",
      "\n",
      "Increase the number of iterations (max_iter) or scale the data as shown in:\n",
      "    https://scikit-learn.org/stable/modules/preprocessing.html\n",
      "Please also refer to the documentation for alternative solver options:\n",
      "    https://scikit-learn.org/stable/modules/linear_model.html#logistic-regression\n",
      "  n_iter_i = _check_optimize_result(\n",
      "C:\\Users\\Adelina\\anaconda3\\lib\\site-packages\\sklearn\\linear_model\\_logistic.py:814: ConvergenceWarning: lbfgs failed to converge (status=1):\n",
      "STOP: TOTAL NO. of ITERATIONS REACHED LIMIT.\n",
      "\n",
      "Increase the number of iterations (max_iter) or scale the data as shown in:\n",
      "    https://scikit-learn.org/stable/modules/preprocessing.html\n",
      "Please also refer to the documentation for alternative solver options:\n",
      "    https://scikit-learn.org/stable/modules/linear_model.html#logistic-regression\n",
      "  n_iter_i = _check_optimize_result(\n",
      "C:\\Users\\Adelina\\anaconda3\\lib\\site-packages\\sklearn\\linear_model\\_logistic.py:814: ConvergenceWarning: lbfgs failed to converge (status=1):\n",
      "STOP: TOTAL NO. of ITERATIONS REACHED LIMIT.\n",
      "\n",
      "Increase the number of iterations (max_iter) or scale the data as shown in:\n",
      "    https://scikit-learn.org/stable/modules/preprocessing.html\n",
      "Please also refer to the documentation for alternative solver options:\n",
      "    https://scikit-learn.org/stable/modules/linear_model.html#logistic-regression\n",
      "  n_iter_i = _check_optimize_result(\n",
      "C:\\Users\\Adelina\\anaconda3\\lib\\site-packages\\sklearn\\linear_model\\_logistic.py:814: ConvergenceWarning: lbfgs failed to converge (status=1):\n",
      "STOP: TOTAL NO. of ITERATIONS REACHED LIMIT.\n",
      "\n",
      "Increase the number of iterations (max_iter) or scale the data as shown in:\n",
      "    https://scikit-learn.org/stable/modules/preprocessing.html\n",
      "Please also refer to the documentation for alternative solver options:\n",
      "    https://scikit-learn.org/stable/modules/linear_model.html#logistic-regression\n",
      "  n_iter_i = _check_optimize_result(\n",
      "C:\\Users\\Adelina\\anaconda3\\lib\\site-packages\\sklearn\\linear_model\\_logistic.py:814: ConvergenceWarning: lbfgs failed to converge (status=1):\n",
      "STOP: TOTAL NO. of ITERATIONS REACHED LIMIT.\n",
      "\n",
      "Increase the number of iterations (max_iter) or scale the data as shown in:\n",
      "    https://scikit-learn.org/stable/modules/preprocessing.html\n",
      "Please also refer to the documentation for alternative solver options:\n",
      "    https://scikit-learn.org/stable/modules/linear_model.html#logistic-regression\n",
      "  n_iter_i = _check_optimize_result(\n",
      "C:\\Users\\Adelina\\anaconda3\\lib\\site-packages\\sklearn\\linear_model\\_logistic.py:814: ConvergenceWarning: lbfgs failed to converge (status=1):\n",
      "STOP: TOTAL NO. of ITERATIONS REACHED LIMIT.\n",
      "\n",
      "Increase the number of iterations (max_iter) or scale the data as shown in:\n",
      "    https://scikit-learn.org/stable/modules/preprocessing.html\n",
      "Please also refer to the documentation for alternative solver options:\n",
      "    https://scikit-learn.org/stable/modules/linear_model.html#logistic-regression\n",
      "  n_iter_i = _check_optimize_result(\n",
      "C:\\Users\\Adelina\\anaconda3\\lib\\site-packages\\sklearn\\linear_model\\_logistic.py:814: ConvergenceWarning: lbfgs failed to converge (status=1):\n",
      "STOP: TOTAL NO. of ITERATIONS REACHED LIMIT.\n",
      "\n",
      "Increase the number of iterations (max_iter) or scale the data as shown in:\n",
      "    https://scikit-learn.org/stable/modules/preprocessing.html\n",
      "Please also refer to the documentation for alternative solver options:\n",
      "    https://scikit-learn.org/stable/modules/linear_model.html#logistic-regression\n",
      "  n_iter_i = _check_optimize_result(\n",
      "C:\\Users\\Adelina\\anaconda3\\lib\\site-packages\\sklearn\\linear_model\\_logistic.py:814: ConvergenceWarning: lbfgs failed to converge (status=1):\n",
      "STOP: TOTAL NO. of ITERATIONS REACHED LIMIT.\n",
      "\n",
      "Increase the number of iterations (max_iter) or scale the data as shown in:\n",
      "    https://scikit-learn.org/stable/modules/preprocessing.html\n",
      "Please also refer to the documentation for alternative solver options:\n",
      "    https://scikit-learn.org/stable/modules/linear_model.html#logistic-regression\n",
      "  n_iter_i = _check_optimize_result(\n",
      "C:\\Users\\Adelina\\anaconda3\\lib\\site-packages\\sklearn\\linear_model\\_logistic.py:814: ConvergenceWarning: lbfgs failed to converge (status=1):\n",
      "STOP: TOTAL NO. of ITERATIONS REACHED LIMIT.\n",
      "\n",
      "Increase the number of iterations (max_iter) or scale the data as shown in:\n",
      "    https://scikit-learn.org/stable/modules/preprocessing.html\n",
      "Please also refer to the documentation for alternative solver options:\n",
      "    https://scikit-learn.org/stable/modules/linear_model.html#logistic-regression\n",
      "  n_iter_i = _check_optimize_result(\n",
      "C:\\Users\\Adelina\\anaconda3\\lib\\site-packages\\sklearn\\linear_model\\_logistic.py:814: ConvergenceWarning: lbfgs failed to converge (status=1):\n",
      "STOP: TOTAL NO. of ITERATIONS REACHED LIMIT.\n",
      "\n",
      "Increase the number of iterations (max_iter) or scale the data as shown in:\n",
      "    https://scikit-learn.org/stable/modules/preprocessing.html\n",
      "Please also refer to the documentation for alternative solver options:\n",
      "    https://scikit-learn.org/stable/modules/linear_model.html#logistic-regression\n",
      "  n_iter_i = _check_optimize_result(\n",
      "C:\\Users\\Adelina\\anaconda3\\lib\\site-packages\\sklearn\\linear_model\\_logistic.py:814: ConvergenceWarning: lbfgs failed to converge (status=1):\n",
      "STOP: TOTAL NO. of ITERATIONS REACHED LIMIT.\n",
      "\n",
      "Increase the number of iterations (max_iter) or scale the data as shown in:\n",
      "    https://scikit-learn.org/stable/modules/preprocessing.html\n",
      "Please also refer to the documentation for alternative solver options:\n",
      "    https://scikit-learn.org/stable/modules/linear_model.html#logistic-regression\n",
      "  n_iter_i = _check_optimize_result(\n",
      "C:\\Users\\Adelina\\anaconda3\\lib\\site-packages\\sklearn\\linear_model\\_logistic.py:814: ConvergenceWarning: lbfgs failed to converge (status=1):\n",
      "STOP: TOTAL NO. of ITERATIONS REACHED LIMIT.\n",
      "\n",
      "Increase the number of iterations (max_iter) or scale the data as shown in:\n",
      "    https://scikit-learn.org/stable/modules/preprocessing.html\n",
      "Please also refer to the documentation for alternative solver options:\n",
      "    https://scikit-learn.org/stable/modules/linear_model.html#logistic-regression\n",
      "  n_iter_i = _check_optimize_result(\n",
      "C:\\Users\\Adelina\\anaconda3\\lib\\site-packages\\sklearn\\linear_model\\_logistic.py:814: ConvergenceWarning: lbfgs failed to converge (status=1):\n",
      "STOP: TOTAL NO. of ITERATIONS REACHED LIMIT.\n",
      "\n",
      "Increase the number of iterations (max_iter) or scale the data as shown in:\n",
      "    https://scikit-learn.org/stable/modules/preprocessing.html\n",
      "Please also refer to the documentation for alternative solver options:\n",
      "    https://scikit-learn.org/stable/modules/linear_model.html#logistic-regression\n",
      "  n_iter_i = _check_optimize_result(\n",
      "C:\\Users\\Adelina\\anaconda3\\lib\\site-packages\\sklearn\\linear_model\\_logistic.py:814: ConvergenceWarning: lbfgs failed to converge (status=1):\n",
      "STOP: TOTAL NO. of ITERATIONS REACHED LIMIT.\n",
      "\n",
      "Increase the number of iterations (max_iter) or scale the data as shown in:\n",
      "    https://scikit-learn.org/stable/modules/preprocessing.html\n",
      "Please also refer to the documentation for alternative solver options:\n",
      "    https://scikit-learn.org/stable/modules/linear_model.html#logistic-regression\n",
      "  n_iter_i = _check_optimize_result(\n",
      "C:\\Users\\Adelina\\anaconda3\\lib\\site-packages\\sklearn\\linear_model\\_logistic.py:814: ConvergenceWarning: lbfgs failed to converge (status=1):\n",
      "STOP: TOTAL NO. of ITERATIONS REACHED LIMIT.\n",
      "\n",
      "Increase the number of iterations (max_iter) or scale the data as shown in:\n",
      "    https://scikit-learn.org/stable/modules/preprocessing.html\n",
      "Please also refer to the documentation for alternative solver options:\n",
      "    https://scikit-learn.org/stable/modules/linear_model.html#logistic-regression\n",
      "  n_iter_i = _check_optimize_result(\n",
      "C:\\Users\\Adelina\\anaconda3\\lib\\site-packages\\sklearn\\linear_model\\_logistic.py:814: ConvergenceWarning: lbfgs failed to converge (status=1):\n",
      "STOP: TOTAL NO. of ITERATIONS REACHED LIMIT.\n",
      "\n",
      "Increase the number of iterations (max_iter) or scale the data as shown in:\n",
      "    https://scikit-learn.org/stable/modules/preprocessing.html\n",
      "Please also refer to the documentation for alternative solver options:\n",
      "    https://scikit-learn.org/stable/modules/linear_model.html#logistic-regression\n",
      "  n_iter_i = _check_optimize_result(\n",
      "C:\\Users\\Adelina\\anaconda3\\lib\\site-packages\\sklearn\\linear_model\\_logistic.py:814: ConvergenceWarning: lbfgs failed to converge (status=1):\n",
      "STOP: TOTAL NO. of ITERATIONS REACHED LIMIT.\n",
      "\n",
      "Increase the number of iterations (max_iter) or scale the data as shown in:\n",
      "    https://scikit-learn.org/stable/modules/preprocessing.html\n",
      "Please also refer to the documentation for alternative solver options:\n",
      "    https://scikit-learn.org/stable/modules/linear_model.html#logistic-regression\n",
      "  n_iter_i = _check_optimize_result(\n",
      "C:\\Users\\Adelina\\anaconda3\\lib\\site-packages\\sklearn\\linear_model\\_logistic.py:814: ConvergenceWarning: lbfgs failed to converge (status=1):\n",
      "STOP: TOTAL NO. of ITERATIONS REACHED LIMIT.\n",
      "\n",
      "Increase the number of iterations (max_iter) or scale the data as shown in:\n",
      "    https://scikit-learn.org/stable/modules/preprocessing.html\n",
      "Please also refer to the documentation for alternative solver options:\n",
      "    https://scikit-learn.org/stable/modules/linear_model.html#logistic-regression\n",
      "  n_iter_i = _check_optimize_result(\n",
      "C:\\Users\\Adelina\\anaconda3\\lib\\site-packages\\sklearn\\linear_model\\_logistic.py:814: ConvergenceWarning: lbfgs failed to converge (status=1):\n",
      "STOP: TOTAL NO. of ITERATIONS REACHED LIMIT.\n",
      "\n",
      "Increase the number of iterations (max_iter) or scale the data as shown in:\n",
      "    https://scikit-learn.org/stable/modules/preprocessing.html\n",
      "Please also refer to the documentation for alternative solver options:\n",
      "    https://scikit-learn.org/stable/modules/linear_model.html#logistic-regression\n",
      "  n_iter_i = _check_optimize_result(\n",
      "C:\\Users\\Adelina\\anaconda3\\lib\\site-packages\\sklearn\\linear_model\\_logistic.py:814: ConvergenceWarning: lbfgs failed to converge (status=1):\n",
      "STOP: TOTAL NO. of ITERATIONS REACHED LIMIT.\n",
      "\n",
      "Increase the number of iterations (max_iter) or scale the data as shown in:\n",
      "    https://scikit-learn.org/stable/modules/preprocessing.html\n",
      "Please also refer to the documentation for alternative solver options:\n",
      "    https://scikit-learn.org/stable/modules/linear_model.html#logistic-regression\n",
      "  n_iter_i = _check_optimize_result(\n",
      "C:\\Users\\Adelina\\anaconda3\\lib\\site-packages\\sklearn\\linear_model\\_logistic.py:814: ConvergenceWarning: lbfgs failed to converge (status=1):\n",
      "STOP: TOTAL NO. of ITERATIONS REACHED LIMIT.\n",
      "\n",
      "Increase the number of iterations (max_iter) or scale the data as shown in:\n",
      "    https://scikit-learn.org/stable/modules/preprocessing.html\n",
      "Please also refer to the documentation for alternative solver options:\n",
      "    https://scikit-learn.org/stable/modules/linear_model.html#logistic-regression\n",
      "  n_iter_i = _check_optimize_result(\n",
      "C:\\Users\\Adelina\\anaconda3\\lib\\site-packages\\sklearn\\linear_model\\_logistic.py:814: ConvergenceWarning: lbfgs failed to converge (status=1):\n",
      "STOP: TOTAL NO. of ITERATIONS REACHED LIMIT.\n",
      "\n",
      "Increase the number of iterations (max_iter) or scale the data as shown in:\n",
      "    https://scikit-learn.org/stable/modules/preprocessing.html\n",
      "Please also refer to the documentation for alternative solver options:\n",
      "    https://scikit-learn.org/stable/modules/linear_model.html#logistic-regression\n",
      "  n_iter_i = _check_optimize_result(\n",
      "C:\\Users\\Adelina\\anaconda3\\lib\\site-packages\\sklearn\\linear_model\\_logistic.py:814: ConvergenceWarning: lbfgs failed to converge (status=1):\n",
      "STOP: TOTAL NO. of ITERATIONS REACHED LIMIT.\n",
      "\n",
      "Increase the number of iterations (max_iter) or scale the data as shown in:\n",
      "    https://scikit-learn.org/stable/modules/preprocessing.html\n",
      "Please also refer to the documentation for alternative solver options:\n",
      "    https://scikit-learn.org/stable/modules/linear_model.html#logistic-regression\n",
      "  n_iter_i = _check_optimize_result(\n",
      "C:\\Users\\Adelina\\anaconda3\\lib\\site-packages\\sklearn\\linear_model\\_logistic.py:814: ConvergenceWarning: lbfgs failed to converge (status=1):\n",
      "STOP: TOTAL NO. of ITERATIONS REACHED LIMIT.\n",
      "\n",
      "Increase the number of iterations (max_iter) or scale the data as shown in:\n",
      "    https://scikit-learn.org/stable/modules/preprocessing.html\n",
      "Please also refer to the documentation for alternative solver options:\n",
      "    https://scikit-learn.org/stable/modules/linear_model.html#logistic-regression\n",
      "  n_iter_i = _check_optimize_result(\n",
      "C:\\Users\\Adelina\\anaconda3\\lib\\site-packages\\sklearn\\linear_model\\_logistic.py:814: ConvergenceWarning: lbfgs failed to converge (status=1):\n",
      "STOP: TOTAL NO. of ITERATIONS REACHED LIMIT.\n",
      "\n",
      "Increase the number of iterations (max_iter) or scale the data as shown in:\n",
      "    https://scikit-learn.org/stable/modules/preprocessing.html\n",
      "Please also refer to the documentation for alternative solver options:\n",
      "    https://scikit-learn.org/stable/modules/linear_model.html#logistic-regression\n",
      "  n_iter_i = _check_optimize_result(\n",
      "C:\\Users\\Adelina\\anaconda3\\lib\\site-packages\\sklearn\\linear_model\\_logistic.py:814: ConvergenceWarning: lbfgs failed to converge (status=1):\n",
      "STOP: TOTAL NO. of ITERATIONS REACHED LIMIT.\n",
      "\n",
      "Increase the number of iterations (max_iter) or scale the data as shown in:\n",
      "    https://scikit-learn.org/stable/modules/preprocessing.html\n",
      "Please also refer to the documentation for alternative solver options:\n",
      "    https://scikit-learn.org/stable/modules/linear_model.html#logistic-regression\n",
      "  n_iter_i = _check_optimize_result(\n",
      "C:\\Users\\Adelina\\anaconda3\\lib\\site-packages\\sklearn\\linear_model\\_logistic.py:814: ConvergenceWarning: lbfgs failed to converge (status=1):\n",
      "STOP: TOTAL NO. of ITERATIONS REACHED LIMIT.\n",
      "\n",
      "Increase the number of iterations (max_iter) or scale the data as shown in:\n",
      "    https://scikit-learn.org/stable/modules/preprocessing.html\n",
      "Please also refer to the documentation for alternative solver options:\n",
      "    https://scikit-learn.org/stable/modules/linear_model.html#logistic-regression\n",
      "  n_iter_i = _check_optimize_result(\n",
      "C:\\Users\\Adelina\\anaconda3\\lib\\site-packages\\sklearn\\linear_model\\_logistic.py:814: ConvergenceWarning: lbfgs failed to converge (status=1):\n",
      "STOP: TOTAL NO. of ITERATIONS REACHED LIMIT.\n",
      "\n",
      "Increase the number of iterations (max_iter) or scale the data as shown in:\n",
      "    https://scikit-learn.org/stable/modules/preprocessing.html\n",
      "Please also refer to the documentation for alternative solver options:\n",
      "    https://scikit-learn.org/stable/modules/linear_model.html#logistic-regression\n",
      "  n_iter_i = _check_optimize_result(\n",
      "C:\\Users\\Adelina\\anaconda3\\lib\\site-packages\\sklearn\\linear_model\\_logistic.py:814: ConvergenceWarning: lbfgs failed to converge (status=1):\n",
      "STOP: TOTAL NO. of ITERATIONS REACHED LIMIT.\n",
      "\n",
      "Increase the number of iterations (max_iter) or scale the data as shown in:\n",
      "    https://scikit-learn.org/stable/modules/preprocessing.html\n",
      "Please also refer to the documentation for alternative solver options:\n",
      "    https://scikit-learn.org/stable/modules/linear_model.html#logistic-regression\n",
      "  n_iter_i = _check_optimize_result(\n",
      "C:\\Users\\Adelina\\anaconda3\\lib\\site-packages\\sklearn\\linear_model\\_logistic.py:814: ConvergenceWarning: lbfgs failed to converge (status=1):\n",
      "STOP: TOTAL NO. of ITERATIONS REACHED LIMIT.\n",
      "\n",
      "Increase the number of iterations (max_iter) or scale the data as shown in:\n",
      "    https://scikit-learn.org/stable/modules/preprocessing.html\n",
      "Please also refer to the documentation for alternative solver options:\n",
      "    https://scikit-learn.org/stable/modules/linear_model.html#logistic-regression\n",
      "  n_iter_i = _check_optimize_result(\n",
      "C:\\Users\\Adelina\\anaconda3\\lib\\site-packages\\sklearn\\linear_model\\_logistic.py:814: ConvergenceWarning: lbfgs failed to converge (status=1):\n",
      "STOP: TOTAL NO. of ITERATIONS REACHED LIMIT.\n",
      "\n",
      "Increase the number of iterations (max_iter) or scale the data as shown in:\n",
      "    https://scikit-learn.org/stable/modules/preprocessing.html\n",
      "Please also refer to the documentation for alternative solver options:\n",
      "    https://scikit-learn.org/stable/modules/linear_model.html#logistic-regression\n",
      "  n_iter_i = _check_optimize_result(\n",
      "C:\\Users\\Adelina\\anaconda3\\lib\\site-packages\\sklearn\\linear_model\\_logistic.py:814: ConvergenceWarning: lbfgs failed to converge (status=1):\n",
      "STOP: TOTAL NO. of ITERATIONS REACHED LIMIT.\n",
      "\n",
      "Increase the number of iterations (max_iter) or scale the data as shown in:\n",
      "    https://scikit-learn.org/stable/modules/preprocessing.html\n",
      "Please also refer to the documentation for alternative solver options:\n",
      "    https://scikit-learn.org/stable/modules/linear_model.html#logistic-regression\n",
      "  n_iter_i = _check_optimize_result(\n",
      "C:\\Users\\Adelina\\anaconda3\\lib\\site-packages\\sklearn\\linear_model\\_logistic.py:814: ConvergenceWarning: lbfgs failed to converge (status=1):\n",
      "STOP: TOTAL NO. of ITERATIONS REACHED LIMIT.\n",
      "\n",
      "Increase the number of iterations (max_iter) or scale the data as shown in:\n",
      "    https://scikit-learn.org/stable/modules/preprocessing.html\n",
      "Please also refer to the documentation for alternative solver options:\n",
      "    https://scikit-learn.org/stable/modules/linear_model.html#logistic-regression\n",
      "  n_iter_i = _check_optimize_result(\n",
      "C:\\Users\\Adelina\\anaconda3\\lib\\site-packages\\sklearn\\linear_model\\_logistic.py:814: ConvergenceWarning: lbfgs failed to converge (status=1):\n",
      "STOP: TOTAL NO. of ITERATIONS REACHED LIMIT.\n",
      "\n",
      "Increase the number of iterations (max_iter) or scale the data as shown in:\n",
      "    https://scikit-learn.org/stable/modules/preprocessing.html\n",
      "Please also refer to the documentation for alternative solver options:\n",
      "    https://scikit-learn.org/stable/modules/linear_model.html#logistic-regression\n",
      "  n_iter_i = _check_optimize_result(\n",
      "C:\\Users\\Adelina\\anaconda3\\lib\\site-packages\\sklearn\\linear_model\\_logistic.py:814: ConvergenceWarning: lbfgs failed to converge (status=1):\n",
      "STOP: TOTAL NO. of ITERATIONS REACHED LIMIT.\n",
      "\n",
      "Increase the number of iterations (max_iter) or scale the data as shown in:\n",
      "    https://scikit-learn.org/stable/modules/preprocessing.html\n",
      "Please also refer to the documentation for alternative solver options:\n",
      "    https://scikit-learn.org/stable/modules/linear_model.html#logistic-regression\n",
      "  n_iter_i = _check_optimize_result(\n",
      "C:\\Users\\Adelina\\anaconda3\\lib\\site-packages\\sklearn\\linear_model\\_logistic.py:814: ConvergenceWarning: lbfgs failed to converge (status=1):\n",
      "STOP: TOTAL NO. of ITERATIONS REACHED LIMIT.\n",
      "\n",
      "Increase the number of iterations (max_iter) or scale the data as shown in:\n",
      "    https://scikit-learn.org/stable/modules/preprocessing.html\n",
      "Please also refer to the documentation for alternative solver options:\n",
      "    https://scikit-learn.org/stable/modules/linear_model.html#logistic-regression\n",
      "  n_iter_i = _check_optimize_result(\n",
      "C:\\Users\\Adelina\\anaconda3\\lib\\site-packages\\sklearn\\linear_model\\_logistic.py:814: ConvergenceWarning: lbfgs failed to converge (status=1):\n",
      "STOP: TOTAL NO. of ITERATIONS REACHED LIMIT.\n",
      "\n",
      "Increase the number of iterations (max_iter) or scale the data as shown in:\n",
      "    https://scikit-learn.org/stable/modules/preprocessing.html\n",
      "Please also refer to the documentation for alternative solver options:\n",
      "    https://scikit-learn.org/stable/modules/linear_model.html#logistic-regression\n",
      "  n_iter_i = _check_optimize_result(\n",
      "C:\\Users\\Adelina\\anaconda3\\lib\\site-packages\\sklearn\\linear_model\\_logistic.py:814: ConvergenceWarning: lbfgs failed to converge (status=1):\n",
      "STOP: TOTAL NO. of ITERATIONS REACHED LIMIT.\n",
      "\n",
      "Increase the number of iterations (max_iter) or scale the data as shown in:\n",
      "    https://scikit-learn.org/stable/modules/preprocessing.html\n",
      "Please also refer to the documentation for alternative solver options:\n",
      "    https://scikit-learn.org/stable/modules/linear_model.html#logistic-regression\n",
      "  n_iter_i = _check_optimize_result(\n",
      "C:\\Users\\Adelina\\anaconda3\\lib\\site-packages\\sklearn\\linear_model\\_logistic.py:814: ConvergenceWarning: lbfgs failed to converge (status=1):\n",
      "STOP: TOTAL NO. of ITERATIONS REACHED LIMIT.\n",
      "\n",
      "Increase the number of iterations (max_iter) or scale the data as shown in:\n",
      "    https://scikit-learn.org/stable/modules/preprocessing.html\n",
      "Please also refer to the documentation for alternative solver options:\n",
      "    https://scikit-learn.org/stable/modules/linear_model.html#logistic-regression\n",
      "  n_iter_i = _check_optimize_result(\n",
      "C:\\Users\\Adelina\\anaconda3\\lib\\site-packages\\sklearn\\linear_model\\_logistic.py:814: ConvergenceWarning: lbfgs failed to converge (status=1):\n",
      "STOP: TOTAL NO. of ITERATIONS REACHED LIMIT.\n",
      "\n",
      "Increase the number of iterations (max_iter) or scale the data as shown in:\n",
      "    https://scikit-learn.org/stable/modules/preprocessing.html\n",
      "Please also refer to the documentation for alternative solver options:\n",
      "    https://scikit-learn.org/stable/modules/linear_model.html#logistic-regression\n",
      "  n_iter_i = _check_optimize_result(\n",
      "C:\\Users\\Adelina\\anaconda3\\lib\\site-packages\\sklearn\\linear_model\\_logistic.py:814: ConvergenceWarning: lbfgs failed to converge (status=1):\n",
      "STOP: TOTAL NO. of ITERATIONS REACHED LIMIT.\n",
      "\n",
      "Increase the number of iterations (max_iter) or scale the data as shown in:\n",
      "    https://scikit-learn.org/stable/modules/preprocessing.html\n",
      "Please also refer to the documentation for alternative solver options:\n",
      "    https://scikit-learn.org/stable/modules/linear_model.html#logistic-regression\n",
      "  n_iter_i = _check_optimize_result(\n",
      "C:\\Users\\Adelina\\anaconda3\\lib\\site-packages\\sklearn\\linear_model\\_logistic.py:814: ConvergenceWarning: lbfgs failed to converge (status=1):\n",
      "STOP: TOTAL NO. of ITERATIONS REACHED LIMIT.\n",
      "\n",
      "Increase the number of iterations (max_iter) or scale the data as shown in:\n",
      "    https://scikit-learn.org/stable/modules/preprocessing.html\n",
      "Please also refer to the documentation for alternative solver options:\n",
      "    https://scikit-learn.org/stable/modules/linear_model.html#logistic-regression\n",
      "  n_iter_i = _check_optimize_result(\n"
     ]
    },
    {
     "name": "stdout",
     "output_type": "stream",
     "text": [
      "Pipeline(steps=[('vectorazer',\n",
      "                 TfidfVectorizer(stop_words={'a', 'about', 'above', 'after',\n",
      "                                             'again', 'against', 'ain', 'all',\n",
      "                                             'am', 'an', 'and', 'any', 'are',\n",
      "                                             'aren', \"aren't\", 'as', 'at', 'be',\n",
      "                                             'because', 'been', 'before',\n",
      "                                             'being', 'below', 'between',\n",
      "                                             'both', 'but', 'by', 'can',\n",
      "                                             'couldn', \"couldn't\", ...})),\n",
      "                ('model',\n",
      "                 LogisticRegression(C=13, class_weight='balanced',\n",
      "                                    random_state=12345))])\n",
      "0.7569001852502146\n"
     ]
    },
    {
     "name": "stderr",
     "output_type": "stream",
     "text": [
      "C:\\Users\\Adelina\\anaconda3\\lib\\site-packages\\sklearn\\linear_model\\_logistic.py:814: ConvergenceWarning: lbfgs failed to converge (status=1):\n",
      "STOP: TOTAL NO. of ITERATIONS REACHED LIMIT.\n",
      "\n",
      "Increase the number of iterations (max_iter) or scale the data as shown in:\n",
      "    https://scikit-learn.org/stable/modules/preprocessing.html\n",
      "Please also refer to the documentation for alternative solver options:\n",
      "    https://scikit-learn.org/stable/modules/linear_model.html#logistic-regression\n",
      "  n_iter_i = _check_optimize_result(\n"
     ]
    }
   ],
   "source": [
    "pipeline = Pipeline([\n",
    "    ('vectorazer', TfidfVectorizer(stop_words=stopwords)),\n",
    "    ('model', LogisticRegression(random_state=12345,class_weight=\"balanced\"))])\n",
    "\n",
    "params = {'model__C':np.arange(1,20)}\n",
    "\n",
    "search_LogisticRegression = GridSearchCV(pipeline, scoring='f1', param_grid = params, cv = 3)\n",
    "search_LogisticRegression.fit(features_train,target_train)\n",
    "print(search_LogisticRegression.best_estimator_)\n",
    "print(search_LogisticRegression.best_score_)"
   ]
  },
  {
   "cell_type": "code",
   "execution_count": 23,
   "metadata": {},
   "outputs": [
    {
     "name": "stdout",
     "output_type": "stream",
     "text": [
      "Pipeline(steps=[('vectorazer',\n",
      "                 TfidfVectorizer(stop_words={'a', 'about', 'above', 'after',\n",
      "                                             'again', 'against', 'ain', 'all',\n",
      "                                             'am', 'an', 'and', 'any', 'are',\n",
      "                                             'aren', \"aren't\", 'as', 'at', 'be',\n",
      "                                             'because', 'been', 'before',\n",
      "                                             'being', 'below', 'between',\n",
      "                                             'both', 'but', 'by', 'can',\n",
      "                                             'couldn', \"couldn't\", ...})),\n",
      "                ('model',\n",
      "                 LGBMClassifier(class_weight='balanced', max_depth=6,\n",
      "                                n_estimators=30, random_state=12345))])\n",
      "0.6696892387657316\n"
     ]
    }
   ],
   "source": [
    "pipeline = Pipeline([\n",
    "    ('vectorazer', TfidfVectorizer(stop_words=stopwords)),\n",
    "    ('model', LGBMClassifier(random_state=12345,class_weight=\"balanced\"))])\n",
    "\n",
    "params = {'model__max_depth':np.arange(1,7),\n",
    "         'model__n_estimators':np.arange(20, 40, 10)}\n",
    "\n",
    "search_LGBMClassifier = GridSearchCV(pipeline, scoring='f1', param_grid = params, cv = 3)\n",
    "search_LGBMClassifier.fit(features_train,target_train)\n",
    "print(search_LGBMClassifier.best_estimator_)\n",
    "print(search_LGBMClassifier.best_score_)"
   ]
  },
  {
   "cell_type": "markdown",
   "metadata": {},
   "source": [
    "Наилучший результат показала модель LogisticRegression(C=13, class_weight='balanced',\n",
    "                                    random_state=12345)."
   ]
  },
  {
   "cell_type": "markdown",
   "metadata": {},
   "source": [
    "**Вывод:**\n",
    "\n",
    "Были проанализированы модели с использованием алгоритма дерева решений, с использованием алгоритма случайного леса и линейной регрессии в связке GridSearchCV + pipeline. Наилучший результат f1 показала модель LogisticRegression(C=13, class_weight='balanced', random_state=12345)."
   ]
  },
  {
   "cell_type": "markdown",
   "metadata": {},
   "source": [
    "## Тестирование"
   ]
  },
  {
   "cell_type": "markdown",
   "metadata": {},
   "source": [
    "Протестируем модель на тестовых данных."
   ]
  },
  {
   "cell_type": "code",
   "execution_count": 24,
   "metadata": {},
   "outputs": [],
   "source": [
    "count_tf_idf = TfidfVectorizer(stop_words=stopwords) \n",
    "features_train = count_tf_idf.fit_transform(features_train) \n",
    "features_test = count_tf_idf.transform(features_test) "
   ]
  },
  {
   "cell_type": "code",
   "execution_count": 26,
   "metadata": {},
   "outputs": [
    {
     "name": "stderr",
     "output_type": "stream",
     "text": [
      "C:\\Users\\Adelina\\anaconda3\\lib\\site-packages\\sklearn\\linear_model\\_logistic.py:814: ConvergenceWarning: lbfgs failed to converge (status=1):\n",
      "STOP: TOTAL NO. of ITERATIONS REACHED LIMIT.\n",
      "\n",
      "Increase the number of iterations (max_iter) or scale the data as shown in:\n",
      "    https://scikit-learn.org/stable/modules/preprocessing.html\n",
      "Please also refer to the documentation for alternative solver options:\n",
      "    https://scikit-learn.org/stable/modules/linear_model.html#logistic-regression\n",
      "  n_iter_i = _check_optimize_result(\n"
     ]
    },
    {
     "data": {
      "text/plain": [
       "0.7594936708860758"
      ]
     },
     "execution_count": 26,
     "metadata": {},
     "output_type": "execute_result"
    }
   ],
   "source": [
    "model = LogisticRegression(C=13, class_weight='balanced',\n",
    "                                    random_state=12345)\n",
    "model.fit(features_train,target_train)\n",
    "prediction = model.predict(features_test)\n",
    "f1_score(target_test,prediction)"
   ]
  },
  {
   "cell_type": "markdown",
   "metadata": {},
   "source": [
    "**Вывод:**\n",
    "Модель LogisticRegression(C=13, class_weight='balanced', random_state=12345 показала на тестовых данных результат f1 = 0.76."
   ]
  },
  {
   "cell_type": "markdown",
   "metadata": {},
   "source": [
    "## Выводы"
   ]
  },
  {
   "cell_type": "markdown",
   "metadata": {},
   "source": [
    "1. Подготовка\n",
    "\n",
    "    1.1. Были изучены данные.\n",
    "    \n",
    "    1.2. Лемматизировано содержание столбца 'text' и очищено текст. \n",
    "    \n",
    "    1.3. Выявлен дисбаланс классов. У признака \"toxic\" значение 0 встречалось почти в 9 раза больше, чем 1.\n",
    "    \n",
    "    \n",
    "2. Были проанализированы модели с использованием алгоритма дерева решений, с использованием алгоритма случайного леса и линейной регрессии в связке GridSearchCV + pipeline. Наилучший результат f1 показала модель LogisticRegression(C=13, class_weight='balanced', random_state=12345).\n",
    "\n",
    "\n",
    "3. Модель LogisticRegression(C=13, class_weight='balanced', random_state=12345 показала на тестовых данных результат f1 = 0.76."
   ]
  }
 ],
 "metadata": {
  "ExecuteTimeLog": [
   {
    "duration": 1388,
    "start_time": "2023-03-07T10:43:43.095Z"
   },
   {
    "duration": 3,
    "start_time": "2023-03-07T11:40:15.449Z"
   },
   {
    "duration": 6,
    "start_time": "2023-03-07T11:41:41.112Z"
   },
   {
    "duration": 4,
    "start_time": "2023-03-07T11:42:43.941Z"
   },
   {
    "duration": 3743,
    "start_time": "2023-03-07T11:42:44.366Z"
   },
   {
    "duration": 15,
    "start_time": "2023-03-07T11:42:48.111Z"
   },
   {
    "duration": 44,
    "start_time": "2023-03-07T11:42:48.128Z"
   },
   {
    "duration": 29,
    "start_time": "2023-03-07T11:42:48.174Z"
   },
   {
    "duration": 18,
    "start_time": "2023-03-07T11:43:56.446Z"
   },
   {
    "duration": 1404,
    "start_time": "2023-03-07T11:45:29.454Z"
   },
   {
    "duration": 1026,
    "start_time": "2023-03-07T11:45:30.861Z"
   },
   {
    "duration": 17,
    "start_time": "2023-03-07T11:45:31.889Z"
   },
   {
    "duration": 67,
    "start_time": "2023-03-07T11:45:31.908Z"
   },
   {
    "duration": 53,
    "start_time": "2023-03-07T11:45:31.978Z"
   },
   {
    "duration": 83,
    "start_time": "2023-03-07T11:45:32.033Z"
   },
   {
    "duration": 47,
    "start_time": "2023-03-07T11:45:32.117Z"
   },
   {
    "duration": 651,
    "start_time": "2023-03-07T11:45:32.166Z"
   },
   {
    "duration": 0,
    "start_time": "2023-03-07T11:45:32.820Z"
   },
   {
    "duration": 11,
    "start_time": "2023-03-07T12:16:49.571Z"
   },
   {
    "duration": 3,
    "start_time": "2023-03-07T12:47:06.217Z"
   },
   {
    "duration": 4,
    "start_time": "2023-03-07T12:47:16.810Z"
   },
   {
    "duration": 803,
    "start_time": "2023-03-07T12:47:17.421Z"
   },
   {
    "duration": 8,
    "start_time": "2023-03-07T12:47:18.840Z"
   },
   {
    "duration": 36,
    "start_time": "2023-03-07T12:47:20.511Z"
   },
   {
    "duration": 36,
    "start_time": "2023-03-07T12:47:24.874Z"
   },
   {
    "duration": 50,
    "start_time": "2023-03-07T12:47:29.931Z"
   },
   {
    "duration": 3,
    "start_time": "2023-03-07T12:47:52.588Z"
   },
   {
    "duration": 5,
    "start_time": "2023-03-07T12:48:02.598Z"
   },
   {
    "duration": 3,
    "start_time": "2023-03-07T12:50:15.614Z"
   },
   {
    "duration": 732,
    "start_time": "2023-03-07T12:56:16.816Z"
   },
   {
    "duration": 4,
    "start_time": "2023-03-07T12:58:12.031Z"
   },
   {
    "duration": 4,
    "start_time": "2023-03-07T12:58:14.399Z"
   },
   {
    "duration": 666,
    "start_time": "2023-03-07T12:58:18.854Z"
   },
   {
    "duration": 4,
    "start_time": "2023-03-07T13:00:41.684Z"
   },
   {
    "duration": 645,
    "start_time": "2023-03-07T13:00:42.390Z"
   },
   {
    "duration": 649,
    "start_time": "2023-03-07T13:00:53.222Z"
   },
   {
    "duration": 21,
    "start_time": "2023-03-07T13:01:30.910Z"
   },
   {
    "duration": 1316,
    "start_time": "2023-03-07T13:07:00.715Z"
   },
   {
    "duration": 897,
    "start_time": "2023-03-07T13:07:02.033Z"
   },
   {
    "duration": 24,
    "start_time": "2023-03-07T13:07:02.932Z"
   },
   {
    "duration": 27,
    "start_time": "2023-03-07T13:07:02.958Z"
   },
   {
    "duration": 72,
    "start_time": "2023-03-07T13:07:02.987Z"
   },
   {
    "duration": 4,
    "start_time": "2023-03-07T13:07:03.061Z"
   },
   {
    "duration": 710,
    "start_time": "2023-03-07T13:07:03.067Z"
   },
   {
    "duration": 1239,
    "start_time": "2023-03-07T13:09:11.343Z"
   },
   {
    "duration": 867,
    "start_time": "2023-03-07T13:09:12.584Z"
   },
   {
    "duration": 15,
    "start_time": "2023-03-07T13:09:13.453Z"
   },
   {
    "duration": 24,
    "start_time": "2023-03-07T13:09:13.469Z"
   },
   {
    "duration": 63,
    "start_time": "2023-03-07T13:09:13.495Z"
   },
   {
    "duration": 4,
    "start_time": "2023-03-07T13:09:13.559Z"
   },
   {
    "duration": 692,
    "start_time": "2023-03-07T13:09:13.565Z"
   },
   {
    "duration": 141,
    "start_time": "2023-03-07T13:09:14.259Z"
   },
   {
    "duration": 0,
    "start_time": "2023-03-07T13:09:14.402Z"
   },
   {
    "duration": 0,
    "start_time": "2023-03-07T13:09:14.403Z"
   },
   {
    "duration": 0,
    "start_time": "2023-03-07T13:09:14.409Z"
   },
   {
    "duration": 0,
    "start_time": "2023-03-07T13:09:14.409Z"
   },
   {
    "duration": 0,
    "start_time": "2023-03-07T13:09:14.410Z"
   },
   {
    "duration": 10,
    "start_time": "2023-03-07T13:12:18.405Z"
   },
   {
    "duration": 9,
    "start_time": "2023-03-07T13:16:56.384Z"
   },
   {
    "duration": 4,
    "start_time": "2023-03-07T13:17:03.758Z"
   },
   {
    "duration": 13,
    "start_time": "2023-03-07T13:17:23.199Z"
   },
   {
    "duration": 6,
    "start_time": "2023-03-07T13:17:34.402Z"
   },
   {
    "duration": 1334,
    "start_time": "2023-03-07T13:17:50.106Z"
   },
   {
    "duration": 6,
    "start_time": "2023-03-07T13:18:01.323Z"
   },
   {
    "duration": 6,
    "start_time": "2023-03-07T13:18:10.876Z"
   },
   {
    "duration": 11,
    "start_time": "2023-03-07T13:18:16.618Z"
   },
   {
    "duration": 1364,
    "start_time": "2023-03-07T13:21:30.883Z"
   },
   {
    "duration": 909,
    "start_time": "2023-03-07T13:21:32.249Z"
   },
   {
    "duration": 15,
    "start_time": "2023-03-07T13:21:33.159Z"
   },
   {
    "duration": 26,
    "start_time": "2023-03-07T13:21:33.176Z"
   },
   {
    "duration": 84,
    "start_time": "2023-03-07T13:21:33.205Z"
   },
   {
    "duration": 3,
    "start_time": "2023-03-07T13:21:33.291Z"
   },
   {
    "duration": 1235,
    "start_time": "2023-03-07T13:21:33.296Z"
   },
   {
    "duration": 1614,
    "start_time": "2023-03-07T13:21:34.532Z"
   },
   {
    "duration": 14,
    "start_time": "2023-03-07T13:21:36.148Z"
   },
   {
    "duration": 10,
    "start_time": "2023-03-07T13:21:36.163Z"
   },
   {
    "duration": 12,
    "start_time": "2023-03-07T13:21:36.175Z"
   },
   {
    "duration": 18,
    "start_time": "2023-03-07T13:21:36.188Z"
   },
   {
    "duration": 8700,
    "start_time": "2023-03-07T13:21:36.207Z"
   },
   {
    "duration": 3638,
    "start_time": "2023-03-07T13:21:44.909Z"
   },
   {
    "duration": 12,
    "start_time": "2023-03-07T13:22:14.783Z"
   },
   {
    "duration": 15,
    "start_time": "2023-03-07T13:22:15.889Z"
   },
   {
    "duration": 8416,
    "start_time": "2023-03-07T13:22:20.785Z"
   },
   {
    "duration": 3591,
    "start_time": "2023-03-07T13:22:29.203Z"
   },
   {
    "duration": 3,
    "start_time": "2023-03-07T13:22:50.886Z"
   },
   {
    "duration": 3,
    "start_time": "2023-03-07T13:22:51.775Z"
   },
   {
    "duration": 156,
    "start_time": "2023-03-07T13:23:51.779Z"
   },
   {
    "duration": 35,
    "start_time": "2023-03-07T13:31:55.484Z"
   },
   {
    "duration": 28,
    "start_time": "2023-03-07T13:32:10.206Z"
   },
   {
    "duration": 35,
    "start_time": "2023-03-07T13:32:29.103Z"
   },
   {
    "duration": 57,
    "start_time": "2023-03-07T15:28:59.652Z"
   },
   {
    "duration": 5,
    "start_time": "2023-03-07T15:29:08.169Z"
   },
   {
    "duration": 60,
    "start_time": "2023-03-07T15:29:56.116Z"
   },
   {
    "duration": 1333,
    "start_time": "2023-03-07T15:31:58.180Z"
   },
   {
    "duration": 977,
    "start_time": "2023-03-07T15:31:59.515Z"
   },
   {
    "duration": 16,
    "start_time": "2023-03-07T15:32:00.494Z"
   },
   {
    "duration": 61,
    "start_time": "2023-03-07T15:32:00.512Z"
   },
   {
    "duration": 24,
    "start_time": "2023-03-07T15:32:00.576Z"
   },
   {
    "duration": 180,
    "start_time": "2023-03-07T15:32:00.603Z"
   },
   {
    "duration": 0,
    "start_time": "2023-03-07T15:32:00.785Z"
   },
   {
    "duration": 1,
    "start_time": "2023-03-07T15:32:00.786Z"
   },
   {
    "duration": 0,
    "start_time": "2023-03-07T15:32:00.788Z"
   },
   {
    "duration": 0,
    "start_time": "2023-03-07T15:32:00.790Z"
   },
   {
    "duration": 0,
    "start_time": "2023-03-07T15:32:00.799Z"
   },
   {
    "duration": 0,
    "start_time": "2023-03-07T15:32:00.801Z"
   },
   {
    "duration": 0,
    "start_time": "2023-03-07T15:32:00.802Z"
   },
   {
    "duration": 0,
    "start_time": "2023-03-07T15:32:00.804Z"
   },
   {
    "duration": 0,
    "start_time": "2023-03-07T15:32:00.805Z"
   },
   {
    "duration": 2851,
    "start_time": "2023-03-07T15:33:02.549Z"
   },
   {
    "duration": 15,
    "start_time": "2023-03-07T15:33:05.402Z"
   },
   {
    "duration": 25,
    "start_time": "2023-03-07T15:33:07.778Z"
   },
   {
    "duration": 16,
    "start_time": "2023-03-07T15:33:09.534Z"
   },
   {
    "duration": 10,
    "start_time": "2023-03-07T15:37:01.600Z"
   },
   {
    "duration": 31,
    "start_time": "2023-03-07T15:37:14.986Z"
   },
   {
    "duration": 4,
    "start_time": "2023-03-07T15:38:01.043Z"
   },
   {
    "duration": 47,
    "start_time": "2023-03-07T15:38:05.109Z"
   },
   {
    "duration": 9029,
    "start_time": "2023-03-07T15:38:07.336Z"
   },
   {
    "duration": 3595,
    "start_time": "2023-03-07T15:38:26.527Z"
   },
   {
    "duration": 5,
    "start_time": "2023-03-07T15:38:30.123Z"
   },
   {
    "duration": 7,
    "start_time": "2023-03-07T15:38:30.130Z"
   },
   {
    "duration": 66,
    "start_time": "2023-03-07T15:38:30.138Z"
   },
   {
    "duration": 1321,
    "start_time": "2023-03-07T15:38:48.285Z"
   },
   {
    "duration": 926,
    "start_time": "2023-03-07T15:38:49.609Z"
   },
   {
    "duration": 21,
    "start_time": "2023-03-07T15:38:50.536Z"
   },
   {
    "duration": 28,
    "start_time": "2023-03-07T15:38:50.559Z"
   },
   {
    "duration": 9,
    "start_time": "2023-03-07T15:38:50.588Z"
   },
   {
    "duration": 2765,
    "start_time": "2023-03-07T15:38:50.598Z"
   },
   {
    "duration": 11,
    "start_time": "2023-03-07T15:38:53.365Z"
   },
   {
    "duration": 18,
    "start_time": "2023-03-07T15:38:53.377Z"
   },
   {
    "duration": 10,
    "start_time": "2023-03-07T15:38:53.397Z"
   },
   {
    "duration": 61,
    "start_time": "2023-03-07T15:38:53.410Z"
   },
   {
    "duration": 8688,
    "start_time": "2023-03-07T15:38:53.473Z"
   },
   {
    "duration": 3595,
    "start_time": "2023-03-07T15:39:02.163Z"
   },
   {
    "duration": 4,
    "start_time": "2023-03-07T15:39:05.759Z"
   },
   {
    "duration": 6,
    "start_time": "2023-03-07T15:39:05.765Z"
   },
   {
    "duration": 54,
    "start_time": "2023-03-07T15:39:05.773Z"
   },
   {
    "duration": 1338,
    "start_time": "2023-03-07T15:40:21.836Z"
   },
   {
    "duration": 916,
    "start_time": "2023-03-07T15:40:23.176Z"
   },
   {
    "duration": 15,
    "start_time": "2023-03-07T15:40:24.094Z"
   },
   {
    "duration": 28,
    "start_time": "2023-03-07T15:40:24.111Z"
   },
   {
    "duration": 3,
    "start_time": "2023-03-07T15:40:24.155Z"
   },
   {
    "duration": 2813,
    "start_time": "2023-03-07T15:40:24.159Z"
   },
   {
    "duration": 12,
    "start_time": "2023-03-07T15:40:26.974Z"
   },
   {
    "duration": 20,
    "start_time": "2023-03-07T15:40:26.987Z"
   },
   {
    "duration": 10,
    "start_time": "2023-03-07T15:40:27.009Z"
   },
   {
    "duration": 65,
    "start_time": "2023-03-07T15:40:27.022Z"
   },
   {
    "duration": 8604,
    "start_time": "2023-03-07T15:40:27.089Z"
   },
   {
    "duration": 3593,
    "start_time": "2023-03-07T15:40:35.694Z"
   },
   {
    "duration": 4,
    "start_time": "2023-03-07T15:40:39.288Z"
   },
   {
    "duration": 6,
    "start_time": "2023-03-07T15:40:39.293Z"
   },
   {
    "duration": 67,
    "start_time": "2023-03-07T15:40:39.300Z"
   },
   {
    "duration": 1474,
    "start_time": "2023-03-07T15:43:04.744Z"
   },
   {
    "duration": 1007,
    "start_time": "2023-03-07T15:43:06.220Z"
   },
   {
    "duration": 26,
    "start_time": "2023-03-07T15:43:07.230Z"
   },
   {
    "duration": 39,
    "start_time": "2023-03-07T15:43:07.258Z"
   },
   {
    "duration": 5,
    "start_time": "2023-03-07T15:43:07.300Z"
   },
   {
    "duration": 3135,
    "start_time": "2023-03-07T15:43:07.307Z"
   },
   {
    "duration": 19,
    "start_time": "2023-03-07T15:43:10.444Z"
   },
   {
    "duration": 21,
    "start_time": "2023-03-07T15:43:10.465Z"
   },
   {
    "duration": 9,
    "start_time": "2023-03-07T15:43:10.487Z"
   },
   {
    "duration": 37,
    "start_time": "2023-03-07T15:43:10.497Z"
   },
   {
    "duration": 1447,
    "start_time": "2023-03-07T15:44:45.803Z"
   },
   {
    "duration": 3490,
    "start_time": "2023-03-07T15:44:47.252Z"
   },
   {
    "duration": 16,
    "start_time": "2023-03-07T15:44:50.743Z"
   },
   {
    "duration": 27,
    "start_time": "2023-03-07T15:44:50.761Z"
   },
   {
    "duration": 3,
    "start_time": "2023-03-07T15:44:50.792Z"
   },
   {
    "duration": 2807,
    "start_time": "2023-03-07T15:44:50.797Z"
   },
   {
    "duration": 14,
    "start_time": "2023-03-07T15:44:53.605Z"
   },
   {
    "duration": 17,
    "start_time": "2023-03-07T15:44:53.621Z"
   },
   {
    "duration": 10,
    "start_time": "2023-03-07T15:44:53.655Z"
   },
   {
    "duration": 65,
    "start_time": "2023-03-07T15:44:53.667Z"
   },
   {
    "duration": 78,
    "start_time": "2023-03-07T15:45:08.755Z"
   },
   {
    "duration": 1322,
    "start_time": "2023-03-07T15:45:16.972Z"
   },
   {
    "duration": 3413,
    "start_time": "2023-03-07T15:45:18.296Z"
   },
   {
    "duration": 15,
    "start_time": "2023-03-07T15:45:21.711Z"
   },
   {
    "duration": 38,
    "start_time": "2023-03-07T15:45:21.728Z"
   },
   {
    "duration": 4,
    "start_time": "2023-03-07T15:45:21.768Z"
   },
   {
    "duration": 2817,
    "start_time": "2023-03-07T15:45:21.774Z"
   },
   {
    "duration": 9,
    "start_time": "2023-03-07T15:45:24.593Z"
   },
   {
    "duration": 17,
    "start_time": "2023-03-07T15:45:24.604Z"
   },
   {
    "duration": 9,
    "start_time": "2023-03-07T15:45:24.622Z"
   },
   {
    "duration": 66,
    "start_time": "2023-03-07T15:45:24.633Z"
   },
   {
    "duration": 51,
    "start_time": "2023-03-07T15:48:50.598Z"
   },
   {
    "duration": 1366,
    "start_time": "2023-03-07T15:48:58.627Z"
   },
   {
    "duration": 4,
    "start_time": "2023-03-07T15:49:04.792Z"
   },
   {
    "duration": 3725,
    "start_time": "2023-03-07T15:49:05.601Z"
   },
   {
    "duration": 15,
    "start_time": "2023-03-07T15:49:10.968Z"
   },
   {
    "duration": 31,
    "start_time": "2023-03-07T15:49:12.255Z"
   },
   {
    "duration": 3,
    "start_time": "2023-03-07T15:49:14.372Z"
   },
   {
    "duration": 2968,
    "start_time": "2023-03-07T15:49:15.700Z"
   },
   {
    "duration": 11,
    "start_time": "2023-03-07T15:49:18.670Z"
   },
   {
    "duration": 25,
    "start_time": "2023-03-07T15:49:22.448Z"
   },
   {
    "duration": 8,
    "start_time": "2023-03-07T15:49:26.215Z"
   },
   {
    "duration": 36,
    "start_time": "2023-03-07T15:49:32.712Z"
   },
   {
    "duration": 4,
    "start_time": "2023-03-07T15:49:34.524Z"
   },
   {
    "duration": 51,
    "start_time": "2023-03-07T15:50:04.999Z"
   },
   {
    "duration": 1402,
    "start_time": "2023-03-07T15:50:15.141Z"
   },
   {
    "duration": 3492,
    "start_time": "2023-03-07T15:50:16.545Z"
   },
   {
    "duration": 18,
    "start_time": "2023-03-07T15:50:20.039Z"
   },
   {
    "duration": 27,
    "start_time": "2023-03-07T15:50:20.059Z"
   },
   {
    "duration": 7,
    "start_time": "2023-03-07T15:50:20.088Z"
   },
   {
    "duration": 2827,
    "start_time": "2023-03-07T15:50:20.097Z"
   },
   {
    "duration": 12,
    "start_time": "2023-03-07T15:50:22.926Z"
   },
   {
    "duration": 30,
    "start_time": "2023-03-07T15:50:22.939Z"
   },
   {
    "duration": 10,
    "start_time": "2023-03-07T15:50:22.971Z"
   },
   {
    "duration": 42,
    "start_time": "2023-03-07T15:50:22.983Z"
   },
   {
    "duration": 5,
    "start_time": "2023-03-07T15:50:34.175Z"
   },
   {
    "duration": 9,
    "start_time": "2023-03-07T15:50:34.916Z"
   },
   {
    "duration": 1397,
    "start_time": "2023-03-07T15:51:42.037Z"
   },
   {
    "duration": 3542,
    "start_time": "2023-03-07T15:51:43.437Z"
   },
   {
    "duration": 17,
    "start_time": "2023-03-07T15:51:46.980Z"
   },
   {
    "duration": 29,
    "start_time": "2023-03-07T15:51:46.999Z"
   },
   {
    "duration": 5,
    "start_time": "2023-03-07T15:51:47.030Z"
   },
   {
    "duration": 2836,
    "start_time": "2023-03-07T15:51:47.036Z"
   },
   {
    "duration": 11,
    "start_time": "2023-03-07T15:51:49.874Z"
   },
   {
    "duration": 19,
    "start_time": "2023-03-07T15:51:49.886Z"
   },
   {
    "duration": 4,
    "start_time": "2023-03-07T15:51:49.907Z"
   },
   {
    "duration": 5,
    "start_time": "2023-03-07T15:51:49.914Z"
   },
   {
    "duration": 161,
    "start_time": "2023-03-07T15:51:49.920Z"
   },
   {
    "duration": 0,
    "start_time": "2023-03-07T15:51:50.083Z"
   },
   {
    "duration": 0,
    "start_time": "2023-03-07T15:51:50.084Z"
   },
   {
    "duration": 0,
    "start_time": "2023-03-07T15:51:50.086Z"
   },
   {
    "duration": 0,
    "start_time": "2023-03-07T15:51:50.087Z"
   },
   {
    "duration": 0,
    "start_time": "2023-03-07T15:51:50.089Z"
   },
   {
    "duration": 0,
    "start_time": "2023-03-07T15:51:50.090Z"
   },
   {
    "duration": 9534,
    "start_time": "2023-03-07T15:52:56.072Z"
   },
   {
    "duration": 4,
    "start_time": "2023-03-07T15:54:18.421Z"
   },
   {
    "duration": 3931,
    "start_time": "2023-03-07T15:55:02.516Z"
   },
   {
    "duration": 10,
    "start_time": "2023-03-07T15:55:18.401Z"
   },
   {
    "duration": 14,
    "start_time": "2023-03-07T15:55:25.373Z"
   },
   {
    "duration": 1395,
    "start_time": "2023-03-07T15:55:57.815Z"
   },
   {
    "duration": 948,
    "start_time": "2023-03-07T15:55:59.212Z"
   },
   {
    "duration": 16,
    "start_time": "2023-03-07T15:56:00.162Z"
   },
   {
    "duration": 32,
    "start_time": "2023-03-07T15:56:00.182Z"
   },
   {
    "duration": 4,
    "start_time": "2023-03-07T15:56:00.218Z"
   },
   {
    "duration": 2820,
    "start_time": "2023-03-07T15:56:00.223Z"
   },
   {
    "duration": 13,
    "start_time": "2023-03-07T15:56:03.045Z"
   },
   {
    "duration": 26,
    "start_time": "2023-03-07T15:56:03.060Z"
   },
   {
    "duration": 3,
    "start_time": "2023-03-07T15:56:03.088Z"
   },
   {
    "duration": 12,
    "start_time": "2023-03-07T15:56:03.093Z"
   },
   {
    "duration": 141,
    "start_time": "2023-03-07T15:56:03.107Z"
   },
   {
    "duration": 0,
    "start_time": "2023-03-07T15:56:03.250Z"
   },
   {
    "duration": 0,
    "start_time": "2023-03-07T15:56:03.255Z"
   },
   {
    "duration": 0,
    "start_time": "2023-03-07T15:56:03.256Z"
   },
   {
    "duration": 0,
    "start_time": "2023-03-07T15:56:03.257Z"
   },
   {
    "duration": 0,
    "start_time": "2023-03-07T15:56:03.259Z"
   },
   {
    "duration": 0,
    "start_time": "2023-03-07T15:56:03.260Z"
   },
   {
    "duration": 0,
    "start_time": "2023-03-07T15:56:03.262Z"
   },
   {
    "duration": 0,
    "start_time": "2023-03-07T15:56:03.263Z"
   },
   {
    "duration": 1413,
    "start_time": "2023-03-07T15:56:54.640Z"
   },
   {
    "duration": 952,
    "start_time": "2023-03-07T15:56:56.055Z"
   },
   {
    "duration": 23,
    "start_time": "2023-03-07T15:56:57.009Z"
   },
   {
    "duration": 52,
    "start_time": "2023-03-07T15:56:57.034Z"
   },
   {
    "duration": 5,
    "start_time": "2023-03-07T15:56:57.089Z"
   },
   {
    "duration": 2777,
    "start_time": "2023-03-07T15:56:57.096Z"
   },
   {
    "duration": 12,
    "start_time": "2023-03-07T15:56:59.875Z"
   },
   {
    "duration": 26,
    "start_time": "2023-03-07T15:56:59.889Z"
   },
   {
    "duration": 4,
    "start_time": "2023-03-07T15:56:59.917Z"
   },
   {
    "duration": 33,
    "start_time": "2023-03-07T15:56:59.923Z"
   },
   {
    "duration": 9069,
    "start_time": "2023-03-07T15:56:59.958Z"
   },
   {
    "duration": 4,
    "start_time": "2023-03-07T15:57:09.029Z"
   },
   {
    "duration": 3691,
    "start_time": "2023-03-07T15:57:09.034Z"
   },
   {
    "duration": 159,
    "start_time": "2023-03-07T15:57:12.728Z"
   },
   {
    "duration": 0,
    "start_time": "2023-03-07T15:57:12.889Z"
   },
   {
    "duration": 0,
    "start_time": "2023-03-07T15:57:12.890Z"
   },
   {
    "duration": 0,
    "start_time": "2023-03-07T15:57:12.891Z"
   },
   {
    "duration": 70,
    "start_time": "2023-03-07T15:57:29.076Z"
   },
   {
    "duration": 32,
    "start_time": "2023-03-07T15:57:34.563Z"
   },
   {
    "duration": 10,
    "start_time": "2023-03-07T15:57:37.552Z"
   },
   {
    "duration": 4,
    "start_time": "2023-03-07T15:57:44.044Z"
   },
   {
    "duration": 4,
    "start_time": "2023-03-07T15:57:51.683Z"
   },
   {
    "duration": 1561,
    "start_time": "2023-03-07T15:58:14.112Z"
   },
   {
    "duration": 992,
    "start_time": "2023-03-07T15:58:15.675Z"
   },
   {
    "duration": 25,
    "start_time": "2023-03-07T15:58:16.670Z"
   },
   {
    "duration": 41,
    "start_time": "2023-03-07T15:58:16.697Z"
   },
   {
    "duration": 5,
    "start_time": "2023-03-07T15:58:16.755Z"
   },
   {
    "duration": 3198,
    "start_time": "2023-03-07T15:58:16.762Z"
   },
   {
    "duration": 11,
    "start_time": "2023-03-07T15:58:19.962Z"
   },
   {
    "duration": 25,
    "start_time": "2023-03-07T15:58:19.975Z"
   },
   {
    "duration": 5,
    "start_time": "2023-03-07T15:58:20.001Z"
   },
   {
    "duration": 6,
    "start_time": "2023-03-07T15:58:20.009Z"
   },
   {
    "duration": 10327,
    "start_time": "2023-03-07T15:58:20.017Z"
   },
   {
    "duration": 9,
    "start_time": "2023-03-07T15:58:30.346Z"
   },
   {
    "duration": 73,
    "start_time": "2023-03-07T15:58:30.357Z"
   },
   {
    "duration": 4085,
    "start_time": "2023-03-07T15:58:30.432Z"
   },
   {
    "duration": 40,
    "start_time": "2023-03-07T15:58:34.518Z"
   },
   {
    "duration": 211,
    "start_time": "2023-03-07T15:58:34.559Z"
   },
   {
    "duration": 0,
    "start_time": "2023-03-07T15:58:34.771Z"
   },
   {
    "duration": 16,
    "start_time": "2023-03-07T16:07:19.077Z"
   },
   {
    "duration": 18,
    "start_time": "2023-03-07T16:08:47.135Z"
   },
   {
    "duration": 5,
    "start_time": "2023-03-07T16:10:55.290Z"
   },
   {
    "duration": 16,
    "start_time": "2023-03-07T16:14:03.295Z"
   },
   {
    "duration": 1290,
    "start_time": "2023-03-07T16:14:46.335Z"
   },
   {
    "duration": 884,
    "start_time": "2023-03-07T16:14:47.628Z"
   },
   {
    "duration": 13,
    "start_time": "2023-03-07T16:14:48.514Z"
   },
   {
    "duration": 34,
    "start_time": "2023-03-07T16:14:48.529Z"
   },
   {
    "duration": 3,
    "start_time": "2023-03-07T16:14:48.564Z"
   },
   {
    "duration": 2671,
    "start_time": "2023-03-07T16:14:48.568Z"
   },
   {
    "duration": 8,
    "start_time": "2023-03-07T16:14:51.241Z"
   },
   {
    "duration": 23,
    "start_time": "2023-03-07T16:14:51.255Z"
   },
   {
    "duration": 4,
    "start_time": "2023-03-07T16:14:51.279Z"
   },
   {
    "duration": 3,
    "start_time": "2023-03-07T16:14:51.285Z"
   },
   {
    "duration": 8728,
    "start_time": "2023-03-07T16:14:51.289Z"
   },
   {
    "duration": 4,
    "start_time": "2023-03-07T16:15:00.018Z"
   },
   {
    "duration": 59,
    "start_time": "2023-03-07T16:15:00.023Z"
   },
   {
    "duration": 3550,
    "start_time": "2023-03-07T16:15:00.083Z"
   },
   {
    "duration": 2,
    "start_time": "2023-03-07T16:15:03.635Z"
   },
   {
    "duration": 9,
    "start_time": "2023-03-07T16:15:03.639Z"
   },
   {
    "duration": 4,
    "start_time": "2023-03-07T16:15:03.655Z"
   },
   {
    "duration": 57,
    "start_time": "2023-03-07T16:15:03.660Z"
   },
   {
    "duration": 1296,
    "start_time": "2023-03-07T16:18:51.302Z"
   },
   {
    "duration": 902,
    "start_time": "2023-03-07T16:18:52.600Z"
   },
   {
    "duration": 15,
    "start_time": "2023-03-07T16:18:53.504Z"
   },
   {
    "duration": 39,
    "start_time": "2023-03-07T16:18:53.521Z"
   },
   {
    "duration": 5,
    "start_time": "2023-03-07T16:18:53.561Z"
   },
   {
    "duration": 2757,
    "start_time": "2023-03-07T16:18:53.568Z"
   },
   {
    "duration": 9,
    "start_time": "2023-03-07T16:18:56.327Z"
   },
   {
    "duration": 28,
    "start_time": "2023-03-07T16:18:56.338Z"
   },
   {
    "duration": 3,
    "start_time": "2023-03-07T16:18:56.367Z"
   },
   {
    "duration": 7,
    "start_time": "2023-03-07T16:18:56.372Z"
   },
   {
    "duration": 8601,
    "start_time": "2023-03-07T16:18:56.380Z"
   },
   {
    "duration": 3,
    "start_time": "2023-03-07T16:19:04.983Z"
   },
   {
    "duration": 54,
    "start_time": "2023-03-07T16:19:04.988Z"
   },
   {
    "duration": 3633,
    "start_time": "2023-03-07T16:19:05.056Z"
   },
   {
    "duration": 3,
    "start_time": "2023-03-07T16:19:08.690Z"
   },
   {
    "duration": 166,
    "start_time": "2023-03-07T16:19:08.694Z"
   },
   {
    "duration": 0,
    "start_time": "2023-03-07T16:19:08.861Z"
   },
   {
    "duration": 0,
    "start_time": "2023-03-07T16:19:08.862Z"
   },
   {
    "duration": 0,
    "start_time": "2023-03-07T16:19:08.863Z"
   },
   {
    "duration": 0,
    "start_time": "2023-03-07T16:19:08.864Z"
   },
   {
    "duration": 3,
    "start_time": "2023-03-07T16:20:17.196Z"
   },
   {
    "duration": 27,
    "start_time": "2023-03-07T16:20:32.934Z"
   },
   {
    "duration": 36,
    "start_time": "2023-03-07T16:21:03.262Z"
   },
   {
    "duration": 4,
    "start_time": "2023-03-07T16:24:09.717Z"
   },
   {
    "duration": 843,
    "start_time": "2023-03-07T16:24:10.201Z"
   },
   {
    "duration": 10,
    "start_time": "2023-03-07T16:24:11.046Z"
   },
   {
    "duration": 27,
    "start_time": "2023-03-07T16:24:11.415Z"
   },
   {
    "duration": 4,
    "start_time": "2023-03-07T16:24:12.023Z"
   },
   {
    "duration": 1590,
    "start_time": "2023-03-07T16:24:14.062Z"
   },
   {
    "duration": 13,
    "start_time": "2023-03-07T16:24:15.655Z"
   },
   {
    "duration": 20,
    "start_time": "2023-03-07T16:24:15.670Z"
   },
   {
    "duration": 13,
    "start_time": "2023-03-07T16:24:16.013Z"
   },
   {
    "duration": 5,
    "start_time": "2023-03-07T16:24:17.213Z"
   },
   {
    "duration": 39,
    "start_time": "2023-03-07T16:24:18.070Z"
   },
   {
    "duration": 82,
    "start_time": "2023-03-07T16:25:27.105Z"
   },
   {
    "duration": 68,
    "start_time": "2023-03-07T16:25:31.948Z"
   },
   {
    "duration": 1492,
    "start_time": "2023-03-07T16:25:44.374Z"
   },
   {
    "duration": 3520,
    "start_time": "2023-03-07T16:25:45.868Z"
   },
   {
    "duration": 18,
    "start_time": "2023-03-07T16:25:49.390Z"
   },
   {
    "duration": 35,
    "start_time": "2023-03-07T16:25:49.410Z"
   },
   {
    "duration": 10,
    "start_time": "2023-03-07T16:25:49.447Z"
   },
   {
    "duration": 3136,
    "start_time": "2023-03-07T16:25:49.459Z"
   },
   {
    "duration": 13,
    "start_time": "2023-03-07T16:25:52.596Z"
   },
   {
    "duration": 19,
    "start_time": "2023-03-07T16:25:52.611Z"
   },
   {
    "duration": 31,
    "start_time": "2023-03-07T16:25:52.632Z"
   },
   {
    "duration": 4,
    "start_time": "2023-03-07T16:25:52.666Z"
   },
   {
    "duration": 41,
    "start_time": "2023-03-07T16:25:52.672Z"
   },
   {
    "duration": 10,
    "start_time": "2023-03-07T16:26:05.799Z"
   },
   {
    "duration": 3,
    "start_time": "2023-03-07T16:26:20.970Z"
   },
   {
    "duration": 149,
    "start_time": "2023-03-07T16:26:21.896Z"
   },
   {
    "duration": 1571,
    "start_time": "2023-03-07T18:07:38.111Z"
   },
   {
    "duration": 4347,
    "start_time": "2023-03-07T18:07:40.634Z"
   },
   {
    "duration": 16,
    "start_time": "2023-03-07T18:07:44.983Z"
   },
   {
    "duration": 30,
    "start_time": "2023-03-07T18:07:45.000Z"
   },
   {
    "duration": 3,
    "start_time": "2023-03-07T18:07:45.032Z"
   },
   {
    "duration": 2928,
    "start_time": "2023-03-07T18:07:45.043Z"
   },
   {
    "duration": 14,
    "start_time": "2023-03-07T18:07:47.973Z"
   },
   {
    "duration": 38,
    "start_time": "2023-03-07T18:07:48.521Z"
   },
   {
    "duration": 11,
    "start_time": "2023-03-07T18:07:49.611Z"
   },
   {
    "duration": 5,
    "start_time": "2023-03-07T18:07:51.521Z"
   },
   {
    "duration": 2,
    "start_time": "2023-03-07T18:07:52.090Z"
   },
   {
    "duration": 12,
    "start_time": "2023-03-07T18:08:34.889Z"
   },
   {
    "duration": 3,
    "start_time": "2023-03-07T18:10:55.818Z"
   },
   {
    "duration": 4,
    "start_time": "2023-03-07T18:11:03.435Z"
   },
   {
    "duration": 763,
    "start_time": "2023-03-07T18:11:03.737Z"
   },
   {
    "duration": 7,
    "start_time": "2023-03-07T18:11:04.502Z"
   },
   {
    "duration": 53,
    "start_time": "2023-03-07T18:11:04.511Z"
   },
   {
    "duration": 3,
    "start_time": "2023-03-07T18:11:04.721Z"
   },
   {
    "duration": 1587,
    "start_time": "2023-03-07T18:11:05.033Z"
   },
   {
    "duration": 22,
    "start_time": "2023-03-07T18:11:06.621Z"
   },
   {
    "duration": 21,
    "start_time": "2023-03-07T18:11:07.120Z"
   },
   {
    "duration": 18,
    "start_time": "2023-03-07T18:11:07.728Z"
   },
   {
    "duration": 7,
    "start_time": "2023-03-07T18:11:08.666Z"
   },
   {
    "duration": 145,
    "start_time": "2023-03-07T18:12:48.366Z"
   },
   {
    "duration": 17,
    "start_time": "2023-03-07T18:13:03.698Z"
   },
   {
    "duration": 19,
    "start_time": "2023-03-07T18:13:24.298Z"
   },
   {
    "duration": 43,
    "start_time": "2023-03-07T18:13:29.337Z"
   },
   {
    "duration": 9,
    "start_time": "2023-03-07T18:13:37.276Z"
   },
   {
    "duration": 28,
    "start_time": "2023-03-07T18:15:12.665Z"
   },
   {
    "duration": 21,
    "start_time": "2023-03-07T18:15:20.001Z"
   },
   {
    "duration": 23,
    "start_time": "2023-03-07T18:15:32.503Z"
   },
   {
    "duration": 26,
    "start_time": "2023-03-07T18:16:36.209Z"
   },
   {
    "duration": 8,
    "start_time": "2023-03-07T18:16:43.635Z"
   },
   {
    "duration": 21,
    "start_time": "2023-03-07T18:16:53.164Z"
   },
   {
    "duration": 1801,
    "start_time": "2023-03-07T18:16:59.201Z"
   },
   {
    "duration": 12,
    "start_time": "2023-03-07T18:17:07.217Z"
   },
   {
    "duration": 1785,
    "start_time": "2023-03-07T18:17:13.080Z"
   },
   {
    "duration": 12,
    "start_time": "2023-03-07T18:17:19.070Z"
   },
   {
    "duration": 9,
    "start_time": "2023-03-07T18:18:03.465Z"
   },
   {
    "duration": 7,
    "start_time": "2023-03-07T18:18:08.217Z"
   },
   {
    "duration": 15,
    "start_time": "2023-03-07T18:18:14.905Z"
   },
   {
    "duration": 21,
    "start_time": "2023-03-07T18:18:18.537Z"
   },
   {
    "duration": 7,
    "start_time": "2023-03-07T18:18:26.881Z"
   },
   {
    "duration": 13,
    "start_time": "2023-03-07T18:20:39.889Z"
   },
   {
    "duration": 13,
    "start_time": "2023-03-07T18:21:37.458Z"
   },
   {
    "duration": 17,
    "start_time": "2023-03-07T18:21:55.762Z"
   },
   {
    "duration": 35,
    "start_time": "2023-03-07T18:24:11.974Z"
   },
   {
    "duration": 11,
    "start_time": "2023-03-07T18:24:38.966Z"
   },
   {
    "duration": 5,
    "start_time": "2023-03-07T18:24:51.966Z"
   },
   {
    "duration": 4,
    "start_time": "2023-03-07T18:25:01.103Z"
   },
   {
    "duration": 15,
    "start_time": "2023-03-07T18:25:06.385Z"
   },
   {
    "duration": 21,
    "start_time": "2023-03-07T18:25:10.226Z"
   },
   {
    "duration": 14,
    "start_time": "2023-03-07T18:29:40.678Z"
   },
   {
    "duration": 17,
    "start_time": "2023-03-07T18:30:30.097Z"
   },
   {
    "duration": 17,
    "start_time": "2023-03-07T18:30:35.489Z"
   },
   {
    "duration": 5,
    "start_time": "2023-03-07T18:30:54.922Z"
   },
   {
    "duration": 3,
    "start_time": "2023-03-07T18:31:21.090Z"
   },
   {
    "duration": 760,
    "start_time": "2023-03-07T18:31:21.521Z"
   },
   {
    "duration": 10,
    "start_time": "2023-03-07T18:31:22.283Z"
   },
   {
    "duration": 37,
    "start_time": "2023-03-07T18:31:22.400Z"
   },
   {
    "duration": 10,
    "start_time": "2023-03-07T18:31:23.068Z"
   },
   {
    "duration": 1616,
    "start_time": "2023-03-07T18:31:23.558Z"
   },
   {
    "duration": 21,
    "start_time": "2023-03-07T18:31:25.180Z"
   },
   {
    "duration": 31,
    "start_time": "2023-03-07T18:31:25.206Z"
   },
   {
    "duration": 25,
    "start_time": "2023-03-07T18:31:25.239Z"
   },
   {
    "duration": 19,
    "start_time": "2023-03-07T18:31:26.314Z"
   },
   {
    "duration": 389,
    "start_time": "2023-03-07T18:31:27.297Z"
   },
   {
    "duration": 396,
    "start_time": "2023-03-07T18:31:52.449Z"
   },
   {
    "duration": 406,
    "start_time": "2023-03-07T18:32:10.115Z"
   },
   {
    "duration": 4,
    "start_time": "2023-03-07T18:33:09.976Z"
   },
   {
    "duration": 4,
    "start_time": "2023-03-07T18:33:10.225Z"
   },
   {
    "duration": 8,
    "start_time": "2023-03-07T18:33:26.901Z"
   },
   {
    "duration": 4,
    "start_time": "2023-03-07T18:33:30.419Z"
   },
   {
    "duration": 14,
    "start_time": "2023-03-07T18:33:33.685Z"
   },
   {
    "duration": 4,
    "start_time": "2023-03-07T18:33:47.277Z"
   },
   {
    "duration": 14,
    "start_time": "2023-03-07T18:33:59.685Z"
   },
   {
    "duration": 5,
    "start_time": "2023-03-07T18:35:06.308Z"
   },
   {
    "duration": 758,
    "start_time": "2023-03-07T18:35:06.836Z"
   },
   {
    "duration": 9,
    "start_time": "2023-03-07T18:35:07.596Z"
   },
   {
    "duration": 36,
    "start_time": "2023-03-07T18:35:07.915Z"
   },
   {
    "duration": 3,
    "start_time": "2023-03-07T18:35:08.486Z"
   },
   {
    "duration": 1653,
    "start_time": "2023-03-07T18:35:08.988Z"
   },
   {
    "duration": 25,
    "start_time": "2023-03-07T18:35:10.650Z"
   },
   {
    "duration": 22,
    "start_time": "2023-03-07T18:35:10.677Z"
   },
   {
    "duration": 15,
    "start_time": "2023-03-07T18:35:10.976Z"
   },
   {
    "duration": 24,
    "start_time": "2023-03-07T18:35:12.438Z"
   },
   {
    "duration": 7,
    "start_time": "2023-03-07T18:35:13.471Z"
   },
   {
    "duration": 4,
    "start_time": "2023-03-07T18:35:14.487Z"
   },
   {
    "duration": 8,
    "start_time": "2023-03-07T18:35:25.309Z"
   },
   {
    "duration": 5,
    "start_time": "2023-03-07T18:35:26.608Z"
   },
   {
    "duration": 14,
    "start_time": "2023-03-07T18:35:28.381Z"
   },
   {
    "duration": 5,
    "start_time": "2023-03-07T18:35:33.893Z"
   },
   {
    "duration": 9,
    "start_time": "2023-03-07T18:35:45.429Z"
   },
   {
    "duration": 20,
    "start_time": "2023-03-07T18:36:19.877Z"
   },
   {
    "duration": 1593,
    "start_time": "2023-03-07T18:37:28.328Z"
   },
   {
    "duration": 799,
    "start_time": "2023-03-07T18:37:29.922Z"
   },
   {
    "duration": 29,
    "start_time": "2023-03-07T18:37:30.722Z"
   },
   {
    "duration": 54,
    "start_time": "2023-03-07T18:37:30.759Z"
   },
   {
    "duration": 15,
    "start_time": "2023-03-07T18:37:30.815Z"
   },
   {
    "duration": 2842,
    "start_time": "2023-03-07T18:37:30.832Z"
   },
   {
    "duration": 12,
    "start_time": "2023-03-07T18:37:33.675Z"
   },
   {
    "duration": 20,
    "start_time": "2023-03-07T18:37:33.689Z"
   },
   {
    "duration": 34,
    "start_time": "2023-03-07T18:37:33.711Z"
   },
   {
    "duration": 47,
    "start_time": "2023-03-07T18:37:33.754Z"
   },
   {
    "duration": 4,
    "start_time": "2023-03-07T18:37:33.803Z"
   },
   {
    "duration": 6,
    "start_time": "2023-03-07T18:37:33.808Z"
   },
   {
    "duration": 8,
    "start_time": "2023-03-07T18:37:33.815Z"
   },
   {
    "duration": 256,
    "start_time": "2023-03-07T18:37:33.825Z"
   },
   {
    "duration": 4,
    "start_time": "2023-03-07T18:37:34.084Z"
   },
   {
    "duration": 5,
    "start_time": "2023-03-07T18:37:34.089Z"
   },
   {
    "duration": 3332,
    "start_time": "2023-03-07T18:37:34.096Z"
   },
   {
    "duration": 2,
    "start_time": "2023-03-07T18:37:37.429Z"
   },
   {
    "duration": 6,
    "start_time": "2023-03-07T18:37:37.433Z"
   },
   {
    "duration": 35,
    "start_time": "2023-03-07T18:37:37.442Z"
   },
   {
    "duration": 5,
    "start_time": "2023-03-07T18:37:37.478Z"
   },
   {
    "duration": 5,
    "start_time": "2023-03-07T18:37:37.485Z"
   },
   {
    "duration": 133,
    "start_time": "2023-03-07T18:37:37.491Z"
   },
   {
    "duration": 1362,
    "start_time": "2023-03-07T18:37:41.274Z"
   },
   {
    "duration": 941,
    "start_time": "2023-03-07T18:37:42.638Z"
   },
   {
    "duration": 18,
    "start_time": "2023-03-07T18:37:43.581Z"
   },
   {
    "duration": 45,
    "start_time": "2023-03-07T18:37:43.600Z"
   },
   {
    "duration": 4,
    "start_time": "2023-03-07T18:37:43.647Z"
   },
   {
    "duration": 2814,
    "start_time": "2023-03-07T18:37:43.652Z"
   },
   {
    "duration": 16,
    "start_time": "2023-03-07T18:37:46.468Z"
   },
   {
    "duration": 21,
    "start_time": "2023-03-07T18:37:46.485Z"
   },
   {
    "duration": 11,
    "start_time": "2023-03-07T18:37:46.508Z"
   },
   {
    "duration": 90,
    "start_time": "2023-03-07T18:37:46.521Z"
   },
   {
    "duration": 4,
    "start_time": "2023-03-07T18:37:46.614Z"
   },
   {
    "duration": 11,
    "start_time": "2023-03-07T18:37:46.620Z"
   },
   {
    "duration": 2143,
    "start_time": "2023-03-07T18:37:46.633Z"
   },
   {
    "duration": 7,
    "start_time": "2023-03-07T18:37:48.780Z"
   },
   {
    "duration": 15,
    "start_time": "2023-03-07T18:37:48.788Z"
   },
   {
    "duration": 3884,
    "start_time": "2023-03-07T18:37:48.805Z"
   },
   {
    "duration": 3,
    "start_time": "2023-03-07T18:37:52.691Z"
   },
   {
    "duration": 11,
    "start_time": "2023-03-07T18:37:52.696Z"
   },
   {
    "duration": 11,
    "start_time": "2023-03-07T18:37:52.709Z"
   },
   {
    "duration": 23,
    "start_time": "2023-03-07T18:37:52.722Z"
   },
   {
    "duration": 8,
    "start_time": "2023-03-07T18:37:52.746Z"
   },
   {
    "duration": 21298,
    "start_time": "2023-03-07T18:37:52.755Z"
   },
   {
    "duration": 11560,
    "start_time": "2023-03-07T18:38:19.774Z"
   },
   {
    "duration": 1327,
    "start_time": "2023-03-07T18:39:44.960Z"
   },
   {
    "duration": 801,
    "start_time": "2023-03-07T18:39:46.289Z"
   },
   {
    "duration": 14,
    "start_time": "2023-03-07T18:39:47.092Z"
   },
   {
    "duration": 40,
    "start_time": "2023-03-07T18:39:47.108Z"
   },
   {
    "duration": 7,
    "start_time": "2023-03-07T18:39:47.153Z"
   },
   {
    "duration": 2929,
    "start_time": "2023-03-07T18:39:47.162Z"
   },
   {
    "duration": 11,
    "start_time": "2023-03-07T18:39:50.093Z"
   },
   {
    "duration": 19,
    "start_time": "2023-03-07T18:39:50.106Z"
   },
   {
    "duration": 27,
    "start_time": "2023-03-07T18:39:50.140Z"
   },
   {
    "duration": 34,
    "start_time": "2023-03-07T18:39:50.172Z"
   },
   {
    "duration": 1991,
    "start_time": "2023-03-07T18:39:50.207Z"
   },
   {
    "duration": 3672,
    "start_time": "2023-03-07T18:39:52.200Z"
   },
   {
    "duration": 11995,
    "start_time": "2023-03-07T18:39:55.873Z"
   },
   {
    "duration": 14177,
    "start_time": "2023-03-07T18:40:07.870Z"
   },
   {
    "duration": 3111,
    "start_time": "2023-03-07T18:42:16.771Z"
   },
   {
    "duration": 26001,
    "start_time": "2023-03-07T18:42:46.581Z"
   },
   {
    "duration": 8643,
    "start_time": "2023-03-07T18:43:59.218Z"
   },
   {
    "duration": 19,
    "start_time": "2023-03-07T18:46:50.209Z"
   },
   {
    "duration": 0,
    "start_time": "2023-03-07T18:47:40.528Z"
   },
   {
    "duration": 30,
    "start_time": "2023-03-07T18:48:37.066Z"
   },
   {
    "duration": 43,
    "start_time": "2023-03-07T18:48:57.713Z"
   },
   {
    "duration": 15926,
    "start_time": "2023-03-07T18:49:03.729Z"
   },
   {
    "duration": 12023,
    "start_time": "2023-03-07T18:50:03.930Z"
   },
   {
    "duration": 56381,
    "start_time": "2023-03-07T18:55:26.499Z"
   },
   {
    "duration": 3,
    "start_time": "2023-03-07T18:57:22.845Z"
   },
   {
    "duration": 11,
    "start_time": "2023-03-07T18:57:35.478Z"
   },
   {
    "duration": 125,
    "start_time": "2023-03-07T18:57:42.315Z"
   },
   {
    "duration": 1513,
    "start_time": "2023-03-07T19:18:42.370Z"
   },
   {
    "duration": 836,
    "start_time": "2023-03-07T19:18:43.885Z"
   },
   {
    "duration": 30,
    "start_time": "2023-03-07T19:18:44.723Z"
   },
   {
    "duration": 31,
    "start_time": "2023-03-07T19:18:44.761Z"
   },
   {
    "duration": 3,
    "start_time": "2023-03-07T19:18:44.794Z"
   },
   {
    "duration": 2920,
    "start_time": "2023-03-07T19:18:44.799Z"
   },
   {
    "duration": 11,
    "start_time": "2023-03-07T19:18:47.721Z"
   },
   {
    "duration": 27,
    "start_time": "2023-03-07T19:18:47.741Z"
   },
   {
    "duration": 20,
    "start_time": "2023-03-07T19:18:47.770Z"
   },
   {
    "duration": 30,
    "start_time": "2023-03-07T19:18:47.791Z"
   },
   {
    "duration": 1983,
    "start_time": "2023-03-07T19:18:47.823Z"
   },
   {
    "duration": 3726,
    "start_time": "2023-03-07T19:18:49.808Z"
   },
   {
    "duration": 24601,
    "start_time": "2023-03-07T19:18:53.536Z"
   },
   {
    "duration": 9360,
    "start_time": "2023-03-07T19:19:18.141Z"
   },
   {
    "duration": 51940,
    "start_time": "2023-03-07T19:19:27.503Z"
   },
   {
    "duration": 137,
    "start_time": "2023-03-07T19:20:19.452Z"
   },
   {
    "duration": 0,
    "start_time": "2023-03-07T19:20:19.590Z"
   },
   {
    "duration": 1410,
    "start_time": "2023-03-07T19:24:00.398Z"
   },
   {
    "duration": 864,
    "start_time": "2023-03-07T19:24:01.810Z"
   },
   {
    "duration": 17,
    "start_time": "2023-03-07T19:24:02.676Z"
   },
   {
    "duration": 75,
    "start_time": "2023-03-07T19:24:02.696Z"
   },
   {
    "duration": 43,
    "start_time": "2023-03-07T19:24:02.774Z"
   },
   {
    "duration": 2954,
    "start_time": "2023-03-07T19:24:02.819Z"
   },
   {
    "duration": 16,
    "start_time": "2023-03-07T19:24:05.774Z"
   },
   {
    "duration": 25,
    "start_time": "2023-03-07T19:24:05.792Z"
   },
   {
    "duration": 28,
    "start_time": "2023-03-07T19:24:05.820Z"
   },
   {
    "duration": 56,
    "start_time": "2023-03-07T19:24:05.854Z"
   },
   {
    "duration": 2198,
    "start_time": "2023-03-07T19:24:05.911Z"
   },
   {
    "duration": 3724,
    "start_time": "2023-03-07T19:24:08.110Z"
   },
   {
    "duration": 24516,
    "start_time": "2023-03-07T19:24:11.836Z"
   },
   {
    "duration": 10595,
    "start_time": "2023-03-07T19:24:36.353Z"
   },
   {
    "duration": 55297,
    "start_time": "2023-03-07T19:24:46.952Z"
   },
   {
    "duration": 1419,
    "start_time": "2023-03-07T19:27:03.910Z"
   },
   {
    "duration": 844,
    "start_time": "2023-03-07T19:27:05.331Z"
   },
   {
    "duration": 14,
    "start_time": "2023-03-07T19:27:06.177Z"
   },
   {
    "duration": 39,
    "start_time": "2023-03-07T19:27:06.192Z"
   },
   {
    "duration": 45,
    "start_time": "2023-03-07T19:27:06.233Z"
   },
   {
    "duration": 2798,
    "start_time": "2023-03-07T19:27:06.280Z"
   },
   {
    "duration": 12,
    "start_time": "2023-03-07T19:27:09.083Z"
   },
   {
    "duration": 19,
    "start_time": "2023-03-07T19:27:09.097Z"
   },
   {
    "duration": 27,
    "start_time": "2023-03-07T19:27:09.117Z"
   },
   {
    "duration": 61,
    "start_time": "2023-03-07T19:27:09.145Z"
   },
   {
    "duration": 1955,
    "start_time": "2023-03-07T19:27:09.208Z"
   },
   {
    "duration": 3757,
    "start_time": "2023-03-07T19:27:11.165Z"
   },
   {
    "duration": 24547,
    "start_time": "2023-03-07T19:27:14.924Z"
   },
   {
    "duration": 9113,
    "start_time": "2023-03-07T19:27:39.474Z"
   },
   {
    "duration": 70502,
    "start_time": "2023-03-07T19:27:48.589Z"
   },
   {
    "duration": 6,
    "start_time": "2023-03-07T19:28:59.145Z"
   },
   {
    "duration": 3357,
    "start_time": "2023-03-07T19:35:56.370Z"
   },
   {
    "duration": 1162,
    "start_time": "2023-03-07T19:35:59.729Z"
   },
   {
    "duration": 15,
    "start_time": "2023-03-07T19:36:00.893Z"
   },
   {
    "duration": 71,
    "start_time": "2023-03-07T19:36:00.910Z"
   },
   {
    "duration": 37,
    "start_time": "2023-03-07T19:36:00.984Z"
   },
   {
    "duration": 3288,
    "start_time": "2023-03-07T19:36:01.023Z"
   },
   {
    "duration": 12,
    "start_time": "2023-03-07T19:36:04.313Z"
   },
   {
    "duration": 35,
    "start_time": "2023-03-07T19:36:04.327Z"
   },
   {
    "duration": 26,
    "start_time": "2023-03-07T19:36:04.368Z"
   },
   {
    "duration": 33,
    "start_time": "2023-03-07T19:36:04.395Z"
   },
   {
    "duration": 2193,
    "start_time": "2023-03-07T19:36:04.430Z"
   },
   {
    "duration": 4235,
    "start_time": "2023-03-07T19:36:06.624Z"
   },
   {
    "duration": 27563,
    "start_time": "2023-03-07T19:36:10.864Z"
   },
   {
    "duration": 19465,
    "start_time": "2023-03-07T19:36:38.429Z"
   },
   {
    "duration": 45679,
    "start_time": "2023-03-07T19:36:57.895Z"
   },
   {
    "duration": 70,
    "start_time": "2023-03-07T19:37:43.579Z"
   },
   {
    "duration": 29,
    "start_time": "2023-03-07T19:37:43.659Z"
   },
   {
    "duration": 21167,
    "start_time": "2023-03-07T19:37:43.690Z"
   },
   {
    "duration": 80884,
    "start_time": "2023-03-07T19:38:11.061Z"
   },
   {
    "duration": 129,
    "start_time": "2023-03-07T19:57:53.382Z"
   },
   {
    "duration": 39,
    "start_time": "2023-03-07T19:58:44.860Z"
   },
   {
    "duration": 1435,
    "start_time": "2023-03-07T20:02:26.058Z"
   },
   {
    "duration": 885,
    "start_time": "2023-03-07T20:02:27.495Z"
   },
   {
    "duration": 16,
    "start_time": "2023-03-07T20:02:28.382Z"
   },
   {
    "duration": 48,
    "start_time": "2023-03-07T20:02:28.400Z"
   },
   {
    "duration": 4,
    "start_time": "2023-03-07T20:02:28.452Z"
   },
   {
    "duration": 2675,
    "start_time": "2023-03-07T20:02:28.458Z"
   },
   {
    "duration": 19,
    "start_time": "2023-03-07T20:02:31.135Z"
   },
   {
    "duration": 27,
    "start_time": "2023-03-07T20:02:31.158Z"
   },
   {
    "duration": 45,
    "start_time": "2023-03-07T20:02:31.187Z"
   },
   {
    "duration": 53,
    "start_time": "2023-03-07T20:02:31.236Z"
   },
   {
    "duration": 1970,
    "start_time": "2023-03-07T20:02:31.290Z"
   },
   {
    "duration": 3557,
    "start_time": "2023-03-07T20:02:33.262Z"
   },
   {
    "duration": 23563,
    "start_time": "2023-03-07T20:02:36.821Z"
   },
   {
    "duration": 76635,
    "start_time": "2023-03-07T20:03:00.386Z"
   },
   {
    "duration": 40018,
    "start_time": "2023-03-07T20:04:17.023Z"
   },
   {
    "duration": 6,
    "start_time": "2023-03-07T20:04:57.043Z"
   },
   {
    "duration": 102,
    "start_time": "2023-03-07T20:04:57.051Z"
   },
   {
    "duration": 59,
    "start_time": "2023-03-07T20:04:57.157Z"
   },
   {
    "duration": 18056,
    "start_time": "2023-03-07T20:04:57.218Z"
   },
   {
    "duration": 1607,
    "start_time": "2023-03-08T17:08:52.915Z"
   },
   {
    "duration": 4229,
    "start_time": "2023-03-08T17:08:57.506Z"
   },
   {
    "duration": 22,
    "start_time": "2023-03-08T17:09:01.737Z"
   },
   {
    "duration": 29,
    "start_time": "2023-03-08T17:09:58.910Z"
   },
   {
    "duration": 4,
    "start_time": "2023-03-08T17:10:00.313Z"
   },
   {
    "duration": 3067,
    "start_time": "2023-03-08T17:10:01.335Z"
   },
   {
    "duration": 4,
    "start_time": "2023-03-08T17:11:28.907Z"
   },
   {
    "duration": 131,
    "start_time": "2023-03-08T17:11:29.356Z"
   },
   {
    "duration": 5,
    "start_time": "2023-03-08T17:28:50.828Z"
   },
   {
    "duration": 7,
    "start_time": "2023-03-08T17:45:12.659Z"
   },
   {
    "duration": 137816,
    "start_time": "2023-03-08T17:45:14.250Z"
   },
   {
    "duration": 2878,
    "start_time": "2023-03-08T17:54:10.729Z"
   },
   {
    "duration": 731,
    "start_time": "2023-03-08T17:56:20.904Z"
   },
   {
    "duration": 8,
    "start_time": "2023-03-08T17:56:23.007Z"
   },
   {
    "duration": 30,
    "start_time": "2023-03-08T17:56:23.603Z"
   },
   {
    "duration": 301,
    "start_time": "2023-03-08T17:56:25.319Z"
   },
   {
    "duration": 7,
    "start_time": "2023-03-08T17:58:46.666Z"
   },
   {
    "duration": 469,
    "start_time": "2023-03-08T17:58:48.334Z"
   },
   {
    "duration": 4,
    "start_time": "2023-03-08T17:59:12.504Z"
   },
   {
    "duration": 6358,
    "start_time": "2023-03-08T18:14:05.561Z"
   },
   {
    "duration": 901,
    "start_time": "2023-03-08T18:14:11.921Z"
   },
   {
    "duration": 20,
    "start_time": "2023-03-08T18:14:12.823Z"
   },
   {
    "duration": 56,
    "start_time": "2023-03-08T18:14:12.845Z"
   },
   {
    "duration": 4,
    "start_time": "2023-03-08T18:14:12.904Z"
   },
   {
    "duration": 408,
    "start_time": "2023-03-08T18:14:12.909Z"
   },
   {
    "duration": 0,
    "start_time": "2023-03-08T18:14:13.320Z"
   },
   {
    "duration": 0,
    "start_time": "2023-03-08T18:14:13.320Z"
   },
   {
    "duration": 0,
    "start_time": "2023-03-08T18:14:13.322Z"
   },
   {
    "duration": 0,
    "start_time": "2023-03-08T18:14:13.323Z"
   },
   {
    "duration": 0,
    "start_time": "2023-03-08T18:14:13.324Z"
   },
   {
    "duration": 0,
    "start_time": "2023-03-08T18:14:13.325Z"
   },
   {
    "duration": 0,
    "start_time": "2023-03-08T18:14:13.326Z"
   },
   {
    "duration": 0,
    "start_time": "2023-03-08T18:14:13.327Z"
   },
   {
    "duration": 0,
    "start_time": "2023-03-08T18:14:13.328Z"
   },
   {
    "duration": 0,
    "start_time": "2023-03-08T18:14:13.329Z"
   },
   {
    "duration": 0,
    "start_time": "2023-03-08T18:14:13.330Z"
   },
   {
    "duration": 0,
    "start_time": "2023-03-08T18:14:13.331Z"
   },
   {
    "duration": 0,
    "start_time": "2023-03-08T18:14:13.341Z"
   },
   {
    "duration": 4,
    "start_time": "2023-03-08T18:14:34.883Z"
   },
   {
    "duration": 585,
    "start_time": "2023-03-08T18:14:35.510Z"
   },
   {
    "duration": 579,
    "start_time": "2023-03-08T18:14:48.607Z"
   },
   {
    "duration": 4378,
    "start_time": "2023-03-08T18:20:18.625Z"
   },
   {
    "duration": 807,
    "start_time": "2023-03-08T18:20:23.005Z"
   },
   {
    "duration": 16,
    "start_time": "2023-03-08T18:20:23.814Z"
   },
   {
    "duration": 52,
    "start_time": "2023-03-08T18:20:23.833Z"
   },
   {
    "duration": 3,
    "start_time": "2023-03-08T18:20:23.889Z"
   },
   {
    "duration": 2262,
    "start_time": "2023-03-08T18:20:23.894Z"
   },
   {
    "duration": 19,
    "start_time": "2023-03-08T18:20:26.157Z"
   },
   {
    "duration": 13,
    "start_time": "2023-03-08T18:20:26.178Z"
   },
   {
    "duration": 26,
    "start_time": "2023-03-08T18:20:26.192Z"
   },
   {
    "duration": 54,
    "start_time": "2023-03-08T18:20:26.221Z"
   },
   {
    "duration": 1839,
    "start_time": "2023-03-08T18:20:26.277Z"
   },
   {
    "duration": 3497,
    "start_time": "2023-03-08T18:20:28.117Z"
   },
   {
    "duration": 19690,
    "start_time": "2023-03-08T18:20:31.616Z"
   },
   {
    "duration": 4424,
    "start_time": "2023-03-08T18:21:15.513Z"
   },
   {
    "duration": 781,
    "start_time": "2023-03-08T18:21:19.939Z"
   },
   {
    "duration": 23,
    "start_time": "2023-03-08T18:21:20.721Z"
   },
   {
    "duration": 62,
    "start_time": "2023-03-08T18:21:20.746Z"
   },
   {
    "duration": 4,
    "start_time": "2023-03-08T18:21:20.810Z"
   },
   {
    "duration": 354,
    "start_time": "2023-03-08T18:21:20.815Z"
   },
   {
    "duration": 0,
    "start_time": "2023-03-08T18:21:21.179Z"
   },
   {
    "duration": 0,
    "start_time": "2023-03-08T18:21:21.180Z"
   },
   {
    "duration": 0,
    "start_time": "2023-03-08T18:21:21.181Z"
   },
   {
    "duration": 1,
    "start_time": "2023-03-08T18:21:21.182Z"
   },
   {
    "duration": 0,
    "start_time": "2023-03-08T18:21:21.183Z"
   },
   {
    "duration": 0,
    "start_time": "2023-03-08T18:21:21.185Z"
   },
   {
    "duration": 0,
    "start_time": "2023-03-08T18:21:21.186Z"
   },
   {
    "duration": 0,
    "start_time": "2023-03-08T18:21:21.188Z"
   },
   {
    "duration": 0,
    "start_time": "2023-03-08T18:21:21.190Z"
   },
   {
    "duration": 0,
    "start_time": "2023-03-08T18:21:21.191Z"
   },
   {
    "duration": 0,
    "start_time": "2023-03-08T18:21:21.192Z"
   },
   {
    "duration": 0,
    "start_time": "2023-03-08T18:21:21.193Z"
   },
   {
    "duration": 0,
    "start_time": "2023-03-08T18:21:21.196Z"
   },
   {
    "duration": 20,
    "start_time": "2023-03-08T18:26:12.416Z"
   },
   {
    "duration": 5,
    "start_time": "2023-03-08T18:29:43.064Z"
   },
   {
    "duration": 16,
    "start_time": "2023-03-08T18:29:48.381Z"
   },
   {
    "duration": 30,
    "start_time": "2023-03-08T18:31:38.031Z"
   },
   {
    "duration": 6,
    "start_time": "2023-03-08T18:31:43.802Z"
   },
   {
    "duration": 1179,
    "start_time": "2023-03-08T18:31:46.860Z"
   },
   {
    "duration": 2632,
    "start_time": "2023-03-08T18:32:20.063Z"
   },
   {
    "duration": 210705,
    "start_time": "2023-03-08T18:32:49.622Z"
   },
   {
    "duration": 25,
    "start_time": "2023-03-08T18:36:21.538Z"
   },
   {
    "duration": 20,
    "start_time": "2023-03-08T18:36:30.499Z"
   },
   {
    "duration": 20,
    "start_time": "2023-03-08T18:38:41.980Z"
   },
   {
    "duration": 20999,
    "start_time": "2023-03-08T18:38:48.601Z"
   },
   {
    "duration": 4,
    "start_time": "2023-03-08T18:41:27.587Z"
   },
   {
    "duration": 760,
    "start_time": "2023-03-08T18:41:57.286Z"
   },
   {
    "duration": 8,
    "start_time": "2023-03-08T18:42:00.087Z"
   },
   {
    "duration": 10,
    "start_time": "2023-03-08T18:42:00.810Z"
   },
   {
    "duration": 4,
    "start_time": "2023-03-08T18:42:05.484Z"
   },
   {
    "duration": 20,
    "start_time": "2023-03-08T18:42:06.692Z"
   },
   {
    "duration": 245471,
    "start_time": "2023-03-08T18:42:07.785Z"
   },
   {
    "duration": 17,
    "start_time": "2023-03-08T18:47:38.069Z"
   },
   {
    "duration": 24,
    "start_time": "2023-03-08T18:47:53.670Z"
   },
   {
    "duration": 20,
    "start_time": "2023-03-08T18:51:02.793Z"
   },
   {
    "duration": 12,
    "start_time": "2023-03-08T18:51:40.150Z"
   },
   {
    "duration": 4,
    "start_time": "2023-03-08T18:51:55.720Z"
   },
   {
    "duration": 7,
    "start_time": "2023-03-08T18:52:11.216Z"
   },
   {
    "duration": 8,
    "start_time": "2023-03-08T18:52:22.091Z"
   },
   {
    "duration": 205,
    "start_time": "2023-03-08T18:52:24.209Z"
   },
   {
    "duration": 14,
    "start_time": "2023-03-08T18:52:38.840Z"
   },
   {
    "duration": 112,
    "start_time": "2023-03-08T18:52:44.903Z"
   },
   {
    "duration": 9864,
    "start_time": "2023-03-08T18:52:53.535Z"
   },
   {
    "duration": 26,
    "start_time": "2023-03-08T18:53:03.401Z"
   },
   {
    "duration": 501,
    "start_time": "2023-03-08T18:53:27.047Z"
   },
   {
    "duration": 333,
    "start_time": "2023-03-08T18:53:42.737Z"
   },
   {
    "duration": 4339,
    "start_time": "2023-03-08T18:53:54.433Z"
   },
   {
    "duration": 28,
    "start_time": "2023-03-08T18:54:58.336Z"
   },
   {
    "duration": 20,
    "start_time": "2023-03-08T18:55:05.464Z"
   },
   {
    "duration": 5,
    "start_time": "2023-03-08T18:55:14.173Z"
   },
   {
    "duration": 6,
    "start_time": "2023-03-08T18:55:15.903Z"
   },
   {
    "duration": 8,
    "start_time": "2023-03-08T18:55:16.895Z"
   },
   {
    "duration": 9,
    "start_time": "2023-03-08T18:55:19.288Z"
   },
   {
    "duration": 13,
    "start_time": "2023-03-08T18:55:23.703Z"
   },
   {
    "duration": 5,
    "start_time": "2023-03-08T18:55:28.585Z"
   },
   {
    "duration": 5,
    "start_time": "2023-03-08T18:55:29.120Z"
   },
   {
    "duration": 7,
    "start_time": "2023-03-08T18:55:29.696Z"
   },
   {
    "duration": 8,
    "start_time": "2023-03-08T18:55:31.620Z"
   },
   {
    "duration": 11,
    "start_time": "2023-03-08T18:55:37.389Z"
   },
   {
    "duration": 10,
    "start_time": "2023-03-08T18:55:44.329Z"
   },
   {
    "duration": 112,
    "start_time": "2023-03-08T18:55:47.293Z"
   },
   {
    "duration": 9484,
    "start_time": "2023-03-08T18:55:48.624Z"
   },
   {
    "duration": 43,
    "start_time": "2023-03-08T18:55:58.110Z"
   },
   {
    "duration": 4202,
    "start_time": "2023-03-08T18:55:58.155Z"
   },
   {
    "duration": 3,
    "start_time": "2023-03-08T18:56:02.360Z"
   },
   {
    "duration": 35,
    "start_time": "2023-03-08T18:56:02.365Z"
   },
   {
    "duration": 5,
    "start_time": "2023-03-08T19:00:34.307Z"
   },
   {
    "duration": 849,
    "start_time": "2023-03-08T19:13:21.898Z"
   },
   {
    "duration": 39,
    "start_time": "2023-03-08T19:30:27.616Z"
   },
   {
    "duration": 4,
    "start_time": "2023-03-08T19:30:34.804Z"
   },
   {
    "duration": 19,
    "start_time": "2023-03-08T19:31:24.152Z"
   },
   {
    "duration": 219119,
    "start_time": "2023-03-08T19:31:27.883Z"
   },
   {
    "duration": 5545,
    "start_time": "2023-03-09T09:01:46.270Z"
   },
   {
    "duration": 0,
    "start_time": "2023-03-09T09:01:51.819Z"
   },
   {
    "duration": 0,
    "start_time": "2023-03-09T09:01:51.820Z"
   },
   {
    "duration": 0,
    "start_time": "2023-03-09T09:01:51.822Z"
   },
   {
    "duration": 0,
    "start_time": "2023-03-09T09:01:51.823Z"
   },
   {
    "duration": 0,
    "start_time": "2023-03-09T09:01:51.825Z"
   },
   {
    "duration": 0,
    "start_time": "2023-03-09T09:01:51.840Z"
   },
   {
    "duration": 0,
    "start_time": "2023-03-09T09:01:51.842Z"
   },
   {
    "duration": 0,
    "start_time": "2023-03-09T09:01:51.844Z"
   },
   {
    "duration": 0,
    "start_time": "2023-03-09T09:01:51.846Z"
   },
   {
    "duration": 0,
    "start_time": "2023-03-09T09:01:51.848Z"
   },
   {
    "duration": 0,
    "start_time": "2023-03-09T09:01:51.850Z"
   },
   {
    "duration": 0,
    "start_time": "2023-03-09T09:01:51.851Z"
   },
   {
    "duration": 0,
    "start_time": "2023-03-09T09:01:51.853Z"
   },
   {
    "duration": 0,
    "start_time": "2023-03-09T09:01:51.855Z"
   },
   {
    "duration": 0,
    "start_time": "2023-03-09T09:01:51.856Z"
   },
   {
    "duration": 0,
    "start_time": "2023-03-09T09:01:51.857Z"
   },
   {
    "duration": 0,
    "start_time": "2023-03-09T09:01:51.859Z"
   },
   {
    "duration": 0,
    "start_time": "2023-03-09T09:01:51.860Z"
   },
   {
    "duration": 0,
    "start_time": "2023-03-09T09:01:51.862Z"
   },
   {
    "duration": 37,
    "start_time": "2023-03-09T09:02:15.865Z"
   },
   {
    "duration": 3434,
    "start_time": "2023-03-09T09:02:18.550Z"
   },
   {
    "duration": 18,
    "start_time": "2023-03-09T09:02:21.988Z"
   },
   {
    "duration": 18,
    "start_time": "2023-03-09T09:02:22.008Z"
   },
   {
    "duration": 5,
    "start_time": "2023-03-09T09:02:25.321Z"
   },
   {
    "duration": 69,
    "start_time": "2023-03-09T09:03:25.263Z"
   },
   {
    "duration": 6,
    "start_time": "2023-03-09T09:03:56.505Z"
   },
   {
    "duration": 86,
    "start_time": "2023-03-09T09:03:58.329Z"
   },
   {
    "duration": 5,
    "start_time": "2023-03-09T09:08:02.371Z"
   },
   {
    "duration": 1245,
    "start_time": "2023-03-09T09:08:03.176Z"
   },
   {
    "duration": 5,
    "start_time": "2023-03-09T09:08:29.202Z"
   },
   {
    "duration": 47,
    "start_time": "2023-03-09T09:08:31.689Z"
   },
   {
    "duration": 425,
    "start_time": "2023-03-09T09:09:35.458Z"
   },
   {
    "duration": 4,
    "start_time": "2023-03-09T09:09:42.496Z"
   },
   {
    "duration": 54,
    "start_time": "2023-03-09T09:09:42.952Z"
   },
   {
    "duration": 460,
    "start_time": "2023-03-09T09:09:54.630Z"
   },
   {
    "duration": 5,
    "start_time": "2023-03-09T09:10:00.574Z"
   },
   {
    "duration": 101,
    "start_time": "2023-03-09T09:10:01.186Z"
   },
   {
    "duration": 20,
    "start_time": "2023-03-09T09:10:11.113Z"
   },
   {
    "duration": 3426,
    "start_time": "2023-03-09T09:10:13.902Z"
   },
   {
    "duration": 4320,
    "start_time": "2023-03-09T09:10:44.805Z"
   },
   {
    "duration": 791,
    "start_time": "2023-03-09T09:10:49.127Z"
   },
   {
    "duration": 13,
    "start_time": "2023-03-09T09:10:49.920Z"
   },
   {
    "duration": 41,
    "start_time": "2023-03-09T09:10:49.940Z"
   },
   {
    "duration": 6,
    "start_time": "2023-03-09T09:10:49.984Z"
   },
   {
    "duration": 1306,
    "start_time": "2023-03-09T09:10:49.991Z"
   },
   {
    "duration": 2305,
    "start_time": "2023-03-09T09:10:51.298Z"
   },
   {
    "duration": 61489,
    "start_time": "2023-03-09T09:10:53.605Z"
   },
   {
    "duration": 0,
    "start_time": "2023-03-09T09:11:55.096Z"
   },
   {
    "duration": 0,
    "start_time": "2023-03-09T09:11:55.098Z"
   },
   {
    "duration": 0,
    "start_time": "2023-03-09T09:11:55.100Z"
   },
   {
    "duration": 0,
    "start_time": "2023-03-09T09:11:55.101Z"
   },
   {
    "duration": 0,
    "start_time": "2023-03-09T09:11:55.102Z"
   },
   {
    "duration": 0,
    "start_time": "2023-03-09T09:11:55.103Z"
   },
   {
    "duration": 0,
    "start_time": "2023-03-09T09:11:55.103Z"
   },
   {
    "duration": 0,
    "start_time": "2023-03-09T09:11:55.104Z"
   },
   {
    "duration": 0,
    "start_time": "2023-03-09T09:11:55.105Z"
   },
   {
    "duration": 0,
    "start_time": "2023-03-09T09:11:55.106Z"
   },
   {
    "duration": 0,
    "start_time": "2023-03-09T09:11:55.107Z"
   },
   {
    "duration": 0,
    "start_time": "2023-03-09T09:11:55.108Z"
   },
   {
    "duration": 0,
    "start_time": "2023-03-09T09:11:55.109Z"
   },
   {
    "duration": 4558,
    "start_time": "2023-03-09T09:12:02.628Z"
   },
   {
    "duration": 897,
    "start_time": "2023-03-09T09:12:07.188Z"
   },
   {
    "duration": 17,
    "start_time": "2023-03-09T09:12:08.087Z"
   },
   {
    "duration": 35,
    "start_time": "2023-03-09T09:12:08.107Z"
   },
   {
    "duration": 15,
    "start_time": "2023-03-09T09:12:08.145Z"
   },
   {
    "duration": 1440,
    "start_time": "2023-03-09T09:12:08.162Z"
   },
   {
    "duration": 99,
    "start_time": "2023-03-09T09:12:09.604Z"
   },
   {
    "duration": 36238,
    "start_time": "2023-03-09T09:12:09.705Z"
   },
   {
    "duration": 7,
    "start_time": "2023-03-09T09:12:45.945Z"
   },
   {
    "duration": 42,
    "start_time": "2023-03-09T09:12:45.954Z"
   },
   {
    "duration": 14,
    "start_time": "2023-03-09T09:12:45.999Z"
   },
   {
    "duration": 10,
    "start_time": "2023-03-09T09:12:46.015Z"
   },
   {
    "duration": 70,
    "start_time": "2023-03-09T09:12:46.027Z"
   },
   {
    "duration": 69,
    "start_time": "2023-03-09T09:12:46.099Z"
   },
   {
    "duration": 425,
    "start_time": "2023-03-09T09:12:46.170Z"
   },
   {
    "duration": 12195,
    "start_time": "2023-03-09T09:12:46.598Z"
   },
   {
    "duration": 323,
    "start_time": "2023-03-09T09:12:58.795Z"
   },
   {
    "duration": 0,
    "start_time": "2023-03-09T09:12:59.120Z"
   },
   {
    "duration": 0,
    "start_time": "2023-03-09T09:12:59.121Z"
   },
   {
    "duration": 0,
    "start_time": "2023-03-09T09:12:59.123Z"
   },
   {
    "duration": 0,
    "start_time": "2023-03-09T09:12:59.124Z"
   },
   {
    "duration": 4,
    "start_time": "2023-03-09T09:13:39.607Z"
   },
   {
    "duration": 4,
    "start_time": "2023-03-09T09:13:54.929Z"
   },
   {
    "duration": 6,
    "start_time": "2023-03-09T09:14:02.695Z"
   },
   {
    "duration": 18,
    "start_time": "2023-03-09T09:14:23.831Z"
   },
   {
    "duration": 6,
    "start_time": "2023-03-09T09:15:05.384Z"
   },
   {
    "duration": 23,
    "start_time": "2023-03-09T09:15:37.930Z"
   },
   {
    "duration": 6,
    "start_time": "2023-03-09T09:15:56.255Z"
   },
   {
    "duration": 2503,
    "start_time": "2023-03-09T09:16:57.224Z"
   },
   {
    "duration": 13136,
    "start_time": "2023-03-09T09:17:13.014Z"
   },
   {
    "duration": 4,
    "start_time": "2023-03-09T09:17:36.369Z"
   },
   {
    "duration": 20,
    "start_time": "2023-03-09T09:17:37.646Z"
   },
   {
    "duration": 30,
    "start_time": "2023-03-09T09:18:29.506Z"
   },
   {
    "duration": 32,
    "start_time": "2023-03-09T09:18:35.622Z"
   },
   {
    "duration": 4359,
    "start_time": "2023-03-09T09:18:48.999Z"
   },
   {
    "duration": 858,
    "start_time": "2023-03-09T09:18:53.360Z"
   },
   {
    "duration": 23,
    "start_time": "2023-03-09T09:18:54.220Z"
   },
   {
    "duration": 12,
    "start_time": "2023-03-09T09:18:54.246Z"
   },
   {
    "duration": 5,
    "start_time": "2023-03-09T09:18:54.261Z"
   },
   {
    "duration": 1579,
    "start_time": "2023-03-09T09:18:54.268Z"
   },
   {
    "duration": 0,
    "start_time": "2023-03-09T09:18:55.849Z"
   },
   {
    "duration": 0,
    "start_time": "2023-03-09T09:18:55.851Z"
   },
   {
    "duration": 0,
    "start_time": "2023-03-09T09:18:55.852Z"
   },
   {
    "duration": 0,
    "start_time": "2023-03-09T09:18:55.853Z"
   },
   {
    "duration": 0,
    "start_time": "2023-03-09T09:18:55.854Z"
   },
   {
    "duration": 0,
    "start_time": "2023-03-09T09:18:55.855Z"
   },
   {
    "duration": 0,
    "start_time": "2023-03-09T09:18:55.856Z"
   },
   {
    "duration": 0,
    "start_time": "2023-03-09T09:18:55.857Z"
   },
   {
    "duration": 0,
    "start_time": "2023-03-09T09:18:55.858Z"
   },
   {
    "duration": 0,
    "start_time": "2023-03-09T09:18:55.859Z"
   },
   {
    "duration": 0,
    "start_time": "2023-03-09T09:18:55.860Z"
   },
   {
    "duration": 0,
    "start_time": "2023-03-09T09:18:55.861Z"
   },
   {
    "duration": 0,
    "start_time": "2023-03-09T09:18:55.862Z"
   },
   {
    "duration": 0,
    "start_time": "2023-03-09T09:18:55.863Z"
   },
   {
    "duration": 0,
    "start_time": "2023-03-09T09:18:55.864Z"
   },
   {
    "duration": 4509,
    "start_time": "2023-03-09T09:19:45.655Z"
   },
   {
    "duration": 800,
    "start_time": "2023-03-09T09:19:50.166Z"
   },
   {
    "duration": 14,
    "start_time": "2023-03-09T09:19:50.968Z"
   },
   {
    "duration": 30,
    "start_time": "2023-03-09T09:19:50.984Z"
   },
   {
    "duration": 5,
    "start_time": "2023-03-09T09:19:51.016Z"
   },
   {
    "duration": 2343,
    "start_time": "2023-03-09T09:19:51.040Z"
   },
   {
    "duration": 1203311,
    "start_time": "2023-03-09T09:19:53.385Z"
   },
   {
    "duration": 68,
    "start_time": "2023-03-09T09:39:56.698Z"
   },
   {
    "duration": 19,
    "start_time": "2023-03-09T09:39:56.768Z"
   },
   {
    "duration": 37,
    "start_time": "2023-03-09T09:39:56.790Z"
   },
   {
    "duration": 44,
    "start_time": "2023-03-09T09:39:56.829Z"
   },
   {
    "duration": 1071,
    "start_time": "2023-03-09T09:39:56.874Z"
   },
   {
    "duration": 1805,
    "start_time": "2023-03-09T09:39:57.947Z"
   },
   {
    "duration": 17962,
    "start_time": "2023-03-09T09:39:59.754Z"
   },
   {
    "duration": 77966,
    "start_time": "2023-03-09T09:40:17.718Z"
   }
  ],
  "kernelspec": {
   "display_name": "Python 3 (ipykernel)",
   "language": "python",
   "name": "python3"
  },
  "language_info": {
   "codemirror_mode": {
    "name": "ipython",
    "version": 3
   },
   "file_extension": ".py",
   "mimetype": "text/x-python",
   "name": "python",
   "nbconvert_exporter": "python",
   "pygments_lexer": "ipython3",
   "version": "3.9.12"
  },
  "toc": {
   "base_numbering": 1,
   "nav_menu": {},
   "number_sections": true,
   "sideBar": true,
   "skip_h1_title": true,
   "title_cell": "Содержание",
   "title_sidebar": "Contents",
   "toc_cell": true,
   "toc_position": {
    "height": "calc(100% - 180px)",
    "left": "10px",
    "top": "150px",
    "width": "302.391px"
   },
   "toc_section_display": true,
   "toc_window_display": false
  }
 },
 "nbformat": 4,
 "nbformat_minor": 2
}
