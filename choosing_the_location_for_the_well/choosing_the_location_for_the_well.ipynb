{
 "cells": [
  {
   "cell_type": "markdown",
   "metadata": {},
   "source": [
    "# Выбор локации для скважины"
   ]
  },
  {
   "cell_type": "markdown",
   "metadata": {},
   "source": [
    "**Описание проекта**\n",
    "\n",
    "Предоставлены данные добывающей компанией «ГлавРосГосНефть» о пробах нефти в трёх регионах: в каждом 10 000 месторождений, где измерили качество нефти и объём её запасов. "
   ]
  },
  {
   "cell_type": "markdown",
   "metadata": {},
   "source": [
    "**Цель проекта**\n",
    "\n",
    "Требуется постройте модель машинного обучения, которая поможет определить регион, где добыча принесёт наибольшую прибыль. \n",
    "\n",
    "Необходимо проанализировать возможную прибыль и риски."
   ]
  },
  {
   "cell_type": "markdown",
   "metadata": {},
   "source": [
    "**Шаги для выбора локации**\n",
    "\n",
    "- В избранном регионе ищут месторождения, для каждого определяют значения признаков;\n",
    "- Строят модель и оценивают объём запасов;\n",
    "- Выбирают месторождения с самым высокими оценками значений. Количество месторождений зависит от бюджета компании и стоимости разработки одной скважины;\n",
    "- Прибыль равна суммарной прибыли отобранных месторождений."
   ]
  },
  {
   "cell_type": "markdown",
   "metadata": {},
   "source": [
    "**Описание данных**\n",
    "\n",
    "*Признаки*\n",
    "\n",
    "- id — уникальный идентификатор скважины;\n",
    "- f0, f1, f2 — три признака точек (неважно, что они означают, но сами признаки значимы);\n",
    "\n",
    "*Целевой признак*\n",
    "- product — объём запасов в скважине (тыс. баррелей)."
   ]
  },
  {
   "cell_type": "markdown",
   "metadata": {},
   "source": [
    "**Условия задачи**\n",
    "\n",
    "- Для обучения модели подходит только линейная регрессия (остальные — недостаточно предсказуемые).\n",
    "- При разведке региона исследуют 500 точек, из которых с помощью машинного обучения выбирают 200 лучших для разработки.\n",
    "- Бюджет на разработку скважин в регионе — 10 млрд рублей.\n",
    "- При нынешних ценах один баррель сырья приносит 450 рублей дохода. Доход с каждой единицы продукта составляет 450 тыс. рублей, поскольку объём указан в тысячах баррелей.\n",
    "- После оценки рисков нужно оставить лишь те регионы, в которых вероятность убытков меньше 2.5%. Среди них выбирают регион с наибольшей средней прибылью.\n",
    "\n",
    "Данные синтетические: детали контрактов и характеристики месторождений не разглашаются."
   ]
  },
  {
   "cell_type": "markdown",
   "metadata": {},
   "source": [
    "## Загрузка и подготовка данных"
   ]
  },
  {
   "cell_type": "markdown",
   "metadata": {},
   "source": [
    "Импортируем библиотеки и функции."
   ]
  },
  {
   "cell_type": "code",
   "execution_count": 1,
   "metadata": {},
   "outputs": [],
   "source": [
    "import numpy as np\n",
    "import pandas as pd\n",
    "import matplotlib.pyplot as plt\n",
    "import warnings\n",
    "\n",
    "from sklearn.metrics import mean_squared_error\n",
    "from sklearn.model_selection import train_test_split\n",
    "from sklearn.linear_model import LinearRegression\n",
    "from sklearn.preprocessing import StandardScaler"
   ]
  },
  {
   "cell_type": "markdown",
   "metadata": {},
   "source": [
    "Загрузим файлы."
   ]
  },
  {
   "cell_type": "code",
   "execution_count": 2,
   "metadata": {},
   "outputs": [],
   "source": [
    "geo_data_0 = pd.read_csv('/datasets/geo_data_0.csv')\n",
    "geo_data_1 = pd.read_csv('/datasets/geo_data_1.csv')\n",
    "geo_data_2 = pd.read_csv('/datasets/geo_data_2.csv')"
   ]
  },
  {
   "cell_type": "markdown",
   "metadata": {},
   "source": [
    "Напишем функцию для получения информации по предоставленным данным."
   ]
  },
  {
   "cell_type": "code",
   "execution_count": 3,
   "metadata": {},
   "outputs": [],
   "source": [
    "def getting_information_about_data(df):\n",
    "    print()\n",
    "    print(df.head())\n",
    "    print()\n",
    "    print(df.info())\n",
    "    print()\n",
    "    print(df.describe())\n",
    "    print()\n",
    "    df['product'].hist(bins = 100);\n",
    "    plt.show()"
   ]
  },
  {
   "cell_type": "markdown",
   "metadata": {},
   "source": [
    "Получим информацию по предоставленным данным."
   ]
  },
  {
   "cell_type": "code",
   "execution_count": 4,
   "metadata": {},
   "outputs": [
    {
     "name": "stdout",
     "output_type": "stream",
     "text": [
      "Информация по geo_data_0\n",
      "\n",
      "      id        f0        f1        f2     product\n",
      "0  txEyH  0.705745 -0.497823  1.221170  105.280062\n",
      "1  2acmU  1.334711 -0.340164  4.365080   73.037750\n",
      "2  409Wp  1.022732  0.151990  1.419926   85.265647\n",
      "3  iJLyR -0.032172  0.139033  2.978566  168.620776\n",
      "4  Xdl7t  1.988431  0.155413  4.751769  154.036647\n",
      "\n",
      "<class 'pandas.core.frame.DataFrame'>\n",
      "RangeIndex: 100000 entries, 0 to 99999\n",
      "Data columns (total 5 columns):\n",
      " #   Column   Non-Null Count   Dtype  \n",
      "---  ------   --------------   -----  \n",
      " 0   id       100000 non-null  object \n",
      " 1   f0       100000 non-null  float64\n",
      " 2   f1       100000 non-null  float64\n",
      " 3   f2       100000 non-null  float64\n",
      " 4   product  100000 non-null  float64\n",
      "dtypes: float64(4), object(1)\n",
      "memory usage: 3.8+ MB\n",
      "None\n",
      "\n",
      "                  f0             f1             f2        product\n",
      "count  100000.000000  100000.000000  100000.000000  100000.000000\n",
      "mean        0.500419       0.250143       2.502647      92.500000\n",
      "std         0.871832       0.504433       3.248248      44.288691\n",
      "min        -1.408605      -0.848218     -12.088328       0.000000\n",
      "25%        -0.072580      -0.200881       0.287748      56.497507\n",
      "50%         0.502360       0.250252       2.515969      91.849972\n",
      "75%         1.073581       0.700646       4.715088     128.564089\n",
      "max         2.362331       1.343769      16.003790     185.364347\n",
      "\n"
     ]
    },
    {
     "data": {
      "image/png": "[encoded data removed]",
      "text/plain": [
       "<Figure size 432x288 with 1 Axes>"
      ]
     },
     "metadata": {
      "needs_background": "light"
     },
     "output_type": "display_data"
    }
   ],
   "source": [
    "print('Информация по geo_data_0')\n",
    "getting_information_about_data(geo_data_0)"
   ]
  },
  {
   "cell_type": "code",
   "execution_count": 5,
   "metadata": {},
   "outputs": [
    {
     "name": "stdout",
     "output_type": "stream",
     "text": [
      "Информация по geo_data_1\n",
      "\n",
      "      id         f0         f1        f2     product\n",
      "0  kBEdx -15.001348  -8.276000 -0.005876    3.179103\n",
      "1  62mP7  14.272088  -3.475083  0.999183   26.953261\n",
      "2  vyE1P   6.263187  -5.948386  5.001160  134.766305\n",
      "3  KcrkZ -13.081196 -11.506057  4.999415  137.945408\n",
      "4  AHL4O  12.702195  -8.147433  5.004363  134.766305\n",
      "\n",
      "<class 'pandas.core.frame.DataFrame'>\n",
      "RangeIndex: 100000 entries, 0 to 99999\n",
      "Data columns (total 5 columns):\n",
      " #   Column   Non-Null Count   Dtype  \n",
      "---  ------   --------------   -----  \n",
      " 0   id       100000 non-null  object \n",
      " 1   f0       100000 non-null  float64\n",
      " 2   f1       100000 non-null  float64\n",
      " 3   f2       100000 non-null  float64\n",
      " 4   product  100000 non-null  float64\n",
      "dtypes: float64(4), object(1)\n",
      "memory usage: 3.8+ MB\n",
      "None\n",
      "\n",
      "                  f0             f1             f2        product\n",
      "count  100000.000000  100000.000000  100000.000000  100000.000000\n",
      "mean        1.141296      -4.796579       2.494541      68.825000\n",
      "std         8.965932       5.119872       1.703572      45.944423\n",
      "min       -31.609576     -26.358598      -0.018144       0.000000\n",
      "25%        -6.298551      -8.267985       1.000021      26.953261\n",
      "50%         1.153055      -4.813172       2.011479      57.085625\n",
      "75%         8.621015      -1.332816       3.999904     107.813044\n",
      "max        29.421755      18.734063       5.019721     137.945408\n",
      "\n"
     ]
    },
    {
     "data": {
      "image/png": "[encoded data removed]",
      "text/plain": [
       "<Figure size 432x288 with 1 Axes>"
      ]
     },
     "metadata": {
      "needs_background": "light"
     },
     "output_type": "display_data"
    }
   ],
   "source": [
    "print('Информация по geo_data_1')\n",
    "getting_information_about_data(geo_data_1)"
   ]
  },
  {
   "cell_type": "code",
   "execution_count": 6,
   "metadata": {},
   "outputs": [
    {
     "name": "stdout",
     "output_type": "stream",
     "text": [
      "Информация по geo_data_2\n",
      "\n",
      "      id        f0        f1        f2     product\n",
      "0  fwXo0 -1.146987  0.963328 -0.828965   27.758673\n",
      "1  WJtFt  0.262778  0.269839 -2.530187   56.069697\n",
      "2  ovLUW  0.194587  0.289035 -5.586433   62.871910\n",
      "3  q6cA6  2.236060 -0.553760  0.930038  114.572842\n",
      "4  WPMUX -0.515993  1.716266  5.899011  149.600746\n",
      "\n",
      "<class 'pandas.core.frame.DataFrame'>\n",
      "RangeIndex: 100000 entries, 0 to 99999\n",
      "Data columns (total 5 columns):\n",
      " #   Column   Non-Null Count   Dtype  \n",
      "---  ------   --------------   -----  \n",
      " 0   id       100000 non-null  object \n",
      " 1   f0       100000 non-null  float64\n",
      " 2   f1       100000 non-null  float64\n",
      " 3   f2       100000 non-null  float64\n",
      " 4   product  100000 non-null  float64\n",
      "dtypes: float64(4), object(1)\n",
      "memory usage: 3.8+ MB\n",
      "None\n",
      "\n",
      "                  f0             f1             f2        product\n",
      "count  100000.000000  100000.000000  100000.000000  100000.000000\n",
      "mean        0.002023      -0.002081       2.495128      95.000000\n",
      "std         1.732045       1.730417       3.473445      44.749921\n",
      "min        -8.760004      -7.084020     -11.970335       0.000000\n",
      "25%        -1.162288      -1.174820       0.130359      59.450441\n",
      "50%         0.009424      -0.009482       2.484236      94.925613\n",
      "75%         1.158535       1.163678       4.858794     130.595027\n",
      "max         7.238262       7.844801      16.739402     190.029838\n",
      "\n"
     ]
    },
    {
     "data": {
      "image/png": "[encoded data removed]",
      "text/plain": [
       "<Figure size 432x288 with 1 Axes>"
      ]
     },
     "metadata": {
      "needs_background": "light"
     },
     "output_type": "display_data"
    }
   ],
   "source": [
    "print('Информация по geo_data_2')\n",
    "getting_information_about_data(geo_data_2)"
   ]
  },
  {
   "cell_type": "markdown",
   "metadata": {},
   "source": [
    "Проверим на наличие дубликатов в данных geo_data_0."
   ]
  },
  {
   "cell_type": "code",
   "execution_count": 7,
   "metadata": {},
   "outputs": [
    {
     "data": {
      "text/plain": [
       "0"
      ]
     },
     "execution_count": 7,
     "metadata": {},
     "output_type": "execute_result"
    }
   ],
   "source": [
    "geo_data_0.duplicated().sum()"
   ]
  },
  {
   "cell_type": "markdown",
   "metadata": {},
   "source": [
    "Полные дубликаты отсутствуют. Проверим наличие дубликатов по id."
   ]
  },
  {
   "cell_type": "code",
   "execution_count": 8,
   "metadata": {},
   "outputs": [
    {
     "data": {
      "text/plain": [
       "10"
      ]
     },
     "execution_count": 8,
     "metadata": {},
     "output_type": "execute_result"
    }
   ],
   "source": [
    "geo_data_0['id'].duplicated().sum()"
   ]
  },
  {
   "cell_type": "markdown",
   "metadata": {},
   "source": [
    "Найдено 10 дубликатов. Удалим соответствующие строки."
   ]
  },
  {
   "cell_type": "code",
   "execution_count": 9,
   "metadata": {},
   "outputs": [],
   "source": [
    "geo_data_0 = geo_data_0.drop_duplicates(subset=['id'], keep='first')"
   ]
  },
  {
   "cell_type": "markdown",
   "metadata": {},
   "source": [
    "Проверим на наличие дубликатов в данных geo_data_1."
   ]
  },
  {
   "cell_type": "code",
   "execution_count": 10,
   "metadata": {},
   "outputs": [
    {
     "data": {
      "text/plain": [
       "0"
      ]
     },
     "execution_count": 10,
     "metadata": {},
     "output_type": "execute_result"
    }
   ],
   "source": [
    "geo_data_1.duplicated().sum()"
   ]
  },
  {
   "cell_type": "markdown",
   "metadata": {},
   "source": [
    "Полные дубликаты отсутствуют. Проверим наличие дубликатов по id."
   ]
  },
  {
   "cell_type": "code",
   "execution_count": 11,
   "metadata": {},
   "outputs": [
    {
     "data": {
      "text/plain": [
       "4"
      ]
     },
     "execution_count": 11,
     "metadata": {},
     "output_type": "execute_result"
    }
   ],
   "source": [
    "geo_data_1['id'].duplicated().sum()"
   ]
  },
  {
   "cell_type": "markdown",
   "metadata": {},
   "source": [
    "Найдено 4 дубликата. Удалим соответствующие строки."
   ]
  },
  {
   "cell_type": "code",
   "execution_count": 12,
   "metadata": {},
   "outputs": [],
   "source": [
    "geo_data_1 = geo_data_1.drop_duplicates(subset=['id'], keep='first')"
   ]
  },
  {
   "cell_type": "markdown",
   "metadata": {},
   "source": [
    "Проверим на наличие дубликатов в данных geo_data_2."
   ]
  },
  {
   "cell_type": "code",
   "execution_count": 13,
   "metadata": {},
   "outputs": [
    {
     "data": {
      "text/plain": [
       "0"
      ]
     },
     "execution_count": 13,
     "metadata": {},
     "output_type": "execute_result"
    }
   ],
   "source": [
    "geo_data_2.duplicated().sum()"
   ]
  },
  {
   "cell_type": "markdown",
   "metadata": {},
   "source": [
    "Полные дубликаты отсутствуют. Проверим наличие дубликатов по id."
   ]
  },
  {
   "cell_type": "code",
   "execution_count": 14,
   "metadata": {},
   "outputs": [
    {
     "data": {
      "text/plain": [
       "4"
      ]
     },
     "execution_count": 14,
     "metadata": {},
     "output_type": "execute_result"
    }
   ],
   "source": [
    "geo_data_2['id'].duplicated().sum()"
   ]
  },
  {
   "cell_type": "markdown",
   "metadata": {},
   "source": [
    "Найдено 4 дубликата. Удалим соответствующие строки."
   ]
  },
  {
   "cell_type": "code",
   "execution_count": 15,
   "metadata": {},
   "outputs": [],
   "source": [
    "geo_data_2 = geo_data_2.drop_duplicates(subset=['id'], keep='first')"
   ]
  },
  {
   "cell_type": "markdown",
   "metadata": {},
   "source": [
    "**Вывод:**\n",
    "\n",
    "Были загруженны данные. \n",
    "Изученна информация. \n",
    "Была проведена проверка на дубликаты.\n",
    "Удалены сроки с дубликатами по id."
   ]
  },
  {
   "cell_type": "markdown",
   "metadata": {},
   "source": [
    "## Обучение и проверка модели"
   ]
  },
  {
   "cell_type": "markdown",
   "metadata": {},
   "source": [
    "Напишем функцию для обучения и проверки моделей."
   ]
  },
  {
   "cell_type": "code",
   "execution_count": 16,
   "metadata": {},
   "outputs": [],
   "source": [
    "def model_training_and_validation(geo_data):\n",
    "    #Разделим данные на целевой признак и все остальные.\n",
    "    target_geo_data = geo_data['product']\n",
    "    features_geo_data = geo_data.drop(['id','product'],axis=1)\n",
    "    \n",
    "    #Разобьем данные на обучающую и валидационную выборки в соотношении 75:25\n",
    "    features_train_geo_data, features_valid_geo_data, target_train_geo_data, target_valid_geo_data = train_test_split(features_geo_data, target_geo_data, test_size = 0.25, random_state = 12345)\n",
    "    \n",
    "    #Приведем численные признаки к одному масштабу.\n",
    "    numeric = ['f0','f1','f2']\n",
    "    scaler = StandardScaler()\n",
    "    scaler.fit(features_train_geo_data.loc[:,numeric])\n",
    "    features_train_geo_data.loc[:,numeric] = scaler.transform(features_train_geo_data.loc[:,numeric])\n",
    "    features_valid_geo_data.loc[:,numeric] = scaler.transform(features_valid_geo_data.loc[:,numeric])  \n",
    "    \n",
    "    #Обучим модели. Для обучения модели подходит только линейная регрессия (остальные — недостаточно предсказуемые)\n",
    "    model = LinearRegression()\n",
    "    model.fit(features_train_geo_data, target_train_geo_data)\n",
    "    predictions_valid = model.predict(features_valid_geo_data)\n",
    "    \n",
    "    mean_prediction_margin = round(predictions_valid.mean(),2)\n",
    "    rmse = mean_squared_error(target_valid_geo_data, predictions_valid)**0.5\n",
    "    \n",
    "    return target_valid_geo_data, predictions_valid, mean_prediction_margin, rmse"
   ]
  },
  {
   "cell_type": "code",
   "execution_count": 17,
   "metadata": {},
   "outputs": [],
   "source": [
    "warnings.filterwarnings(\"ignore\")"
   ]
  },
  {
   "cell_type": "code",
   "execution_count": 18,
   "metadata": {},
   "outputs": [
    {
     "name": "stdout",
     "output_type": "stream",
     "text": [
      "Данные по первому региону\n",
      "Средний запас предсказания 92.79\n",
      "RMSE модели 37.853527328872964\n"
     ]
    }
   ],
   "source": [
    "print('Данные по первому региону')\n",
    "target_valid_geo_data_0, predictions_valid_0, mean_prediction_margin_0, rmse_0 = model_training_and_validation(geo_data_0)\n",
    "print('Средний запас предсказания', mean_prediction_margin_0)\n",
    "print('RMSE модели', rmse_0)"
   ]
  },
  {
   "cell_type": "code",
   "execution_count": 19,
   "metadata": {},
   "outputs": [
    {
     "name": "stdout",
     "output_type": "stream",
     "text": [
      "Данные по второму региону\n",
      "Средний запас предсказания 69.18\n",
      "RMSE модели 0.8920592647717023\n"
     ]
    }
   ],
   "source": [
    "print('Данные по второму региону')\n",
    "target_valid_geo_data_1, predictions_valid_1, mean_prediction_margin_1, rmse_1 = model_training_and_validation(geo_data_1)\n",
    "print('Средний запас предсказания', mean_prediction_margin_1)\n",
    "print('RMSE модели', rmse_1)"
   ]
  },
  {
   "cell_type": "code",
   "execution_count": 20,
   "metadata": {},
   "outputs": [
    {
     "name": "stdout",
     "output_type": "stream",
     "text": [
      "Данные по третьему региону\n",
      "Средний запас предсказания 94.87\n",
      "RMSE модели 40.07585073246016\n"
     ]
    }
   ],
   "source": [
    "print('Данные по третьему региону')\n",
    "target_valid_geo_data_2, predictions_valid_2, mean_prediction_margin_2, rmse_2 = model_training_and_validation(geo_data_2)\n",
    "print('Средний запас предсказания', mean_prediction_margin_2)\n",
    "print('RMSE модели', rmse_2)"
   ]
  },
  {
   "cell_type": "markdown",
   "metadata": {},
   "source": [
    "Обучим модели. Для обучения модели подходит только линейная регрессия (остальные — недостаточно предсказуемые)"
   ]
  },
  {
   "cell_type": "markdown",
   "metadata": {},
   "source": [
    "**Вывод:**\n",
    "\n",
    "1. Разделили данные на целевой признак и все остальные. Разбили данные на обучающую и валидационную выборки в соотношении 75:25.\n",
    "2. Привели численные признаки к одному масштабу.\n",
    "3. Обучим модели. Для обучения модели подходит только линейная регрессия (остальные — недостаточно предсказуемые).\n",
    "4. Посчитали средний запас предсказанного сырья и RMSE моделей. \n",
    "\n",
    "   Для первого региона средний запас предсказания 92.79, RMSE модели 37.85.\n",
    "   \n",
    "   Для второго региона средний запас предсказания 69.18, RMSE модели 0.89.\n",
    "   \n",
    "   Для первого региона средний запас предсказания 94.87, RMSE модели 40.08."
   ]
  },
  {
   "cell_type": "markdown",
   "metadata": {},
   "source": [
    "## Подготовка к расчёту прибыли"
   ]
  },
  {
   "cell_type": "markdown",
   "metadata": {},
   "source": [
    "Все ключевые значения для расчётов сохраним в отдельных переменных."
   ]
  },
  {
   "cell_type": "code",
   "execution_count": 21,
   "metadata": {},
   "outputs": [],
   "source": [
    "WELL_DEVELOPMENT_BUDGET_IS_BILLIONS = 10000000000\n",
    "REVENUE_PER_UNIT_OF_PRODUCT = 450000\n",
    "NUMBER_OF_POINTS_TO_EXPLORE = 200"
   ]
  },
  {
   "cell_type": "markdown",
   "metadata": {},
   "source": [
    "Рассчитаем достаточный объём сырья для безубыточной разработки новой скважины. "
   ]
  },
  {
   "cell_type": "markdown",
   "metadata": {},
   "source": [
    "Бюджет для одной точки"
   ]
  },
  {
   "cell_type": "code",
   "execution_count": 22,
   "metadata": {},
   "outputs": [
    {
     "data": {
      "text/plain": [
       "50000000.0"
      ]
     },
     "execution_count": 22,
     "metadata": {},
     "output_type": "execute_result"
    }
   ],
   "source": [
    "BUDGET_FOR_ONE_POINT = WELL_DEVELOPMENT_BUDGET_IS_BILLIONS/NUMBER_OF_POINTS_TO_EXPLORE\n",
    "BUDGET_FOR_ONE_POINT"
   ]
  },
  {
   "cell_type": "markdown",
   "metadata": {},
   "source": [
    "Сколько тыс. баррелей должно быть в одной точке, чтобы не было убытков"
   ]
  },
  {
   "cell_type": "code",
   "execution_count": 23,
   "metadata": {},
   "outputs": [
    {
     "data": {
      "text/plain": [
       "111.11"
      ]
     },
     "execution_count": 23,
     "metadata": {},
     "output_type": "execute_result"
    }
   ],
   "source": [
    "round(BUDGET_FOR_ONE_POINT/REVENUE_PER_UNIT_OF_PRODUCT,2)"
   ]
  },
  {
   "cell_type": "markdown",
   "metadata": {},
   "source": [
    "Сравним полученный объём сырья со средним запасом в каждом регионе. \n",
    "Средний запас предсказания для geo_data_0 равно 92.79, для geo_data_1 равно 69.18, для geo_data_2 равно 94.87.\n",
    "По всем трем регионам средний запас предсказания меньше, чем требуемое значене для безубыточной разработки."
   ]
  },
  {
   "cell_type": "markdown",
   "metadata": {},
   "source": [
    "**Вывод:**\n",
    "\n",
    "1. Все ключевые значения для расчётов сохранили в отдельных переменных.\n",
    "2. Рассчитали достаточный объём сырья для безубыточной разработки новой скважины. 111.11 тыс. баррелей должно быть в одной точке, чтобы не было убытков.\n",
    "3. Средний запас предсказания для geo_data_0 равно 92.79, для geo_data_1 равно 69.18, для geo_data_2 равно 94.87. По всем трем регионам средний запас предсказания меньше, чем требуемое значене для безубыточной разработки."
   ]
  },
  {
   "cell_type": "markdown",
   "metadata": {},
   "source": [
    "## Расчёт прибыли и рисков "
   ]
  },
  {
   "cell_type": "markdown",
   "metadata": {},
   "source": [
    "Написание функции для расчета прибыли"
   ]
  },
  {
   "cell_type": "code",
   "execution_count": 24,
   "metadata": {},
   "outputs": [],
   "source": [
    "def profit_calculation(pred, target): \n",
    "    pred = pred.reset_index(drop = True)\n",
    "    target = target.reset_index(drop = True)\n",
    "    target_sorted = target[pred.sort_values(ascending = False)[:NUMBER_OF_POINTS_TO_EXPLORE].index]\n",
    "    return REVENUE_PER_UNIT_OF_PRODUCT * target_sorted.sum() - WELL_DEVELOPMENT_BUDGET_IS_BILLIONS "
   ]
  },
  {
   "cell_type": "code",
   "execution_count": 25,
   "metadata": {},
   "outputs": [],
   "source": [
    "predictions_valid_0 = pd.Series(predictions_valid_0, target_valid_geo_data_0.index)\n",
    "predictions_valid_1 = pd.Series(predictions_valid_1, target_valid_geo_data_1.index)\n",
    "predictions_valid_2 = pd.Series(predictions_valid_2, target_valid_geo_data_2.index)"
   ]
  },
  {
   "cell_type": "markdown",
   "metadata": {},
   "source": [
    "Написание функции для подсчета рисков и прибыли для каждого региона."
   ]
  },
  {
   "cell_type": "code",
   "execution_count": 26,
   "metadata": {},
   "outputs": [],
   "source": [
    "state = np.random.RandomState(12345)\n",
    "number_of_samples = 1000\n",
    "\n",
    "def bootstrap(target,predictions):\n",
    "\n",
    "    values = []\n",
    "    for i in range(number_of_samples):\n",
    "        target_subsample = target.sample(n=500,replace=True,random_state=state)\n",
    "        predictions_subsample = predictions[target_subsample.index]\n",
    "        profit = profit_calculation(predictions_subsample,target_subsample)\n",
    "\n",
    "        values.append(profit)\n",
    "\n",
    "    values = pd.Series(values)\n",
    "    lower = values.quantile(0.025)\n",
    "    upper = values.quantile(0.975)\n",
    "    mean_value = values.mean()\n",
    "    risk_of_losses = (values < 0).mean()\n",
    "    return lower, upper, mean_value, risk_of_losses"
   ]
  },
  {
   "cell_type": "markdown",
   "metadata": {},
   "source": [
    "Посчитаем риски и прибыль для каждого региона."
   ]
  },
  {
   "cell_type": "code",
   "execution_count": 27,
   "metadata": {},
   "outputs": [
    {
     "name": "stdout",
     "output_type": "stream",
     "text": [
      "Средняя прибыль:  380613470.02\n",
      "95%-й доверительный интервал от  -142942739.74  до  890976833.85 руб.\n",
      "Риск убытков 0.08\n"
     ]
    }
   ],
   "source": [
    "lower_0, upper_0, mean_value_0, risk_of_losses_0 = bootstrap(target_valid_geo_data_0, predictions_valid_0)\n",
    "print('Средняя прибыль: ', round(mean_value_0,2))\n",
    "print('95%-й доверительный интервал от ', round(lower_0,2), ' до ', round(upper_0,2), 'руб.')\n",
    "print('Риск убытков', round(risk_of_losses_0,2))"
   ]
  },
  {
   "cell_type": "code",
   "execution_count": 28,
   "metadata": {},
   "outputs": [
    {
     "name": "stdout",
     "output_type": "stream",
     "text": [
      "Средняя прибыль:  479159869.98\n",
      "95%-й доверительный интервал от  73849212.02  до  917953817.72 руб.\n",
      "Риск убытков 0.01\n"
     ]
    }
   ],
   "source": [
    "lower_1, upper_1, mean_value_1, risk_of_losses_1 = bootstrap(target_valid_geo_data_1,predictions_valid_1)\n",
    "print('Средняя прибыль: ', round(mean_value_1,2))\n",
    "print('95%-й доверительный интервал от ', round(lower_1,2), ' до ', round(upper_1,2), 'руб.')\n",
    "print('Риск убытков', round(risk_of_losses_1,2))"
   ]
  },
  {
   "cell_type": "code",
   "execution_count": 29,
   "metadata": {},
   "outputs": [
    {
     "name": "stdout",
     "output_type": "stream",
     "text": [
      "Средняя прибыль:  315441916.02\n",
      "95%-й доверительный интервал от  -216265050.03  до  811060708.24 руб.\n",
      "Риск убытков 0.12\n"
     ]
    }
   ],
   "source": [
    "lower_2, upper_2, mean_value_2, risk_of_losses_2 = bootstrap(target_valid_geo_data_2,predictions_valid_2)\n",
    "print('Средняя прибыль: ', round(mean_value_2,2))\n",
    "print('95%-й доверительный интервал от ', round(lower_2,2), ' до ', round(upper_2,2), 'руб.')\n",
    "print('Риск убытков', round(risk_of_losses_2,2))"
   ]
  },
  {
   "cell_type": "markdown",
   "metadata": {},
   "source": [
    "Самая большая прибыль у второго региона. Риск убытков у данного региона 0.01. "
   ]
  },
  {
   "cell_type": "markdown",
   "metadata": {},
   "source": [
    "**Вывод:**\n",
    "\n",
    "1. Была написана функцим для расчёта прибыли по выбранным скважинам и предсказаниям модели.\n",
    "\n",
    "\n",
    "2. Посчитаны риски и прибыль для каждого региона.\n",
    "    \n",
    "    2.1 Для первого региона:\n",
    "   \n",
    "        Средняя прибыль:  380613470.02\n",
    "        95%-й доверительный интервал от  -142942739.74  до  890976833.85 руб.\n",
    "        Риск убытков 0.08\n",
    "    \n",
    "    2.2 Для второго региона:\n",
    "    \n",
    "        Средняя прибыль:  479159869.98\n",
    "        95%-й доверительный интервал от  73849212.02  до  917953817.72 руб.\n",
    "        Риск убытков 0.01\n",
    "    \n",
    "    2.3 Для третьего региона:\n",
    "\n",
    "        Средняя прибыль:  315441916.02\n",
    "        95%-й доверительный интервал от  -216265050.03  до  811060708.24 руб.\n",
    "        Риск убытков 0.12\n",
    "        \n",
    "    Самая большая прибыль у второго региона. Риск убытков у данного региона 0.1. "
   ]
  },
  {
   "cell_type": "markdown",
   "metadata": {},
   "source": [
    "## Общий вывод"
   ]
  },
  {
   "cell_type": "markdown",
   "metadata": {},
   "source": [
    "1. Загрузка и подготовка данных\n",
    "\n",
    "    Были загруженны данные. \n",
    "    Изученна информация. \n",
    "    Была проведена проверка на дубликаты.\n",
    "    Удалены сроки с дубликатами по id.\n",
    "    \n",
    "    \n",
    "2. Обучение и проверка модели\n",
    "\n",
    "    2.1 Разделили данные на целевой признак и все остальные. Разбили данные на обучающую и валидационную выборки в соотношении 75:25.\n",
    "    \n",
    "    2.2 Привели численные признаки к одному масштабу.\n",
    "    \n",
    "    2.3 Обучим модели. Для обучения модели подходит только линейная регрессия (остальные — недостаточно предсказуемые).\n",
    "    \n",
    "    2.4 Посчитали средний запас предсказанного сырья и RMSE моделей. \n",
    "\n",
    "       Для первого региона средний запас предсказания 92.79, RMSE модели 37.85.\n",
    "       Для второго региона средний запас предсказания 69.18, RMSE модели 0.89.\n",
    "       Для первого региона средний запас предсказания 94.87, RMSE модели 40.08.\n",
    "       \n",
    "3. Подготовка к расчёту прибыли\n",
    "\n",
    "    3.1 Все ключевые значения для расчётов сохранили в отдельных переменных.\n",
    "    \n",
    "    3.2 Рассчитали достаточный объём сырья для безубыточной разработки новой скважины. 111.11 тыс. баррелей должно быть в одной точке, чтобы не было убытков.\n",
    "    \n",
    "    3.3 Средний запас предсказания для geo_data_0 равно 92.79, для geo_data_1 равно 69.18, для geo_data_2 равно 94.87. По всем трем регионам средний запас предсказания меньше, чем требуемое значене для безубыточной разработки.\n",
    "    \n",
    "    \n",
    "4. Расчёт прибыли и рисков\n",
    "\n",
    "    4.1 Была написана функцим для расчёта прибыли по выбранным скважинам и предсказаниям модели.\n",
    "\n",
    "\n",
    "    4.2 Посчитаны риски и прибыль для каждого региона.\n",
    "    \n",
    "        4.2.1 Для первого региона:\n",
    "   \n",
    "            Средняя прибыль:  380613470.02\n",
    "            95%-й доверительный интервал от  -142942739.74  до  890976833.85 руб.\n",
    "            Риск убытков 0.08\n",
    "    \n",
    "        4.2.2 Для второго региона:\n",
    "    \n",
    "            Средняя прибыль:  479159869.98\n",
    "            95%-й доверительный интервал от  73849212.02  до  917953817.72 руб.\n",
    "            Риск убытков 0.01\n",
    "    \n",
    "        4.2.3 Для третьего региона:\n",
    "\n",
    "            Средняя прибыль:  315441916.02\n",
    "            95%-й доверительный интервал от  -216265050.03  до  811060708.24 руб.\n",
    "            Риск убытков 0.12\n",
    "\n",
    "        Самая большая прибыль у второго региона. Риск убытков у данного региона 0.01. "
   ]
  }
 ],
 "metadata": {
  "ExecuteTimeLog": [
   {
    "duration": 368,
    "start_time": "2022-12-21T09:05:30.063Z"
   },
   {
    "duration": 1668,
    "start_time": "2022-12-21T09:05:30.762Z"
   },
   {
    "duration": 17,
    "start_time": "2022-12-21T09:06:17.634Z"
   },
   {
    "duration": 8,
    "start_time": "2022-12-21T09:06:51.906Z"
   },
   {
    "duration": 15,
    "start_time": "2022-12-21T09:09:08.164Z"
   },
   {
    "duration": 9,
    "start_time": "2022-12-21T09:10:18.780Z"
   },
   {
    "duration": 15,
    "start_time": "2022-12-21T09:10:23.081Z"
   },
   {
    "duration": 9,
    "start_time": "2022-12-21T09:10:24.699Z"
   },
   {
    "duration": 15,
    "start_time": "2022-12-21T09:10:29.300Z"
   },
   {
    "duration": 46,
    "start_time": "2022-12-21T09:17:11.961Z"
   },
   {
    "duration": 48,
    "start_time": "2022-12-21T09:17:12.961Z"
   },
   {
    "duration": 47,
    "start_time": "2022-12-21T09:17:13.723Z"
   },
   {
    "duration": 63,
    "start_time": "2022-12-21T09:21:29.822Z"
   },
   {
    "duration": 13,
    "start_time": "2022-12-21T09:21:43.249Z"
   },
   {
    "duration": 6,
    "start_time": "2022-12-21T09:21:51.755Z"
   },
   {
    "duration": 10,
    "start_time": "2022-12-21T09:22:26.983Z"
   },
   {
    "duration": 6,
    "start_time": "2022-12-21T09:22:27.751Z"
   },
   {
    "duration": 7,
    "start_time": "2022-12-21T09:24:31.922Z"
   },
   {
    "duration": 1057,
    "start_time": "2022-12-21T09:24:48.545Z"
   },
   {
    "duration": 381,
    "start_time": "2022-12-21T09:24:49.604Z"
   },
   {
    "duration": 20,
    "start_time": "2022-12-21T09:24:49.986Z"
   },
   {
    "duration": 19,
    "start_time": "2022-12-21T09:24:50.007Z"
   },
   {
    "duration": 10,
    "start_time": "2022-12-21T09:24:50.028Z"
   },
   {
    "duration": 19,
    "start_time": "2022-12-21T09:24:50.040Z"
   },
   {
    "duration": 10,
    "start_time": "2022-12-21T09:24:50.061Z"
   },
   {
    "duration": 38,
    "start_time": "2022-12-21T09:24:50.073Z"
   },
   {
    "duration": 53,
    "start_time": "2022-12-21T09:24:50.113Z"
   },
   {
    "duration": 67,
    "start_time": "2022-12-21T09:24:50.168Z"
   },
   {
    "duration": 45,
    "start_time": "2022-12-21T09:24:50.237Z"
   },
   {
    "duration": 21,
    "start_time": "2022-12-21T09:24:50.284Z"
   },
   {
    "duration": 6,
    "start_time": "2022-12-21T09:24:50.306Z"
   },
   {
    "duration": 8,
    "start_time": "2022-12-21T09:24:50.314Z"
   },
   {
    "duration": 33,
    "start_time": "2022-12-21T09:24:50.323Z"
   },
   {
    "duration": 13,
    "start_time": "2022-12-21T09:24:50.358Z"
   },
   {
    "duration": 14,
    "start_time": "2022-12-21T09:24:50.373Z"
   },
   {
    "duration": 51,
    "start_time": "2022-12-22T17:40:51.688Z"
   },
   {
    "duration": 1216,
    "start_time": "2022-12-22T17:40:57.968Z"
   },
   {
    "duration": 936,
    "start_time": "2022-12-22T17:40:59.186Z"
   },
   {
    "duration": 18,
    "start_time": "2022-12-22T17:41:00.124Z"
   },
   {
    "duration": 26,
    "start_time": "2022-12-22T17:41:00.144Z"
   },
   {
    "duration": 11,
    "start_time": "2022-12-22T17:41:00.172Z"
   },
   {
    "duration": 26,
    "start_time": "2022-12-22T17:41:00.185Z"
   },
   {
    "duration": 12,
    "start_time": "2022-12-22T17:41:00.213Z"
   },
   {
    "duration": 35,
    "start_time": "2022-12-22T17:41:00.227Z"
   },
   {
    "duration": 61,
    "start_time": "2022-12-22T17:41:00.264Z"
   },
   {
    "duration": 66,
    "start_time": "2022-12-22T17:41:00.326Z"
   },
   {
    "duration": 65,
    "start_time": "2022-12-22T17:41:00.394Z"
   },
   {
    "duration": 5,
    "start_time": "2022-12-22T17:41:00.460Z"
   },
   {
    "duration": 20,
    "start_time": "2022-12-22T17:41:00.466Z"
   },
   {
    "duration": 23,
    "start_time": "2022-12-22T17:41:00.489Z"
   },
   {
    "duration": 19,
    "start_time": "2022-12-22T17:41:00.514Z"
   },
   {
    "duration": 15,
    "start_time": "2022-12-22T17:41:00.534Z"
   },
   {
    "duration": 14,
    "start_time": "2022-12-22T17:41:00.551Z"
   },
   {
    "duration": 120,
    "start_time": "2022-12-22T17:41:00.566Z"
   },
   {
    "duration": 71,
    "start_time": "2022-12-22T17:41:58.383Z"
   },
   {
    "duration": 3,
    "start_time": "2022-12-22T17:43:31.548Z"
   },
   {
    "duration": 105,
    "start_time": "2022-12-22T17:43:35.656Z"
   },
   {
    "duration": 4,
    "start_time": "2022-12-22T17:44:15.854Z"
   },
   {
    "duration": 191,
    "start_time": "2022-12-22T17:44:23.265Z"
   },
   {
    "duration": 1192,
    "start_time": "2022-12-22T17:44:39.744Z"
   },
   {
    "duration": 394,
    "start_time": "2022-12-22T17:44:40.938Z"
   },
   {
    "duration": 23,
    "start_time": "2022-12-22T17:44:41.334Z"
   },
   {
    "duration": 20,
    "start_time": "2022-12-22T17:44:41.360Z"
   },
   {
    "duration": 11,
    "start_time": "2022-12-22T17:44:41.382Z"
   },
   {
    "duration": 32,
    "start_time": "2022-12-22T17:44:41.396Z"
   },
   {
    "duration": 30,
    "start_time": "2022-12-22T17:44:41.431Z"
   },
   {
    "duration": 34,
    "start_time": "2022-12-22T17:44:41.464Z"
   },
   {
    "duration": 64,
    "start_time": "2022-12-22T17:44:41.500Z"
   },
   {
    "duration": 45,
    "start_time": "2022-12-22T17:44:41.567Z"
   },
   {
    "duration": 66,
    "start_time": "2022-12-22T17:44:41.614Z"
   },
   {
    "duration": 5,
    "start_time": "2022-12-22T17:44:41.682Z"
   },
   {
    "duration": 18,
    "start_time": "2022-12-22T17:44:41.688Z"
   },
   {
    "duration": 11,
    "start_time": "2022-12-22T17:44:41.709Z"
   },
   {
    "duration": 27,
    "start_time": "2022-12-22T17:44:41.722Z"
   },
   {
    "duration": 27,
    "start_time": "2022-12-22T17:44:41.751Z"
   },
   {
    "duration": 24,
    "start_time": "2022-12-22T17:44:41.781Z"
   },
   {
    "duration": 282,
    "start_time": "2022-12-22T17:44:41.807Z"
   },
   {
    "duration": 1096,
    "start_time": "2022-12-23T10:58:41.344Z"
   },
   {
    "duration": 799,
    "start_time": "2022-12-23T10:58:42.442Z"
   },
   {
    "duration": 18,
    "start_time": "2022-12-23T10:58:43.243Z"
   },
   {
    "duration": 14,
    "start_time": "2022-12-23T10:58:43.263Z"
   },
   {
    "duration": 9,
    "start_time": "2022-12-23T10:58:43.279Z"
   },
   {
    "duration": 15,
    "start_time": "2022-12-23T10:58:43.290Z"
   },
   {
    "duration": 27,
    "start_time": "2022-12-23T10:58:43.307Z"
   },
   {
    "duration": 17,
    "start_time": "2022-12-23T10:58:43.336Z"
   },
   {
    "duration": 48,
    "start_time": "2022-12-23T10:58:43.355Z"
   },
   {
    "duration": 45,
    "start_time": "2022-12-23T10:58:43.416Z"
   },
   {
    "duration": 63,
    "start_time": "2022-12-23T10:58:43.463Z"
   },
   {
    "duration": 4,
    "start_time": "2022-12-23T10:58:43.528Z"
   },
   {
    "duration": 7,
    "start_time": "2022-12-23T10:58:43.534Z"
   },
   {
    "duration": 8,
    "start_time": "2022-12-23T10:58:43.543Z"
   },
   {
    "duration": 15,
    "start_time": "2022-12-23T10:58:43.552Z"
   },
   {
    "duration": 12,
    "start_time": "2022-12-23T10:58:43.569Z"
   },
   {
    "duration": 38,
    "start_time": "2022-12-23T10:58:43.583Z"
   },
   {
    "duration": 270,
    "start_time": "2022-12-23T10:58:43.624Z"
   },
   {
    "duration": 0,
    "start_time": "2022-12-23T10:58:43.896Z"
   },
   {
    "duration": 1106,
    "start_time": "2022-12-23T11:00:31.577Z"
   },
   {
    "duration": 425,
    "start_time": "2022-12-23T11:00:32.685Z"
   },
   {
    "duration": 26,
    "start_time": "2022-12-23T11:00:33.111Z"
   },
   {
    "duration": 14,
    "start_time": "2022-12-23T11:00:33.139Z"
   },
   {
    "duration": 9,
    "start_time": "2022-12-23T11:00:33.156Z"
   },
   {
    "duration": 17,
    "start_time": "2022-12-23T11:00:33.167Z"
   },
   {
    "duration": 38,
    "start_time": "2022-12-23T11:00:33.186Z"
   },
   {
    "duration": 15,
    "start_time": "2022-12-23T11:00:33.226Z"
   },
   {
    "duration": 47,
    "start_time": "2022-12-23T11:00:33.244Z"
   },
   {
    "duration": 69,
    "start_time": "2022-12-23T11:00:33.292Z"
   },
   {
    "duration": 67,
    "start_time": "2022-12-23T11:00:33.363Z"
   },
   {
    "duration": 5,
    "start_time": "2022-12-23T11:00:33.431Z"
   },
   {
    "duration": 12,
    "start_time": "2022-12-23T11:00:33.437Z"
   },
   {
    "duration": 16,
    "start_time": "2022-12-23T11:00:33.452Z"
   },
   {
    "duration": 18,
    "start_time": "2022-12-23T11:00:33.469Z"
   },
   {
    "duration": 13,
    "start_time": "2022-12-23T11:00:33.489Z"
   },
   {
    "duration": 31,
    "start_time": "2022-12-23T11:00:33.504Z"
   },
   {
    "duration": 79,
    "start_time": "2022-12-23T11:00:33.536Z"
   },
   {
    "duration": 198,
    "start_time": "2022-12-23T11:00:33.617Z"
   },
   {
    "duration": 0,
    "start_time": "2022-12-23T11:00:33.816Z"
   },
   {
    "duration": 6,
    "start_time": "2022-12-23T11:02:47.624Z"
   },
   {
    "duration": 22,
    "start_time": "2022-12-23T11:03:29.432Z"
   },
   {
    "duration": 16,
    "start_time": "2022-12-23T11:03:41.282Z"
   },
   {
    "duration": 19,
    "start_time": "2022-12-23T11:05:51.944Z"
   },
   {
    "duration": 17,
    "start_time": "2022-12-23T11:06:10.824Z"
   },
   {
    "duration": 60,
    "start_time": "2022-12-23T11:06:25.970Z"
   },
   {
    "duration": 16,
    "start_time": "2022-12-23T11:06:59.842Z"
   },
   {
    "duration": 17,
    "start_time": "2022-12-23T11:07:00.672Z"
   },
   {
    "duration": 10,
    "start_time": "2022-12-23T11:23:27.775Z"
   },
   {
    "duration": 10,
    "start_time": "2022-12-23T11:23:39.680Z"
   },
   {
    "duration": 594,
    "start_time": "2022-12-23T11:24:52.937Z"
   },
   {
    "duration": 287,
    "start_time": "2022-12-23T11:25:07.727Z"
   },
   {
    "duration": 294,
    "start_time": "2022-12-23T11:25:15.447Z"
   },
   {
    "duration": 133,
    "start_time": "2022-12-23T11:25:37.558Z"
   },
   {
    "duration": 954,
    "start_time": "2022-12-23T11:26:02.730Z"
   },
   {
    "duration": 905,
    "start_time": "2022-12-23T11:26:35.396Z"
   },
   {
    "duration": 888,
    "start_time": "2022-12-23T11:27:14.501Z"
   },
   {
    "duration": 48,
    "start_time": "2022-12-24T18:57:16.574Z"
   },
   {
    "duration": 980,
    "start_time": "2022-12-24T18:57:22.557Z"
   },
   {
    "duration": 841,
    "start_time": "2022-12-24T18:57:23.538Z"
   },
   {
    "duration": 15,
    "start_time": "2022-12-24T18:57:24.380Z"
   },
   {
    "duration": 20,
    "start_time": "2022-12-24T18:57:24.396Z"
   },
   {
    "duration": 1182,
    "start_time": "2022-12-24T18:57:24.418Z"
   },
   {
    "duration": 9,
    "start_time": "2022-12-24T18:57:25.601Z"
   },
   {
    "duration": 20,
    "start_time": "2022-12-24T18:57:25.611Z"
   },
   {
    "duration": 748,
    "start_time": "2022-12-24T18:57:25.633Z"
   },
   {
    "duration": 16,
    "start_time": "2022-12-24T18:57:26.382Z"
   },
   {
    "duration": 14,
    "start_time": "2022-12-24T18:57:26.400Z"
   },
   {
    "duration": 817,
    "start_time": "2022-12-24T18:57:26.415Z"
   },
   {
    "duration": 41,
    "start_time": "2022-12-24T18:57:27.233Z"
   },
   {
    "duration": 53,
    "start_time": "2022-12-24T18:57:27.276Z"
   },
   {
    "duration": 36,
    "start_time": "2022-12-24T18:57:27.332Z"
   },
   {
    "duration": 61,
    "start_time": "2022-12-24T18:57:27.370Z"
   },
   {
    "duration": 4,
    "start_time": "2022-12-24T18:57:27.432Z"
   },
   {
    "duration": 13,
    "start_time": "2022-12-24T18:57:27.438Z"
   },
   {
    "duration": 5,
    "start_time": "2022-12-24T18:57:27.453Z"
   },
   {
    "duration": 11,
    "start_time": "2022-12-24T18:57:27.460Z"
   },
   {
    "duration": 10,
    "start_time": "2022-12-24T18:57:27.472Z"
   },
   {
    "duration": 10,
    "start_time": "2022-12-24T18:57:27.497Z"
   },
   {
    "duration": 191,
    "start_time": "2022-12-24T18:57:27.509Z"
   },
   {
    "duration": 13,
    "start_time": "2022-12-24T18:57:27.702Z"
   },
   {
    "duration": 196,
    "start_time": "2022-12-24T18:57:27.717Z"
   },
   {
    "duration": 78,
    "start_time": "2022-12-24T18:57:27.919Z"
   },
   {
    "duration": 17,
    "start_time": "2022-12-24T18:57:41.647Z"
   },
   {
    "duration": 15,
    "start_time": "2022-12-24T18:57:51.445Z"
   },
   {
    "duration": 16,
    "start_time": "2022-12-24T18:58:22.546Z"
   },
   {
    "duration": 16,
    "start_time": "2022-12-24T18:58:37.381Z"
   },
   {
    "duration": 28,
    "start_time": "2022-12-24T19:03:41.758Z"
   },
   {
    "duration": 24,
    "start_time": "2022-12-24T19:03:59.525Z"
   },
   {
    "duration": 30,
    "start_time": "2022-12-24T19:04:13.986Z"
   },
   {
    "duration": 102,
    "start_time": "2022-12-24T20:03:11.553Z"
   },
   {
    "duration": 2,
    "start_time": "2022-12-24T20:03:17.427Z"
   },
   {
    "duration": 4,
    "start_time": "2022-12-24T20:03:18.739Z"
   },
   {
    "duration": 4,
    "start_time": "2022-12-24T20:10:09.754Z"
   },
   {
    "duration": 1010,
    "start_time": "2022-12-25T20:23:28.678Z"
   },
   {
    "duration": 840,
    "start_time": "2022-12-25T20:23:29.691Z"
   },
   {
    "duration": 23,
    "start_time": "2022-12-25T20:23:30.534Z"
   },
   {
    "duration": 36,
    "start_time": "2022-12-25T20:23:30.560Z"
   },
   {
    "duration": 1246,
    "start_time": "2022-12-25T20:23:30.598Z"
   },
   {
    "duration": 11,
    "start_time": "2022-12-25T20:23:31.847Z"
   },
   {
    "duration": 37,
    "start_time": "2022-12-25T20:23:31.860Z"
   },
   {
    "duration": 947,
    "start_time": "2022-12-25T20:23:31.899Z"
   },
   {
    "duration": 11,
    "start_time": "2022-12-25T20:23:32.848Z"
   },
   {
    "duration": 26,
    "start_time": "2022-12-25T20:23:32.863Z"
   },
   {
    "duration": 958,
    "start_time": "2022-12-25T20:23:32.892Z"
   },
   {
    "duration": 44,
    "start_time": "2022-12-25T20:23:33.852Z"
   },
   {
    "duration": 39,
    "start_time": "2022-12-25T20:23:33.897Z"
   },
   {
    "duration": 30,
    "start_time": "2022-12-25T20:23:33.938Z"
   },
   {
    "duration": 45,
    "start_time": "2022-12-25T20:23:33.970Z"
   },
   {
    "duration": 39,
    "start_time": "2022-12-25T20:23:34.017Z"
   },
   {
    "duration": 33,
    "start_time": "2022-12-25T20:23:34.058Z"
   },
   {
    "duration": 66,
    "start_time": "2022-12-25T20:23:34.093Z"
   },
   {
    "duration": 20,
    "start_time": "2022-12-25T20:23:34.161Z"
   },
   {
    "duration": 31,
    "start_time": "2022-12-25T20:23:34.182Z"
   },
   {
    "duration": 24,
    "start_time": "2022-12-25T20:23:34.215Z"
   },
   {
    "duration": 17,
    "start_time": "2022-12-25T20:23:34.241Z"
   },
   {
    "duration": 19,
    "start_time": "2022-12-25T20:23:34.259Z"
   },
   {
    "duration": 19,
    "start_time": "2022-12-25T20:23:34.280Z"
   },
   {
    "duration": 12,
    "start_time": "2022-12-25T20:23:34.301Z"
   },
   {
    "duration": 19,
    "start_time": "2022-12-25T20:23:34.315Z"
   },
   {
    "duration": 49,
    "start_time": "2022-12-25T20:23:34.335Z"
   },
   {
    "duration": 0,
    "start_time": "2022-12-25T20:23:34.386Z"
   },
   {
    "duration": 0,
    "start_time": "2022-12-25T20:23:34.388Z"
   },
   {
    "duration": 0,
    "start_time": "2022-12-25T20:23:34.389Z"
   },
   {
    "duration": 0,
    "start_time": "2022-12-25T20:23:34.390Z"
   },
   {
    "duration": 0,
    "start_time": "2022-12-25T20:23:34.391Z"
   },
   {
    "duration": 0,
    "start_time": "2022-12-25T20:23:34.393Z"
   },
   {
    "duration": 0,
    "start_time": "2022-12-25T20:23:34.394Z"
   },
   {
    "duration": 0,
    "start_time": "2022-12-25T20:23:34.395Z"
   },
   {
    "duration": 0,
    "start_time": "2022-12-25T20:23:34.396Z"
   },
   {
    "duration": 0,
    "start_time": "2022-12-25T20:23:34.397Z"
   },
   {
    "duration": 0,
    "start_time": "2022-12-25T20:23:34.398Z"
   },
   {
    "duration": 0,
    "start_time": "2022-12-25T20:23:34.399Z"
   },
   {
    "duration": 0,
    "start_time": "2022-12-25T20:23:34.400Z"
   },
   {
    "duration": 115,
    "start_time": "2022-12-25T20:23:49.841Z"
   },
   {
    "duration": 1145,
    "start_time": "2022-12-25T20:24:42.878Z"
   },
   {
    "duration": 374,
    "start_time": "2022-12-25T20:24:44.026Z"
   },
   {
    "duration": 16,
    "start_time": "2022-12-25T20:24:44.402Z"
   },
   {
    "duration": 26,
    "start_time": "2022-12-25T20:24:44.420Z"
   },
   {
    "duration": 1110,
    "start_time": "2022-12-25T20:24:44.449Z"
   },
   {
    "duration": 10,
    "start_time": "2022-12-25T20:24:45.561Z"
   },
   {
    "duration": 21,
    "start_time": "2022-12-25T20:24:45.573Z"
   },
   {
    "duration": 890,
    "start_time": "2022-12-25T20:24:45.596Z"
   },
   {
    "duration": 10,
    "start_time": "2022-12-25T20:24:46.488Z"
   },
   {
    "duration": 21,
    "start_time": "2022-12-25T20:24:46.500Z"
   },
   {
    "duration": 935,
    "start_time": "2022-12-25T20:24:46.535Z"
   },
   {
    "duration": 63,
    "start_time": "2022-12-25T20:24:47.473Z"
   },
   {
    "duration": 21,
    "start_time": "2022-12-25T20:24:47.538Z"
   },
   {
    "duration": 32,
    "start_time": "2022-12-25T20:24:47.563Z"
   },
   {
    "duration": 69,
    "start_time": "2022-12-25T20:24:47.597Z"
   },
   {
    "duration": 20,
    "start_time": "2022-12-25T20:24:47.667Z"
   },
   {
    "duration": 46,
    "start_time": "2022-12-25T20:24:47.689Z"
   },
   {
    "duration": 145,
    "start_time": "2022-12-25T20:24:47.737Z"
   },
   {
    "duration": 26,
    "start_time": "2022-12-25T20:24:47.884Z"
   },
   {
    "duration": 43,
    "start_time": "2022-12-25T20:24:47.911Z"
   },
   {
    "duration": 5,
    "start_time": "2022-12-25T20:24:47.956Z"
   },
   {
    "duration": 14,
    "start_time": "2022-12-25T20:24:47.962Z"
   },
   {
    "duration": 35,
    "start_time": "2022-12-25T20:24:47.977Z"
   },
   {
    "duration": 30,
    "start_time": "2022-12-25T20:24:48.014Z"
   },
   {
    "duration": 16,
    "start_time": "2022-12-25T20:24:48.046Z"
   },
   {
    "duration": 16,
    "start_time": "2022-12-25T20:24:48.064Z"
   },
   {
    "duration": 60,
    "start_time": "2022-12-25T20:24:48.083Z"
   },
   {
    "duration": 26,
    "start_time": "2022-12-25T20:24:48.145Z"
   },
   {
    "duration": 104,
    "start_time": "2022-12-25T20:24:48.235Z"
   },
   {
    "duration": 298,
    "start_time": "2022-12-25T20:24:48.341Z"
   },
   {
    "duration": 72,
    "start_time": "2022-12-25T20:24:48.664Z"
   },
   {
    "duration": 131,
    "start_time": "2022-12-25T20:24:48.739Z"
   },
   {
    "duration": 0,
    "start_time": "2022-12-25T20:24:48.872Z"
   },
   {
    "duration": 0,
    "start_time": "2022-12-25T20:24:48.873Z"
   },
   {
    "duration": 0,
    "start_time": "2022-12-25T20:24:48.874Z"
   },
   {
    "duration": 0,
    "start_time": "2022-12-25T20:24:48.876Z"
   },
   {
    "duration": 0,
    "start_time": "2022-12-25T20:24:48.878Z"
   },
   {
    "duration": 0,
    "start_time": "2022-12-25T20:24:48.880Z"
   },
   {
    "duration": 0,
    "start_time": "2022-12-25T20:24:48.882Z"
   },
   {
    "duration": 1212,
    "start_time": "2022-12-25T20:25:13.351Z"
   },
   {
    "duration": 410,
    "start_time": "2022-12-25T20:25:14.565Z"
   },
   {
    "duration": 17,
    "start_time": "2022-12-25T20:25:14.977Z"
   },
   {
    "duration": 20,
    "start_time": "2022-12-25T20:25:14.996Z"
   },
   {
    "duration": 1208,
    "start_time": "2022-12-25T20:25:15.018Z"
   },
   {
    "duration": 15,
    "start_time": "2022-12-25T20:25:16.228Z"
   },
   {
    "duration": 25,
    "start_time": "2022-12-25T20:25:16.245Z"
   },
   {
    "duration": 1085,
    "start_time": "2022-12-25T20:25:16.274Z"
   },
   {
    "duration": 12,
    "start_time": "2022-12-25T20:25:17.362Z"
   },
   {
    "duration": 26,
    "start_time": "2022-12-25T20:25:17.376Z"
   },
   {
    "duration": 1102,
    "start_time": "2022-12-25T20:25:17.404Z"
   },
   {
    "duration": 61,
    "start_time": "2022-12-25T20:25:18.508Z"
   },
   {
    "duration": 18,
    "start_time": "2022-12-25T20:25:18.571Z"
   },
   {
    "duration": 51,
    "start_time": "2022-12-25T20:25:18.591Z"
   },
   {
    "duration": 52,
    "start_time": "2022-12-25T20:25:18.644Z"
   },
   {
    "duration": 19,
    "start_time": "2022-12-25T20:25:18.697Z"
   },
   {
    "duration": 26,
    "start_time": "2022-12-25T20:25:18.735Z"
   },
   {
    "duration": 91,
    "start_time": "2022-12-25T20:25:18.763Z"
   },
   {
    "duration": 19,
    "start_time": "2022-12-25T20:25:18.856Z"
   },
   {
    "duration": 47,
    "start_time": "2022-12-25T20:25:18.877Z"
   },
   {
    "duration": 111,
    "start_time": "2022-12-25T20:25:18.927Z"
   },
   {
    "duration": 70,
    "start_time": "2022-12-25T20:25:19.040Z"
   },
   {
    "duration": 23,
    "start_time": "2022-12-25T20:25:19.115Z"
   },
   {
    "duration": 47,
    "start_time": "2022-12-25T20:25:19.140Z"
   },
   {
    "duration": 34,
    "start_time": "2022-12-25T20:25:19.189Z"
   },
   {
    "duration": 20,
    "start_time": "2022-12-25T20:25:19.226Z"
   },
   {
    "duration": 84,
    "start_time": "2022-12-25T20:25:19.248Z"
   },
   {
    "duration": 27,
    "start_time": "2022-12-25T20:25:19.335Z"
   },
   {
    "duration": 173,
    "start_time": "2022-12-25T20:25:19.365Z"
   },
   {
    "duration": 114,
    "start_time": "2022-12-25T20:25:19.545Z"
   },
   {
    "duration": 73,
    "start_time": "2022-12-25T20:25:19.664Z"
   },
   {
    "duration": 15,
    "start_time": "2022-12-25T20:25:19.739Z"
   },
   {
    "duration": 3,
    "start_time": "2022-12-25T20:25:19.836Z"
   },
   {
    "duration": 159,
    "start_time": "2022-12-25T20:25:19.841Z"
   },
   {
    "duration": 0,
    "start_time": "2022-12-25T20:25:20.004Z"
   },
   {
    "duration": 0,
    "start_time": "2022-12-25T20:25:20.005Z"
   },
   {
    "duration": 0,
    "start_time": "2022-12-25T20:25:20.007Z"
   },
   {
    "duration": 0,
    "start_time": "2022-12-25T20:25:20.008Z"
   },
   {
    "duration": 0,
    "start_time": "2022-12-25T20:25:20.008Z"
   },
   {
    "duration": 4,
    "start_time": "2022-12-25T20:32:56.140Z"
   },
   {
    "duration": 27,
    "start_time": "2022-12-25T20:32:57.710Z"
   },
   {
    "duration": 4,
    "start_time": "2022-12-25T20:34:14.215Z"
   },
   {
    "duration": 18,
    "start_time": "2022-12-25T20:34:15.999Z"
   },
   {
    "duration": 5,
    "start_time": "2022-12-25T20:58:30.503Z"
   },
   {
    "duration": 7,
    "start_time": "2022-12-25T20:58:42.602Z"
   },
   {
    "duration": 4,
    "start_time": "2022-12-25T21:00:12.601Z"
   },
   {
    "duration": 9,
    "start_time": "2022-12-25T21:00:16.125Z"
   },
   {
    "duration": 21,
    "start_time": "2022-12-25T21:00:26.738Z"
   },
   {
    "duration": 1260,
    "start_time": "2022-12-25T21:00:41.401Z"
   },
   {
    "duration": 468,
    "start_time": "2022-12-25T21:00:42.663Z"
   },
   {
    "duration": 22,
    "start_time": "2022-12-25T21:00:43.136Z"
   },
   {
    "duration": 18,
    "start_time": "2022-12-25T21:00:43.160Z"
   },
   {
    "duration": 1176,
    "start_time": "2022-12-25T21:00:43.180Z"
   },
   {
    "duration": 10,
    "start_time": "2022-12-25T21:00:44.358Z"
   },
   {
    "duration": 38,
    "start_time": "2022-12-25T21:00:44.371Z"
   },
   {
    "duration": 910,
    "start_time": "2022-12-25T21:00:44.411Z"
   },
   {
    "duration": 15,
    "start_time": "2022-12-25T21:00:45.323Z"
   },
   {
    "duration": 32,
    "start_time": "2022-12-25T21:00:45.344Z"
   },
   {
    "duration": 965,
    "start_time": "2022-12-25T21:00:45.378Z"
   },
   {
    "duration": 52,
    "start_time": "2022-12-25T21:00:46.348Z"
   },
   {
    "duration": 20,
    "start_time": "2022-12-25T21:00:46.403Z"
   },
   {
    "duration": 39,
    "start_time": "2022-12-25T21:00:46.440Z"
   },
   {
    "duration": 75,
    "start_time": "2022-12-25T21:00:46.482Z"
   },
   {
    "duration": 29,
    "start_time": "2022-12-25T21:00:46.559Z"
   },
   {
    "duration": 137,
    "start_time": "2022-12-25T21:00:46.590Z"
   },
   {
    "duration": 62,
    "start_time": "2022-12-25T21:00:46.729Z"
   },
   {
    "duration": 29,
    "start_time": "2022-12-25T21:00:46.794Z"
   },
   {
    "duration": 39,
    "start_time": "2022-12-25T21:00:46.839Z"
   },
   {
    "duration": 6,
    "start_time": "2022-12-25T21:00:46.880Z"
   },
   {
    "duration": 13,
    "start_time": "2022-12-25T21:00:46.888Z"
   },
   {
    "duration": 23,
    "start_time": "2022-12-25T21:00:46.903Z"
   },
   {
    "duration": 39,
    "start_time": "2022-12-25T21:00:46.928Z"
   },
   {
    "duration": 16,
    "start_time": "2022-12-25T21:00:46.969Z"
   },
   {
    "duration": 13,
    "start_time": "2022-12-25T21:00:46.987Z"
   },
   {
    "duration": 60,
    "start_time": "2022-12-25T21:00:47.002Z"
   },
   {
    "duration": 19,
    "start_time": "2022-12-25T21:00:47.064Z"
   },
   {
    "duration": 185,
    "start_time": "2022-12-25T21:00:47.085Z"
   },
   {
    "duration": 88,
    "start_time": "2022-12-25T21:00:47.273Z"
   },
   {
    "duration": 173,
    "start_time": "2022-12-25T21:00:47.366Z"
   },
   {
    "duration": 26,
    "start_time": "2022-12-25T21:00:47.541Z"
   },
   {
    "duration": 19,
    "start_time": "2022-12-25T21:00:47.568Z"
   },
   {
    "duration": 17,
    "start_time": "2022-12-25T21:00:47.589Z"
   },
   {
    "duration": 22,
    "start_time": "2022-12-25T21:00:47.608Z"
   },
   {
    "duration": 171,
    "start_time": "2022-12-25T21:00:47.632Z"
   },
   {
    "duration": 0,
    "start_time": "2022-12-25T21:00:47.806Z"
   },
   {
    "duration": 0,
    "start_time": "2022-12-25T21:00:47.807Z"
   },
   {
    "duration": 0,
    "start_time": "2022-12-25T21:00:47.809Z"
   },
   {
    "duration": 0,
    "start_time": "2022-12-25T21:00:47.810Z"
   },
   {
    "duration": 0,
    "start_time": "2022-12-25T21:00:47.811Z"
   },
   {
    "duration": 4,
    "start_time": "2022-12-25T21:01:19.861Z"
   },
   {
    "duration": 10,
    "start_time": "2022-12-25T21:01:36.368Z"
   },
   {
    "duration": 9,
    "start_time": "2022-12-25T21:01:47.058Z"
   },
   {
    "duration": 9,
    "start_time": "2022-12-25T21:01:47.761Z"
   },
   {
    "duration": 10,
    "start_time": "2022-12-25T21:01:53.311Z"
   },
   {
    "duration": 9,
    "start_time": "2022-12-25T21:01:57.504Z"
   },
   {
    "duration": 3,
    "start_time": "2022-12-25T21:17:39.263Z"
   },
   {
    "duration": 5,
    "start_time": "2022-12-25T21:17:50.080Z"
   },
   {
    "duration": 5,
    "start_time": "2022-12-25T21:18:42.227Z"
   },
   {
    "duration": 4,
    "start_time": "2022-12-25T21:22:31.059Z"
   },
   {
    "duration": 5,
    "start_time": "2022-12-25T21:22:34.399Z"
   },
   {
    "duration": 6,
    "start_time": "2022-12-25T21:22:35.196Z"
   },
   {
    "duration": 14,
    "start_time": "2022-12-25T21:22:44.554Z"
   },
   {
    "duration": 13,
    "start_time": "2022-12-25T21:22:53.623Z"
   },
   {
    "duration": 3,
    "start_time": "2022-12-25T21:23:03.370Z"
   },
   {
    "duration": 14,
    "start_time": "2022-12-25T21:23:05.399Z"
   },
   {
    "duration": 3,
    "start_time": "2022-12-25T21:23:19.966Z"
   },
   {
    "duration": 13,
    "start_time": "2022-12-25T21:23:21.332Z"
   },
   {
    "duration": 4,
    "start_time": "2022-12-25T21:23:41.113Z"
   },
   {
    "duration": 4,
    "start_time": "2022-12-25T21:23:52.136Z"
   },
   {
    "duration": 3,
    "start_time": "2022-12-25T21:23:55.468Z"
   },
   {
    "duration": 5,
    "start_time": "2022-12-25T21:24:02.900Z"
   },
   {
    "duration": 9,
    "start_time": "2022-12-25T21:24:21.796Z"
   },
   {
    "duration": 12,
    "start_time": "2022-12-25T21:24:32.390Z"
   },
   {
    "duration": 5,
    "start_time": "2022-12-25T21:25:01.368Z"
   },
   {
    "duration": 13,
    "start_time": "2022-12-25T21:25:59.258Z"
   },
   {
    "duration": 5,
    "start_time": "2022-12-25T21:26:06.869Z"
   },
   {
    "duration": 5,
    "start_time": "2022-12-25T21:27:20.842Z"
   },
   {
    "duration": 6,
    "start_time": "2022-12-25T21:28:01.385Z"
   },
   {
    "duration": 69,
    "start_time": "2022-12-25T21:28:10.639Z"
   },
   {
    "duration": 6,
    "start_time": "2022-12-25T21:28:17.302Z"
   },
   {
    "duration": 6,
    "start_time": "2022-12-25T21:28:21.553Z"
   },
   {
    "duration": 6,
    "start_time": "2022-12-25T21:30:36.319Z"
   },
   {
    "duration": 11,
    "start_time": "2022-12-25T21:31:05.097Z"
   },
   {
    "duration": 4,
    "start_time": "2022-12-25T21:31:30.516Z"
   },
   {
    "duration": 6,
    "start_time": "2022-12-25T21:31:35.360Z"
   },
   {
    "duration": 13,
    "start_time": "2022-12-25T21:33:06.518Z"
   },
   {
    "duration": 1187,
    "start_time": "2022-12-25T21:33:22.350Z"
   },
   {
    "duration": 397,
    "start_time": "2022-12-25T21:33:23.540Z"
   },
   {
    "duration": 19,
    "start_time": "2022-12-25T21:33:23.939Z"
   },
   {
    "duration": 36,
    "start_time": "2022-12-25T21:33:23.960Z"
   },
   {
    "duration": 1165,
    "start_time": "2022-12-25T21:33:23.999Z"
   },
   {
    "duration": 11,
    "start_time": "2022-12-25T21:33:25.166Z"
   },
   {
    "duration": 31,
    "start_time": "2022-12-25T21:33:25.178Z"
   },
   {
    "duration": 896,
    "start_time": "2022-12-25T21:33:25.211Z"
   },
   {
    "duration": 15,
    "start_time": "2022-12-25T21:33:26.109Z"
   },
   {
    "duration": 17,
    "start_time": "2022-12-25T21:33:26.135Z"
   },
   {
    "duration": 975,
    "start_time": "2022-12-25T21:33:26.154Z"
   },
   {
    "duration": 58,
    "start_time": "2022-12-25T21:33:27.131Z"
   },
   {
    "duration": 20,
    "start_time": "2022-12-25T21:33:27.191Z"
   },
   {
    "duration": 30,
    "start_time": "2022-12-25T21:33:27.234Z"
   },
   {
    "duration": 71,
    "start_time": "2022-12-25T21:33:27.265Z"
   },
   {
    "duration": 21,
    "start_time": "2022-12-25T21:33:27.338Z"
   },
   {
    "duration": 30,
    "start_time": "2022-12-25T21:33:27.361Z"
   },
   {
    "duration": 161,
    "start_time": "2022-12-25T21:33:27.393Z"
   },
   {
    "duration": 19,
    "start_time": "2022-12-25T21:33:27.556Z"
   },
   {
    "duration": 48,
    "start_time": "2022-12-25T21:33:27.577Z"
   },
   {
    "duration": 6,
    "start_time": "2022-12-25T21:33:27.635Z"
   },
   {
    "duration": 14,
    "start_time": "2022-12-25T21:33:27.643Z"
   },
   {
    "duration": 12,
    "start_time": "2022-12-25T21:33:27.659Z"
   },
   {
    "duration": 20,
    "start_time": "2022-12-25T21:33:27.672Z"
   },
   {
    "duration": 12,
    "start_time": "2022-12-25T21:33:27.696Z"
   },
   {
    "duration": 25,
    "start_time": "2022-12-25T21:33:27.710Z"
   },
   {
    "duration": 48,
    "start_time": "2022-12-25T21:33:27.737Z"
   },
   {
    "duration": 59,
    "start_time": "2022-12-25T21:33:27.787Z"
   },
   {
    "duration": 192,
    "start_time": "2022-12-25T21:33:27.849Z"
   },
   {
    "duration": 110,
    "start_time": "2022-12-25T21:33:28.044Z"
   },
   {
    "duration": 188,
    "start_time": "2022-12-25T21:33:28.157Z"
   },
   {
    "duration": 34,
    "start_time": "2022-12-25T21:33:28.346Z"
   },
   {
    "duration": 43,
    "start_time": "2022-12-25T21:33:28.382Z"
   },
   {
    "duration": 29,
    "start_time": "2022-12-25T21:33:28.426Z"
   },
   {
    "duration": 36,
    "start_time": "2022-12-25T21:33:28.456Z"
   },
   {
    "duration": 133,
    "start_time": "2022-12-25T21:33:28.494Z"
   },
   {
    "duration": 0,
    "start_time": "2022-12-25T21:33:28.629Z"
   },
   {
    "duration": 0,
    "start_time": "2022-12-25T21:33:28.631Z"
   },
   {
    "duration": 0,
    "start_time": "2022-12-25T21:33:28.635Z"
   },
   {
    "duration": 0,
    "start_time": "2022-12-25T21:33:28.637Z"
   },
   {
    "duration": 8,
    "start_time": "2022-12-25T21:33:35.106Z"
   },
   {
    "duration": 7,
    "start_time": "2022-12-25T21:33:43.730Z"
   },
   {
    "duration": 14,
    "start_time": "2022-12-25T21:35:33.435Z"
   },
   {
    "duration": 5,
    "start_time": "2022-12-25T21:35:43.105Z"
   },
   {
    "duration": 8,
    "start_time": "2022-12-25T21:35:48.961Z"
   },
   {
    "duration": 11,
    "start_time": "2022-12-25T21:36:26.145Z"
   },
   {
    "duration": 5,
    "start_time": "2022-12-25T21:36:34.840Z"
   },
   {
    "duration": 1202,
    "start_time": "2022-12-25T21:39:11.733Z"
   },
   {
    "duration": 415,
    "start_time": "2022-12-25T21:39:12.937Z"
   },
   {
    "duration": 21,
    "start_time": "2022-12-25T21:39:13.354Z"
   },
   {
    "duration": 20,
    "start_time": "2022-12-25T21:39:13.378Z"
   },
   {
    "duration": 1170,
    "start_time": "2022-12-25T21:39:13.400Z"
   },
   {
    "duration": 9,
    "start_time": "2022-12-25T21:39:14.572Z"
   },
   {
    "duration": 38,
    "start_time": "2022-12-25T21:39:14.582Z"
   },
   {
    "duration": 908,
    "start_time": "2022-12-25T21:39:14.622Z"
   },
   {
    "duration": 11,
    "start_time": "2022-12-25T21:39:15.536Z"
   },
   {
    "duration": 24,
    "start_time": "2022-12-25T21:39:15.551Z"
   },
   {
    "duration": 957,
    "start_time": "2022-12-25T21:39:15.578Z"
   },
   {
    "duration": 52,
    "start_time": "2022-12-25T21:39:16.537Z"
   },
   {
    "duration": 18,
    "start_time": "2022-12-25T21:39:16.591Z"
   },
   {
    "duration": 53,
    "start_time": "2022-12-25T21:39:16.611Z"
   },
   {
    "duration": 55,
    "start_time": "2022-12-25T21:39:16.665Z"
   },
   {
    "duration": 24,
    "start_time": "2022-12-25T21:39:16.736Z"
   },
   {
    "duration": 45,
    "start_time": "2022-12-25T21:39:16.762Z"
   },
   {
    "duration": 72,
    "start_time": "2022-12-25T21:39:16.809Z"
   },
   {
    "duration": 20,
    "start_time": "2022-12-25T21:39:16.883Z"
   },
   {
    "duration": 50,
    "start_time": "2022-12-25T21:39:16.906Z"
   },
   {
    "duration": 93,
    "start_time": "2022-12-25T21:39:16.958Z"
   },
   {
    "duration": 16,
    "start_time": "2022-12-25T21:39:17.053Z"
   },
   {
    "duration": 14,
    "start_time": "2022-12-25T21:39:17.071Z"
   },
   {
    "duration": 16,
    "start_time": "2022-12-25T21:39:17.086Z"
   },
   {
    "duration": 14,
    "start_time": "2022-12-25T21:39:17.104Z"
   },
   {
    "duration": 20,
    "start_time": "2022-12-25T21:39:17.120Z"
   },
   {
    "duration": 53,
    "start_time": "2022-12-25T21:39:17.142Z"
   },
   {
    "duration": 50,
    "start_time": "2022-12-25T21:39:17.200Z"
   },
   {
    "duration": 86,
    "start_time": "2022-12-25T21:39:17.253Z"
   },
   {
    "duration": 108,
    "start_time": "2022-12-25T21:39:17.342Z"
   },
   {
    "duration": 96,
    "start_time": "2022-12-25T21:39:17.456Z"
   },
   {
    "duration": 89,
    "start_time": "2022-12-25T21:39:17.554Z"
   },
   {
    "duration": 93,
    "start_time": "2022-12-25T21:39:17.645Z"
   },
   {
    "duration": 14,
    "start_time": "2022-12-25T21:39:17.740Z"
   },
   {
    "duration": 8,
    "start_time": "2022-12-25T21:39:17.757Z"
   },
   {
    "duration": 12,
    "start_time": "2022-12-25T21:39:17.767Z"
   },
   {
    "duration": 11,
    "start_time": "2022-12-25T21:39:17.781Z"
   },
   {
    "duration": 8,
    "start_time": "2022-12-25T21:39:17.794Z"
   },
   {
    "duration": 6,
    "start_time": "2022-12-25T21:39:17.804Z"
   },
   {
    "duration": 47,
    "start_time": "2022-12-25T21:39:17.812Z"
   },
   {
    "duration": 0,
    "start_time": "2022-12-25T21:39:17.861Z"
   },
   {
    "duration": 0,
    "start_time": "2022-12-25T21:39:17.862Z"
   },
   {
    "duration": 117,
    "start_time": "2022-12-25T21:46:55.974Z"
   },
   {
    "duration": 3,
    "start_time": "2022-12-25T21:47:03.642Z"
   },
   {
    "duration": 8,
    "start_time": "2022-12-25T21:47:09.576Z"
   },
   {
    "duration": 8,
    "start_time": "2022-12-25T21:47:22.433Z"
   },
   {
    "duration": 49,
    "start_time": "2022-12-25T21:49:39.432Z"
   },
   {
    "duration": 48,
    "start_time": "2022-12-25T21:50:06.226Z"
   },
   {
    "duration": 46,
    "start_time": "2022-12-25T21:50:14.334Z"
   },
   {
    "duration": 444,
    "start_time": "2022-12-25T21:50:28.366Z"
   },
   {
    "duration": 8,
    "start_time": "2022-12-26T08:05:02.201Z"
   },
   {
    "duration": 43,
    "start_time": "2022-12-26T08:05:02.804Z"
   },
   {
    "duration": 1044,
    "start_time": "2022-12-26T08:05:12.725Z"
   },
   {
    "duration": 740,
    "start_time": "2022-12-26T08:05:13.771Z"
   },
   {
    "duration": 3,
    "start_time": "2022-12-26T08:05:14.513Z"
   },
   {
    "duration": 35,
    "start_time": "2022-12-26T08:05:14.518Z"
   },
   {
    "duration": 20,
    "start_time": "2022-12-26T08:05:14.555Z"
   },
   {
    "duration": 28,
    "start_time": "2022-12-26T08:05:14.577Z"
   },
   {
    "duration": 1308,
    "start_time": "2022-12-26T08:05:14.607Z"
   },
   {
    "duration": 10,
    "start_time": "2022-12-26T08:05:15.917Z"
   },
   {
    "duration": 19,
    "start_time": "2022-12-26T08:05:15.929Z"
   },
   {
    "duration": 841,
    "start_time": "2022-12-26T08:05:15.951Z"
   },
   {
    "duration": 10,
    "start_time": "2022-12-26T08:05:16.794Z"
   },
   {
    "duration": 21,
    "start_time": "2022-12-26T08:05:16.805Z"
   },
   {
    "duration": 959,
    "start_time": "2022-12-26T08:05:16.828Z"
   },
   {
    "duration": 48,
    "start_time": "2022-12-26T08:05:17.789Z"
   },
   {
    "duration": 22,
    "start_time": "2022-12-26T08:05:17.839Z"
   },
   {
    "duration": 29,
    "start_time": "2022-12-26T08:05:17.879Z"
   },
   {
    "duration": 45,
    "start_time": "2022-12-26T08:05:17.910Z"
   },
   {
    "duration": 21,
    "start_time": "2022-12-26T08:05:17.977Z"
   },
   {
    "duration": 33,
    "start_time": "2022-12-26T08:05:17.999Z"
   },
   {
    "duration": 73,
    "start_time": "2022-12-26T08:05:18.034Z"
   },
   {
    "duration": 21,
    "start_time": "2022-12-26T08:05:18.109Z"
   },
   {
    "duration": 46,
    "start_time": "2022-12-26T08:05:18.132Z"
   },
   {
    "duration": 7,
    "start_time": "2022-12-26T08:05:18.180Z"
   },
   {
    "duration": 8,
    "start_time": "2022-12-26T08:05:18.189Z"
   },
   {
    "duration": 8,
    "start_time": "2022-12-26T08:05:18.199Z"
   },
   {
    "duration": 23,
    "start_time": "2022-12-26T08:05:18.209Z"
   },
   {
    "duration": 16,
    "start_time": "2022-12-26T08:05:18.234Z"
   },
   {
    "duration": 35,
    "start_time": "2022-12-26T08:05:18.255Z"
   },
   {
    "duration": 58,
    "start_time": "2022-12-26T08:05:18.292Z"
   },
   {
    "duration": 131,
    "start_time": "2022-12-26T08:05:18.352Z"
   },
   {
    "duration": 107,
    "start_time": "2022-12-26T08:05:18.485Z"
   },
   {
    "duration": 97,
    "start_time": "2022-12-26T08:05:18.594Z"
   },
   {
    "duration": 188,
    "start_time": "2022-12-26T08:05:18.693Z"
   },
   {
    "duration": 95,
    "start_time": "2022-12-26T08:05:18.883Z"
   },
   {
    "duration": 96,
    "start_time": "2022-12-26T08:05:18.983Z"
   },
   {
    "duration": 4,
    "start_time": "2022-12-26T08:05:19.081Z"
   },
   {
    "duration": 7,
    "start_time": "2022-12-26T08:05:19.087Z"
   },
   {
    "duration": 10,
    "start_time": "2022-12-26T08:05:19.096Z"
   },
   {
    "duration": 7,
    "start_time": "2022-12-26T08:05:19.108Z"
   },
   {
    "duration": 8,
    "start_time": "2022-12-26T08:05:19.117Z"
   },
   {
    "duration": 7,
    "start_time": "2022-12-26T08:05:19.127Z"
   },
   {
    "duration": 45,
    "start_time": "2022-12-26T08:05:19.136Z"
   },
   {
    "duration": 128,
    "start_time": "2022-12-26T08:05:19.184Z"
   },
   {
    "duration": 0,
    "start_time": "2022-12-26T08:05:19.313Z"
   },
   {
    "duration": 0,
    "start_time": "2022-12-26T08:05:19.314Z"
   },
   {
    "duration": 4,
    "start_time": "2022-12-26T08:05:42.838Z"
   },
   {
    "duration": 18,
    "start_time": "2022-12-26T08:05:43.220Z"
   },
   {
    "duration": 32,
    "start_time": "2022-12-26T08:06:18.913Z"
   },
   {
    "duration": 44,
    "start_time": "2022-12-26T08:07:37.397Z"
   },
   {
    "duration": 66,
    "start_time": "2022-12-26T08:07:58.382Z"
   },
   {
    "duration": 3,
    "start_time": "2022-12-26T08:08:14.285Z"
   },
   {
    "duration": 43,
    "start_time": "2022-12-26T08:08:15.436Z"
   },
   {
    "duration": 44,
    "start_time": "2022-12-26T08:08:38.525Z"
   },
   {
    "duration": 3,
    "start_time": "2022-12-26T08:10:06.549Z"
   },
   {
    "duration": 42,
    "start_time": "2022-12-26T08:10:07.197Z"
   },
   {
    "duration": 42,
    "start_time": "2022-12-26T08:10:42.597Z"
   },
   {
    "duration": 3,
    "start_time": "2022-12-26T08:10:44.612Z"
   },
   {
    "duration": 47,
    "start_time": "2022-12-26T08:10:45.246Z"
   },
   {
    "duration": 1118,
    "start_time": "2022-12-26T08:39:56.557Z"
   },
   {
    "duration": 49,
    "start_time": "2022-12-26T08:39:57.677Z"
   },
   {
    "duration": 0,
    "start_time": "2022-12-26T08:39:57.730Z"
   },
   {
    "duration": 0,
    "start_time": "2022-12-26T08:39:57.731Z"
   },
   {
    "duration": 0,
    "start_time": "2022-12-26T08:39:57.733Z"
   },
   {
    "duration": 0,
    "start_time": "2022-12-26T08:39:57.734Z"
   },
   {
    "duration": 0,
    "start_time": "2022-12-26T08:39:57.736Z"
   },
   {
    "duration": 0,
    "start_time": "2022-12-26T08:39:57.737Z"
   },
   {
    "duration": 0,
    "start_time": "2022-12-26T08:39:57.739Z"
   },
   {
    "duration": 0,
    "start_time": "2022-12-26T08:39:57.740Z"
   },
   {
    "duration": 0,
    "start_time": "2022-12-26T08:39:57.742Z"
   },
   {
    "duration": 0,
    "start_time": "2022-12-26T08:39:57.743Z"
   },
   {
    "duration": 0,
    "start_time": "2022-12-26T08:39:57.743Z"
   },
   {
    "duration": 0,
    "start_time": "2022-12-26T08:39:57.745Z"
   },
   {
    "duration": 0,
    "start_time": "2022-12-26T08:39:57.746Z"
   },
   {
    "duration": 0,
    "start_time": "2022-12-26T08:39:57.747Z"
   },
   {
    "duration": 0,
    "start_time": "2022-12-26T08:39:57.748Z"
   },
   {
    "duration": 0,
    "start_time": "2022-12-26T08:39:57.749Z"
   },
   {
    "duration": 0,
    "start_time": "2022-12-26T08:39:57.751Z"
   },
   {
    "duration": 0,
    "start_time": "2022-12-26T08:39:57.752Z"
   },
   {
    "duration": 0,
    "start_time": "2022-12-26T08:39:57.754Z"
   },
   {
    "duration": 0,
    "start_time": "2022-12-26T08:39:57.754Z"
   },
   {
    "duration": 0,
    "start_time": "2022-12-26T08:39:57.756Z"
   },
   {
    "duration": 0,
    "start_time": "2022-12-26T08:39:57.757Z"
   },
   {
    "duration": 0,
    "start_time": "2022-12-26T08:39:57.758Z"
   },
   {
    "duration": 0,
    "start_time": "2022-12-26T08:39:57.759Z"
   },
   {
    "duration": 0,
    "start_time": "2022-12-26T08:39:57.760Z"
   },
   {
    "duration": 0,
    "start_time": "2022-12-26T08:39:57.761Z"
   },
   {
    "duration": 0,
    "start_time": "2022-12-26T08:39:57.762Z"
   },
   {
    "duration": 0,
    "start_time": "2022-12-26T08:39:57.763Z"
   },
   {
    "duration": 0,
    "start_time": "2022-12-26T08:39:57.764Z"
   },
   {
    "duration": 0,
    "start_time": "2022-12-26T08:39:57.778Z"
   },
   {
    "duration": 0,
    "start_time": "2022-12-26T08:39:57.779Z"
   },
   {
    "duration": 0,
    "start_time": "2022-12-26T08:39:57.780Z"
   },
   {
    "duration": 0,
    "start_time": "2022-12-26T08:39:57.781Z"
   },
   {
    "duration": 0,
    "start_time": "2022-12-26T08:39:57.782Z"
   },
   {
    "duration": 0,
    "start_time": "2022-12-26T08:39:57.784Z"
   },
   {
    "duration": 1052,
    "start_time": "2022-12-26T08:43:56.121Z"
   },
   {
    "duration": 369,
    "start_time": "2022-12-26T08:43:57.175Z"
   },
   {
    "duration": 4,
    "start_time": "2022-12-26T08:43:57.545Z"
   },
   {
    "duration": 58,
    "start_time": "2022-12-26T08:43:57.551Z"
   },
   {
    "duration": 1246,
    "start_time": "2022-12-26T08:43:57.611Z"
   },
   {
    "duration": 852,
    "start_time": "2022-12-26T08:43:58.858Z"
   },
   {
    "duration": 930,
    "start_time": "2022-12-26T08:43:59.712Z"
   },
   {
    "duration": 76,
    "start_time": "2022-12-26T08:44:00.644Z"
   },
   {
    "duration": 22,
    "start_time": "2022-12-26T08:44:00.722Z"
   },
   {
    "duration": 43,
    "start_time": "2022-12-26T08:44:00.747Z"
   },
   {
    "duration": 69,
    "start_time": "2022-12-26T08:44:00.792Z"
   },
   {
    "duration": 30,
    "start_time": "2022-12-26T08:44:00.879Z"
   },
   {
    "duration": 48,
    "start_time": "2022-12-26T08:44:00.911Z"
   },
   {
    "duration": 188,
    "start_time": "2022-12-26T08:44:00.961Z"
   },
   {
    "duration": 42,
    "start_time": "2022-12-26T08:44:01.151Z"
   },
   {
    "duration": 49,
    "start_time": "2022-12-26T08:44:01.195Z"
   },
   {
    "duration": 5,
    "start_time": "2022-12-26T08:44:01.246Z"
   },
   {
    "duration": 70,
    "start_time": "2022-12-26T08:44:01.252Z"
   },
   {
    "duration": 37,
    "start_time": "2022-12-26T08:44:01.325Z"
   },
   {
    "duration": 41,
    "start_time": "2022-12-26T08:44:01.364Z"
   },
   {
    "duration": 33,
    "start_time": "2022-12-26T08:44:01.407Z"
   },
   {
    "duration": 41,
    "start_time": "2022-12-26T08:44:01.442Z"
   },
   {
    "duration": 81,
    "start_time": "2022-12-26T08:44:01.485Z"
   },
   {
    "duration": 111,
    "start_time": "2022-12-26T08:44:01.568Z"
   },
   {
    "duration": 130,
    "start_time": "2022-12-26T08:44:01.681Z"
   },
   {
    "duration": 27,
    "start_time": "2022-12-26T08:44:01.813Z"
   },
   {
    "duration": 160,
    "start_time": "2022-12-26T08:44:01.842Z"
   },
   {
    "duration": 171,
    "start_time": "2022-12-26T08:44:02.008Z"
   },
   {
    "duration": 29,
    "start_time": "2022-12-26T08:44:02.181Z"
   },
   {
    "duration": 7,
    "start_time": "2022-12-26T08:44:02.212Z"
   },
   {
    "duration": 24,
    "start_time": "2022-12-26T08:44:02.221Z"
   },
   {
    "duration": 17,
    "start_time": "2022-12-26T08:44:02.247Z"
   },
   {
    "duration": 10,
    "start_time": "2022-12-26T08:44:02.266Z"
   },
   {
    "duration": 142,
    "start_time": "2022-12-26T08:44:02.277Z"
   },
   {
    "duration": 0,
    "start_time": "2022-12-26T08:44:02.421Z"
   },
   {
    "duration": 0,
    "start_time": "2022-12-26T08:44:02.422Z"
   },
   {
    "duration": 4,
    "start_time": "2022-12-26T08:52:22.228Z"
   },
   {
    "duration": 4,
    "start_time": "2022-12-26T08:53:32.796Z"
   },
   {
    "duration": 15,
    "start_time": "2022-12-26T08:53:53.845Z"
   },
   {
    "duration": 5,
    "start_time": "2022-12-26T08:54:19.029Z"
   },
   {
    "duration": 3,
    "start_time": "2022-12-26T08:54:25.788Z"
   },
   {
    "duration": 23,
    "start_time": "2022-12-26T08:55:45.977Z"
   },
   {
    "duration": 16,
    "start_time": "2022-12-26T08:55:46.840Z"
   },
   {
    "duration": 16,
    "start_time": "2022-12-26T08:55:47.491Z"
   },
   {
    "duration": 6,
    "start_time": "2022-12-26T09:07:18.381Z"
   },
   {
    "duration": 6,
    "start_time": "2022-12-26T09:07:26.846Z"
   },
   {
    "duration": 6,
    "start_time": "2022-12-26T09:07:27.358Z"
   },
   {
    "duration": 5,
    "start_time": "2022-12-26T09:07:33.526Z"
   },
   {
    "duration": 14,
    "start_time": "2022-12-26T09:07:35.188Z"
   },
   {
    "duration": 6,
    "start_time": "2022-12-26T09:07:43.899Z"
   },
   {
    "duration": 1221,
    "start_time": "2022-12-26T09:12:05.498Z"
   },
   {
    "duration": 390,
    "start_time": "2022-12-26T09:12:06.721Z"
   },
   {
    "duration": 3,
    "start_time": "2022-12-26T09:12:07.113Z"
   },
   {
    "duration": 64,
    "start_time": "2022-12-26T09:12:07.118Z"
   },
   {
    "duration": 1192,
    "start_time": "2022-12-26T09:12:07.184Z"
   },
   {
    "duration": 932,
    "start_time": "2022-12-26T09:12:08.379Z"
   },
   {
    "duration": 982,
    "start_time": "2022-12-26T09:12:09.313Z"
   },
   {
    "duration": 60,
    "start_time": "2022-12-26T09:12:10.297Z"
   },
   {
    "duration": 40,
    "start_time": "2022-12-26T09:12:10.360Z"
   },
   {
    "duration": 46,
    "start_time": "2022-12-26T09:12:10.405Z"
   },
   {
    "duration": 86,
    "start_time": "2022-12-26T09:12:10.453Z"
   },
   {
    "duration": 36,
    "start_time": "2022-12-26T09:12:10.543Z"
   },
   {
    "duration": 31,
    "start_time": "2022-12-26T09:12:10.581Z"
   },
   {
    "duration": 168,
    "start_time": "2022-12-26T09:12:10.614Z"
   },
   {
    "duration": 34,
    "start_time": "2022-12-26T09:12:10.784Z"
   },
   {
    "duration": 39,
    "start_time": "2022-12-26T09:12:10.820Z"
   },
   {
    "duration": 17,
    "start_time": "2022-12-26T09:12:10.861Z"
   },
   {
    "duration": 13,
    "start_time": "2022-12-26T09:12:10.880Z"
   },
   {
    "duration": 25,
    "start_time": "2022-12-26T09:12:10.895Z"
   },
   {
    "duration": 42,
    "start_time": "2022-12-26T09:12:10.922Z"
   },
   {
    "duration": 29,
    "start_time": "2022-12-26T09:12:10.966Z"
   },
   {
    "duration": 48,
    "start_time": "2022-12-26T09:12:10.999Z"
   },
   {
    "duration": 73,
    "start_time": "2022-12-26T09:12:11.050Z"
   },
   {
    "duration": 54,
    "start_time": "2022-12-26T09:12:11.126Z"
   },
   {
    "duration": 110,
    "start_time": "2022-12-26T09:12:11.181Z"
   },
   {
    "duration": 205,
    "start_time": "2022-12-26T09:12:11.293Z"
   },
   {
    "duration": 200,
    "start_time": "2022-12-26T09:12:11.499Z"
   },
   {
    "duration": 14,
    "start_time": "2022-12-26T09:12:11.703Z"
   },
   {
    "duration": 28,
    "start_time": "2022-12-26T09:12:11.719Z"
   },
   {
    "duration": 37,
    "start_time": "2022-12-26T09:12:11.750Z"
   },
   {
    "duration": 24,
    "start_time": "2022-12-26T09:12:11.790Z"
   },
   {
    "duration": 36,
    "start_time": "2022-12-26T09:12:11.816Z"
   },
   {
    "duration": 15,
    "start_time": "2022-12-26T09:12:11.855Z"
   },
   {
    "duration": 158,
    "start_time": "2022-12-26T09:12:11.872Z"
   },
   {
    "duration": 0,
    "start_time": "2022-12-26T09:12:12.033Z"
   },
   {
    "duration": 0,
    "start_time": "2022-12-26T09:12:12.034Z"
   },
   {
    "duration": 5,
    "start_time": "2022-12-26T09:12:55.973Z"
   },
   {
    "duration": 6,
    "start_time": "2022-12-26T09:13:57.668Z"
   },
   {
    "duration": 4,
    "start_time": "2022-12-26T09:14:17.313Z"
   },
   {
    "duration": 6,
    "start_time": "2022-12-26T09:16:03.127Z"
   },
   {
    "duration": 6,
    "start_time": "2022-12-26T09:16:08.013Z"
   },
   {
    "duration": 7,
    "start_time": "2022-12-26T09:17:33.485Z"
   },
   {
    "duration": 9,
    "start_time": "2022-12-26T09:17:57.189Z"
   },
   {
    "duration": 6,
    "start_time": "2022-12-26T09:18:08.566Z"
   },
   {
    "duration": 6,
    "start_time": "2022-12-26T09:18:18.543Z"
   },
   {
    "duration": 4,
    "start_time": "2022-12-26T09:18:27.566Z"
   },
   {
    "duration": 5,
    "start_time": "2022-12-26T09:18:34.703Z"
   },
   {
    "duration": 1080,
    "start_time": "2022-12-26T09:19:42.487Z"
   },
   {
    "duration": 374,
    "start_time": "2022-12-26T09:19:43.569Z"
   },
   {
    "duration": 3,
    "start_time": "2022-12-26T09:19:43.945Z"
   },
   {
    "duration": 61,
    "start_time": "2022-12-26T09:19:43.950Z"
   },
   {
    "duration": 1156,
    "start_time": "2022-12-26T09:19:44.013Z"
   },
   {
    "duration": 867,
    "start_time": "2022-12-26T09:19:45.171Z"
   },
   {
    "duration": 891,
    "start_time": "2022-12-26T09:19:46.040Z"
   },
   {
    "duration": 73,
    "start_time": "2022-12-26T09:19:46.932Z"
   },
   {
    "duration": 18,
    "start_time": "2022-12-26T09:19:47.007Z"
   },
   {
    "duration": 50,
    "start_time": "2022-12-26T09:19:47.028Z"
   },
   {
    "duration": 57,
    "start_time": "2022-12-26T09:19:47.080Z"
   },
   {
    "duration": 19,
    "start_time": "2022-12-26T09:19:47.138Z"
   },
   {
    "duration": 27,
    "start_time": "2022-12-26T09:19:47.178Z"
   },
   {
    "duration": 159,
    "start_time": "2022-12-26T09:19:47.207Z"
   },
   {
    "duration": 20,
    "start_time": "2022-12-26T09:19:47.377Z"
   },
   {
    "duration": 31,
    "start_time": "2022-12-26T09:19:47.399Z"
   },
   {
    "duration": 5,
    "start_time": "2022-12-26T09:19:47.431Z"
   },
   {
    "duration": 18,
    "start_time": "2022-12-26T09:19:47.438Z"
   },
   {
    "duration": 20,
    "start_time": "2022-12-26T09:19:47.458Z"
   },
   {
    "duration": 11,
    "start_time": "2022-12-26T09:19:47.479Z"
   },
   {
    "duration": 16,
    "start_time": "2022-12-26T09:19:47.492Z"
   },
   {
    "duration": 13,
    "start_time": "2022-12-26T09:19:47.509Z"
   },
   {
    "duration": 71,
    "start_time": "2022-12-26T09:19:47.524Z"
   },
   {
    "duration": 89,
    "start_time": "2022-12-26T09:19:47.596Z"
   },
   {
    "duration": 98,
    "start_time": "2022-12-26T09:19:47.687Z"
   },
   {
    "duration": 196,
    "start_time": "2022-12-26T09:19:47.788Z"
   },
   {
    "duration": 98,
    "start_time": "2022-12-26T09:19:47.987Z"
   },
   {
    "duration": 88,
    "start_time": "2022-12-26T09:19:48.092Z"
   },
   {
    "duration": 6,
    "start_time": "2022-12-26T09:19:48.183Z"
   },
   {
    "duration": 5,
    "start_time": "2022-12-26T09:19:48.192Z"
   },
   {
    "duration": 11,
    "start_time": "2022-12-26T09:19:48.199Z"
   },
   {
    "duration": 9,
    "start_time": "2022-12-26T09:19:48.213Z"
   },
   {
    "duration": 255,
    "start_time": "2022-12-26T09:19:48.224Z"
   },
   {
    "duration": 0,
    "start_time": "2022-12-26T09:19:48.482Z"
   },
   {
    "duration": 0,
    "start_time": "2022-12-26T09:19:48.483Z"
   },
   {
    "duration": 5,
    "start_time": "2022-12-26T09:21:46.290Z"
   },
   {
    "duration": 14,
    "start_time": "2022-12-26T09:21:48.767Z"
   },
   {
    "duration": 6,
    "start_time": "2022-12-26T09:22:18.770Z"
   },
   {
    "duration": 20,
    "start_time": "2022-12-26T09:22:20.757Z"
   },
   {
    "duration": 6,
    "start_time": "2022-12-26T09:22:35.091Z"
   },
   {
    "duration": 17,
    "start_time": "2022-12-26T09:22:35.492Z"
   },
   {
    "duration": 6,
    "start_time": "2022-12-26T09:23:05.605Z"
   },
   {
    "duration": 3471,
    "start_time": "2022-12-26T09:23:06.940Z"
   },
   {
    "duration": 5,
    "start_time": "2022-12-26T09:23:19.606Z"
   },
   {
    "duration": 440,
    "start_time": "2022-12-26T09:23:20.519Z"
   },
   {
    "duration": 415,
    "start_time": "2022-12-26T09:23:22.771Z"
   },
   {
    "duration": 423,
    "start_time": "2022-12-26T09:23:23.226Z"
   },
   {
    "duration": 386,
    "start_time": "2022-12-26T09:23:43.227Z"
   },
   {
    "duration": 405,
    "start_time": "2022-12-26T09:23:54.140Z"
   },
   {
    "duration": 408,
    "start_time": "2022-12-26T09:24:07.373Z"
   },
   {
    "duration": 6,
    "start_time": "2022-12-26T09:24:19.845Z"
   },
   {
    "duration": 465,
    "start_time": "2022-12-26T09:24:21.631Z"
   },
   {
    "duration": 4,
    "start_time": "2022-12-26T09:26:37.860Z"
   },
   {
    "duration": 284,
    "start_time": "2022-12-26T09:26:39.199Z"
   },
   {
    "duration": 4,
    "start_time": "2022-12-26T09:28:14.756Z"
   },
   {
    "duration": 222,
    "start_time": "2022-12-26T09:28:15.773Z"
   },
   {
    "duration": 3,
    "start_time": "2022-12-26T09:28:22.852Z"
   },
   {
    "duration": 3,
    "start_time": "2022-12-26T09:28:24.868Z"
   },
   {
    "duration": 557,
    "start_time": "2022-12-26T09:28:25.517Z"
   },
   {
    "duration": 158,
    "start_time": "2022-12-26T09:28:42.453Z"
   },
   {
    "duration": 191,
    "start_time": "2022-12-26T09:28:51.756Z"
   },
   {
    "duration": 170,
    "start_time": "2022-12-26T09:28:59.829Z"
   },
   {
    "duration": 4,
    "start_time": "2022-12-26T09:29:18.402Z"
   },
   {
    "duration": 186,
    "start_time": "2022-12-26T09:29:20.973Z"
   },
   {
    "duration": 4,
    "start_time": "2022-12-26T09:29:39.157Z"
   },
   {
    "duration": 370,
    "start_time": "2022-12-26T09:29:40.167Z"
   },
   {
    "duration": 264,
    "start_time": "2022-12-26T09:29:53.103Z"
   },
   {
    "duration": 308,
    "start_time": "2022-12-26T09:29:57.990Z"
   },
   {
    "duration": 4,
    "start_time": "2022-12-26T09:30:54.179Z"
   },
   {
    "duration": 1550,
    "start_time": "2022-12-26T09:30:55.407Z"
   },
   {
    "duration": 1551,
    "start_time": "2022-12-26T09:31:01.853Z"
   },
   {
    "duration": 1570,
    "start_time": "2022-12-26T09:31:03.774Z"
   },
   {
    "duration": 4,
    "start_time": "2022-12-26T09:31:13.083Z"
   },
   {
    "duration": 430,
    "start_time": "2022-12-26T09:31:13.980Z"
   },
   {
    "duration": 609,
    "start_time": "2022-12-26T09:31:15.684Z"
   },
   {
    "duration": 3,
    "start_time": "2022-12-26T09:31:21.934Z"
   },
   {
    "duration": 268,
    "start_time": "2022-12-26T09:31:22.766Z"
   },
   {
    "duration": 266,
    "start_time": "2022-12-26T09:31:23.252Z"
   },
   {
    "duration": 264,
    "start_time": "2022-12-26T09:31:24.365Z"
   },
   {
    "duration": 403,
    "start_time": "2022-12-26T09:57:45.978Z"
   },
   {
    "duration": 1538,
    "start_time": "2022-12-26T10:02:44.603Z"
   },
   {
    "duration": 398,
    "start_time": "2022-12-26T10:02:46.144Z"
   },
   {
    "duration": 4,
    "start_time": "2022-12-26T10:02:46.545Z"
   },
   {
    "duration": 375,
    "start_time": "2022-12-26T10:02:46.551Z"
   },
   {
    "duration": 313,
    "start_time": "2022-12-26T10:02:46.929Z"
   },
   {
    "duration": 450,
    "start_time": "2022-12-26T10:02:47.246Z"
   },
   {
    "duration": 107,
    "start_time": "2022-12-26T10:02:47.698Z"
   },
   {
    "duration": 28,
    "start_time": "2022-12-26T10:02:47.807Z"
   },
   {
    "duration": 101,
    "start_time": "2022-12-26T10:02:47.837Z"
   },
   {
    "duration": 74,
    "start_time": "2022-12-26T10:02:47.941Z"
   },
   {
    "duration": 25,
    "start_time": "2022-12-26T10:02:48.018Z"
   },
   {
    "duration": 50,
    "start_time": "2022-12-26T10:02:48.045Z"
   },
   {
    "duration": 64,
    "start_time": "2022-12-26T10:02:48.098Z"
   },
   {
    "duration": 28,
    "start_time": "2022-12-26T10:02:48.177Z"
   },
   {
    "duration": 78,
    "start_time": "2022-12-26T10:02:48.207Z"
   },
   {
    "duration": 25,
    "start_time": "2022-12-26T10:02:48.289Z"
   },
   {
    "duration": 41,
    "start_time": "2022-12-26T10:02:48.317Z"
   },
   {
    "duration": 24,
    "start_time": "2022-12-26T10:02:48.362Z"
   },
   {
    "duration": 57,
    "start_time": "2022-12-26T10:02:48.389Z"
   },
   {
    "duration": 39,
    "start_time": "2022-12-26T10:02:48.449Z"
   },
   {
    "duration": 23,
    "start_time": "2022-12-26T10:02:48.491Z"
   },
   {
    "duration": 113,
    "start_time": "2022-12-26T10:02:48.517Z"
   },
   {
    "duration": 46,
    "start_time": "2022-12-26T10:02:48.632Z"
   },
   {
    "duration": 116,
    "start_time": "2022-12-26T10:02:48.681Z"
   },
   {
    "duration": 204,
    "start_time": "2022-12-26T10:02:48.799Z"
   },
   {
    "duration": 186,
    "start_time": "2022-12-26T10:02:49.005Z"
   },
   {
    "duration": 32,
    "start_time": "2022-12-26T10:02:49.193Z"
   },
   {
    "duration": 36,
    "start_time": "2022-12-26T10:02:49.227Z"
   },
   {
    "duration": 25,
    "start_time": "2022-12-26T10:02:49.265Z"
   },
   {
    "duration": 26,
    "start_time": "2022-12-26T10:02:49.292Z"
   },
   {
    "duration": 13,
    "start_time": "2022-12-26T10:02:49.320Z"
   },
   {
    "duration": 441,
    "start_time": "2022-12-26T10:02:49.336Z"
   },
   {
    "duration": 415,
    "start_time": "2022-12-26T10:02:49.779Z"
   },
   {
    "duration": 409,
    "start_time": "2022-12-26T10:02:50.196Z"
   },
   {
    "duration": 488,
    "start_time": "2022-12-26T10:04:49.101Z"
   },
   {
    "duration": 6,
    "start_time": "2022-12-26T10:04:54.891Z"
   },
   {
    "duration": 5,
    "start_time": "2022-12-26T10:05:03.243Z"
   },
   {
    "duration": 1398,
    "start_time": "2022-12-26T10:12:48.290Z"
   },
   {
    "duration": 364,
    "start_time": "2022-12-26T10:12:49.689Z"
   },
   {
    "duration": 3,
    "start_time": "2022-12-26T10:12:50.055Z"
   },
   {
    "duration": 317,
    "start_time": "2022-12-26T10:12:50.060Z"
   },
   {
    "duration": 302,
    "start_time": "2022-12-26T10:12:50.380Z"
   },
   {
    "duration": 390,
    "start_time": "2022-12-26T10:12:50.684Z"
   },
   {
    "duration": 52,
    "start_time": "2022-12-26T10:12:51.078Z"
   },
   {
    "duration": 46,
    "start_time": "2022-12-26T10:12:51.132Z"
   },
   {
    "duration": 32,
    "start_time": "2022-12-26T10:12:51.180Z"
   },
   {
    "duration": 45,
    "start_time": "2022-12-26T10:12:51.214Z"
   },
   {
    "duration": 18,
    "start_time": "2022-12-26T10:12:51.278Z"
   },
   {
    "duration": 28,
    "start_time": "2022-12-26T10:12:51.298Z"
   },
   {
    "duration": 69,
    "start_time": "2022-12-26T10:12:51.328Z"
   },
   {
    "duration": 20,
    "start_time": "2022-12-26T10:12:51.402Z"
   },
   {
    "duration": 27,
    "start_time": "2022-12-26T10:12:51.424Z"
   },
   {
    "duration": 25,
    "start_time": "2022-12-26T10:12:51.453Z"
   },
   {
    "duration": 9,
    "start_time": "2022-12-26T10:12:51.480Z"
   },
   {
    "duration": 27,
    "start_time": "2022-12-26T10:12:51.490Z"
   },
   {
    "duration": 17,
    "start_time": "2022-12-26T10:12:51.520Z"
   },
   {
    "duration": 14,
    "start_time": "2022-12-26T10:12:51.539Z"
   },
   {
    "duration": 23,
    "start_time": "2022-12-26T10:12:51.554Z"
   },
   {
    "duration": 45,
    "start_time": "2022-12-26T10:12:51.579Z"
   },
   {
    "duration": 56,
    "start_time": "2022-12-26T10:12:51.626Z"
   },
   {
    "duration": 105,
    "start_time": "2022-12-26T10:12:51.683Z"
   },
   {
    "duration": 188,
    "start_time": "2022-12-26T10:12:51.790Z"
   },
   {
    "duration": 12,
    "start_time": "2022-12-26T10:12:51.980Z"
   },
   {
    "duration": 92,
    "start_time": "2022-12-26T10:12:51.994Z"
   },
   {
    "duration": 9,
    "start_time": "2022-12-26T10:12:52.089Z"
   },
   {
    "duration": 5,
    "start_time": "2022-12-26T10:12:52.100Z"
   },
   {
    "duration": 11,
    "start_time": "2022-12-26T10:12:52.106Z"
   },
   {
    "duration": 10,
    "start_time": "2022-12-26T10:12:52.118Z"
   },
   {
    "duration": 419,
    "start_time": "2022-12-26T10:12:52.129Z"
   },
   {
    "duration": 401,
    "start_time": "2022-12-26T10:12:52.550Z"
   },
   {
    "duration": 380,
    "start_time": "2022-12-26T10:12:52.952Z"
   },
   {
    "duration": 5,
    "start_time": "2022-12-26T10:12:53.334Z"
   },
   {
    "duration": 8,
    "start_time": "2022-12-26T10:12:53.341Z"
   },
   {
    "duration": 1471,
    "start_time": "2022-12-26T10:14:11.460Z"
   },
   {
    "duration": 376,
    "start_time": "2022-12-26T10:14:12.933Z"
   },
   {
    "duration": 4,
    "start_time": "2022-12-26T10:14:13.311Z"
   },
   {
    "duration": 344,
    "start_time": "2022-12-26T10:14:13.318Z"
   },
   {
    "duration": 353,
    "start_time": "2022-12-26T10:14:13.664Z"
   },
   {
    "duration": 392,
    "start_time": "2022-12-26T10:14:14.019Z"
   },
   {
    "duration": 50,
    "start_time": "2022-12-26T10:14:14.413Z"
   },
   {
    "duration": 33,
    "start_time": "2022-12-26T10:14:14.464Z"
   },
   {
    "duration": 59,
    "start_time": "2022-12-26T10:14:14.498Z"
   },
   {
    "duration": 73,
    "start_time": "2022-12-26T10:14:14.561Z"
   },
   {
    "duration": 25,
    "start_time": "2022-12-26T10:14:14.636Z"
   },
   {
    "duration": 49,
    "start_time": "2022-12-26T10:14:14.663Z"
   },
   {
    "duration": 59,
    "start_time": "2022-12-26T10:14:14.715Z"
   },
   {
    "duration": 20,
    "start_time": "2022-12-26T10:14:14.777Z"
   },
   {
    "duration": 35,
    "start_time": "2022-12-26T10:14:14.799Z"
   },
   {
    "duration": 6,
    "start_time": "2022-12-26T10:14:14.836Z"
   },
   {
    "duration": 18,
    "start_time": "2022-12-26T10:14:14.844Z"
   },
   {
    "duration": 18,
    "start_time": "2022-12-26T10:14:14.864Z"
   },
   {
    "duration": 26,
    "start_time": "2022-12-26T10:14:14.884Z"
   },
   {
    "duration": 14,
    "start_time": "2022-12-26T10:14:14.912Z"
   },
   {
    "duration": 18,
    "start_time": "2022-12-26T10:14:14.928Z"
   },
   {
    "duration": 66,
    "start_time": "2022-12-26T10:14:14.948Z"
   },
   {
    "duration": 16,
    "start_time": "2022-12-26T10:14:15.016Z"
   },
   {
    "duration": 159,
    "start_time": "2022-12-26T10:14:15.034Z"
   },
   {
    "duration": 205,
    "start_time": "2022-12-26T10:14:15.195Z"
   },
   {
    "duration": 87,
    "start_time": "2022-12-26T10:14:15.403Z"
   },
   {
    "duration": 95,
    "start_time": "2022-12-26T10:14:15.492Z"
   },
   {
    "duration": 6,
    "start_time": "2022-12-26T10:14:15.590Z"
   },
   {
    "duration": 12,
    "start_time": "2022-12-26T10:14:15.598Z"
   },
   {
    "duration": 15,
    "start_time": "2022-12-26T10:14:15.612Z"
   },
   {
    "duration": 8,
    "start_time": "2022-12-26T10:14:15.629Z"
   },
   {
    "duration": 440,
    "start_time": "2022-12-26T10:14:15.639Z"
   },
   {
    "duration": 426,
    "start_time": "2022-12-26T10:14:16.082Z"
   },
   {
    "duration": 415,
    "start_time": "2022-12-26T10:14:16.510Z"
   },
   {
    "duration": 6,
    "start_time": "2022-12-26T10:14:16.927Z"
   },
   {
    "duration": 10,
    "start_time": "2022-12-26T10:14:16.935Z"
   },
   {
    "duration": 1459,
    "start_time": "2022-12-26T10:15:55.668Z"
   },
   {
    "duration": 414,
    "start_time": "2022-12-26T10:15:57.129Z"
   },
   {
    "duration": 5,
    "start_time": "2022-12-26T10:15:57.544Z"
   },
   {
    "duration": 377,
    "start_time": "2022-12-26T10:15:57.551Z"
   },
   {
    "duration": 325,
    "start_time": "2022-12-26T10:15:57.931Z"
   },
   {
    "duration": 497,
    "start_time": "2022-12-26T10:15:58.259Z"
   },
   {
    "duration": 63,
    "start_time": "2022-12-26T10:15:58.757Z"
   },
   {
    "duration": 20,
    "start_time": "2022-12-26T10:15:58.821Z"
   },
   {
    "duration": 51,
    "start_time": "2022-12-26T10:15:58.843Z"
   },
   {
    "duration": 53,
    "start_time": "2022-12-26T10:15:58.896Z"
   },
   {
    "duration": 34,
    "start_time": "2022-12-26T10:15:58.951Z"
   },
   {
    "duration": 51,
    "start_time": "2022-12-26T10:15:58.987Z"
   },
   {
    "duration": 56,
    "start_time": "2022-12-26T10:15:59.039Z"
   },
   {
    "duration": 21,
    "start_time": "2022-12-26T10:15:59.099Z"
   },
   {
    "duration": 45,
    "start_time": "2022-12-26T10:15:59.122Z"
   },
   {
    "duration": 6,
    "start_time": "2022-12-26T10:15:59.169Z"
   },
   {
    "duration": 22,
    "start_time": "2022-12-26T10:15:59.177Z"
   },
   {
    "duration": 15,
    "start_time": "2022-12-26T10:15:59.201Z"
   },
   {
    "duration": 31,
    "start_time": "2022-12-26T10:15:59.218Z"
   },
   {
    "duration": 14,
    "start_time": "2022-12-26T10:15:59.251Z"
   },
   {
    "duration": 38,
    "start_time": "2022-12-26T10:15:59.267Z"
   },
   {
    "duration": 64,
    "start_time": "2022-12-26T10:15:59.307Z"
   },
   {
    "duration": 29,
    "start_time": "2022-12-26T10:15:59.373Z"
   },
   {
    "duration": 207,
    "start_time": "2022-12-26T10:15:59.404Z"
   },
   {
    "duration": 188,
    "start_time": "2022-12-26T10:15:59.613Z"
   },
   {
    "duration": 190,
    "start_time": "2022-12-26T10:15:59.805Z"
   },
   {
    "duration": 37,
    "start_time": "2022-12-26T10:15:59.997Z"
   },
   {
    "duration": 33,
    "start_time": "2022-12-26T10:16:00.036Z"
   },
   {
    "duration": 30,
    "start_time": "2022-12-26T10:16:00.071Z"
   },
   {
    "duration": 20,
    "start_time": "2022-12-26T10:16:00.103Z"
   },
   {
    "duration": 15,
    "start_time": "2022-12-26T10:16:00.125Z"
   },
   {
    "duration": 22,
    "start_time": "2022-12-26T10:16:00.143Z"
   },
   {
    "duration": 13,
    "start_time": "2022-12-26T10:16:00.168Z"
   },
   {
    "duration": 457,
    "start_time": "2022-12-26T10:16:00.185Z"
   },
   {
    "duration": 452,
    "start_time": "2022-12-26T10:16:00.644Z"
   },
   {
    "duration": 428,
    "start_time": "2022-12-26T10:16:01.098Z"
   },
   {
    "duration": 6,
    "start_time": "2022-12-26T10:16:01.527Z"
   },
   {
    "duration": 59,
    "start_time": "2022-12-26T10:16:01.534Z"
   },
   {
    "duration": 1482,
    "start_time": "2022-12-26T10:17:09.397Z"
   },
   {
    "duration": 451,
    "start_time": "2022-12-26T10:17:10.881Z"
   },
   {
    "duration": 4,
    "start_time": "2022-12-26T10:17:11.334Z"
   },
   {
    "duration": 390,
    "start_time": "2022-12-26T10:17:11.339Z"
   },
   {
    "duration": 369,
    "start_time": "2022-12-26T10:17:11.731Z"
   },
   {
    "duration": 461,
    "start_time": "2022-12-26T10:17:12.103Z"
   },
   {
    "duration": 59,
    "start_time": "2022-12-26T10:17:12.566Z"
   },
   {
    "duration": 24,
    "start_time": "2022-12-26T10:17:12.628Z"
   },
   {
    "duration": 51,
    "start_time": "2022-12-26T10:17:12.654Z"
   },
   {
    "duration": 86,
    "start_time": "2022-12-26T10:17:12.707Z"
   },
   {
    "duration": 25,
    "start_time": "2022-12-26T10:17:12.794Z"
   },
   {
    "duration": 33,
    "start_time": "2022-12-26T10:17:12.821Z"
   },
   {
    "duration": 74,
    "start_time": "2022-12-26T10:17:12.856Z"
   },
   {
    "duration": 21,
    "start_time": "2022-12-26T10:17:12.934Z"
   },
   {
    "duration": 68,
    "start_time": "2022-12-26T10:17:12.958Z"
   },
   {
    "duration": 8,
    "start_time": "2022-12-26T10:17:13.029Z"
   },
   {
    "duration": 22,
    "start_time": "2022-12-26T10:17:13.040Z"
   },
   {
    "duration": 34,
    "start_time": "2022-12-26T10:17:13.064Z"
   },
   {
    "duration": 21,
    "start_time": "2022-12-26T10:17:13.100Z"
   },
   {
    "duration": 19,
    "start_time": "2022-12-26T10:17:13.124Z"
   },
   {
    "duration": 18,
    "start_time": "2022-12-26T10:17:13.145Z"
   },
   {
    "duration": 66,
    "start_time": "2022-12-26T10:17:13.165Z"
   },
   {
    "duration": 150,
    "start_time": "2022-12-26T10:17:13.233Z"
   },
   {
    "duration": 18,
    "start_time": "2022-12-26T10:17:13.396Z"
   },
   {
    "duration": 178,
    "start_time": "2022-12-26T10:17:13.416Z"
   },
   {
    "duration": 98,
    "start_time": "2022-12-26T10:17:13.599Z"
   },
   {
    "duration": 7,
    "start_time": "2022-12-26T10:17:13.699Z"
   },
   {
    "duration": 11,
    "start_time": "2022-12-26T10:17:13.708Z"
   },
   {
    "duration": 6,
    "start_time": "2022-12-26T10:17:13.721Z"
   },
   {
    "duration": 8,
    "start_time": "2022-12-26T10:17:13.728Z"
   },
   {
    "duration": 17,
    "start_time": "2022-12-26T10:17:13.737Z"
   },
   {
    "duration": 9,
    "start_time": "2022-12-26T10:17:13.756Z"
   },
   {
    "duration": 6,
    "start_time": "2022-12-26T10:17:13.767Z"
   },
   {
    "duration": 471,
    "start_time": "2022-12-26T10:17:13.775Z"
   },
   {
    "duration": 408,
    "start_time": "2022-12-26T10:17:14.247Z"
   },
   {
    "duration": 448,
    "start_time": "2022-12-26T10:17:14.657Z"
   },
   {
    "duration": 6,
    "start_time": "2022-12-26T10:17:15.107Z"
   },
   {
    "duration": 26,
    "start_time": "2022-12-26T10:17:15.114Z"
   },
   {
    "duration": 1500,
    "start_time": "2022-12-26T10:21:57.403Z"
   },
   {
    "duration": 433,
    "start_time": "2022-12-26T10:21:58.906Z"
   },
   {
    "duration": 4,
    "start_time": "2022-12-26T10:21:59.340Z"
   },
   {
    "duration": 369,
    "start_time": "2022-12-26T10:21:59.346Z"
   },
   {
    "duration": 330,
    "start_time": "2022-12-26T10:21:59.716Z"
   },
   {
    "duration": 434,
    "start_time": "2022-12-26T10:22:00.048Z"
   },
   {
    "duration": 56,
    "start_time": "2022-12-26T10:22:00.484Z"
   },
   {
    "duration": 20,
    "start_time": "2022-12-26T10:22:00.541Z"
   },
   {
    "duration": 72,
    "start_time": "2022-12-26T10:22:00.563Z"
   },
   {
    "duration": 64,
    "start_time": "2022-12-26T10:22:00.638Z"
   },
   {
    "duration": 23,
    "start_time": "2022-12-26T10:22:00.704Z"
   },
   {
    "duration": 108,
    "start_time": "2022-12-26T10:22:00.729Z"
   },
   {
    "duration": 72,
    "start_time": "2022-12-26T10:22:00.839Z"
   },
   {
    "duration": 24,
    "start_time": "2022-12-26T10:22:00.913Z"
   },
   {
    "duration": 65,
    "start_time": "2022-12-26T10:22:00.939Z"
   },
   {
    "duration": 8,
    "start_time": "2022-12-26T10:22:01.008Z"
   },
   {
    "duration": 18,
    "start_time": "2022-12-26T10:22:01.018Z"
   },
   {
    "duration": 29,
    "start_time": "2022-12-26T10:22:01.038Z"
   },
   {
    "duration": 76,
    "start_time": "2022-12-26T10:22:01.069Z"
   },
   {
    "duration": 25,
    "start_time": "2022-12-26T10:22:01.148Z"
   },
   {
    "duration": 52,
    "start_time": "2022-12-26T10:22:01.175Z"
   },
   {
    "duration": 132,
    "start_time": "2022-12-26T10:22:01.229Z"
   },
   {
    "duration": 39,
    "start_time": "2022-12-26T10:22:01.363Z"
   },
   {
    "duration": 183,
    "start_time": "2022-12-26T10:22:01.408Z"
   },
   {
    "duration": 174,
    "start_time": "2022-12-26T10:22:01.605Z"
   },
   {
    "duration": 102,
    "start_time": "2022-12-26T10:22:01.781Z"
   },
   {
    "duration": 45,
    "start_time": "2022-12-26T10:22:01.885Z"
   },
   {
    "duration": 41,
    "start_time": "2022-12-26T10:22:01.933Z"
   },
   {
    "duration": 51,
    "start_time": "2022-12-26T10:22:01.976Z"
   },
   {
    "duration": 30,
    "start_time": "2022-12-26T10:22:02.029Z"
   },
   {
    "duration": 11,
    "start_time": "2022-12-26T10:22:02.061Z"
   },
   {
    "duration": 483,
    "start_time": "2022-12-26T10:22:02.073Z"
   },
   {
    "duration": 421,
    "start_time": "2022-12-26T10:22:02.558Z"
   },
   {
    "duration": 449,
    "start_time": "2022-12-26T10:22:02.981Z"
   },
   {
    "duration": 1524,
    "start_time": "2022-12-26T10:26:25.805Z"
   },
   {
    "duration": 427,
    "start_time": "2022-12-26T10:26:27.331Z"
   },
   {
    "duration": 4,
    "start_time": "2022-12-26T10:26:27.759Z"
   },
   {
    "duration": 384,
    "start_time": "2022-12-26T10:26:27.764Z"
   },
   {
    "duration": 417,
    "start_time": "2022-12-26T10:26:28.150Z"
   },
   {
    "duration": 455,
    "start_time": "2022-12-26T10:26:28.569Z"
   },
   {
    "duration": 64,
    "start_time": "2022-12-26T10:26:29.026Z"
   },
   {
    "duration": 27,
    "start_time": "2022-12-26T10:26:29.092Z"
   },
   {
    "duration": 32,
    "start_time": "2022-12-26T10:26:29.121Z"
   },
   {
    "duration": 68,
    "start_time": "2022-12-26T10:26:29.154Z"
   },
   {
    "duration": 19,
    "start_time": "2022-12-26T10:26:29.224Z"
   },
   {
    "duration": 38,
    "start_time": "2022-12-26T10:26:29.245Z"
   },
   {
    "duration": 62,
    "start_time": "2022-12-26T10:26:29.285Z"
   },
   {
    "duration": 31,
    "start_time": "2022-12-26T10:26:29.350Z"
   },
   {
    "duration": 49,
    "start_time": "2022-12-26T10:26:29.385Z"
   },
   {
    "duration": 6,
    "start_time": "2022-12-26T10:26:29.436Z"
   },
   {
    "duration": 10,
    "start_time": "2022-12-26T10:26:29.444Z"
   },
   {
    "duration": 26,
    "start_time": "2022-12-26T10:26:29.456Z"
   },
   {
    "duration": 37,
    "start_time": "2022-12-26T10:26:29.484Z"
   },
   {
    "duration": 14,
    "start_time": "2022-12-26T10:26:29.523Z"
   },
   {
    "duration": 13,
    "start_time": "2022-12-26T10:26:29.539Z"
   },
   {
    "duration": 57,
    "start_time": "2022-12-26T10:26:29.554Z"
   },
   {
    "duration": 77,
    "start_time": "2022-12-26T10:26:29.612Z"
   },
   {
    "duration": 129,
    "start_time": "2022-12-26T10:26:29.691Z"
   },
   {
    "duration": 193,
    "start_time": "2022-12-26T10:26:29.822Z"
   },
   {
    "duration": 189,
    "start_time": "2022-12-26T10:26:30.021Z"
   },
   {
    "duration": 17,
    "start_time": "2022-12-26T10:26:30.212Z"
   },
   {
    "duration": 13,
    "start_time": "2022-12-26T10:26:30.231Z"
   },
   {
    "duration": 10,
    "start_time": "2022-12-26T10:26:30.246Z"
   },
   {
    "duration": 15,
    "start_time": "2022-12-26T10:26:30.258Z"
   },
   {
    "duration": 39,
    "start_time": "2022-12-26T10:26:30.275Z"
   },
   {
    "duration": 480,
    "start_time": "2022-12-26T10:26:30.316Z"
   },
   {
    "duration": 422,
    "start_time": "2022-12-26T10:26:30.801Z"
   },
   {
    "duration": 422,
    "start_time": "2022-12-26T10:26:31.225Z"
   },
   {
    "duration": 416,
    "start_time": "2022-12-26T10:26:52.658Z"
   },
   {
    "duration": 438,
    "start_time": "2022-12-26T10:27:07.093Z"
   },
   {
    "duration": 1432,
    "start_time": "2022-12-26T10:30:14.107Z"
   },
   {
    "duration": 415,
    "start_time": "2022-12-26T10:30:15.541Z"
   },
   {
    "duration": 4,
    "start_time": "2022-12-26T10:30:15.958Z"
   },
   {
    "duration": 344,
    "start_time": "2022-12-26T10:30:15.965Z"
   },
   {
    "duration": 360,
    "start_time": "2022-12-26T10:30:16.311Z"
   },
   {
    "duration": 416,
    "start_time": "2022-12-26T10:30:16.673Z"
   },
   {
    "duration": 52,
    "start_time": "2022-12-26T10:30:17.091Z"
   },
   {
    "duration": 36,
    "start_time": "2022-12-26T10:30:17.144Z"
   },
   {
    "duration": 33,
    "start_time": "2022-12-26T10:30:17.182Z"
   },
   {
    "duration": 74,
    "start_time": "2022-12-26T10:30:17.219Z"
   },
   {
    "duration": 22,
    "start_time": "2022-12-26T10:30:17.295Z"
   },
   {
    "duration": 41,
    "start_time": "2022-12-26T10:30:17.319Z"
   },
   {
    "duration": 62,
    "start_time": "2022-12-26T10:30:17.362Z"
   },
   {
    "duration": 20,
    "start_time": "2022-12-26T10:30:17.425Z"
   },
   {
    "duration": 49,
    "start_time": "2022-12-26T10:30:17.447Z"
   },
   {
    "duration": 7,
    "start_time": "2022-12-26T10:30:17.497Z"
   },
   {
    "duration": 10,
    "start_time": "2022-12-26T10:30:17.505Z"
   },
   {
    "duration": 11,
    "start_time": "2022-12-26T10:30:17.517Z"
   },
   {
    "duration": 17,
    "start_time": "2022-12-26T10:30:17.530Z"
   },
   {
    "duration": 34,
    "start_time": "2022-12-26T10:30:17.549Z"
   },
   {
    "duration": 15,
    "start_time": "2022-12-26T10:30:17.585Z"
   },
   {
    "duration": 50,
    "start_time": "2022-12-26T10:30:17.602Z"
   },
   {
    "duration": 36,
    "start_time": "2022-12-26T10:30:17.654Z"
   },
   {
    "duration": 97,
    "start_time": "2022-12-26T10:30:17.691Z"
   },
   {
    "duration": 113,
    "start_time": "2022-12-26T10:30:17.881Z"
   },
   {
    "duration": 94,
    "start_time": "2022-12-26T10:30:17.996Z"
   },
   {
    "duration": 5,
    "start_time": "2022-12-26T10:30:18.178Z"
   },
   {
    "duration": 11,
    "start_time": "2022-12-26T10:30:18.187Z"
   },
   {
    "duration": 6,
    "start_time": "2022-12-26T10:30:18.200Z"
   },
   {
    "duration": 7,
    "start_time": "2022-12-26T10:30:18.208Z"
   },
   {
    "duration": 6,
    "start_time": "2022-12-26T10:30:18.216Z"
   },
   {
    "duration": 510,
    "start_time": "2022-12-26T10:30:18.223Z"
   },
   {
    "duration": 483,
    "start_time": "2022-12-26T10:30:18.734Z"
   },
   {
    "duration": 399,
    "start_time": "2022-12-26T10:30:19.219Z"
   },
   {
    "duration": 1413,
    "start_time": "2022-12-26T10:36:55.325Z"
   },
   {
    "duration": 431,
    "start_time": "2022-12-26T10:36:56.740Z"
   },
   {
    "duration": 6,
    "start_time": "2022-12-26T10:36:57.173Z"
   },
   {
    "duration": 416,
    "start_time": "2022-12-26T10:36:57.182Z"
   },
   {
    "duration": 353,
    "start_time": "2022-12-26T10:36:57.600Z"
   },
   {
    "duration": 495,
    "start_time": "2022-12-26T10:36:57.955Z"
   },
   {
    "duration": 74,
    "start_time": "2022-12-26T10:36:58.453Z"
   },
   {
    "duration": 28,
    "start_time": "2022-12-26T10:36:58.528Z"
   },
   {
    "duration": 97,
    "start_time": "2022-12-26T10:36:58.558Z"
   },
   {
    "duration": 86,
    "start_time": "2022-12-26T10:36:58.658Z"
   },
   {
    "duration": 19,
    "start_time": "2022-12-26T10:36:58.746Z"
   },
   {
    "duration": 67,
    "start_time": "2022-12-26T10:36:58.767Z"
   },
   {
    "duration": 57,
    "start_time": "2022-12-26T10:36:58.836Z"
   },
   {
    "duration": 20,
    "start_time": "2022-12-26T10:36:58.895Z"
   },
   {
    "duration": 58,
    "start_time": "2022-12-26T10:36:58.917Z"
   },
   {
    "duration": 8,
    "start_time": "2022-12-26T10:36:58.977Z"
   },
   {
    "duration": 45,
    "start_time": "2022-12-26T10:36:58.987Z"
   },
   {
    "duration": 35,
    "start_time": "2022-12-26T10:36:59.034Z"
   },
   {
    "duration": 46,
    "start_time": "2022-12-26T10:36:59.071Z"
   },
   {
    "duration": 31,
    "start_time": "2022-12-26T10:36:59.119Z"
   },
   {
    "duration": 23,
    "start_time": "2022-12-26T10:36:59.152Z"
   },
   {
    "duration": 74,
    "start_time": "2022-12-26T10:36:59.177Z"
   },
   {
    "duration": 129,
    "start_time": "2022-12-26T10:36:59.252Z"
   },
   {
    "duration": 100,
    "start_time": "2022-12-26T10:36:59.387Z"
   },
   {
    "duration": 111,
    "start_time": "2022-12-26T10:36:59.492Z"
   },
   {
    "duration": 72,
    "start_time": "2022-12-26T10:36:59.606Z"
   },
   {
    "duration": 9,
    "start_time": "2022-12-26T10:36:59.694Z"
   },
   {
    "duration": 97,
    "start_time": "2022-12-26T10:36:59.709Z"
   },
   {
    "duration": 9,
    "start_time": "2022-12-26T10:36:59.808Z"
   },
   {
    "duration": 10,
    "start_time": "2022-12-26T10:36:59.820Z"
   },
   {
    "duration": 13,
    "start_time": "2022-12-26T10:36:59.832Z"
   },
   {
    "duration": 524,
    "start_time": "2022-12-26T10:36:59.847Z"
   },
   {
    "duration": 459,
    "start_time": "2022-12-26T10:37:00.377Z"
   },
   {
    "duration": 486,
    "start_time": "2022-12-26T10:37:00.837Z"
   },
   {
    "duration": 1469,
    "start_time": "2022-12-26T10:37:31.962Z"
   },
   {
    "duration": 409,
    "start_time": "2022-12-26T10:37:33.433Z"
   },
   {
    "duration": 5,
    "start_time": "2022-12-26T10:37:33.844Z"
   },
   {
    "duration": 396,
    "start_time": "2022-12-26T10:37:33.851Z"
   },
   {
    "duration": 362,
    "start_time": "2022-12-26T10:37:34.250Z"
   },
   {
    "duration": 447,
    "start_time": "2022-12-26T10:37:34.614Z"
   },
   {
    "duration": 64,
    "start_time": "2022-12-26T10:37:35.063Z"
   },
   {
    "duration": 20,
    "start_time": "2022-12-26T10:37:35.130Z"
   },
   {
    "duration": 58,
    "start_time": "2022-12-26T10:37:35.152Z"
   },
   {
    "duration": 47,
    "start_time": "2022-12-26T10:37:35.213Z"
   },
   {
    "duration": 39,
    "start_time": "2022-12-26T10:37:35.262Z"
   },
   {
    "duration": 43,
    "start_time": "2022-12-26T10:37:35.303Z"
   },
   {
    "duration": 66,
    "start_time": "2022-12-26T10:37:35.348Z"
   },
   {
    "duration": 19,
    "start_time": "2022-12-26T10:37:35.418Z"
   },
   {
    "duration": 41,
    "start_time": "2022-12-26T10:37:35.439Z"
   },
   {
    "duration": 6,
    "start_time": "2022-12-26T10:37:35.482Z"
   },
   {
    "duration": 18,
    "start_time": "2022-12-26T10:37:35.490Z"
   },
   {
    "duration": 22,
    "start_time": "2022-12-26T10:37:35.510Z"
   },
   {
    "duration": 17,
    "start_time": "2022-12-26T10:37:35.534Z"
   },
   {
    "duration": 19,
    "start_time": "2022-12-26T10:37:35.554Z"
   },
   {
    "duration": 19,
    "start_time": "2022-12-26T10:37:35.577Z"
   },
   {
    "duration": 53,
    "start_time": "2022-12-26T10:37:35.599Z"
   },
   {
    "duration": 41,
    "start_time": "2022-12-26T10:37:35.654Z"
   },
   {
    "duration": 207,
    "start_time": "2022-12-26T10:37:35.697Z"
   },
   {
    "duration": 189,
    "start_time": "2022-12-26T10:37:35.906Z"
   },
   {
    "duration": 82,
    "start_time": "2022-12-26T10:37:36.098Z"
   },
   {
    "duration": 118,
    "start_time": "2022-12-26T10:37:36.183Z"
   },
   {
    "duration": 8,
    "start_time": "2022-12-26T10:37:36.303Z"
   },
   {
    "duration": 12,
    "start_time": "2022-12-26T10:37:36.313Z"
   },
   {
    "duration": 7,
    "start_time": "2022-12-26T10:37:36.326Z"
   },
   {
    "duration": 12,
    "start_time": "2022-12-26T10:37:36.335Z"
   },
   {
    "duration": 445,
    "start_time": "2022-12-26T10:37:36.348Z"
   },
   {
    "duration": 437,
    "start_time": "2022-12-26T10:37:36.795Z"
   },
   {
    "duration": 425,
    "start_time": "2022-12-26T10:37:37.234Z"
   },
   {
    "duration": 1326,
    "start_time": "2022-12-27T08:21:51.144Z"
   },
   {
    "duration": 712,
    "start_time": "2022-12-27T08:21:52.472Z"
   },
   {
    "duration": 3,
    "start_time": "2022-12-27T08:21:53.188Z"
   },
   {
    "duration": 303,
    "start_time": "2022-12-27T08:21:53.193Z"
   },
   {
    "duration": 277,
    "start_time": "2022-12-27T08:21:53.497Z"
   },
   {
    "duration": 355,
    "start_time": "2022-12-27T08:21:53.776Z"
   },
   {
    "duration": 41,
    "start_time": "2022-12-27T08:21:54.132Z"
   },
   {
    "duration": 16,
    "start_time": "2022-12-27T08:21:54.174Z"
   },
   {
    "duration": 40,
    "start_time": "2022-12-27T08:21:54.192Z"
   },
   {
    "duration": 41,
    "start_time": "2022-12-27T08:21:54.233Z"
   },
   {
    "duration": 16,
    "start_time": "2022-12-27T08:21:54.275Z"
   },
   {
    "duration": 48,
    "start_time": "2022-12-27T08:21:54.292Z"
   },
   {
    "duration": 41,
    "start_time": "2022-12-27T08:21:54.342Z"
   },
   {
    "duration": 20,
    "start_time": "2022-12-27T08:21:54.384Z"
   },
   {
    "duration": 47,
    "start_time": "2022-12-27T08:21:54.405Z"
   },
   {
    "duration": 10,
    "start_time": "2022-12-27T08:21:54.454Z"
   },
   {
    "duration": 21,
    "start_time": "2022-12-27T08:21:54.465Z"
   },
   {
    "duration": 28,
    "start_time": "2022-12-27T08:21:54.488Z"
   },
   {
    "duration": 33,
    "start_time": "2022-12-27T08:21:54.518Z"
   },
   {
    "duration": 21,
    "start_time": "2022-12-27T08:21:54.553Z"
   },
   {
    "duration": 42,
    "start_time": "2022-12-27T08:21:54.576Z"
   },
   {
    "duration": 48,
    "start_time": "2022-12-27T08:21:54.619Z"
   },
   {
    "duration": 58,
    "start_time": "2022-12-27T08:21:54.668Z"
   },
   {
    "duration": 112,
    "start_time": "2022-12-27T08:21:54.728Z"
   },
   {
    "duration": 205,
    "start_time": "2022-12-27T08:21:54.842Z"
   },
   {
    "duration": 174,
    "start_time": "2022-12-27T08:21:55.049Z"
   },
   {
    "duration": 32,
    "start_time": "2022-12-27T08:21:55.227Z"
   },
   {
    "duration": 14,
    "start_time": "2022-12-27T08:21:55.261Z"
   },
   {
    "duration": 23,
    "start_time": "2022-12-27T08:21:55.277Z"
   },
   {
    "duration": 19,
    "start_time": "2022-12-27T08:21:55.302Z"
   },
   {
    "duration": 28,
    "start_time": "2022-12-27T08:21:55.323Z"
   },
   {
    "duration": 137,
    "start_time": "2022-12-27T08:21:55.353Z"
   },
   {
    "duration": 0,
    "start_time": "2022-12-27T08:21:55.492Z"
   },
   {
    "duration": 0,
    "start_time": "2022-12-27T08:21:55.493Z"
   },
   {
    "duration": 6,
    "start_time": "2022-12-27T08:26:54.924Z"
   },
   {
    "duration": 17,
    "start_time": "2022-12-27T08:26:58.487Z"
   },
   {
    "duration": 5,
    "start_time": "2022-12-27T08:27:23.777Z"
   },
   {
    "duration": 19,
    "start_time": "2022-12-27T08:27:30.602Z"
   },
   {
    "duration": 2,
    "start_time": "2022-12-27T08:51:13.969Z"
   },
   {
    "duration": 3,
    "start_time": "2022-12-27T08:51:14.959Z"
   },
   {
    "duration": 5,
    "start_time": "2022-12-27T08:51:16.506Z"
   },
   {
    "duration": 18,
    "start_time": "2022-12-27T08:51:21.762Z"
   },
   {
    "duration": 3,
    "start_time": "2022-12-27T08:52:50.410Z"
   },
   {
    "duration": 3,
    "start_time": "2022-12-27T08:52:51.369Z"
   },
   {
    "duration": 5,
    "start_time": "2022-12-27T08:52:52.113Z"
   },
   {
    "duration": 21,
    "start_time": "2022-12-27T08:52:53.768Z"
   },
   {
    "duration": 15,
    "start_time": "2022-12-27T08:53:33.184Z"
   },
   {
    "duration": 8,
    "start_time": "2022-12-27T08:53:51.584Z"
   },
   {
    "duration": 13,
    "start_time": "2022-12-27T08:53:58.970Z"
   },
   {
    "duration": 16,
    "start_time": "2022-12-27T08:54:08.296Z"
   },
   {
    "duration": 809,
    "start_time": "2022-12-27T08:54:18.840Z"
   },
   {
    "duration": 16,
    "start_time": "2022-12-27T08:54:25.425Z"
   },
   {
    "duration": 904,
    "start_time": "2022-12-27T08:56:32.745Z"
   },
   {
    "duration": 9,
    "start_time": "2022-12-27T08:56:43.208Z"
   },
   {
    "duration": 4,
    "start_time": "2022-12-27T08:57:00.321Z"
   },
   {
    "duration": 7,
    "start_time": "2022-12-27T08:57:04.330Z"
   },
   {
    "duration": 15,
    "start_time": "2022-12-27T08:57:14.977Z"
   },
   {
    "duration": 16,
    "start_time": "2022-12-27T08:57:19.309Z"
   },
   {
    "duration": 8,
    "start_time": "2022-12-27T08:57:44.129Z"
   },
   {
    "duration": 15,
    "start_time": "2022-12-27T08:57:57.288Z"
   },
   {
    "duration": 8,
    "start_time": "2022-12-27T09:00:12.081Z"
   },
   {
    "duration": 15,
    "start_time": "2022-12-27T09:00:21.347Z"
   },
   {
    "duration": 2,
    "start_time": "2022-12-27T09:00:31.930Z"
   },
   {
    "duration": 8,
    "start_time": "2022-12-27T09:00:32.481Z"
   },
   {
    "duration": 8,
    "start_time": "2022-12-27T09:00:32.843Z"
   },
   {
    "duration": 1206,
    "start_time": "2022-12-27T09:00:43.082Z"
   },
   {
    "duration": 350,
    "start_time": "2022-12-27T09:00:44.290Z"
   },
   {
    "duration": 4,
    "start_time": "2022-12-27T09:00:44.641Z"
   },
   {
    "duration": 306,
    "start_time": "2022-12-27T09:00:44.646Z"
   },
   {
    "duration": 304,
    "start_time": "2022-12-27T09:00:44.953Z"
   },
   {
    "duration": 380,
    "start_time": "2022-12-27T09:00:45.259Z"
   },
   {
    "duration": 42,
    "start_time": "2022-12-27T09:00:45.640Z"
   },
   {
    "duration": 16,
    "start_time": "2022-12-27T09:00:45.684Z"
   },
   {
    "duration": 46,
    "start_time": "2022-12-27T09:00:45.702Z"
   },
   {
    "duration": 39,
    "start_time": "2022-12-27T09:00:45.751Z"
   },
   {
    "duration": 15,
    "start_time": "2022-12-27T09:00:45.791Z"
   },
   {
    "duration": 22,
    "start_time": "2022-12-27T09:00:45.821Z"
   },
   {
    "duration": 42,
    "start_time": "2022-12-27T09:00:45.845Z"
   },
   {
    "duration": 14,
    "start_time": "2022-12-27T09:00:45.889Z"
   },
   {
    "duration": 24,
    "start_time": "2022-12-27T09:00:45.921Z"
   },
   {
    "duration": 5,
    "start_time": "2022-12-27T09:00:45.947Z"
   },
   {
    "duration": 11,
    "start_time": "2022-12-27T09:00:45.954Z"
   },
   {
    "duration": 7,
    "start_time": "2022-12-27T09:00:45.967Z"
   },
   {
    "duration": 15,
    "start_time": "2022-12-27T09:00:45.976Z"
   },
   {
    "duration": 12,
    "start_time": "2022-12-27T09:00:45.993Z"
   },
   {
    "duration": 24,
    "start_time": "2022-12-27T09:00:46.006Z"
   },
   {
    "duration": 42,
    "start_time": "2022-12-27T09:00:46.032Z"
   },
   {
    "duration": 50,
    "start_time": "2022-12-27T09:00:46.075Z"
   },
   {
    "duration": 109,
    "start_time": "2022-12-27T09:00:46.126Z"
   },
   {
    "duration": 190,
    "start_time": "2022-12-27T09:00:46.237Z"
   },
   {
    "duration": 94,
    "start_time": "2022-12-27T09:00:46.429Z"
   },
   {
    "duration": 105,
    "start_time": "2022-12-27T09:00:46.524Z"
   },
   {
    "duration": 5,
    "start_time": "2022-12-27T09:00:46.632Z"
   },
   {
    "duration": 5,
    "start_time": "2022-12-27T09:00:46.638Z"
   },
   {
    "duration": 6,
    "start_time": "2022-12-27T09:00:46.645Z"
   },
   {
    "duration": 6,
    "start_time": "2022-12-27T09:00:46.652Z"
   },
   {
    "duration": 3294,
    "start_time": "2022-12-27T09:00:46.660Z"
   },
   {
    "duration": 3303,
    "start_time": "2022-12-27T09:00:49.955Z"
   },
   {
    "duration": 3303,
    "start_time": "2022-12-27T09:00:53.260Z"
   },
   {
    "duration": 5,
    "start_time": "2022-12-27T09:02:24.538Z"
   },
   {
    "duration": 1199,
    "start_time": "2022-12-27T09:02:27.777Z"
   },
   {
    "duration": 341,
    "start_time": "2022-12-27T09:02:28.978Z"
   },
   {
    "duration": 3,
    "start_time": "2022-12-27T09:02:29.320Z"
   },
   {
    "duration": 282,
    "start_time": "2022-12-27T09:02:29.325Z"
   },
   {
    "duration": 269,
    "start_time": "2022-12-27T09:02:29.609Z"
   },
   {
    "duration": 356,
    "start_time": "2022-12-27T09:02:29.879Z"
   },
   {
    "duration": 42,
    "start_time": "2022-12-27T09:02:30.236Z"
   },
   {
    "duration": 14,
    "start_time": "2022-12-27T09:02:30.280Z"
   },
   {
    "duration": 45,
    "start_time": "2022-12-27T09:02:30.295Z"
   },
   {
    "duration": 38,
    "start_time": "2022-12-27T09:02:30.342Z"
   },
   {
    "duration": 15,
    "start_time": "2022-12-27T09:02:30.382Z"
   },
   {
    "duration": 43,
    "start_time": "2022-12-27T09:02:30.399Z"
   },
   {
    "duration": 45,
    "start_time": "2022-12-27T09:02:30.443Z"
   },
   {
    "duration": 15,
    "start_time": "2022-12-27T09:02:30.489Z"
   },
   {
    "duration": 54,
    "start_time": "2022-12-27T09:02:30.506Z"
   },
   {
    "duration": 7,
    "start_time": "2022-12-27T09:02:30.562Z"
   },
   {
    "duration": 46,
    "start_time": "2022-12-27T09:02:30.571Z"
   },
   {
    "duration": 50,
    "start_time": "2022-12-27T09:02:30.619Z"
   },
   {
    "duration": 47,
    "start_time": "2022-12-27T09:02:30.670Z"
   },
   {
    "duration": 26,
    "start_time": "2022-12-27T09:02:30.718Z"
   },
   {
    "duration": 33,
    "start_time": "2022-12-27T09:02:30.746Z"
   },
   {
    "duration": 56,
    "start_time": "2022-12-27T09:02:30.781Z"
   },
   {
    "duration": 85,
    "start_time": "2022-12-27T09:02:30.839Z"
   },
   {
    "duration": 105,
    "start_time": "2022-12-27T09:02:30.926Z"
   },
   {
    "duration": 109,
    "start_time": "2022-12-27T09:02:31.121Z"
   },
   {
    "duration": 90,
    "start_time": "2022-12-27T09:02:31.233Z"
   },
   {
    "duration": 109,
    "start_time": "2022-12-27T09:02:31.325Z"
   },
   {
    "duration": 16,
    "start_time": "2022-12-27T09:02:31.438Z"
   },
   {
    "duration": 18,
    "start_time": "2022-12-27T09:02:31.455Z"
   },
   {
    "duration": 26,
    "start_time": "2022-12-27T09:02:31.474Z"
   },
   {
    "duration": 33,
    "start_time": "2022-12-27T09:02:31.502Z"
   },
   {
    "duration": 1061,
    "start_time": "2022-12-27T09:02:31.537Z"
   },
   {
    "duration": 1021,
    "start_time": "2022-12-27T09:02:32.601Z"
   },
   {
    "duration": 1030,
    "start_time": "2022-12-27T09:02:33.624Z"
   },
   {
    "duration": 4,
    "start_time": "2022-12-27T09:05:05.074Z"
   },
   {
    "duration": 1025,
    "start_time": "2022-12-27T09:05:07.899Z"
   },
   {
    "duration": 1011,
    "start_time": "2022-12-27T09:05:09.865Z"
   },
   {
    "duration": 1006,
    "start_time": "2022-12-27T09:05:11.402Z"
   },
   {
    "duration": 1227,
    "start_time": "2022-12-27T09:09:58.443Z"
   },
   {
    "duration": 346,
    "start_time": "2022-12-27T09:09:59.672Z"
   },
   {
    "duration": 5,
    "start_time": "2022-12-27T09:10:00.019Z"
   },
   {
    "duration": 315,
    "start_time": "2022-12-27T09:10:00.026Z"
   },
   {
    "duration": 283,
    "start_time": "2022-12-27T09:10:00.343Z"
   },
   {
    "duration": 342,
    "start_time": "2022-12-27T09:10:00.628Z"
   },
   {
    "duration": 55,
    "start_time": "2022-12-27T09:10:00.972Z"
   },
   {
    "duration": 16,
    "start_time": "2022-12-27T09:10:01.029Z"
   },
   {
    "duration": 55,
    "start_time": "2022-12-27T09:10:01.046Z"
   },
   {
    "duration": 47,
    "start_time": "2022-12-27T09:10:01.103Z"
   },
   {
    "duration": 18,
    "start_time": "2022-12-27T09:10:01.152Z"
   },
   {
    "duration": 73,
    "start_time": "2022-12-27T09:10:01.172Z"
   },
   {
    "duration": 62,
    "start_time": "2022-12-27T09:10:01.247Z"
   },
   {
    "duration": 18,
    "start_time": "2022-12-27T09:10:01.311Z"
   },
   {
    "duration": 47,
    "start_time": "2022-12-27T09:10:01.331Z"
   },
   {
    "duration": 7,
    "start_time": "2022-12-27T09:10:01.379Z"
   },
   {
    "duration": 8,
    "start_time": "2022-12-27T09:10:01.388Z"
   },
   {
    "duration": 17,
    "start_time": "2022-12-27T09:10:01.398Z"
   },
   {
    "duration": 32,
    "start_time": "2022-12-27T09:10:01.416Z"
   },
   {
    "duration": 55,
    "start_time": "2022-12-27T09:10:01.450Z"
   },
   {
    "duration": 30,
    "start_time": "2022-12-27T09:10:01.507Z"
   },
   {
    "duration": 106,
    "start_time": "2022-12-27T09:10:01.539Z"
   },
   {
    "duration": 78,
    "start_time": "2022-12-27T09:10:01.647Z"
   },
   {
    "duration": 104,
    "start_time": "2022-12-27T09:10:01.727Z"
   },
   {
    "duration": 96,
    "start_time": "2022-12-27T09:10:01.835Z"
   },
   {
    "duration": 99,
    "start_time": "2022-12-27T09:10:02.023Z"
   },
   {
    "duration": 19,
    "start_time": "2022-12-27T09:10:02.124Z"
   },
   {
    "duration": 13,
    "start_time": "2022-12-27T09:10:02.146Z"
   },
   {
    "duration": 32,
    "start_time": "2022-12-27T09:10:02.161Z"
   },
   {
    "duration": 35,
    "start_time": "2022-12-27T09:10:02.194Z"
   },
   {
    "duration": 27,
    "start_time": "2022-12-27T09:10:02.231Z"
   },
   {
    "duration": 1076,
    "start_time": "2022-12-27T09:10:02.260Z"
   },
   {
    "duration": 1052,
    "start_time": "2022-12-27T09:10:03.338Z"
   },
   {
    "duration": 1112,
    "start_time": "2022-12-27T09:10:04.392Z"
   },
   {
    "duration": 43,
    "start_time": "2022-12-27T09:51:39.589Z"
   },
   {
    "duration": 4,
    "start_time": "2022-12-27T09:51:43.535Z"
   },
   {
    "duration": 7,
    "start_time": "2022-12-27T09:51:44.100Z"
   },
   {
    "duration": 1485,
    "start_time": "2022-12-27T10:02:43.803Z"
   },
   {
    "duration": 733,
    "start_time": "2022-12-27T10:02:45.290Z"
   },
   {
    "duration": 4,
    "start_time": "2022-12-27T10:02:46.024Z"
   },
   {
    "duration": 297,
    "start_time": "2022-12-27T10:02:46.029Z"
   },
   {
    "duration": 300,
    "start_time": "2022-12-27T10:02:46.329Z"
   },
   {
    "duration": 341,
    "start_time": "2022-12-27T10:02:46.631Z"
   },
   {
    "duration": 52,
    "start_time": "2022-12-27T10:02:46.974Z"
   },
   {
    "duration": 19,
    "start_time": "2022-12-27T10:02:47.028Z"
   },
   {
    "duration": 33,
    "start_time": "2022-12-27T10:02:47.049Z"
   },
   {
    "duration": 50,
    "start_time": "2022-12-27T10:02:47.084Z"
   },
   {
    "duration": 16,
    "start_time": "2022-12-27T10:02:47.135Z"
   },
   {
    "duration": 44,
    "start_time": "2022-12-27T10:02:47.153Z"
   },
   {
    "duration": 42,
    "start_time": "2022-12-27T10:02:47.199Z"
   },
   {
    "duration": 15,
    "start_time": "2022-12-27T10:02:47.244Z"
   },
   {
    "duration": 38,
    "start_time": "2022-12-27T10:02:47.260Z"
   },
   {
    "duration": 5,
    "start_time": "2022-12-27T10:02:47.300Z"
   },
   {
    "duration": 142,
    "start_time": "2022-12-27T10:02:47.307Z"
   },
   {
    "duration": 0,
    "start_time": "2022-12-27T10:02:47.450Z"
   },
   {
    "duration": 0,
    "start_time": "2022-12-27T10:02:47.452Z"
   },
   {
    "duration": 0,
    "start_time": "2022-12-27T10:02:47.453Z"
   },
   {
    "duration": 0,
    "start_time": "2022-12-27T10:02:47.454Z"
   },
   {
    "duration": 0,
    "start_time": "2022-12-27T10:02:47.454Z"
   },
   {
    "duration": 0,
    "start_time": "2022-12-27T10:02:47.455Z"
   },
   {
    "duration": 0,
    "start_time": "2022-12-27T10:02:47.456Z"
   },
   {
    "duration": 0,
    "start_time": "2022-12-27T10:02:47.458Z"
   },
   {
    "duration": 0,
    "start_time": "2022-12-27T10:02:47.459Z"
   },
   {
    "duration": 0,
    "start_time": "2022-12-27T10:02:47.459Z"
   },
   {
    "duration": 0,
    "start_time": "2022-12-27T10:02:47.460Z"
   },
   {
    "duration": 0,
    "start_time": "2022-12-27T10:02:47.461Z"
   },
   {
    "duration": 0,
    "start_time": "2022-12-27T10:02:47.462Z"
   },
   {
    "duration": 0,
    "start_time": "2022-12-27T10:02:47.463Z"
   },
   {
    "duration": 0,
    "start_time": "2022-12-27T10:02:47.463Z"
   },
   {
    "duration": 0,
    "start_time": "2022-12-27T10:02:47.464Z"
   },
   {
    "duration": 0,
    "start_time": "2022-12-27T10:02:47.465Z"
   },
   {
    "duration": 0,
    "start_time": "2022-12-27T10:02:47.466Z"
   },
   {
    "duration": 0,
    "start_time": "2022-12-27T10:02:47.467Z"
   },
   {
    "duration": 1230,
    "start_time": "2022-12-27T10:03:51.200Z"
   },
   {
    "duration": 338,
    "start_time": "2022-12-27T10:03:52.433Z"
   },
   {
    "duration": 3,
    "start_time": "2022-12-27T10:03:52.772Z"
   },
   {
    "duration": 290,
    "start_time": "2022-12-27T10:03:52.777Z"
   },
   {
    "duration": 288,
    "start_time": "2022-12-27T10:03:53.068Z"
   },
   {
    "duration": 346,
    "start_time": "2022-12-27T10:03:53.358Z"
   },
   {
    "duration": 41,
    "start_time": "2022-12-27T10:03:53.706Z"
   },
   {
    "duration": 15,
    "start_time": "2022-12-27T10:03:53.749Z"
   },
   {
    "duration": 46,
    "start_time": "2022-12-27T10:03:53.766Z"
   },
   {
    "duration": 39,
    "start_time": "2022-12-27T10:03:53.816Z"
   },
   {
    "duration": 15,
    "start_time": "2022-12-27T10:03:53.857Z"
   },
   {
    "duration": 38,
    "start_time": "2022-12-27T10:03:53.873Z"
   },
   {
    "duration": 50,
    "start_time": "2022-12-27T10:03:53.913Z"
   },
   {
    "duration": 17,
    "start_time": "2022-12-27T10:03:53.965Z"
   },
   {
    "duration": 30,
    "start_time": "2022-12-27T10:03:53.998Z"
   },
   {
    "duration": 6,
    "start_time": "2022-12-27T10:03:54.030Z"
   },
   {
    "duration": 377,
    "start_time": "2022-12-27T10:03:54.038Z"
   },
   {
    "duration": 81,
    "start_time": "2022-12-27T10:03:54.417Z"
   },
   {
    "duration": 111,
    "start_time": "2022-12-27T10:03:54.502Z"
   },
   {
    "duration": 15,
    "start_time": "2022-12-27T10:03:54.615Z"
   },
   {
    "duration": 20,
    "start_time": "2022-12-27T10:03:54.632Z"
   },
   {
    "duration": 18,
    "start_time": "2022-12-27T10:03:54.654Z"
   },
   {
    "duration": 14,
    "start_time": "2022-12-27T10:03:54.674Z"
   },
   {
    "duration": 57,
    "start_time": "2022-12-27T10:03:54.690Z"
   },
   {
    "duration": 56,
    "start_time": "2022-12-27T10:03:54.749Z"
   },
   {
    "duration": 111,
    "start_time": "2022-12-27T10:03:54.807Z"
   },
   {
    "duration": 181,
    "start_time": "2022-12-27T10:03:54.921Z"
   },
   {
    "duration": 91,
    "start_time": "2022-12-27T10:03:55.109Z"
   },
   {
    "duration": 103,
    "start_time": "2022-12-27T10:03:55.202Z"
   },
   {
    "duration": 11,
    "start_time": "2022-12-27T10:03:55.306Z"
   },
   {
    "duration": 12,
    "start_time": "2022-12-27T10:03:55.318Z"
   },
   {
    "duration": 9,
    "start_time": "2022-12-27T10:03:55.331Z"
   },
   {
    "duration": 8,
    "start_time": "2022-12-27T10:03:55.342Z"
   },
   {
    "duration": 1109,
    "start_time": "2022-12-27T10:03:55.352Z"
   },
   {
    "duration": 1038,
    "start_time": "2022-12-27T10:03:56.462Z"
   },
   {
    "duration": 1070,
    "start_time": "2022-12-27T10:03:57.501Z"
   },
   {
    "duration": 5,
    "start_time": "2022-12-27T10:05:51.080Z"
   },
   {
    "duration": 376,
    "start_time": "2022-12-27T10:05:52.032Z"
   },
   {
    "duration": 52,
    "start_time": "2022-12-27T10:06:33.054Z"
   },
   {
    "duration": 427,
    "start_time": "2022-12-27T10:06:38.189Z"
   },
   {
    "duration": 41,
    "start_time": "2022-12-27T10:07:56.750Z"
   },
   {
    "duration": 128,
    "start_time": "2022-12-27T10:08:10.550Z"
   },
   {
    "duration": 45,
    "start_time": "2022-12-27T10:08:20.128Z"
   },
   {
    "duration": 43,
    "start_time": "2022-12-27T10:09:01.351Z"
   },
   {
    "duration": 44,
    "start_time": "2022-12-27T10:09:10.001Z"
   },
   {
    "duration": 41,
    "start_time": "2022-12-27T10:09:15.287Z"
   },
   {
    "duration": 403,
    "start_time": "2022-12-27T10:10:32.809Z"
   },
   {
    "duration": 15,
    "start_time": "2022-12-27T10:11:03.895Z"
   },
   {
    "duration": 18,
    "start_time": "2022-12-27T10:11:30.942Z"
   },
   {
    "duration": 12,
    "start_time": "2022-12-27T10:13:54.215Z"
   },
   {
    "duration": 19,
    "start_time": "2022-12-27T10:13:57.686Z"
   },
   {
    "duration": 11,
    "start_time": "2022-12-27T10:14:49.026Z"
   },
   {
    "duration": 14,
    "start_time": "2022-12-27T10:15:13.831Z"
   },
   {
    "duration": 17,
    "start_time": "2022-12-27T10:15:43.314Z"
   },
   {
    "duration": 1249,
    "start_time": "2022-12-27T10:18:21.513Z"
   },
   {
    "duration": 383,
    "start_time": "2022-12-27T10:18:22.764Z"
   },
   {
    "duration": 3,
    "start_time": "2022-12-27T10:18:23.149Z"
   },
   {
    "duration": 302,
    "start_time": "2022-12-27T10:18:23.153Z"
   },
   {
    "duration": 290,
    "start_time": "2022-12-27T10:18:23.457Z"
   },
   {
    "duration": 386,
    "start_time": "2022-12-27T10:18:23.748Z"
   },
   {
    "duration": 49,
    "start_time": "2022-12-27T10:18:24.135Z"
   },
   {
    "duration": 23,
    "start_time": "2022-12-27T10:18:24.198Z"
   },
   {
    "duration": 49,
    "start_time": "2022-12-27T10:18:24.222Z"
   },
   {
    "duration": 44,
    "start_time": "2022-12-27T10:18:24.274Z"
   },
   {
    "duration": 19,
    "start_time": "2022-12-27T10:18:24.320Z"
   },
   {
    "duration": 31,
    "start_time": "2022-12-27T10:18:24.340Z"
   },
   {
    "duration": 58,
    "start_time": "2022-12-27T10:18:24.373Z"
   },
   {
    "duration": 15,
    "start_time": "2022-12-27T10:18:24.433Z"
   },
   {
    "duration": 26,
    "start_time": "2022-12-27T10:18:24.449Z"
   },
   {
    "duration": 6,
    "start_time": "2022-12-27T10:18:24.476Z"
   },
   {
    "duration": 124,
    "start_time": "2022-12-27T10:18:24.497Z"
   },
   {
    "duration": 182,
    "start_time": "2022-12-27T10:18:24.623Z"
   },
   {
    "duration": 190,
    "start_time": "2022-12-27T10:18:24.807Z"
   },
   {
    "duration": 4,
    "start_time": "2022-12-27T10:18:24.999Z"
   },
   {
    "duration": 110,
    "start_time": "2022-12-27T10:18:25.005Z"
   },
   {
    "duration": 11,
    "start_time": "2022-12-27T10:18:25.116Z"
   },
   {
    "duration": 9,
    "start_time": "2022-12-27T10:18:25.129Z"
   },
   {
    "duration": 115,
    "start_time": "2022-12-27T10:18:25.140Z"
   },
   {
    "duration": 0,
    "start_time": "2022-12-27T10:18:25.257Z"
   },
   {
    "duration": 0,
    "start_time": "2022-12-27T10:18:25.257Z"
   },
   {
    "duration": 0,
    "start_time": "2022-12-27T10:18:25.258Z"
   },
   {
    "duration": 0,
    "start_time": "2022-12-27T10:18:25.259Z"
   },
   {
    "duration": 1310,
    "start_time": "2022-12-27T10:20:00.909Z"
   },
   {
    "duration": 378,
    "start_time": "2022-12-27T10:20:02.220Z"
   },
   {
    "duration": 5,
    "start_time": "2022-12-27T10:20:02.601Z"
   },
   {
    "duration": 330,
    "start_time": "2022-12-27T10:20:02.608Z"
   },
   {
    "duration": 308,
    "start_time": "2022-12-27T10:20:02.940Z"
   },
   {
    "duration": 411,
    "start_time": "2022-12-27T10:20:03.249Z"
   },
   {
    "duration": 55,
    "start_time": "2022-12-27T10:20:03.661Z"
   },
   {
    "duration": 23,
    "start_time": "2022-12-27T10:20:03.718Z"
   },
   {
    "duration": 33,
    "start_time": "2022-12-27T10:20:03.742Z"
   },
   {
    "duration": 53,
    "start_time": "2022-12-27T10:20:03.777Z"
   },
   {
    "duration": 17,
    "start_time": "2022-12-27T10:20:03.831Z"
   },
   {
    "duration": 29,
    "start_time": "2022-12-27T10:20:03.850Z"
   },
   {
    "duration": 55,
    "start_time": "2022-12-27T10:20:03.881Z"
   },
   {
    "duration": 19,
    "start_time": "2022-12-27T10:20:03.939Z"
   },
   {
    "duration": 67,
    "start_time": "2022-12-27T10:20:03.960Z"
   },
   {
    "duration": 6,
    "start_time": "2022-12-27T10:20:04.029Z"
   },
   {
    "duration": 163,
    "start_time": "2022-12-27T10:20:04.036Z"
   },
   {
    "duration": 209,
    "start_time": "2022-12-27T10:20:04.201Z"
   },
   {
    "duration": 184,
    "start_time": "2022-12-27T10:20:04.414Z"
   },
   {
    "duration": 14,
    "start_time": "2022-12-27T10:20:04.600Z"
   },
   {
    "duration": 101,
    "start_time": "2022-12-27T10:20:04.618Z"
   },
   {
    "duration": 12,
    "start_time": "2022-12-27T10:20:04.720Z"
   },
   {
    "duration": 22,
    "start_time": "2022-12-27T10:20:04.733Z"
   },
   {
    "duration": 15,
    "start_time": "2022-12-27T10:20:04.758Z"
   },
   {
    "duration": 13,
    "start_time": "2022-12-27T10:20:04.775Z"
   },
   {
    "duration": 1250,
    "start_time": "2022-12-27T10:20:04.790Z"
   },
   {
    "duration": 1112,
    "start_time": "2022-12-27T10:20:06.041Z"
   },
   {
    "duration": 1100,
    "start_time": "2022-12-27T10:20:07.155Z"
   },
   {
    "duration": 1302,
    "start_time": "2022-12-27T10:27:27.065Z"
   },
   {
    "duration": 358,
    "start_time": "2022-12-27T10:27:28.368Z"
   },
   {
    "duration": 3,
    "start_time": "2022-12-27T10:27:28.728Z"
   },
   {
    "duration": 292,
    "start_time": "2022-12-27T10:27:28.733Z"
   },
   {
    "duration": 300,
    "start_time": "2022-12-27T10:27:29.026Z"
   },
   {
    "duration": 377,
    "start_time": "2022-12-27T10:27:29.327Z"
   },
   {
    "duration": 45,
    "start_time": "2022-12-27T10:27:29.706Z"
   },
   {
    "duration": 14,
    "start_time": "2022-12-27T10:27:29.752Z"
   },
   {
    "duration": 34,
    "start_time": "2022-12-27T10:27:29.767Z"
   },
   {
    "duration": 40,
    "start_time": "2022-12-27T10:27:29.804Z"
   },
   {
    "duration": 15,
    "start_time": "2022-12-27T10:27:29.845Z"
   },
   {
    "duration": 42,
    "start_time": "2022-12-27T10:27:29.861Z"
   },
   {
    "duration": 48,
    "start_time": "2022-12-27T10:27:29.905Z"
   },
   {
    "duration": 16,
    "start_time": "2022-12-27T10:27:29.955Z"
   },
   {
    "duration": 92,
    "start_time": "2022-12-27T10:27:29.974Z"
   },
   {
    "duration": 83,
    "start_time": "2022-12-27T10:27:30.068Z"
   },
   {
    "duration": 157,
    "start_time": "2022-12-27T10:27:30.153Z"
   },
   {
    "duration": 187,
    "start_time": "2022-12-27T10:27:30.312Z"
   },
   {
    "duration": 196,
    "start_time": "2022-12-27T10:27:30.505Z"
   },
   {
    "duration": 102,
    "start_time": "2022-12-27T10:27:30.703Z"
   },
   {
    "duration": 144,
    "start_time": "2022-12-27T10:27:30.806Z"
   },
   {
    "duration": 39,
    "start_time": "2022-12-27T10:27:30.952Z"
   },
   {
    "duration": 36,
    "start_time": "2022-12-27T10:27:30.992Z"
   },
   {
    "duration": 20,
    "start_time": "2022-12-27T10:27:31.030Z"
   },
   {
    "duration": 30,
    "start_time": "2022-12-27T10:27:31.051Z"
   },
   {
    "duration": 1188,
    "start_time": "2022-12-27T10:27:31.082Z"
   },
   {
    "duration": 1037,
    "start_time": "2022-12-27T10:27:32.272Z"
   },
   {
    "duration": 1031,
    "start_time": "2022-12-27T10:27:33.312Z"
   },
   {
    "duration": 1305,
    "start_time": "2022-12-27T10:29:27.084Z"
   },
   {
    "duration": 382,
    "start_time": "2022-12-27T10:29:28.391Z"
   },
   {
    "duration": 4,
    "start_time": "2022-12-27T10:29:28.774Z"
   },
   {
    "duration": 312,
    "start_time": "2022-12-27T10:29:28.780Z"
   },
   {
    "duration": 287,
    "start_time": "2022-12-27T10:29:29.093Z"
   },
   {
    "duration": 367,
    "start_time": "2022-12-27T10:29:29.381Z"
   },
   {
    "duration": 52,
    "start_time": "2022-12-27T10:29:29.749Z"
   },
   {
    "duration": 17,
    "start_time": "2022-12-27T10:29:29.802Z"
   },
   {
    "duration": 25,
    "start_time": "2022-12-27T10:29:29.820Z"
   },
   {
    "duration": 56,
    "start_time": "2022-12-27T10:29:29.847Z"
   },
   {
    "duration": 17,
    "start_time": "2022-12-27T10:29:29.906Z"
   },
   {
    "duration": 35,
    "start_time": "2022-12-27T10:29:29.926Z"
   },
   {
    "duration": 62,
    "start_time": "2022-12-27T10:29:29.963Z"
   },
   {
    "duration": 19,
    "start_time": "2022-12-27T10:29:30.027Z"
   },
   {
    "duration": 38,
    "start_time": "2022-12-27T10:29:30.048Z"
   },
   {
    "duration": 15,
    "start_time": "2022-12-27T10:29:30.088Z"
   },
   {
    "duration": 70,
    "start_time": "2022-12-27T10:29:30.105Z"
   },
   {
    "duration": 220,
    "start_time": "2022-12-27T10:29:30.177Z"
   },
   {
    "duration": 199,
    "start_time": "2022-12-27T10:29:30.400Z"
   },
   {
    "duration": 4,
    "start_time": "2022-12-27T10:29:30.601Z"
   },
   {
    "duration": 122,
    "start_time": "2022-12-27T10:29:30.606Z"
   },
   {
    "duration": 28,
    "start_time": "2022-12-27T10:29:30.729Z"
   },
   {
    "duration": 36,
    "start_time": "2022-12-27T10:29:30.759Z"
   },
   {
    "duration": 23,
    "start_time": "2022-12-27T10:29:30.796Z"
   },
   {
    "duration": 26,
    "start_time": "2022-12-27T10:29:30.820Z"
   },
   {
    "duration": 1147,
    "start_time": "2022-12-27T10:29:30.847Z"
   },
   {
    "duration": 1079,
    "start_time": "2022-12-27T10:29:31.998Z"
   },
   {
    "duration": 1067,
    "start_time": "2022-12-27T10:29:33.080Z"
   },
   {
    "duration": 4917,
    "start_time": "2022-12-28T14:11:40.418Z"
   },
   {
    "duration": 904,
    "start_time": "2022-12-28T14:11:45.337Z"
   },
   {
    "duration": 5,
    "start_time": "2022-12-28T14:11:46.243Z"
   },
   {
    "duration": 474,
    "start_time": "2022-12-28T14:11:46.250Z"
   },
   {
    "duration": 354,
    "start_time": "2022-12-28T14:11:46.726Z"
   },
   {
    "duration": 408,
    "start_time": "2022-12-28T14:11:47.081Z"
   },
   {
    "duration": 58,
    "start_time": "2022-12-28T14:11:47.491Z"
   },
   {
    "duration": 20,
    "start_time": "2022-12-28T14:11:47.551Z"
   },
   {
    "duration": 47,
    "start_time": "2022-12-28T14:11:47.573Z"
   },
   {
    "duration": 48,
    "start_time": "2022-12-28T14:11:47.623Z"
   },
   {
    "duration": 38,
    "start_time": "2022-12-28T14:11:47.673Z"
   },
   {
    "duration": 32,
    "start_time": "2022-12-28T14:11:47.713Z"
   },
   {
    "duration": 63,
    "start_time": "2022-12-28T14:11:47.747Z"
   },
   {
    "duration": 20,
    "start_time": "2022-12-28T14:11:47.812Z"
   },
   {
    "duration": 30,
    "start_time": "2022-12-28T14:11:47.834Z"
   },
   {
    "duration": 6,
    "start_time": "2022-12-28T14:11:47.866Z"
   },
   {
    "duration": 125,
    "start_time": "2022-12-28T14:11:47.874Z"
   },
   {
    "duration": 7,
    "start_time": "2022-12-28T14:12:03.078Z"
   },
   {
    "duration": 145,
    "start_time": "2022-12-28T14:12:03.487Z"
   },
   {
    "duration": 8,
    "start_time": "2022-12-28T14:12:12.142Z"
   },
   {
    "duration": 40,
    "start_time": "2022-12-28T14:12:12.370Z"
   },
   {
    "duration": 6,
    "start_time": "2022-12-28T14:12:29.825Z"
   },
   {
    "duration": 73,
    "start_time": "2022-12-28T14:12:30.328Z"
   },
   {
    "duration": 6,
    "start_time": "2022-12-28T14:12:36.281Z"
   },
   {
    "duration": 89,
    "start_time": "2022-12-28T14:12:36.508Z"
   },
   {
    "duration": 5,
    "start_time": "2022-12-28T14:14:16.795Z"
   },
   {
    "duration": 10,
    "start_time": "2022-12-28T14:14:17.714Z"
   },
   {
    "duration": 4,
    "start_time": "2022-12-28T14:14:21.292Z"
   },
   {
    "duration": 375,
    "start_time": "2022-12-28T14:14:21.303Z"
   },
   {
    "duration": 4,
    "start_time": "2022-12-28T14:14:21.680Z"
   },
   {
    "duration": 353,
    "start_time": "2022-12-28T14:14:21.686Z"
   },
   {
    "duration": 323,
    "start_time": "2022-12-28T14:14:22.041Z"
   },
   {
    "duration": 325,
    "start_time": "2022-12-28T14:14:22.366Z"
   },
   {
    "duration": 50,
    "start_time": "2022-12-28T14:14:22.692Z"
   },
   {
    "duration": 17,
    "start_time": "2022-12-28T14:14:22.744Z"
   },
   {
    "duration": 48,
    "start_time": "2022-12-28T14:14:22.762Z"
   },
   {
    "duration": 46,
    "start_time": "2022-12-28T14:14:22.813Z"
   },
   {
    "duration": 44,
    "start_time": "2022-12-28T14:14:22.861Z"
   },
   {
    "duration": 27,
    "start_time": "2022-12-28T14:14:22.906Z"
   },
   {
    "duration": 45,
    "start_time": "2022-12-28T14:14:22.934Z"
   },
   {
    "duration": 33,
    "start_time": "2022-12-28T14:14:22.980Z"
   },
   {
    "duration": 32,
    "start_time": "2022-12-28T14:14:23.018Z"
   },
   {
    "duration": 6,
    "start_time": "2022-12-28T14:14:23.051Z"
   },
   {
    "duration": 61,
    "start_time": "2022-12-28T14:14:23.058Z"
   },
   {
    "duration": 205,
    "start_time": "2022-12-28T14:14:23.121Z"
   },
   {
    "duration": 124,
    "start_time": "2022-12-28T14:14:23.397Z"
   },
   {
    "duration": 181,
    "start_time": "2022-12-28T14:14:23.523Z"
   },
   {
    "duration": 18,
    "start_time": "2022-12-28T14:14:23.705Z"
   },
   {
    "duration": 6,
    "start_time": "2022-12-28T14:14:23.725Z"
   },
   {
    "duration": 6,
    "start_time": "2022-12-28T14:14:23.732Z"
   },
   {
    "duration": 6,
    "start_time": "2022-12-28T14:14:23.740Z"
   },
   {
    "duration": 11,
    "start_time": "2022-12-28T14:14:23.750Z"
   },
   {
    "duration": 1690,
    "start_time": "2022-12-28T14:14:24.448Z"
   },
   {
    "duration": 3,
    "start_time": "2022-12-28T14:14:31.777Z"
   },
   {
    "duration": 2,
    "start_time": "2022-12-28T14:14:53.367Z"
   },
   {
    "duration": 9,
    "start_time": "2022-12-28T14:37:17.284Z"
   },
   {
    "duration": 68,
    "start_time": "2022-12-28T14:37:20.184Z"
   },
   {
    "duration": 1614,
    "start_time": "2022-12-28T14:37:27.233Z"
   },
   {
    "duration": 1799,
    "start_time": "2022-12-28T14:37:28.850Z"
   },
   {
    "duration": 4,
    "start_time": "2022-12-28T14:37:30.652Z"
   },
   {
    "duration": 385,
    "start_time": "2022-12-28T14:37:30.659Z"
   },
   {
    "duration": 340,
    "start_time": "2022-12-28T14:37:31.046Z"
   },
   {
    "duration": 443,
    "start_time": "2022-12-28T14:37:31.388Z"
   },
   {
    "duration": 60,
    "start_time": "2022-12-28T14:37:31.833Z"
   },
   {
    "duration": 23,
    "start_time": "2022-12-28T14:37:31.895Z"
   },
   {
    "duration": 62,
    "start_time": "2022-12-28T14:37:31.920Z"
   },
   {
    "duration": 66,
    "start_time": "2022-12-28T14:37:31.986Z"
   },
   {
    "duration": 31,
    "start_time": "2022-12-28T14:37:32.055Z"
   },
   {
    "duration": 37,
    "start_time": "2022-12-28T14:37:32.088Z"
   },
   {
    "duration": 74,
    "start_time": "2022-12-28T14:37:32.127Z"
   },
   {
    "duration": 25,
    "start_time": "2022-12-28T14:37:32.203Z"
   },
   {
    "duration": 46,
    "start_time": "2022-12-28T14:37:32.231Z"
   },
   {
    "duration": 8,
    "start_time": "2022-12-28T14:37:32.279Z"
   },
   {
    "duration": 162,
    "start_time": "2022-12-28T14:37:32.289Z"
   },
   {
    "duration": 199,
    "start_time": "2022-12-28T14:37:32.454Z"
   },
   {
    "duration": 124,
    "start_time": "2022-12-28T14:37:32.659Z"
   },
   {
    "duration": 3,
    "start_time": "2022-12-28T14:37:32.786Z"
   },
   {
    "duration": 100,
    "start_time": "2022-12-28T14:37:32.852Z"
   },
   {
    "duration": 7,
    "start_time": "2022-12-28T14:37:32.954Z"
   },
   {
    "duration": 11,
    "start_time": "2022-12-28T14:37:32.963Z"
   },
   {
    "duration": 9,
    "start_time": "2022-12-28T14:37:32.975Z"
   },
   {
    "duration": 7,
    "start_time": "2022-12-28T14:37:32.985Z"
   },
   {
    "duration": 1871,
    "start_time": "2022-12-28T14:37:32.995Z"
   },
   {
    "duration": 1860,
    "start_time": "2022-12-28T14:37:34.868Z"
   },
   {
    "duration": 1862,
    "start_time": "2022-12-28T14:37:36.731Z"
   },
   {
    "duration": 4,
    "start_time": "2022-12-28T14:38:31.481Z"
   },
   {
    "duration": 4,
    "start_time": "2022-12-28T14:38:33.851Z"
   },
   {
    "duration": 8,
    "start_time": "2022-12-28T14:38:35.485Z"
   },
   {
    "duration": 4237,
    "start_time": "2022-12-28T14:38:42.957Z"
   },
   {
    "duration": 4,
    "start_time": "2022-12-28T14:55:38.931Z"
   },
   {
    "duration": 3,
    "start_time": "2022-12-28T14:55:40.625Z"
   },
   {
    "duration": 5,
    "start_time": "2022-12-28T14:55:41.379Z"
   },
   {
    "duration": 4672,
    "start_time": "2022-12-28T14:55:44.370Z"
   },
   {
    "duration": 8,
    "start_time": "2022-12-28T15:07:16.137Z"
   },
   {
    "duration": 5,
    "start_time": "2022-12-28T15:07:50.389Z"
   },
   {
    "duration": 6817,
    "start_time": "2022-12-28T15:07:56.281Z"
   },
   {
    "duration": 4,
    "start_time": "2022-12-28T15:14:14.617Z"
   },
   {
    "duration": 4,
    "start_time": "2022-12-28T15:17:22.080Z"
   },
   {
    "duration": 4,
    "start_time": "2022-12-28T15:17:25.705Z"
   },
   {
    "duration": 6,
    "start_time": "2022-12-28T15:17:30.470Z"
   },
   {
    "duration": 1223,
    "start_time": "2022-12-28T15:17:35.470Z"
   },
   {
    "duration": 4,
    "start_time": "2022-12-28T15:18:05.894Z"
   },
   {
    "duration": 3,
    "start_time": "2022-12-28T15:18:26.277Z"
   },
   {
    "duration": 3,
    "start_time": "2022-12-28T15:18:29.521Z"
   },
   {
    "duration": 5,
    "start_time": "2022-12-28T15:18:30.921Z"
   },
   {
    "duration": 1252,
    "start_time": "2022-12-28T15:18:33.619Z"
   },
   {
    "duration": 1248,
    "start_time": "2022-12-28T15:18:37.077Z"
   },
   {
    "duration": 1391,
    "start_time": "2022-12-28T15:18:39.464Z"
   },
   {
    "duration": 3,
    "start_time": "2022-12-28T15:26:51.369Z"
   },
   {
    "duration": 3,
    "start_time": "2022-12-28T15:26:54.640Z"
   },
   {
    "duration": 5,
    "start_time": "2022-12-28T15:26:54.976Z"
   },
   {
    "duration": 1772,
    "start_time": "2022-12-28T15:26:56.372Z"
   },
   {
    "duration": 1841,
    "start_time": "2022-12-28T15:26:58.151Z"
   },
   {
    "duration": 1777,
    "start_time": "2022-12-28T15:26:59.994Z"
   },
   {
    "duration": 4,
    "start_time": "2022-12-28T15:29:04.381Z"
   },
   {
    "duration": 1458,
    "start_time": "2022-12-28T15:29:10.441Z"
   },
   {
    "duration": 409,
    "start_time": "2022-12-28T15:29:11.901Z"
   },
   {
    "duration": 5,
    "start_time": "2022-12-28T15:29:12.312Z"
   },
   {
    "duration": 391,
    "start_time": "2022-12-28T15:29:12.319Z"
   },
   {
    "duration": 336,
    "start_time": "2022-12-28T15:29:12.713Z"
   },
   {
    "duration": 394,
    "start_time": "2022-12-28T15:29:13.051Z"
   },
   {
    "duration": 53,
    "start_time": "2022-12-28T15:29:13.446Z"
   },
   {
    "duration": 19,
    "start_time": "2022-12-28T15:29:13.501Z"
   },
   {
    "duration": 50,
    "start_time": "2022-12-28T15:29:13.522Z"
   },
   {
    "duration": 46,
    "start_time": "2022-12-28T15:29:13.574Z"
   },
   {
    "duration": 30,
    "start_time": "2022-12-28T15:29:13.622Z"
   },
   {
    "duration": 30,
    "start_time": "2022-12-28T15:29:13.654Z"
   },
   {
    "duration": 67,
    "start_time": "2022-12-28T15:29:13.685Z"
   },
   {
    "duration": 19,
    "start_time": "2022-12-28T15:29:13.756Z"
   },
   {
    "duration": 29,
    "start_time": "2022-12-28T15:29:13.777Z"
   },
   {
    "duration": 6,
    "start_time": "2022-12-28T15:29:13.807Z"
   },
   {
    "duration": 139,
    "start_time": "2022-12-28T15:29:13.815Z"
   },
   {
    "duration": 197,
    "start_time": "2022-12-28T15:29:13.957Z"
   },
   {
    "duration": 197,
    "start_time": "2022-12-28T15:29:14.157Z"
   },
   {
    "duration": 93,
    "start_time": "2022-12-28T15:29:14.357Z"
   },
   {
    "duration": 6,
    "start_time": "2022-12-28T15:29:14.452Z"
   },
   {
    "duration": 6,
    "start_time": "2022-12-28T15:29:14.460Z"
   },
   {
    "duration": 9,
    "start_time": "2022-12-28T15:29:14.467Z"
   },
   {
    "duration": 6,
    "start_time": "2022-12-28T15:29:14.478Z"
   },
   {
    "duration": 6,
    "start_time": "2022-12-28T15:29:14.486Z"
   },
   {
    "duration": 7617,
    "start_time": "2022-12-28T15:29:14.494Z"
   },
   {
    "duration": 7776,
    "start_time": "2022-12-28T15:29:22.113Z"
   },
   {
    "duration": 7459,
    "start_time": "2022-12-28T15:29:29.892Z"
   },
   {
    "duration": 5,
    "start_time": "2022-12-28T15:31:31.593Z"
   },
   {
    "duration": 4,
    "start_time": "2022-12-28T15:31:33.182Z"
   },
   {
    "duration": 6,
    "start_time": "2022-12-28T15:31:34.182Z"
   },
   {
    "duration": 7717,
    "start_time": "2022-12-28T15:31:38.544Z"
   },
   {
    "duration": 1409,
    "start_time": "2022-12-28T15:35:35.353Z"
   },
   {
    "duration": 387,
    "start_time": "2022-12-28T15:35:36.764Z"
   },
   {
    "duration": 3,
    "start_time": "2022-12-28T15:35:37.153Z"
   },
   {
    "duration": 323,
    "start_time": "2022-12-28T15:35:37.158Z"
   },
   {
    "duration": 312,
    "start_time": "2022-12-28T15:35:37.483Z"
   },
   {
    "duration": 394,
    "start_time": "2022-12-28T15:35:37.796Z"
   },
   {
    "duration": 46,
    "start_time": "2022-12-28T15:35:38.192Z"
   },
   {
    "duration": 20,
    "start_time": "2022-12-28T15:35:38.250Z"
   },
   {
    "duration": 32,
    "start_time": "2022-12-28T15:35:38.271Z"
   },
   {
    "duration": 61,
    "start_time": "2022-12-28T15:35:38.305Z"
   },
   {
    "duration": 18,
    "start_time": "2022-12-28T15:35:38.367Z"
   },
   {
    "duration": 37,
    "start_time": "2022-12-28T15:35:38.387Z"
   },
   {
    "duration": 62,
    "start_time": "2022-12-28T15:35:38.425Z"
   },
   {
    "duration": 18,
    "start_time": "2022-12-28T15:35:38.490Z"
   },
   {
    "duration": 41,
    "start_time": "2022-12-28T15:35:38.510Z"
   },
   {
    "duration": 6,
    "start_time": "2022-12-28T15:35:38.552Z"
   },
   {
    "duration": 47,
    "start_time": "2022-12-28T15:35:38.560Z"
   },
   {
    "duration": 169,
    "start_time": "2022-12-28T15:35:38.609Z"
   },
   {
    "duration": 136,
    "start_time": "2022-12-28T15:35:38.853Z"
   },
   {
    "duration": 99,
    "start_time": "2022-12-28T15:35:39.052Z"
   },
   {
    "duration": 12,
    "start_time": "2022-12-28T15:35:39.153Z"
   },
   {
    "duration": 7,
    "start_time": "2022-12-28T15:35:39.167Z"
   },
   {
    "duration": 9,
    "start_time": "2022-12-28T15:35:39.176Z"
   },
   {
    "duration": 7,
    "start_time": "2022-12-28T15:35:39.187Z"
   },
   {
    "duration": 7,
    "start_time": "2022-12-28T15:35:39.196Z"
   },
   {
    "duration": 1723,
    "start_time": "2022-12-28T15:35:39.205Z"
   },
   {
    "duration": 1579,
    "start_time": "2022-12-28T15:35:40.929Z"
   },
   {
    "duration": 1549,
    "start_time": "2022-12-28T15:35:42.510Z"
   },
   {
    "duration": 1349,
    "start_time": "2022-12-28T15:36:20.117Z"
   },
   {
    "duration": 392,
    "start_time": "2022-12-28T15:36:21.468Z"
   },
   {
    "duration": 3,
    "start_time": "2022-12-28T15:36:21.862Z"
   },
   {
    "duration": 335,
    "start_time": "2022-12-28T15:36:21.867Z"
   },
   {
    "duration": 311,
    "start_time": "2022-12-28T15:36:22.204Z"
   },
   {
    "duration": 399,
    "start_time": "2022-12-28T15:36:22.517Z"
   },
   {
    "duration": 61,
    "start_time": "2022-12-28T15:36:22.918Z"
   },
   {
    "duration": 19,
    "start_time": "2022-12-28T15:36:22.980Z"
   },
   {
    "duration": 55,
    "start_time": "2022-12-28T15:36:23.000Z"
   },
   {
    "duration": 50,
    "start_time": "2022-12-28T15:36:23.058Z"
   },
   {
    "duration": 18,
    "start_time": "2022-12-28T15:36:23.110Z"
   },
   {
    "duration": 59,
    "start_time": "2022-12-28T15:36:23.130Z"
   },
   {
    "duration": 50,
    "start_time": "2022-12-28T15:36:23.190Z"
   },
   {
    "duration": 19,
    "start_time": "2022-12-28T15:36:23.242Z"
   },
   {
    "duration": 55,
    "start_time": "2022-12-28T15:36:23.263Z"
   },
   {
    "duration": 16,
    "start_time": "2022-12-28T15:36:23.320Z"
   },
   {
    "duration": 115,
    "start_time": "2022-12-28T15:36:23.337Z"
   },
   {
    "duration": 195,
    "start_time": "2022-12-28T15:36:23.456Z"
   },
   {
    "duration": 135,
    "start_time": "2022-12-28T15:36:23.653Z"
   },
   {
    "duration": 67,
    "start_time": "2022-12-28T15:36:23.790Z"
   },
   {
    "duration": 94,
    "start_time": "2022-12-28T15:36:23.860Z"
   },
   {
    "duration": 31,
    "start_time": "2022-12-28T15:36:23.955Z"
   },
   {
    "duration": 18,
    "start_time": "2022-12-28T15:36:23.987Z"
   },
   {
    "duration": 29,
    "start_time": "2022-12-28T15:36:24.006Z"
   },
   {
    "duration": 26,
    "start_time": "2022-12-28T15:36:24.037Z"
   },
   {
    "duration": 1159,
    "start_time": "2022-12-28T15:36:24.065Z"
   },
   {
    "duration": 1115,
    "start_time": "2022-12-28T15:36:25.225Z"
   },
   {
    "duration": 1120,
    "start_time": "2022-12-28T15:36:26.343Z"
   }
  ],
  "kernelspec": {
   "display_name": "Python 3 (ipykernel)",
   "language": "python",
   "name": "python3"
  },
  "language_info": {
   "codemirror_mode": {
    "name": "ipython",
    "version": 3
   },
   "file_extension": ".py",
   "mimetype": "text/x-python",
   "name": "python",
   "nbconvert_exporter": "python",
   "pygments_lexer": "ipython3",
   "version": "3.9.12"
  },
  "toc": {
   "base_numbering": 1,
   "nav_menu": {},
   "number_sections": true,
   "sideBar": true,
   "skip_h1_title": true,
   "title_cell": "Table of Contents",
   "title_sidebar": "Contents",
   "toc_cell": false,
   "toc_position": {},
   "toc_section_display": true,
   "toc_window_display": false
  }
 },
 "nbformat": 4,
 "nbformat_minor": 2
}
